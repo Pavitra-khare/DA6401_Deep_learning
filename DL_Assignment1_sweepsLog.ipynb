{
  "cells": [
    {
      "cell_type": "markdown",
      "metadata": {
        "id": "view-in-github",
        "colab_type": "text"
      },
      "source": [
        "<a href=\"https://colab.research.google.com/github/Pavitra-khare/DA6401_Deep_learning/blob/main/DL_Assignment1_(3).ipynb\" target=\"_parent\"><img src=\"https://colab.research.google.com/assets/colab-badge.svg\" alt=\"Open In Colab\"/></a>"
      ]
    },
    {
      "cell_type": "code",
      "execution_count": null,
      "metadata": {
        "colab": {
          "base_uri": "https://localhost:8080/"
        },
        "id": "xo8cqH5AZtpw",
        "outputId": "37208cf1-865c-4b28-937e-439422599a01"
      },
      "outputs": [
        {
          "name": "stdout",
          "output_type": "stream",
          "text": [
            "Collecting wandb\n",
            "  Downloading wandb-0.16.4-py3-none-any.whl (2.2 MB)\n",
            "\u001b[2K     \u001b[90m━━━━━━━━━━━━━━━━━━━━━━━━━━━━━━━━━━━━━━━━\u001b[0m \u001b[32m2.2/2.2 MB\u001b[0m \u001b[31m8.7 MB/s\u001b[0m eta \u001b[36m0:00:00\u001b[0m\n",
            "\u001b[?25hRequirement already satisfied: Click!=8.0.0,>=7.1 in /usr/local/lib/python3.10/dist-packages (from wandb) (8.1.7)\n",
            "Collecting GitPython!=3.1.29,>=1.0.0 (from wandb)\n",
            "  Downloading GitPython-3.1.42-py3-none-any.whl (195 kB)\n",
            "\u001b[2K     \u001b[90m━━━━━━━━━━━━━━━━━━━━━━━━━━━━━━━━━━━━━━━━\u001b[0m \u001b[32m195.4/195.4 kB\u001b[0m \u001b[31m21.9 MB/s\u001b[0m eta \u001b[36m0:00:00\u001b[0m\n",
            "\u001b[?25hRequirement already satisfied: requests<3,>=2.0.0 in /usr/local/lib/python3.10/dist-packages (from wandb) (2.31.0)\n",
            "Requirement already satisfied: psutil>=5.0.0 in /usr/local/lib/python3.10/dist-packages (from wandb) (5.9.5)\n",
            "Collecting sentry-sdk>=1.0.0 (from wandb)\n",
            "  Downloading sentry_sdk-1.42.0-py2.py3-none-any.whl (263 kB)\n",
            "\u001b[2K     \u001b[90m━━━━━━━━━━━━━━━━━━━━━━━━━━━━━━━━━━━━━━━━\u001b[0m \u001b[32m263.5/263.5 kB\u001b[0m \u001b[31m21.2 MB/s\u001b[0m eta \u001b[36m0:00:00\u001b[0m\n",
            "\u001b[?25hCollecting docker-pycreds>=0.4.0 (from wandb)\n",
            "  Downloading docker_pycreds-0.4.0-py2.py3-none-any.whl (9.0 kB)\n",
            "Requirement already satisfied: PyYAML in /usr/local/lib/python3.10/dist-packages (from wandb) (6.0.1)\n",
            "Collecting setproctitle (from wandb)\n",
            "  Downloading setproctitle-1.3.3-cp310-cp310-manylinux_2_5_x86_64.manylinux1_x86_64.manylinux_2_17_x86_64.manylinux2014_x86_64.whl (30 kB)\n",
            "Requirement already satisfied: setuptools in /usr/local/lib/python3.10/dist-packages (from wandb) (67.7.2)\n",
            "Requirement already satisfied: appdirs>=1.4.3 in /usr/local/lib/python3.10/dist-packages (from wandb) (1.4.4)\n",
            "Requirement already satisfied: protobuf!=4.21.0,<5,>=3.19.0 in /usr/local/lib/python3.10/dist-packages (from wandb) (3.20.3)\n",
            "Requirement already satisfied: six>=1.4.0 in /usr/local/lib/python3.10/dist-packages (from docker-pycreds>=0.4.0->wandb) (1.16.0)\n",
            "Collecting gitdb<5,>=4.0.1 (from GitPython!=3.1.29,>=1.0.0->wandb)\n",
            "  Downloading gitdb-4.0.11-py3-none-any.whl (62 kB)\n",
            "\u001b[2K     \u001b[90m━━━━━━━━━━━━━━━━━━━━━━━━━━━━━━━━━━━━━━━━\u001b[0m \u001b[32m62.7/62.7 kB\u001b[0m \u001b[31m6.5 MB/s\u001b[0m eta \u001b[36m0:00:00\u001b[0m\n",
            "\u001b[?25hRequirement already satisfied: charset-normalizer<4,>=2 in /usr/local/lib/python3.10/dist-packages (from requests<3,>=2.0.0->wandb) (3.3.2)\n",
            "Requirement already satisfied: idna<4,>=2.5 in /usr/local/lib/python3.10/dist-packages (from requests<3,>=2.0.0->wandb) (3.6)\n",
            "Requirement already satisfied: urllib3<3,>=1.21.1 in /usr/local/lib/python3.10/dist-packages (from requests<3,>=2.0.0->wandb) (2.0.7)\n",
            "Requirement already satisfied: certifi>=2017.4.17 in /usr/local/lib/python3.10/dist-packages (from requests<3,>=2.0.0->wandb) (2024.2.2)\n",
            "Collecting smmap<6,>=3.0.1 (from gitdb<5,>=4.0.1->GitPython!=3.1.29,>=1.0.0->wandb)\n",
            "  Downloading smmap-5.0.1-py3-none-any.whl (24 kB)\n",
            "Installing collected packages: smmap, setproctitle, sentry-sdk, docker-pycreds, gitdb, GitPython, wandb\n",
            "Successfully installed GitPython-3.1.42 docker-pycreds-0.4.0 gitdb-4.0.11 sentry-sdk-1.42.0 setproctitle-1.3.3 smmap-5.0.1 wandb-0.16.4\n"
          ]
        }
      ],
      "source": [
        "!pip install wandb"
      ]
    },
    {
      "cell_type": "code",
      "execution_count": null,
      "metadata": {
        "colab": {
          "base_uri": "https://localhost:8080/"
        },
        "id": "IPqGqpf8ZyTJ",
        "outputId": "62108551-b34d-4713-d6b7-c46194e8265c"
      },
      "outputs": [
        {
          "name": "stdout",
          "output_type": "stream",
          "text": [
            "\u001b[34m\u001b[1mwandb\u001b[0m: Logging into wandb.ai. (Learn how to deploy a W&B server locally: https://wandb.me/wandb-server)\n",
            "\u001b[34m\u001b[1mwandb\u001b[0m: You can find your API key in your browser here: https://wandb.ai/authorize\n",
            "\u001b[34m\u001b[1mwandb\u001b[0m: Paste an API key from your profile and hit enter, or press ctrl+c to quit: \n",
            "\u001b[34m\u001b[1mwandb\u001b[0m: No netrc file found, creating one.\n",
            "\u001b[34m\u001b[1mwandb\u001b[0m: Appending key for api.wandb.ai to your netrc file: /root/.netrc\n",
            "\u001b[34m\u001b[1mwandb\u001b[0m: Currently logged in as: \u001b[33m3628-pavitrakhare\u001b[0m (\u001b[33m3628-pavitrakhare-indian-institute-of-technology-madras\u001b[0m) to \u001b[32mhttps://api.wandb.ai\u001b[0m. Use \u001b[1m`wandb login --relogin`\u001b[0m to force relogin\n"
          ]
        }
      ],
      "source": [
        "!wandb login"
      ]
    },
    {
      "cell_type": "code",
      "execution_count": 2,
      "metadata": {
        "colab": {
          "base_uri": "https://localhost:8080/",
          "height": 1000
        },
        "id": "YTwbwB2PRtv5",
        "outputId": "6befcf25-1b67-4980-f15b-bfcae740ad76"
      },
      "outputs": [
        {
          "output_type": "stream",
          "name": "stderr",
          "text": [
            "\u001b[34m\u001b[1mwandb\u001b[0m: Using wandb-core as the SDK backend.  Please refer to https://wandb.me/wandb-core for more information.\n"
          ]
        },
        {
          "output_type": "display_data",
          "data": {
            "text/plain": [
              "<IPython.core.display.Javascript object>"
            ],
            "application/javascript": [
              "\n",
              "        window._wandbApiKey = new Promise((resolve, reject) => {\n",
              "            function loadScript(url) {\n",
              "            return new Promise(function(resolve, reject) {\n",
              "                let newScript = document.createElement(\"script\");\n",
              "                newScript.onerror = reject;\n",
              "                newScript.onload = resolve;\n",
              "                document.body.appendChild(newScript);\n",
              "                newScript.src = url;\n",
              "            });\n",
              "            }\n",
              "            loadScript(\"https://cdn.jsdelivr.net/npm/postmate/build/postmate.min.js\").then(() => {\n",
              "            const iframe = document.createElement('iframe')\n",
              "            iframe.style.cssText = \"width:0;height:0;border:none\"\n",
              "            document.body.appendChild(iframe)\n",
              "            const handshake = new Postmate({\n",
              "                container: iframe,\n",
              "                url: 'https://wandb.ai/authorize'\n",
              "            });\n",
              "            const timeout = setTimeout(() => reject(\"Couldn't auto authenticate\"), 5000)\n",
              "            handshake.then(function(child) {\n",
              "                child.on('authorize', data => {\n",
              "                    clearTimeout(timeout)\n",
              "                    resolve(data)\n",
              "                });\n",
              "            });\n",
              "            })\n",
              "        });\n",
              "    "
            ]
          },
          "metadata": {}
        },
        {
          "output_type": "stream",
          "name": "stderr",
          "text": [
            "\u001b[34m\u001b[1mwandb\u001b[0m: Logging into wandb.ai. (Learn how to deploy a W&B server locally: https://wandb.me/wandb-server)\n",
            "\u001b[34m\u001b[1mwandb\u001b[0m: You can find your API key in your browser here: https://wandb.ai/authorize\n",
            "wandb: Paste an API key from your profile and hit enter:"
          ]
        },
        {
          "name": "stdout",
          "output_type": "stream",
          "text": [
            " ··········\n"
          ]
        },
        {
          "output_type": "stream",
          "name": "stderr",
          "text": [
            "\u001b[34m\u001b[1mwandb\u001b[0m: \u001b[33mWARNING\u001b[0m If you're specifying your api key in code, ensure this code is not shared publicly.\n",
            "\u001b[34m\u001b[1mwandb\u001b[0m: \u001b[33mWARNING\u001b[0m Consider setting the WANDB_API_KEY environment variable, or running `wandb login` from the command line.\n",
            "\u001b[34m\u001b[1mwandb\u001b[0m: No netrc file found, creating one.\n",
            "\u001b[34m\u001b[1mwandb\u001b[0m: Appending key for api.wandb.ai to your netrc file: /root/.netrc\n",
            "\u001b[34m\u001b[1mwandb\u001b[0m: Currently logged in as: \u001b[33m3628-pavitrakhare\u001b[0m (\u001b[33m3628-pavitrakhare-indian-institute-of-technology-madras\u001b[0m) to \u001b[32mhttps://api.wandb.ai\u001b[0m. Use \u001b[1m`wandb login --relogin`\u001b[0m to force relogin\n"
          ]
        },
        {
          "output_type": "display_data",
          "data": {
            "text/plain": [
              "<IPython.core.display.HTML object>"
            ],
            "text/html": [
              "Tracking run with wandb version 0.19.7"
            ]
          },
          "metadata": {}
        },
        {
          "output_type": "display_data",
          "data": {
            "text/plain": [
              "<IPython.core.display.HTML object>"
            ],
            "text/html": [
              "Run data is saved locally in <code>/content/wandb/run-20250309_204123-m1lz2e76</code>"
            ]
          },
          "metadata": {}
        },
        {
          "output_type": "display_data",
          "data": {
            "text/plain": [
              "<IPython.core.display.HTML object>"
            ],
            "text/html": [
              "Syncing run <strong><a href='https://wandb.ai/3628-pavitrakhare-indian-institute-of-technology-madras/DA6401_ASS-practice/runs/m1lz2e76' target=\"_blank\">light-darkness-151</a></strong> to <a href='https://wandb.ai/3628-pavitrakhare-indian-institute-of-technology-madras/DA6401_ASS-practice' target=\"_blank\">Weights & Biases</a> (<a href='https://wandb.me/developer-guide' target=\"_blank\">docs</a>)<br>"
            ]
          },
          "metadata": {}
        },
        {
          "output_type": "display_data",
          "data": {
            "text/plain": [
              "<IPython.core.display.HTML object>"
            ],
            "text/html": [
              " View project at <a href='https://wandb.ai/3628-pavitrakhare-indian-institute-of-technology-madras/DA6401_ASS-practice' target=\"_blank\">https://wandb.ai/3628-pavitrakhare-indian-institute-of-technology-madras/DA6401_ASS-practice</a>"
            ]
          },
          "metadata": {}
        },
        {
          "output_type": "display_data",
          "data": {
            "text/plain": [
              "<IPython.core.display.HTML object>"
            ],
            "text/html": [
              " View run at <a href='https://wandb.ai/3628-pavitrakhare-indian-institute-of-technology-madras/DA6401_ASS-practice/runs/m1lz2e76' target=\"_blank\">https://wandb.ai/3628-pavitrakhare-indian-institute-of-technology-madras/DA6401_ASS-practice/runs/m1lz2e76</a>"
            ]
          },
          "metadata": {}
        },
        {
          "output_type": "stream",
          "name": "stdout",
          "text": [
            "Downloading data from https://storage.googleapis.com/tensorflow/tf-keras-datasets/train-labels-idx1-ubyte.gz\n",
            "\u001b[1m29515/29515\u001b[0m \u001b[32m━━━━━━━━━━━━━━━━━━━━\u001b[0m\u001b[37m\u001b[0m \u001b[1m0s\u001b[0m 0us/step\n",
            "Downloading data from https://storage.googleapis.com/tensorflow/tf-keras-datasets/train-images-idx3-ubyte.gz\n",
            "\u001b[1m26421880/26421880\u001b[0m \u001b[32m━━━━━━━━━━━━━━━━━━━━\u001b[0m\u001b[37m\u001b[0m \u001b[1m2s\u001b[0m 0us/step\n",
            "Downloading data from https://storage.googleapis.com/tensorflow/tf-keras-datasets/t10k-labels-idx1-ubyte.gz\n",
            "\u001b[1m5148/5148\u001b[0m \u001b[32m━━━━━━━━━━━━━━━━━━━━\u001b[0m\u001b[37m\u001b[0m \u001b[1m0s\u001b[0m 0us/step\n",
            "Downloading data from https://storage.googleapis.com/tensorflow/tf-keras-datasets/t10k-images-idx3-ubyte.gz\n",
            "\u001b[1m4422102/4422102\u001b[0m \u001b[32m━━━━━━━━━━━━━━━━━━━━\u001b[0m\u001b[37m\u001b[0m \u001b[1m1s\u001b[0m 0us/step\n"
          ]
        },
        {
          "output_type": "display_data",
          "data": {
            "text/plain": [
              "<Figure size 1200x500 with 10 Axes>"
            ],
            "image/png": "[encoded data removed]"
          },
          "metadata": {}
        },
        {
          "output_type": "display_data",
          "data": {
            "text/plain": [
              "<IPython.core.display.HTML object>"
            ],
            "text/html": []
          },
          "metadata": {}
        },
        {
          "output_type": "display_data",
          "data": {
            "text/plain": [
              "<IPython.core.display.HTML object>"
            ],
            "text/html": [
              " View run <strong style=\"color:#cdcd00\">light-darkness-151</strong> at: <a href='https://wandb.ai/3628-pavitrakhare-indian-institute-of-technology-madras/DA6401_ASS-practice/runs/m1lz2e76' target=\"_blank\">https://wandb.ai/3628-pavitrakhare-indian-institute-of-technology-madras/DA6401_ASS-practice/runs/m1lz2e76</a><br> View project at: <a href='https://wandb.ai/3628-pavitrakhare-indian-institute-of-technology-madras/DA6401_ASS-practice' target=\"_blank\">https://wandb.ai/3628-pavitrakhare-indian-institute-of-technology-madras/DA6401_ASS-practice</a><br>Synced 5 W&B file(s), 1 media file(s), 0 artifact file(s) and 0 other file(s)"
            ]
          },
          "metadata": {}
        },
        {
          "output_type": "display_data",
          "data": {
            "text/plain": [
              "<IPython.core.display.HTML object>"
            ],
            "text/html": [
              "Find logs at: <code>./wandb/run-20250309_204123-m1lz2e76/logs</code>"
            ]
          },
          "metadata": {}
        }
      ],
      "source": [
        "import os\n",
        "import wandb\n",
        "import matplotlib.pyplot as plt\n",
        "from keras.datasets import fashion_mnist\n",
        "\n",
        "# Initialize Weights & Biases (W&B) for experiment tracking\n",
        "wandb.init(project=\"DA6401_ASS-practice\")\n",
        "\n",
        "# Load the Fashion MNIST dataset\n",
        "(train_images, train_labels), (test_images, test_labels) = fashion_mnist.load_data()\n",
        "\n",
        "# Define class names for Fashion MNIST\n",
        "def get_class_names():\n",
        "    return [\n",
        "        'T-shirt/top', 'Trouser', 'Pullover', 'Dress', 'Coat',\n",
        "        'Sandal', 'Shirt', 'Sneaker', 'Bag', 'Ankle boot'\n",
        "    ]\n",
        "\n",
        "# Select one sample image for each class\n",
        "def select_sample_images(images, labels, class_names):\n",
        "    chosen_images = []\n",
        "    seen_labels = set()\n",
        "    for idx, lbl in enumerate(labels):\n",
        "        if lbl not in seen_labels:\n",
        "            chosen_images.append((images[idx], class_names[lbl]))\n",
        "            seen_labels.add(lbl)\n",
        "        if len(chosen_images) == len(class_names):\n",
        "            break\n",
        "    return chosen_images\n",
        "\n",
        "# Plot sample images\n",
        "def plot_sample_images(sample_images):\n",
        "    fig, axes = plt.subplots(2, 5, figsize=(12, 5))\n",
        "    fig.suptitle(\"Sample Images from Fashion MNIST\", fontsize=16)\n",
        "\n",
        "    for ax, (image, label) in zip(axes.flatten(), sample_images):\n",
        "        ax.imshow(image, cmap='gray')\n",
        "        ax.set_title(label)\n",
        "        ax.axis('off')\n",
        "\n",
        "    plt.tight_layout()\n",
        "    plt.show()\n",
        "    return fig\n",
        "\n",
        "# Main Execution\n",
        "class_names = get_class_names()\n",
        "sample_images = select_sample_images(train_images, train_labels, class_names)\n",
        "fig = plot_sample_images(sample_images)\n",
        "\n",
        "# Log the figure to W&B\n",
        "wandb.log({\"Sample MNIST Images\": fig})\n",
        "wandb.finish()"
      ]
    },
    {
      "cell_type": "markdown",
      "metadata": {
        "id": "jkw3JSs2Er1A"
      },
      "source": [
        "# ACTIVATION FUNCTION"
      ]
    },
    {
      "cell_type": "code",
      "execution_count": 19,
      "metadata": {
        "id": "AsUqQNWJEr1B"
      },
      "outputs": [],
      "source": [
        "import numpy as np\n",
        "\n",
        "def sigmoid_activation(val):\n",
        "    \"\"\"Computes the sigmoid activation function.\"\"\"\n",
        "    return 1.0 / (1.0 + np.exp(-val))\n",
        "\n",
        "def tanh_activation(val):\n",
        "    \"\"\"Computes the hyperbolic tangent (tanh) activation function.\"\"\"\n",
        "    return np.tanh(val)\n",
        "\n",
        "def relu_activation(val):\n",
        "    \"\"\"Computes the ReLU (Rectified Linear Unit) activation function.\"\"\"\n",
        "    return np.maximum(0, val)\n",
        "\n",
        "def softmax_activation(val):\n",
        "    \"\"\"Computes the softmax activation function with numerical stability.\"\"\"\n",
        "    shifted_val = val - np.max(val, axis=1, keepdims=True)\n",
        "    exp_vals = np.exp(shifted_val)\n",
        "    return exp_vals / np.sum(exp_vals, axis=1, keepdims=True)\n",
        "\n",
        "def compute_cross_entropy(predicted, actual):\n",
        "    \"\"\"Computes the cross-entropy loss.\"\"\"\n",
        "    epsilon = 1e-9  # Avoid log(0) errors\n",
        "    return -np.mean(np.sum(actual * np.log(predicted + epsilon), axis=1))\n",
        "\n",
        "def compute_mse(predicted, actual):\n",
        "    \"\"\"Computes the mean squared error loss.\"\"\"\n",
        "    return np.mean((actual - predicted) ** 2)\n",
        "\n",
        "def apply_activation(val, activation_type=\"sigmoid\"):\n",
        "    \"\"\"Applies the selected activation function.\"\"\"\n",
        "    activation_map = {\n",
        "        \"relu\": relu_activation,\n",
        "        \"sigmoid\": sigmoid_activation,\n",
        "        \"tanh\": tanh_activation,\n",
        "        \"softmax\": softmax_activation\n",
        "    }\n",
        "    return activation_map.get(activation_type, lambda val: \"error\")(val)\n",
        "\n",
        "def activation_gradient(val, activation_type=\"sigmoid\"):\n",
        "    \"\"\"Computes the derivative of the selected activation function.\"\"\"\n",
        "    gradient_map = {\n",
        "        \"relu\": lambda val: np.where(val > 0, 1, 0),\n",
        "        \"tanh\": lambda val: 1.0 - np.tanh(val) ** 2,\n",
        "        \"sigmoid\": lambda val: sigmoid_activation(val) * (1 - sigmoid_activation(val))\n",
        "    }\n",
        "    return gradient_map.get(activation_type, lambda val: \"error\")(val)\n"
      ]
    },
    {
      "cell_type": "markdown",
      "metadata": {
        "id": "f0rmchKtEr1C"
      },
      "source": [
        "# Question-2 Forward Propogation"
      ]
    },
    {
      "cell_type": "code",
      "execution_count": null,
      "metadata": {
        "colab": {
          "base_uri": "https://localhost:8080/"
        },
        "id": "zu0HlCCuv8-6",
        "outputId": "3fbb0d02-cc1a-4f10-ba05-2303af42f92c"
      },
      "outputs": [
        {
          "output_type": "stream",
          "name": "stdout",
          "text": [
            "\u001b[34m\u001b[1mwandb\u001b[0m: Logging into wandb.ai. (Learn how to deploy a W&B server locally: https://wandb.me/wandb-server)\n",
            "\u001b[34m\u001b[1mwandb\u001b[0m: You can find your API key in your browser here: https://wandb.ai/authorize\n",
            "\u001b[34m\u001b[1mwandb\u001b[0m: Paste an API key from your profile and hit enter, or press ctrl+c to quit: \n",
            "\u001b[34m\u001b[1mwandb\u001b[0m: No netrc file found, creating one.\n",
            "\u001b[34m\u001b[1mwandb\u001b[0m: Appending key for api.wandb.ai to your netrc file: /root/.netrc\n",
            "\u001b[34m\u001b[1mwandb\u001b[0m: Currently logged in as: \u001b[33m3628-pavitrakhare\u001b[0m (\u001b[33m3628-pavitrakhare-indian-institute-of-technology-madras\u001b[0m) to \u001b[32mhttps://api.wandb.ai\u001b[0m. Use \u001b[1m`wandb login --relogin`\u001b[0m to force relogin\n"
          ]
        }
      ],
      "source": [
        "!wandb login"
      ]
    },
    {
      "cell_type": "code",
      "execution_count": 20,
      "metadata": {
        "id": "woM9oY91yNp3"
      },
      "outputs": [],
      "source": [
        "import os\n",
        "import numpy as np\n",
        "from keras.datasets import fashion_mnist\n",
        "from keras.datasets import mnist\n",
        "from sklearn.model_selection import train_test_split\n",
        "import wandb\n",
        "\n",
        "epochs_count = 10\n",
        "batch_size = 30\n",
        "loss_fn = 'cross_entropy'\n",
        "optimizer_type = 'nadam'\n",
        "learning_rate = 1e-3\n",
        "dataset_choice = 'fashion_mnist'\n",
        "\n",
        "momentum_beta = 0.9\n",
        "rmsprop_decay = 0.9\n",
        "adam_beta1 = 0.9\n",
        "adam_beta2 = 0.999\n",
        "epsilon_value = 1e-3\n",
        "weight_decay = 0\n",
        "weight_init = 'Xavier'\n",
        "num_hidden_layers = 3\n",
        "hidden_layer_units = 128\n",
        "activation_fn = 'relu'\n",
        "\n",
        "# Constants\n",
        "LAYER_INPUT = 'input_dim'\n",
        "LAYER_OUTPUT = 'output_dim'\n",
        "ACTIVATION_TYPE = \"activation\"\n"
      ]
    },
    {
      "cell_type": "code",
      "execution_count": 27,
      "metadata": {
        "id": "dg-rVgsqyPTz"
      },
      "outputs": [],
      "source": [
        "import numpy as np\n",
        "from keras.datasets import fashion_mnist, mnist\n",
        "from sklearn.model_selection import train_test_split\n",
        "\n",
        "def one_hot_encode(labels):\n",
        "\n",
        "    num_samples = len(labels)\n",
        "    num_classes = max(labels) + 1\n",
        "    encoded_matrix = np.zeros((num_samples, num_classes))\n",
        "\n",
        "    for idx, label in enumerate(labels):\n",
        "        encoded_matrix[idx][label] = 1\n",
        "\n",
        "    return encoded_matrix\n",
        "\n",
        "# Load the dataset based on the selected option\n",
        "# if dataset_choice == 'fashion_mnist':\n",
        "(train_images, train_labels), (test_images, test_labels) = fashion_mnist.load_data()\n",
        "# elif dataset_choice == 'mnist':\n",
        "#     (train_images, train_labels), (test_images, test_labels) = mnist.load_data()\n",
        "# else:\n",
        "#     raise ValueError(\"Invalid dataset choice! Choose 'fashion_mnist' or 'mnist'.\")\n",
        "\n",
        "# Normalize pixel values to range [0,1]\n",
        "train_images, test_images = train_images / 255.0, test_images / 255.0\n",
        "\n",
        "train_labels_needed, test_labels_needed = train_labels, test_labels\n",
        "\n",
        "# Split dataset into training and validation sets\n",
        "train_features, val_features, train_targets, val_targets = train_test_split(train_images, train_labels, test_size=0.1, random_state=40)\n",
        "\n",
        "# Reshape images into 1D feature vectors\n",
        "train_features = train_features.reshape(train_features.shape[0], -1)\n",
        "test_features = test_images.reshape(test_images.shape[0], -1)\n",
        "val_features = val_features.reshape(val_features.shape[0], -1)\n",
        "\n",
        "# Adjust dataset size to be multiples of batch_size\n",
        "batch_multiple = 128\n",
        "train_features, test_features, val_features = (arr[:(len(arr) // batch_multiple) * batch_multiple] for arr in [train_features, test_features, val_features])\n",
        "train_targets, test_labels, val_targets = (arr[:(len(arr) // batch_multiple) * batch_multiple] for arr in [train_targets, test_labels, val_targets])\n",
        "\n",
        "# Convert class labels into one-hot encoded format\n",
        "train_targets = one_hot_encode(train_targets)\n",
        "test_targets = one_hot_encode(test_labels)\n",
        "vali_targets = one_hot_encode(val_targets)\n",
        "\n",
        "# Determine input and output layer sizes\n",
        "input_dim = train_features.shape[1]\n",
        "output_dim = train_targets.shape[1]\n"
      ]
    },
    {
      "cell_type": "code",
      "execution_count": 22,
      "metadata": {
        "id": "4seIE9KVyYtS"
      },
      "outputs": [],
      "source": [
        "def init_weights_biases(network_structure, num_hidden_layers=1, initialization_method='random'):\n",
        "    \"\"\"\n",
        "    Initializes weight matrices and bias vectors for each layer in the neural network.\n",
        "\n",
        "    Parameters:\n",
        "    - network_structure: List containing dictionaries with input/output dimensions.\n",
        "    - num_hidden_layers: Number of hidden layers in the network.\n",
        "    - initialization_method: Method for weight initialization ('random' or 'Xavier').\n",
        "\n",
        "    Returns:\n",
        "    - weight_params: Dictionary containing weight matrices for each layer.\n",
        "    - bias_params: Dictionary containing bias vectors for each layer.\n",
        "    \"\"\"\n",
        "\n",
        "    weight_params, bias_params = {}, {}\n",
        "    for layer_idx in range(num_hidden_layers + 1):\n",
        "        input_dim = network_structure[layer_idx][\"input_dim\"]\n",
        "        output_dim = network_structure[layer_idx][\"output_dim\"]\n",
        "\n",
        "        if initialization_method == 'random':\n",
        "            weight_params[f'W{layer_idx+1}'] = np.random.normal(0, 0.5, (output_dim, input_dim))\n",
        "            bias_params[f'b{layer_idx+1}'] = np.random.normal(0, 0.5, (output_dim, 1))\n",
        "        else:  # Xavier Initialization\n",
        "            limit_range = np.sqrt(6 / (input_dim + output_dim))\n",
        "            weight_params[f'W{layer_idx+1}'] = np.random.uniform(-limit_range, limit_range, (output_dim, input_dim))\n",
        "            bias_params[f'b{layer_idx+1}'] = np.random.uniform(-limit_range, limit_range, (output_dim, 1))\n",
        "\n",
        "    return weight_params, bias_params\n"
      ]
    },
    {
      "cell_type": "code",
      "execution_count": 23,
      "metadata": {
        "id": "V9O4fxVCyj1k"
      },
      "outputs": [],
      "source": [
        "def compute_train_accuracy(actual_batches, predicted_batches, total_samples):\n",
        "    \"\"\"\n",
        "    Computes training accuracy by comparing predicted labels with actual labels.\n",
        "\n",
        "    Parameters:\n",
        "    - actual_batches: List of actual labels in batches (one-hot encoded).\n",
        "    - predicted_batches: List of predicted probability distributions.\n",
        "    - total_samples: Total number of training samples.\n",
        "\n",
        "    Returns:\n",
        "    - Training accuracy as a fraction.\n",
        "    \"\"\"\n",
        "\n",
        "    match_count = sum(\n",
        "        np.argmax(actual_sample) == np.argmax(predicted_sample)\n",
        "        for batch_actual, batch_pred in zip(actual_batches, predicted_batches)\n",
        "        for actual_sample, predicted_sample in zip(batch_actual, batch_pred)\n",
        "    )\n",
        "\n",
        "    return match_count / total_samples\n",
        "\n"
      ]
    },
    {
      "cell_type": "code",
      "execution_count": 8,
      "metadata": {
        "id": "HtCKIfwDyojW"
      },
      "outputs": [],
      "source": [
        "def test_accuracy(testX, testy, weights, biases, number_hidden_layers, activation_function, output_function):\n",
        "\n",
        "    _, activations = propagate_forward(testX, weights, biases, number_hidden_layers, activation_function, output_function)\n",
        "    y_pred = activations[-1]  # Get final layer activations\n",
        "    y_predicted = np.argmax(y_pred, axis=1)  # Convert probabilities to class indices\n",
        "\n",
        "    # Convert testy to class indices if one-hot encoded\n",
        "    if testy.ndim > 1 and testy.shape[1] > 1:\n",
        "        testy = np.argmax(testy, axis=1)\n",
        "\n",
        "    # Ensure both lists are of the same length\n",
        "    min_len = min(len(y_predicted), len(testy))\n",
        "    return np.mean(y_predicted[:min_len] == testy[:min_len])\n"
      ]
    },
    {
      "cell_type": "code",
      "execution_count": 9,
      "metadata": {
        "id": "OQkX66WIysgN"
      },
      "outputs": [],
      "source": [
        "def calculate_regularizing_term(y, weight_decay_const, number_hidden_layers, weights):\n",
        "\n",
        "    total_weight_sum = sum(np.sum(weight ** 2) for weight in weights)\n",
        "    return (weight_decay_const / (2 * len(y))) * total_weight_sum\n"
      ]
    },
    {
      "cell_type": "code",
      "execution_count": 24,
      "metadata": {
        "id": "oUg8hjxWy3id"
      },
      "outputs": [],
      "source": [
        "def propagate_forward(data_input, weights, biases, num_hidden_layers, activation_type, output_type):\n",
        "    \"\"\"\n",
        "    Performs forward propagation through the neural network.\n",
        "\n",
        "    Parameters:\n",
        "    - data_input: Input feature matrix.\n",
        "    - weights: List of weight matrices for each layer.\n",
        "    - biases: List of bias vectors for each layer.\n",
        "    - num_hidden_layers: Number of hidden layers in the network.\n",
        "    - activation_type: Activation function for hidden layers.\n",
        "    - output_type: Activation function for the output layer.\n",
        "\n",
        "    Returns:\n",
        "    - activations: List of pre-activation values for each layer.\n",
        "    - outputs: List of activated values for each layer.\n",
        "    \"\"\"\n",
        "\n",
        "    activations, outputs = [], []\n",
        "\n",
        "    # Reshape input if necessary\n",
        "    data_input = data_input.reshape(len(data_input), -1)\n",
        "\n",
        "    # Compute activations for first hidden layer\n",
        "    first_layer_activation = np.dot(weights[0], data_input.T) + biases[0]\n",
        "    activations.append(first_layer_activation)\n",
        "    outputs.append(apply_activation(first_layer_activation, activation_type))\n",
        "\n",
        "    # Forward propagate through hidden layers\n",
        "    for layer in range(1, num_hidden_layers):\n",
        "        layer_act = np.dot(weights[layer], outputs[layer - 1]) + biases[layer]\n",
        "        activations.append(layer_act)\n",
        "        outputs.append(apply_activation(layer_act, activation_type))\n",
        "\n",
        "    # Compute activations for the output layer\n",
        "    final_activation = np.dot(weights[num_hidden_layers], outputs[-1]) + biases[num_hidden_layers]\n",
        "    network_output = apply_activation(final_activation.T, output_type).T\n",
        "    activations.append(final_activation)\n",
        "    outputs.append(network_output)\n",
        "\n",
        "    # Transpose activations for consistency\n",
        "    activations = [act.T for act in activations]\n",
        "    outputs = [out.T for out in outputs]\n",
        "\n",
        "    return activations, outputs\n",
        "\n",
        "\n",
        "\n"
      ]
    },
    {
      "cell_type": "code",
      "execution_count": 11,
      "metadata": {
        "id": "BmFElJbcy0Xm"
      },
      "outputs": [],
      "source": [
        "def val_loss(valX, valy, weights, biases, number_hidden_layers, activation_function, output_function, loss_function):\n",
        "\n",
        "\n",
        "\n",
        "    # Perform forward propagation\n",
        "    _, h = propagate_forward(valX, weights, biases, number_hidden_layers, activation_function, output_function)\n",
        "\n",
        "    # Retrieve the predicted values\n",
        "    y_pred = h[-1]\n",
        "\n",
        "    # Compute loss based on the chosen function\n",
        "    if loss_function == 'cross_entropy':\n",
        "        error = compute_cross_entropy(y_pred, valy)\n",
        "    elif loss_function == 'mean_squared_error':\n",
        "        error = compute_mse(y_pred, valy)\n",
        "    else:\n",
        "        raise ValueError(\"Invalid loss function. Choose 'cross_entropy' or 'mean_squared_error'.\")\n",
        "\n",
        "    return error\n"
      ]
    },
    {
      "cell_type": "code",
      "execution_count": 25,
      "metadata": {
        "id": "yVOz85vEy_cP"
      },
      "outputs": [],
      "source": [
        "import numpy as np\n",
        "\n",
        "def backward_propagation(batch_trainy, batch_trainX, y_hat, activations, hidden_states, weights, num_hidden_layers, derivative_function='sigmoid'):\n",
        "\n",
        "\n",
        "    weight_gradients, bias_gradients, activation_gradients, hidden_gradients = {}, {}, {}, {}\n",
        "\n",
        "    # Reshape batch_trainy to ensure correct dimensions\n",
        "    batch_trainy = batch_trainy.reshape(batch_trainy.shape[0], batch_trainy.shape[1])\n",
        "    wdc=0\n",
        "\n",
        "    epsilon = 1e-8  # Small value to prevent division errors\n",
        "    last_activation_key = f'a{num_hidden_layers + 1}'\n",
        "    last_hidden_key = f'h{num_hidden_layers + 1}'\n",
        "\n",
        "    activation_gradients[last_activation_key] = -(batch_trainy - y_hat)\n",
        "    hidden_gradients[last_hidden_key] = -(batch_trainy / (y_hat + epsilon))\n",
        "\n",
        "    num_samples = len(batch_trainX)\n",
        "\n",
        "    # Backpropagation from output layer to first hidden layer\n",
        "    for layer in range(num_hidden_layers + 1, 1, -1):\n",
        "        weight_key = f'W{layer}'\n",
        "        bias_key = f'b{layer}'\n",
        "        activation_key = f'a{layer}'\n",
        "        prev_activation_key = f'a{layer - 1}'\n",
        "        prev_hidden_key = f'h{layer - 1}'\n",
        "\n",
        "        # Compute weight gradient\n",
        "        weight_gradients[weight_key] = np.dot(activation_gradients[activation_key].T, hidden_states[layer - 2])\n",
        "\n",
        "        # Apply L2 regularization\n",
        "        weight_gradients[weight_key] += (wdc * weights[layer - 1])\n",
        "        weight_gradients[weight_key] /= num_samples\n",
        "\n",
        "        # Compute bias gradient\n",
        "        bias_gradients[bias_key] = activation_gradients[activation_key]\n",
        "\n",
        "        # Compute hidden gradients and activation gradients\n",
        "        hidden_gradients[prev_hidden_key] = np.dot(weights[layer - 1].T, activation_gradients[activation_key].T)\n",
        "        activation_gradients[prev_activation_key] = np.multiply(hidden_gradients[prev_hidden_key], activation_gradient(activations[layer - 2].T, derivative_function))\n",
        "        activation_gradients[prev_activation_key] = activation_gradients[prev_activation_key].T\n",
        "\n",
        "    # Compute gradients for the first layer (no hidden gradients needed)\n",
        "    weight_gradients['W1'] = np.dot(activation_gradients['a1'].T, batch_trainX)\n",
        "    bias_gradients['b1'] = activation_gradients['a1']\n",
        "\n",
        "    # Normalize biases across samples\n",
        "    for layer in range(1, len(bias_gradients) + 1):\n",
        "        bias_key = f'b{layer}'\n",
        "        bias_gradients[bias_key] = np.mean(bias_gradients[bias_key], axis=0).reshape(-1, 1)\n",
        "\n",
        "    return weight_gradients, bias_gradients\n"
      ]
    },
    {
      "cell_type": "code",
      "execution_count": 26,
      "metadata": {
        "id": "Mhcgh-6azEMu"
      },
      "outputs": [],
      "source": [
        "import numpy as np\n",
        "\n",
        "def gradient_descent(trainX, trainy, num_hidden_layers=1, hidden_layer_size=4, learning_rate=0.1, init_weights='random',\n",
        "                     activation_func='sigmoid', num_epochs=1, output_func='softmax', batch_size=4,\n",
        "                     loss_func='cross_entropy', weight_decay=0, wandb_flag=False):\n",
        "    \"\"\"\n",
        "    Implements gradient descent for a neural network with variable layers.\n",
        "\n",
        "    Parameters:\n",
        "        trainX : np.array\n",
        "            Input training data\n",
        "        trainy : np.array\n",
        "            Target labels\n",
        "        num_hidden_layers : int, optional\n",
        "            Number of hidden layers in the network (default is 1)\n",
        "        hidden_layer_size : int, optional\n",
        "            Number of neurons in each hidden layer (default is 4)\n",
        "        learning_rate : float, optional\n",
        "            Learning rate for weight updates (default is 0.1)\n",
        "        init_weights : str, optional\n",
        "            Initialization method for weights (default is 'random')\n",
        "        activation_func : str, optional\n",
        "            Activation function for hidden layers (default is 'sigmoid')\n",
        "        num_epochs : int, optional\n",
        "            Number of epochs for training (default is 1)\n",
        "        output_func : str, optional\n",
        "            Activation function for output layer (default is 'softmax')\n",
        "        batch_size : int, optional\n",
        "            Mini-batch size (default is 4)\n",
        "        loss_func : str, optional\n",
        "            Loss function ('cross_entropy' or 'mean_squared_error') (default is 'cross_entropy')\n",
        "        weight_decay : float, optional\n",
        "            Regularization term (default is 0)\n",
        "        wandb_flag : bool, optional\n",
        "            Whether to log metrics using Weights & Biases (default is False)\n",
        "\n",
        "    Returns:\n",
        "        tuple: Final activations, trained weights, biases, and metric history.\n",
        "    \"\"\"\n",
        "\n",
        "    # Define network architecture\n",
        "    layers = [\n",
        "        {LAYER_INPUT: input_dim, LAYER_OUTPUT: hidden_layer_size, ACTIVATION_TYPE: activation_func}\n",
        "    ]\n",
        "    for _ in range(num_hidden_layers - 1):\n",
        "        layers.append({LAYER_INPUT: hidden_layer_size, LAYER_OUTPUT: hidden_layer_size, ACTIVATION_TYPE: activation_func})\n",
        "    layers.append({LAYER_INPUT: hidden_layer_size, LAYER_OUTPUT: output_dim, ACTIVATION_TYPE: output_func})\n",
        "\n",
        "    # Initialize parameters\n",
        "    weights, biases = init_weights_biases(layers, num_hidden_layers, init_weights)\n",
        "    num_samples = len(trainX)\n",
        "    num_batches = num_samples // batch_size\n",
        "\n",
        "    # Mini-batch splitting\n",
        "    mini_batches_X = np.array_split(trainX, num_batches)\n",
        "    mini_batches_y = np.array_split(trainy, num_batches)\n",
        "\n",
        "    # Metrics tracking\n",
        "    train_loss_history, val_loss_history, train_acc_history, val_acc_history = [], [], [], []\n",
        "    final_output = None\n",
        "\n",
        "    for epoch in range(num_epochs):\n",
        "        total_train_loss = 0\n",
        "        predicted_labels = []\n",
        "\n",
        "        for batch_X, batch_y in zip(mini_batches_X, mini_batches_y):\n",
        "            activations, hidden_outputs = propagate_forward(batch_X, weights, biases, num_hidden_layers, activation_func, output_func)\n",
        "            predicted_labels.append(hidden_outputs[-1])\n",
        "\n",
        "            # Compute loss\n",
        "            if loss_func == 'cross_entropy':\n",
        "                batch_loss = compute_cross_entropy(hidden_outputs[-1], batch_y)\n",
        "            elif loss_func == 'mean_squared_error':\n",
        "                batch_loss = compute_mse(hidden_outputs[-1], batch_y)\n",
        "            else:\n",
        "                raise ValueError(\"Unsupported loss function\")\n",
        "\n",
        "            total_train_loss += batch_loss\n",
        "\n",
        "            # Backpropagation\n",
        "            weight_gradients, bias_gradients = backward_propagation(batch_y, batch_X, hidden_outputs[-1], activations, hidden_outputs, weights, num_hidden_layers, activation_func)\n",
        "\n",
        "            # Update parameters\n",
        "            for i in range(len(weights)):\n",
        "                weights[i] -= learning_rate * weight_gradients[f'W{i+1}']\n",
        "                biases[i] -= learning_rate * bias_gradients[f'b{i+1}']\n",
        "\n",
        "        # Compute regularization term\n",
        "        reg_term_train = calculate_regularizing_term(trainy, weight_decay, num_hidden_layers, weights)\n",
        "        avg_train_loss = total_train_loss / num_batches + reg_term_train\n",
        "\n",
        "        # Compute validation loss and accuracy\n",
        "        val_loss = val_loss(val_features, val_targets, weights, biases, num_hidden_layers, activation_func, output_func, loss_func)\n",
        "        reg_term_val = calculate_regularizing_term(val_features, weight_decay, num_hidden_layers, weights)\n",
        "        val_loss += reg_term_val\n",
        "\n",
        "        print(f\"Epoch {epoch + 1} | Validation Loss: {val_loss:.4f}\")\n",
        "\n",
        "        # Store metrics\n",
        "        train_loss_history.append(avg_train_loss)\n",
        "        val_loss_history.append(val_loss)\n",
        "        train_acc = compute_train_accuracy(mini_batches_y, predicted_labels, trainy)\n",
        "        val_acc = test_accuracy(val_features, val_targets, weights, biases, num_hidden_layers, activation_func, output_func)\n",
        "        train_acc_history.append(train_acc)\n",
        "        val_acc_history.append(val_acc)\n",
        "\n",
        "        # Log metrics (if enabled)\n",
        "        if wandb_flag:\n",
        "            wandb.log({\n",
        "                \"loss\": avg_train_loss,\n",
        "                \"val_loss\": val_loss,\n",
        "                \"accuracy\": train_acc,\n",
        "                \"val_accuracy\": val_acc,\n",
        "                \"epoch\": epoch + 1\n",
        "            })\n",
        "\n",
        "    return hidden_outputs[-1], weights, biases, [train_loss_history, val_loss_history, train_acc_history, val_acc_history]\n",
        "\n",
        "\n"
      ]
    },
    {
      "cell_type": "code",
      "execution_count": 14,
      "metadata": {
        "id": "8K1wq6IIzJN_"
      },
      "outputs": [],
      "source": [
        "def momentum_based_gradient_descent(trainX, trainy, number_hidden_layers=1, hidden_layer_size=4, eta=0.1, initial_weights='random', activation_function='sigmoid', epochs=1, output_function='softmax', mini_batch_size=4, loss_function='cross_entropy', weight_decay_const=0, wandb_flag=False, m_beta=0.9):\n",
        "\n",
        "    # Define layer configurations\n",
        "    layers = []\n",
        "    input_layer = {'input_size': trainX.shape[1], 'output_size': hidden_layer_size, 'activation': activation_function}\n",
        "    layers.append(input_layer)\n",
        "\n",
        "    for _ in range(number_hidden_layers - 1):\n",
        "        hidden_layer = {'input_size': hidden_layer_size, 'output_size': hidden_layer_size, 'activation': activation_function}\n",
        "        layers.append(hidden_layer)\n",
        "\n",
        "    output_layer = {'input_size': hidden_layer_size, 'output_size': trainy.shape[1], 'activation': output_function}\n",
        "    layers.append(output_layer)\n",
        "\n",
        "    # Initialize weights and biases\n",
        "    weights, biases = init_weights_biases(layers,number_hidden_layers, initial_weights)\n",
        "\n",
        "    # Split data into mini-batches\n",
        "    num_batches = len(trainX) // mini_batch_size\n",
        "    mini_batches_X = np.array_split(trainX, num_batches)\n",
        "    mini_batches_y = np.array_split(trainy, num_batches)\n",
        "\n",
        "    # Initialize momentum terms\n",
        "    momentum_weights = [np.zeros_like(w) for w in weights]\n",
        "    momentum_biases = [np.zeros_like(b) for b in biases]\n",
        "\n",
        "    # Lists to store training and validation metrics\n",
        "    train_losses, val_losses, train_accuracies, val_accuracies = [], [], [], []\n",
        "\n",
        "    # Training loop\n",
        "    for epoch in range(epochs):\n",
        "        epoch_loss = 0\n",
        "        predictions = []\n",
        "\n",
        "        for batch_X, batch_y in zip(mini_batches_X, mini_batches_y):\n",
        "            # Forward propagation\n",
        "            activations, hidden_states = propagate_forward(batch_X, weights, biases, number_hidden_layers, activation_function, output_function)\n",
        "            predictions.append(hidden_states[-1])\n",
        "\n",
        "            # Compute loss\n",
        "            if loss_function == 'cross_entropy':\n",
        "                batch_loss = compute_cross_entropy(hidden_states[-1], batch_y)\n",
        "            elif loss_function == 'mean_squared_error':\n",
        "                batch_loss = compute_mse(hidden_states[-1], batch_y)\n",
        "            else:\n",
        "                raise ValueError(\"Unsupported loss function\")\n",
        "\n",
        "            epoch_loss += batch_loss\n",
        "\n",
        "            # Backward propagation\n",
        "            grad_weights, grad_biases = backward_propagation(batch_y, batch_X, hidden_states[-1], activations, hidden_states, weights, number_hidden_layers, activation_function)\n",
        "\n",
        "            # Update weights and biases with momentum\n",
        "            for i in range(len(weights)):\n",
        "                # Access gradients using keys (e.g., 'W1', 'b1', 'W2', 'b2', etc.)\n",
        "                keyW = 'W' + str(i + 1)\n",
        "                keyB = 'b' + str(i + 1)\n",
        "\n",
        "                # Momentum update for weights\n",
        "                momentum_weights[i] = momentum_weights[i] * m_beta + grad_weights[keyW] * eta\n",
        "                weights[i] -= momentum_weights[i]\n",
        "\n",
        "                # Momentum update for biases\n",
        "                momentum_biases[i] = momentum_biases[i] * m_beta + grad_biases[keyB] * eta\n",
        "                biases[i] -= momentum_biases[i]\n",
        "\n",
        "        # Calculate training accuracy and loss\n",
        "        train_acc = compute_train_accuracy(mini_batches_y,predictions,trainy)\n",
        "        reg_term_train = calculate_regularizing_term(trainy,weight_decay_const,number_hidden_layers ,weights)\n",
        "        avg_train_loss = epoch_loss / num_batches + reg_term_train\n",
        "\n",
        "        # Calculate validation accuracy and loss\n",
        "        val_acc = test_accuracy(val_features, vali_targets, weights, biases, number_hidden_layers, activation_function, output_function)\n",
        "        val_loss_value = val_loss(val_features, vali_targets, weights, biases, number_hidden_layers, activation_function, output_function, loss_function)\n",
        "        reg_term_val = calculate_regularizing_term(vali_targets,weight_decay_const ,number_hidden_layers, weights)\n",
        "        val_loss_value += reg_term_val\n",
        "\n",
        "        # Store metrics\n",
        "        train_losses.append(avg_train_loss)\n",
        "        val_losses.append(val_loss_value)\n",
        "        train_accuracies.append(train_acc)\n",
        "        val_accuracies.append(val_acc)\n",
        "\n",
        "        # Log metrics if wandb is enabled\n",
        "        if wandb_flag:\n",
        "            wandb.log({\n",
        "                \"loss\": avg_train_loss,\n",
        "                \"val_loss\": val_loss_value,\n",
        "                \"accuracy\": train_acc,\n",
        "                \"val_accuracy\": val_acc,\n",
        "                \"epoch\": epoch\n",
        "            })\n",
        "\n",
        "        print(f\"Epoch: {epoch + 1}, Validation Loss: {val_loss_value}\")\n",
        "\n",
        "    # Return final predictions, weights, biases, and metrics\n",
        "    return hidden_states[-1], weights, biases, [train_losses, val_losses, train_accuracies, val_accuracies]\n",
        "\n",
        "def nestrov_accelerated_gradient_descent(trainX, trainy, number_hidden_layers=1, hidden_layer_size=4, eta=0.1,\n",
        "                                         initial_weights='random', activation_function='sigmoid', epochs=1,\n",
        "                                         output_function='softmax', mini_batch_size=4, loss_function='cross_entropy',\n",
        "                                         weight_decay_const=0, wandb_flag=False):\n",
        "    \"\"\"\n",
        "    Implements Nesterov Accelerated Gradient Descent (NAG) for neural network optimization.\n",
        "    \"\"\"\n",
        "    layers = [\n",
        "        {LAYER_INPUT: input_dim, LAYER_OUTPUT: hidden_layer_size, ACTIVATION_TYPE: activation_function}\n",
        "    ]\n",
        "    for _ in range(num_hidden_layers - 1):\n",
        "        layers.append({LAYER_INPUT: hidden_layer_size, LAYER_OUTPUT: hidden_layer_size, ACTIVATION_TYPE: activation_function})\n",
        "    layers.append({LAYER_INPUT: hidden_layer_size, LAYER_OUTPUT: output_dim, ACTIVATION_TYPE: output_function})\n",
        "\n",
        "    # Initialize parameters\n",
        "    weights, biases = init_weights_biases(layers, num_hidden_layers, initial_weights)\n",
        "\n",
        "    # Determine batch processing details\n",
        "    num_samples = len(trainX)\n",
        "    num_batches = num_samples // mini_batch_size\n",
        "    mini_batches_X = np.array_split(trainX, num_batches)\n",
        "    mini_batches_y = np.array_split(trainy, num_batches)\n",
        "\n",
        "    # Initialize past gradients for momentum update\n",
        "    momentum_weights = [np.zeros_like(w) for w in weights]\n",
        "    momentum_biases = [np.zeros_like(b) for b in biases]\n",
        "\n",
        "    # Lists to track training progress\n",
        "    loss_train, loss_val, acc_train, acc_val = [], [], [], []\n",
        "\n",
        "    for epoch in range(epochs):\n",
        "        total_loss = 0\n",
        "        y_predictions = []\n",
        "\n",
        "        for batch_X, batch_y in zip(mini_batches_X, mini_batches_y):\n",
        "            # Compute lookahead weights and biases\n",
        "            lookahead_W = [weights[i] - (momentum_beta * momentum_weights[i]) for i in range(len(weights))]\n",
        "            lookahead_B = [biases[i] - (momentum_beta * momentum_biases[i]) for i in range(len(biases))]\n",
        "\n",
        "            activations, h_states = propagate_forward(batch_X, lookahead_W, lookahead_B, number_hidden_layers, activation_function, output_function)\n",
        "            y_predictions.append(h_states[-1])\n",
        "\n",
        "            # Compute loss\n",
        "            total_loss += cross_entropy(h_states[-1], batch_y) if loss_function == 'cross_entropy' else mean_squared_error(h_states[-1], batch_y)\n",
        "\n",
        "            # Compute gradients\n",
        "            grad_W, grad_B = backward_propagation(batch_y, batch_X, h_states[-1], activations, h_states, lookahead_W, number_hidden_layers, activation_function)\n",
        "\n",
        "            # Apply Nesterov update\n",
        "            for i in range(len(weights)):\n",
        "                momentum_weights[i] = (m_beta * momentum_weights[i]) + (eta * grad_W[f'W{i+1}'])\n",
        "                momentum_biases[i] = (m_beta * momentum_biases[i]) + (eta * grad_B[f'b{i+1}'])\n",
        "\n",
        "                weights[i] -= momentum_weights[i]\n",
        "                biases[i] -= momentum_biases[i]\n",
        "\n",
        "        # Compute regularized loss\n",
        "        reg_term_train = calculate_regularizing_term(trainy, weight_decay_const, number_hidden_layers, weights)\n",
        "        avg_train_loss = (total_loss / num_batches) + reg_term_train\n",
        "\n",
        "        # Validation loss calculation\n",
        "        val_loss_value = val_loss(valX, valiy, weights, biases, number_hidden_layers, activation_function, output_function, loss_function)\n",
        "        val_loss_value += calculate_regularizing_term(valiy, weight_decay_const, number_hidden_layers, weights)\n",
        "\n",
        "        print(f\"Epoch {epoch + 1}: Validation Loss = {val_loss_value:.4f}\")\n",
        "\n",
        "        # Compute accuracy metrics\n",
        "        train_acc = train_accuracy(mini_batches_y, y_predictions, trainy)\n",
        "        val_acc = test_accuracy(valX, valy, weights, biases, number_hidden_layers, activation_function, output_function)\n",
        "\n",
        "        # Store metrics\n",
        "        loss_train.append(avg_train_loss)\n",
        "        loss_val.append(val_loss_value)\n",
        "        acc_train.append(train_acc)\n",
        "        acc_val.append(val_acc)\n",
        "\n",
        "        # Log metrics if W&B logging is enabled\n",
        "        if wandb_flag:\n",
        "            wandb.log({\"loss\": avg_train_loss, \"val_loss\": val_loss_value, \"accuracy\": train_acc, \"val_accuracy\": val_acc, \"epoch\": epoch + 1})\n",
        "\n",
        "    return h_states[-1], weights, biases, [loss_train, loss_val, acc_train, acc_val]\n",
        "\n",
        "def rmsprop(trainX, trainy, number_hidden_layers=1, hidden_layer_size=4, eta=0.1, initial_weights='random',\n",
        "            activation_function='sigmoid', epochs=1, output_function='softmax', mini_batch_size=4,\n",
        "            loss_function='cross_entropy', weight_decay_const=0, wandb_flag=False):\n",
        "\n",
        "    layers = [{'input_size': input_layer_size, 'output_size': hidden_layer_size, 'activation': activation_function}]\n",
        "    layers += [{'input_size': hidden_layer_size, 'output_size': hidden_layer_size, 'activation': activation_function}\n",
        "               for _ in range(number_hidden_layers - 1)]\n",
        "    layers.append({'input_size': hidden_layer_size, 'output_size': output_layer_size, 'activation': output_function})\n",
        "\n",
        "    # Initialize weights & biases\n",
        "    weights, biases = initialize_weights_and_biases(layers, number_hidden_layers, initial_weights)\n",
        "    num_batches = len(trainX) // mini_batch_size\n",
        "    mini_batches = list(zip(np.array_split(trainX, num_batches), np.array_split(trainy, num_batches)))\n",
        "\n",
        "    # RMSProp accumulators\n",
        "    v_weights = [np.zeros_like(w) for w in weights]\n",
        "    v_biases = [np.zeros_like(b) for b in biases]\n",
        "\n",
        "    train_loss_list, val_loss_list, train_acc_list, val_acc_list = [], [], [], []\n",
        "    for epoch in range(epochs):\n",
        "        epoch_loss = 0\n",
        "        y_preds = []\n",
        "\n",
        "        for batch_X, batch_y in mini_batches:\n",
        "            activations, h_states = forward_propagation(batch_X, weights, biases, number_hidden_layers, activation_function, output_function)\n",
        "            y_preds.append(h_states[-1])\n",
        "\n",
        "            # Compute loss\n",
        "            epoch_loss += cross_entropy(h_states[-1], batch_y) if loss_function == 'cross_entropy' else mean_squared_error(h_states[-1], batch_y)\n",
        "\n",
        "            # Backpropagation\n",
        "            del_W, del_b = backward_propagation(batch_y, batch_X, h_states[-1], activations, h_states, weights, number_hidden_layers, activation_function)\n",
        "\n",
        "            # RMSProp weight update\n",
        "            for i in range(len(weights)):\n",
        "                v_weights[i] = rmsprop_beta * v_weights[i] + (1 - rmsprop_beta) * (del_W[f'W{i+1}'] ** 2)\n",
        "                v_biases[i] = rmsprop_beta * v_biases[i] + (1 - rmsprop_beta) * (del_b[f'b{i+1}'] ** 2)\n",
        "\n",
        "                weights[i] -= eta * del_W[f'W{i+1}'] / (np.sqrt(v_weights[i] + epsilon_))\n",
        "                biases[i] -= eta * del_b[f'b{i+1}'] / (np.sqrt(v_biases[i] + epsilon_))\n",
        "\n",
        "        # Compute loss & accuracy\n",
        "        train_loss = (epoch_loss / num_batches) + calculate_regularizing_term(trainy, weight_decay_const, number_hidden_layers, weights)\n",
        "        val_loss_value = val_loss(valX, valiy, weights, biases, number_hidden_layers, activation_function, output_function, loss_function)\n",
        "        val_loss_value += calculate_regularizing_term(valiy, weight_decay_const, number_hidden_layers, weights)\n",
        "\n",
        "        print(f\"Epoch {epoch+1}: Validation Loss = {val_loss_value:.4f}\")\n",
        "\n",
        "        # Accuracy Calculation\n",
        "        train_acc_list.append(train_accuracy(mini_batches, y_preds, trainy))\n",
        "        val_acc_list.append(test_accuracy(valX, valy, weights, biases, number_hidden_layers, activation_function, output_function))\n",
        "        train_loss_list.append(train_loss)\n",
        "        val_loss_list.append(val_loss_value)\n",
        "\n",
        "        if wandb_flag:\n",
        "            wandb.log({\"loss\": train_loss, \"val_loss\": val_loss_value, \"accuracy\": train_acc_list[-1], \"val_accuracy\": val_acc_list[-1], \"epoch\": epoch+1})\n",
        "\n",
        "    return h_states[-1], weights, biases, [train_loss_list, val_loss_list, train_acc_list, val_acc_list]\n",
        "\n",
        "\n",
        "def adam(trainX, trainy, number_hidden_layers=1, hidden_layer_size=4, eta=0.1, initial_weights='random',\n",
        "         activation_function='sigmoid', epochs=1, output_function='softmax', mini_batch_size=4,\n",
        "         loss_function='cross_entropy', weight_decay_const=0, wandb_flag=False):\n",
        "\n",
        "    layers = [{'input_size': input_layer_size, 'output_size': hidden_layer_size, 'activation': activation_function}]\n",
        "    layers += [{'input_size': hidden_layer_size, 'output_size': hidden_layer_size, 'activation': activation_function}\n",
        "               for _ in range(number_hidden_layers - 1)]\n",
        "    layers.append({'input_size': hidden_layer_size, 'output_size': output_layer_size, 'activation': output_function})\n",
        "\n",
        "    # Initialize parameters\n",
        "    weights, biases = initialize_weights_and_biases(layers, number_hidden_layers, initial_weights)\n",
        "    num_batches = len(trainX) // mini_batch_size\n",
        "    mini_batches = list(zip(np.array_split(trainX, num_batches), np.array_split(trainy, num_batches)))\n",
        "\n",
        "    # Adam accumulators\n",
        "    v_weights, v_biases = [np.zeros_like(w) for w in weights], [np.zeros_like(b) for b in biases]\n",
        "    m_weights, m_biases = [np.zeros_like(w) for w in weights], [np.zeros_like(b) for b in biases]\n",
        "\n",
        "    train_loss_list, val_loss_list, train_acc_list, val_acc_list = [], [], [], []\n",
        "    time_step = 0\n",
        "\n",
        "    for epoch in range(epochs):\n",
        "        epoch_loss = 0\n",
        "        y_preds = []\n",
        "\n",
        "        for batch_X, batch_y in mini_batches:\n",
        "            time_step += 1\n",
        "            activations, h_states = forward_propagation(batch_X, weights, biases, number_hidden_layers, activation_function, output_function)\n",
        "            y_preds.append(h_states[-1])\n",
        "\n",
        "            # Compute loss\n",
        "            epoch_loss += cross_entropy(h_states[-1], batch_y) if loss_function == 'cross_entropy' else mean_squared_error(h_states[-1], batch_y)\n",
        "\n",
        "            # Backpropagation\n",
        "            del_W, del_b = backward_propagation(batch_y, batch_X, h_states[-1], activations, h_states, weights, number_hidden_layers, activation_function)\n",
        "\n",
        "            # Adam weight update\n",
        "            for i in range(len(weights)):\n",
        "                m_weights[i] = beta_1 * m_weights[i] + (1 - beta_1) * del_W[f'W{i+1}']\n",
        "                m_biases[i] = beta_1 * m_biases[i] + (1 - beta_1) * del_b[f'b{i+1}']\n",
        "\n",
        "                v_weights[i] = beta_2 * v_weights[i] + (1 - beta_2) * (del_W[f'W{i+1}'] ** 2)\n",
        "                v_biases[i] = beta_2 * v_biases[i] + (1 - beta_2) * (del_b[f'b{i+1}'] ** 2)\n",
        "\n",
        "                # Bias correction\n",
        "                m_hat_w, v_hat_w = m_weights[i] / (1 - beta_1 ** time_step), v_weights[i] / (1 - beta_2 ** time_step)\n",
        "                m_hat_b, v_hat_b = m_biases[i] / (1 - beta_1 ** time_step), v_biases[i] / (1 - beta_2 ** time_step)\n",
        "\n",
        "                weights[i] -= eta * m_hat_w / (np.sqrt(v_hat_w) + epsilon_)\n",
        "                biases[i] -= eta * m_hat_b / (np.sqrt(v_hat_b) + epsilon_)\n",
        "\n",
        "        # Compute loss & accuracy\n",
        "        train_loss = (epoch_loss / num_batches) + calculate_regularizing_term(trainy, weight_decay_const, number_hidden_layers, weights)\n",
        "        val_loss_value = val_loss(valX, valiy, weights, biases, number_hidden_layers, activation_function, output_function, loss_function)\n",
        "        val_loss_value += calculate_regularizing_term(valiy, weight_decay_const, number_hidden_layers, weights)\n",
        "\n",
        "        print(f\"Epoch {epoch+1}: Validation Loss = {val_loss_value:.4f}\")\n",
        "\n",
        "        # Store accuracy\n",
        "        train_acc_list.append(train_accuracy(mini_batches, y_preds, trainy))\n",
        "        val_acc_list.append(test_accuracy(valX, valy, weights, biases, number_hidden_layers, activation_function, output_function))\n",
        "\n",
        "        if wandb_flag:\n",
        "            wandb.log({\"loss\": train_loss, \"val_loss\": val_loss_value, \"accuracy\": train_acc_list[-1], \"val_accuracy\": val_acc_list[-1], \"epoch\": epoch+1})\n",
        "\n",
        "    return h_states[-1], weights, biases, [train_loss_list, val_loss_list, train_acc_list, val_acc_list]\n",
        "\n",
        "def nadam(trainX, trainy, number_hidden_layers=1, hidden_layer_size=4, eta=0.1, initial_weights='random',\n",
        "          activation_function='sigmoid', epochs=1, output_function='softmax', mini_batch_size=4,\n",
        "          loss_function='cross_entropy', weight_decay_const=0, wandb_flag=False):\n",
        "\n",
        "    # Define network layers dynamically\n",
        "    layers = [{'input_size': input_layer_size, 'output_size': hidden_layer_size, 'activation': activation_function}]\n",
        "    layers += [{'input_size': hidden_layer_size, 'output_size': hidden_layer_size, 'activation': activation_function}\n",
        "               for _ in range(number_hidden_layers - 1)]\n",
        "    layers.append({'input_size': hidden_layer_size, 'output_size': output_layer_size, 'activation': output_function})\n",
        "\n",
        "    # Initialize model parameters\n",
        "    weights, biases = initialize_weights_and_biases(layers, number_hidden_layers, initial_weights)\n",
        "    num_batches = len(trainX) // mini_batch_size\n",
        "    mini_batches = list(zip(np.array_split(trainX, num_batches), np.array_split(trainy, num_batches)))\n",
        "\n",
        "    # Initialize moving averages for Nadam\n",
        "    v_weights, v_biases = [np.zeros_like(w) for w in weights], [np.zeros_like(b) for b in biases]\n",
        "    m_weights, m_biases = [np.zeros_like(w) for w in weights], [np.zeros_like(b) for b in biases]\n",
        "\n",
        "    train_loss_list, val_loss_list, train_acc_list, val_acc_list = [], [], [], []\n",
        "    beta_1, beta_2, epsilon = 0.9, 0.999, 1e-3\n",
        "    t = 0  # Step counter\n",
        "\n",
        "    for epoch in range(epochs):\n",
        "        total_train_loss = 0\n",
        "        y_preds = []\n",
        "\n",
        "        for X_batch, y_batch in mini_batches:\n",
        "            t += 1  # Increment time step\n",
        "\n",
        "            # Compute bias-corrected moving averages\n",
        "            v_hat_weights = [v / (1 - beta_2 ** t) for v in v_weights]\n",
        "            v_hat_biases = [v / (1 - beta_2 ** t) for v in v_biases]\n",
        "\n",
        "            m_hat_weights = [m / (1 - beta_1 ** t) for m in m_weights]\n",
        "            m_hat_biases = [m / (1 - beta_1 ** t) for m in m_biases]\n",
        "\n",
        "            # Compute \"lookahead\" weights & biases\n",
        "            lookahead_weights = [weights[i] - (m_hat_weights[i] / np.sqrt(v_hat_weights[i] + epsilon)) * eta\n",
        "                                 for i in range(len(weights))]\n",
        "            lookahead_biases = [biases[i] - (m_hat_biases[i] / np.sqrt(v_hat_biases[i] + epsilon)) * eta\n",
        "                                for i in range(len(biases))]\n",
        "\n",
        "            # Forward propagation\n",
        "            activations, outputs = forward_propagation(X_batch, lookahead_weights, lookahead_biases, number_hidden_layers, activation_function, output_function)\n",
        "            y_preds.append(outputs[-1])\n",
        "\n",
        "            # Compute loss\n",
        "            loss_func = cross_entropy if loss_function == 'cross_entropy' else mean_squared_error\n",
        "            total_train_loss += loss_func(outputs[-1], y_batch)\n",
        "\n",
        "            # Backpropagation\n",
        "            grad_W, grad_B = backward_propagation(y_batch, X_batch, outputs[-1], activations, outputs, lookahead_weights, number_hidden_layers, activation_function)\n",
        "\n",
        "            # Update moving averages & apply Nadam update rule\n",
        "            for i in range(len(weights)):\n",
        "                v_weights[i] = beta_2 * v_weights[i] + (1 - beta_2) * (grad_W[f'W{i+1}'] ** 2)\n",
        "                v_biases[i] = beta_2 * v_biases[i] + (1 - beta_2) * (grad_B[f'b{i+1}'] ** 2)\n",
        "\n",
        "                m_weights[i] = beta_1 * m_weights[i] + (1 - beta_1) * grad_W[f'W{i+1}']\n",
        "                m_biases[i] = beta_1 * m_biases[i] + (1 - beta_1) * grad_B[f'b{i+1}']\n",
        "\n",
        "                v_hat_w, v_hat_b = v_weights[i] / (1 - beta_2 ** t), v_biases[i] / (1 - beta_2 ** t)\n",
        "                m_hat_w, m_hat_b = m_weights[i] / (1 - beta_1 ** t), m_biases[i] / (1 - beta_1 ** t)\n",
        "\n",
        "                weights[i] -= (m_hat_w * eta) / np.sqrt(v_hat_w + epsilon)\n",
        "                biases[i] -= (m_hat_b * eta) / np.sqrt(v_hat_b + epsilon)\n",
        "\n",
        "        # Compute losses with regularization\n",
        "        reg_train = calculate_regularizing_term(trainy, weight_decay_const, number_hidden_layers, weights)\n",
        "        avg_train_loss = total_train_loss / num_batches + reg_train\n",
        "        val_loss_value = val_loss(valX, valiy, weights, biases, number_hidden_layers, activation_function, output_function, loss_function)\n",
        "        val_loss_value += calculate_regularizing_term(valiy, weight_decay_const, number_hidden_layers, weights)\n",
        "\n",
        "        print(f\"Epoch {epoch + 1}: Validation Loss = {val_loss_value:.4f}\")\n",
        "\n",
        "        # Compute accuracy\n",
        "        train_acc_list.append(train_accuracy(mini_batches, y_preds, trainy))\n",
        "        val_acc_list.append(test_accuracy(valX, valy, weights, biases, number_hidden_layers, activation_function, output_function))\n",
        "\n",
        "        # Store metrics\n",
        "        train_loss_list.append(avg_train_loss)\n",
        "        val_loss_list.append(val_loss_value)\n",
        "\n",
        "        if wandb_flag:\n",
        "            wandb.log({\n",
        "                \"loss\": avg_train_loss,\n",
        "                \"val_loss\": val_loss_value,\n",
        "                \"accuracy\": train_acc_list[-1],\n",
        "                \"val_accuracy\": val_acc_list[-1],\n",
        "                \"epoch\": epoch + 1\n",
        "            })\n",
        "\n",
        "    return outputs[-1], weights, biases, [train_loss_list, val_loss_list, train_acc_list, val_acc_list]\n"
      ]
    },
    {
      "cell_type": "code",
      "source": [
        "#testing the code\n",
        "\n",
        "run = wandb.init(project=\"DA6401_ASS-practice\")\n",
        "run.name = 'Cross Entropy'\n",
        "\n",
        "params = train(trainX=trainX,\n",
        "    trainy=trainy,\n",
        "    textX=testX,\n",
        "    testy=needed_y_test,\n",
        "    number_hidden_layers=4,\n",
        "    hidden_layer_size=128,\n",
        "    eta=0.001,\n",
        "    init_type=\"Xavier\",\n",
        "    activation_function=\"relu\",\n",
        "    epochs=5,\n",
        "    mini_batch_size=32,\n",
        "    loss_function=\"cross_entropy\",\n",
        "    optimizer=\"nadam\",\n",
        "    output_function='softmax',\n",
        "    weight_decay_const=0.5,\n",
        "    wandb_flag=True)\n",
        "\n",
        "test_ac = test_accuracy(testX,needed_y_test,params[0],params[1],params[2],params[3],params[4])\n",
        "print(\"Test accuracy on the model = \", test_ac*100,'%')\n",
        "wandb.save()\n",
        "wandb.finish()\n"
      ],
      "metadata": {
        "colab": {
          "base_uri": "https://localhost:8080/",
          "height": 650
        },
        "id": "OM9Gfnj4VUkK",
        "outputId": "3a3c7b54-9db5-4d76-9a52-fb27fa8634a4"
      },
      "execution_count": 18,
      "outputs": [
        {
          "output_type": "display_data",
          "data": {
            "text/plain": [
              "<IPython.core.display.HTML object>"
            ],
            "text/html": [
              "Changes to your `wandb` environment variables will be ignored because your `wandb` session has already started. For more information on how to modify your settings with `wandb.init()` arguments, please refer to <a href='https://wandb.me/wandb-init' target=\"_blank\">the W&B docs</a>."
            ]
          },
          "metadata": {}
        },
        {
          "output_type": "stream",
          "name": "stdout",
          "text": [
            "Epoch 1: Validation Loss = 0.4603\n",
            "Epoch 2: Validation Loss = 0.4132\n",
            "Epoch 3: Validation Loss = 0.4005\n",
            "Epoch 4: Validation Loss = 0.3892\n",
            "Epoch 5: Validation Loss = 0.3875\n"
          ]
        },
        {
          "output_type": "stream",
          "name": "stderr",
          "text": [
            "\u001b[34m\u001b[1mwandb\u001b[0m: \u001b[33mWARNING\u001b[0m Calling wandb.run.save without any arguments is deprecated.Changes to attributes are automatically persisted.\n"
          ]
        },
        {
          "output_type": "stream",
          "name": "stdout",
          "text": [
            "Test accuracy on the model =  86.7588141025641 %\n"
          ]
        },
        {
          "output_type": "display_data",
          "data": {
            "text/plain": [
              "<IPython.core.display.HTML object>"
            ],
            "text/html": []
          },
          "metadata": {}
        },
        {
          "output_type": "display_data",
          "data": {
            "text/plain": [
              "<IPython.core.display.HTML object>"
            ],
            "text/html": [
              "<br>    <style><br>        .wandb-row {<br>            display: flex;<br>            flex-direction: row;<br>            flex-wrap: wrap;<br>            justify-content: flex-start;<br>            width: 100%;<br>        }<br>        .wandb-col {<br>            display: flex;<br>            flex-direction: column;<br>            flex-basis: 100%;<br>            flex: 1;<br>            padding: 10px;<br>        }<br>    </style><br><div class=\"wandb-row\"><div class=\"wandb-col\"><h3>Run history:</h3><br/><table class=\"wandb\"><tr><td>accuracy</td><td>█▁▃▂▂</td></tr><tr><td>epoch</td><td>▁▃▅▆█</td></tr><tr><td>loss</td><td>█▃▂▂▁</td></tr><tr><td>val_accuracy</td><td>▁▅▆▇█</td></tr><tr><td>val_loss</td><td>█▃▂▁▁</td></tr></table><br/></div><div class=\"wandb-col\"><h3>Run summary:</h3><br/><table class=\"wandb\"><tr><td>accuracy</td><td>0.00249</td></tr><tr><td>epoch</td><td>5</td></tr><tr><td>loss</td><td>0.30471</td></tr><tr><td>val_accuracy</td><td>0.87908</td></tr><tr><td>val_loss</td><td>0.38749</td></tr></table><br/></div></div>"
            ]
          },
          "metadata": {}
        },
        {
          "output_type": "display_data",
          "data": {
            "text/plain": [
              "<IPython.core.display.HTML object>"
            ],
            "text/html": [
              " View run <strong style=\"color:#cdcd00\">Cross Entropy</strong> at: <a href='https://wandb.ai/3628-pavitrakhare-indian-institute-of-technology-madras/DA6401_ASS-practice/runs/w4895a32' target=\"_blank\">https://wandb.ai/3628-pavitrakhare-indian-institute-of-technology-madras/DA6401_ASS-practice/runs/w4895a32</a><br> View project at: <a href='https://wandb.ai/3628-pavitrakhare-indian-institute-of-technology-madras/DA6401_ASS-practice' target=\"_blank\">https://wandb.ai/3628-pavitrakhare-indian-institute-of-technology-madras/DA6401_ASS-practice</a><br>Synced 5 W&B file(s), 0 media file(s), 0 artifact file(s) and 0 other file(s)"
            ]
          },
          "metadata": {}
        },
        {
          "output_type": "display_data",
          "data": {
            "text/plain": [
              "<IPython.core.display.HTML object>"
            ],
            "text/html": [
              "Find logs at: <code>./wandb/run-20250309_204156-w4895a32/logs</code>"
            ]
          },
          "metadata": {}
        }
      ]
    },
    {
      "cell_type": "code",
      "execution_count": 16,
      "metadata": {
        "colab": {
          "base_uri": "https://localhost:8080/"
        },
        "id": "60cJwHKDzWnS",
        "outputId": "a95b9596-be50-41d1-ca8d-14c56ccde728"
      },
      "outputs": [
        {
          "output_type": "stream",
          "name": "stdout",
          "text": [
            "Create sweep with ID: 0qw9gqdm\n",
            "Sweep URL: https://wandb.ai/3628-pavitrakhare-indian-institute-of-technology-madras/DA6401_ASS-practice/sweeps/0qw9gqdm\n"
          ]
        }
      ],
      "source": [
        "def train(trainX, trainy, textX, testy, number_hidden_layers, hidden_layer_size, eta, init_type, activation_function,\n",
        "          epochs, mini_batch_size, loss_function, optimizer, output_function, weight_decay_const, wandb_flag=False):\n",
        "    \"\"\"\n",
        "    Train a neural network using the specified optimizer.\n",
        "    \"\"\"\n",
        "    wdc = weight_decay_const\n",
        "\n",
        "    optimizer_functions = {\n",
        "        'sgd': gradient_descent,\n",
        "        'momentum': momentum_based_gradient_descent,\n",
        "        'nag': nestrov_accelerated_gradient_descent,\n",
        "        'rmsprop': rmsprop,\n",
        "        'adam': adam,\n",
        "        'nadam': nadam\n",
        "    }\n",
        "\n",
        "    if optimizer not in optimizer_functions:\n",
        "        raise ValueError(f\"Invalid optimizer: {optimizer}. Choose from {list(optimizer_functions.keys())}.\")\n",
        "\n",
        "    hL, weights, biases, plot_list = optimizer_functions[optimizer](\n",
        "        trainX, trainy, number_hidden_layers, hidden_layer_size, eta, init_type, activation_function, epochs,\n",
        "        output_function, mini_batch_size, loss_function, wdc, wandb_flag\n",
        "    )\n",
        "\n",
        "    return [weights, biases, number_hidden_layers, activation_function, output_function]\n",
        "\n",
        "\n",
        "# Configuration for Bayesian Sweep Optimization\n",
        "sweep_config = {\n",
        "    \"name\": \"Hyperparameter Sweep\",\n",
        "    \"method\": \"bayes\",\n",
        "    \"metric\": {\n",
        "        \"name\": \"val_accuracy\",\n",
        "        \"goal\": \"maximize\"\n",
        "    },\n",
        "    \"parameters\": {\n",
        "        \"epochs\": {\"values\": [5, 10]},\n",
        "        \"init_method\": {\"values\": [\"random\", \"Xavier\"]},\n",
        "        \"hidden_layers\": {\"values\": [3, 4, 5]},\n",
        "        \"layer_size\": {\"values\": [32, 64, 128]},\n",
        "        \"activation\": {\"values\": [\"tanh\", \"sigmoid\", \"relu\"]},\n",
        "        \"learning_rate\": {\"values\": [0.001, 0.0001]},\n",
        "        \"weight_decay\": {\"values\": [0, 0.0005, 0.5]},\n",
        "        \"optimizer\": {\"values\": [\"sgd\", \"momentum\", \"nag\", \"rmsprop\", \"adam\", \"nadam\"]},\n",
        "        \"batch_size\": {\"values\": [16, 32, 64]}\n",
        "    }\n",
        "}\n",
        "\n",
        "# Initialize the sweep with W&B\n",
        "sweep_id = wandb.sweep(sweep_config, project=\"DA6401_ASS-practice\")\n"
      ]
    },
    {
      "cell_type": "code",
      "execution_count": 17,
      "metadata": {
        "id": "VmteGi74zgqT"
      },
      "outputs": [],
      "source": [
        "def train_data(config=None):\n",
        "    \"\"\"\n",
        "    Initializes Weights & Biases (W&B) and trains the model with hyperparameters.\n",
        "    \"\"\"\n",
        "\n",
        "    default_config = {\n",
        "        \"epochs\": 10,\n",
        "        \"num_hidden_layers\": 2,\n",
        "        \"layer_size\": 128,\n",
        "        \"weight_decay\": 0,\n",
        "        \"learning_rate\": 1e-3,\n",
        "        \"optimizer\": \"sgd\",\n",
        "        \"batch_size\": 32,\n",
        "        \"activation_fn\": \"sigmoid\",\n",
        "        \"init_method\": \"Xavier\",\n",
        "        \"loss_fn\": \"cross_entropy\",\n",
        "    }\n",
        "\n",
        "    # Initialize W&B with default parameters\n",
        "    wandb.init(project=\"DA6401_ASS-practice\", config=default_config)\n",
        "    config = wandb.config\n",
        "\n",
        "    # Set run name dynamically based on hyperparameters\n",
        "    wandb.run.name = (f\"hl_{config.num_hidden_layers}_sz_{config.layer_size}_\"\n",
        "                      f\"bs_{config.batch_size}_ac_{config.activation_fn}_\"\n",
        "                      f\"w_i_{config.init_method}_lr_{config.learning_rate}_\"\n",
        "                      f\"wd_{config.weight_decay}\")\n",
        "\n",
        "    # Train the model with the given configuration\n",
        "    train(\n",
        "        trainX=trainX,\n",
        "        trainy=trainy,\n",
        "        textX=testX,\n",
        "        testy=needed_y_test,\n",
        "        number_hidden_layers=config.num_hidden_layers,\n",
        "        hidden_layer_size=config.layer_size,\n",
        "        eta=config.learning_rate,\n",
        "        init_type=config.init_method,\n",
        "        activation_function=config.activation_fn,\n",
        "        epochs=config.epochs,\n",
        "        mini_batch_size=config.batch_size,\n",
        "        loss_function=config.loss_fn,\n",
        "        optimizer=config.optimizer,\n",
        "        output_function='softmax',\n",
        "        weight_decay_const=config.weight_decay,\n",
        "        wandb_flag=True\n",
        "    )\n"
      ]
    },
    {
      "cell_type": "code",
      "execution_count": null,
      "metadata": {
        "colab": {
          "background_save": true,
          "base_uri": "https://localhost:8080/",
          "height": 1000
        },
        "id": "qcS0qoUt-vqm",
        "outputId": "aa53bde2-289b-4fc1-c4b1-26d9b106ffa8"
      },
      "outputs": [
        {
          "name": "stderr",
          "output_type": "stream",
          "text": [
            "\u001b[34m\u001b[1mwandb\u001b[0m: Agent Starting Run: dh6mlrm6 with config:\n",
            "\u001b[34m\u001b[1mwandb\u001b[0m: \ta: tanh\n",
            "\u001b[34m\u001b[1mwandb\u001b[0m: \tb: 16\n",
            "\u001b[34m\u001b[1mwandb\u001b[0m: \te: 10\n",
            "\u001b[34m\u001b[1mwandb\u001b[0m: \tlr: 0.0001\n",
            "\u001b[34m\u001b[1mwandb\u001b[0m: \tnlh: 4\n",
            "\u001b[34m\u001b[1mwandb\u001b[0m: \to: adam\n",
            "\u001b[34m\u001b[1mwandb\u001b[0m: \tsz: 64\n",
            "\u001b[34m\u001b[1mwandb\u001b[0m: \tw_d: 0\n",
            "\u001b[34m\u001b[1mwandb\u001b[0m: \tw_i: Xavier\n"
          ]
        },
        {
          "data": {
            "text/html": [
              "Ignoring project 'DA6401_ASS-practice' when running a sweep."
            ],
            "text/plain": [
              "<IPython.core.display.HTML object>"
            ]
          },
          "metadata": {},
          "output_type": "display_data"
        },
        {
          "data": {
            "text/html": [
              "Tracking run with wandb version 0.19.7"
            ],
            "text/plain": [
              "<IPython.core.display.HTML object>"
            ]
          },
          "metadata": {},
          "output_type": "display_data"
        },
        {
          "data": {
            "text/html": [
              "Run data is saved locally in <code>/content/wandb/run-20250308_191311-dh6mlrm6</code>"
            ],
            "text/plain": [
              "<IPython.core.display.HTML object>"
            ]
          },
          "metadata": {},
          "output_type": "display_data"
        },
        {
          "data": {
            "text/html": [
              "Syncing run <strong><a href='https://wandb.ai/3628-pavitrakhare-indian-institute-of-technology-madras/DA6401_ASS-practice/runs/dh6mlrm6' target=\"_blank\">glad-sweep-1</a></strong> to <a href='https://wandb.ai/3628-pavitrakhare-indian-institute-of-technology-madras/DA6401_ASS-practice' target=\"_blank\">Weights & Biases</a> (<a href='https://wandb.me/developer-guide' target=\"_blank\">docs</a>)<br>Sweep page: <a href='https://wandb.ai/3628-pavitrakhare-indian-institute-of-technology-madras/DA6401_ASS-practice/sweeps/nfibwu4x' target=\"_blank\">https://wandb.ai/3628-pavitrakhare-indian-institute-of-technology-madras/DA6401_ASS-practice/sweeps/nfibwu4x</a>"
            ],
            "text/plain": [
              "<IPython.core.display.HTML object>"
            ]
          },
          "metadata": {},
          "output_type": "display_data"
        },
        {
          "data": {
            "text/html": [
              " View project at <a href='https://wandb.ai/3628-pavitrakhare-indian-institute-of-technology-madras/DA6401_ASS-practice' target=\"_blank\">https://wandb.ai/3628-pavitrakhare-indian-institute-of-technology-madras/DA6401_ASS-practice</a>"
            ],
            "text/plain": [
              "<IPython.core.display.HTML object>"
            ]
          },
          "metadata": {},
          "output_type": "display_data"
        },
        {
          "data": {
            "text/html": [
              " View sweep at <a href='https://wandb.ai/3628-pavitrakhare-indian-institute-of-technology-madras/DA6401_ASS-practice/sweeps/nfibwu4x' target=\"_blank\">https://wandb.ai/3628-pavitrakhare-indian-institute-of-technology-madras/DA6401_ASS-practice/sweeps/nfibwu4x</a>"
            ],
            "text/plain": [
              "<IPython.core.display.HTML object>"
            ]
          },
          "metadata": {},
          "output_type": "display_data"
        },
        {
          "data": {
            "text/html": [
              " View run at <a href='https://wandb.ai/3628-pavitrakhare-indian-institute-of-technology-madras/DA6401_ASS-practice/runs/dh6mlrm6' target=\"_blank\">https://wandb.ai/3628-pavitrakhare-indian-institute-of-technology-madras/DA6401_ASS-practice/runs/dh6mlrm6</a>"
            ],
            "text/plain": [
              "<IPython.core.display.HTML object>"
            ]
          },
          "metadata": {},
          "output_type": "display_data"
        },
        {
          "name": "stdout",
          "output_type": "stream",
          "text": [
            "epoch :  1  validation loss :  0.5014513915478876\n",
            "epoch :  2  validation loss :  0.43632354484189306\n",
            "epoch :  3  validation loss :  0.40931468284728384\n",
            "epoch :  4  validation loss :  0.392271066959319\n",
            "epoch :  5  validation loss :  0.3800290816748312\n",
            "epoch :  6  validation loss :  0.3706412733304184\n",
            "epoch :  7  validation loss :  0.3631231912721182\n",
            "epoch :  8  validation loss :  0.3569441907633293\n",
            "epoch :  9  validation loss :  0.3518025321085296\n",
            "epoch :  10  validation loss :  0.34749907638468713\n"
          ]
        },
        {
          "data": {
            "text/html": [],
            "text/plain": [
              "<IPython.core.display.HTML object>"
            ]
          },
          "metadata": {},
          "output_type": "display_data"
        },
        {
          "data": {
            "text/html": [
              "<br>    <style><br>        .wandb-row {<br>            display: flex;<br>            flex-direction: row;<br>            flex-wrap: wrap;<br>            justify-content: flex-start;<br>            width: 100%;<br>        }<br>        .wandb-col {<br>            display: flex;<br>            flex-direction: column;<br>            flex-basis: 100%;<br>            flex: 1;<br>            padding: 10px;<br>        }<br>    </style><br><div class=\"wandb-row\"><div class=\"wandb-col\"><h3>Run history:</h3><br/><table class=\"wandb\"><tr><td>accuracy</td><td>▁▅▆▇▇▇▇███</td></tr><tr><td>epoch</td><td>▁▂▃▃▄▅▆▆▇█</td></tr><tr><td>loss</td><td>█▃▃▂▂▂▁▁▁▁</td></tr><tr><td>val_accuracy</td><td>▁▃▄▅▆▆▇▇██</td></tr><tr><td>val_loss</td><td>█▅▄▃▂▂▂▁▁▁</td></tr></table><br/></div><div class=\"wandb-col\"><h3>Run summary:</h3><br/><table class=\"wandb\"><tr><td>accuracy</td><td>0.88858</td></tr><tr><td>epoch</td><td>9</td></tr><tr><td>loss</td><td>0.30912</td></tr><tr><td>val_accuracy</td><td>0.8767</td></tr><tr><td>val_loss</td><td>0.3475</td></tr></table><br/></div></div>"
            ],
            "text/plain": [
              "<IPython.core.display.HTML object>"
            ]
          },
          "metadata": {},
          "output_type": "display_data"
        },
        {
          "data": {
            "text/html": [
              " View run <strong style=\"color:#cdcd00\">hl_4_sz_64_bs_16_ac_tanh_w_i_Xavier_lr_0.0001_wd_0</strong> at: <a href='https://wandb.ai/3628-pavitrakhare-indian-institute-of-technology-madras/DA6401_ASS-practice/runs/dh6mlrm6' target=\"_blank\">https://wandb.ai/3628-pavitrakhare-indian-institute-of-technology-madras/DA6401_ASS-practice/runs/dh6mlrm6</a><br> View project at: <a href='https://wandb.ai/3628-pavitrakhare-indian-institute-of-technology-madras/DA6401_ASS-practice' target=\"_blank\">https://wandb.ai/3628-pavitrakhare-indian-institute-of-technology-madras/DA6401_ASS-practice</a><br>Synced 5 W&B file(s), 0 media file(s), 0 artifact file(s) and 0 other file(s)"
            ],
            "text/plain": [
              "<IPython.core.display.HTML object>"
            ]
          },
          "metadata": {},
          "output_type": "display_data"
        },
        {
          "data": {
            "text/html": [
              "Find logs at: <code>./wandb/run-20250308_191311-dh6mlrm6/logs</code>"
            ],
            "text/plain": [
              "<IPython.core.display.HTML object>"
            ]
          },
          "metadata": {},
          "output_type": "display_data"
        },
        {
          "name": "stderr",
          "output_type": "stream",
          "text": [
            "\u001b[34m\u001b[1mwandb\u001b[0m: Agent Starting Run: t1e5fjqg with config:\n",
            "\u001b[34m\u001b[1mwandb\u001b[0m: \ta: sigmoid\n",
            "\u001b[34m\u001b[1mwandb\u001b[0m: \tb: 64\n",
            "\u001b[34m\u001b[1mwandb\u001b[0m: \te: 5\n",
            "\u001b[34m\u001b[1mwandb\u001b[0m: \tlr: 0.001\n",
            "\u001b[34m\u001b[1mwandb\u001b[0m: \tnlh: 5\n",
            "\u001b[34m\u001b[1mwandb\u001b[0m: \to: nadam\n",
            "\u001b[34m\u001b[1mwandb\u001b[0m: \tsz: 128\n",
            "\u001b[34m\u001b[1mwandb\u001b[0m: \tw_d: 0\n",
            "\u001b[34m\u001b[1mwandb\u001b[0m: \tw_i: random\n"
          ]
        },
        {
          "data": {
            "text/html": [
              "Ignoring project 'DA6401_ASS-practice' when running a sweep."
            ],
            "text/plain": [
              "<IPython.core.display.HTML object>"
            ]
          },
          "metadata": {},
          "output_type": "display_data"
        },
        {
          "data": {
            "text/html": [
              "Tracking run with wandb version 0.19.7"
            ],
            "text/plain": [
              "<IPython.core.display.HTML object>"
            ]
          },
          "metadata": {},
          "output_type": "display_data"
        },
        {
          "data": {
            "text/html": [
              "Run data is saved locally in <code>/content/wandb/run-20250308_192047-t1e5fjqg</code>"
            ],
            "text/plain": [
              "<IPython.core.display.HTML object>"
            ]
          },
          "metadata": {},
          "output_type": "display_data"
        },
        {
          "data": {
            "text/html": [
              "Syncing run <strong><a href='https://wandb.ai/3628-pavitrakhare-indian-institute-of-technology-madras/DA6401_ASS-practice/runs/t1e5fjqg' target=\"_blank\">eternal-sweep-2</a></strong> to <a href='https://wandb.ai/3628-pavitrakhare-indian-institute-of-technology-madras/DA6401_ASS-practice' target=\"_blank\">Weights & Biases</a> (<a href='https://wandb.me/developer-guide' target=\"_blank\">docs</a>)<br>Sweep page: <a href='https://wandb.ai/3628-pavitrakhare-indian-institute-of-technology-madras/DA6401_ASS-practice/sweeps/nfibwu4x' target=\"_blank\">https://wandb.ai/3628-pavitrakhare-indian-institute-of-technology-madras/DA6401_ASS-practice/sweeps/nfibwu4x</a>"
            ],
            "text/plain": [
              "<IPython.core.display.HTML object>"
            ]
          },
          "metadata": {},
          "output_type": "display_data"
        },
        {
          "data": {
            "text/html": [
              " View project at <a href='https://wandb.ai/3628-pavitrakhare-indian-institute-of-technology-madras/DA6401_ASS-practice' target=\"_blank\">https://wandb.ai/3628-pavitrakhare-indian-institute-of-technology-madras/DA6401_ASS-practice</a>"
            ],
            "text/plain": [
              "<IPython.core.display.HTML object>"
            ]
          },
          "metadata": {},
          "output_type": "display_data"
        },
        {
          "data": {
            "text/html": [
              " View sweep at <a href='https://wandb.ai/3628-pavitrakhare-indian-institute-of-technology-madras/DA6401_ASS-practice/sweeps/nfibwu4x' target=\"_blank\">https://wandb.ai/3628-pavitrakhare-indian-institute-of-technology-madras/DA6401_ASS-practice/sweeps/nfibwu4x</a>"
            ],
            "text/plain": [
              "<IPython.core.display.HTML object>"
            ]
          },
          "metadata": {},
          "output_type": "display_data"
        },
        {
          "data": {
            "text/html": [
              " View run at <a href='https://wandb.ai/3628-pavitrakhare-indian-institute-of-technology-madras/DA6401_ASS-practice/runs/t1e5fjqg' target=\"_blank\">https://wandb.ai/3628-pavitrakhare-indian-institute-of-technology-madras/DA6401_ASS-practice/runs/t1e5fjqg</a>"
            ],
            "text/plain": [
              "<IPython.core.display.HTML object>"
            ]
          },
          "metadata": {},
          "output_type": "display_data"
        },
        {
          "name": "stdout",
          "output_type": "stream",
          "text": [
            "epoch :  1  validation loss :  0.5285385897505\n",
            "epoch :  2  validation loss :  0.4429534644920731\n",
            "epoch :  3  validation loss :  0.4093183926618947\n",
            "epoch :  4  validation loss :  0.39122183369923574\n",
            "epoch :  5  validation loss :  0.3794650110818842\n"
          ]
        },
        {
          "data": {
            "text/html": [],
            "text/plain": [
              "<IPython.core.display.HTML object>"
            ]
          },
          "metadata": {},
          "output_type": "display_data"
        },
        {
          "data": {
            "text/html": [
              "<br>    <style><br>        .wandb-row {<br>            display: flex;<br>            flex-direction: row;<br>            flex-wrap: wrap;<br>            justify-content: flex-start;<br>            width: 100%;<br>        }<br>        .wandb-col {<br>            display: flex;<br>            flex-direction: column;<br>            flex-basis: 100%;<br>            flex: 1;<br>            padding: 10px;<br>        }<br>    </style><br><div class=\"wandb-row\"><div class=\"wandb-col\"><h3>Run history:</h3><br/><table class=\"wandb\"><tr><td>accuracy</td><td>▁▆▇██</td></tr><tr><td>epoch</td><td>▁▃▅▆█</td></tr><tr><td>loss</td><td>█▂▂▁▁</td></tr><tr><td>val_accuracy</td><td>▁▄▆▇█</td></tr><tr><td>val_loss</td><td>█▄▂▂▁</td></tr></table><br/></div><div class=\"wandb-col\"><h3>Run summary:</h3><br/><table class=\"wandb\"><tr><td>accuracy</td><td>0.87429</td></tr><tr><td>epoch</td><td>4</td></tr><tr><td>loss</td><td>0.35241</td></tr><tr><td>val_accuracy</td><td>0.86226</td></tr><tr><td>val_loss</td><td>0.37947</td></tr></table><br/></div></div>"
            ],
            "text/plain": [
              "<IPython.core.display.HTML object>"
            ]
          },
          "metadata": {},
          "output_type": "display_data"
        },
        {
          "data": {
            "text/html": [
              " View run <strong style=\"color:#cdcd00\">hl_5_sz_128_bs_64_ac_sigmoid_w_i_random_lr_0.001_wd_0</strong> at: <a href='https://wandb.ai/3628-pavitrakhare-indian-institute-of-technology-madras/DA6401_ASS-practice/runs/t1e5fjqg' target=\"_blank\">https://wandb.ai/3628-pavitrakhare-indian-institute-of-technology-madras/DA6401_ASS-practice/runs/t1e5fjqg</a><br> View project at: <a href='https://wandb.ai/3628-pavitrakhare-indian-institute-of-technology-madras/DA6401_ASS-practice' target=\"_blank\">https://wandb.ai/3628-pavitrakhare-indian-institute-of-technology-madras/DA6401_ASS-practice</a><br>Synced 5 W&B file(s), 0 media file(s), 0 artifact file(s) and 0 other file(s)"
            ],
            "text/plain": [
              "<IPython.core.display.HTML object>"
            ]
          },
          "metadata": {},
          "output_type": "display_data"
        },
        {
          "data": {
            "text/html": [
              "Find logs at: <code>./wandb/run-20250308_192047-t1e5fjqg/logs</code>"
            ],
            "text/plain": [
              "<IPython.core.display.HTML object>"
            ]
          },
          "metadata": {},
          "output_type": "display_data"
        },
        {
          "name": "stderr",
          "output_type": "stream",
          "text": [
            "\u001b[34m\u001b[1mwandb\u001b[0m: Agent Starting Run: x5i5lse8 with config:\n",
            "\u001b[34m\u001b[1mwandb\u001b[0m: \ta: ReLU\n",
            "\u001b[34m\u001b[1mwandb\u001b[0m: \tb: 64\n",
            "\u001b[34m\u001b[1mwandb\u001b[0m: \te: 10\n",
            "\u001b[34m\u001b[1mwandb\u001b[0m: \tlr: 0.001\n",
            "\u001b[34m\u001b[1mwandb\u001b[0m: \tnlh: 4\n",
            "\u001b[34m\u001b[1mwandb\u001b[0m: \to: sgd\n",
            "\u001b[34m\u001b[1mwandb\u001b[0m: \tsz: 64\n",
            "\u001b[34m\u001b[1mwandb\u001b[0m: \tw_d: 0.0005\n",
            "\u001b[34m\u001b[1mwandb\u001b[0m: \tw_i: Xavier\n"
          ]
        },
        {
          "data": {
            "text/html": [
              "Ignoring project 'DA6401_ASS-practice' when running a sweep."
            ],
            "text/plain": [
              "<IPython.core.display.HTML object>"
            ]
          },
          "metadata": {},
          "output_type": "display_data"
        },
        {
          "data": {
            "text/html": [
              "Tracking run with wandb version 0.19.7"
            ],
            "text/plain": [
              "<IPython.core.display.HTML object>"
            ]
          },
          "metadata": {},
          "output_type": "display_data"
        },
        {
          "data": {
            "text/html": [
              "Run data is saved locally in <code>/content/wandb/run-20250308_192718-x5i5lse8</code>"
            ],
            "text/plain": [
              "<IPython.core.display.HTML object>"
            ]
          },
          "metadata": {},
          "output_type": "display_data"
        },
        {
          "data": {
            "text/html": [
              "Syncing run <strong><a href='https://wandb.ai/3628-pavitrakhare-indian-institute-of-technology-madras/DA6401_ASS-practice/runs/x5i5lse8' target=\"_blank\">hearty-sweep-3</a></strong> to <a href='https://wandb.ai/3628-pavitrakhare-indian-institute-of-technology-madras/DA6401_ASS-practice' target=\"_blank\">Weights & Biases</a> (<a href='https://wandb.me/developer-guide' target=\"_blank\">docs</a>)<br>Sweep page: <a href='https://wandb.ai/3628-pavitrakhare-indian-institute-of-technology-madras/DA6401_ASS-practice/sweeps/nfibwu4x' target=\"_blank\">https://wandb.ai/3628-pavitrakhare-indian-institute-of-technology-madras/DA6401_ASS-practice/sweeps/nfibwu4x</a>"
            ],
            "text/plain": [
              "<IPython.core.display.HTML object>"
            ]
          },
          "metadata": {},
          "output_type": "display_data"
        },
        {
          "data": {
            "text/html": [
              " View project at <a href='https://wandb.ai/3628-pavitrakhare-indian-institute-of-technology-madras/DA6401_ASS-practice' target=\"_blank\">https://wandb.ai/3628-pavitrakhare-indian-institute-of-technology-madras/DA6401_ASS-practice</a>"
            ],
            "text/plain": [
              "<IPython.core.display.HTML object>"
            ]
          },
          "metadata": {},
          "output_type": "display_data"
        },
        {
          "data": {
            "text/html": [
              " View sweep at <a href='https://wandb.ai/3628-pavitrakhare-indian-institute-of-technology-madras/DA6401_ASS-practice/sweeps/nfibwu4x' target=\"_blank\">https://wandb.ai/3628-pavitrakhare-indian-institute-of-technology-madras/DA6401_ASS-practice/sweeps/nfibwu4x</a>"
            ],
            "text/plain": [
              "<IPython.core.display.HTML object>"
            ]
          },
          "metadata": {},
          "output_type": "display_data"
        },
        {
          "data": {
            "text/html": [
              " View run at <a href='https://wandb.ai/3628-pavitrakhare-indian-institute-of-technology-madras/DA6401_ASS-practice/runs/x5i5lse8' target=\"_blank\">https://wandb.ai/3628-pavitrakhare-indian-institute-of-technology-madras/DA6401_ASS-practice/runs/x5i5lse8</a>"
            ],
            "text/plain": [
              "<IPython.core.display.HTML object>"
            ]
          },
          "metadata": {},
          "output_type": "display_data"
        },
        {
          "name": "stdout",
          "output_type": "stream",
          "text": [
            "epoch :  1  validation loss :  0.6533527503578174\n",
            "epoch :  2  validation loss :  0.5592143507170356\n",
            "epoch :  3  validation loss :  0.5165521784581647\n",
            "epoch :  4  validation loss :  0.4926644640950472\n",
            "epoch :  5  validation loss :  0.4771540374483476\n",
            "epoch :  6  validation loss :  0.46443862865593016\n",
            "epoch :  7  validation loss :  0.45441423834209455\n",
            "epoch :  8  validation loss :  0.4459013771684675\n",
            "epoch :  9  validation loss :  0.4383649027535786\n",
            "epoch :  10  validation loss :  0.4323502175771841\n"
          ]
        },
        {
          "data": {
            "text/html": [],
            "text/plain": [
              "<IPython.core.display.HTML object>"
            ]
          },
          "metadata": {},
          "output_type": "display_data"
        },
        {
          "data": {
            "text/html": [
              "<br>    <style><br>        .wandb-row {<br>            display: flex;<br>            flex-direction: row;<br>            flex-wrap: wrap;<br>            justify-content: flex-start;<br>            width: 100%;<br>        }<br>        .wandb-col {<br>            display: flex;<br>            flex-direction: column;<br>            flex-basis: 100%;<br>            flex: 1;<br>            padding: 10px;<br>        }<br>    </style><br><div class=\"wandb-row\"><div class=\"wandb-col\"><h3>Run history:</h3><br/><table class=\"wandb\"><tr><td>accuracy</td><td>▁▆▆▇▇▇████</td></tr><tr><td>epoch</td><td>▁▂▃▃▄▅▆▆▇█</td></tr><tr><td>loss</td><td>█▃▂▂▂▂▁▁▁▁</td></tr><tr><td>val_accuracy</td><td>▁▄▅▆▆▇▇▇██</td></tr><tr><td>val_loss</td><td>█▅▄▃▂▂▂▁▁▁</td></tr></table><br/></div><div class=\"wandb-col\"><h3>Run summary:</h3><br/><table class=\"wandb\"><tr><td>accuracy</td><td>0.85995</td></tr><tr><td>epoch</td><td>9</td></tr><tr><td>loss</td><td>0.40234</td></tr><tr><td>val_accuracy</td><td>0.8463</td></tr><tr><td>val_loss</td><td>0.43235</td></tr></table><br/></div></div>"
            ],
            "text/plain": [
              "<IPython.core.display.HTML object>"
            ]
          },
          "metadata": {},
          "output_type": "display_data"
        },
        {
          "data": {
            "text/html": [
              " View run <strong style=\"color:#cdcd00\">hl_4_sz_64_bs_64_ac_ReLU_w_i_Xavier_lr_0.001_wd_0.0005</strong> at: <a href='https://wandb.ai/3628-pavitrakhare-indian-institute-of-technology-madras/DA6401_ASS-practice/runs/x5i5lse8' target=\"_blank\">https://wandb.ai/3628-pavitrakhare-indian-institute-of-technology-madras/DA6401_ASS-practice/runs/x5i5lse8</a><br> View project at: <a href='https://wandb.ai/3628-pavitrakhare-indian-institute-of-technology-madras/DA6401_ASS-practice' target=\"_blank\">https://wandb.ai/3628-pavitrakhare-indian-institute-of-technology-madras/DA6401_ASS-practice</a><br>Synced 5 W&B file(s), 0 media file(s), 0 artifact file(s) and 0 other file(s)"
            ],
            "text/plain": [
              "<IPython.core.display.HTML object>"
            ]
          },
          "metadata": {},
          "output_type": "display_data"
        },
        {
          "data": {
            "text/html": [
              "Find logs at: <code>./wandb/run-20250308_192718-x5i5lse8/logs</code>"
            ],
            "text/plain": [
              "<IPython.core.display.HTML object>"
            ]
          },
          "metadata": {},
          "output_type": "display_data"
        },
        {
          "name": "stderr",
          "output_type": "stream",
          "text": [
            "\u001b[34m\u001b[1mwandb\u001b[0m: Agent Starting Run: 3or2xr8t with config:\n",
            "\u001b[34m\u001b[1mwandb\u001b[0m: \ta: tanh\n",
            "\u001b[34m\u001b[1mwandb\u001b[0m: \tb: 32\n",
            "\u001b[34m\u001b[1mwandb\u001b[0m: \te: 10\n",
            "\u001b[34m\u001b[1mwandb\u001b[0m: \tlr: 0.0001\n",
            "\u001b[34m\u001b[1mwandb\u001b[0m: \tnlh: 4\n",
            "\u001b[34m\u001b[1mwandb\u001b[0m: \to: rmsprop\n",
            "\u001b[34m\u001b[1mwandb\u001b[0m: \tsz: 128\n",
            "\u001b[34m\u001b[1mwandb\u001b[0m: \tw_d: 0.0005\n",
            "\u001b[34m\u001b[1mwandb\u001b[0m: \tw_i: Xavier\n"
          ]
        },
        {
          "data": {
            "text/html": [
              "Ignoring project 'DA6401_ASS-practice' when running a sweep."
            ],
            "text/plain": [
              "<IPython.core.display.HTML object>"
            ]
          },
          "metadata": {},
          "output_type": "display_data"
        },
        {
          "data": {
            "text/html": [
              "Tracking run with wandb version 0.19.7"
            ],
            "text/plain": [
              "<IPython.core.display.HTML object>"
            ]
          },
          "metadata": {},
          "output_type": "display_data"
        },
        {
          "data": {
            "text/html": [
              "Run data is saved locally in <code>/content/wandb/run-20250308_193238-3or2xr8t</code>"
            ],
            "text/plain": [
              "<IPython.core.display.HTML object>"
            ]
          },
          "metadata": {},
          "output_type": "display_data"
        },
        {
          "data": {
            "text/html": [
              "Syncing run <strong><a href='https://wandb.ai/3628-pavitrakhare-indian-institute-of-technology-madras/DA6401_ASS-practice/runs/3or2xr8t' target=\"_blank\">sweet-sweep-4</a></strong> to <a href='https://wandb.ai/3628-pavitrakhare-indian-institute-of-technology-madras/DA6401_ASS-practice' target=\"_blank\">Weights & Biases</a> (<a href='https://wandb.me/developer-guide' target=\"_blank\">docs</a>)<br>Sweep page: <a href='https://wandb.ai/3628-pavitrakhare-indian-institute-of-technology-madras/DA6401_ASS-practice/sweeps/nfibwu4x' target=\"_blank\">https://wandb.ai/3628-pavitrakhare-indian-institute-of-technology-madras/DA6401_ASS-practice/sweeps/nfibwu4x</a>"
            ],
            "text/plain": [
              "<IPython.core.display.HTML object>"
            ]
          },
          "metadata": {},
          "output_type": "display_data"
        },
        {
          "data": {
            "text/html": [
              " View project at <a href='https://wandb.ai/3628-pavitrakhare-indian-institute-of-technology-madras/DA6401_ASS-practice' target=\"_blank\">https://wandb.ai/3628-pavitrakhare-indian-institute-of-technology-madras/DA6401_ASS-practice</a>"
            ],
            "text/plain": [
              "<IPython.core.display.HTML object>"
            ]
          },
          "metadata": {},
          "output_type": "display_data"
        },
        {
          "data": {
            "text/html": [
              " View sweep at <a href='https://wandb.ai/3628-pavitrakhare-indian-institute-of-technology-madras/DA6401_ASS-practice/sweeps/nfibwu4x' target=\"_blank\">https://wandb.ai/3628-pavitrakhare-indian-institute-of-technology-madras/DA6401_ASS-practice/sweeps/nfibwu4x</a>"
            ],
            "text/plain": [
              "<IPython.core.display.HTML object>"
            ]
          },
          "metadata": {},
          "output_type": "display_data"
        },
        {
          "data": {
            "text/html": [
              " View run at <a href='https://wandb.ai/3628-pavitrakhare-indian-institute-of-technology-madras/DA6401_ASS-practice/runs/3or2xr8t' target=\"_blank\">https://wandb.ai/3628-pavitrakhare-indian-institute-of-technology-madras/DA6401_ASS-practice/runs/3or2xr8t</a>"
            ],
            "text/plain": [
              "<IPython.core.display.HTML object>"
            ]
          },
          "metadata": {},
          "output_type": "display_data"
        },
        {
          "name": "stdout",
          "output_type": "stream",
          "text": [
            "epoch :  1  validation loss :  0.5097762057212344\n",
            "epoch :  2  validation loss :  0.44464050537686994\n",
            "epoch :  3  validation loss :  0.4174691065856139\n",
            "epoch :  4  validation loss :  0.4008889083631352\n",
            "epoch :  5  validation loss :  0.3892535172894753\n",
            "epoch :  6  validation loss :  0.3803931165261007\n",
            "epoch :  7  validation loss :  0.3732580989361467\n",
            "epoch :  8  validation loss :  0.36727423607206433\n",
            "epoch :  9  validation loss :  0.3621194003947548\n",
            "epoch :  10  validation loss :  0.35760669813988116\n"
          ]
        },
        {
          "data": {
            "text/html": [],
            "text/plain": [
              "<IPython.core.display.HTML object>"
            ]
          },
          "metadata": {},
          "output_type": "display_data"
        },
        {
          "data": {
            "text/html": [
              "<br>    <style><br>        .wandb-row {<br>            display: flex;<br>            flex-direction: row;<br>            flex-wrap: wrap;<br>            justify-content: flex-start;<br>            width: 100%;<br>        }<br>        .wandb-col {<br>            display: flex;<br>            flex-direction: column;<br>            flex-basis: 100%;<br>            flex: 1;<br>            padding: 10px;<br>        }<br>    </style><br><div class=\"wandb-row\"><div class=\"wandb-col\"><h3>Run history:</h3><br/><table class=\"wandb\"><tr><td>accuracy</td><td>▁▅▆▇▇▇▇███</td></tr><tr><td>epoch</td><td>▁▂▃▃▄▅▆▆▇█</td></tr><tr><td>loss</td><td>█▃▃▂▂▂▁▁▁▁</td></tr><tr><td>val_accuracy</td><td>▁▄▅▆▆▇▇███</td></tr><tr><td>val_loss</td><td>█▅▄▃▂▂▂▁▁▁</td></tr></table><br/></div><div class=\"wandb-col\"><h3>Run summary:</h3><br/><table class=\"wandb\"><tr><td>accuracy</td><td>0.88263</td></tr><tr><td>epoch</td><td>9</td></tr><tr><td>loss</td><td>0.32793</td></tr><tr><td>val_accuracy</td><td>0.86685</td></tr><tr><td>val_loss</td><td>0.35761</td></tr></table><br/></div></div>"
            ],
            "text/plain": [
              "<IPython.core.display.HTML object>"
            ]
          },
          "metadata": {},
          "output_type": "display_data"
        },
        {
          "data": {
            "text/html": [
              " View run <strong style=\"color:#cdcd00\">hl_4_sz_128_bs_32_ac_tanh_w_i_Xavier_lr_0.0001_wd_0.0005</strong> at: <a href='https://wandb.ai/3628-pavitrakhare-indian-institute-of-technology-madras/DA6401_ASS-practice/runs/3or2xr8t' target=\"_blank\">https://wandb.ai/3628-pavitrakhare-indian-institute-of-technology-madras/DA6401_ASS-practice/runs/3or2xr8t</a><br> View project at: <a href='https://wandb.ai/3628-pavitrakhare-indian-institute-of-technology-madras/DA6401_ASS-practice' target=\"_blank\">https://wandb.ai/3628-pavitrakhare-indian-institute-of-technology-madras/DA6401_ASS-practice</a><br>Synced 5 W&B file(s), 0 media file(s), 0 artifact file(s) and 0 other file(s)"
            ],
            "text/plain": [
              "<IPython.core.display.HTML object>"
            ]
          },
          "metadata": {},
          "output_type": "display_data"
        },
        {
          "data": {
            "text/html": [
              "Find logs at: <code>./wandb/run-20250308_193238-3or2xr8t/logs</code>"
            ],
            "text/plain": [
              "<IPython.core.display.HTML object>"
            ]
          },
          "metadata": {},
          "output_type": "display_data"
        },
        {
          "name": "stderr",
          "output_type": "stream",
          "text": [
            "\u001b[34m\u001b[1mwandb\u001b[0m: Sweep Agent: Waiting for job.\n",
            "\u001b[34m\u001b[1mwandb\u001b[0m: Job received.\n",
            "\u001b[34m\u001b[1mwandb\u001b[0m: Agent Starting Run: 46lcfvlg with config:\n",
            "\u001b[34m\u001b[1mwandb\u001b[0m: \ta: sigmoid\n",
            "\u001b[34m\u001b[1mwandb\u001b[0m: \tb: 32\n",
            "\u001b[34m\u001b[1mwandb\u001b[0m: \te: 10\n",
            "\u001b[34m\u001b[1mwandb\u001b[0m: \tlr: 0.0001\n",
            "\u001b[34m\u001b[1mwandb\u001b[0m: \tnlh: 4\n",
            "\u001b[34m\u001b[1mwandb\u001b[0m: \to: nadam\n",
            "\u001b[34m\u001b[1mwandb\u001b[0m: \tsz: 128\n",
            "\u001b[34m\u001b[1mwandb\u001b[0m: \tw_d: 0\n",
            "\u001b[34m\u001b[1mwandb\u001b[0m: \tw_i: Xavier\n"
          ]
        },
        {
          "data": {
            "text/html": [
              "Ignoring project 'DA6401_ASS-practice' when running a sweep."
            ],
            "text/plain": [
              "<IPython.core.display.HTML object>"
            ]
          },
          "metadata": {},
          "output_type": "display_data"
        },
        {
          "data": {
            "text/html": [
              "Tracking run with wandb version 0.19.7"
            ],
            "text/plain": [
              "<IPython.core.display.HTML object>"
            ]
          },
          "metadata": {},
          "output_type": "display_data"
        },
        {
          "data": {
            "text/html": [
              "Run data is saved locally in <code>/content/wandb/run-20250308_194418-46lcfvlg</code>"
            ],
            "text/plain": [
              "<IPython.core.display.HTML object>"
            ]
          },
          "metadata": {},
          "output_type": "display_data"
        },
        {
          "data": {
            "text/html": [
              "Syncing run <strong><a href='https://wandb.ai/3628-pavitrakhare-indian-institute-of-technology-madras/DA6401_ASS-practice/runs/46lcfvlg' target=\"_blank\">atomic-sweep-5</a></strong> to <a href='https://wandb.ai/3628-pavitrakhare-indian-institute-of-technology-madras/DA6401_ASS-practice' target=\"_blank\">Weights & Biases</a> (<a href='https://wandb.me/developer-guide' target=\"_blank\">docs</a>)<br>Sweep page: <a href='https://wandb.ai/3628-pavitrakhare-indian-institute-of-technology-madras/DA6401_ASS-practice/sweeps/nfibwu4x' target=\"_blank\">https://wandb.ai/3628-pavitrakhare-indian-institute-of-technology-madras/DA6401_ASS-practice/sweeps/nfibwu4x</a>"
            ],
            "text/plain": [
              "<IPython.core.display.HTML object>"
            ]
          },
          "metadata": {},
          "output_type": "display_data"
        },
        {
          "data": {
            "text/html": [
              " View project at <a href='https://wandb.ai/3628-pavitrakhare-indian-institute-of-technology-madras/DA6401_ASS-practice' target=\"_blank\">https://wandb.ai/3628-pavitrakhare-indian-institute-of-technology-madras/DA6401_ASS-practice</a>"
            ],
            "text/plain": [
              "<IPython.core.display.HTML object>"
            ]
          },
          "metadata": {},
          "output_type": "display_data"
        },
        {
          "data": {
            "text/html": [
              " View sweep at <a href='https://wandb.ai/3628-pavitrakhare-indian-institute-of-technology-madras/DA6401_ASS-practice/sweeps/nfibwu4x' target=\"_blank\">https://wandb.ai/3628-pavitrakhare-indian-institute-of-technology-madras/DA6401_ASS-practice/sweeps/nfibwu4x</a>"
            ],
            "text/plain": [
              "<IPython.core.display.HTML object>"
            ]
          },
          "metadata": {},
          "output_type": "display_data"
        },
        {
          "data": {
            "text/html": [
              " View run at <a href='https://wandb.ai/3628-pavitrakhare-indian-institute-of-technology-madras/DA6401_ASS-practice/runs/46lcfvlg' target=\"_blank\">https://wandb.ai/3628-pavitrakhare-indian-institute-of-technology-madras/DA6401_ASS-practice/runs/46lcfvlg</a>"
            ],
            "text/plain": [
              "<IPython.core.display.HTML object>"
            ]
          },
          "metadata": {},
          "output_type": "display_data"
        },
        {
          "name": "stdout",
          "output_type": "stream",
          "text": [
            "epoch :  1  validation loss :  2.2954042923671043\n",
            "epoch :  2  validation loss :  2.28776140025998\n",
            "epoch :  3  validation loss :  2.277443566267048\n",
            "epoch :  4  validation loss :  2.2607361381621662\n",
            "epoch :  5  validation loss :  2.2295592135709104\n",
            "epoch :  6  validation loss :  2.1634219091987243\n",
            "epoch :  7  validation loss :  2.025297765947674\n",
            "epoch :  8  validation loss :  1.8431147931029974\n",
            "epoch :  9  validation loss :  1.7209149437314408\n",
            "epoch :  10  validation loss :  1.6443204386881682\n"
          ]
        },
        {
          "data": {
            "text/html": [],
            "text/plain": [
              "<IPython.core.display.HTML object>"
            ]
          },
          "metadata": {},
          "output_type": "display_data"
        },
        {
          "data": {
            "text/html": [
              "<br>    <style><br>        .wandb-row {<br>            display: flex;<br>            flex-direction: row;<br>            flex-wrap: wrap;<br>            justify-content: flex-start;<br>            width: 100%;<br>        }<br>        .wandb-col {<br>            display: flex;<br>            flex-direction: column;<br>            flex-basis: 100%;<br>            flex: 1;<br>            padding: 10px;<br>        }<br>    </style><br><div class=\"wandb-row\"><div class=\"wandb-col\"><h3>Run history:</h3><br/><table class=\"wandb\"><tr><td>accuracy</td><td>▁▂▃▅▆▆▆▆▇█</td></tr><tr><td>epoch</td><td>▁▂▃▃▄▅▆▆▇█</td></tr><tr><td>loss</td><td>████▇▇▆▄▂▁</td></tr><tr><td>val_accuracy</td><td>▁▂▃▇▆▅▅▅▆█</td></tr><tr><td>val_loss</td><td>████▇▇▅▃▂▁</td></tr></table><br/></div><div class=\"wandb-col\"><h3>Run summary:</h3><br/><table class=\"wandb\"><tr><td>accuracy</td><td>0.36105</td></tr><tr><td>epoch</td><td>9</td></tr><tr><td>loss</td><td>1.68446</td></tr><tr><td>val_accuracy</td><td>0.46926</td></tr><tr><td>val_loss</td><td>1.64432</td></tr></table><br/></div></div>"
            ],
            "text/plain": [
              "<IPython.core.display.HTML object>"
            ]
          },
          "metadata": {},
          "output_type": "display_data"
        },
        {
          "data": {
            "text/html": [
              " View run <strong style=\"color:#cdcd00\">hl_4_sz_128_bs_32_ac_sigmoid_w_i_Xavier_lr_0.0001_wd_0</strong> at: <a href='https://wandb.ai/3628-pavitrakhare-indian-institute-of-technology-madras/DA6401_ASS-practice/runs/46lcfvlg' target=\"_blank\">https://wandb.ai/3628-pavitrakhare-indian-institute-of-technology-madras/DA6401_ASS-practice/runs/46lcfvlg</a><br> View project at: <a href='https://wandb.ai/3628-pavitrakhare-indian-institute-of-technology-madras/DA6401_ASS-practice' target=\"_blank\">https://wandb.ai/3628-pavitrakhare-indian-institute-of-technology-madras/DA6401_ASS-practice</a><br>Synced 5 W&B file(s), 0 media file(s), 0 artifact file(s) and 0 other file(s)"
            ],
            "text/plain": [
              "<IPython.core.display.HTML object>"
            ]
          },
          "metadata": {},
          "output_type": "display_data"
        },
        {
          "data": {
            "text/html": [
              "Find logs at: <code>./wandb/run-20250308_194418-46lcfvlg/logs</code>"
            ],
            "text/plain": [
              "<IPython.core.display.HTML object>"
            ]
          },
          "metadata": {},
          "output_type": "display_data"
        },
        {
          "name": "stderr",
          "output_type": "stream",
          "text": [
            "\u001b[34m\u001b[1mwandb\u001b[0m: Agent Starting Run: hr29rwbz with config:\n",
            "\u001b[34m\u001b[1mwandb\u001b[0m: \ta: sigmoid\n",
            "\u001b[34m\u001b[1mwandb\u001b[0m: \tb: 16\n",
            "\u001b[34m\u001b[1mwandb\u001b[0m: \te: 10\n",
            "\u001b[34m\u001b[1mwandb\u001b[0m: \tlr: 0.0001\n",
            "\u001b[34m\u001b[1mwandb\u001b[0m: \tnlh: 5\n",
            "\u001b[34m\u001b[1mwandb\u001b[0m: \to: nadam\n",
            "\u001b[34m\u001b[1mwandb\u001b[0m: \tsz: 128\n",
            "\u001b[34m\u001b[1mwandb\u001b[0m: \tw_d: 0.5\n",
            "\u001b[34m\u001b[1mwandb\u001b[0m: \tw_i: random\n"
          ]
        },
        {
          "data": {
            "text/html": [
              "Ignoring project 'DA6401_ASS-practice' when running a sweep."
            ],
            "text/plain": [
              "<IPython.core.display.HTML object>"
            ]
          },
          "metadata": {},
          "output_type": "display_data"
        },
        {
          "data": {
            "text/html": [
              "Tracking run with wandb version 0.19.7"
            ],
            "text/plain": [
              "<IPython.core.display.HTML object>"
            ]
          },
          "metadata": {},
          "output_type": "display_data"
        },
        {
          "data": {
            "text/html": [
              "Run data is saved locally in <code>/content/wandb/run-20250308_195633-hr29rwbz</code>"
            ],
            "text/plain": [
              "<IPython.core.display.HTML object>"
            ]
          },
          "metadata": {},
          "output_type": "display_data"
        },
        {
          "data": {
            "text/html": [
              "Syncing run <strong><a href='https://wandb.ai/3628-pavitrakhare-indian-institute-of-technology-madras/DA6401_ASS-practice/runs/hr29rwbz' target=\"_blank\">copper-sweep-6</a></strong> to <a href='https://wandb.ai/3628-pavitrakhare-indian-institute-of-technology-madras/DA6401_ASS-practice' target=\"_blank\">Weights & Biases</a> (<a href='https://wandb.me/developer-guide' target=\"_blank\">docs</a>)<br>Sweep page: <a href='https://wandb.ai/3628-pavitrakhare-indian-institute-of-technology-madras/DA6401_ASS-practice/sweeps/nfibwu4x' target=\"_blank\">https://wandb.ai/3628-pavitrakhare-indian-institute-of-technology-madras/DA6401_ASS-practice/sweeps/nfibwu4x</a>"
            ],
            "text/plain": [
              "<IPython.core.display.HTML object>"
            ]
          },
          "metadata": {},
          "output_type": "display_data"
        },
        {
          "data": {
            "text/html": [
              " View project at <a href='https://wandb.ai/3628-pavitrakhare-indian-institute-of-technology-madras/DA6401_ASS-practice' target=\"_blank\">https://wandb.ai/3628-pavitrakhare-indian-institute-of-technology-madras/DA6401_ASS-practice</a>"
            ],
            "text/plain": [
              "<IPython.core.display.HTML object>"
            ]
          },
          "metadata": {},
          "output_type": "display_data"
        },
        {
          "data": {
            "text/html": [
              " View sweep at <a href='https://wandb.ai/3628-pavitrakhare-indian-institute-of-technology-madras/DA6401_ASS-practice/sweeps/nfibwu4x' target=\"_blank\">https://wandb.ai/3628-pavitrakhare-indian-institute-of-technology-madras/DA6401_ASS-practice/sweeps/nfibwu4x</a>"
            ],
            "text/plain": [
              "<IPython.core.display.HTML object>"
            ]
          },
          "metadata": {},
          "output_type": "display_data"
        },
        {
          "data": {
            "text/html": [
              " View run at <a href='https://wandb.ai/3628-pavitrakhare-indian-institute-of-technology-madras/DA6401_ASS-practice/runs/hr29rwbz' target=\"_blank\">https://wandb.ai/3628-pavitrakhare-indian-institute-of-technology-madras/DA6401_ASS-practice/runs/hr29rwbz</a>"
            ],
            "text/plain": [
              "<IPython.core.display.HTML object>"
            ]
          },
          "metadata": {},
          "output_type": "display_data"
        },
        {
          "name": "stdout",
          "output_type": "stream",
          "text": [
            "epoch :  1  validation loss :  2.556354712566797\n",
            "epoch :  2  validation loss :  2.394287678867802\n",
            "epoch :  3  validation loss :  2.3277138324976416\n",
            "epoch :  4  validation loss :  2.2893956141551293\n",
            "epoch :  5  validation loss :  2.2639459262578763\n",
            "epoch :  6  validation loss :  2.245314354918612\n",
            "epoch :  7  validation loss :  2.230653274661912\n",
            "epoch :  8  validation loss :  2.2189258303734105\n",
            "epoch :  9  validation loss :  2.209353665183211\n",
            "epoch :  10  validation loss :  2.201314223349451\n"
          ]
        },
        {
          "data": {
            "text/html": [],
            "text/plain": [
              "<IPython.core.display.HTML object>"
            ]
          },
          "metadata": {},
          "output_type": "display_data"
        },
        {
          "data": {
            "text/html": [
              "<br>    <style><br>        .wandb-row {<br>            display: flex;<br>            flex-direction: row;<br>            flex-wrap: wrap;<br>            justify-content: flex-start;<br>            width: 100%;<br>        }<br>        .wandb-col {<br>            display: flex;<br>            flex-direction: column;<br>            flex-basis: 100%;<br>            flex: 1;<br>            padding: 10px;<br>        }<br>    </style><br><div class=\"wandb-row\"><div class=\"wandb-col\"><h3>Run history:</h3><br/><table class=\"wandb\"><tr><td>accuracy</td><td>▁▆▆▇▇▇████</td></tr><tr><td>epoch</td><td>▁▂▃▃▄▅▆▆▇█</td></tr><tr><td>loss</td><td>█▃▂▂▂▁▁▁▁▁</td></tr><tr><td>val_accuracy</td><td>▁▃▅▆▆▇▇▇██</td></tr><tr><td>val_loss</td><td>█▅▃▃▂▂▂▁▁▁</td></tr></table><br/></div><div class=\"wandb-col\"><h3>Run summary:</h3><br/><table class=\"wandb\"><tr><td>accuracy</td><td>0.85423</td></tr><tr><td>epoch</td><td>9</td></tr><tr><td>loss</td><td>0.60432</td></tr><tr><td>val_accuracy</td><td>0.84545</td></tr><tr><td>val_loss</td><td>2.20131</td></tr></table><br/></div></div>"
            ],
            "text/plain": [
              "<IPython.core.display.HTML object>"
            ]
          },
          "metadata": {},
          "output_type": "display_data"
        },
        {
          "data": {
            "text/html": [
              " View run <strong style=\"color:#cdcd00\">hl_5_sz_128_bs_16_ac_sigmoid_w_i_random_lr_0.0001_wd_0.5</strong> at: <a href='https://wandb.ai/3628-pavitrakhare-indian-institute-of-technology-madras/DA6401_ASS-practice/runs/hr29rwbz' target=\"_blank\">https://wandb.ai/3628-pavitrakhare-indian-institute-of-technology-madras/DA6401_ASS-practice/runs/hr29rwbz</a><br> View project at: <a href='https://wandb.ai/3628-pavitrakhare-indian-institute-of-technology-madras/DA6401_ASS-practice' target=\"_blank\">https://wandb.ai/3628-pavitrakhare-indian-institute-of-technology-madras/DA6401_ASS-practice</a><br>Synced 5 W&B file(s), 0 media file(s), 0 artifact file(s) and 0 other file(s)"
            ],
            "text/plain": [
              "<IPython.core.display.HTML object>"
            ]
          },
          "metadata": {},
          "output_type": "display_data"
        },
        {
          "data": {
            "text/html": [
              "Find logs at: <code>./wandb/run-20250308_195633-hr29rwbz/logs</code>"
            ],
            "text/plain": [
              "<IPython.core.display.HTML object>"
            ]
          },
          "metadata": {},
          "output_type": "display_data"
        },
        {
          "name": "stderr",
          "output_type": "stream",
          "text": [
            "\u001b[34m\u001b[1mwandb\u001b[0m: Agent Starting Run: s41hxp5a with config:\n",
            "\u001b[34m\u001b[1mwandb\u001b[0m: \ta: tanh\n",
            "\u001b[34m\u001b[1mwandb\u001b[0m: \tb: 16\n",
            "\u001b[34m\u001b[1mwandb\u001b[0m: \te: 5\n",
            "\u001b[34m\u001b[1mwandb\u001b[0m: \tlr: 0.0001\n",
            "\u001b[34m\u001b[1mwandb\u001b[0m: \tnlh: 5\n",
            "\u001b[34m\u001b[1mwandb\u001b[0m: \to: sgd\n",
            "\u001b[34m\u001b[1mwandb\u001b[0m: \tsz: 32\n",
            "\u001b[34m\u001b[1mwandb\u001b[0m: \tw_d: 0.0005\n",
            "\u001b[34m\u001b[1mwandb\u001b[0m: \tw_i: Xavier\n"
          ]
        },
        {
          "data": {
            "text/html": [
              "Ignoring project 'DA6401_ASS-practice' when running a sweep."
            ],
            "text/plain": [
              "<IPython.core.display.HTML object>"
            ]
          },
          "metadata": {},
          "output_type": "display_data"
        },
        {
          "data": {
            "text/html": [
              "Tracking run with wandb version 0.19.7"
            ],
            "text/plain": [
              "<IPython.core.display.HTML object>"
            ]
          },
          "metadata": {},
          "output_type": "display_data"
        },
        {
          "data": {
            "text/html": [
              "Run data is saved locally in <code>/content/wandb/run-20250308_201438-s41hxp5a</code>"
            ],
            "text/plain": [
              "<IPython.core.display.HTML object>"
            ]
          },
          "metadata": {},
          "output_type": "display_data"
        },
        {
          "data": {
            "text/html": [
              "Syncing run <strong><a href='https://wandb.ai/3628-pavitrakhare-indian-institute-of-technology-madras/DA6401_ASS-practice/runs/s41hxp5a' target=\"_blank\">noble-sweep-7</a></strong> to <a href='https://wandb.ai/3628-pavitrakhare-indian-institute-of-technology-madras/DA6401_ASS-practice' target=\"_blank\">Weights & Biases</a> (<a href='https://wandb.me/developer-guide' target=\"_blank\">docs</a>)<br>Sweep page: <a href='https://wandb.ai/3628-pavitrakhare-indian-institute-of-technology-madras/DA6401_ASS-practice/sweeps/nfibwu4x' target=\"_blank\">https://wandb.ai/3628-pavitrakhare-indian-institute-of-technology-madras/DA6401_ASS-practice/sweeps/nfibwu4x</a>"
            ],
            "text/plain": [
              "<IPython.core.display.HTML object>"
            ]
          },
          "metadata": {},
          "output_type": "display_data"
        },
        {
          "data": {
            "text/html": [
              " View project at <a href='https://wandb.ai/3628-pavitrakhare-indian-institute-of-technology-madras/DA6401_ASS-practice' target=\"_blank\">https://wandb.ai/3628-pavitrakhare-indian-institute-of-technology-madras/DA6401_ASS-practice</a>"
            ],
            "text/plain": [
              "<IPython.core.display.HTML object>"
            ]
          },
          "metadata": {},
          "output_type": "display_data"
        },
        {
          "data": {
            "text/html": [
              " View sweep at <a href='https://wandb.ai/3628-pavitrakhare-indian-institute-of-technology-madras/DA6401_ASS-practice/sweeps/nfibwu4x' target=\"_blank\">https://wandb.ai/3628-pavitrakhare-indian-institute-of-technology-madras/DA6401_ASS-practice/sweeps/nfibwu4x</a>"
            ],
            "text/plain": [
              "<IPython.core.display.HTML object>"
            ]
          },
          "metadata": {},
          "output_type": "display_data"
        },
        {
          "data": {
            "text/html": [
              " View run at <a href='https://wandb.ai/3628-pavitrakhare-indian-institute-of-technology-madras/DA6401_ASS-practice/runs/s41hxp5a' target=\"_blank\">https://wandb.ai/3628-pavitrakhare-indian-institute-of-technology-madras/DA6401_ASS-practice/runs/s41hxp5a</a>"
            ],
            "text/plain": [
              "<IPython.core.display.HTML object>"
            ]
          },
          "metadata": {},
          "output_type": "display_data"
        },
        {
          "name": "stdout",
          "output_type": "stream",
          "text": [
            "epoch :  1  validation loss :  1.5424023917194485\n",
            "epoch :  2  validation loss :  1.3286523162797945\n",
            "epoch :  3  validation loss :  1.180501480724917\n",
            "epoch :  4  validation loss :  1.0736345338470188\n",
            "epoch :  5  validation loss :  0.9916924949614004\n"
          ]
        },
        {
          "data": {
            "text/html": [],
            "text/plain": [
              "<IPython.core.display.HTML object>"
            ]
          },
          "metadata": {},
          "output_type": "display_data"
        },
        {
          "data": {
            "text/html": [
              "<br>    <style><br>        .wandb-row {<br>            display: flex;<br>            flex-direction: row;<br>            flex-wrap: wrap;<br>            justify-content: flex-start;<br>            width: 100%;<br>        }<br>        .wandb-col {<br>            display: flex;<br>            flex-direction: column;<br>            flex-basis: 100%;<br>            flex: 1;<br>            padding: 10px;<br>        }<br>    </style><br><div class=\"wandb-row\"><div class=\"wandb-col\"><h3>Run history:</h3><br/><table class=\"wandb\"><tr><td>accuracy</td><td>▁▅▇██</td></tr><tr><td>epoch</td><td>▁▃▅▆█</td></tr><tr><td>loss</td><td>█▅▃▂▁</td></tr><tr><td>val_accuracy</td><td>▁▅▇██</td></tr><tr><td>val_loss</td><td>█▅▃▂▁</td></tr></table><br/></div><div class=\"wandb-col\"><h3>Run summary:</h3><br/><table class=\"wandb\"><tr><td>accuracy</td><td>0.76327</td></tr><tr><td>epoch</td><td>4</td></tr><tr><td>loss</td><td>1.03224</td></tr><tr><td>val_accuracy</td><td>0.76953</td></tr><tr><td>val_loss</td><td>0.99169</td></tr></table><br/></div></div>"
            ],
            "text/plain": [
              "<IPython.core.display.HTML object>"
            ]
          },
          "metadata": {},
          "output_type": "display_data"
        },
        {
          "data": {
            "text/html": [
              " View run <strong style=\"color:#cdcd00\">hl_5_sz_32_bs_16_ac_tanh_w_i_Xavier_lr_0.0001_wd_0.0005</strong> at: <a href='https://wandb.ai/3628-pavitrakhare-indian-institute-of-technology-madras/DA6401_ASS-practice/runs/s41hxp5a' target=\"_blank\">https://wandb.ai/3628-pavitrakhare-indian-institute-of-technology-madras/DA6401_ASS-practice/runs/s41hxp5a</a><br> View project at: <a href='https://wandb.ai/3628-pavitrakhare-indian-institute-of-technology-madras/DA6401_ASS-practice' target=\"_blank\">https://wandb.ai/3628-pavitrakhare-indian-institute-of-technology-madras/DA6401_ASS-practice</a><br>Synced 5 W&B file(s), 0 media file(s), 0 artifact file(s) and 0 other file(s)"
            ],
            "text/plain": [
              "<IPython.core.display.HTML object>"
            ]
          },
          "metadata": {},
          "output_type": "display_data"
        },
        {
          "data": {
            "text/html": [
              "Find logs at: <code>./wandb/run-20250308_201438-s41hxp5a/logs</code>"
            ],
            "text/plain": [
              "<IPython.core.display.HTML object>"
            ]
          },
          "metadata": {},
          "output_type": "display_data"
        },
        {
          "name": "stderr",
          "output_type": "stream",
          "text": [
            "\u001b[34m\u001b[1mwandb\u001b[0m: Sweep Agent: Waiting for job.\n",
            "\u001b[34m\u001b[1mwandb\u001b[0m: Job received.\n",
            "\u001b[34m\u001b[1mwandb\u001b[0m: Agent Starting Run: yfb5brm0 with config:\n",
            "\u001b[34m\u001b[1mwandb\u001b[0m: \ta: sigmoid\n",
            "\u001b[34m\u001b[1mwandb\u001b[0m: \tb: 64\n",
            "\u001b[34m\u001b[1mwandb\u001b[0m: \te: 5\n",
            "\u001b[34m\u001b[1mwandb\u001b[0m: \tlr: 0.001\n",
            "\u001b[34m\u001b[1mwandb\u001b[0m: \tnlh: 4\n",
            "\u001b[34m\u001b[1mwandb\u001b[0m: \to: adam\n",
            "\u001b[34m\u001b[1mwandb\u001b[0m: \tsz: 32\n",
            "\u001b[34m\u001b[1mwandb\u001b[0m: \tw_d: 0\n",
            "\u001b[34m\u001b[1mwandb\u001b[0m: \tw_i: random\n"
          ]
        },
        {
          "data": {
            "text/html": [
              "Ignoring project 'DA6401_ASS-practice' when running a sweep."
            ],
            "text/plain": [
              "<IPython.core.display.HTML object>"
            ]
          },
          "metadata": {},
          "output_type": "display_data"
        },
        {
          "data": {
            "text/html": [
              "Tracking run with wandb version 0.19.7"
            ],
            "text/plain": [
              "<IPython.core.display.HTML object>"
            ]
          },
          "metadata": {},
          "output_type": "display_data"
        },
        {
          "data": {
            "text/html": [
              "Run data is saved locally in <code>/content/wandb/run-20250308_201710-yfb5brm0</code>"
            ],
            "text/plain": [
              "<IPython.core.display.HTML object>"
            ]
          },
          "metadata": {},
          "output_type": "display_data"
        },
        {
          "data": {
            "text/html": [
              "Syncing run <strong><a href='https://wandb.ai/3628-pavitrakhare-indian-institute-of-technology-madras/DA6401_ASS-practice/runs/yfb5brm0' target=\"_blank\">distinctive-sweep-8</a></strong> to <a href='https://wandb.ai/3628-pavitrakhare-indian-institute-of-technology-madras/DA6401_ASS-practice' target=\"_blank\">Weights & Biases</a> (<a href='https://wandb.me/developer-guide' target=\"_blank\">docs</a>)<br>Sweep page: <a href='https://wandb.ai/3628-pavitrakhare-indian-institute-of-technology-madras/DA6401_ASS-practice/sweeps/nfibwu4x' target=\"_blank\">https://wandb.ai/3628-pavitrakhare-indian-institute-of-technology-madras/DA6401_ASS-practice/sweeps/nfibwu4x</a>"
            ],
            "text/plain": [
              "<IPython.core.display.HTML object>"
            ]
          },
          "metadata": {},
          "output_type": "display_data"
        },
        {
          "data": {
            "text/html": [
              " View project at <a href='https://wandb.ai/3628-pavitrakhare-indian-institute-of-technology-madras/DA6401_ASS-practice' target=\"_blank\">https://wandb.ai/3628-pavitrakhare-indian-institute-of-technology-madras/DA6401_ASS-practice</a>"
            ],
            "text/plain": [
              "<IPython.core.display.HTML object>"
            ]
          },
          "metadata": {},
          "output_type": "display_data"
        },
        {
          "data": {
            "text/html": [
              " View sweep at <a href='https://wandb.ai/3628-pavitrakhare-indian-institute-of-technology-madras/DA6401_ASS-practice/sweeps/nfibwu4x' target=\"_blank\">https://wandb.ai/3628-pavitrakhare-indian-institute-of-technology-madras/DA6401_ASS-practice/sweeps/nfibwu4x</a>"
            ],
            "text/plain": [
              "<IPython.core.display.HTML object>"
            ]
          },
          "metadata": {},
          "output_type": "display_data"
        },
        {
          "data": {
            "text/html": [
              " View run at <a href='https://wandb.ai/3628-pavitrakhare-indian-institute-of-technology-madras/DA6401_ASS-practice/runs/yfb5brm0' target=\"_blank\">https://wandb.ai/3628-pavitrakhare-indian-institute-of-technology-madras/DA6401_ASS-practice/runs/yfb5brm0</a>"
            ],
            "text/plain": [
              "<IPython.core.display.HTML object>"
            ]
          },
          "metadata": {},
          "output_type": "display_data"
        },
        {
          "name": "stdout",
          "output_type": "stream",
          "text": [
            "epoch :  1  validation loss :  1.2735425461770893\n",
            "epoch :  2  validation loss :  0.8220924529419742\n",
            "epoch :  3  validation loss :  0.6588638226147304\n",
            "epoch :  4  validation loss :  0.5746377671872965\n",
            "epoch :  5  validation loss :  0.5242062856220282\n"
          ]
        },
        {
          "data": {
            "text/html": [],
            "text/plain": [
              "<IPython.core.display.HTML object>"
            ]
          },
          "metadata": {},
          "output_type": "display_data"
        },
        {
          "data": {
            "text/html": [
              "<br>    <style><br>        .wandb-row {<br>            display: flex;<br>            flex-direction: row;<br>            flex-wrap: wrap;<br>            justify-content: flex-start;<br>            width: 100%;<br>        }<br>        .wandb-col {<br>            display: flex;<br>            flex-direction: column;<br>            flex-basis: 100%;<br>            flex: 1;<br>            padding: 10px;<br>        }<br>    </style><br><div class=\"wandb-row\"><div class=\"wandb-col\"><h3>Run history:</h3><br/><table class=\"wandb\"><tr><td>accuracy</td><td>▁▆▇██</td></tr><tr><td>epoch</td><td>▁▃▅▆█</td></tr><tr><td>loss</td><td>█▃▂▁▁</td></tr><tr><td>val_accuracy</td><td>▁▄▆▇█</td></tr><tr><td>val_loss</td><td>█▄▂▁▁</td></tr></table><br/></div><div class=\"wandb-col\"><h3>Run summary:</h3><br/><table class=\"wandb\"><tr><td>accuracy</td><td>0.83089</td></tr><tr><td>epoch</td><td>4</td></tr><tr><td>loss</td><td>0.53469</td></tr><tr><td>val_accuracy</td><td>0.82762</td></tr><tr><td>val_loss</td><td>0.52421</td></tr></table><br/></div></div>"
            ],
            "text/plain": [
              "<IPython.core.display.HTML object>"
            ]
          },
          "metadata": {},
          "output_type": "display_data"
        },
        {
          "data": {
            "text/html": [
              " View run <strong style=\"color:#cdcd00\">hl_4_sz_32_bs_64_ac_sigmoid_w_i_random_lr_0.001_wd_0</strong> at: <a href='https://wandb.ai/3628-pavitrakhare-indian-institute-of-technology-madras/DA6401_ASS-practice/runs/yfb5brm0' target=\"_blank\">https://wandb.ai/3628-pavitrakhare-indian-institute-of-technology-madras/DA6401_ASS-practice/runs/yfb5brm0</a><br> View project at: <a href='https://wandb.ai/3628-pavitrakhare-indian-institute-of-technology-madras/DA6401_ASS-practice' target=\"_blank\">https://wandb.ai/3628-pavitrakhare-indian-institute-of-technology-madras/DA6401_ASS-practice</a><br>Synced 5 W&B file(s), 0 media file(s), 0 artifact file(s) and 0 other file(s)"
            ],
            "text/plain": [
              "<IPython.core.display.HTML object>"
            ]
          },
          "metadata": {},
          "output_type": "display_data"
        },
        {
          "data": {
            "text/html": [
              "Find logs at: <code>./wandb/run-20250308_201710-yfb5brm0/logs</code>"
            ],
            "text/plain": [
              "<IPython.core.display.HTML object>"
            ]
          },
          "metadata": {},
          "output_type": "display_data"
        },
        {
          "name": "stderr",
          "output_type": "stream",
          "text": [
            "\u001b[34m\u001b[1mwandb\u001b[0m: Agent Starting Run: di7bmdg4 with config:\n",
            "\u001b[34m\u001b[1mwandb\u001b[0m: \ta: tanh\n",
            "\u001b[34m\u001b[1mwandb\u001b[0m: \tb: 32\n",
            "\u001b[34m\u001b[1mwandb\u001b[0m: \te: 10\n",
            "\u001b[34m\u001b[1mwandb\u001b[0m: \tlr: 0.001\n",
            "\u001b[34m\u001b[1mwandb\u001b[0m: \tnlh: 5\n",
            "\u001b[34m\u001b[1mwandb\u001b[0m: \to: adam\n",
            "\u001b[34m\u001b[1mwandb\u001b[0m: \tsz: 128\n",
            "\u001b[34m\u001b[1mwandb\u001b[0m: \tw_d: 0\n",
            "\u001b[34m\u001b[1mwandb\u001b[0m: \tw_i: random\n"
          ]
        },
        {
          "data": {
            "text/html": [
              "Ignoring project 'DA6401_ASS-practice' when running a sweep."
            ],
            "text/plain": [
              "<IPython.core.display.HTML object>"
            ]
          },
          "metadata": {},
          "output_type": "display_data"
        },
        {
          "data": {
            "text/html": [
              "Tracking run with wandb version 0.19.7"
            ],
            "text/plain": [
              "<IPython.core.display.HTML object>"
            ]
          },
          "metadata": {},
          "output_type": "display_data"
        },
        {
          "data": {
            "text/html": [
              "Run data is saved locally in <code>/content/wandb/run-20250308_201902-di7bmdg4</code>"
            ],
            "text/plain": [
              "<IPython.core.display.HTML object>"
            ]
          },
          "metadata": {},
          "output_type": "display_data"
        },
        {
          "data": {
            "text/html": [
              "Syncing run <strong><a href='https://wandb.ai/3628-pavitrakhare-indian-institute-of-technology-madras/DA6401_ASS-practice/runs/di7bmdg4' target=\"_blank\">efficient-sweep-9</a></strong> to <a href='https://wandb.ai/3628-pavitrakhare-indian-institute-of-technology-madras/DA6401_ASS-practice' target=\"_blank\">Weights & Biases</a> (<a href='https://wandb.me/developer-guide' target=\"_blank\">docs</a>)<br>Sweep page: <a href='https://wandb.ai/3628-pavitrakhare-indian-institute-of-technology-madras/DA6401_ASS-practice/sweeps/nfibwu4x' target=\"_blank\">https://wandb.ai/3628-pavitrakhare-indian-institute-of-technology-madras/DA6401_ASS-practice/sweeps/nfibwu4x</a>"
            ],
            "text/plain": [
              "<IPython.core.display.HTML object>"
            ]
          },
          "metadata": {},
          "output_type": "display_data"
        },
        {
          "data": {
            "text/html": [
              " View project at <a href='https://wandb.ai/3628-pavitrakhare-indian-institute-of-technology-madras/DA6401_ASS-practice' target=\"_blank\">https://wandb.ai/3628-pavitrakhare-indian-institute-of-technology-madras/DA6401_ASS-practice</a>"
            ],
            "text/plain": [
              "<IPython.core.display.HTML object>"
            ]
          },
          "metadata": {},
          "output_type": "display_data"
        },
        {
          "data": {
            "text/html": [
              " View sweep at <a href='https://wandb.ai/3628-pavitrakhare-indian-institute-of-technology-madras/DA6401_ASS-practice/sweeps/nfibwu4x' target=\"_blank\">https://wandb.ai/3628-pavitrakhare-indian-institute-of-technology-madras/DA6401_ASS-practice/sweeps/nfibwu4x</a>"
            ],
            "text/plain": [
              "<IPython.core.display.HTML object>"
            ]
          },
          "metadata": {},
          "output_type": "display_data"
        },
        {
          "data": {
            "text/html": [
              " View run at <a href='https://wandb.ai/3628-pavitrakhare-indian-institute-of-technology-madras/DA6401_ASS-practice/runs/di7bmdg4' target=\"_blank\">https://wandb.ai/3628-pavitrakhare-indian-institute-of-technology-madras/DA6401_ASS-practice/runs/di7bmdg4</a>"
            ],
            "text/plain": [
              "<IPython.core.display.HTML object>"
            ]
          },
          "metadata": {},
          "output_type": "display_data"
        },
        {
          "name": "stdout",
          "output_type": "stream",
          "text": [
            "epoch :  1  validation loss :  0.9887273124318954\n",
            "epoch :  2  validation loss :  0.7879324408579459\n",
            "epoch :  3  validation loss :  0.6791471082090573\n",
            "epoch :  4  validation loss :  0.6262502733515959\n",
            "epoch :  5  validation loss :  0.5987856239013789\n",
            "epoch :  6  validation loss :  0.5674377944323554\n",
            "epoch :  7  validation loss :  0.5350536833653806\n",
            "epoch :  8  validation loss :  0.5143246894677916\n",
            "epoch :  9  validation loss :  0.5047069362271865\n",
            "epoch :  10  validation loss :  0.5018409466757813\n"
          ]
        },
        {
          "data": {
            "text/html": [],
            "text/plain": [
              "<IPython.core.display.HTML object>"
            ]
          },
          "metadata": {},
          "output_type": "display_data"
        },
        {
          "data": {
            "text/html": [
              "<br>    <style><br>        .wandb-row {<br>            display: flex;<br>            flex-direction: row;<br>            flex-wrap: wrap;<br>            justify-content: flex-start;<br>            width: 100%;<br>        }<br>        .wandb-col {<br>            display: flex;<br>            flex-direction: column;<br>            flex-basis: 100%;<br>            flex: 1;<br>            padding: 10px;<br>        }<br>    </style><br><div class=\"wandb-row\"><div class=\"wandb-col\"><h3>Run history:</h3><br/><table class=\"wandb\"><tr><td>accuracy</td><td>▁▅▆▆▇▇████</td></tr><tr><td>epoch</td><td>▁▂▃▃▄▅▆▆▇█</td></tr><tr><td>loss</td><td>█▃▂▂▂▁▁▁▁▁</td></tr><tr><td>val_accuracy</td><td>▁▃▅▆▆▇▇███</td></tr><tr><td>val_loss</td><td>█▅▄▃▂▂▁▁▁▁</td></tr></table><br/></div><div class=\"wandb-col\"><h3>Run summary:</h3><br/><table class=\"wandb\"><tr><td>accuracy</td><td>0.8285</td></tr><tr><td>epoch</td><td>9</td></tr><tr><td>loss</td><td>0.47629</td></tr><tr><td>val_accuracy</td><td>0.82422</td></tr><tr><td>val_loss</td><td>0.50184</td></tr></table><br/></div></div>"
            ],
            "text/plain": [
              "<IPython.core.display.HTML object>"
            ]
          },
          "metadata": {},
          "output_type": "display_data"
        },
        {
          "data": {
            "text/html": [
              " View run <strong style=\"color:#cdcd00\">hl_5_sz_128_bs_32_ac_tanh_w_i_random_lr_0.001_wd_0</strong> at: <a href='https://wandb.ai/3628-pavitrakhare-indian-institute-of-technology-madras/DA6401_ASS-practice/runs/di7bmdg4' target=\"_blank\">https://wandb.ai/3628-pavitrakhare-indian-institute-of-technology-madras/DA6401_ASS-practice/runs/di7bmdg4</a><br> View project at: <a href='https://wandb.ai/3628-pavitrakhare-indian-institute-of-technology-madras/DA6401_ASS-practice' target=\"_blank\">https://wandb.ai/3628-pavitrakhare-indian-institute-of-technology-madras/DA6401_ASS-practice</a><br>Synced 5 W&B file(s), 0 media file(s), 0 artifact file(s) and 0 other file(s)"
            ],
            "text/plain": [
              "<IPython.core.display.HTML object>"
            ]
          },
          "metadata": {},
          "output_type": "display_data"
        },
        {
          "data": {
            "text/html": [
              "Find logs at: <code>./wandb/run-20250308_201902-di7bmdg4/logs</code>"
            ],
            "text/plain": [
              "<IPython.core.display.HTML object>"
            ]
          },
          "metadata": {},
          "output_type": "display_data"
        },
        {
          "name": "stderr",
          "output_type": "stream",
          "text": [
            "\u001b[34m\u001b[1mwandb\u001b[0m: Agent Starting Run: uway4wxc with config:\n",
            "\u001b[34m\u001b[1mwandb\u001b[0m: \ta: sigmoid\n",
            "\u001b[34m\u001b[1mwandb\u001b[0m: \tb: 32\n",
            "\u001b[34m\u001b[1mwandb\u001b[0m: \te: 10\n",
            "\u001b[34m\u001b[1mwandb\u001b[0m: \tlr: 0.001\n",
            "\u001b[34m\u001b[1mwandb\u001b[0m: \tnlh: 3\n",
            "\u001b[34m\u001b[1mwandb\u001b[0m: \to: rmsprop\n",
            "\u001b[34m\u001b[1mwandb\u001b[0m: \tsz: 64\n",
            "\u001b[34m\u001b[1mwandb\u001b[0m: \tw_d: 0\n",
            "\u001b[34m\u001b[1mwandb\u001b[0m: \tw_i: random\n"
          ]
        },
        {
          "data": {
            "text/html": [
              "Ignoring project 'DA6401_ASS-practice' when running a sweep."
            ],
            "text/plain": [
              "<IPython.core.display.HTML object>"
            ]
          },
          "metadata": {},
          "output_type": "display_data"
        },
        {
          "data": {
            "text/html": [
              "Tracking run with wandb version 0.19.7"
            ],
            "text/plain": [
              "<IPython.core.display.HTML object>"
            ]
          },
          "metadata": {},
          "output_type": "display_data"
        },
        {
          "data": {
            "text/html": [
              "Run data is saved locally in <code>/content/wandb/run-20250308_203325-uway4wxc</code>"
            ],
            "text/plain": [
              "<IPython.core.display.HTML object>"
            ]
          },
          "metadata": {},
          "output_type": "display_data"
        },
        {
          "data": {
            "text/html": [
              "Syncing run <strong><a href='https://wandb.ai/3628-pavitrakhare-indian-institute-of-technology-madras/DA6401_ASS-practice/runs/uway4wxc' target=\"_blank\">comfy-sweep-10</a></strong> to <a href='https://wandb.ai/3628-pavitrakhare-indian-institute-of-technology-madras/DA6401_ASS-practice' target=\"_blank\">Weights & Biases</a> (<a href='https://wandb.me/developer-guide' target=\"_blank\">docs</a>)<br>Sweep page: <a href='https://wandb.ai/3628-pavitrakhare-indian-institute-of-technology-madras/DA6401_ASS-practice/sweeps/nfibwu4x' target=\"_blank\">https://wandb.ai/3628-pavitrakhare-indian-institute-of-technology-madras/DA6401_ASS-practice/sweeps/nfibwu4x</a>"
            ],
            "text/plain": [
              "<IPython.core.display.HTML object>"
            ]
          },
          "metadata": {},
          "output_type": "display_data"
        },
        {
          "data": {
            "text/html": [
              " View project at <a href='https://wandb.ai/3628-pavitrakhare-indian-institute-of-technology-madras/DA6401_ASS-practice' target=\"_blank\">https://wandb.ai/3628-pavitrakhare-indian-institute-of-technology-madras/DA6401_ASS-practice</a>"
            ],
            "text/plain": [
              "<IPython.core.display.HTML object>"
            ]
          },
          "metadata": {},
          "output_type": "display_data"
        },
        {
          "data": {
            "text/html": [
              " View sweep at <a href='https://wandb.ai/3628-pavitrakhare-indian-institute-of-technology-madras/DA6401_ASS-practice/sweeps/nfibwu4x' target=\"_blank\">https://wandb.ai/3628-pavitrakhare-indian-institute-of-technology-madras/DA6401_ASS-practice/sweeps/nfibwu4x</a>"
            ],
            "text/plain": [
              "<IPython.core.display.HTML object>"
            ]
          },
          "metadata": {},
          "output_type": "display_data"
        },
        {
          "data": {
            "text/html": [
              " View run at <a href='https://wandb.ai/3628-pavitrakhare-indian-institute-of-technology-madras/DA6401_ASS-practice/runs/uway4wxc' target=\"_blank\">https://wandb.ai/3628-pavitrakhare-indian-institute-of-technology-madras/DA6401_ASS-practice/runs/uway4wxc</a>"
            ],
            "text/plain": [
              "<IPython.core.display.HTML object>"
            ]
          },
          "metadata": {},
          "output_type": "display_data"
        },
        {
          "name": "stdout",
          "output_type": "stream",
          "text": [
            "epoch :  1  validation loss :  0.5729733998829151\n",
            "epoch :  2  validation loss :  0.4775481613968857\n",
            "epoch :  3  validation loss :  0.44050031387656297\n",
            "epoch :  4  validation loss :  0.4202550496008883\n",
            "epoch :  5  validation loss :  0.40678732797173034\n",
            "epoch :  6  validation loss :  0.39637031772753895\n",
            "epoch :  7  validation loss :  0.3877802935575002\n",
            "epoch :  8  validation loss :  0.3807620921130519\n",
            "epoch :  9  validation loss :  0.37517123920776957\n",
            "epoch :  10  validation loss :  0.37066500926763113\n"
          ]
        },
        {
          "data": {
            "text/html": [],
            "text/plain": [
              "<IPython.core.display.HTML object>"
            ]
          },
          "metadata": {},
          "output_type": "display_data"
        },
        {
          "data": {
            "text/html": [
              "<br>    <style><br>        .wandb-row {<br>            display: flex;<br>            flex-direction: row;<br>            flex-wrap: wrap;<br>            justify-content: flex-start;<br>            width: 100%;<br>        }<br>        .wandb-col {<br>            display: flex;<br>            flex-direction: column;<br>            flex-basis: 100%;<br>            flex: 1;<br>            padding: 10px;<br>        }<br>    </style><br><div class=\"wandb-row\"><div class=\"wandb-col\"><h3>Run history:</h3><br/><table class=\"wandb\"><tr><td>accuracy</td><td>▁▅▆▇▇▇████</td></tr><tr><td>epoch</td><td>▁▂▃▃▄▅▆▆▇█</td></tr><tr><td>loss</td><td>█▃▂▂▂▂▁▁▁▁</td></tr><tr><td>val_accuracy</td><td>▁▄▅▆▇▇████</td></tr><tr><td>val_loss</td><td>█▅▃▃▂▂▂▁▁▁</td></tr></table><br/></div><div class=\"wandb-col\"><h3>Run summary:</h3><br/><table class=\"wandb\"><tr><td>accuracy</td><td>0.88558</td></tr><tr><td>epoch</td><td>9</td></tr><tr><td>loss</td><td>0.32512</td></tr><tr><td>val_accuracy</td><td>0.86481</td></tr><tr><td>val_loss</td><td>0.37067</td></tr></table><br/></div></div>"
            ],
            "text/plain": [
              "<IPython.core.display.HTML object>"
            ]
          },
          "metadata": {},
          "output_type": "display_data"
        },
        {
          "data": {
            "text/html": [
              " View run <strong style=\"color:#cdcd00\">hl_3_sz_64_bs_32_ac_sigmoid_w_i_random_lr_0.001_wd_0</strong> at: <a href='https://wandb.ai/3628-pavitrakhare-indian-institute-of-technology-madras/DA6401_ASS-practice/runs/uway4wxc' target=\"_blank\">https://wandb.ai/3628-pavitrakhare-indian-institute-of-technology-madras/DA6401_ASS-practice/runs/uway4wxc</a><br> View project at: <a href='https://wandb.ai/3628-pavitrakhare-indian-institute-of-technology-madras/DA6401_ASS-practice' target=\"_blank\">https://wandb.ai/3628-pavitrakhare-indian-institute-of-technology-madras/DA6401_ASS-practice</a><br>Synced 5 W&B file(s), 0 media file(s), 0 artifact file(s) and 0 other file(s)"
            ],
            "text/plain": [
              "<IPython.core.display.HTML object>"
            ]
          },
          "metadata": {},
          "output_type": "display_data"
        },
        {
          "data": {
            "text/html": [
              "Find logs at: <code>./wandb/run-20250308_203325-uway4wxc/logs</code>"
            ],
            "text/plain": [
              "<IPython.core.display.HTML object>"
            ]
          },
          "metadata": {},
          "output_type": "display_data"
        },
        {
          "name": "stderr",
          "output_type": "stream",
          "text": [
            "\u001b[34m\u001b[1mwandb\u001b[0m: Agent Starting Run: uyx8igdu with config:\n",
            "\u001b[34m\u001b[1mwandb\u001b[0m: \ta: sigmoid\n",
            "\u001b[34m\u001b[1mwandb\u001b[0m: \tb: 16\n",
            "\u001b[34m\u001b[1mwandb\u001b[0m: \te: 10\n",
            "\u001b[34m\u001b[1mwandb\u001b[0m: \tlr: 0.0001\n",
            "\u001b[34m\u001b[1mwandb\u001b[0m: \tnlh: 4\n",
            "\u001b[34m\u001b[1mwandb\u001b[0m: \to: momentum\n",
            "\u001b[34m\u001b[1mwandb\u001b[0m: \tsz: 32\n",
            "\u001b[34m\u001b[1mwandb\u001b[0m: \tw_d: 0\n",
            "\u001b[34m\u001b[1mwandb\u001b[0m: \tw_i: Xavier\n"
          ]
        },
        {
          "data": {
            "text/html": [
              "Ignoring project 'DA6401_ASS-practice' when running a sweep."
            ],
            "text/plain": [
              "<IPython.core.display.HTML object>"
            ]
          },
          "metadata": {},
          "output_type": "display_data"
        },
        {
          "data": {
            "text/html": [
              "Tracking run with wandb version 0.19.7"
            ],
            "text/plain": [
              "<IPython.core.display.HTML object>"
            ]
          },
          "metadata": {},
          "output_type": "display_data"
        },
        {
          "data": {
            "text/html": [
              "Run data is saved locally in <code>/content/wandb/run-20250308_203825-uyx8igdu</code>"
            ],
            "text/plain": [
              "<IPython.core.display.HTML object>"
            ]
          },
          "metadata": {},
          "output_type": "display_data"
        },
        {
          "data": {
            "text/html": [
              "Syncing run <strong><a href='https://wandb.ai/3628-pavitrakhare-indian-institute-of-technology-madras/DA6401_ASS-practice/runs/uyx8igdu' target=\"_blank\">azure-sweep-11</a></strong> to <a href='https://wandb.ai/3628-pavitrakhare-indian-institute-of-technology-madras/DA6401_ASS-practice' target=\"_blank\">Weights & Biases</a> (<a href='https://wandb.me/developer-guide' target=\"_blank\">docs</a>)<br>Sweep page: <a href='https://wandb.ai/3628-pavitrakhare-indian-institute-of-technology-madras/DA6401_ASS-practice/sweeps/nfibwu4x' target=\"_blank\">https://wandb.ai/3628-pavitrakhare-indian-institute-of-technology-madras/DA6401_ASS-practice/sweeps/nfibwu4x</a>"
            ],
            "text/plain": [
              "<IPython.core.display.HTML object>"
            ]
          },
          "metadata": {},
          "output_type": "display_data"
        },
        {
          "data": {
            "text/html": [
              " View project at <a href='https://wandb.ai/3628-pavitrakhare-indian-institute-of-technology-madras/DA6401_ASS-practice' target=\"_blank\">https://wandb.ai/3628-pavitrakhare-indian-institute-of-technology-madras/DA6401_ASS-practice</a>"
            ],
            "text/plain": [
              "<IPython.core.display.HTML object>"
            ]
          },
          "metadata": {},
          "output_type": "display_data"
        },
        {
          "data": {
            "text/html": [
              " View sweep at <a href='https://wandb.ai/3628-pavitrakhare-indian-institute-of-technology-madras/DA6401_ASS-practice/sweeps/nfibwu4x' target=\"_blank\">https://wandb.ai/3628-pavitrakhare-indian-institute-of-technology-madras/DA6401_ASS-practice/sweeps/nfibwu4x</a>"
            ],
            "text/plain": [
              "<IPython.core.display.HTML object>"
            ]
          },
          "metadata": {},
          "output_type": "display_data"
        },
        {
          "data": {
            "text/html": [
              " View run at <a href='https://wandb.ai/3628-pavitrakhare-indian-institute-of-technology-madras/DA6401_ASS-practice/runs/uyx8igdu' target=\"_blank\">https://wandb.ai/3628-pavitrakhare-indian-institute-of-technology-madras/DA6401_ASS-practice/runs/uyx8igdu</a>"
            ],
            "text/plain": [
              "<IPython.core.display.HTML object>"
            ]
          },
          "metadata": {},
          "output_type": "display_data"
        },
        {
          "name": "stdout",
          "output_type": "stream",
          "text": [
            "epoch :  1  validation loss :  2.3014871601384503\n",
            "epoch :  2  validation loss :  2.299926262337709\n",
            "epoch :  3  validation loss :  2.298368927013272\n",
            "epoch :  4  validation loss :  2.296784410952745\n",
            "epoch :  5  validation loss :  2.2951589519038644\n",
            "epoch :  6  validation loss :  2.2934382085798233\n",
            "epoch :  7  validation loss :  2.2915708029397406\n",
            "epoch :  8  validation loss :  2.28949160066817\n",
            "epoch :  9  validation loss :  2.2871163053255197\n",
            "epoch :  10  validation loss :  2.2843386246018995\n"
          ]
        },
        {
          "data": {
            "text/html": [],
            "text/plain": [
              "<IPython.core.display.HTML object>"
            ]
          },
          "metadata": {},
          "output_type": "display_data"
        },
        {
          "data": {
            "text/html": [
              "<br>    <style><br>        .wandb-row {<br>            display: flex;<br>            flex-direction: row;<br>            flex-wrap: wrap;<br>            justify-content: flex-start;<br>            width: 100%;<br>        }<br>        .wandb-col {<br>            display: flex;<br>            flex-direction: column;<br>            flex-basis: 100%;<br>            flex: 1;<br>            padding: 10px;<br>        }<br>    </style><br><div class=\"wandb-row\"><div class=\"wandb-col\"><h3>Run history:</h3><br/><table class=\"wandb\"><tr><td>accuracy</td><td>▁▁▂▃▄▅▆▆▇█</td></tr><tr><td>epoch</td><td>▁▂▃▃▄▅▆▆▇█</td></tr><tr><td>loss</td><td>█▄▃▃▃▂▂▂▁▁</td></tr><tr><td>val_accuracy</td><td>▁▄▄▄▄▅▅▆▆█</td></tr><tr><td>val_loss</td><td>█▇▇▆▅▅▄▃▂▁</td></tr></table><br/></div><div class=\"wandb-col\"><h3>Run summary:</h3><br/><table class=\"wandb\"><tr><td>accuracy</td><td>0.27646</td></tr><tr><td>epoch</td><td>9</td></tr><tr><td>loss</td><td>2.28613</td></tr><tr><td>val_accuracy</td><td>0.3677</td></tr><tr><td>val_loss</td><td>2.28434</td></tr></table><br/></div></div>"
            ],
            "text/plain": [
              "<IPython.core.display.HTML object>"
            ]
          },
          "metadata": {},
          "output_type": "display_data"
        },
        {
          "data": {
            "text/html": [
              " View run <strong style=\"color:#cdcd00\">hl_4_sz_32_bs_16_ac_sigmoid_w_i_Xavier_lr_0.0001_wd_0</strong> at: <a href='https://wandb.ai/3628-pavitrakhare-indian-institute-of-technology-madras/DA6401_ASS-practice/runs/uyx8igdu' target=\"_blank\">https://wandb.ai/3628-pavitrakhare-indian-institute-of-technology-madras/DA6401_ASS-practice/runs/uyx8igdu</a><br> View project at: <a href='https://wandb.ai/3628-pavitrakhare-indian-institute-of-technology-madras/DA6401_ASS-practice' target=\"_blank\">https://wandb.ai/3628-pavitrakhare-indian-institute-of-technology-madras/DA6401_ASS-practice</a><br>Synced 5 W&B file(s), 0 media file(s), 0 artifact file(s) and 0 other file(s)"
            ],
            "text/plain": [
              "<IPython.core.display.HTML object>"
            ]
          },
          "metadata": {},
          "output_type": "display_data"
        },
        {
          "data": {
            "text/html": [
              "Find logs at: <code>./wandb/run-20250308_203825-uyx8igdu/logs</code>"
            ],
            "text/plain": [
              "<IPython.core.display.HTML object>"
            ]
          },
          "metadata": {},
          "output_type": "display_data"
        },
        {
          "name": "stderr",
          "output_type": "stream",
          "text": [
            "\u001b[34m\u001b[1mwandb\u001b[0m: Agent Starting Run: k7ettxmj with config:\n",
            "\u001b[34m\u001b[1mwandb\u001b[0m: \ta: sigmoid\n",
            "\u001b[34m\u001b[1mwandb\u001b[0m: \tb: 16\n",
            "\u001b[34m\u001b[1mwandb\u001b[0m: \te: 10\n",
            "\u001b[34m\u001b[1mwandb\u001b[0m: \tlr: 0.0001\n",
            "\u001b[34m\u001b[1mwandb\u001b[0m: \tnlh: 4\n",
            "\u001b[34m\u001b[1mwandb\u001b[0m: \to: sgd\n",
            "\u001b[34m\u001b[1mwandb\u001b[0m: \tsz: 64\n",
            "\u001b[34m\u001b[1mwandb\u001b[0m: \tw_d: 0.0005\n",
            "\u001b[34m\u001b[1mwandb\u001b[0m: \tw_i: random\n"
          ]
        },
        {
          "data": {
            "text/html": [
              "Ignoring project 'DA6401_ASS-practice' when running a sweep."
            ],
            "text/plain": [
              "<IPython.core.display.HTML object>"
            ]
          },
          "metadata": {},
          "output_type": "display_data"
        },
        {
          "data": {
            "text/html": [
              "Tracking run with wandb version 0.19.7"
            ],
            "text/plain": [
              "<IPython.core.display.HTML object>"
            ]
          },
          "metadata": {},
          "output_type": "display_data"
        },
        {
          "data": {
            "text/html": [
              "Run data is saved locally in <code>/content/wandb/run-20250308_204238-k7ettxmj</code>"
            ],
            "text/plain": [
              "<IPython.core.display.HTML object>"
            ]
          },
          "metadata": {},
          "output_type": "display_data"
        },
        {
          "data": {
            "text/html": [
              "Syncing run <strong><a href='https://wandb.ai/3628-pavitrakhare-indian-institute-of-technology-madras/DA6401_ASS-practice/runs/k7ettxmj' target=\"_blank\">eager-sweep-12</a></strong> to <a href='https://wandb.ai/3628-pavitrakhare-indian-institute-of-technology-madras/DA6401_ASS-practice' target=\"_blank\">Weights & Biases</a> (<a href='https://wandb.me/developer-guide' target=\"_blank\">docs</a>)<br>Sweep page: <a href='https://wandb.ai/3628-pavitrakhare-indian-institute-of-technology-madras/DA6401_ASS-practice/sweeps/nfibwu4x' target=\"_blank\">https://wandb.ai/3628-pavitrakhare-indian-institute-of-technology-madras/DA6401_ASS-practice/sweeps/nfibwu4x</a>"
            ],
            "text/plain": [
              "<IPython.core.display.HTML object>"
            ]
          },
          "metadata": {},
          "output_type": "display_data"
        },
        {
          "data": {
            "text/html": [
              " View project at <a href='https://wandb.ai/3628-pavitrakhare-indian-institute-of-technology-madras/DA6401_ASS-practice' target=\"_blank\">https://wandb.ai/3628-pavitrakhare-indian-institute-of-technology-madras/DA6401_ASS-practice</a>"
            ],
            "text/plain": [
              "<IPython.core.display.HTML object>"
            ]
          },
          "metadata": {},
          "output_type": "display_data"
        },
        {
          "data": {
            "text/html": [
              " View sweep at <a href='https://wandb.ai/3628-pavitrakhare-indian-institute-of-technology-madras/DA6401_ASS-practice/sweeps/nfibwu4x' target=\"_blank\">https://wandb.ai/3628-pavitrakhare-indian-institute-of-technology-madras/DA6401_ASS-practice/sweeps/nfibwu4x</a>"
            ],
            "text/plain": [
              "<IPython.core.display.HTML object>"
            ]
          },
          "metadata": {},
          "output_type": "display_data"
        },
        {
          "data": {
            "text/html": [
              " View run at <a href='https://wandb.ai/3628-pavitrakhare-indian-institute-of-technology-madras/DA6401_ASS-practice/runs/k7ettxmj' target=\"_blank\">https://wandb.ai/3628-pavitrakhare-indian-institute-of-technology-madras/DA6401_ASS-practice/runs/k7ettxmj</a>"
            ],
            "text/plain": [
              "<IPython.core.display.HTML object>"
            ]
          },
          "metadata": {},
          "output_type": "display_data"
        },
        {
          "name": "stdout",
          "output_type": "stream",
          "text": [
            "epoch :  1  validation loss :  3.4873688637130833\n",
            "epoch :  2  validation loss :  2.6948101787329004\n",
            "epoch :  3  validation loss :  2.270888394222203\n",
            "epoch :  4  validation loss :  2.133478040100989\n",
            "epoch :  5  validation loss :  2.0732617959610105\n",
            "epoch :  6  validation loss :  2.024745675479896\n",
            "epoch :  7  validation loss :  1.9796075587629145\n",
            "epoch :  8  validation loss :  1.9377287840492616\n",
            "epoch :  9  validation loss :  1.8973009803859697\n",
            "epoch :  10  validation loss :  1.8576195988814717\n"
          ]
        },
        {
          "data": {
            "text/html": [],
            "text/plain": [
              "<IPython.core.display.HTML object>"
            ]
          },
          "metadata": {},
          "output_type": "display_data"
        },
        {
          "data": {
            "text/html": [
              "<br>    <style><br>        .wandb-row {<br>            display: flex;<br>            flex-direction: row;<br>            flex-wrap: wrap;<br>            justify-content: flex-start;<br>            width: 100%;<br>        }<br>        .wandb-col {<br>            display: flex;<br>            flex-direction: column;<br>            flex-basis: 100%;<br>            flex: 1;<br>            padding: 10px;<br>        }<br>    </style><br><div class=\"wandb-row\"><div class=\"wandb-col\"><h3>Run history:</h3><br/><table class=\"wandb\"><tr><td>accuracy</td><td>▁▂▂▃▅▆▇▇██</td></tr><tr><td>epoch</td><td>▁▂▃▃▄▅▆▆▇█</td></tr><tr><td>loss</td><td>█▅▃▂▂▂▁▁▁▁</td></tr><tr><td>val_accuracy</td><td>▁▁▂▃▆▇▇▇██</td></tr><tr><td>val_loss</td><td>█▅▃▂▂▂▂▁▁▁</td></tr></table><br/></div><div class=\"wandb-col\"><h3>Run summary:</h3><br/><table class=\"wandb\"><tr><td>accuracy</td><td>0.49161</td></tr><tr><td>epoch</td><td>9</td></tr><tr><td>loss</td><td>1.87992</td></tr><tr><td>val_accuracy</td><td>0.50696</td></tr><tr><td>val_loss</td><td>1.85762</td></tr></table><br/></div></div>"
            ],
            "text/plain": [
              "<IPython.core.display.HTML object>"
            ]
          },
          "metadata": {},
          "output_type": "display_data"
        },
        {
          "data": {
            "text/html": [
              " View run <strong style=\"color:#cdcd00\">hl_4_sz_64_bs_16_ac_sigmoid_w_i_random_lr_0.0001_wd_0.0005</strong> at: <a href='https://wandb.ai/3628-pavitrakhare-indian-institute-of-technology-madras/DA6401_ASS-practice/runs/k7ettxmj' target=\"_blank\">https://wandb.ai/3628-pavitrakhare-indian-institute-of-technology-madras/DA6401_ASS-practice/runs/k7ettxmj</a><br> View project at: <a href='https://wandb.ai/3628-pavitrakhare-indian-institute-of-technology-madras/DA6401_ASS-practice' target=\"_blank\">https://wandb.ai/3628-pavitrakhare-indian-institute-of-technology-madras/DA6401_ASS-practice</a><br>Synced 5 W&B file(s), 0 media file(s), 0 artifact file(s) and 0 other file(s)"
            ],
            "text/plain": [
              "<IPython.core.display.HTML object>"
            ]
          },
          "metadata": {},
          "output_type": "display_data"
        },
        {
          "data": {
            "text/html": [
              "Find logs at: <code>./wandb/run-20250308_204238-k7ettxmj/logs</code>"
            ],
            "text/plain": [
              "<IPython.core.display.HTML object>"
            ]
          },
          "metadata": {},
          "output_type": "display_data"
        },
        {
          "name": "stderr",
          "output_type": "stream",
          "text": [
            "\u001b[34m\u001b[1mwandb\u001b[0m: Sweep Agent: Waiting for job.\n",
            "\u001b[34m\u001b[1mwandb\u001b[0m: Job received.\n",
            "\u001b[34m\u001b[1mwandb\u001b[0m: Agent Starting Run: ayoljs3i with config:\n",
            "\u001b[34m\u001b[1mwandb\u001b[0m: \ta: sigmoid\n",
            "\u001b[34m\u001b[1mwandb\u001b[0m: \tb: 32\n",
            "\u001b[34m\u001b[1mwandb\u001b[0m: \te: 10\n",
            "\u001b[34m\u001b[1mwandb\u001b[0m: \tlr: 0.001\n",
            "\u001b[34m\u001b[1mwandb\u001b[0m: \tnlh: 5\n",
            "\u001b[34m\u001b[1mwandb\u001b[0m: \to: momentum\n",
            "\u001b[34m\u001b[1mwandb\u001b[0m: \tsz: 64\n",
            "\u001b[34m\u001b[1mwandb\u001b[0m: \tw_d: 0.5\n",
            "\u001b[34m\u001b[1mwandb\u001b[0m: \tw_i: random\n"
          ]
        },
        {
          "data": {
            "text/html": [
              "Ignoring project 'DA6401_ASS-practice' when running a sweep."
            ],
            "text/plain": [
              "<IPython.core.display.HTML object>"
            ]
          },
          "metadata": {},
          "output_type": "display_data"
        },
        {
          "data": {
            "text/html": [
              "Tracking run with wandb version 0.19.7"
            ],
            "text/plain": [
              "<IPython.core.display.HTML object>"
            ]
          },
          "metadata": {},
          "output_type": "display_data"
        },
        {
          "data": {
            "text/html": [
              "Run data is saved locally in <code>/content/wandb/run-20250308_204914-ayoljs3i</code>"
            ],
            "text/plain": [
              "<IPython.core.display.HTML object>"
            ]
          },
          "metadata": {},
          "output_type": "display_data"
        },
        {
          "data": {
            "text/html": [
              "Syncing run <strong><a href='https://wandb.ai/3628-pavitrakhare-indian-institute-of-technology-madras/DA6401_ASS-practice/runs/ayoljs3i' target=\"_blank\">volcanic-sweep-13</a></strong> to <a href='https://wandb.ai/3628-pavitrakhare-indian-institute-of-technology-madras/DA6401_ASS-practice' target=\"_blank\">Weights & Biases</a> (<a href='https://wandb.me/developer-guide' target=\"_blank\">docs</a>)<br>Sweep page: <a href='https://wandb.ai/3628-pavitrakhare-indian-institute-of-technology-madras/DA6401_ASS-practice/sweeps/nfibwu4x' target=\"_blank\">https://wandb.ai/3628-pavitrakhare-indian-institute-of-technology-madras/DA6401_ASS-practice/sweeps/nfibwu4x</a>"
            ],
            "text/plain": [
              "<IPython.core.display.HTML object>"
            ]
          },
          "metadata": {},
          "output_type": "display_data"
        },
        {
          "data": {
            "text/html": [
              " View project at <a href='https://wandb.ai/3628-pavitrakhare-indian-institute-of-technology-madras/DA6401_ASS-practice' target=\"_blank\">https://wandb.ai/3628-pavitrakhare-indian-institute-of-technology-madras/DA6401_ASS-practice</a>"
            ],
            "text/plain": [
              "<IPython.core.display.HTML object>"
            ]
          },
          "metadata": {},
          "output_type": "display_data"
        },
        {
          "data": {
            "text/html": [
              " View sweep at <a href='https://wandb.ai/3628-pavitrakhare-indian-institute-of-technology-madras/DA6401_ASS-practice/sweeps/nfibwu4x' target=\"_blank\">https://wandb.ai/3628-pavitrakhare-indian-institute-of-technology-madras/DA6401_ASS-practice/sweeps/nfibwu4x</a>"
            ],
            "text/plain": [
              "<IPython.core.display.HTML object>"
            ]
          },
          "metadata": {},
          "output_type": "display_data"
        },
        {
          "data": {
            "text/html": [
              " View run at <a href='https://wandb.ai/3628-pavitrakhare-indian-institute-of-technology-madras/DA6401_ASS-practice/runs/ayoljs3i' target=\"_blank\">https://wandb.ai/3628-pavitrakhare-indian-institute-of-technology-madras/DA6401_ASS-practice/runs/ayoljs3i</a>"
            ],
            "text/plain": [
              "<IPython.core.display.HTML object>"
            ]
          },
          "metadata": {},
          "output_type": "display_data"
        },
        {
          "name": "stdout",
          "output_type": "stream",
          "text": [
            "epoch :  1  validation loss :  1.7052320482663577\n",
            "epoch :  2  validation loss :  1.4287969896636605\n",
            "epoch :  3  validation loss :  1.3110558298534107\n",
            "epoch :  4  validation loss :  1.2469425253377557\n",
            "epoch :  5  validation loss :  1.208076693434913\n",
            "epoch :  6  validation loss :  1.1834983813454532\n",
            "epoch :  7  validation loss :  1.167304137704868\n",
            "epoch :  8  validation loss :  1.155326519156552\n",
            "epoch :  9  validation loss :  1.1462762076403556\n",
            "epoch :  10  validation loss :  1.1396397016428215\n"
          ]
        },
        {
          "data": {
            "text/html": [],
            "text/plain": [
              "<IPython.core.display.HTML object>"
            ]
          },
          "metadata": {},
          "output_type": "display_data"
        },
        {
          "data": {
            "text/html": [
              "<br>    <style><br>        .wandb-row {<br>            display: flex;<br>            flex-direction: row;<br>            flex-wrap: wrap;<br>            justify-content: flex-start;<br>            width: 100%;<br>        }<br>        .wandb-col {<br>            display: flex;<br>            flex-direction: column;<br>            flex-basis: 100%;<br>            flex: 1;<br>            padding: 10px;<br>        }<br>    </style><br><div class=\"wandb-row\"><div class=\"wandb-col\"><h3>Run history:</h3><br/><table class=\"wandb\"><tr><td>accuracy</td><td>▁▅▆▇▇▇████</td></tr><tr><td>epoch</td><td>▁▂▃▃▄▅▆▆▇█</td></tr><tr><td>loss</td><td>█▄▃▂▂▁▁▁▁▁</td></tr><tr><td>val_accuracy</td><td>▁▄▅▆▇▇▇███</td></tr><tr><td>val_loss</td><td>█▅▃▂▂▂▁▁▁▁</td></tr></table><br/></div><div class=\"wandb-col\"><h3>Run summary:</h3><br/><table class=\"wandb\"><tr><td>accuracy</td><td>0.86832</td></tr><tr><td>epoch</td><td>9</td></tr><tr><td>loss</td><td>0.46012</td></tr><tr><td>val_accuracy</td><td>0.85768</td></tr><tr><td>val_loss</td><td>1.13964</td></tr></table><br/></div></div>"
            ],
            "text/plain": [
              "<IPython.core.display.HTML object>"
            ]
          },
          "metadata": {},
          "output_type": "display_data"
        },
        {
          "data": {
            "text/html": [
              " View run <strong style=\"color:#cdcd00\">hl_5_sz_64_bs_32_ac_sigmoid_w_i_random_lr_0.001_wd_0.5</strong> at: <a href='https://wandb.ai/3628-pavitrakhare-indian-institute-of-technology-madras/DA6401_ASS-practice/runs/ayoljs3i' target=\"_blank\">https://wandb.ai/3628-pavitrakhare-indian-institute-of-technology-madras/DA6401_ASS-practice/runs/ayoljs3i</a><br> View project at: <a href='https://wandb.ai/3628-pavitrakhare-indian-institute-of-technology-madras/DA6401_ASS-practice' target=\"_blank\">https://wandb.ai/3628-pavitrakhare-indian-institute-of-technology-madras/DA6401_ASS-practice</a><br>Synced 5 W&B file(s), 0 media file(s), 0 artifact file(s) and 0 other file(s)"
            ],
            "text/plain": [
              "<IPython.core.display.HTML object>"
            ]
          },
          "metadata": {},
          "output_type": "display_data"
        },
        {
          "data": {
            "text/html": [
              "Find logs at: <code>./wandb/run-20250308_204914-ayoljs3i/logs</code>"
            ],
            "text/plain": [
              "<IPython.core.display.HTML object>"
            ]
          },
          "metadata": {},
          "output_type": "display_data"
        },
        {
          "name": "stderr",
          "output_type": "stream",
          "text": [
            "\u001b[34m\u001b[1mwandb\u001b[0m: Agent Starting Run: 95wgq54d with config:\n",
            "\u001b[34m\u001b[1mwandb\u001b[0m: \ta: tanh\n",
            "\u001b[34m\u001b[1mwandb\u001b[0m: \tb: 16\n",
            "\u001b[34m\u001b[1mwandb\u001b[0m: \te: 10\n",
            "\u001b[34m\u001b[1mwandb\u001b[0m: \tlr: 0.0001\n",
            "\u001b[34m\u001b[1mwandb\u001b[0m: \tnlh: 3\n",
            "\u001b[34m\u001b[1mwandb\u001b[0m: \to: nag\n",
            "\u001b[34m\u001b[1mwandb\u001b[0m: \tsz: 32\n",
            "\u001b[34m\u001b[1mwandb\u001b[0m: \tw_d: 0\n",
            "\u001b[34m\u001b[1mwandb\u001b[0m: \tw_i: random\n"
          ]
        },
        {
          "data": {
            "text/html": [
              "Ignoring project 'DA6401_ASS-practice' when running a sweep."
            ],
            "text/plain": [
              "<IPython.core.display.HTML object>"
            ]
          },
          "metadata": {},
          "output_type": "display_data"
        },
        {
          "data": {
            "text/html": [
              "Tracking run with wandb version 0.19.7"
            ],
            "text/plain": [
              "<IPython.core.display.HTML object>"
            ]
          },
          "metadata": {},
          "output_type": "display_data"
        },
        {
          "data": {
            "text/html": [
              "Run data is saved locally in <code>/content/wandb/run-20250308_205626-95wgq54d</code>"
            ],
            "text/plain": [
              "<IPython.core.display.HTML object>"
            ]
          },
          "metadata": {},
          "output_type": "display_data"
        },
        {
          "data": {
            "text/html": [
              "Syncing run <strong><a href='https://wandb.ai/3628-pavitrakhare-indian-institute-of-technology-madras/DA6401_ASS-practice/runs/95wgq54d' target=\"_blank\">magic-sweep-14</a></strong> to <a href='https://wandb.ai/3628-pavitrakhare-indian-institute-of-technology-madras/DA6401_ASS-practice' target=\"_blank\">Weights & Biases</a> (<a href='https://wandb.me/developer-guide' target=\"_blank\">docs</a>)<br>Sweep page: <a href='https://wandb.ai/3628-pavitrakhare-indian-institute-of-technology-madras/DA6401_ASS-practice/sweeps/nfibwu4x' target=\"_blank\">https://wandb.ai/3628-pavitrakhare-indian-institute-of-technology-madras/DA6401_ASS-practice/sweeps/nfibwu4x</a>"
            ],
            "text/plain": [
              "<IPython.core.display.HTML object>"
            ]
          },
          "metadata": {},
          "output_type": "display_data"
        },
        {
          "data": {
            "text/html": [
              " View project at <a href='https://wandb.ai/3628-pavitrakhare-indian-institute-of-technology-madras/DA6401_ASS-practice' target=\"_blank\">https://wandb.ai/3628-pavitrakhare-indian-institute-of-technology-madras/DA6401_ASS-practice</a>"
            ],
            "text/plain": [
              "<IPython.core.display.HTML object>"
            ]
          },
          "metadata": {},
          "output_type": "display_data"
        },
        {
          "data": {
            "text/html": [
              " View sweep at <a href='https://wandb.ai/3628-pavitrakhare-indian-institute-of-technology-madras/DA6401_ASS-practice/sweeps/nfibwu4x' target=\"_blank\">https://wandb.ai/3628-pavitrakhare-indian-institute-of-technology-madras/DA6401_ASS-practice/sweeps/nfibwu4x</a>"
            ],
            "text/plain": [
              "<IPython.core.display.HTML object>"
            ]
          },
          "metadata": {},
          "output_type": "display_data"
        },
        {
          "data": {
            "text/html": [
              " View run at <a href='https://wandb.ai/3628-pavitrakhare-indian-institute-of-technology-madras/DA6401_ASS-practice/runs/95wgq54d' target=\"_blank\">https://wandb.ai/3628-pavitrakhare-indian-institute-of-technology-madras/DA6401_ASS-practice/runs/95wgq54d</a>"
            ],
            "text/plain": [
              "<IPython.core.display.HTML object>"
            ]
          },
          "metadata": {},
          "output_type": "display_data"
        },
        {
          "name": "stdout",
          "output_type": "stream",
          "text": [
            "epoch :  1  validation loss :  0.9806843549022378\n",
            "epoch :  2  validation loss :  0.8308687224165665\n",
            "epoch :  3  validation loss :  0.7516889620724898\n",
            "epoch :  4  validation loss :  0.7011272986041245\n",
            "epoch :  5  validation loss :  0.666574113338986\n",
            "epoch :  6  validation loss :  0.6419280918765817\n",
            "epoch :  7  validation loss :  0.6229931528379677\n",
            "epoch :  8  validation loss :  0.6079864461909515\n",
            "epoch :  9  validation loss :  0.5951148493092777\n",
            "epoch :  10  validation loss :  0.5847477293869069\n"
          ]
        },
        {
          "data": {
            "text/html": [],
            "text/plain": [
              "<IPython.core.display.HTML object>"
            ]
          },
          "metadata": {},
          "output_type": "display_data"
        },
        {
          "data": {
            "text/html": [
              "<br>    <style><br>        .wandb-row {<br>            display: flex;<br>            flex-direction: row;<br>            flex-wrap: wrap;<br>            justify-content: flex-start;<br>            width: 100%;<br>        }<br>        .wandb-col {<br>            display: flex;<br>            flex-direction: column;<br>            flex-basis: 100%;<br>            flex: 1;<br>            padding: 10px;<br>        }<br>    </style><br><div class=\"wandb-row\"><div class=\"wandb-col\"><h3>Run history:</h3><br/><table class=\"wandb\"><tr><td>accuracy</td><td>▁▅▆▇▇▇████</td></tr><tr><td>epoch</td><td>▁▂▃▃▄▅▆▆▇█</td></tr><tr><td>loss</td><td>█▄▃▂▂▂▁▁▁▁</td></tr><tr><td>val_accuracy</td><td>▁▄▅▆▇▇▇███</td></tr><tr><td>val_loss</td><td>█▅▄▃▂▂▂▁▁▁</td></tr></table><br/></div><div class=\"wandb-col\"><h3>Run summary:</h3><br/><table class=\"wandb\"><tr><td>accuracy</td><td>0.8068</td></tr><tr><td>epoch</td><td>9</td></tr><tr><td>loss</td><td>0.56519</td></tr><tr><td>val_accuracy</td><td>0.80248</td></tr><tr><td>val_loss</td><td>0.58475</td></tr></table><br/></div></div>"
            ],
            "text/plain": [
              "<IPython.core.display.HTML object>"
            ]
          },
          "metadata": {},
          "output_type": "display_data"
        },
        {
          "data": {
            "text/html": [
              " View run <strong style=\"color:#cdcd00\">hl_3_sz_32_bs_16_ac_tanh_w_i_random_lr_0.0001_wd_0</strong> at: <a href='https://wandb.ai/3628-pavitrakhare-indian-institute-of-technology-madras/DA6401_ASS-practice/runs/95wgq54d' target=\"_blank\">https://wandb.ai/3628-pavitrakhare-indian-institute-of-technology-madras/DA6401_ASS-practice/runs/95wgq54d</a><br> View project at: <a href='https://wandb.ai/3628-pavitrakhare-indian-institute-of-technology-madras/DA6401_ASS-practice' target=\"_blank\">https://wandb.ai/3628-pavitrakhare-indian-institute-of-technology-madras/DA6401_ASS-practice</a><br>Synced 5 W&B file(s), 0 media file(s), 0 artifact file(s) and 0 other file(s)"
            ],
            "text/plain": [
              "<IPython.core.display.HTML object>"
            ]
          },
          "metadata": {},
          "output_type": "display_data"
        },
        {
          "data": {
            "text/html": [
              "Find logs at: <code>./wandb/run-20250308_205626-95wgq54d/logs</code>"
            ],
            "text/plain": [
              "<IPython.core.display.HTML object>"
            ]
          },
          "metadata": {},
          "output_type": "display_data"
        },
        {
          "name": "stderr",
          "output_type": "stream",
          "text": [
            "\u001b[34m\u001b[1mwandb\u001b[0m: Sweep Agent: Waiting for job.\n",
            "\u001b[34m\u001b[1mwandb\u001b[0m: Job received.\n",
            "\u001b[34m\u001b[1mwandb\u001b[0m: Agent Starting Run: g7kojm2s with config:\n",
            "\u001b[34m\u001b[1mwandb\u001b[0m: \ta: tanh\n",
            "\u001b[34m\u001b[1mwandb\u001b[0m: \tb: 16\n",
            "\u001b[34m\u001b[1mwandb\u001b[0m: \te: 5\n",
            "\u001b[34m\u001b[1mwandb\u001b[0m: \tlr: 0.001\n",
            "\u001b[34m\u001b[1mwandb\u001b[0m: \tnlh: 3\n",
            "\u001b[34m\u001b[1mwandb\u001b[0m: \to: momentum\n",
            "\u001b[34m\u001b[1mwandb\u001b[0m: \tsz: 64\n",
            "\u001b[34m\u001b[1mwandb\u001b[0m: \tw_d: 0.5\n",
            "\u001b[34m\u001b[1mwandb\u001b[0m: \tw_i: Xavier\n"
          ]
        },
        {
          "data": {
            "text/html": [
              "Ignoring project 'DA6401_ASS-practice' when running a sweep."
            ],
            "text/plain": [
              "<IPython.core.display.HTML object>"
            ]
          },
          "metadata": {},
          "output_type": "display_data"
        },
        {
          "data": {
            "text/html": [
              "Tracking run with wandb version 0.19.7"
            ],
            "text/plain": [
              "<IPython.core.display.HTML object>"
            ]
          },
          "metadata": {},
          "output_type": "display_data"
        },
        {
          "data": {
            "text/html": [
              "Run data is saved locally in <code>/content/wandb/run-20250308_210004-g7kojm2s</code>"
            ],
            "text/plain": [
              "<IPython.core.display.HTML object>"
            ]
          },
          "metadata": {},
          "output_type": "display_data"
        },
        {
          "data": {
            "text/html": [
              "Syncing run <strong><a href='https://wandb.ai/3628-pavitrakhare-indian-institute-of-technology-madras/DA6401_ASS-practice/runs/g7kojm2s' target=\"_blank\">clear-sweep-15</a></strong> to <a href='https://wandb.ai/3628-pavitrakhare-indian-institute-of-technology-madras/DA6401_ASS-practice' target=\"_blank\">Weights & Biases</a> (<a href='https://wandb.me/developer-guide' target=\"_blank\">docs</a>)<br>Sweep page: <a href='https://wandb.ai/3628-pavitrakhare-indian-institute-of-technology-madras/DA6401_ASS-practice/sweeps/nfibwu4x' target=\"_blank\">https://wandb.ai/3628-pavitrakhare-indian-institute-of-technology-madras/DA6401_ASS-practice/sweeps/nfibwu4x</a>"
            ],
            "text/plain": [
              "<IPython.core.display.HTML object>"
            ]
          },
          "metadata": {},
          "output_type": "display_data"
        },
        {
          "data": {
            "text/html": [
              " View project at <a href='https://wandb.ai/3628-pavitrakhare-indian-institute-of-technology-madras/DA6401_ASS-practice' target=\"_blank\">https://wandb.ai/3628-pavitrakhare-indian-institute-of-technology-madras/DA6401_ASS-practice</a>"
            ],
            "text/plain": [
              "<IPython.core.display.HTML object>"
            ]
          },
          "metadata": {},
          "output_type": "display_data"
        },
        {
          "data": {
            "text/html": [
              " View sweep at <a href='https://wandb.ai/3628-pavitrakhare-indian-institute-of-technology-madras/DA6401_ASS-practice/sweeps/nfibwu4x' target=\"_blank\">https://wandb.ai/3628-pavitrakhare-indian-institute-of-technology-madras/DA6401_ASS-practice/sweeps/nfibwu4x</a>"
            ],
            "text/plain": [
              "<IPython.core.display.HTML object>"
            ]
          },
          "metadata": {},
          "output_type": "display_data"
        },
        {
          "data": {
            "text/html": [
              " View run at <a href='https://wandb.ai/3628-pavitrakhare-indian-institute-of-technology-madras/DA6401_ASS-practice/runs/g7kojm2s' target=\"_blank\">https://wandb.ai/3628-pavitrakhare-indian-institute-of-technology-madras/DA6401_ASS-practice/runs/g7kojm2s</a>"
            ],
            "text/plain": [
              "<IPython.core.display.HTML object>"
            ]
          },
          "metadata": {},
          "output_type": "display_data"
        },
        {
          "name": "stdout",
          "output_type": "stream",
          "text": [
            "epoch :  1  validation loss :  0.46120616791945096\n",
            "epoch :  2  validation loss :  0.4201575268689989\n",
            "epoch :  3  validation loss :  0.4083748537199473\n",
            "epoch :  4  validation loss :  0.3975989862577118\n",
            "epoch :  5  validation loss :  0.385047868889188\n"
          ]
        },
        {
          "data": {
            "text/html": [],
            "text/plain": [
              "<IPython.core.display.HTML object>"
            ]
          },
          "metadata": {},
          "output_type": "display_data"
        },
        {
          "data": {
            "text/html": [
              "<br>    <style><br>        .wandb-row {<br>            display: flex;<br>            flex-direction: row;<br>            flex-wrap: wrap;<br>            justify-content: flex-start;<br>            width: 100%;<br>        }<br>        .wandb-col {<br>            display: flex;<br>            flex-direction: column;<br>            flex-basis: 100%;<br>            flex: 1;<br>            padding: 10px;<br>        }<br>    </style><br><div class=\"wandb-row\"><div class=\"wandb-col\"><h3>Run history:</h3><br/><table class=\"wandb\"><tr><td>accuracy</td><td>▁▆▇▇█</td></tr><tr><td>epoch</td><td>▁▃▅▆█</td></tr><tr><td>loss</td><td>█▃▂▂▁</td></tr><tr><td>val_accuracy</td><td>▁▅▆▇█</td></tr><tr><td>val_loss</td><td>█▄▃▂▁</td></tr></table><br/></div><div class=\"wandb-col\"><h3>Run summary:</h3><br/><table class=\"wandb\"><tr><td>accuracy</td><td>0.88458</td></tr><tr><td>epoch</td><td>4</td></tr><tr><td>loss</td><td>0.32304</td></tr><tr><td>val_accuracy</td><td>0.87313</td></tr><tr><td>val_loss</td><td>0.38505</td></tr></table><br/></div></div>"
            ],
            "text/plain": [
              "<IPython.core.display.HTML object>"
            ]
          },
          "metadata": {},
          "output_type": "display_data"
        },
        {
          "data": {
            "text/html": [
              " View run <strong style=\"color:#cdcd00\">hl_3_sz_64_bs_16_ac_tanh_w_i_Xavier_lr_0.001_wd_0.5</strong> at: <a href='https://wandb.ai/3628-pavitrakhare-indian-institute-of-technology-madras/DA6401_ASS-practice/runs/g7kojm2s' target=\"_blank\">https://wandb.ai/3628-pavitrakhare-indian-institute-of-technology-madras/DA6401_ASS-practice/runs/g7kojm2s</a><br> View project at: <a href='https://wandb.ai/3628-pavitrakhare-indian-institute-of-technology-madras/DA6401_ASS-practice' target=\"_blank\">https://wandb.ai/3628-pavitrakhare-indian-institute-of-technology-madras/DA6401_ASS-practice</a><br>Synced 5 W&B file(s), 0 media file(s), 0 artifact file(s) and 0 other file(s)"
            ],
            "text/plain": [
              "<IPython.core.display.HTML object>"
            ]
          },
          "metadata": {},
          "output_type": "display_data"
        },
        {
          "data": {
            "text/html": [
              "Find logs at: <code>./wandb/run-20250308_210004-g7kojm2s/logs</code>"
            ],
            "text/plain": [
              "<IPython.core.display.HTML object>"
            ]
          },
          "metadata": {},
          "output_type": "display_data"
        },
        {
          "name": "stderr",
          "output_type": "stream",
          "text": [
            "\u001b[34m\u001b[1mwandb\u001b[0m: Agent Starting Run: kznnmak5 with config:\n",
            "\u001b[34m\u001b[1mwandb\u001b[0m: \ta: ReLU\n",
            "\u001b[34m\u001b[1mwandb\u001b[0m: \tb: 32\n",
            "\u001b[34m\u001b[1mwandb\u001b[0m: \te: 10\n",
            "\u001b[34m\u001b[1mwandb\u001b[0m: \tlr: 0.0001\n",
            "\u001b[34m\u001b[1mwandb\u001b[0m: \tnlh: 3\n",
            "\u001b[34m\u001b[1mwandb\u001b[0m: \to: sgd\n",
            "\u001b[34m\u001b[1mwandb\u001b[0m: \tsz: 64\n",
            "\u001b[34m\u001b[1mwandb\u001b[0m: \tw_d: 0.0005\n",
            "\u001b[34m\u001b[1mwandb\u001b[0m: \tw_i: random\n"
          ]
        },
        {
          "data": {
            "text/html": [
              "Ignoring project 'DA6401_ASS-practice' when running a sweep."
            ],
            "text/plain": [
              "<IPython.core.display.HTML object>"
            ]
          },
          "metadata": {},
          "output_type": "display_data"
        },
        {
          "data": {
            "text/html": [
              "Tracking run with wandb version 0.19.7"
            ],
            "text/plain": [
              "<IPython.core.display.HTML object>"
            ]
          },
          "metadata": {},
          "output_type": "display_data"
        },
        {
          "data": {
            "text/html": [
              "Run data is saved locally in <code>/content/wandb/run-20250308_210307-kznnmak5</code>"
            ],
            "text/plain": [
              "<IPython.core.display.HTML object>"
            ]
          },
          "metadata": {},
          "output_type": "display_data"
        },
        {
          "data": {
            "text/html": [
              "Syncing run <strong><a href='https://wandb.ai/3628-pavitrakhare-indian-institute-of-technology-madras/DA6401_ASS-practice/runs/kznnmak5' target=\"_blank\">fallen-sweep-16</a></strong> to <a href='https://wandb.ai/3628-pavitrakhare-indian-institute-of-technology-madras/DA6401_ASS-practice' target=\"_blank\">Weights & Biases</a> (<a href='https://wandb.me/developer-guide' target=\"_blank\">docs</a>)<br>Sweep page: <a href='https://wandb.ai/3628-pavitrakhare-indian-institute-of-technology-madras/DA6401_ASS-practice/sweeps/nfibwu4x' target=\"_blank\">https://wandb.ai/3628-pavitrakhare-indian-institute-of-technology-madras/DA6401_ASS-practice/sweeps/nfibwu4x</a>"
            ],
            "text/plain": [
              "<IPython.core.display.HTML object>"
            ]
          },
          "metadata": {},
          "output_type": "display_data"
        },
        {
          "data": {
            "text/html": [
              " View project at <a href='https://wandb.ai/3628-pavitrakhare-indian-institute-of-technology-madras/DA6401_ASS-practice' target=\"_blank\">https://wandb.ai/3628-pavitrakhare-indian-institute-of-technology-madras/DA6401_ASS-practice</a>"
            ],
            "text/plain": [
              "<IPython.core.display.HTML object>"
            ]
          },
          "metadata": {},
          "output_type": "display_data"
        },
        {
          "data": {
            "text/html": [
              " View sweep at <a href='https://wandb.ai/3628-pavitrakhare-indian-institute-of-technology-madras/DA6401_ASS-practice/sweeps/nfibwu4x' target=\"_blank\">https://wandb.ai/3628-pavitrakhare-indian-institute-of-technology-madras/DA6401_ASS-practice/sweeps/nfibwu4x</a>"
            ],
            "text/plain": [
              "<IPython.core.display.HTML object>"
            ]
          },
          "metadata": {},
          "output_type": "display_data"
        },
        {
          "data": {
            "text/html": [
              " View run at <a href='https://wandb.ai/3628-pavitrakhare-indian-institute-of-technology-madras/DA6401_ASS-practice/runs/kznnmak5' target=\"_blank\">https://wandb.ai/3628-pavitrakhare-indian-institute-of-technology-madras/DA6401_ASS-practice/runs/kznnmak5</a>"
            ],
            "text/plain": [
              "<IPython.core.display.HTML object>"
            ]
          },
          "metadata": {},
          "output_type": "display_data"
        },
        {
          "name": "stdout",
          "output_type": "stream",
          "text": [
            "epoch :  1  validation loss :  2.860815237656375\n",
            "epoch :  2  validation loss :  1.82304242065177\n",
            "epoch :  3  validation loss :  1.4015410933692374\n",
            "epoch :  4  validation loss :  1.2166851898539104\n",
            "epoch :  5  validation loss :  1.1061589364863034\n",
            "epoch :  6  validation loss :  1.033740239821636\n",
            "epoch :  7  validation loss :  0.9830621823077976\n",
            "epoch :  8  validation loss :  0.9441141042022386\n",
            "epoch :  9  validation loss :  0.910053673415032\n",
            "epoch :  10  validation loss :  0.8816488021510651\n"
          ]
        },
        {
          "data": {
            "text/html": [],
            "text/plain": [
              "<IPython.core.display.HTML object>"
            ]
          },
          "metadata": {},
          "output_type": "display_data"
        },
        {
          "data": {
            "text/html": [
              "<br>    <style><br>        .wandb-row {<br>            display: flex;<br>            flex-direction: row;<br>            flex-wrap: wrap;<br>            justify-content: flex-start;<br>            width: 100%;<br>        }<br>        .wandb-col {<br>            display: flex;<br>            flex-direction: column;<br>            flex-basis: 100%;<br>            flex: 1;<br>            padding: 10px;<br>        }<br>    </style><br><div class=\"wandb-row\"><div class=\"wandb-col\"><h3>Run history:</h3><br/><table class=\"wandb\"><tr><td>accuracy</td><td>▁▅▆▆▇▇▇███</td></tr><tr><td>epoch</td><td>▁▂▃▃▄▅▆▆▇█</td></tr><tr><td>loss</td><td>█▃▂▂▁▁▁▁▁▁</td></tr><tr><td>val_accuracy</td><td>▁▄▅▅▅▆▇▇██</td></tr><tr><td>val_loss</td><td>█▄▃▂▂▂▁▁▁▁</td></tr></table><br/></div><div class=\"wandb-col\"><h3>Run summary:</h3><br/><table class=\"wandb\"><tr><td>accuracy</td><td>0.7114</td></tr><tr><td>epoch</td><td>9</td></tr><tr><td>loss</td><td>0.93824</td></tr><tr><td>val_accuracy</td><td>0.73251</td></tr><tr><td>val_loss</td><td>0.88165</td></tr></table><br/></div></div>"
            ],
            "text/plain": [
              "<IPython.core.display.HTML object>"
            ]
          },
          "metadata": {},
          "output_type": "display_data"
        },
        {
          "data": {
            "text/html": [
              " View run <strong style=\"color:#cdcd00\">hl_3_sz_64_bs_32_ac_ReLU_w_i_random_lr_0.0001_wd_0.0005</strong> at: <a href='https://wandb.ai/3628-pavitrakhare-indian-institute-of-technology-madras/DA6401_ASS-practice/runs/kznnmak5' target=\"_blank\">https://wandb.ai/3628-pavitrakhare-indian-institute-of-technology-madras/DA6401_ASS-practice/runs/kznnmak5</a><br> View project at: <a href='https://wandb.ai/3628-pavitrakhare-indian-institute-of-technology-madras/DA6401_ASS-practice' target=\"_blank\">https://wandb.ai/3628-pavitrakhare-indian-institute-of-technology-madras/DA6401_ASS-practice</a><br>Synced 5 W&B file(s), 0 media file(s), 0 artifact file(s) and 0 other file(s)"
            ],
            "text/plain": [
              "<IPython.core.display.HTML object>"
            ]
          },
          "metadata": {},
          "output_type": "display_data"
        },
        {
          "data": {
            "text/html": [
              "Find logs at: <code>./wandb/run-20250308_210307-kznnmak5/logs</code>"
            ],
            "text/plain": [
              "<IPython.core.display.HTML object>"
            ]
          },
          "metadata": {},
          "output_type": "display_data"
        },
        {
          "name": "stderr",
          "output_type": "stream",
          "text": [
            "\u001b[34m\u001b[1mwandb\u001b[0m: Sweep Agent: Waiting for job.\n",
            "\u001b[34m\u001b[1mwandb\u001b[0m: Job received.\n",
            "\u001b[34m\u001b[1mwandb\u001b[0m: Agent Starting Run: 061xm14p with config:\n",
            "\u001b[34m\u001b[1mwandb\u001b[0m: \ta: sigmoid\n",
            "\u001b[34m\u001b[1mwandb\u001b[0m: \tb: 64\n",
            "\u001b[34m\u001b[1mwandb\u001b[0m: \te: 5\n",
            "\u001b[34m\u001b[1mwandb\u001b[0m: \tlr: 0.001\n",
            "\u001b[34m\u001b[1mwandb\u001b[0m: \tnlh: 4\n",
            "\u001b[34m\u001b[1mwandb\u001b[0m: \to: rmsprop\n",
            "\u001b[34m\u001b[1mwandb\u001b[0m: \tsz: 128\n",
            "\u001b[34m\u001b[1mwandb\u001b[0m: \tw_d: 0.5\n",
            "\u001b[34m\u001b[1mwandb\u001b[0m: \tw_i: random\n"
          ]
        },
        {
          "data": {
            "text/html": [
              "Ignoring project 'DA6401_ASS-practice' when running a sweep."
            ],
            "text/plain": [
              "<IPython.core.display.HTML object>"
            ]
          },
          "metadata": {},
          "output_type": "display_data"
        },
        {
          "data": {
            "text/html": [
              "Tracking run with wandb version 0.19.7"
            ],
            "text/plain": [
              "<IPython.core.display.HTML object>"
            ]
          },
          "metadata": {},
          "output_type": "display_data"
        },
        {
          "data": {
            "text/html": [
              "Run data is saved locally in <code>/content/wandb/run-20250308_210751-061xm14p</code>"
            ],
            "text/plain": [
              "<IPython.core.display.HTML object>"
            ]
          },
          "metadata": {},
          "output_type": "display_data"
        },
        {
          "data": {
            "text/html": [
              "Syncing run <strong><a href='https://wandb.ai/3628-pavitrakhare-indian-institute-of-technology-madras/DA6401_ASS-practice/runs/061xm14p' target=\"_blank\">blooming-sweep-17</a></strong> to <a href='https://wandb.ai/3628-pavitrakhare-indian-institute-of-technology-madras/DA6401_ASS-practice' target=\"_blank\">Weights & Biases</a> (<a href='https://wandb.me/developer-guide' target=\"_blank\">docs</a>)<br>Sweep page: <a href='https://wandb.ai/3628-pavitrakhare-indian-institute-of-technology-madras/DA6401_ASS-practice/sweeps/nfibwu4x' target=\"_blank\">https://wandb.ai/3628-pavitrakhare-indian-institute-of-technology-madras/DA6401_ASS-practice/sweeps/nfibwu4x</a>"
            ],
            "text/plain": [
              "<IPython.core.display.HTML object>"
            ]
          },
          "metadata": {},
          "output_type": "display_data"
        },
        {
          "data": {
            "text/html": [
              " View project at <a href='https://wandb.ai/3628-pavitrakhare-indian-institute-of-technology-madras/DA6401_ASS-practice' target=\"_blank\">https://wandb.ai/3628-pavitrakhare-indian-institute-of-technology-madras/DA6401_ASS-practice</a>"
            ],
            "text/plain": [
              "<IPython.core.display.HTML object>"
            ]
          },
          "metadata": {},
          "output_type": "display_data"
        },
        {
          "data": {
            "text/html": [
              " View sweep at <a href='https://wandb.ai/3628-pavitrakhare-indian-institute-of-technology-madras/DA6401_ASS-practice/sweeps/nfibwu4x' target=\"_blank\">https://wandb.ai/3628-pavitrakhare-indian-institute-of-technology-madras/DA6401_ASS-practice/sweeps/nfibwu4x</a>"
            ],
            "text/plain": [
              "<IPython.core.display.HTML object>"
            ]
          },
          "metadata": {},
          "output_type": "display_data"
        },
        {
          "data": {
            "text/html": [
              " View run at <a href='https://wandb.ai/3628-pavitrakhare-indian-institute-of-technology-madras/DA6401_ASS-practice/runs/061xm14p' target=\"_blank\">https://wandb.ai/3628-pavitrakhare-indian-institute-of-technology-madras/DA6401_ASS-practice/runs/061xm14p</a>"
            ],
            "text/plain": [
              "<IPython.core.display.HTML object>"
            ]
          },
          "metadata": {},
          "output_type": "display_data"
        },
        {
          "name": "stdout",
          "output_type": "stream",
          "text": [
            "epoch :  1  validation loss :  2.1167390120201404\n",
            "epoch :  2  validation loss :  2.0540171572304176\n",
            "epoch :  3  validation loss :  2.028980297787368\n",
            "epoch :  4  validation loss :  2.014582619102966\n",
            "epoch :  5  validation loss :  2.005581761481884\n"
          ]
        },
        {
          "data": {
            "text/html": [],
            "text/plain": [
              "<IPython.core.display.HTML object>"
            ]
          },
          "metadata": {},
          "output_type": "display_data"
        },
        {
          "data": {
            "text/html": [
              "<br>    <style><br>        .wandb-row {<br>            display: flex;<br>            flex-direction: row;<br>            flex-wrap: wrap;<br>            justify-content: flex-start;<br>            width: 100%;<br>        }<br>        .wandb-col {<br>            display: flex;<br>            flex-direction: column;<br>            flex-basis: 100%;<br>            flex: 1;<br>            padding: 10px;<br>        }<br>    </style><br><div class=\"wandb-row\"><div class=\"wandb-col\"><h3>Run history:</h3><br/><table class=\"wandb\"><tr><td>accuracy</td><td>▁▆▇██</td></tr><tr><td>epoch</td><td>▁▃▅▆█</td></tr><tr><td>loss</td><td>█▃▂▁▁</td></tr><tr><td>val_accuracy</td><td>▁▄▅▇█</td></tr><tr><td>val_loss</td><td>█▄▂▂▁</td></tr></table><br/></div><div class=\"wandb-col\"><h3>Run summary:</h3><br/><table class=\"wandb\"><tr><td>accuracy</td><td>0.87199</td></tr><tr><td>epoch</td><td>4</td></tr><tr><td>loss</td><td>0.53238</td></tr><tr><td>val_accuracy</td><td>0.86124</td></tr><tr><td>val_loss</td><td>2.00558</td></tr></table><br/></div></div>"
            ],
            "text/plain": [
              "<IPython.core.display.HTML object>"
            ]
          },
          "metadata": {},
          "output_type": "display_data"
        },
        {
          "data": {
            "text/html": [
              " View run <strong style=\"color:#cdcd00\">hl_4_sz_128_bs_64_ac_sigmoid_w_i_random_lr_0.001_wd_0.5</strong> at: <a href='https://wandb.ai/3628-pavitrakhare-indian-institute-of-technology-madras/DA6401_ASS-practice/runs/061xm14p' target=\"_blank\">https://wandb.ai/3628-pavitrakhare-indian-institute-of-technology-madras/DA6401_ASS-practice/runs/061xm14p</a><br> View project at: <a href='https://wandb.ai/3628-pavitrakhare-indian-institute-of-technology-madras/DA6401_ASS-practice' target=\"_blank\">https://wandb.ai/3628-pavitrakhare-indian-institute-of-technology-madras/DA6401_ASS-practice</a><br>Synced 5 W&B file(s), 0 media file(s), 0 artifact file(s) and 0 other file(s)"
            ],
            "text/plain": [
              "<IPython.core.display.HTML object>"
            ]
          },
          "metadata": {},
          "output_type": "display_data"
        },
        {
          "data": {
            "text/html": [
              "Find logs at: <code>./wandb/run-20250308_210751-061xm14p/logs</code>"
            ],
            "text/plain": [
              "<IPython.core.display.HTML object>"
            ]
          },
          "metadata": {},
          "output_type": "display_data"
        },
        {
          "name": "stderr",
          "output_type": "stream",
          "text": [
            "\u001b[34m\u001b[1mwandb\u001b[0m: Agent Starting Run: zsmqjevo with config:\n",
            "\u001b[34m\u001b[1mwandb\u001b[0m: \ta: ReLU\n",
            "\u001b[34m\u001b[1mwandb\u001b[0m: \tb: 32\n",
            "\u001b[34m\u001b[1mwandb\u001b[0m: \te: 5\n",
            "\u001b[34m\u001b[1mwandb\u001b[0m: \tlr: 0.0001\n",
            "\u001b[34m\u001b[1mwandb\u001b[0m: \tnlh: 4\n",
            "\u001b[34m\u001b[1mwandb\u001b[0m: \to: nag\n",
            "\u001b[34m\u001b[1mwandb\u001b[0m: \tsz: 64\n",
            "\u001b[34m\u001b[1mwandb\u001b[0m: \tw_d: 0.5\n",
            "\u001b[34m\u001b[1mwandb\u001b[0m: \tw_i: random\n"
          ]
        },
        {
          "data": {
            "text/html": [
              "Ignoring project 'DA6401_ASS-practice' when running a sweep."
            ],
            "text/plain": [
              "<IPython.core.display.HTML object>"
            ]
          },
          "metadata": {},
          "output_type": "display_data"
        },
        {
          "data": {
            "text/html": [
              "Tracking run with wandb version 0.19.7"
            ],
            "text/plain": [
              "<IPython.core.display.HTML object>"
            ]
          },
          "metadata": {},
          "output_type": "display_data"
        },
        {
          "data": {
            "text/html": [
              "Run data is saved locally in <code>/content/wandb/run-20250308_211306-zsmqjevo</code>"
            ],
            "text/plain": [
              "<IPython.core.display.HTML object>"
            ]
          },
          "metadata": {},
          "output_type": "display_data"
        },
        {
          "data": {
            "text/html": [
              "Syncing run <strong><a href='https://wandb.ai/3628-pavitrakhare-indian-institute-of-technology-madras/DA6401_ASS-practice/runs/zsmqjevo' target=\"_blank\">grateful-sweep-18</a></strong> to <a href='https://wandb.ai/3628-pavitrakhare-indian-institute-of-technology-madras/DA6401_ASS-practice' target=\"_blank\">Weights & Biases</a> (<a href='https://wandb.me/developer-guide' target=\"_blank\">docs</a>)<br>Sweep page: <a href='https://wandb.ai/3628-pavitrakhare-indian-institute-of-technology-madras/DA6401_ASS-practice/sweeps/nfibwu4x' target=\"_blank\">https://wandb.ai/3628-pavitrakhare-indian-institute-of-technology-madras/DA6401_ASS-practice/sweeps/nfibwu4x</a>"
            ],
            "text/plain": [
              "<IPython.core.display.HTML object>"
            ]
          },
          "metadata": {},
          "output_type": "display_data"
        },
        {
          "data": {
            "text/html": [
              " View project at <a href='https://wandb.ai/3628-pavitrakhare-indian-institute-of-technology-madras/DA6401_ASS-practice' target=\"_blank\">https://wandb.ai/3628-pavitrakhare-indian-institute-of-technology-madras/DA6401_ASS-practice</a>"
            ],
            "text/plain": [
              "<IPython.core.display.HTML object>"
            ]
          },
          "metadata": {},
          "output_type": "display_data"
        },
        {
          "data": {
            "text/html": [
              " View sweep at <a href='https://wandb.ai/3628-pavitrakhare-indian-institute-of-technology-madras/DA6401_ASS-practice/sweeps/nfibwu4x' target=\"_blank\">https://wandb.ai/3628-pavitrakhare-indian-institute-of-technology-madras/DA6401_ASS-practice/sweeps/nfibwu4x</a>"
            ],
            "text/plain": [
              "<IPython.core.display.HTML object>"
            ]
          },
          "metadata": {},
          "output_type": "display_data"
        },
        {
          "data": {
            "text/html": [
              " View run at <a href='https://wandb.ai/3628-pavitrakhare-indian-institute-of-technology-madras/DA6401_ASS-practice/runs/zsmqjevo' target=\"_blank\">https://wandb.ai/3628-pavitrakhare-indian-institute-of-technology-madras/DA6401_ASS-practice/runs/zsmqjevo</a>"
            ],
            "text/plain": [
              "<IPython.core.display.HTML object>"
            ]
          },
          "metadata": {},
          "output_type": "display_data"
        },
        {
          "name": "stdout",
          "output_type": "stream",
          "text": [
            "epoch :  1  validation loss :  1.7390477463745668\n",
            "epoch :  2  validation loss :  1.4523135432177914\n",
            "epoch :  3  validation loss :  1.407610473053166\n",
            "epoch :  4  validation loss :  1.343886814751439\n",
            "epoch :  5  validation loss :  1.3169612223280613\n"
          ]
        },
        {
          "data": {
            "text/html": [],
            "text/plain": [
              "<IPython.core.display.HTML object>"
            ]
          },
          "metadata": {},
          "output_type": "display_data"
        },
        {
          "data": {
            "text/html": [
              "<br>    <style><br>        .wandb-row {<br>            display: flex;<br>            flex-direction: row;<br>            flex-wrap: wrap;<br>            justify-content: flex-start;<br>            width: 100%;<br>        }<br>        .wandb-col {<br>            display: flex;<br>            flex-direction: column;<br>            flex-basis: 100%;<br>            flex: 1;<br>            padding: 10px;<br>        }<br>    </style><br><div class=\"wandb-row\"><div class=\"wandb-col\"><h3>Run history:</h3><br/><table class=\"wandb\"><tr><td>accuracy</td><td>▁▅▇▇█</td></tr><tr><td>epoch</td><td>▁▃▅▆█</td></tr><tr><td>loss</td><td>█▂▁▁▁</td></tr><tr><td>val_accuracy</td><td>▁▆▆██</td></tr><tr><td>val_loss</td><td>█▃▃▁▁</td></tr></table><br/></div><div class=\"wandb-col\"><h3>Run summary:</h3><br/><table class=\"wandb\"><tr><td>accuracy</td><td>0.79396</td></tr><tr><td>epoch</td><td>4</td></tr><tr><td>loss</td><td>0.68797</td></tr><tr><td>val_accuracy</td><td>0.78482</td></tr><tr><td>val_loss</td><td>1.31696</td></tr></table><br/></div></div>"
            ],
            "text/plain": [
              "<IPython.core.display.HTML object>"
            ]
          },
          "metadata": {},
          "output_type": "display_data"
        },
        {
          "data": {
            "text/html": [
              " View run <strong style=\"color:#cdcd00\">hl_4_sz_64_bs_32_ac_ReLU_w_i_random_lr_0.0001_wd_0.5</strong> at: <a href='https://wandb.ai/3628-pavitrakhare-indian-institute-of-technology-madras/DA6401_ASS-practice/runs/zsmqjevo' target=\"_blank\">https://wandb.ai/3628-pavitrakhare-indian-institute-of-technology-madras/DA6401_ASS-practice/runs/zsmqjevo</a><br> View project at: <a href='https://wandb.ai/3628-pavitrakhare-indian-institute-of-technology-madras/DA6401_ASS-practice' target=\"_blank\">https://wandb.ai/3628-pavitrakhare-indian-institute-of-technology-madras/DA6401_ASS-practice</a><br>Synced 5 W&B file(s), 0 media file(s), 0 artifact file(s) and 0 other file(s)"
            ],
            "text/plain": [
              "<IPython.core.display.HTML object>"
            ]
          },
          "metadata": {},
          "output_type": "display_data"
        },
        {
          "data": {
            "text/html": [
              "Find logs at: <code>./wandb/run-20250308_211306-zsmqjevo/logs</code>"
            ],
            "text/plain": [
              "<IPython.core.display.HTML object>"
            ]
          },
          "metadata": {},
          "output_type": "display_data"
        },
        {
          "name": "stderr",
          "output_type": "stream",
          "text": [
            "\u001b[34m\u001b[1mwandb\u001b[0m: Agent Starting Run: yqq11b1w with config:\n",
            "\u001b[34m\u001b[1mwandb\u001b[0m: \ta: sigmoid\n",
            "\u001b[34m\u001b[1mwandb\u001b[0m: \tb: 16\n",
            "\u001b[34m\u001b[1mwandb\u001b[0m: \te: 5\n",
            "\u001b[34m\u001b[1mwandb\u001b[0m: \tlr: 0.001\n",
            "\u001b[34m\u001b[1mwandb\u001b[0m: \tnlh: 3\n",
            "\u001b[34m\u001b[1mwandb\u001b[0m: \to: sgd\n",
            "\u001b[34m\u001b[1mwandb\u001b[0m: \tsz: 128\n",
            "\u001b[34m\u001b[1mwandb\u001b[0m: \tw_d: 0.5\n",
            "\u001b[34m\u001b[1mwandb\u001b[0m: \tw_i: Xavier\n"
          ]
        },
        {
          "data": {
            "text/html": [
              "Ignoring project 'DA6401_ASS-practice' when running a sweep."
            ],
            "text/plain": [
              "<IPython.core.display.HTML object>"
            ]
          },
          "metadata": {},
          "output_type": "display_data"
        },
        {
          "data": {
            "text/html": [
              "Tracking run with wandb version 0.19.7"
            ],
            "text/plain": [
              "<IPython.core.display.HTML object>"
            ]
          },
          "metadata": {},
          "output_type": "display_data"
        },
        {
          "data": {
            "text/html": [
              "Run data is saved locally in <code>/content/wandb/run-20250308_211610-yqq11b1w</code>"
            ],
            "text/plain": [
              "<IPython.core.display.HTML object>"
            ]
          },
          "metadata": {},
          "output_type": "display_data"
        },
        {
          "data": {
            "text/html": [
              "Syncing run <strong><a href='https://wandb.ai/3628-pavitrakhare-indian-institute-of-technology-madras/DA6401_ASS-practice/runs/yqq11b1w' target=\"_blank\">devout-sweep-19</a></strong> to <a href='https://wandb.ai/3628-pavitrakhare-indian-institute-of-technology-madras/DA6401_ASS-practice' target=\"_blank\">Weights & Biases</a> (<a href='https://wandb.me/developer-guide' target=\"_blank\">docs</a>)<br>Sweep page: <a href='https://wandb.ai/3628-pavitrakhare-indian-institute-of-technology-madras/DA6401_ASS-practice/sweeps/nfibwu4x' target=\"_blank\">https://wandb.ai/3628-pavitrakhare-indian-institute-of-technology-madras/DA6401_ASS-practice/sweeps/nfibwu4x</a>"
            ],
            "text/plain": [
              "<IPython.core.display.HTML object>"
            ]
          },
          "metadata": {},
          "output_type": "display_data"
        },
        {
          "data": {
            "text/html": [
              " View project at <a href='https://wandb.ai/3628-pavitrakhare-indian-institute-of-technology-madras/DA6401_ASS-practice' target=\"_blank\">https://wandb.ai/3628-pavitrakhare-indian-institute-of-technology-madras/DA6401_ASS-practice</a>"
            ],
            "text/plain": [
              "<IPython.core.display.HTML object>"
            ]
          },
          "metadata": {},
          "output_type": "display_data"
        },
        {
          "data": {
            "text/html": [
              " View sweep at <a href='https://wandb.ai/3628-pavitrakhare-indian-institute-of-technology-madras/DA6401_ASS-practice/sweeps/nfibwu4x' target=\"_blank\">https://wandb.ai/3628-pavitrakhare-indian-institute-of-technology-madras/DA6401_ASS-practice/sweeps/nfibwu4x</a>"
            ],
            "text/plain": [
              "<IPython.core.display.HTML object>"
            ]
          },
          "metadata": {},
          "output_type": "display_data"
        },
        {
          "data": {
            "text/html": [
              " View run at <a href='https://wandb.ai/3628-pavitrakhare-indian-institute-of-technology-madras/DA6401_ASS-practice/runs/yqq11b1w' target=\"_blank\">https://wandb.ai/3628-pavitrakhare-indian-institute-of-technology-madras/DA6401_ASS-practice/runs/yqq11b1w</a>"
            ],
            "text/plain": [
              "<IPython.core.display.HTML object>"
            ]
          },
          "metadata": {},
          "output_type": "display_data"
        },
        {
          "name": "stdout",
          "output_type": "stream",
          "text": [
            "epoch :  1  validation loss :  2.2687872098261597\n",
            "epoch :  2  validation loss :  2.2019310982606575\n",
            "epoch :  3  validation loss :  2.094353548876864\n",
            "epoch :  4  validation loss :  1.938149170322739\n",
            "epoch :  5  validation loss :  1.778453541996502\n"
          ]
        },
        {
          "data": {
            "text/html": [],
            "text/plain": [
              "<IPython.core.display.HTML object>"
            ]
          },
          "metadata": {},
          "output_type": "display_data"
        },
        {
          "data": {
            "text/html": [
              "<br>    <style><br>        .wandb-row {<br>            display: flex;<br>            flex-direction: row;<br>            flex-wrap: wrap;<br>            justify-content: flex-start;<br>            width: 100%;<br>        }<br>        .wandb-col {<br>            display: flex;<br>            flex-direction: column;<br>            flex-basis: 100%;<br>            flex: 1;<br>            padding: 10px;<br>        }<br>    </style><br><div class=\"wandb-row\"><div class=\"wandb-col\"><h3>Run history:</h3><br/><table class=\"wandb\"><tr><td>accuracy</td><td>▁▆███</td></tr><tr><td>epoch</td><td>▁▃▅▆█</td></tr><tr><td>loss</td><td>█▇▆▄▁</td></tr><tr><td>val_accuracy</td><td>▁▆█▆▅</td></tr><tr><td>val_loss</td><td>█▇▆▃▁</td></tr></table><br/></div><div class=\"wandb-col\"><h3>Run summary:</h3><br/><table class=\"wandb\"><tr><td>accuracy</td><td>0.48746</td></tr><tr><td>epoch</td><td>4</td></tr><tr><td>loss</td><td>1.84035</td></tr><tr><td>val_accuracy</td><td>0.52751</td></tr><tr><td>val_loss</td><td>1.77845</td></tr></table><br/></div></div>"
            ],
            "text/plain": [
              "<IPython.core.display.HTML object>"
            ]
          },
          "metadata": {},
          "output_type": "display_data"
        },
        {
          "data": {
            "text/html": [
              " View run <strong style=\"color:#cdcd00\">hl_3_sz_128_bs_16_ac_sigmoid_w_i_Xavier_lr_0.001_wd_0.5</strong> at: <a href='https://wandb.ai/3628-pavitrakhare-indian-institute-of-technology-madras/DA6401_ASS-practice/runs/yqq11b1w' target=\"_blank\">https://wandb.ai/3628-pavitrakhare-indian-institute-of-technology-madras/DA6401_ASS-practice/runs/yqq11b1w</a><br> View project at: <a href='https://wandb.ai/3628-pavitrakhare-indian-institute-of-technology-madras/DA6401_ASS-practice' target=\"_blank\">https://wandb.ai/3628-pavitrakhare-indian-institute-of-technology-madras/DA6401_ASS-practice</a><br>Synced 5 W&B file(s), 0 media file(s), 0 artifact file(s) and 0 other file(s)"
            ],
            "text/plain": [
              "<IPython.core.display.HTML object>"
            ]
          },
          "metadata": {},
          "output_type": "display_data"
        },
        {
          "data": {
            "text/html": [
              "Find logs at: <code>./wandb/run-20250308_211610-yqq11b1w/logs</code>"
            ],
            "text/plain": [
              "<IPython.core.display.HTML object>"
            ]
          },
          "metadata": {},
          "output_type": "display_data"
        },
        {
          "name": "stderr",
          "output_type": "stream",
          "text": [
            "\u001b[34m\u001b[1mwandb\u001b[0m: Agent Starting Run: mf22itoy with config:\n",
            "\u001b[34m\u001b[1mwandb\u001b[0m: \ta: ReLU\n",
            "\u001b[34m\u001b[1mwandb\u001b[0m: \tb: 32\n",
            "\u001b[34m\u001b[1mwandb\u001b[0m: \te: 5\n",
            "\u001b[34m\u001b[1mwandb\u001b[0m: \tlr: 0.001\n",
            "\u001b[34m\u001b[1mwandb\u001b[0m: \tnlh: 4\n",
            "\u001b[34m\u001b[1mwandb\u001b[0m: \to: adam\n",
            "\u001b[34m\u001b[1mwandb\u001b[0m: \tsz: 64\n",
            "\u001b[34m\u001b[1mwandb\u001b[0m: \tw_d: 0.5\n",
            "\u001b[34m\u001b[1mwandb\u001b[0m: \tw_i: random\n"
          ]
        },
        {
          "data": {
            "text/html": [
              "Ignoring project 'DA6401_ASS-practice' when running a sweep."
            ],
            "text/plain": [
              "<IPython.core.display.HTML object>"
            ]
          },
          "metadata": {},
          "output_type": "display_data"
        },
        {
          "data": {
            "text/html": [
              "Tracking run with wandb version 0.19.7"
            ],
            "text/plain": [
              "<IPython.core.display.HTML object>"
            ]
          },
          "metadata": {},
          "output_type": "display_data"
        },
        {
          "data": {
            "text/html": [
              "Run data is saved locally in <code>/content/wandb/run-20250308_212054-mf22itoy</code>"
            ],
            "text/plain": [
              "<IPython.core.display.HTML object>"
            ]
          },
          "metadata": {},
          "output_type": "display_data"
        },
        {
          "data": {
            "text/html": [
              "Syncing run <strong><a href='https://wandb.ai/3628-pavitrakhare-indian-institute-of-technology-madras/DA6401_ASS-practice/runs/mf22itoy' target=\"_blank\">wise-sweep-20</a></strong> to <a href='https://wandb.ai/3628-pavitrakhare-indian-institute-of-technology-madras/DA6401_ASS-practice' target=\"_blank\">Weights & Biases</a> (<a href='https://wandb.me/developer-guide' target=\"_blank\">docs</a>)<br>Sweep page: <a href='https://wandb.ai/3628-pavitrakhare-indian-institute-of-technology-madras/DA6401_ASS-practice/sweeps/nfibwu4x' target=\"_blank\">https://wandb.ai/3628-pavitrakhare-indian-institute-of-technology-madras/DA6401_ASS-practice/sweeps/nfibwu4x</a>"
            ],
            "text/plain": [
              "<IPython.core.display.HTML object>"
            ]
          },
          "metadata": {},
          "output_type": "display_data"
        },
        {
          "data": {
            "text/html": [
              " View project at <a href='https://wandb.ai/3628-pavitrakhare-indian-institute-of-technology-madras/DA6401_ASS-practice' target=\"_blank\">https://wandb.ai/3628-pavitrakhare-indian-institute-of-technology-madras/DA6401_ASS-practice</a>"
            ],
            "text/plain": [
              "<IPython.core.display.HTML object>"
            ]
          },
          "metadata": {},
          "output_type": "display_data"
        },
        {
          "data": {
            "text/html": [
              " View sweep at <a href='https://wandb.ai/3628-pavitrakhare-indian-institute-of-technology-madras/DA6401_ASS-practice/sweeps/nfibwu4x' target=\"_blank\">https://wandb.ai/3628-pavitrakhare-indian-institute-of-technology-madras/DA6401_ASS-practice/sweeps/nfibwu4x</a>"
            ],
            "text/plain": [
              "<IPython.core.display.HTML object>"
            ]
          },
          "metadata": {},
          "output_type": "display_data"
        },
        {
          "data": {
            "text/html": [
              " View run at <a href='https://wandb.ai/3628-pavitrakhare-indian-institute-of-technology-madras/DA6401_ASS-practice/runs/mf22itoy' target=\"_blank\">https://wandb.ai/3628-pavitrakhare-indian-institute-of-technology-madras/DA6401_ASS-practice/runs/mf22itoy</a>"
            ],
            "text/plain": [
              "<IPython.core.display.HTML object>"
            ]
          },
          "metadata": {},
          "output_type": "display_data"
        },
        {
          "name": "stdout",
          "output_type": "stream",
          "text": [
            "epoch :  1  validation loss :  3.7153900813317287\n",
            "epoch :  2  validation loss :  2.0557989511341024\n",
            "epoch :  3  validation loss :  1.6149348157841346\n",
            "epoch :  4  validation loss :  1.4103897337061766\n",
            "epoch :  5  validation loss :  1.3178511691920654\n"
          ]
        },
        {
          "data": {
            "text/html": [],
            "text/plain": [
              "<IPython.core.display.HTML object>"
            ]
          },
          "metadata": {},
          "output_type": "display_data"
        },
        {
          "data": {
            "text/html": [
              "<br>    <style><br>        .wandb-row {<br>            display: flex;<br>            flex-direction: row;<br>            flex-wrap: wrap;<br>            justify-content: flex-start;<br>            width: 100%;<br>        }<br>        .wandb-col {<br>            display: flex;<br>            flex-direction: column;<br>            flex-basis: 100%;<br>            flex: 1;<br>            padding: 10px;<br>        }<br>    </style><br><div class=\"wandb-row\"><div class=\"wandb-col\"><h3>Run history:</h3><br/><table class=\"wandb\"><tr><td>accuracy</td><td>▁▄▅▇█</td></tr><tr><td>epoch</td><td>▁▃▅▆█</td></tr><tr><td>loss</td><td>█▃▂▁▁</td></tr><tr><td>val_accuracy</td><td>▁▄▅▇█</td></tr><tr><td>val_loss</td><td>█▃▂▁▁</td></tr></table><br/></div><div class=\"wandb-col\"><h3>Run summary:</h3><br/><table class=\"wandb\"><tr><td>accuracy</td><td>0.76841</td></tr><tr><td>epoch</td><td>4</td></tr><tr><td>loss</td><td>0.76249</td></tr><tr><td>val_accuracy</td><td>0.77751</td></tr><tr><td>val_loss</td><td>1.31785</td></tr></table><br/></div></div>"
            ],
            "text/plain": [
              "<IPython.core.display.HTML object>"
            ]
          },
          "metadata": {},
          "output_type": "display_data"
        },
        {
          "data": {
            "text/html": [
              " View run <strong style=\"color:#cdcd00\">hl_4_sz_64_bs_32_ac_ReLU_w_i_random_lr_0.001_wd_0.5</strong> at: <a href='https://wandb.ai/3628-pavitrakhare-indian-institute-of-technology-madras/DA6401_ASS-practice/runs/mf22itoy' target=\"_blank\">https://wandb.ai/3628-pavitrakhare-indian-institute-of-technology-madras/DA6401_ASS-practice/runs/mf22itoy</a><br> View project at: <a href='https://wandb.ai/3628-pavitrakhare-indian-institute-of-technology-madras/DA6401_ASS-practice' target=\"_blank\">https://wandb.ai/3628-pavitrakhare-indian-institute-of-technology-madras/DA6401_ASS-practice</a><br>Synced 5 W&B file(s), 0 media file(s), 0 artifact file(s) and 0 other file(s)"
            ],
            "text/plain": [
              "<IPython.core.display.HTML object>"
            ]
          },
          "metadata": {},
          "output_type": "display_data"
        },
        {
          "data": {
            "text/html": [
              "Find logs at: <code>./wandb/run-20250308_212054-mf22itoy/logs</code>"
            ],
            "text/plain": [
              "<IPython.core.display.HTML object>"
            ]
          },
          "metadata": {},
          "output_type": "display_data"
        },
        {
          "name": "stderr",
          "output_type": "stream",
          "text": [
            "\u001b[34m\u001b[1mwandb\u001b[0m: Agent Starting Run: s1ybj6n4 with config:\n",
            "\u001b[34m\u001b[1mwandb\u001b[0m: \ta: sigmoid\n",
            "\u001b[34m\u001b[1mwandb\u001b[0m: \tb: 64\n",
            "\u001b[34m\u001b[1mwandb\u001b[0m: \te: 10\n",
            "\u001b[34m\u001b[1mwandb\u001b[0m: \tlr: 0.0001\n",
            "\u001b[34m\u001b[1mwandb\u001b[0m: \tnlh: 5\n",
            "\u001b[34m\u001b[1mwandb\u001b[0m: \to: nadam\n",
            "\u001b[34m\u001b[1mwandb\u001b[0m: \tsz: 64\n",
            "\u001b[34m\u001b[1mwandb\u001b[0m: \tw_d: 0\n",
            "\u001b[34m\u001b[1mwandb\u001b[0m: \tw_i: random\n"
          ]
        },
        {
          "data": {
            "text/html": [
              "Ignoring project 'DA6401_ASS-practice' when running a sweep."
            ],
            "text/plain": [
              "<IPython.core.display.HTML object>"
            ]
          },
          "metadata": {},
          "output_type": "display_data"
        },
        {
          "data": {
            "text/html": [
              "Tracking run with wandb version 0.19.7"
            ],
            "text/plain": [
              "<IPython.core.display.HTML object>"
            ]
          },
          "metadata": {},
          "output_type": "display_data"
        },
        {
          "data": {
            "text/html": [
              "Run data is saved locally in <code>/content/wandb/run-20250308_212407-s1ybj6n4</code>"
            ],
            "text/plain": [
              "<IPython.core.display.HTML object>"
            ]
          },
          "metadata": {},
          "output_type": "display_data"
        },
        {
          "data": {
            "text/html": [
              "Syncing run <strong><a href='https://wandb.ai/3628-pavitrakhare-indian-institute-of-technology-madras/DA6401_ASS-practice/runs/s1ybj6n4' target=\"_blank\">logical-sweep-21</a></strong> to <a href='https://wandb.ai/3628-pavitrakhare-indian-institute-of-technology-madras/DA6401_ASS-practice' target=\"_blank\">Weights & Biases</a> (<a href='https://wandb.me/developer-guide' target=\"_blank\">docs</a>)<br>Sweep page: <a href='https://wandb.ai/3628-pavitrakhare-indian-institute-of-technology-madras/DA6401_ASS-practice/sweeps/nfibwu4x' target=\"_blank\">https://wandb.ai/3628-pavitrakhare-indian-institute-of-technology-madras/DA6401_ASS-practice/sweeps/nfibwu4x</a>"
            ],
            "text/plain": [
              "<IPython.core.display.HTML object>"
            ]
          },
          "metadata": {},
          "output_type": "display_data"
        },
        {
          "data": {
            "text/html": [
              " View project at <a href='https://wandb.ai/3628-pavitrakhare-indian-institute-of-technology-madras/DA6401_ASS-practice' target=\"_blank\">https://wandb.ai/3628-pavitrakhare-indian-institute-of-technology-madras/DA6401_ASS-practice</a>"
            ],
            "text/plain": [
              "<IPython.core.display.HTML object>"
            ]
          },
          "metadata": {},
          "output_type": "display_data"
        },
        {
          "data": {
            "text/html": [
              " View sweep at <a href='https://wandb.ai/3628-pavitrakhare-indian-institute-of-technology-madras/DA6401_ASS-practice/sweeps/nfibwu4x' target=\"_blank\">https://wandb.ai/3628-pavitrakhare-indian-institute-of-technology-madras/DA6401_ASS-practice/sweeps/nfibwu4x</a>"
            ],
            "text/plain": [
              "<IPython.core.display.HTML object>"
            ]
          },
          "metadata": {},
          "output_type": "display_data"
        },
        {
          "data": {
            "text/html": [
              " View run at <a href='https://wandb.ai/3628-pavitrakhare-indian-institute-of-technology-madras/DA6401_ASS-practice/runs/s1ybj6n4' target=\"_blank\">https://wandb.ai/3628-pavitrakhare-indian-institute-of-technology-madras/DA6401_ASS-practice/runs/s1ybj6n4</a>"
            ],
            "text/plain": [
              "<IPython.core.display.HTML object>"
            ]
          },
          "metadata": {},
          "output_type": "display_data"
        },
        {
          "name": "stdout",
          "output_type": "stream",
          "text": [
            "epoch :  1  validation loss :  2.009833549724581\n",
            "epoch :  2  validation loss :  1.7019090529115277\n",
            "epoch :  3  validation loss :  1.4487411485629231\n",
            "epoch :  4  validation loss :  1.26215604480596\n",
            "epoch :  5  validation loss :  1.1298273228015945\n",
            "epoch :  6  validation loss :  1.0326148124457852\n",
            "epoch :  7  validation loss :  0.9605907663798411\n",
            "epoch :  8  validation loss :  0.9055090603366337\n",
            "epoch :  9  validation loss :  0.8613042922603207\n",
            "epoch :  10  validation loss :  0.823992866717841\n"
          ]
        },
        {
          "data": {
            "text/html": [],
            "text/plain": [
              "<IPython.core.display.HTML object>"
            ]
          },
          "metadata": {},
          "output_type": "display_data"
        },
        {
          "data": {
            "text/html": [
              "<br>    <style><br>        .wandb-row {<br>            display: flex;<br>            flex-direction: row;<br>            flex-wrap: wrap;<br>            justify-content: flex-start;<br>            width: 100%;<br>        }<br>        .wandb-col {<br>            display: flex;<br>            flex-direction: column;<br>            flex-basis: 100%;<br>            flex: 1;<br>            padding: 10px;<br>        }<br>    </style><br><div class=\"wandb-row\"><div class=\"wandb-col\"><h3>Run history:</h3><br/><table class=\"wandb\"><tr><td>accuracy</td><td>▁▅▆▇▇▇▇███</td></tr><tr><td>epoch</td><td>▁▂▃▃▄▅▆▆▇█</td></tr><tr><td>loss</td><td>█▅▄▃▂▂▂▁▁▁</td></tr><tr><td>val_accuracy</td><td>▁▄▆▆▆▇▇▇██</td></tr><tr><td>val_loss</td><td>█▆▅▄▃▂▂▁▁▁</td></tr></table><br/></div><div class=\"wandb-col\"><h3>Run summary:</h3><br/><table class=\"wandb\"><tr><td>accuracy</td><td>0.72593</td></tr><tr><td>epoch</td><td>9</td></tr><tr><td>loss</td><td>0.84354</td></tr><tr><td>val_accuracy</td><td>0.73234</td></tr><tr><td>val_loss</td><td>0.82399</td></tr></table><br/></div></div>"
            ],
            "text/plain": [
              "<IPython.core.display.HTML object>"
            ]
          },
          "metadata": {},
          "output_type": "display_data"
        },
        {
          "data": {
            "text/html": [
              " View run <strong style=\"color:#cdcd00\">hl_5_sz_64_bs_64_ac_sigmoid_w_i_random_lr_0.0001_wd_0</strong> at: <a href='https://wandb.ai/3628-pavitrakhare-indian-institute-of-technology-madras/DA6401_ASS-practice/runs/s1ybj6n4' target=\"_blank\">https://wandb.ai/3628-pavitrakhare-indian-institute-of-technology-madras/DA6401_ASS-practice/runs/s1ybj6n4</a><br> View project at: <a href='https://wandb.ai/3628-pavitrakhare-indian-institute-of-technology-madras/DA6401_ASS-practice' target=\"_blank\">https://wandb.ai/3628-pavitrakhare-indian-institute-of-technology-madras/DA6401_ASS-practice</a><br>Synced 5 W&B file(s), 0 media file(s), 0 artifact file(s) and 0 other file(s)"
            ],
            "text/plain": [
              "<IPython.core.display.HTML object>"
            ]
          },
          "metadata": {},
          "output_type": "display_data"
        },
        {
          "data": {
            "text/html": [
              "Find logs at: <code>./wandb/run-20250308_212407-s1ybj6n4/logs</code>"
            ],
            "text/plain": [
              "<IPython.core.display.HTML object>"
            ]
          },
          "metadata": {},
          "output_type": "display_data"
        },
        {
          "name": "stderr",
          "output_type": "stream",
          "text": [
            "\u001b[34m\u001b[1mwandb\u001b[0m: Agent Starting Run: 7np0y9zv with config:\n",
            "\u001b[34m\u001b[1mwandb\u001b[0m: \ta: tanh\n",
            "\u001b[34m\u001b[1mwandb\u001b[0m: \tb: 16\n",
            "\u001b[34m\u001b[1mwandb\u001b[0m: \te: 10\n",
            "\u001b[34m\u001b[1mwandb\u001b[0m: \tlr: 0.001\n",
            "\u001b[34m\u001b[1mwandb\u001b[0m: \tnlh: 5\n",
            "\u001b[34m\u001b[1mwandb\u001b[0m: \to: adam\n",
            "\u001b[34m\u001b[1mwandb\u001b[0m: \tsz: 128\n",
            "\u001b[34m\u001b[1mwandb\u001b[0m: \tw_d: 0.0005\n",
            "\u001b[34m\u001b[1mwandb\u001b[0m: \tw_i: Xavier\n"
          ]
        },
        {
          "data": {
            "text/html": [
              "Ignoring project 'DA6401_ASS-practice' when running a sweep."
            ],
            "text/plain": [
              "<IPython.core.display.HTML object>"
            ]
          },
          "metadata": {},
          "output_type": "display_data"
        },
        {
          "data": {
            "text/html": [
              "Tracking run with wandb version 0.19.7"
            ],
            "text/plain": [
              "<IPython.core.display.HTML object>"
            ]
          },
          "metadata": {},
          "output_type": "display_data"
        },
        {
          "data": {
            "text/html": [
              "Run data is saved locally in <code>/content/wandb/run-20250308_213105-7np0y9zv</code>"
            ],
            "text/plain": [
              "<IPython.core.display.HTML object>"
            ]
          },
          "metadata": {},
          "output_type": "display_data"
        },
        {
          "data": {
            "text/html": [
              "Syncing run <strong><a href='https://wandb.ai/3628-pavitrakhare-indian-institute-of-technology-madras/DA6401_ASS-practice/runs/7np0y9zv' target=\"_blank\">driven-sweep-22</a></strong> to <a href='https://wandb.ai/3628-pavitrakhare-indian-institute-of-technology-madras/DA6401_ASS-practice' target=\"_blank\">Weights & Biases</a> (<a href='https://wandb.me/developer-guide' target=\"_blank\">docs</a>)<br>Sweep page: <a href='https://wandb.ai/3628-pavitrakhare-indian-institute-of-technology-madras/DA6401_ASS-practice/sweeps/nfibwu4x' target=\"_blank\">https://wandb.ai/3628-pavitrakhare-indian-institute-of-technology-madras/DA6401_ASS-practice/sweeps/nfibwu4x</a>"
            ],
            "text/plain": [
              "<IPython.core.display.HTML object>"
            ]
          },
          "metadata": {},
          "output_type": "display_data"
        },
        {
          "data": {
            "text/html": [
              " View project at <a href='https://wandb.ai/3628-pavitrakhare-indian-institute-of-technology-madras/DA6401_ASS-practice' target=\"_blank\">https://wandb.ai/3628-pavitrakhare-indian-institute-of-technology-madras/DA6401_ASS-practice</a>"
            ],
            "text/plain": [
              "<IPython.core.display.HTML object>"
            ]
          },
          "metadata": {},
          "output_type": "display_data"
        },
        {
          "data": {
            "text/html": [
              " View sweep at <a href='https://wandb.ai/3628-pavitrakhare-indian-institute-of-technology-madras/DA6401_ASS-practice/sweeps/nfibwu4x' target=\"_blank\">https://wandb.ai/3628-pavitrakhare-indian-institute-of-technology-madras/DA6401_ASS-practice/sweeps/nfibwu4x</a>"
            ],
            "text/plain": [
              "<IPython.core.display.HTML object>"
            ]
          },
          "metadata": {},
          "output_type": "display_data"
        },
        {
          "data": {
            "text/html": [
              " View run at <a href='https://wandb.ai/3628-pavitrakhare-indian-institute-of-technology-madras/DA6401_ASS-practice/runs/7np0y9zv' target=\"_blank\">https://wandb.ai/3628-pavitrakhare-indian-institute-of-technology-madras/DA6401_ASS-practice/runs/7np0y9zv</a>"
            ],
            "text/plain": [
              "<IPython.core.display.HTML object>"
            ]
          },
          "metadata": {},
          "output_type": "display_data"
        },
        {
          "name": "stdout",
          "output_type": "stream",
          "text": [
            "epoch :  1  validation loss :  0.41051073390442117\n",
            "epoch :  2  validation loss :  0.40065166794009943\n",
            "epoch :  3  validation loss :  0.38530278119104616\n",
            "epoch :  4  validation loss :  0.3977871437373145\n",
            "epoch :  5  validation loss :  0.3669686117983083\n",
            "epoch :  6  validation loss :  0.3541340359585414\n",
            "epoch :  7  validation loss :  0.3549422416425248\n",
            "epoch :  8  validation loss :  0.3619320168138736\n",
            "epoch :  9  validation loss :  0.3478046835836367\n",
            "epoch :  10  validation loss :  0.35222536770387197\n"
          ]
        },
        {
          "data": {
            "text/html": [],
            "text/plain": [
              "<IPython.core.display.HTML object>"
            ]
          },
          "metadata": {},
          "output_type": "display_data"
        },
        {
          "data": {
            "text/html": [
              "<br>    <style><br>        .wandb-row {<br>            display: flex;<br>            flex-direction: row;<br>            flex-wrap: wrap;<br>            justify-content: flex-start;<br>            width: 100%;<br>        }<br>        .wandb-col {<br>            display: flex;<br>            flex-direction: column;<br>            flex-basis: 100%;<br>            flex: 1;<br>            padding: 10px;<br>        }<br>    </style><br><div class=\"wandb-row\"><div class=\"wandb-col\"><h3>Run history:</h3><br/><table class=\"wandb\"><tr><td>accuracy</td><td>▁▄▅▆▇▇▇███</td></tr><tr><td>epoch</td><td>▁▂▃▃▄▅▆▆▇█</td></tr><tr><td>loss</td><td>█▅▄▃▃▂▂▁▁▁</td></tr><tr><td>val_accuracy</td><td>▁▂▃▂▅▆▆▆██</td></tr><tr><td>val_loss</td><td>█▇▅▇▃▂▂▃▁▁</td></tr></table><br/></div><div class=\"wandb-col\"><h3>Run summary:</h3><br/><table class=\"wandb\"><tr><td>accuracy</td><td>0.90868</td></tr><tr><td>epoch</td><td>9</td></tr><tr><td>loss</td><td>0.2418</td></tr><tr><td>val_accuracy</td><td>0.8784</td></tr><tr><td>val_loss</td><td>0.35223</td></tr></table><br/></div></div>"
            ],
            "text/plain": [
              "<IPython.core.display.HTML object>"
            ]
          },
          "metadata": {},
          "output_type": "display_data"
        },
        {
          "data": {
            "text/html": [
              " View run <strong style=\"color:#cdcd00\">hl_5_sz_128_bs_16_ac_tanh_w_i_Xavier_lr_0.001_wd_0.0005</strong> at: <a href='https://wandb.ai/3628-pavitrakhare-indian-institute-of-technology-madras/DA6401_ASS-practice/runs/7np0y9zv' target=\"_blank\">https://wandb.ai/3628-pavitrakhare-indian-institute-of-technology-madras/DA6401_ASS-practice/runs/7np0y9zv</a><br> View project at: <a href='https://wandb.ai/3628-pavitrakhare-indian-institute-of-technology-madras/DA6401_ASS-practice' target=\"_blank\">https://wandb.ai/3628-pavitrakhare-indian-institute-of-technology-madras/DA6401_ASS-practice</a><br>Synced 5 W&B file(s), 0 media file(s), 0 artifact file(s) and 0 other file(s)"
            ],
            "text/plain": [
              "<IPython.core.display.HTML object>"
            ]
          },
          "metadata": {},
          "output_type": "display_data"
        },
        {
          "data": {
            "text/html": [
              "Find logs at: <code>./wandb/run-20250308_213105-7np0y9zv/logs</code>"
            ],
            "text/plain": [
              "<IPython.core.display.HTML object>"
            ]
          },
          "metadata": {},
          "output_type": "display_data"
        },
        {
          "name": "stderr",
          "output_type": "stream",
          "text": [
            "\u001b[34m\u001b[1mwandb\u001b[0m: Agent Starting Run: j4sb3wny with config:\n",
            "\u001b[34m\u001b[1mwandb\u001b[0m: \ta: ReLU\n",
            "\u001b[34m\u001b[1mwandb\u001b[0m: \tb: 32\n",
            "\u001b[34m\u001b[1mwandb\u001b[0m: \te: 10\n",
            "\u001b[34m\u001b[1mwandb\u001b[0m: \tlr: 0.001\n",
            "\u001b[34m\u001b[1mwandb\u001b[0m: \tnlh: 5\n",
            "\u001b[34m\u001b[1mwandb\u001b[0m: \to: nadam\n",
            "\u001b[34m\u001b[1mwandb\u001b[0m: \tsz: 32\n",
            "\u001b[34m\u001b[1mwandb\u001b[0m: \tw_d: 0\n",
            "\u001b[34m\u001b[1mwandb\u001b[0m: \tw_i: Xavier\n"
          ]
        },
        {
          "data": {
            "text/html": [
              "Ignoring project 'DA6401_ASS-practice' when running a sweep."
            ],
            "text/plain": [
              "<IPython.core.display.HTML object>"
            ]
          },
          "metadata": {},
          "output_type": "display_data"
        },
        {
          "data": {
            "text/html": [
              "Tracking run with wandb version 0.19.7"
            ],
            "text/plain": [
              "<IPython.core.display.HTML object>"
            ]
          },
          "metadata": {},
          "output_type": "display_data"
        },
        {
          "data": {
            "text/html": [
              "Run data is saved locally in <code>/content/wandb/run-20250308_214754-j4sb3wny</code>"
            ],
            "text/plain": [
              "<IPython.core.display.HTML object>"
            ]
          },
          "metadata": {},
          "output_type": "display_data"
        },
        {
          "data": {
            "text/html": [
              "Syncing run <strong><a href='https://wandb.ai/3628-pavitrakhare-indian-institute-of-technology-madras/DA6401_ASS-practice/runs/j4sb3wny' target=\"_blank\">easy-sweep-23</a></strong> to <a href='https://wandb.ai/3628-pavitrakhare-indian-institute-of-technology-madras/DA6401_ASS-practice' target=\"_blank\">Weights & Biases</a> (<a href='https://wandb.me/developer-guide' target=\"_blank\">docs</a>)<br>Sweep page: <a href='https://wandb.ai/3628-pavitrakhare-indian-institute-of-technology-madras/DA6401_ASS-practice/sweeps/nfibwu4x' target=\"_blank\">https://wandb.ai/3628-pavitrakhare-indian-institute-of-technology-madras/DA6401_ASS-practice/sweeps/nfibwu4x</a>"
            ],
            "text/plain": [
              "<IPython.core.display.HTML object>"
            ]
          },
          "metadata": {},
          "output_type": "display_data"
        },
        {
          "data": {
            "text/html": [
              " View project at <a href='https://wandb.ai/3628-pavitrakhare-indian-institute-of-technology-madras/DA6401_ASS-practice' target=\"_blank\">https://wandb.ai/3628-pavitrakhare-indian-institute-of-technology-madras/DA6401_ASS-practice</a>"
            ],
            "text/plain": [
              "<IPython.core.display.HTML object>"
            ]
          },
          "metadata": {},
          "output_type": "display_data"
        },
        {
          "data": {
            "text/html": [
              " View sweep at <a href='https://wandb.ai/3628-pavitrakhare-indian-institute-of-technology-madras/DA6401_ASS-practice/sweeps/nfibwu4x' target=\"_blank\">https://wandb.ai/3628-pavitrakhare-indian-institute-of-technology-madras/DA6401_ASS-practice/sweeps/nfibwu4x</a>"
            ],
            "text/plain": [
              "<IPython.core.display.HTML object>"
            ]
          },
          "metadata": {},
          "output_type": "display_data"
        },
        {
          "data": {
            "text/html": [
              " View run at <a href='https://wandb.ai/3628-pavitrakhare-indian-institute-of-technology-madras/DA6401_ASS-practice/runs/j4sb3wny' target=\"_blank\">https://wandb.ai/3628-pavitrakhare-indian-institute-of-technology-madras/DA6401_ASS-practice/runs/j4sb3wny</a>"
            ],
            "text/plain": [
              "<IPython.core.display.HTML object>"
            ]
          },
          "metadata": {},
          "output_type": "display_data"
        },
        {
          "name": "stdout",
          "output_type": "stream",
          "text": [
            "epoch :  1  validation loss :  0.4532164615589797\n",
            "epoch :  2  validation loss :  0.4278749312457551\n",
            "epoch :  3  validation loss :  0.42056563259727114\n",
            "epoch :  4  validation loss :  0.4027443935886755\n",
            "epoch :  5  validation loss :  0.37716606258722324\n",
            "epoch :  6  validation loss :  0.37143987928352773\n",
            "epoch :  7  validation loss :  0.3631061328805054\n",
            "epoch :  8  validation loss :  0.37487125258701587\n",
            "epoch :  9  validation loss :  0.3725047433541456\n",
            "epoch :  10  validation loss :  0.3793857839251275\n"
          ]
        },
        {
          "data": {
            "text/html": [],
            "text/plain": [
              "<IPython.core.display.HTML object>"
            ]
          },
          "metadata": {},
          "output_type": "display_data"
        },
        {
          "data": {
            "text/html": [
              "<br>    <style><br>        .wandb-row {<br>            display: flex;<br>            flex-direction: row;<br>            flex-wrap: wrap;<br>            justify-content: flex-start;<br>            width: 100%;<br>        }<br>        .wandb-col {<br>            display: flex;<br>            flex-direction: column;<br>            flex-basis: 100%;<br>            flex: 1;<br>            padding: 10px;<br>        }<br>    </style><br><div class=\"wandb-row\"><div class=\"wandb-col\"><h3>Run history:</h3><br/><table class=\"wandb\"><tr><td>accuracy</td><td>▁▅▆▇▇▇▇███</td></tr><tr><td>epoch</td><td>▁▂▃▃▄▅▆▆▇█</td></tr><tr><td>loss</td><td>█▄▃▂▂▂▂▁▁▁</td></tr><tr><td>val_accuracy</td><td>▁▃▂▄▆▆█▇█▇</td></tr><tr><td>val_loss</td><td>█▆▅▄▂▂▁▂▂▂</td></tr></table><br/></div><div class=\"wandb-col\"><h3>Run summary:</h3><br/><table class=\"wandb\"><tr><td>accuracy</td><td>0.89055</td></tr><tr><td>epoch</td><td>9</td></tr><tr><td>loss</td><td>0.29729</td></tr><tr><td>val_accuracy</td><td>0.86549</td></tr><tr><td>val_loss</td><td>0.37939</td></tr></table><br/></div></div>"
            ],
            "text/plain": [
              "<IPython.core.display.HTML object>"
            ]
          },
          "metadata": {},
          "output_type": "display_data"
        },
        {
          "data": {
            "text/html": [
              " View run <strong style=\"color:#cdcd00\">hl_5_sz_32_bs_32_ac_ReLU_w_i_Xavier_lr_0.001_wd_0</strong> at: <a href='https://wandb.ai/3628-pavitrakhare-indian-institute-of-technology-madras/DA6401_ASS-practice/runs/j4sb3wny' target=\"_blank\">https://wandb.ai/3628-pavitrakhare-indian-institute-of-technology-madras/DA6401_ASS-practice/runs/j4sb3wny</a><br> View project at: <a href='https://wandb.ai/3628-pavitrakhare-indian-institute-of-technology-madras/DA6401_ASS-practice' target=\"_blank\">https://wandb.ai/3628-pavitrakhare-indian-institute-of-technology-madras/DA6401_ASS-practice</a><br>Synced 5 W&B file(s), 0 media file(s), 0 artifact file(s) and 0 other file(s)"
            ],
            "text/plain": [
              "<IPython.core.display.HTML object>"
            ]
          },
          "metadata": {},
          "output_type": "display_data"
        },
        {
          "data": {
            "text/html": [
              "Find logs at: <code>./wandb/run-20250308_214754-j4sb3wny/logs</code>"
            ],
            "text/plain": [
              "<IPython.core.display.HTML object>"
            ]
          },
          "metadata": {},
          "output_type": "display_data"
        },
        {
          "name": "stderr",
          "output_type": "stream",
          "text": [
            "\u001b[34m\u001b[1mwandb\u001b[0m: Agent Starting Run: uzde1ds3 with config:\n",
            "\u001b[34m\u001b[1mwandb\u001b[0m: \ta: tanh\n",
            "\u001b[34m\u001b[1mwandb\u001b[0m: \tb: 32\n",
            "\u001b[34m\u001b[1mwandb\u001b[0m: \te: 10\n",
            "\u001b[34m\u001b[1mwandb\u001b[0m: \tlr: 0.0001\n",
            "\u001b[34m\u001b[1mwandb\u001b[0m: \tnlh: 5\n",
            "\u001b[34m\u001b[1mwandb\u001b[0m: \to: nag\n",
            "\u001b[34m\u001b[1mwandb\u001b[0m: \tsz: 128\n",
            "\u001b[34m\u001b[1mwandb\u001b[0m: \tw_d: 0\n",
            "\u001b[34m\u001b[1mwandb\u001b[0m: \tw_i: Xavier\n"
          ]
        },
        {
          "data": {
            "text/html": [
              "Ignoring project 'DA6401_ASS-practice' when running a sweep."
            ],
            "text/plain": [
              "<IPython.core.display.HTML object>"
            ]
          },
          "metadata": {},
          "output_type": "display_data"
        },
        {
          "data": {
            "text/html": [
              "Tracking run with wandb version 0.19.7"
            ],
            "text/plain": [
              "<IPython.core.display.HTML object>"
            ]
          },
          "metadata": {},
          "output_type": "display_data"
        },
        {
          "data": {
            "text/html": [
              "Run data is saved locally in <code>/content/wandb/run-20250308_215228-uzde1ds3</code>"
            ],
            "text/plain": [
              "<IPython.core.display.HTML object>"
            ]
          },
          "metadata": {},
          "output_type": "display_data"
        },
        {
          "data": {
            "text/html": [
              "Syncing run <strong><a href='https://wandb.ai/3628-pavitrakhare-indian-institute-of-technology-madras/DA6401_ASS-practice/runs/uzde1ds3' target=\"_blank\">solar-sweep-24</a></strong> to <a href='https://wandb.ai/3628-pavitrakhare-indian-institute-of-technology-madras/DA6401_ASS-practice' target=\"_blank\">Weights & Biases</a> (<a href='https://wandb.me/developer-guide' target=\"_blank\">docs</a>)<br>Sweep page: <a href='https://wandb.ai/3628-pavitrakhare-indian-institute-of-technology-madras/DA6401_ASS-practice/sweeps/nfibwu4x' target=\"_blank\">https://wandb.ai/3628-pavitrakhare-indian-institute-of-technology-madras/DA6401_ASS-practice/sweeps/nfibwu4x</a>"
            ],
            "text/plain": [
              "<IPython.core.display.HTML object>"
            ]
          },
          "metadata": {},
          "output_type": "display_data"
        },
        {
          "data": {
            "text/html": [
              " View project at <a href='https://wandb.ai/3628-pavitrakhare-indian-institute-of-technology-madras/DA6401_ASS-practice' target=\"_blank\">https://wandb.ai/3628-pavitrakhare-indian-institute-of-technology-madras/DA6401_ASS-practice</a>"
            ],
            "text/plain": [
              "<IPython.core.display.HTML object>"
            ]
          },
          "metadata": {},
          "output_type": "display_data"
        },
        {
          "data": {
            "text/html": [
              " View sweep at <a href='https://wandb.ai/3628-pavitrakhare-indian-institute-of-technology-madras/DA6401_ASS-practice/sweeps/nfibwu4x' target=\"_blank\">https://wandb.ai/3628-pavitrakhare-indian-institute-of-technology-madras/DA6401_ASS-practice/sweeps/nfibwu4x</a>"
            ],
            "text/plain": [
              "<IPython.core.display.HTML object>"
            ]
          },
          "metadata": {},
          "output_type": "display_data"
        },
        {
          "data": {
            "text/html": [
              " View run at <a href='https://wandb.ai/3628-pavitrakhare-indian-institute-of-technology-madras/DA6401_ASS-practice/runs/uzde1ds3' target=\"_blank\">https://wandb.ai/3628-pavitrakhare-indian-institute-of-technology-madras/DA6401_ASS-practice/runs/uzde1ds3</a>"
            ],
            "text/plain": [
              "<IPython.core.display.HTML object>"
            ]
          },
          "metadata": {},
          "output_type": "display_data"
        },
        {
          "name": "stdout",
          "output_type": "stream",
          "text": [
            "epoch :  1  validation loss :  0.5911604870650126\n",
            "epoch :  2  validation loss :  0.4942973417374572\n",
            "epoch :  3  validation loss :  0.4545489856799053\n",
            "epoch :  4  validation loss :  0.4319324368439528\n",
            "epoch :  5  validation loss :  0.41671757138661275\n",
            "epoch :  6  validation loss :  0.40540068630568643\n",
            "epoch :  7  validation loss :  0.39642457990819346\n",
            "epoch :  8  validation loss :  0.3889356584258693\n",
            "epoch :  9  validation loss :  0.38242716809832855\n",
            "epoch :  10  validation loss :  0.3766146456092009\n"
          ]
        },
        {
          "data": {
            "text/html": [],
            "text/plain": [
              "<IPython.core.display.HTML object>"
            ]
          },
          "metadata": {},
          "output_type": "display_data"
        },
        {
          "data": {
            "text/html": [
              "<br>    <style><br>        .wandb-row {<br>            display: flex;<br>            flex-direction: row;<br>            flex-wrap: wrap;<br>            justify-content: flex-start;<br>            width: 100%;<br>        }<br>        .wandb-col {<br>            display: flex;<br>            flex-direction: column;<br>            flex-basis: 100%;<br>            flex: 1;<br>            padding: 10px;<br>        }<br>    </style><br><div class=\"wandb-row\"><div class=\"wandb-col\"><h3>Run history:</h3><br/><table class=\"wandb\"><tr><td>accuracy</td><td>▁▅▆▆▇▇▇███</td></tr><tr><td>epoch</td><td>▁▂▃▃▄▅▆▆▇█</td></tr><tr><td>loss</td><td>█▄▃▂▂▂▁▁▁▁</td></tr><tr><td>val_accuracy</td><td>▁▃▅▅▆▇▇▇██</td></tr><tr><td>val_loss</td><td>█▅▄▃▂▂▂▁▁▁</td></tr></table><br/></div><div class=\"wandb-col\"><h3>Run summary:</h3><br/><table class=\"wandb\"><tr><td>accuracy</td><td>0.88157</td></tr><tr><td>epoch</td><td>9</td></tr><tr><td>loss</td><td>0.33673</td></tr><tr><td>val_accuracy</td><td>0.8626</td></tr><tr><td>val_loss</td><td>0.37661</td></tr></table><br/></div></div>"
            ],
            "text/plain": [
              "<IPython.core.display.HTML object>"
            ]
          },
          "metadata": {},
          "output_type": "display_data"
        },
        {
          "data": {
            "text/html": [
              " View run <strong style=\"color:#cdcd00\">hl_5_sz_128_bs_32_ac_tanh_w_i_Xavier_lr_0.0001_wd_0</strong> at: <a href='https://wandb.ai/3628-pavitrakhare-indian-institute-of-technology-madras/DA6401_ASS-practice/runs/uzde1ds3' target=\"_blank\">https://wandb.ai/3628-pavitrakhare-indian-institute-of-technology-madras/DA6401_ASS-practice/runs/uzde1ds3</a><br> View project at: <a href='https://wandb.ai/3628-pavitrakhare-indian-institute-of-technology-madras/DA6401_ASS-practice' target=\"_blank\">https://wandb.ai/3628-pavitrakhare-indian-institute-of-technology-madras/DA6401_ASS-practice</a><br>Synced 5 W&B file(s), 0 media file(s), 0 artifact file(s) and 0 other file(s)"
            ],
            "text/plain": [
              "<IPython.core.display.HTML object>"
            ]
          },
          "metadata": {},
          "output_type": "display_data"
        },
        {
          "data": {
            "text/html": [
              "Find logs at: <code>./wandb/run-20250308_215228-uzde1ds3/logs</code>"
            ],
            "text/plain": [
              "<IPython.core.display.HTML object>"
            ]
          },
          "metadata": {},
          "output_type": "display_data"
        },
        {
          "name": "stderr",
          "output_type": "stream",
          "text": [
            "\u001b[34m\u001b[1mwandb\u001b[0m: Agent Starting Run: 1otwl17b with config:\n",
            "\u001b[34m\u001b[1mwandb\u001b[0m: \ta: sigmoid\n",
            "\u001b[34m\u001b[1mwandb\u001b[0m: \tb: 32\n",
            "\u001b[34m\u001b[1mwandb\u001b[0m: \te: 5\n",
            "\u001b[34m\u001b[1mwandb\u001b[0m: \tlr: 0.0001\n",
            "\u001b[34m\u001b[1mwandb\u001b[0m: \tnlh: 3\n",
            "\u001b[34m\u001b[1mwandb\u001b[0m: \to: momentum\n",
            "\u001b[34m\u001b[1mwandb\u001b[0m: \tsz: 64\n",
            "\u001b[34m\u001b[1mwandb\u001b[0m: \tw_d: 0.0005\n",
            "\u001b[34m\u001b[1mwandb\u001b[0m: \tw_i: Xavier\n"
          ]
        },
        {
          "data": {
            "text/html": [
              "Ignoring project 'DA6401_ASS-practice' when running a sweep."
            ],
            "text/plain": [
              "<IPython.core.display.HTML object>"
            ]
          },
          "metadata": {},
          "output_type": "display_data"
        },
        {
          "data": {
            "text/html": [
              "Tracking run with wandb version 0.19.7"
            ],
            "text/plain": [
              "<IPython.core.display.HTML object>"
            ]
          },
          "metadata": {},
          "output_type": "display_data"
        },
        {
          "data": {
            "text/html": [
              "Run data is saved locally in <code>/content/wandb/run-20250308_220612-1otwl17b</code>"
            ],
            "text/plain": [
              "<IPython.core.display.HTML object>"
            ]
          },
          "metadata": {},
          "output_type": "display_data"
        },
        {
          "data": {
            "text/html": [
              "Syncing run <strong><a href='https://wandb.ai/3628-pavitrakhare-indian-institute-of-technology-madras/DA6401_ASS-practice/runs/1otwl17b' target=\"_blank\">fanciful-sweep-25</a></strong> to <a href='https://wandb.ai/3628-pavitrakhare-indian-institute-of-technology-madras/DA6401_ASS-practice' target=\"_blank\">Weights & Biases</a> (<a href='https://wandb.me/developer-guide' target=\"_blank\">docs</a>)<br>Sweep page: <a href='https://wandb.ai/3628-pavitrakhare-indian-institute-of-technology-madras/DA6401_ASS-practice/sweeps/nfibwu4x' target=\"_blank\">https://wandb.ai/3628-pavitrakhare-indian-institute-of-technology-madras/DA6401_ASS-practice/sweeps/nfibwu4x</a>"
            ],
            "text/plain": [
              "<IPython.core.display.HTML object>"
            ]
          },
          "metadata": {},
          "output_type": "display_data"
        },
        {
          "data": {
            "text/html": [
              " View project at <a href='https://wandb.ai/3628-pavitrakhare-indian-institute-of-technology-madras/DA6401_ASS-practice' target=\"_blank\">https://wandb.ai/3628-pavitrakhare-indian-institute-of-technology-madras/DA6401_ASS-practice</a>"
            ],
            "text/plain": [
              "<IPython.core.display.HTML object>"
            ]
          },
          "metadata": {},
          "output_type": "display_data"
        },
        {
          "data": {
            "text/html": [
              " View sweep at <a href='https://wandb.ai/3628-pavitrakhare-indian-institute-of-technology-madras/DA6401_ASS-practice/sweeps/nfibwu4x' target=\"_blank\">https://wandb.ai/3628-pavitrakhare-indian-institute-of-technology-madras/DA6401_ASS-practice/sweeps/nfibwu4x</a>"
            ],
            "text/plain": [
              "<IPython.core.display.HTML object>"
            ]
          },
          "metadata": {},
          "output_type": "display_data"
        },
        {
          "data": {
            "text/html": [
              " View run at <a href='https://wandb.ai/3628-pavitrakhare-indian-institute-of-technology-madras/DA6401_ASS-practice/runs/1otwl17b' target=\"_blank\">https://wandb.ai/3628-pavitrakhare-indian-institute-of-technology-madras/DA6401_ASS-practice/runs/1otwl17b</a>"
            ],
            "text/plain": [
              "<IPython.core.display.HTML object>"
            ]
          },
          "metadata": {},
          "output_type": "display_data"
        },
        {
          "name": "stdout",
          "output_type": "stream",
          "text": [
            "epoch :  1  validation loss :  2.2725341202208758\n",
            "epoch :  2  validation loss :  2.245656293839151\n",
            "epoch :  3  validation loss :  2.2209869102570226\n",
            "epoch :  4  validation loss :  2.1941142587957008\n",
            "epoch :  5  validation loss :  2.162278252083302\n"
          ]
        },
        {
          "data": {
            "text/html": [],
            "text/plain": [
              "<IPython.core.display.HTML object>"
            ]
          },
          "metadata": {},
          "output_type": "display_data"
        },
        {
          "data": {
            "text/html": [
              "<br>    <style><br>        .wandb-row {<br>            display: flex;<br>            flex-direction: row;<br>            flex-wrap: wrap;<br>            justify-content: flex-start;<br>            width: 100%;<br>        }<br>        .wandb-col {<br>            display: flex;<br>            flex-direction: column;<br>            flex-basis: 100%;<br>            flex: 1;<br>            padding: 10px;<br>        }<br>    </style><br><div class=\"wandb-row\"><div class=\"wandb-col\"><h3>Run history:</h3><br/><table class=\"wandb\"><tr><td>accuracy</td><td>▁▆▇██</td></tr><tr><td>epoch</td><td>▁▃▅▆█</td></tr><tr><td>loss</td><td>█▅▄▂▁</td></tr><tr><td>val_accuracy</td><td>▁▅▇██</td></tr><tr><td>val_loss</td><td>█▆▅▃▁</td></tr></table><br/></div><div class=\"wandb-col\"><h3>Run summary:</h3><br/><table class=\"wandb\"><tr><td>accuracy</td><td>0.51774</td></tr><tr><td>epoch</td><td>4</td></tr><tr><td>loss</td><td>2.17926</td></tr><tr><td>val_accuracy</td><td>0.56607</td></tr><tr><td>val_loss</td><td>2.16228</td></tr></table><br/></div></div>"
            ],
            "text/plain": [
              "<IPython.core.display.HTML object>"
            ]
          },
          "metadata": {},
          "output_type": "display_data"
        },
        {
          "data": {
            "text/html": [
              " View run <strong style=\"color:#cdcd00\">hl_3_sz_64_bs_32_ac_sigmoid_w_i_Xavier_lr_0.0001_wd_0.0005</strong> at: <a href='https://wandb.ai/3628-pavitrakhare-indian-institute-of-technology-madras/DA6401_ASS-practice/runs/1otwl17b' target=\"_blank\">https://wandb.ai/3628-pavitrakhare-indian-institute-of-technology-madras/DA6401_ASS-practice/runs/1otwl17b</a><br> View project at: <a href='https://wandb.ai/3628-pavitrakhare-indian-institute-of-technology-madras/DA6401_ASS-practice' target=\"_blank\">https://wandb.ai/3628-pavitrakhare-indian-institute-of-technology-madras/DA6401_ASS-practice</a><br>Synced 5 W&B file(s), 0 media file(s), 0 artifact file(s) and 0 other file(s)"
            ],
            "text/plain": [
              "<IPython.core.display.HTML object>"
            ]
          },
          "metadata": {},
          "output_type": "display_data"
        },
        {
          "data": {
            "text/html": [
              "Find logs at: <code>./wandb/run-20250308_220612-1otwl17b/logs</code>"
            ],
            "text/plain": [
              "<IPython.core.display.HTML object>"
            ]
          },
          "metadata": {},
          "output_type": "display_data"
        },
        {
          "name": "stderr",
          "output_type": "stream",
          "text": [
            "\u001b[34m\u001b[1mwandb\u001b[0m: Agent Starting Run: 1mm0cp9n with config:\n",
            "\u001b[34m\u001b[1mwandb\u001b[0m: \ta: tanh\n",
            "\u001b[34m\u001b[1mwandb\u001b[0m: \tb: 32\n",
            "\u001b[34m\u001b[1mwandb\u001b[0m: \te: 5\n",
            "\u001b[34m\u001b[1mwandb\u001b[0m: \tlr: 0.0001\n",
            "\u001b[34m\u001b[1mwandb\u001b[0m: \tnlh: 5\n",
            "\u001b[34m\u001b[1mwandb\u001b[0m: \to: nadam\n",
            "\u001b[34m\u001b[1mwandb\u001b[0m: \tsz: 32\n",
            "\u001b[34m\u001b[1mwandb\u001b[0m: \tw_d: 0.5\n",
            "\u001b[34m\u001b[1mwandb\u001b[0m: \tw_i: Xavier\n"
          ]
        },
        {
          "data": {
            "text/html": [
              "Ignoring project 'DA6401_ASS-practice' when running a sweep."
            ],
            "text/plain": [
              "<IPython.core.display.HTML object>"
            ]
          },
          "metadata": {},
          "output_type": "display_data"
        },
        {
          "data": {
            "text/html": [
              "Tracking run with wandb version 0.19.7"
            ],
            "text/plain": [
              "<IPython.core.display.HTML object>"
            ]
          },
          "metadata": {},
          "output_type": "display_data"
        },
        {
          "data": {
            "text/html": [
              "Run data is saved locally in <code>/content/wandb/run-20250308_220849-1mm0cp9n</code>"
            ],
            "text/plain": [
              "<IPython.core.display.HTML object>"
            ]
          },
          "metadata": {},
          "output_type": "display_data"
        },
        {
          "data": {
            "text/html": [
              "Syncing run <strong><a href='https://wandb.ai/3628-pavitrakhare-indian-institute-of-technology-madras/DA6401_ASS-practice/runs/1mm0cp9n' target=\"_blank\">upbeat-sweep-26</a></strong> to <a href='https://wandb.ai/3628-pavitrakhare-indian-institute-of-technology-madras/DA6401_ASS-practice' target=\"_blank\">Weights & Biases</a> (<a href='https://wandb.me/developer-guide' target=\"_blank\">docs</a>)<br>Sweep page: <a href='https://wandb.ai/3628-pavitrakhare-indian-institute-of-technology-madras/DA6401_ASS-practice/sweeps/nfibwu4x' target=\"_blank\">https://wandb.ai/3628-pavitrakhare-indian-institute-of-technology-madras/DA6401_ASS-practice/sweeps/nfibwu4x</a>"
            ],
            "text/plain": [
              "<IPython.core.display.HTML object>"
            ]
          },
          "metadata": {},
          "output_type": "display_data"
        },
        {
          "data": {
            "text/html": [
              " View project at <a href='https://wandb.ai/3628-pavitrakhare-indian-institute-of-technology-madras/DA6401_ASS-practice' target=\"_blank\">https://wandb.ai/3628-pavitrakhare-indian-institute-of-technology-madras/DA6401_ASS-practice</a>"
            ],
            "text/plain": [
              "<IPython.core.display.HTML object>"
            ]
          },
          "metadata": {},
          "output_type": "display_data"
        },
        {
          "data": {
            "text/html": [
              " View sweep at <a href='https://wandb.ai/3628-pavitrakhare-indian-institute-of-technology-madras/DA6401_ASS-practice/sweeps/nfibwu4x' target=\"_blank\">https://wandb.ai/3628-pavitrakhare-indian-institute-of-technology-madras/DA6401_ASS-practice/sweeps/nfibwu4x</a>"
            ],
            "text/plain": [
              "<IPython.core.display.HTML object>"
            ]
          },
          "metadata": {},
          "output_type": "display_data"
        },
        {
          "data": {
            "text/html": [
              " View run at <a href='https://wandb.ai/3628-pavitrakhare-indian-institute-of-technology-madras/DA6401_ASS-practice/runs/1mm0cp9n' target=\"_blank\">https://wandb.ai/3628-pavitrakhare-indian-institute-of-technology-madras/DA6401_ASS-practice/runs/1mm0cp9n</a>"
            ],
            "text/plain": [
              "<IPython.core.display.HTML object>"
            ]
          },
          "metadata": {},
          "output_type": "display_data"
        },
        {
          "name": "stdout",
          "output_type": "stream",
          "text": [
            "epoch :  1  validation loss :  0.7836928582637789\n",
            "epoch :  2  validation loss :  0.5778417593954509\n",
            "epoch :  3  validation loss :  0.5037172262278513\n",
            "epoch :  4  validation loss :  0.4663162917315937\n",
            "epoch :  5  validation loss :  0.44394817979005824\n"
          ]
        },
        {
          "data": {
            "text/html": [],
            "text/plain": [
              "<IPython.core.display.HTML object>"
            ]
          },
          "metadata": {},
          "output_type": "display_data"
        },
        {
          "data": {
            "text/html": [
              "<br>    <style><br>        .wandb-row {<br>            display: flex;<br>            flex-direction: row;<br>            flex-wrap: wrap;<br>            justify-content: flex-start;<br>            width: 100%;<br>        }<br>        .wandb-col {<br>            display: flex;<br>            flex-direction: column;<br>            flex-basis: 100%;<br>            flex: 1;<br>            padding: 10px;<br>        }<br>    </style><br><div class=\"wandb-row\"><div class=\"wandb-col\"><h3>Run history:</h3><br/><table class=\"wandb\"><tr><td>accuracy</td><td>▁▆▇██</td></tr><tr><td>epoch</td><td>▁▃▅▆█</td></tr><tr><td>loss</td><td>█▃▂▁▁</td></tr><tr><td>val_accuracy</td><td>▁▅▆▇█</td></tr><tr><td>val_loss</td><td>█▄▂▁▁</td></tr></table><br/></div><div class=\"wandb-col\"><h3>Run summary:</h3><br/><table class=\"wandb\"><tr><td>accuracy</td><td>0.85217</td></tr><tr><td>epoch</td><td>4</td></tr><tr><td>loss</td><td>0.43846</td></tr><tr><td>val_accuracy</td><td>0.8519</td></tr><tr><td>val_loss</td><td>0.44395</td></tr></table><br/></div></div>"
            ],
            "text/plain": [
              "<IPython.core.display.HTML object>"
            ]
          },
          "metadata": {},
          "output_type": "display_data"
        },
        {
          "data": {
            "text/html": [
              " View run <strong style=\"color:#cdcd00\">hl_5_sz_32_bs_32_ac_tanh_w_i_Xavier_lr_0.0001_wd_0.5</strong> at: <a href='https://wandb.ai/3628-pavitrakhare-indian-institute-of-technology-madras/DA6401_ASS-practice/runs/1mm0cp9n' target=\"_blank\">https://wandb.ai/3628-pavitrakhare-indian-institute-of-technology-madras/DA6401_ASS-practice/runs/1mm0cp9n</a><br> View project at: <a href='https://wandb.ai/3628-pavitrakhare-indian-institute-of-technology-madras/DA6401_ASS-practice' target=\"_blank\">https://wandb.ai/3628-pavitrakhare-indian-institute-of-technology-madras/DA6401_ASS-practice</a><br>Synced 5 W&B file(s), 0 media file(s), 0 artifact file(s) and 0 other file(s)"
            ],
            "text/plain": [
              "<IPython.core.display.HTML object>"
            ]
          },
          "metadata": {},
          "output_type": "display_data"
        },
        {
          "data": {
            "text/html": [
              "Find logs at: <code>./wandb/run-20250308_220849-1mm0cp9n/logs</code>"
            ],
            "text/plain": [
              "<IPython.core.display.HTML object>"
            ]
          },
          "metadata": {},
          "output_type": "display_data"
        },
        {
          "name": "stderr",
          "output_type": "stream",
          "text": [
            "\u001b[34m\u001b[1mwandb\u001b[0m: Agent Starting Run: 00pqnabb with config:\n",
            "\u001b[34m\u001b[1mwandb\u001b[0m: \ta: tanh\n",
            "\u001b[34m\u001b[1mwandb\u001b[0m: \tb: 16\n",
            "\u001b[34m\u001b[1mwandb\u001b[0m: \te: 10\n",
            "\u001b[34m\u001b[1mwandb\u001b[0m: \tlr: 0.001\n",
            "\u001b[34m\u001b[1mwandb\u001b[0m: \tnlh: 4\n",
            "\u001b[34m\u001b[1mwandb\u001b[0m: \to: adam\n",
            "\u001b[34m\u001b[1mwandb\u001b[0m: \tsz: 32\n",
            "\u001b[34m\u001b[1mwandb\u001b[0m: \tw_d: 0.5\n",
            "\u001b[34m\u001b[1mwandb\u001b[0m: \tw_i: random\n"
          ]
        },
        {
          "data": {
            "text/html": [
              "Ignoring project 'DA6401_ASS-practice' when running a sweep."
            ],
            "text/plain": [
              "<IPython.core.display.HTML object>"
            ]
          },
          "metadata": {},
          "output_type": "display_data"
        },
        {
          "data": {
            "text/html": [
              "Tracking run with wandb version 0.19.7"
            ],
            "text/plain": [
              "<IPython.core.display.HTML object>"
            ]
          },
          "metadata": {},
          "output_type": "display_data"
        },
        {
          "data": {
            "text/html": [
              "Run data is saved locally in <code>/content/wandb/run-20250308_221122-00pqnabb</code>"
            ],
            "text/plain": [
              "<IPython.core.display.HTML object>"
            ]
          },
          "metadata": {},
          "output_type": "display_data"
        },
        {
          "data": {
            "text/html": [
              "Syncing run <strong><a href='https://wandb.ai/3628-pavitrakhare-indian-institute-of-technology-madras/DA6401_ASS-practice/runs/00pqnabb' target=\"_blank\">frosty-sweep-27</a></strong> to <a href='https://wandb.ai/3628-pavitrakhare-indian-institute-of-technology-madras/DA6401_ASS-practice' target=\"_blank\">Weights & Biases</a> (<a href='https://wandb.me/developer-guide' target=\"_blank\">docs</a>)<br>Sweep page: <a href='https://wandb.ai/3628-pavitrakhare-indian-institute-of-technology-madras/DA6401_ASS-practice/sweeps/nfibwu4x' target=\"_blank\">https://wandb.ai/3628-pavitrakhare-indian-institute-of-technology-madras/DA6401_ASS-practice/sweeps/nfibwu4x</a>"
            ],
            "text/plain": [
              "<IPython.core.display.HTML object>"
            ]
          },
          "metadata": {},
          "output_type": "display_data"
        },
        {
          "data": {
            "text/html": [
              " View project at <a href='https://wandb.ai/3628-pavitrakhare-indian-institute-of-technology-madras/DA6401_ASS-practice' target=\"_blank\">https://wandb.ai/3628-pavitrakhare-indian-institute-of-technology-madras/DA6401_ASS-practice</a>"
            ],
            "text/plain": [
              "<IPython.core.display.HTML object>"
            ]
          },
          "metadata": {},
          "output_type": "display_data"
        },
        {
          "data": {
            "text/html": [
              " View sweep at <a href='https://wandb.ai/3628-pavitrakhare-indian-institute-of-technology-madras/DA6401_ASS-practice/sweeps/nfibwu4x' target=\"_blank\">https://wandb.ai/3628-pavitrakhare-indian-institute-of-technology-madras/DA6401_ASS-practice/sweeps/nfibwu4x</a>"
            ],
            "text/plain": [
              "<IPython.core.display.HTML object>"
            ]
          },
          "metadata": {},
          "output_type": "display_data"
        },
        {
          "data": {
            "text/html": [
              " View run at <a href='https://wandb.ai/3628-pavitrakhare-indian-institute-of-technology-madras/DA6401_ASS-practice/runs/00pqnabb' target=\"_blank\">https://wandb.ai/3628-pavitrakhare-indian-institute-of-technology-madras/DA6401_ASS-practice/runs/00pqnabb</a>"
            ],
            "text/plain": [
              "<IPython.core.display.HTML object>"
            ]
          },
          "metadata": {},
          "output_type": "display_data"
        },
        {
          "name": "stdout",
          "output_type": "stream",
          "text": [
            "epoch :  1  validation loss :  0.9655468202994677\n",
            "epoch :  2  validation loss :  0.8823867139517072\n",
            "epoch :  3  validation loss :  0.8409902740523049\n",
            "epoch :  4  validation loss :  0.8278647388925149\n",
            "epoch :  5  validation loss :  0.809060265652612\n",
            "epoch :  6  validation loss :  0.8159453670095607\n",
            "epoch :  7  validation loss :  0.7766230878401504\n",
            "epoch :  8  validation loss :  0.7916231659730852\n",
            "epoch :  9  validation loss :  0.7788624930577462\n",
            "epoch :  10  validation loss :  0.7876710710556499\n"
          ]
        },
        {
          "data": {
            "text/html": [],
            "text/plain": [
              "<IPython.core.display.HTML object>"
            ]
          },
          "metadata": {},
          "output_type": "display_data"
        },
        {
          "data": {
            "text/html": [
              "<br>    <style><br>        .wandb-row {<br>            display: flex;<br>            flex-direction: row;<br>            flex-wrap: wrap;<br>            justify-content: flex-start;<br>            width: 100%;<br>        }<br>        .wandb-col {<br>            display: flex;<br>            flex-direction: column;<br>            flex-basis: 100%;<br>            flex: 1;<br>            padding: 10px;<br>        }<br>    </style><br><div class=\"wandb-row\"><div class=\"wandb-col\"><h3>Run history:</h3><br/><table class=\"wandb\"><tr><td>accuracy</td><td>▁▅▆▇▇▇████</td></tr><tr><td>epoch</td><td>▁▂▃▃▄▅▆▆▇█</td></tr><tr><td>loss</td><td>█▄▃▂▂▂▁▁▁▁</td></tr><tr><td>val_accuracy</td><td>▁▄▅▆▆▇█▇█▇</td></tr><tr><td>val_loss</td><td>█▅▃▃▂▂▁▂▁▁</td></tr></table><br/></div><div class=\"wandb-col\"><h3>Run summary:</h3><br/><table class=\"wandb\"><tr><td>accuracy</td><td>0.86105</td></tr><tr><td>epoch</td><td>9</td></tr><tr><td>loss</td><td>0.42315</td></tr><tr><td>val_accuracy</td><td>0.83849</td></tr><tr><td>val_loss</td><td>0.78767</td></tr></table><br/></div></div>"
            ],
            "text/plain": [
              "<IPython.core.display.HTML object>"
            ]
          },
          "metadata": {},
          "output_type": "display_data"
        },
        {
          "data": {
            "text/html": [
              " View run <strong style=\"color:#cdcd00\">hl_4_sz_32_bs_16_ac_tanh_w_i_random_lr_0.001_wd_0.5</strong> at: <a href='https://wandb.ai/3628-pavitrakhare-indian-institute-of-technology-madras/DA6401_ASS-practice/runs/00pqnabb' target=\"_blank\">https://wandb.ai/3628-pavitrakhare-indian-institute-of-technology-madras/DA6401_ASS-practice/runs/00pqnabb</a><br> View project at: <a href='https://wandb.ai/3628-pavitrakhare-indian-institute-of-technology-madras/DA6401_ASS-practice' target=\"_blank\">https://wandb.ai/3628-pavitrakhare-indian-institute-of-technology-madras/DA6401_ASS-practice</a><br>Synced 5 W&B file(s), 0 media file(s), 0 artifact file(s) and 0 other file(s)"
            ],
            "text/plain": [
              "<IPython.core.display.HTML object>"
            ]
          },
          "metadata": {},
          "output_type": "display_data"
        },
        {
          "data": {
            "text/html": [
              "Find logs at: <code>./wandb/run-20250308_221122-00pqnabb/logs</code>"
            ],
            "text/plain": [
              "<IPython.core.display.HTML object>"
            ]
          },
          "metadata": {},
          "output_type": "display_data"
        },
        {
          "name": "stderr",
          "output_type": "stream",
          "text": [
            "\u001b[34m\u001b[1mwandb\u001b[0m: Agent Starting Run: 3dc151gk with config:\n",
            "\u001b[34m\u001b[1mwandb\u001b[0m: \ta: tanh\n",
            "\u001b[34m\u001b[1mwandb\u001b[0m: \tb: 32\n",
            "\u001b[34m\u001b[1mwandb\u001b[0m: \te: 10\n",
            "\u001b[34m\u001b[1mwandb\u001b[0m: \tlr: 0.0001\n",
            "\u001b[34m\u001b[1mwandb\u001b[0m: \tnlh: 3\n",
            "\u001b[34m\u001b[1mwandb\u001b[0m: \to: nag\n",
            "\u001b[34m\u001b[1mwandb\u001b[0m: \tsz: 64\n",
            "\u001b[34m\u001b[1mwandb\u001b[0m: \tw_d: 0\n",
            "\u001b[34m\u001b[1mwandb\u001b[0m: \tw_i: random\n"
          ]
        },
        {
          "data": {
            "text/html": [
              "Ignoring project 'DA6401_ASS-practice' when running a sweep."
            ],
            "text/plain": [
              "<IPython.core.display.HTML object>"
            ]
          },
          "metadata": {},
          "output_type": "display_data"
        },
        {
          "data": {
            "text/html": [
              "Tracking run with wandb version 0.19.7"
            ],
            "text/plain": [
              "<IPython.core.display.HTML object>"
            ]
          },
          "metadata": {},
          "output_type": "display_data"
        },
        {
          "data": {
            "text/html": [
              "Run data is saved locally in <code>/content/wandb/run-20250308_221551-3dc151gk</code>"
            ],
            "text/plain": [
              "<IPython.core.display.HTML object>"
            ]
          },
          "metadata": {},
          "output_type": "display_data"
        },
        {
          "data": {
            "text/html": [
              "Syncing run <strong><a href='https://wandb.ai/3628-pavitrakhare-indian-institute-of-technology-madras/DA6401_ASS-practice/runs/3dc151gk' target=\"_blank\">kind-sweep-28</a></strong> to <a href='https://wandb.ai/3628-pavitrakhare-indian-institute-of-technology-madras/DA6401_ASS-practice' target=\"_blank\">Weights & Biases</a> (<a href='https://wandb.me/developer-guide' target=\"_blank\">docs</a>)<br>Sweep page: <a href='https://wandb.ai/3628-pavitrakhare-indian-institute-of-technology-madras/DA6401_ASS-practice/sweeps/nfibwu4x' target=\"_blank\">https://wandb.ai/3628-pavitrakhare-indian-institute-of-technology-madras/DA6401_ASS-practice/sweeps/nfibwu4x</a>"
            ],
            "text/plain": [
              "<IPython.core.display.HTML object>"
            ]
          },
          "metadata": {},
          "output_type": "display_data"
        },
        {
          "data": {
            "text/html": [
              " View project at <a href='https://wandb.ai/3628-pavitrakhare-indian-institute-of-technology-madras/DA6401_ASS-practice' target=\"_blank\">https://wandb.ai/3628-pavitrakhare-indian-institute-of-technology-madras/DA6401_ASS-practice</a>"
            ],
            "text/plain": [
              "<IPython.core.display.HTML object>"
            ]
          },
          "metadata": {},
          "output_type": "display_data"
        },
        {
          "data": {
            "text/html": [
              " View sweep at <a href='https://wandb.ai/3628-pavitrakhare-indian-institute-of-technology-madras/DA6401_ASS-practice/sweeps/nfibwu4x' target=\"_blank\">https://wandb.ai/3628-pavitrakhare-indian-institute-of-technology-madras/DA6401_ASS-practice/sweeps/nfibwu4x</a>"
            ],
            "text/plain": [
              "<IPython.core.display.HTML object>"
            ]
          },
          "metadata": {},
          "output_type": "display_data"
        },
        {
          "data": {
            "text/html": [
              " View run at <a href='https://wandb.ai/3628-pavitrakhare-indian-institute-of-technology-madras/DA6401_ASS-practice/runs/3dc151gk' target=\"_blank\">https://wandb.ai/3628-pavitrakhare-indian-institute-of-technology-madras/DA6401_ASS-practice/runs/3dc151gk</a>"
            ],
            "text/plain": [
              "<IPython.core.display.HTML object>"
            ]
          },
          "metadata": {},
          "output_type": "display_data"
        },
        {
          "name": "stdout",
          "output_type": "stream",
          "text": [
            "epoch :  1  validation loss :  0.976168345195822\n",
            "epoch :  2  validation loss :  0.8322486299687226\n",
            "epoch :  3  validation loss :  0.7552822491563249\n",
            "epoch :  4  validation loss :  0.7122311161790329\n",
            "epoch :  5  validation loss :  0.6856887020658577\n",
            "epoch :  6  validation loss :  0.6612664505590504\n",
            "epoch :  7  validation loss :  0.6405449168511089\n",
            "epoch :  8  validation loss :  0.6225882104145013\n",
            "epoch :  9  validation loss :  0.60829027744573\n",
            "epoch :  10  validation loss :  0.5981355138529547\n"
          ]
        },
        {
          "data": {
            "text/html": [],
            "text/plain": [
              "<IPython.core.display.HTML object>"
            ]
          },
          "metadata": {},
          "output_type": "display_data"
        },
        {
          "data": {
            "text/html": [
              "<br>    <style><br>        .wandb-row {<br>            display: flex;<br>            flex-direction: row;<br>            flex-wrap: wrap;<br>            justify-content: flex-start;<br>            width: 100%;<br>        }<br>        .wandb-col {<br>            display: flex;<br>            flex-direction: column;<br>            flex-basis: 100%;<br>            flex: 1;<br>            padding: 10px;<br>        }<br>    </style><br><div class=\"wandb-row\"><div class=\"wandb-col\"><h3>Run history:</h3><br/><table class=\"wandb\"><tr><td>accuracy</td><td>▁▅▆▇▇▇████</td></tr><tr><td>epoch</td><td>▁▂▃▃▄▅▆▆▇█</td></tr><tr><td>loss</td><td>█▄▃▂▂▂▁▁▁▁</td></tr><tr><td>val_accuracy</td><td>▁▄▅▆▇▇▇███</td></tr><tr><td>val_loss</td><td>█▅▄▃▃▂▂▁▁▁</td></tr></table><br/></div><div class=\"wandb-col\"><h3>Run summary:</h3><br/><table class=\"wandb\"><tr><td>accuracy</td><td>0.81419</td></tr><tr><td>epoch</td><td>9</td></tr><tr><td>loss</td><td>0.53849</td></tr><tr><td>val_accuracy</td><td>0.79467</td></tr><tr><td>val_loss</td><td>0.59814</td></tr></table><br/></div></div>"
            ],
            "text/plain": [
              "<IPython.core.display.HTML object>"
            ]
          },
          "metadata": {},
          "output_type": "display_data"
        },
        {
          "data": {
            "text/html": [
              " View run <strong style=\"color:#cdcd00\">hl_3_sz_64_bs_32_ac_tanh_w_i_random_lr_0.0001_wd_0</strong> at: <a href='https://wandb.ai/3628-pavitrakhare-indian-institute-of-technology-madras/DA6401_ASS-practice/runs/3dc151gk' target=\"_blank\">https://wandb.ai/3628-pavitrakhare-indian-institute-of-technology-madras/DA6401_ASS-practice/runs/3dc151gk</a><br> View project at: <a href='https://wandb.ai/3628-pavitrakhare-indian-institute-of-technology-madras/DA6401_ASS-practice' target=\"_blank\">https://wandb.ai/3628-pavitrakhare-indian-institute-of-technology-madras/DA6401_ASS-practice</a><br>Synced 5 W&B file(s), 0 media file(s), 0 artifact file(s) and 0 other file(s)"
            ],
            "text/plain": [
              "<IPython.core.display.HTML object>"
            ]
          },
          "metadata": {},
          "output_type": "display_data"
        },
        {
          "data": {
            "text/html": [
              "Find logs at: <code>./wandb/run-20250308_221551-3dc151gk/logs</code>"
            ],
            "text/plain": [
              "<IPython.core.display.HTML object>"
            ]
          },
          "metadata": {},
          "output_type": "display_data"
        },
        {
          "name": "stderr",
          "output_type": "stream",
          "text": [
            "\u001b[34m\u001b[1mwandb\u001b[0m: Agent Starting Run: 1489c637 with config:\n",
            "\u001b[34m\u001b[1mwandb\u001b[0m: \ta: sigmoid\n",
            "\u001b[34m\u001b[1mwandb\u001b[0m: \tb: 32\n",
            "\u001b[34m\u001b[1mwandb\u001b[0m: \te: 5\n",
            "\u001b[34m\u001b[1mwandb\u001b[0m: \tlr: 0.0001\n",
            "\u001b[34m\u001b[1mwandb\u001b[0m: \tnlh: 5\n",
            "\u001b[34m\u001b[1mwandb\u001b[0m: \to: rmsprop\n",
            "\u001b[34m\u001b[1mwandb\u001b[0m: \tsz: 32\n",
            "\u001b[34m\u001b[1mwandb\u001b[0m: \tw_d: 0.5\n",
            "\u001b[34m\u001b[1mwandb\u001b[0m: \tw_i: random\n"
          ]
        },
        {
          "data": {
            "text/html": [
              "Ignoring project 'DA6401_ASS-practice' when running a sweep."
            ],
            "text/plain": [
              "<IPython.core.display.HTML object>"
            ]
          },
          "metadata": {},
          "output_type": "display_data"
        },
        {
          "data": {
            "text/html": [
              "Tracking run with wandb version 0.19.7"
            ],
            "text/plain": [
              "<IPython.core.display.HTML object>"
            ]
          },
          "metadata": {},
          "output_type": "display_data"
        },
        {
          "data": {
            "text/html": [
              "Run data is saved locally in <code>/content/wandb/run-20250308_222055-1489c637</code>"
            ],
            "text/plain": [
              "<IPython.core.display.HTML object>"
            ]
          },
          "metadata": {},
          "output_type": "display_data"
        },
        {
          "data": {
            "text/html": [
              "Syncing run <strong><a href='https://wandb.ai/3628-pavitrakhare-indian-institute-of-technology-madras/DA6401_ASS-practice/runs/1489c637' target=\"_blank\">lemon-sweep-29</a></strong> to <a href='https://wandb.ai/3628-pavitrakhare-indian-institute-of-technology-madras/DA6401_ASS-practice' target=\"_blank\">Weights & Biases</a> (<a href='https://wandb.me/developer-guide' target=\"_blank\">docs</a>)<br>Sweep page: <a href='https://wandb.ai/3628-pavitrakhare-indian-institute-of-technology-madras/DA6401_ASS-practice/sweeps/nfibwu4x' target=\"_blank\">https://wandb.ai/3628-pavitrakhare-indian-institute-of-technology-madras/DA6401_ASS-practice/sweeps/nfibwu4x</a>"
            ],
            "text/plain": [
              "<IPython.core.display.HTML object>"
            ]
          },
          "metadata": {},
          "output_type": "display_data"
        },
        {
          "data": {
            "text/html": [
              " View project at <a href='https://wandb.ai/3628-pavitrakhare-indian-institute-of-technology-madras/DA6401_ASS-practice' target=\"_blank\">https://wandb.ai/3628-pavitrakhare-indian-institute-of-technology-madras/DA6401_ASS-practice</a>"
            ],
            "text/plain": [
              "<IPython.core.display.HTML object>"
            ]
          },
          "metadata": {},
          "output_type": "display_data"
        },
        {
          "data": {
            "text/html": [
              " View sweep at <a href='https://wandb.ai/3628-pavitrakhare-indian-institute-of-technology-madras/DA6401_ASS-practice/sweeps/nfibwu4x' target=\"_blank\">https://wandb.ai/3628-pavitrakhare-indian-institute-of-technology-madras/DA6401_ASS-practice/sweeps/nfibwu4x</a>"
            ],
            "text/plain": [
              "<IPython.core.display.HTML object>"
            ]
          },
          "metadata": {},
          "output_type": "display_data"
        },
        {
          "data": {
            "text/html": [
              " View run at <a href='https://wandb.ai/3628-pavitrakhare-indian-institute-of-technology-madras/DA6401_ASS-practice/runs/1489c637' target=\"_blank\">https://wandb.ai/3628-pavitrakhare-indian-institute-of-technology-madras/DA6401_ASS-practice/runs/1489c637</a>"
            ],
            "text/plain": [
              "<IPython.core.display.HTML object>"
            ]
          },
          "metadata": {},
          "output_type": "display_data"
        },
        {
          "name": "stdout",
          "output_type": "stream",
          "text": [
            "epoch :  1  validation loss :  2.579751098244633\n",
            "epoch :  2  validation loss :  2.508206730746866\n",
            "epoch :  3  validation loss :  2.4057706873669105\n",
            "epoch :  4  validation loss :  2.263944364919194\n",
            "epoch :  5  validation loss :  2.1050276227130493\n"
          ]
        },
        {
          "data": {
            "text/html": [],
            "text/plain": [
              "<IPython.core.display.HTML object>"
            ]
          },
          "metadata": {},
          "output_type": "display_data"
        },
        {
          "data": {
            "text/html": [
              "<br>    <style><br>        .wandb-row {<br>            display: flex;<br>            flex-direction: row;<br>            flex-wrap: wrap;<br>            justify-content: flex-start;<br>            width: 100%;<br>        }<br>        .wandb-col {<br>            display: flex;<br>            flex-direction: column;<br>            flex-basis: 100%;<br>            flex: 1;<br>            padding: 10px;<br>        }<br>    </style><br><div class=\"wandb-row\"><div class=\"wandb-col\"><h3>Run history:</h3><br/><table class=\"wandb\"><tr><td>accuracy</td><td>▁▅▇▇█</td></tr><tr><td>epoch</td><td>▁▃▅▆█</td></tr><tr><td>loss</td><td>█▅▄▃▁</td></tr><tr><td>val_accuracy</td><td>▁▅▆▇█</td></tr><tr><td>val_loss</td><td>█▇▅▃▁</td></tr></table><br/></div><div class=\"wandb-col\"><h3>Run summary:</h3><br/><table class=\"wandb\"><tr><td>accuracy</td><td>0.44862</td></tr><tr><td>epoch</td><td>4</td></tr><tr><td>loss</td><td>1.90583</td></tr><tr><td>val_accuracy</td><td>0.45992</td></tr><tr><td>val_loss</td><td>2.10503</td></tr></table><br/></div></div>"
            ],
            "text/plain": [
              "<IPython.core.display.HTML object>"
            ]
          },
          "metadata": {},
          "output_type": "display_data"
        },
        {
          "data": {
            "text/html": [
              " View run <strong style=\"color:#cdcd00\">hl_5_sz_32_bs_32_ac_sigmoid_w_i_random_lr_0.0001_wd_0.5</strong> at: <a href='https://wandb.ai/3628-pavitrakhare-indian-institute-of-technology-madras/DA6401_ASS-practice/runs/1489c637' target=\"_blank\">https://wandb.ai/3628-pavitrakhare-indian-institute-of-technology-madras/DA6401_ASS-practice/runs/1489c637</a><br> View project at: <a href='https://wandb.ai/3628-pavitrakhare-indian-institute-of-technology-madras/DA6401_ASS-practice' target=\"_blank\">https://wandb.ai/3628-pavitrakhare-indian-institute-of-technology-madras/DA6401_ASS-practice</a><br>Synced 5 W&B file(s), 0 media file(s), 0 artifact file(s) and 0 other file(s)"
            ],
            "text/plain": [
              "<IPython.core.display.HTML object>"
            ]
          },
          "metadata": {},
          "output_type": "display_data"
        },
        {
          "data": {
            "text/html": [
              "Find logs at: <code>./wandb/run-20250308_222055-1489c637/logs</code>"
            ],
            "text/plain": [
              "<IPython.core.display.HTML object>"
            ]
          },
          "metadata": {},
          "output_type": "display_data"
        },
        {
          "name": "stderr",
          "output_type": "stream",
          "text": [
            "\u001b[34m\u001b[1mwandb\u001b[0m: Agent Starting Run: piebkbp2 with config:\n",
            "\u001b[34m\u001b[1mwandb\u001b[0m: \ta: sigmoid\n",
            "\u001b[34m\u001b[1mwandb\u001b[0m: \tb: 64\n",
            "\u001b[34m\u001b[1mwandb\u001b[0m: \te: 5\n",
            "\u001b[34m\u001b[1mwandb\u001b[0m: \tlr: 0.0001\n",
            "\u001b[34m\u001b[1mwandb\u001b[0m: \tnlh: 5\n",
            "\u001b[34m\u001b[1mwandb\u001b[0m: \to: nadam\n",
            "\u001b[34m\u001b[1mwandb\u001b[0m: \tsz: 128\n",
            "\u001b[34m\u001b[1mwandb\u001b[0m: \tw_d: 0.0005\n",
            "\u001b[34m\u001b[1mwandb\u001b[0m: \tw_i: random\n"
          ]
        },
        {
          "data": {
            "text/html": [
              "Ignoring project 'DA6401_ASS-practice' when running a sweep."
            ],
            "text/plain": [
              "<IPython.core.display.HTML object>"
            ]
          },
          "metadata": {},
          "output_type": "display_data"
        },
        {
          "data": {
            "text/html": [
              "Tracking run with wandb version 0.19.7"
            ],
            "text/plain": [
              "<IPython.core.display.HTML object>"
            ]
          },
          "metadata": {},
          "output_type": "display_data"
        },
        {
          "data": {
            "text/html": [
              "Run data is saved locally in <code>/content/wandb/run-20250308_222307-piebkbp2</code>"
            ],
            "text/plain": [
              "<IPython.core.display.HTML object>"
            ]
          },
          "metadata": {},
          "output_type": "display_data"
        },
        {
          "data": {
            "text/html": [
              "Syncing run <strong><a href='https://wandb.ai/3628-pavitrakhare-indian-institute-of-technology-madras/DA6401_ASS-practice/runs/piebkbp2' target=\"_blank\">northern-sweep-30</a></strong> to <a href='https://wandb.ai/3628-pavitrakhare-indian-institute-of-technology-madras/DA6401_ASS-practice' target=\"_blank\">Weights & Biases</a> (<a href='https://wandb.me/developer-guide' target=\"_blank\">docs</a>)<br>Sweep page: <a href='https://wandb.ai/3628-pavitrakhare-indian-institute-of-technology-madras/DA6401_ASS-practice/sweeps/nfibwu4x' target=\"_blank\">https://wandb.ai/3628-pavitrakhare-indian-institute-of-technology-madras/DA6401_ASS-practice/sweeps/nfibwu4x</a>"
            ],
            "text/plain": [
              "<IPython.core.display.HTML object>"
            ]
          },
          "metadata": {},
          "output_type": "display_data"
        },
        {
          "data": {
            "text/html": [
              " View project at <a href='https://wandb.ai/3628-pavitrakhare-indian-institute-of-technology-madras/DA6401_ASS-practice' target=\"_blank\">https://wandb.ai/3628-pavitrakhare-indian-institute-of-technology-madras/DA6401_ASS-practice</a>"
            ],
            "text/plain": [
              "<IPython.core.display.HTML object>"
            ]
          },
          "metadata": {},
          "output_type": "display_data"
        },
        {
          "data": {
            "text/html": [
              " View sweep at <a href='https://wandb.ai/3628-pavitrakhare-indian-institute-of-technology-madras/DA6401_ASS-practice/sweeps/nfibwu4x' target=\"_blank\">https://wandb.ai/3628-pavitrakhare-indian-institute-of-technology-madras/DA6401_ASS-practice/sweeps/nfibwu4x</a>"
            ],
            "text/plain": [
              "<IPython.core.display.HTML object>"
            ]
          },
          "metadata": {},
          "output_type": "display_data"
        },
        {
          "data": {
            "text/html": [
              " View run at <a href='https://wandb.ai/3628-pavitrakhare-indian-institute-of-technology-madras/DA6401_ASS-practice/runs/piebkbp2' target=\"_blank\">https://wandb.ai/3628-pavitrakhare-indian-institute-of-technology-madras/DA6401_ASS-practice/runs/piebkbp2</a>"
            ],
            "text/plain": [
              "<IPython.core.display.HTML object>"
            ]
          },
          "metadata": {},
          "output_type": "display_data"
        },
        {
          "name": "stdout",
          "output_type": "stream",
          "text": [
            "epoch :  1  validation loss :  1.3733250421048215\n",
            "epoch :  2  validation loss :  0.9571515967513311\n",
            "epoch :  3  validation loss :  0.7919101111230955\n",
            "epoch :  4  validation loss :  0.7010140246134553\n",
            "epoch :  5  validation loss :  0.6419585013014343\n"
          ]
        },
        {
          "data": {
            "text/html": [],
            "text/plain": [
              "<IPython.core.display.HTML object>"
            ]
          },
          "metadata": {},
          "output_type": "display_data"
        },
        {
          "data": {
            "text/html": [
              "<br>    <style><br>        .wandb-row {<br>            display: flex;<br>            flex-direction: row;<br>            flex-wrap: wrap;<br>            justify-content: flex-start;<br>            width: 100%;<br>        }<br>        .wandb-col {<br>            display: flex;<br>            flex-direction: column;<br>            flex-basis: 100%;<br>            flex: 1;<br>            padding: 10px;<br>        }<br>    </style><br><div class=\"wandb-row\"><div class=\"wandb-col\"><h3>Run history:</h3><br/><table class=\"wandb\"><tr><td>accuracy</td><td>▁▆▇██</td></tr><tr><td>epoch</td><td>▁▃▅▆█</td></tr><tr><td>loss</td><td>█▃▂▁▁</td></tr><tr><td>val_accuracy</td><td>▁▅▆▇█</td></tr><tr><td>val_loss</td><td>█▄▂▂▁</td></tr></table><br/></div><div class=\"wandb-col\"><h3>Run summary:</h3><br/><table class=\"wandb\"><tr><td>accuracy</td><td>0.79122</td></tr><tr><td>epoch</td><td>4</td></tr><tr><td>loss</td><td>0.66559</td></tr><tr><td>val_accuracy</td><td>0.79433</td></tr><tr><td>val_loss</td><td>0.64196</td></tr></table><br/></div></div>"
            ],
            "text/plain": [
              "<IPython.core.display.HTML object>"
            ]
          },
          "metadata": {},
          "output_type": "display_data"
        },
        {
          "data": {
            "text/html": [
              " View run <strong style=\"color:#cdcd00\">hl_5_sz_128_bs_64_ac_sigmoid_w_i_random_lr_0.0001_wd_0.0005</strong> at: <a href='https://wandb.ai/3628-pavitrakhare-indian-institute-of-technology-madras/DA6401_ASS-practice/runs/piebkbp2' target=\"_blank\">https://wandb.ai/3628-pavitrakhare-indian-institute-of-technology-madras/DA6401_ASS-practice/runs/piebkbp2</a><br> View project at: <a href='https://wandb.ai/3628-pavitrakhare-indian-institute-of-technology-madras/DA6401_ASS-practice' target=\"_blank\">https://wandb.ai/3628-pavitrakhare-indian-institute-of-technology-madras/DA6401_ASS-practice</a><br>Synced 5 W&B file(s), 0 media file(s), 0 artifact file(s) and 0 other file(s)"
            ],
            "text/plain": [
              "<IPython.core.display.HTML object>"
            ]
          },
          "metadata": {},
          "output_type": "display_data"
        },
        {
          "data": {
            "text/html": [
              "Find logs at: <code>./wandb/run-20250308_222307-piebkbp2/logs</code>"
            ],
            "text/plain": [
              "<IPython.core.display.HTML object>"
            ]
          },
          "metadata": {},
          "output_type": "display_data"
        },
        {
          "name": "stderr",
          "output_type": "stream",
          "text": [
            "\u001b[34m\u001b[1mwandb\u001b[0m: Agent Starting Run: 7lc7cvjy with config:\n",
            "\u001b[34m\u001b[1mwandb\u001b[0m: \ta: ReLU\n",
            "\u001b[34m\u001b[1mwandb\u001b[0m: \tb: 64\n",
            "\u001b[34m\u001b[1mwandb\u001b[0m: \te: 5\n",
            "\u001b[34m\u001b[1mwandb\u001b[0m: \tlr: 0.001\n",
            "\u001b[34m\u001b[1mwandb\u001b[0m: \tnlh: 5\n",
            "\u001b[34m\u001b[1mwandb\u001b[0m: \to: momentum\n",
            "\u001b[34m\u001b[1mwandb\u001b[0m: \tsz: 32\n",
            "\u001b[34m\u001b[1mwandb\u001b[0m: \tw_d: 0.5\n",
            "\u001b[34m\u001b[1mwandb\u001b[0m: \tw_i: Xavier\n"
          ]
        },
        {
          "data": {
            "text/html": [
              "Ignoring project 'DA6401_ASS-practice' when running a sweep."
            ],
            "text/plain": [
              "<IPython.core.display.HTML object>"
            ]
          },
          "metadata": {},
          "output_type": "display_data"
        },
        {
          "data": {
            "text/html": [
              "Tracking run with wandb version 0.19.7"
            ],
            "text/plain": [
              "<IPython.core.display.HTML object>"
            ]
          },
          "metadata": {},
          "output_type": "display_data"
        },
        {
          "data": {
            "text/html": [
              "Run data is saved locally in <code>/content/wandb/run-20250308_222943-7lc7cvjy</code>"
            ],
            "text/plain": [
              "<IPython.core.display.HTML object>"
            ]
          },
          "metadata": {},
          "output_type": "display_data"
        },
        {
          "data": {
            "text/html": [
              "Syncing run <strong><a href='https://wandb.ai/3628-pavitrakhare-indian-institute-of-technology-madras/DA6401_ASS-practice/runs/7lc7cvjy' target=\"_blank\">generous-sweep-31</a></strong> to <a href='https://wandb.ai/3628-pavitrakhare-indian-institute-of-technology-madras/DA6401_ASS-practice' target=\"_blank\">Weights & Biases</a> (<a href='https://wandb.me/developer-guide' target=\"_blank\">docs</a>)<br>Sweep page: <a href='https://wandb.ai/3628-pavitrakhare-indian-institute-of-technology-madras/DA6401_ASS-practice/sweeps/nfibwu4x' target=\"_blank\">https://wandb.ai/3628-pavitrakhare-indian-institute-of-technology-madras/DA6401_ASS-practice/sweeps/nfibwu4x</a>"
            ],
            "text/plain": [
              "<IPython.core.display.HTML object>"
            ]
          },
          "metadata": {},
          "output_type": "display_data"
        },
        {
          "data": {
            "text/html": [
              " View project at <a href='https://wandb.ai/3628-pavitrakhare-indian-institute-of-technology-madras/DA6401_ASS-practice' target=\"_blank\">https://wandb.ai/3628-pavitrakhare-indian-institute-of-technology-madras/DA6401_ASS-practice</a>"
            ],
            "text/plain": [
              "<IPython.core.display.HTML object>"
            ]
          },
          "metadata": {},
          "output_type": "display_data"
        },
        {
          "data": {
            "text/html": [
              " View sweep at <a href='https://wandb.ai/3628-pavitrakhare-indian-institute-of-technology-madras/DA6401_ASS-practice/sweeps/nfibwu4x' target=\"_blank\">https://wandb.ai/3628-pavitrakhare-indian-institute-of-technology-madras/DA6401_ASS-practice/sweeps/nfibwu4x</a>"
            ],
            "text/plain": [
              "<IPython.core.display.HTML object>"
            ]
          },
          "metadata": {},
          "output_type": "display_data"
        },
        {
          "data": {
            "text/html": [
              " View run at <a href='https://wandb.ai/3628-pavitrakhare-indian-institute-of-technology-madras/DA6401_ASS-practice/runs/7lc7cvjy' target=\"_blank\">https://wandb.ai/3628-pavitrakhare-indian-institute-of-technology-madras/DA6401_ASS-practice/runs/7lc7cvjy</a>"
            ],
            "text/plain": [
              "<IPython.core.display.HTML object>"
            ]
          },
          "metadata": {},
          "output_type": "display_data"
        },
        {
          "name": "stdout",
          "output_type": "stream",
          "text": [
            "epoch :  1  validation loss :  0.5281313054178092\n",
            "epoch :  2  validation loss :  0.5074185166883357\n",
            "epoch :  3  validation loss :  0.51083974391791\n",
            "epoch :  4  validation loss :  0.49019700953814077\n",
            "epoch :  5  validation loss :  0.4473770991410538\n"
          ]
        },
        {
          "data": {
            "text/html": [],
            "text/plain": [
              "<IPython.core.display.HTML object>"
            ]
          },
          "metadata": {},
          "output_type": "display_data"
        },
        {
          "data": {
            "text/html": [
              "<br>    <style><br>        .wandb-row {<br>            display: flex;<br>            flex-direction: row;<br>            flex-wrap: wrap;<br>            justify-content: flex-start;<br>            width: 100%;<br>        }<br>        .wandb-col {<br>            display: flex;<br>            flex-direction: column;<br>            flex-basis: 100%;<br>            flex: 1;<br>            padding: 10px;<br>        }<br>    </style><br><div class=\"wandb-row\"><div class=\"wandb-col\"><h3>Run history:</h3><br/><table class=\"wandb\"><tr><td>accuracy</td><td>▁▆▇██</td></tr><tr><td>epoch</td><td>▁▃▅▆█</td></tr><tr><td>loss</td><td>█▃▂▁▁</td></tr><tr><td>val_accuracy</td><td>▁▁▁▃█</td></tr><tr><td>val_loss</td><td>█▆▇▅▁</td></tr></table><br/></div><div class=\"wandb-col\"><h3>Run summary:</h3><br/><table class=\"wandb\"><tr><td>accuracy</td><td>0.85973</td></tr><tr><td>epoch</td><td>4</td></tr><tr><td>loss</td><td>0.39693</td></tr><tr><td>val_accuracy</td><td>0.84986</td></tr><tr><td>val_loss</td><td>0.44738</td></tr></table><br/></div></div>"
            ],
            "text/plain": [
              "<IPython.core.display.HTML object>"
            ]
          },
          "metadata": {},
          "output_type": "display_data"
        },
        {
          "data": {
            "text/html": [
              " View run <strong style=\"color:#cdcd00\">hl_5_sz_32_bs_64_ac_ReLU_w_i_Xavier_lr_0.001_wd_0.5</strong> at: <a href='https://wandb.ai/3628-pavitrakhare-indian-institute-of-technology-madras/DA6401_ASS-practice/runs/7lc7cvjy' target=\"_blank\">https://wandb.ai/3628-pavitrakhare-indian-institute-of-technology-madras/DA6401_ASS-practice/runs/7lc7cvjy</a><br> View project at: <a href='https://wandb.ai/3628-pavitrakhare-indian-institute-of-technology-madras/DA6401_ASS-practice' target=\"_blank\">https://wandb.ai/3628-pavitrakhare-indian-institute-of-technology-madras/DA6401_ASS-practice</a><br>Synced 5 W&B file(s), 0 media file(s), 0 artifact file(s) and 0 other file(s)"
            ],
            "text/plain": [
              "<IPython.core.display.HTML object>"
            ]
          },
          "metadata": {},
          "output_type": "display_data"
        },
        {
          "data": {
            "text/html": [
              "Find logs at: <code>./wandb/run-20250308_222943-7lc7cvjy/logs</code>"
            ],
            "text/plain": [
              "<IPython.core.display.HTML object>"
            ]
          },
          "metadata": {},
          "output_type": "display_data"
        },
        {
          "name": "stderr",
          "output_type": "stream",
          "text": [
            "\u001b[34m\u001b[1mwandb\u001b[0m: Agent Starting Run: ejy74wer with config:\n",
            "\u001b[34m\u001b[1mwandb\u001b[0m: \ta: tanh\n",
            "\u001b[34m\u001b[1mwandb\u001b[0m: \tb: 64\n",
            "\u001b[34m\u001b[1mwandb\u001b[0m: \te: 10\n",
            "\u001b[34m\u001b[1mwandb\u001b[0m: \tlr: 0.0001\n",
            "\u001b[34m\u001b[1mwandb\u001b[0m: \tnlh: 3\n",
            "\u001b[34m\u001b[1mwandb\u001b[0m: \to: adam\n",
            "\u001b[34m\u001b[1mwandb\u001b[0m: \tsz: 32\n",
            "\u001b[34m\u001b[1mwandb\u001b[0m: \tw_d: 0\n",
            "\u001b[34m\u001b[1mwandb\u001b[0m: \tw_i: random\n"
          ]
        },
        {
          "data": {
            "text/html": [
              "Ignoring project 'DA6401_ASS-practice' when running a sweep."
            ],
            "text/plain": [
              "<IPython.core.display.HTML object>"
            ]
          },
          "metadata": {},
          "output_type": "display_data"
        },
        {
          "data": {
            "text/html": [
              "Tracking run with wandb version 0.19.7"
            ],
            "text/plain": [
              "<IPython.core.display.HTML object>"
            ]
          },
          "metadata": {},
          "output_type": "display_data"
        },
        {
          "data": {
            "text/html": [
              "Run data is saved locally in <code>/content/wandb/run-20250308_223150-ejy74wer</code>"
            ],
            "text/plain": [
              "<IPython.core.display.HTML object>"
            ]
          },
          "metadata": {},
          "output_type": "display_data"
        },
        {
          "data": {
            "text/html": [
              "Syncing run <strong><a href='https://wandb.ai/3628-pavitrakhare-indian-institute-of-technology-madras/DA6401_ASS-practice/runs/ejy74wer' target=\"_blank\">eager-sweep-32</a></strong> to <a href='https://wandb.ai/3628-pavitrakhare-indian-institute-of-technology-madras/DA6401_ASS-practice' target=\"_blank\">Weights & Biases</a> (<a href='https://wandb.me/developer-guide' target=\"_blank\">docs</a>)<br>Sweep page: <a href='https://wandb.ai/3628-pavitrakhare-indian-institute-of-technology-madras/DA6401_ASS-practice/sweeps/nfibwu4x' target=\"_blank\">https://wandb.ai/3628-pavitrakhare-indian-institute-of-technology-madras/DA6401_ASS-practice/sweeps/nfibwu4x</a>"
            ],
            "text/plain": [
              "<IPython.core.display.HTML object>"
            ]
          },
          "metadata": {},
          "output_type": "display_data"
        },
        {
          "data": {
            "text/html": [
              " View project at <a href='https://wandb.ai/3628-pavitrakhare-indian-institute-of-technology-madras/DA6401_ASS-practice' target=\"_blank\">https://wandb.ai/3628-pavitrakhare-indian-institute-of-technology-madras/DA6401_ASS-practice</a>"
            ],
            "text/plain": [
              "<IPython.core.display.HTML object>"
            ]
          },
          "metadata": {},
          "output_type": "display_data"
        },
        {
          "data": {
            "text/html": [
              " View sweep at <a href='https://wandb.ai/3628-pavitrakhare-indian-institute-of-technology-madras/DA6401_ASS-practice/sweeps/nfibwu4x' target=\"_blank\">https://wandb.ai/3628-pavitrakhare-indian-institute-of-technology-madras/DA6401_ASS-practice/sweeps/nfibwu4x</a>"
            ],
            "text/plain": [
              "<IPython.core.display.HTML object>"
            ]
          },
          "metadata": {},
          "output_type": "display_data"
        },
        {
          "data": {
            "text/html": [
              " View run at <a href='https://wandb.ai/3628-pavitrakhare-indian-institute-of-technology-madras/DA6401_ASS-practice/runs/ejy74wer' target=\"_blank\">https://wandb.ai/3628-pavitrakhare-indian-institute-of-technology-madras/DA6401_ASS-practice/runs/ejy74wer</a>"
            ],
            "text/plain": [
              "<IPython.core.display.HTML object>"
            ]
          },
          "metadata": {},
          "output_type": "display_data"
        },
        {
          "name": "stdout",
          "output_type": "stream",
          "text": [
            "epoch :  1  validation loss :  1.4985087925406813\n",
            "epoch :  2  validation loss :  1.1364148807639907\n",
            "epoch :  3  validation loss :  0.9834767461798104\n",
            "epoch :  4  validation loss :  0.8935106806090236\n",
            "epoch :  5  validation loss :  0.8351344917065673\n",
            "epoch :  6  validation loss :  0.793803217468086\n",
            "epoch :  7  validation loss :  0.7613832424145087\n",
            "epoch :  8  validation loss :  0.7355698960830034\n",
            "epoch :  9  validation loss :  0.7149628996794231\n",
            "epoch :  10  validation loss :  0.6970894728699868\n"
          ]
        },
        {
          "data": {
            "text/html": [],
            "text/plain": [
              "<IPython.core.display.HTML object>"
            ]
          },
          "metadata": {},
          "output_type": "display_data"
        },
        {
          "data": {
            "text/html": [
              "<br>    <style><br>        .wandb-row {<br>            display: flex;<br>            flex-direction: row;<br>            flex-wrap: wrap;<br>            justify-content: flex-start;<br>            width: 100%;<br>        }<br>        .wandb-col {<br>            display: flex;<br>            flex-direction: column;<br>            flex-basis: 100%;<br>            flex: 1;<br>            padding: 10px;<br>        }<br>    </style><br><div class=\"wandb-row\"><div class=\"wandb-col\"><h3>Run history:</h3><br/><table class=\"wandb\"><tr><td>accuracy</td><td>▁▅▆▇▇▇████</td></tr><tr><td>epoch</td><td>▁▂▃▃▄▅▆▆▇█</td></tr><tr><td>loss</td><td>█▄▃▂▂▂▁▁▁▁</td></tr><tr><td>val_accuracy</td><td>▁▄▅▆▇▇▇███</td></tr><tr><td>val_loss</td><td>█▅▄▃▂▂▂▁▁▁</td></tr></table><br/></div><div class=\"wandb-col\"><h3>Run summary:</h3><br/><table class=\"wandb\"><tr><td>accuracy</td><td>0.75804</td></tr><tr><td>epoch</td><td>9</td></tr><tr><td>loss</td><td>0.69015</td></tr><tr><td>val_accuracy</td><td>0.75459</td></tr><tr><td>val_loss</td><td>0.69709</td></tr></table><br/></div></div>"
            ],
            "text/plain": [
              "<IPython.core.display.HTML object>"
            ]
          },
          "metadata": {},
          "output_type": "display_data"
        },
        {
          "data": {
            "text/html": [
              " View run <strong style=\"color:#cdcd00\">hl_3_sz_32_bs_64_ac_tanh_w_i_random_lr_0.0001_wd_0</strong> at: <a href='https://wandb.ai/3628-pavitrakhare-indian-institute-of-technology-madras/DA6401_ASS-practice/runs/ejy74wer' target=\"_blank\">https://wandb.ai/3628-pavitrakhare-indian-institute-of-technology-madras/DA6401_ASS-practice/runs/ejy74wer</a><br> View project at: <a href='https://wandb.ai/3628-pavitrakhare-indian-institute-of-technology-madras/DA6401_ASS-practice' target=\"_blank\">https://wandb.ai/3628-pavitrakhare-indian-institute-of-technology-madras/DA6401_ASS-practice</a><br>Synced 5 W&B file(s), 0 media file(s), 0 artifact file(s) and 0 other file(s)"
            ],
            "text/plain": [
              "<IPython.core.display.HTML object>"
            ]
          },
          "metadata": {},
          "output_type": "display_data"
        },
        {
          "data": {
            "text/html": [
              "Find logs at: <code>./wandb/run-20250308_223150-ejy74wer/logs</code>"
            ],
            "text/plain": [
              "<IPython.core.display.HTML object>"
            ]
          },
          "metadata": {},
          "output_type": "display_data"
        },
        {
          "name": "stderr",
          "output_type": "stream",
          "text": [
            "\u001b[34m\u001b[1mwandb\u001b[0m: Agent Starting Run: 8k2ol3eh with config:\n",
            "\u001b[34m\u001b[1mwandb\u001b[0m: \ta: sigmoid\n",
            "\u001b[34m\u001b[1mwandb\u001b[0m: \tb: 64\n",
            "\u001b[34m\u001b[1mwandb\u001b[0m: \te: 10\n",
            "\u001b[34m\u001b[1mwandb\u001b[0m: \tlr: 0.0001\n",
            "\u001b[34m\u001b[1mwandb\u001b[0m: \tnlh: 4\n",
            "\u001b[34m\u001b[1mwandb\u001b[0m: \to: nag\n",
            "\u001b[34m\u001b[1mwandb\u001b[0m: \tsz: 64\n",
            "\u001b[34m\u001b[1mwandb\u001b[0m: \tw_d: 0.5\n",
            "\u001b[34m\u001b[1mwandb\u001b[0m: \tw_i: random\n"
          ]
        },
        {
          "data": {
            "text/html": [
              "Ignoring project 'DA6401_ASS-practice' when running a sweep."
            ],
            "text/plain": [
              "<IPython.core.display.HTML object>"
            ]
          },
          "metadata": {},
          "output_type": "display_data"
        },
        {
          "data": {
            "text/html": [
              "Tracking run with wandb version 0.19.7"
            ],
            "text/plain": [
              "<IPython.core.display.HTML object>"
            ]
          },
          "metadata": {},
          "output_type": "display_data"
        },
        {
          "data": {
            "text/html": [
              "Run data is saved locally in <code>/content/wandb/run-20250308_223453-8k2ol3eh</code>"
            ],
            "text/plain": [
              "<IPython.core.display.HTML object>"
            ]
          },
          "metadata": {},
          "output_type": "display_data"
        },
        {
          "data": {
            "text/html": [
              "Syncing run <strong><a href='https://wandb.ai/3628-pavitrakhare-indian-institute-of-technology-madras/DA6401_ASS-practice/runs/8k2ol3eh' target=\"_blank\">rosy-sweep-33</a></strong> to <a href='https://wandb.ai/3628-pavitrakhare-indian-institute-of-technology-madras/DA6401_ASS-practice' target=\"_blank\">Weights & Biases</a> (<a href='https://wandb.me/developer-guide' target=\"_blank\">docs</a>)<br>Sweep page: <a href='https://wandb.ai/3628-pavitrakhare-indian-institute-of-technology-madras/DA6401_ASS-practice/sweeps/nfibwu4x' target=\"_blank\">https://wandb.ai/3628-pavitrakhare-indian-institute-of-technology-madras/DA6401_ASS-practice/sweeps/nfibwu4x</a>"
            ],
            "text/plain": [
              "<IPython.core.display.HTML object>"
            ]
          },
          "metadata": {},
          "output_type": "display_data"
        },
        {
          "data": {
            "text/html": [
              " View project at <a href='https://wandb.ai/3628-pavitrakhare-indian-institute-of-technology-madras/DA6401_ASS-practice' target=\"_blank\">https://wandb.ai/3628-pavitrakhare-indian-institute-of-technology-madras/DA6401_ASS-practice</a>"
            ],
            "text/plain": [
              "<IPython.core.display.HTML object>"
            ]
          },
          "metadata": {},
          "output_type": "display_data"
        },
        {
          "data": {
            "text/html": [
              " View sweep at <a href='https://wandb.ai/3628-pavitrakhare-indian-institute-of-technology-madras/DA6401_ASS-practice/sweeps/nfibwu4x' target=\"_blank\">https://wandb.ai/3628-pavitrakhare-indian-institute-of-technology-madras/DA6401_ASS-practice/sweeps/nfibwu4x</a>"
            ],
            "text/plain": [
              "<IPython.core.display.HTML object>"
            ]
          },
          "metadata": {},
          "output_type": "display_data"
        },
        {
          "data": {
            "text/html": [
              " View run at <a href='https://wandb.ai/3628-pavitrakhare-indian-institute-of-technology-madras/DA6401_ASS-practice/runs/8k2ol3eh' target=\"_blank\">https://wandb.ai/3628-pavitrakhare-indian-institute-of-technology-madras/DA6401_ASS-practice/runs/8k2ol3eh</a>"
            ],
            "text/plain": [
              "<IPython.core.display.HTML object>"
            ]
          },
          "metadata": {},
          "output_type": "display_data"
        },
        {
          "name": "stdout",
          "output_type": "stream",
          "text": [
            "epoch :  1  validation loss :  2.694782734798931\n",
            "epoch :  2  validation loss :  2.452516068731376\n",
            "epoch :  3  validation loss :  2.3029986662464177\n",
            "epoch :  4  validation loss :  2.1827679227577823\n",
            "epoch :  5  validation loss :  2.07924958723303\n",
            "epoch :  6  validation loss :  1.9920943919426959\n",
            "epoch :  7  validation loss :  1.9172377044469555\n",
            "epoch :  8  validation loss :  1.8526235057941398\n",
            "epoch :  9  validation loss :  1.7964726075914252\n",
            "epoch :  10  validation loss :  1.746780659620804\n"
          ]
        },
        {
          "data": {
            "text/html": [],
            "text/plain": [
              "<IPython.core.display.HTML object>"
            ]
          },
          "metadata": {},
          "output_type": "display_data"
        },
        {
          "data": {
            "text/html": [
              "<br>    <style><br>        .wandb-row {<br>            display: flex;<br>            flex-direction: row;<br>            flex-wrap: wrap;<br>            justify-content: flex-start;<br>            width: 100%;<br>        }<br>        .wandb-col {<br>            display: flex;<br>            flex-direction: column;<br>            flex-basis: 100%;<br>            flex: 1;<br>            padding: 10px;<br>        }<br>    </style><br><div class=\"wandb-row\"><div class=\"wandb-col\"><h3>Run history:</h3><br/><table class=\"wandb\"><tr><td>accuracy</td><td>▁▄▆▇▇▇████</td></tr><tr><td>epoch</td><td>▁▂▃▃▄▅▆▆▇█</td></tr><tr><td>loss</td><td>█▅▄▃▃▂▂▂▁▁</td></tr><tr><td>val_accuracy</td><td>▁▅▆▆▇▇▇███</td></tr><tr><td>val_loss</td><td>█▆▅▄▃▃▂▂▁▁</td></tr></table><br/></div><div class=\"wandb-col\"><h3>Run summary:</h3><br/><table class=\"wandb\"><tr><td>accuracy</td><td>0.72645</td></tr><tr><td>epoch</td><td>9</td></tr><tr><td>loss</td><td>1.17487</td></tr><tr><td>val_accuracy</td><td>0.73879</td></tr><tr><td>val_loss</td><td>1.74678</td></tr></table><br/></div></div>"
            ],
            "text/plain": [
              "<IPython.core.display.HTML object>"
            ]
          },
          "metadata": {},
          "output_type": "display_data"
        },
        {
          "data": {
            "text/html": [
              " View run <strong style=\"color:#cdcd00\">hl_4_sz_64_bs_64_ac_sigmoid_w_i_random_lr_0.0001_wd_0.5</strong> at: <a href='https://wandb.ai/3628-pavitrakhare-indian-institute-of-technology-madras/DA6401_ASS-practice/runs/8k2ol3eh' target=\"_blank\">https://wandb.ai/3628-pavitrakhare-indian-institute-of-technology-madras/DA6401_ASS-practice/runs/8k2ol3eh</a><br> View project at: <a href='https://wandb.ai/3628-pavitrakhare-indian-institute-of-technology-madras/DA6401_ASS-practice' target=\"_blank\">https://wandb.ai/3628-pavitrakhare-indian-institute-of-technology-madras/DA6401_ASS-practice</a><br>Synced 5 W&B file(s), 0 media file(s), 0 artifact file(s) and 0 other file(s)"
            ],
            "text/plain": [
              "<IPython.core.display.HTML object>"
            ]
          },
          "metadata": {},
          "output_type": "display_data"
        },
        {
          "data": {
            "text/html": [
              "Find logs at: <code>./wandb/run-20250308_223453-8k2ol3eh/logs</code>"
            ],
            "text/plain": [
              "<IPython.core.display.HTML object>"
            ]
          },
          "metadata": {},
          "output_type": "display_data"
        },
        {
          "name": "stderr",
          "output_type": "stream",
          "text": [
            "\u001b[34m\u001b[1mwandb\u001b[0m: Agent Starting Run: 2t87p857 with config:\n",
            "\u001b[34m\u001b[1mwandb\u001b[0m: \ta: tanh\n",
            "\u001b[34m\u001b[1mwandb\u001b[0m: \tb: 64\n",
            "\u001b[34m\u001b[1mwandb\u001b[0m: \te: 10\n",
            "\u001b[34m\u001b[1mwandb\u001b[0m: \tlr: 0.0001\n",
            "\u001b[34m\u001b[1mwandb\u001b[0m: \tnlh: 5\n",
            "\u001b[34m\u001b[1mwandb\u001b[0m: \to: momentum\n",
            "\u001b[34m\u001b[1mwandb\u001b[0m: \tsz: 32\n",
            "\u001b[34m\u001b[1mwandb\u001b[0m: \tw_d: 0\n",
            "\u001b[34m\u001b[1mwandb\u001b[0m: \tw_i: random\n"
          ]
        },
        {
          "data": {
            "text/html": [
              "Ignoring project 'DA6401_ASS-practice' when running a sweep."
            ],
            "text/plain": [
              "<IPython.core.display.HTML object>"
            ]
          },
          "metadata": {},
          "output_type": "display_data"
        },
        {
          "data": {
            "text/html": [
              "Tracking run with wandb version 0.19.7"
            ],
            "text/plain": [
              "<IPython.core.display.HTML object>"
            ]
          },
          "metadata": {},
          "output_type": "display_data"
        },
        {
          "data": {
            "text/html": [
              "Run data is saved locally in <code>/content/wandb/run-20250308_224028-2t87p857</code>"
            ],
            "text/plain": [
              "<IPython.core.display.HTML object>"
            ]
          },
          "metadata": {},
          "output_type": "display_data"
        },
        {
          "data": {
            "text/html": [
              "Syncing run <strong><a href='https://wandb.ai/3628-pavitrakhare-indian-institute-of-technology-madras/DA6401_ASS-practice/runs/2t87p857' target=\"_blank\">rich-sweep-34</a></strong> to <a href='https://wandb.ai/3628-pavitrakhare-indian-institute-of-technology-madras/DA6401_ASS-practice' target=\"_blank\">Weights & Biases</a> (<a href='https://wandb.me/developer-guide' target=\"_blank\">docs</a>)<br>Sweep page: <a href='https://wandb.ai/3628-pavitrakhare-indian-institute-of-technology-madras/DA6401_ASS-practice/sweeps/nfibwu4x' target=\"_blank\">https://wandb.ai/3628-pavitrakhare-indian-institute-of-technology-madras/DA6401_ASS-practice/sweeps/nfibwu4x</a>"
            ],
            "text/plain": [
              "<IPython.core.display.HTML object>"
            ]
          },
          "metadata": {},
          "output_type": "display_data"
        },
        {
          "data": {
            "text/html": [
              " View project at <a href='https://wandb.ai/3628-pavitrakhare-indian-institute-of-technology-madras/DA6401_ASS-practice' target=\"_blank\">https://wandb.ai/3628-pavitrakhare-indian-institute-of-technology-madras/DA6401_ASS-practice</a>"
            ],
            "text/plain": [
              "<IPython.core.display.HTML object>"
            ]
          },
          "metadata": {},
          "output_type": "display_data"
        },
        {
          "data": {
            "text/html": [
              " View sweep at <a href='https://wandb.ai/3628-pavitrakhare-indian-institute-of-technology-madras/DA6401_ASS-practice/sweeps/nfibwu4x' target=\"_blank\">https://wandb.ai/3628-pavitrakhare-indian-institute-of-technology-madras/DA6401_ASS-practice/sweeps/nfibwu4x</a>"
            ],
            "text/plain": [
              "<IPython.core.display.HTML object>"
            ]
          },
          "metadata": {},
          "output_type": "display_data"
        },
        {
          "data": {
            "text/html": [
              " View run at <a href='https://wandb.ai/3628-pavitrakhare-indian-institute-of-technology-madras/DA6401_ASS-practice/runs/2t87p857' target=\"_blank\">https://wandb.ai/3628-pavitrakhare-indian-institute-of-technology-madras/DA6401_ASS-practice/runs/2t87p857</a>"
            ],
            "text/plain": [
              "<IPython.core.display.HTML object>"
            ]
          },
          "metadata": {},
          "output_type": "display_data"
        },
        {
          "name": "stdout",
          "output_type": "stream",
          "text": [
            "epoch :  1  validation loss :  1.2835962705191202\n",
            "epoch :  2  validation loss :  1.0175638576274983\n",
            "epoch :  3  validation loss :  0.8995288395375772\n",
            "epoch :  4  validation loss :  0.8244544248750327\n",
            "epoch :  5  validation loss :  0.779342590868847\n",
            "epoch :  6  validation loss :  0.7477589145962241\n",
            "epoch :  7  validation loss :  0.717153014781551\n",
            "epoch :  8  validation loss :  0.694400762826002\n",
            "epoch :  9  validation loss :  0.6751082458941727\n",
            "epoch :  10  validation loss :  0.658556373862514\n"
          ]
        },
        {
          "data": {
            "text/html": [],
            "text/plain": [
              "<IPython.core.display.HTML object>"
            ]
          },
          "metadata": {},
          "output_type": "display_data"
        },
        {
          "data": {
            "text/html": [
              "<br>    <style><br>        .wandb-row {<br>            display: flex;<br>            flex-direction: row;<br>            flex-wrap: wrap;<br>            justify-content: flex-start;<br>            width: 100%;<br>        }<br>        .wandb-col {<br>            display: flex;<br>            flex-direction: column;<br>            flex-basis: 100%;<br>            flex: 1;<br>            padding: 10px;<br>        }<br>    </style><br><div class=\"wandb-row\"><div class=\"wandb-col\"><h3>Run history:</h3><br/><table class=\"wandb\"><tr><td>accuracy</td><td>▁▅▆▇▇▇████</td></tr><tr><td>epoch</td><td>▁▂▃▃▄▅▆▆▇█</td></tr><tr><td>loss</td><td>█▄▃▂▂▂▁▁▁▁</td></tr><tr><td>val_accuracy</td><td>▁▄▅▆▇▇▇███</td></tr><tr><td>val_loss</td><td>█▅▄▃▂▂▂▁▁▁</td></tr></table><br/></div><div class=\"wandb-col\"><h3>Run summary:</h3><br/><table class=\"wandb\"><tr><td>accuracy</td><td>0.77179</td></tr><tr><td>epoch</td><td>9</td></tr><tr><td>loss</td><td>0.64543</td></tr><tr><td>val_accuracy</td><td>0.76172</td></tr><tr><td>val_loss</td><td>0.65856</td></tr></table><br/></div></div>"
            ],
            "text/plain": [
              "<IPython.core.display.HTML object>"
            ]
          },
          "metadata": {},
          "output_type": "display_data"
        },
        {
          "data": {
            "text/html": [
              " View run <strong style=\"color:#cdcd00\">hl_5_sz_32_bs_64_ac_tanh_w_i_random_lr_0.0001_wd_0</strong> at: <a href='https://wandb.ai/3628-pavitrakhare-indian-institute-of-technology-madras/DA6401_ASS-practice/runs/2t87p857' target=\"_blank\">https://wandb.ai/3628-pavitrakhare-indian-institute-of-technology-madras/DA6401_ASS-practice/runs/2t87p857</a><br> View project at: <a href='https://wandb.ai/3628-pavitrakhare-indian-institute-of-technology-madras/DA6401_ASS-practice' target=\"_blank\">https://wandb.ai/3628-pavitrakhare-indian-institute-of-technology-madras/DA6401_ASS-practice</a><br>Synced 5 W&B file(s), 0 media file(s), 0 artifact file(s) and 0 other file(s)"
            ],
            "text/plain": [
              "<IPython.core.display.HTML object>"
            ]
          },
          "metadata": {},
          "output_type": "display_data"
        },
        {
          "data": {
            "text/html": [
              "Find logs at: <code>./wandb/run-20250308_224028-2t87p857/logs</code>"
            ],
            "text/plain": [
              "<IPython.core.display.HTML object>"
            ]
          },
          "metadata": {},
          "output_type": "display_data"
        },
        {
          "name": "stderr",
          "output_type": "stream",
          "text": [
            "\u001b[34m\u001b[1mwandb\u001b[0m: Agent Starting Run: 4egg48n1 with config:\n",
            "\u001b[34m\u001b[1mwandb\u001b[0m: \ta: tanh\n",
            "\u001b[34m\u001b[1mwandb\u001b[0m: \tb: 64\n",
            "\u001b[34m\u001b[1mwandb\u001b[0m: \te: 10\n",
            "\u001b[34m\u001b[1mwandb\u001b[0m: \tlr: 0.0001\n",
            "\u001b[34m\u001b[1mwandb\u001b[0m: \tnlh: 5\n",
            "\u001b[34m\u001b[1mwandb\u001b[0m: \to: momentum\n",
            "\u001b[34m\u001b[1mwandb\u001b[0m: \tsz: 64\n",
            "\u001b[34m\u001b[1mwandb\u001b[0m: \tw_d: 0.0005\n",
            "\u001b[34m\u001b[1mwandb\u001b[0m: \tw_i: Xavier\n"
          ]
        },
        {
          "data": {
            "text/html": [
              "Ignoring project 'DA6401_ASS-practice' when running a sweep."
            ],
            "text/plain": [
              "<IPython.core.display.HTML object>"
            ]
          },
          "metadata": {},
          "output_type": "display_data"
        },
        {
          "data": {
            "text/html": [
              "Tracking run with wandb version 0.19.7"
            ],
            "text/plain": [
              "<IPython.core.display.HTML object>"
            ]
          },
          "metadata": {},
          "output_type": "display_data"
        },
        {
          "data": {
            "text/html": [
              "Run data is saved locally in <code>/content/wandb/run-20250308_224437-4egg48n1</code>"
            ],
            "text/plain": [
              "<IPython.core.display.HTML object>"
            ]
          },
          "metadata": {},
          "output_type": "display_data"
        },
        {
          "data": {
            "text/html": [
              "Syncing run <strong><a href='https://wandb.ai/3628-pavitrakhare-indian-institute-of-technology-madras/DA6401_ASS-practice/runs/4egg48n1' target=\"_blank\">logical-sweep-35</a></strong> to <a href='https://wandb.ai/3628-pavitrakhare-indian-institute-of-technology-madras/DA6401_ASS-practice' target=\"_blank\">Weights & Biases</a> (<a href='https://wandb.me/developer-guide' target=\"_blank\">docs</a>)<br>Sweep page: <a href='https://wandb.ai/3628-pavitrakhare-indian-institute-of-technology-madras/DA6401_ASS-practice/sweeps/nfibwu4x' target=\"_blank\">https://wandb.ai/3628-pavitrakhare-indian-institute-of-technology-madras/DA6401_ASS-practice/sweeps/nfibwu4x</a>"
            ],
            "text/plain": [
              "<IPython.core.display.HTML object>"
            ]
          },
          "metadata": {},
          "output_type": "display_data"
        },
        {
          "data": {
            "text/html": [
              " View project at <a href='https://wandb.ai/3628-pavitrakhare-indian-institute-of-technology-madras/DA6401_ASS-practice' target=\"_blank\">https://wandb.ai/3628-pavitrakhare-indian-institute-of-technology-madras/DA6401_ASS-practice</a>"
            ],
            "text/plain": [
              "<IPython.core.display.HTML object>"
            ]
          },
          "metadata": {},
          "output_type": "display_data"
        },
        {
          "data": {
            "text/html": [
              " View sweep at <a href='https://wandb.ai/3628-pavitrakhare-indian-institute-of-technology-madras/DA6401_ASS-practice/sweeps/nfibwu4x' target=\"_blank\">https://wandb.ai/3628-pavitrakhare-indian-institute-of-technology-madras/DA6401_ASS-practice/sweeps/nfibwu4x</a>"
            ],
            "text/plain": [
              "<IPython.core.display.HTML object>"
            ]
          },
          "metadata": {},
          "output_type": "display_data"
        },
        {
          "data": {
            "text/html": [
              " View run at <a href='https://wandb.ai/3628-pavitrakhare-indian-institute-of-technology-madras/DA6401_ASS-practice/runs/4egg48n1' target=\"_blank\">https://wandb.ai/3628-pavitrakhare-indian-institute-of-technology-madras/DA6401_ASS-practice/runs/4egg48n1</a>"
            ],
            "text/plain": [
              "<IPython.core.display.HTML object>"
            ]
          },
          "metadata": {},
          "output_type": "display_data"
        },
        {
          "name": "stdout",
          "output_type": "stream",
          "text": [
            "epoch :  1  validation loss :  0.8293040493002984\n",
            "epoch :  2  validation loss :  0.6558865950066746\n",
            "epoch :  3  validation loss :  0.5704593671450882\n",
            "epoch :  4  validation loss :  0.5197381099910752\n",
            "epoch :  5  validation loss :  0.48605448344969204\n",
            "epoch :  6  validation loss :  0.46196782026133976\n",
            "epoch :  7  validation loss :  0.44379787136512516\n",
            "epoch :  8  validation loss :  0.42951987208725095\n",
            "epoch :  9  validation loss :  0.4179665162182352\n",
            "epoch :  10  validation loss :  0.40841059605755353\n"
          ]
        },
        {
          "data": {
            "text/html": [],
            "text/plain": [
              "<IPython.core.display.HTML object>"
            ]
          },
          "metadata": {},
          "output_type": "display_data"
        },
        {
          "data": {
            "text/html": [
              "<br>    <style><br>        .wandb-row {<br>            display: flex;<br>            flex-direction: row;<br>            flex-wrap: wrap;<br>            justify-content: flex-start;<br>            width: 100%;<br>        }<br>        .wandb-col {<br>            display: flex;<br>            flex-direction: column;<br>            flex-basis: 100%;<br>            flex: 1;<br>            padding: 10px;<br>        }<br>    </style><br><div class=\"wandb-row\"><div class=\"wandb-col\"><h3>Run history:</h3><br/><table class=\"wandb\"><tr><td>accuracy</td><td>▁▅▆▇▇▇▇███</td></tr><tr><td>epoch</td><td>▁▂▃▃▄▅▆▆▇█</td></tr><tr><td>loss</td><td>█▄▃▂▂▂▁▁▁▁</td></tr><tr><td>val_accuracy</td><td>▁▃▅▆▆▇▇▇██</td></tr><tr><td>val_loss</td><td>█▅▄▃▂▂▂▁▁▁</td></tr></table><br/></div><div class=\"wandb-col\"><h3>Run summary:</h3><br/><table class=\"wandb\"><tr><td>accuracy</td><td>0.87248</td></tr><tr><td>epoch</td><td>9</td></tr><tr><td>loss</td><td>0.39057</td></tr><tr><td>val_accuracy</td><td>0.86396</td></tr><tr><td>val_loss</td><td>0.40841</td></tr></table><br/></div></div>"
            ],
            "text/plain": [
              "<IPython.core.display.HTML object>"
            ]
          },
          "metadata": {},
          "output_type": "display_data"
        },
        {
          "data": {
            "text/html": [
              " View run <strong style=\"color:#cdcd00\">hl_5_sz_64_bs_64_ac_tanh_w_i_Xavier_lr_0.0001_wd_0.0005</strong> at: <a href='https://wandb.ai/3628-pavitrakhare-indian-institute-of-technology-madras/DA6401_ASS-practice/runs/4egg48n1' target=\"_blank\">https://wandb.ai/3628-pavitrakhare-indian-institute-of-technology-madras/DA6401_ASS-practice/runs/4egg48n1</a><br> View project at: <a href='https://wandb.ai/3628-pavitrakhare-indian-institute-of-technology-madras/DA6401_ASS-practice' target=\"_blank\">https://wandb.ai/3628-pavitrakhare-indian-institute-of-technology-madras/DA6401_ASS-practice</a><br>Synced 5 W&B file(s), 0 media file(s), 0 artifact file(s) and 0 other file(s)"
            ],
            "text/plain": [
              "<IPython.core.display.HTML object>"
            ]
          },
          "metadata": {},
          "output_type": "display_data"
        },
        {
          "data": {
            "text/html": [
              "Find logs at: <code>./wandb/run-20250308_224437-4egg48n1/logs</code>"
            ],
            "text/plain": [
              "<IPython.core.display.HTML object>"
            ]
          },
          "metadata": {},
          "output_type": "display_data"
        },
        {
          "name": "stderr",
          "output_type": "stream",
          "text": [
            "\u001b[34m\u001b[1mwandb\u001b[0m: Agent Starting Run: z5bw0934 with config:\n",
            "\u001b[34m\u001b[1mwandb\u001b[0m: \ta: tanh\n",
            "\u001b[34m\u001b[1mwandb\u001b[0m: \tb: 64\n",
            "\u001b[34m\u001b[1mwandb\u001b[0m: \te: 10\n",
            "\u001b[34m\u001b[1mwandb\u001b[0m: \tlr: 0.001\n",
            "\u001b[34m\u001b[1mwandb\u001b[0m: \tnlh: 4\n",
            "\u001b[34m\u001b[1mwandb\u001b[0m: \to: adam\n",
            "\u001b[34m\u001b[1mwandb\u001b[0m: \tsz: 128\n",
            "\u001b[34m\u001b[1mwandb\u001b[0m: \tw_d: 0.0005\n",
            "\u001b[34m\u001b[1mwandb\u001b[0m: \tw_i: random\n"
          ]
        },
        {
          "data": {
            "text/html": [
              "Ignoring project 'DA6401_ASS-practice' when running a sweep."
            ],
            "text/plain": [
              "<IPython.core.display.HTML object>"
            ]
          },
          "metadata": {},
          "output_type": "display_data"
        },
        {
          "data": {
            "text/html": [
              "Tracking run with wandb version 0.19.7"
            ],
            "text/plain": [
              "<IPython.core.display.HTML object>"
            ]
          },
          "metadata": {},
          "output_type": "display_data"
        },
        {
          "data": {
            "text/html": [
              "Run data is saved locally in <code>/content/wandb/run-20250308_225133-z5bw0934</code>"
            ],
            "text/plain": [
              "<IPython.core.display.HTML object>"
            ]
          },
          "metadata": {},
          "output_type": "display_data"
        },
        {
          "data": {
            "text/html": [
              "Syncing run <strong><a href='https://wandb.ai/3628-pavitrakhare-indian-institute-of-technology-madras/DA6401_ASS-practice/runs/z5bw0934' target=\"_blank\">elated-sweep-36</a></strong> to <a href='https://wandb.ai/3628-pavitrakhare-indian-institute-of-technology-madras/DA6401_ASS-practice' target=\"_blank\">Weights & Biases</a> (<a href='https://wandb.me/developer-guide' target=\"_blank\">docs</a>)<br>Sweep page: <a href='https://wandb.ai/3628-pavitrakhare-indian-institute-of-technology-madras/DA6401_ASS-practice/sweeps/nfibwu4x' target=\"_blank\">https://wandb.ai/3628-pavitrakhare-indian-institute-of-technology-madras/DA6401_ASS-practice/sweeps/nfibwu4x</a>"
            ],
            "text/plain": [
              "<IPython.core.display.HTML object>"
            ]
          },
          "metadata": {},
          "output_type": "display_data"
        },
        {
          "data": {
            "text/html": [
              " View project at <a href='https://wandb.ai/3628-pavitrakhare-indian-institute-of-technology-madras/DA6401_ASS-practice' target=\"_blank\">https://wandb.ai/3628-pavitrakhare-indian-institute-of-technology-madras/DA6401_ASS-practice</a>"
            ],
            "text/plain": [
              "<IPython.core.display.HTML object>"
            ]
          },
          "metadata": {},
          "output_type": "display_data"
        },
        {
          "data": {
            "text/html": [
              " View sweep at <a href='https://wandb.ai/3628-pavitrakhare-indian-institute-of-technology-madras/DA6401_ASS-practice/sweeps/nfibwu4x' target=\"_blank\">https://wandb.ai/3628-pavitrakhare-indian-institute-of-technology-madras/DA6401_ASS-practice/sweeps/nfibwu4x</a>"
            ],
            "text/plain": [
              "<IPython.core.display.HTML object>"
            ]
          },
          "metadata": {},
          "output_type": "display_data"
        },
        {
          "data": {
            "text/html": [
              " View run at <a href='https://wandb.ai/3628-pavitrakhare-indian-institute-of-technology-madras/DA6401_ASS-practice/runs/z5bw0934' target=\"_blank\">https://wandb.ai/3628-pavitrakhare-indian-institute-of-technology-madras/DA6401_ASS-practice/runs/z5bw0934</a>"
            ],
            "text/plain": [
              "<IPython.core.display.HTML object>"
            ]
          },
          "metadata": {},
          "output_type": "display_data"
        },
        {
          "name": "stdout",
          "output_type": "stream",
          "text": [
            "epoch :  1  validation loss :  0.9686696371871006\n",
            "epoch :  2  validation loss :  0.7419988190765868\n",
            "epoch :  3  validation loss :  0.6573094963345621\n",
            "epoch :  4  validation loss :  0.612762013028252\n",
            "epoch :  5  validation loss :  0.5779959782581896\n",
            "epoch :  6  validation loss :  0.5499148955336556\n",
            "epoch :  7  validation loss :  0.5334610464688481\n",
            "epoch :  8  validation loss :  0.5015193452525991\n",
            "epoch :  9  validation loss :  0.49239131638160427\n",
            "epoch :  10  validation loss :  0.5080933898228058\n"
          ]
        },
        {
          "data": {
            "text/html": [],
            "text/plain": [
              "<IPython.core.display.HTML object>"
            ]
          },
          "metadata": {},
          "output_type": "display_data"
        },
        {
          "data": {
            "text/html": [
              "<br>    <style><br>        .wandb-row {<br>            display: flex;<br>            flex-direction: row;<br>            flex-wrap: wrap;<br>            justify-content: flex-start;<br>            width: 100%;<br>        }<br>        .wandb-col {<br>            display: flex;<br>            flex-direction: column;<br>            flex-basis: 100%;<br>            flex: 1;<br>            padding: 10px;<br>        }<br>    </style><br><div class=\"wandb-row\"><div class=\"wandb-col\"><h3>Run history:</h3><br/><table class=\"wandb\"><tr><td>accuracy</td><td>▁▅▆▇▇▇▇███</td></tr><tr><td>epoch</td><td>▁▂▃▃▄▅▆▆▇█</td></tr><tr><td>loss</td><td>█▃▂▂▂▁▁▁▁▁</td></tr><tr><td>val_accuracy</td><td>▁▄▅▆▇▇▇▇██</td></tr><tr><td>val_loss</td><td>█▅▃▃▂▂▂▁▁▁</td></tr></table><br/></div><div class=\"wandb-col\"><h3>Run summary:</h3><br/><table class=\"wandb\"><tr><td>accuracy</td><td>0.8374</td></tr><tr><td>epoch</td><td>9</td></tr><tr><td>loss</td><td>0.44915</td></tr><tr><td>val_accuracy</td><td>0.82507</td></tr><tr><td>val_loss</td><td>0.50809</td></tr></table><br/></div></div>"
            ],
            "text/plain": [
              "<IPython.core.display.HTML object>"
            ]
          },
          "metadata": {},
          "output_type": "display_data"
        },
        {
          "data": {
            "text/html": [
              " View run <strong style=\"color:#cdcd00\">hl_4_sz_128_bs_64_ac_tanh_w_i_random_lr_0.001_wd_0.0005</strong> at: <a href='https://wandb.ai/3628-pavitrakhare-indian-institute-of-technology-madras/DA6401_ASS-practice/runs/z5bw0934' target=\"_blank\">https://wandb.ai/3628-pavitrakhare-indian-institute-of-technology-madras/DA6401_ASS-practice/runs/z5bw0934</a><br> View project at: <a href='https://wandb.ai/3628-pavitrakhare-indian-institute-of-technology-madras/DA6401_ASS-practice' target=\"_blank\">https://wandb.ai/3628-pavitrakhare-indian-institute-of-technology-madras/DA6401_ASS-practice</a><br>Synced 5 W&B file(s), 0 media file(s), 0 artifact file(s) and 0 other file(s)"
            ],
            "text/plain": [
              "<IPython.core.display.HTML object>"
            ]
          },
          "metadata": {},
          "output_type": "display_data"
        },
        {
          "data": {
            "text/html": [
              "Find logs at: <code>./wandb/run-20250308_225133-z5bw0934/logs</code>"
            ],
            "text/plain": [
              "<IPython.core.display.HTML object>"
            ]
          },
          "metadata": {},
          "output_type": "display_data"
        },
        {
          "name": "stderr",
          "output_type": "stream",
          "text": [
            "\u001b[34m\u001b[1mwandb\u001b[0m: Agent Starting Run: qxlwq6mn with config:\n",
            "\u001b[34m\u001b[1mwandb\u001b[0m: \ta: ReLU\n",
            "\u001b[34m\u001b[1mwandb\u001b[0m: \tb: 16\n",
            "\u001b[34m\u001b[1mwandb\u001b[0m: \te: 10\n",
            "\u001b[34m\u001b[1mwandb\u001b[0m: \tlr: 0.0001\n",
            "\u001b[34m\u001b[1mwandb\u001b[0m: \tnlh: 4\n",
            "\u001b[34m\u001b[1mwandb\u001b[0m: \to: sgd\n",
            "\u001b[34m\u001b[1mwandb\u001b[0m: \tsz: 32\n",
            "\u001b[34m\u001b[1mwandb\u001b[0m: \tw_d: 0.0005\n",
            "\u001b[34m\u001b[1mwandb\u001b[0m: \tw_i: random\n"
          ]
        },
        {
          "data": {
            "text/html": [
              "Ignoring project 'DA6401_ASS-practice' when running a sweep."
            ],
            "text/plain": [
              "<IPython.core.display.HTML object>"
            ]
          },
          "metadata": {},
          "output_type": "display_data"
        },
        {
          "data": {
            "text/html": [
              "Tracking run with wandb version 0.19.7"
            ],
            "text/plain": [
              "<IPython.core.display.HTML object>"
            ]
          },
          "metadata": {},
          "output_type": "display_data"
        },
        {
          "data": {
            "text/html": [
              "Run data is saved locally in <code>/content/wandb/run-20250308_230223-qxlwq6mn</code>"
            ],
            "text/plain": [
              "<IPython.core.display.HTML object>"
            ]
          },
          "metadata": {},
          "output_type": "display_data"
        },
        {
          "data": {
            "text/html": [
              "Syncing run <strong><a href='https://wandb.ai/3628-pavitrakhare-indian-institute-of-technology-madras/DA6401_ASS-practice/runs/qxlwq6mn' target=\"_blank\">sweepy-sweep-37</a></strong> to <a href='https://wandb.ai/3628-pavitrakhare-indian-institute-of-technology-madras/DA6401_ASS-practice' target=\"_blank\">Weights & Biases</a> (<a href='https://wandb.me/developer-guide' target=\"_blank\">docs</a>)<br>Sweep page: <a href='https://wandb.ai/3628-pavitrakhare-indian-institute-of-technology-madras/DA6401_ASS-practice/sweeps/nfibwu4x' target=\"_blank\">https://wandb.ai/3628-pavitrakhare-indian-institute-of-technology-madras/DA6401_ASS-practice/sweeps/nfibwu4x</a>"
            ],
            "text/plain": [
              "<IPython.core.display.HTML object>"
            ]
          },
          "metadata": {},
          "output_type": "display_data"
        },
        {
          "data": {
            "text/html": [
              " View project at <a href='https://wandb.ai/3628-pavitrakhare-indian-institute-of-technology-madras/DA6401_ASS-practice' target=\"_blank\">https://wandb.ai/3628-pavitrakhare-indian-institute-of-technology-madras/DA6401_ASS-practice</a>"
            ],
            "text/plain": [
              "<IPython.core.display.HTML object>"
            ]
          },
          "metadata": {},
          "output_type": "display_data"
        },
        {
          "data": {
            "text/html": [
              " View sweep at <a href='https://wandb.ai/3628-pavitrakhare-indian-institute-of-technology-madras/DA6401_ASS-practice/sweeps/nfibwu4x' target=\"_blank\">https://wandb.ai/3628-pavitrakhare-indian-institute-of-technology-madras/DA6401_ASS-practice/sweeps/nfibwu4x</a>"
            ],
            "text/plain": [
              "<IPython.core.display.HTML object>"
            ]
          },
          "metadata": {},
          "output_type": "display_data"
        },
        {
          "data": {
            "text/html": [
              " View run at <a href='https://wandb.ai/3628-pavitrakhare-indian-institute-of-technology-madras/DA6401_ASS-practice/runs/qxlwq6mn' target=\"_blank\">https://wandb.ai/3628-pavitrakhare-indian-institute-of-technology-madras/DA6401_ASS-practice/runs/qxlwq6mn</a>"
            ],
            "text/plain": [
              "<IPython.core.display.HTML object>"
            ]
          },
          "metadata": {},
          "output_type": "display_data"
        },
        {
          "name": "stdout",
          "output_type": "stream",
          "text": [
            "epoch :  1  validation loss :  2.2037121165204243\n",
            "epoch :  2  validation loss :  1.6871205073774496\n",
            "epoch :  3  validation loss :  1.4807654990538268\n",
            "epoch :  4  validation loss :  1.3687385473867675\n",
            "epoch :  5  validation loss :  1.2809110623996554\n",
            "epoch :  6  validation loss :  1.2134466382112752\n",
            "epoch :  7  validation loss :  1.162222187108589\n",
            "epoch :  8  validation loss :  1.119717420428478\n",
            "epoch :  9  validation loss :  1.0808857227790578\n",
            "epoch :  10  validation loss :  1.0486899418780093\n"
          ]
        },
        {
          "data": {
            "text/html": [],
            "text/plain": [
              "<IPython.core.display.HTML object>"
            ]
          },
          "metadata": {},
          "output_type": "display_data"
        },
        {
          "data": {
            "text/html": [
              "<br>    <style><br>        .wandb-row {<br>            display: flex;<br>            flex-direction: row;<br>            flex-wrap: wrap;<br>            justify-content: flex-start;<br>            width: 100%;<br>        }<br>        .wandb-col {<br>            display: flex;<br>            flex-direction: column;<br>            flex-basis: 100%;<br>            flex: 1;<br>            padding: 10px;<br>        }<br>    </style><br><div class=\"wandb-row\"><div class=\"wandb-col\"><h3>Run history:</h3><br/><table class=\"wandb\"><tr><td>accuracy</td><td>▁▄▅▆▇▇▇███</td></tr><tr><td>epoch</td><td>▁▂▃▃▄▅▆▆▇█</td></tr><tr><td>loss</td><td>█▃▂▂▂▁▁▁▁▁</td></tr><tr><td>val_accuracy</td><td>▁▄▆▆▇▇▇███</td></tr><tr><td>val_loss</td><td>█▅▄▃▂▂▂▁▁▁</td></tr></table><br/></div><div class=\"wandb-col\"><h3>Run summary:</h3><br/><table class=\"wandb\"><tr><td>accuracy</td><td>0.67</td></tr><tr><td>epoch</td><td>9</td></tr><tr><td>loss</td><td>1.03214</td></tr><tr><td>val_accuracy</td><td>0.67018</td></tr><tr><td>val_loss</td><td>1.04869</td></tr></table><br/></div></div>"
            ],
            "text/plain": [
              "<IPython.core.display.HTML object>"
            ]
          },
          "metadata": {},
          "output_type": "display_data"
        },
        {
          "data": {
            "text/html": [
              " View run <strong style=\"color:#cdcd00\">hl_4_sz_32_bs_16_ac_ReLU_w_i_random_lr_0.0001_wd_0.0005</strong> at: <a href='https://wandb.ai/3628-pavitrakhare-indian-institute-of-technology-madras/DA6401_ASS-practice/runs/qxlwq6mn' target=\"_blank\">https://wandb.ai/3628-pavitrakhare-indian-institute-of-technology-madras/DA6401_ASS-practice/runs/qxlwq6mn</a><br> View project at: <a href='https://wandb.ai/3628-pavitrakhare-indian-institute-of-technology-madras/DA6401_ASS-practice' target=\"_blank\">https://wandb.ai/3628-pavitrakhare-indian-institute-of-technology-madras/DA6401_ASS-practice</a><br>Synced 5 W&B file(s), 0 media file(s), 0 artifact file(s) and 0 other file(s)"
            ],
            "text/plain": [
              "<IPython.core.display.HTML object>"
            ]
          },
          "metadata": {},
          "output_type": "display_data"
        },
        {
          "data": {
            "text/html": [
              "Find logs at: <code>./wandb/run-20250308_230223-qxlwq6mn/logs</code>"
            ],
            "text/plain": [
              "<IPython.core.display.HTML object>"
            ]
          },
          "metadata": {},
          "output_type": "display_data"
        },
        {
          "name": "stderr",
          "output_type": "stream",
          "text": [
            "\u001b[34m\u001b[1mwandb\u001b[0m: Agent Starting Run: t80hnsks with config:\n",
            "\u001b[34m\u001b[1mwandb\u001b[0m: \ta: tanh\n",
            "\u001b[34m\u001b[1mwandb\u001b[0m: \tb: 64\n",
            "\u001b[34m\u001b[1mwandb\u001b[0m: \te: 10\n",
            "\u001b[34m\u001b[1mwandb\u001b[0m: \tlr: 0.0001\n",
            "\u001b[34m\u001b[1mwandb\u001b[0m: \tnlh: 5\n",
            "\u001b[34m\u001b[1mwandb\u001b[0m: \to: rmsprop\n",
            "\u001b[34m\u001b[1mwandb\u001b[0m: \tsz: 128\n",
            "\u001b[34m\u001b[1mwandb\u001b[0m: \tw_d: 0.0005\n",
            "\u001b[34m\u001b[1mwandb\u001b[0m: \tw_i: Xavier\n"
          ]
        },
        {
          "data": {
            "text/html": [
              "Ignoring project 'DA6401_ASS-practice' when running a sweep."
            ],
            "text/plain": [
              "<IPython.core.display.HTML object>"
            ]
          },
          "metadata": {},
          "output_type": "display_data"
        },
        {
          "data": {
            "text/html": [
              "Tracking run with wandb version 0.19.7"
            ],
            "text/plain": [
              "<IPython.core.display.HTML object>"
            ]
          },
          "metadata": {},
          "output_type": "display_data"
        },
        {
          "data": {
            "text/html": [
              "Run data is saved locally in <code>/content/wandb/run-20250308_230611-t80hnsks</code>"
            ],
            "text/plain": [
              "<IPython.core.display.HTML object>"
            ]
          },
          "metadata": {},
          "output_type": "display_data"
        },
        {
          "data": {
            "text/html": [
              "Syncing run <strong><a href='https://wandb.ai/3628-pavitrakhare-indian-institute-of-technology-madras/DA6401_ASS-practice/runs/t80hnsks' target=\"_blank\">young-sweep-38</a></strong> to <a href='https://wandb.ai/3628-pavitrakhare-indian-institute-of-technology-madras/DA6401_ASS-practice' target=\"_blank\">Weights & Biases</a> (<a href='https://wandb.me/developer-guide' target=\"_blank\">docs</a>)<br>Sweep page: <a href='https://wandb.ai/3628-pavitrakhare-indian-institute-of-technology-madras/DA6401_ASS-practice/sweeps/nfibwu4x' target=\"_blank\">https://wandb.ai/3628-pavitrakhare-indian-institute-of-technology-madras/DA6401_ASS-practice/sweeps/nfibwu4x</a>"
            ],
            "text/plain": [
              "<IPython.core.display.HTML object>"
            ]
          },
          "metadata": {},
          "output_type": "display_data"
        },
        {
          "data": {
            "text/html": [
              " View project at <a href='https://wandb.ai/3628-pavitrakhare-indian-institute-of-technology-madras/DA6401_ASS-practice' target=\"_blank\">https://wandb.ai/3628-pavitrakhare-indian-institute-of-technology-madras/DA6401_ASS-practice</a>"
            ],
            "text/plain": [
              "<IPython.core.display.HTML object>"
            ]
          },
          "metadata": {},
          "output_type": "display_data"
        },
        {
          "data": {
            "text/html": [
              " View sweep at <a href='https://wandb.ai/3628-pavitrakhare-indian-institute-of-technology-madras/DA6401_ASS-practice/sweeps/nfibwu4x' target=\"_blank\">https://wandb.ai/3628-pavitrakhare-indian-institute-of-technology-madras/DA6401_ASS-practice/sweeps/nfibwu4x</a>"
            ],
            "text/plain": [
              "<IPython.core.display.HTML object>"
            ]
          },
          "metadata": {},
          "output_type": "display_data"
        },
        {
          "data": {
            "text/html": [
              " View run at <a href='https://wandb.ai/3628-pavitrakhare-indian-institute-of-technology-madras/DA6401_ASS-practice/runs/t80hnsks' target=\"_blank\">https://wandb.ai/3628-pavitrakhare-indian-institute-of-technology-madras/DA6401_ASS-practice/runs/t80hnsks</a>"
            ],
            "text/plain": [
              "<IPython.core.display.HTML object>"
            ]
          },
          "metadata": {},
          "output_type": "display_data"
        },
        {
          "name": "stdout",
          "output_type": "stream",
          "text": [
            "epoch :  1  validation loss :  0.5793132935105756\n",
            "epoch :  2  validation loss :  0.48375518090125086\n",
            "epoch :  3  validation loss :  0.4454388091002432\n",
            "epoch :  4  validation loss :  0.42326542868896905\n",
            "epoch :  5  validation loss :  0.4082224719753466\n",
            "epoch :  6  validation loss :  0.39706809424351003\n",
            "epoch :  7  validation loss :  0.3882892934427847\n",
            "epoch :  8  validation loss :  0.3810834555095366\n",
            "epoch :  9  validation loss :  0.3749944816712886\n",
            "epoch :  10  validation loss :  0.36974435359089136\n"
          ]
        },
        {
          "data": {
            "text/html": [],
            "text/plain": [
              "<IPython.core.display.HTML object>"
            ]
          },
          "metadata": {},
          "output_type": "display_data"
        },
        {
          "data": {
            "text/html": [
              "<br>    <style><br>        .wandb-row {<br>            display: flex;<br>            flex-direction: row;<br>            flex-wrap: wrap;<br>            justify-content: flex-start;<br>            width: 100%;<br>        }<br>        .wandb-col {<br>            display: flex;<br>            flex-direction: column;<br>            flex-basis: 100%;<br>            flex: 1;<br>            padding: 10px;<br>        }<br>    </style><br><div class=\"wandb-row\"><div class=\"wandb-col\"><h3>Run history:</h3><br/><table class=\"wandb\"><tr><td>accuracy</td><td>▁▅▆▇▇▇▇███</td></tr><tr><td>epoch</td><td>▁▂▃▃▄▅▆▆▇█</td></tr><tr><td>loss</td><td>█▃▃▂▂▂▁▁▁▁</td></tr><tr><td>val_accuracy</td><td>▁▄▆▆▇▇▇▇██</td></tr><tr><td>val_loss</td><td>█▅▄▃▂▂▂▁▁▁</td></tr></table><br/></div><div class=\"wandb-col\"><h3>Run summary:</h3><br/><table class=\"wandb\"><tr><td>accuracy</td><td>0.87784</td></tr><tr><td>epoch</td><td>9</td></tr><tr><td>loss</td><td>0.34327</td></tr><tr><td>val_accuracy</td><td>0.86379</td></tr><tr><td>val_loss</td><td>0.36974</td></tr></table><br/></div></div>"
            ],
            "text/plain": [
              "<IPython.core.display.HTML object>"
            ]
          },
          "metadata": {},
          "output_type": "display_data"
        },
        {
          "data": {
            "text/html": [
              " View run <strong style=\"color:#cdcd00\">hl_5_sz_128_bs_64_ac_tanh_w_i_Xavier_lr_0.0001_wd_0.0005</strong> at: <a href='https://wandb.ai/3628-pavitrakhare-indian-institute-of-technology-madras/DA6401_ASS-practice/runs/t80hnsks' target=\"_blank\">https://wandb.ai/3628-pavitrakhare-indian-institute-of-technology-madras/DA6401_ASS-practice/runs/t80hnsks</a><br> View project at: <a href='https://wandb.ai/3628-pavitrakhare-indian-institute-of-technology-madras/DA6401_ASS-practice' target=\"_blank\">https://wandb.ai/3628-pavitrakhare-indian-institute-of-technology-madras/DA6401_ASS-practice</a><br>Synced 5 W&B file(s), 0 media file(s), 0 artifact file(s) and 0 other file(s)"
            ],
            "text/plain": [
              "<IPython.core.display.HTML object>"
            ]
          },
          "metadata": {},
          "output_type": "display_data"
        },
        {
          "data": {
            "text/html": [
              "Find logs at: <code>./wandb/run-20250308_230611-t80hnsks/logs</code>"
            ],
            "text/plain": [
              "<IPython.core.display.HTML object>"
            ]
          },
          "metadata": {},
          "output_type": "display_data"
        },
        {
          "name": "stderr",
          "output_type": "stream",
          "text": [
            "\u001b[34m\u001b[1mwandb\u001b[0m: Agent Starting Run: a6alcpe9 with config:\n",
            "\u001b[34m\u001b[1mwandb\u001b[0m: \ta: tanh\n",
            "\u001b[34m\u001b[1mwandb\u001b[0m: \tb: 32\n",
            "\u001b[34m\u001b[1mwandb\u001b[0m: \te: 10\n",
            "\u001b[34m\u001b[1mwandb\u001b[0m: \tlr: 0.001\n",
            "\u001b[34m\u001b[1mwandb\u001b[0m: \tnlh: 5\n",
            "\u001b[34m\u001b[1mwandb\u001b[0m: \to: nadam\n",
            "\u001b[34m\u001b[1mwandb\u001b[0m: \tsz: 128\n",
            "\u001b[34m\u001b[1mwandb\u001b[0m: \tw_d: 0.0005\n",
            "\u001b[34m\u001b[1mwandb\u001b[0m: \tw_i: Xavier\n"
          ]
        },
        {
          "data": {
            "text/html": [
              "Ignoring project 'DA6401_ASS-practice' when running a sweep."
            ],
            "text/plain": [
              "<IPython.core.display.HTML object>"
            ]
          },
          "metadata": {},
          "output_type": "display_data"
        },
        {
          "data": {
            "text/html": [
              "Tracking run with wandb version 0.19.7"
            ],
            "text/plain": [
              "<IPython.core.display.HTML object>"
            ]
          },
          "metadata": {},
          "output_type": "display_data"
        },
        {
          "data": {
            "text/html": [
              "Run data is saved locally in <code>/content/wandb/run-20250308_231904-a6alcpe9</code>"
            ],
            "text/plain": [
              "<IPython.core.display.HTML object>"
            ]
          },
          "metadata": {},
          "output_type": "display_data"
        },
        {
          "data": {
            "text/html": [
              "Syncing run <strong><a href='https://wandb.ai/3628-pavitrakhare-indian-institute-of-technology-madras/DA6401_ASS-practice/runs/a6alcpe9' target=\"_blank\">gentle-sweep-39</a></strong> to <a href='https://wandb.ai/3628-pavitrakhare-indian-institute-of-technology-madras/DA6401_ASS-practice' target=\"_blank\">Weights & Biases</a> (<a href='https://wandb.me/developer-guide' target=\"_blank\">docs</a>)<br>Sweep page: <a href='https://wandb.ai/3628-pavitrakhare-indian-institute-of-technology-madras/DA6401_ASS-practice/sweeps/nfibwu4x' target=\"_blank\">https://wandb.ai/3628-pavitrakhare-indian-institute-of-technology-madras/DA6401_ASS-practice/sweeps/nfibwu4x</a>"
            ],
            "text/plain": [
              "<IPython.core.display.HTML object>"
            ]
          },
          "metadata": {},
          "output_type": "display_data"
        },
        {
          "data": {
            "text/html": [
              " View project at <a href='https://wandb.ai/3628-pavitrakhare-indian-institute-of-technology-madras/DA6401_ASS-practice' target=\"_blank\">https://wandb.ai/3628-pavitrakhare-indian-institute-of-technology-madras/DA6401_ASS-practice</a>"
            ],
            "text/plain": [
              "<IPython.core.display.HTML object>"
            ]
          },
          "metadata": {},
          "output_type": "display_data"
        },
        {
          "data": {
            "text/html": [
              " View sweep at <a href='https://wandb.ai/3628-pavitrakhare-indian-institute-of-technology-madras/DA6401_ASS-practice/sweeps/nfibwu4x' target=\"_blank\">https://wandb.ai/3628-pavitrakhare-indian-institute-of-technology-madras/DA6401_ASS-practice/sweeps/nfibwu4x</a>"
            ],
            "text/plain": [
              "<IPython.core.display.HTML object>"
            ]
          },
          "metadata": {},
          "output_type": "display_data"
        },
        {
          "data": {
            "text/html": [
              " View run at <a href='https://wandb.ai/3628-pavitrakhare-indian-institute-of-technology-madras/DA6401_ASS-practice/runs/a6alcpe9' target=\"_blank\">https://wandb.ai/3628-pavitrakhare-indian-institute-of-technology-madras/DA6401_ASS-practice/runs/a6alcpe9</a>"
            ],
            "text/plain": [
              "<IPython.core.display.HTML object>"
            ]
          },
          "metadata": {},
          "output_type": "display_data"
        },
        {
          "name": "stdout",
          "output_type": "stream",
          "text": [
            "epoch :  1  validation loss :  0.4109073383318245\n",
            "epoch :  2  validation loss :  0.36961537555081597\n",
            "epoch :  3  validation loss :  0.3479625509938903\n",
            "epoch :  4  validation loss :  0.3369563122611111\n",
            "epoch :  5  validation loss :  0.3322536798612657\n",
            "epoch :  6  validation loss :  0.3293190518273451\n",
            "epoch :  7  validation loss :  0.33464578882756435\n",
            "epoch :  8  validation loss :  0.33762498769002963\n",
            "epoch :  9  validation loss :  0.35008658243922947\n",
            "epoch :  10  validation loss :  0.3353213113338025\n"
          ]
        },
        {
          "data": {
            "text/html": [],
            "text/plain": [
              "<IPython.core.display.HTML object>"
            ]
          },
          "metadata": {},
          "output_type": "display_data"
        },
        {
          "data": {
            "text/html": [
              "<br>    <style><br>        .wandb-row {<br>            display: flex;<br>            flex-direction: row;<br>            flex-wrap: wrap;<br>            justify-content: flex-start;<br>            width: 100%;<br>        }<br>        .wandb-col {<br>            display: flex;<br>            flex-direction: column;<br>            flex-basis: 100%;<br>            flex: 1;<br>            padding: 10px;<br>        }<br>    </style><br><div class=\"wandb-row\"><div class=\"wandb-col\"><h3>Run history:</h3><br/><table class=\"wandb\"><tr><td>accuracy</td><td>▁▄▅▆▆▇▇▇██</td></tr><tr><td>epoch</td><td>▁▂▃▃▄▅▆▆▇█</td></tr><tr><td>loss</td><td>█▅▄▃▃▂▂▁▁▁</td></tr><tr><td>val_accuracy</td><td>▁▄▆▇▇██▇██</td></tr><tr><td>val_loss</td><td>█▄▃▂▁▁▁▂▃▂</td></tr></table><br/></div><div class=\"wandb-col\"><h3>Run summary:</h3><br/><table class=\"wandb\"><tr><td>accuracy</td><td>0.9179</td></tr><tr><td>epoch</td><td>9</td></tr><tr><td>loss</td><td>0.22184</td></tr><tr><td>val_accuracy</td><td>0.88281</td></tr><tr><td>val_loss</td><td>0.33532</td></tr></table><br/></div></div>"
            ],
            "text/plain": [
              "<IPython.core.display.HTML object>"
            ]
          },
          "metadata": {},
          "output_type": "display_data"
        },
        {
          "data": {
            "text/html": [
              " View run <strong style=\"color:#cdcd00\">hl_5_sz_128_bs_32_ac_tanh_w_i_Xavier_lr_0.001_wd_0.0005</strong> at: <a href='https://wandb.ai/3628-pavitrakhare-indian-institute-of-technology-madras/DA6401_ASS-practice/runs/a6alcpe9' target=\"_blank\">https://wandb.ai/3628-pavitrakhare-indian-institute-of-technology-madras/DA6401_ASS-practice/runs/a6alcpe9</a><br> View project at: <a href='https://wandb.ai/3628-pavitrakhare-indian-institute-of-technology-madras/DA6401_ASS-practice' target=\"_blank\">https://wandb.ai/3628-pavitrakhare-indian-institute-of-technology-madras/DA6401_ASS-practice</a><br>Synced 5 W&B file(s), 0 media file(s), 0 artifact file(s) and 0 other file(s)"
            ],
            "text/plain": [
              "<IPython.core.display.HTML object>"
            ]
          },
          "metadata": {},
          "output_type": "display_data"
        },
        {
          "data": {
            "text/html": [
              "Find logs at: <code>./wandb/run-20250308_231904-a6alcpe9/logs</code>"
            ],
            "text/plain": [
              "<IPython.core.display.HTML object>"
            ]
          },
          "metadata": {},
          "output_type": "display_data"
        },
        {
          "name": "stderr",
          "output_type": "stream",
          "text": [
            "\u001b[34m\u001b[1mwandb\u001b[0m: Agent Starting Run: w0fci2uq with config:\n",
            "\u001b[34m\u001b[1mwandb\u001b[0m: \ta: ReLU\n",
            "\u001b[34m\u001b[1mwandb\u001b[0m: \tb: 64\n",
            "\u001b[34m\u001b[1mwandb\u001b[0m: \te: 10\n",
            "\u001b[34m\u001b[1mwandb\u001b[0m: \tlr: 0.001\n",
            "\u001b[34m\u001b[1mwandb\u001b[0m: \tnlh: 5\n",
            "\u001b[34m\u001b[1mwandb\u001b[0m: \to: rmsprop\n",
            "\u001b[34m\u001b[1mwandb\u001b[0m: \tsz: 64\n",
            "\u001b[34m\u001b[1mwandb\u001b[0m: \tw_d: 0.5\n",
            "\u001b[34m\u001b[1mwandb\u001b[0m: \tw_i: Xavier\n"
          ]
        },
        {
          "data": {
            "text/html": [
              "Ignoring project 'DA6401_ASS-practice' when running a sweep."
            ],
            "text/plain": [
              "<IPython.core.display.HTML object>"
            ]
          },
          "metadata": {},
          "output_type": "display_data"
        },
        {
          "data": {
            "text/html": [
              "Tracking run with wandb version 0.19.7"
            ],
            "text/plain": [
              "<IPython.core.display.HTML object>"
            ]
          },
          "metadata": {},
          "output_type": "display_data"
        },
        {
          "data": {
            "text/html": [
              "Run data is saved locally in <code>/content/wandb/run-20250308_233422-w0fci2uq</code>"
            ],
            "text/plain": [
              "<IPython.core.display.HTML object>"
            ]
          },
          "metadata": {},
          "output_type": "display_data"
        },
        {
          "data": {
            "text/html": [
              "Syncing run <strong><a href='https://wandb.ai/3628-pavitrakhare-indian-institute-of-technology-madras/DA6401_ASS-practice/runs/w0fci2uq' target=\"_blank\">colorful-sweep-40</a></strong> to <a href='https://wandb.ai/3628-pavitrakhare-indian-institute-of-technology-madras/DA6401_ASS-practice' target=\"_blank\">Weights & Biases</a> (<a href='https://wandb.me/developer-guide' target=\"_blank\">docs</a>)<br>Sweep page: <a href='https://wandb.ai/3628-pavitrakhare-indian-institute-of-technology-madras/DA6401_ASS-practice/sweeps/nfibwu4x' target=\"_blank\">https://wandb.ai/3628-pavitrakhare-indian-institute-of-technology-madras/DA6401_ASS-practice/sweeps/nfibwu4x</a>"
            ],
            "text/plain": [
              "<IPython.core.display.HTML object>"
            ]
          },
          "metadata": {},
          "output_type": "display_data"
        },
        {
          "data": {
            "text/html": [
              " View project at <a href='https://wandb.ai/3628-pavitrakhare-indian-institute-of-technology-madras/DA6401_ASS-practice' target=\"_blank\">https://wandb.ai/3628-pavitrakhare-indian-institute-of-technology-madras/DA6401_ASS-practice</a>"
            ],
            "text/plain": [
              "<IPython.core.display.HTML object>"
            ]
          },
          "metadata": {},
          "output_type": "display_data"
        },
        {
          "data": {
            "text/html": [
              " View sweep at <a href='https://wandb.ai/3628-pavitrakhare-indian-institute-of-technology-madras/DA6401_ASS-practice/sweeps/nfibwu4x' target=\"_blank\">https://wandb.ai/3628-pavitrakhare-indian-institute-of-technology-madras/DA6401_ASS-practice/sweeps/nfibwu4x</a>"
            ],
            "text/plain": [
              "<IPython.core.display.HTML object>"
            ]
          },
          "metadata": {},
          "output_type": "display_data"
        },
        {
          "data": {
            "text/html": [
              " View run at <a href='https://wandb.ai/3628-pavitrakhare-indian-institute-of-technology-madras/DA6401_ASS-practice/runs/w0fci2uq' target=\"_blank\">https://wandb.ai/3628-pavitrakhare-indian-institute-of-technology-madras/DA6401_ASS-practice/runs/w0fci2uq</a>"
            ],
            "text/plain": [
              "<IPython.core.display.HTML object>"
            ]
          },
          "metadata": {},
          "output_type": "display_data"
        },
        {
          "name": "stdout",
          "output_type": "stream",
          "text": [
            "epoch :  1  validation loss :  0.4833782415024452\n",
            "epoch :  2  validation loss :  0.4232721744242843\n",
            "epoch :  3  validation loss :  0.4025584996658696\n",
            "epoch :  4  validation loss :  0.3912217580775737\n",
            "epoch :  5  validation loss :  0.3829556586172768\n",
            "epoch :  6  validation loss :  0.3788250432311849\n",
            "epoch :  7  validation loss :  0.376728549521987\n",
            "epoch :  8  validation loss :  0.37204477877508085\n",
            "epoch :  9  validation loss :  0.37635125406280023\n",
            "epoch :  10  validation loss :  0.3716128394308094\n"
          ]
        },
        {
          "data": {
            "text/html": [],
            "text/plain": [
              "<IPython.core.display.HTML object>"
            ]
          },
          "metadata": {},
          "output_type": "display_data"
        },
        {
          "data": {
            "text/html": [
              "<br>    <style><br>        .wandb-row {<br>            display: flex;<br>            flex-direction: row;<br>            flex-wrap: wrap;<br>            justify-content: flex-start;<br>            width: 100%;<br>        }<br>        .wandb-col {<br>            display: flex;<br>            flex-direction: column;<br>            flex-basis: 100%;<br>            flex: 1;<br>            padding: 10px;<br>        }<br>    </style><br><div class=\"wandb-row\"><div class=\"wandb-col\"><h3>Run history:</h3><br/><table class=\"wandb\"><tr><td>accuracy</td><td>▁▅▆▇▇▇▇███</td></tr><tr><td>epoch</td><td>▁▂▃▃▄▅▆▆▇█</td></tr><tr><td>loss</td><td>█▄▃▂▂▂▂▁▁▁</td></tr><tr><td>val_accuracy</td><td>▁▄▆▆▇▇▇███</td></tr><tr><td>val_loss</td><td>█▄▃▂▂▁▁▁▁▁</td></tr></table><br/></div><div class=\"wandb-col\"><h3>Run summary:</h3><br/><table class=\"wandb\"><tr><td>accuracy</td><td>0.89742</td></tr><tr><td>epoch</td><td>9</td></tr><tr><td>loss</td><td>0.28577</td></tr><tr><td>val_accuracy</td><td>0.87891</td></tr><tr><td>val_loss</td><td>0.37161</td></tr></table><br/></div></div>"
            ],
            "text/plain": [
              "<IPython.core.display.HTML object>"
            ]
          },
          "metadata": {},
          "output_type": "display_data"
        },
        {
          "data": {
            "text/html": [
              " View run <strong style=\"color:#cdcd00\">hl_5_sz_64_bs_64_ac_ReLU_w_i_Xavier_lr_0.001_wd_0.5</strong> at: <a href='https://wandb.ai/3628-pavitrakhare-indian-institute-of-technology-madras/DA6401_ASS-practice/runs/w0fci2uq' target=\"_blank\">https://wandb.ai/3628-pavitrakhare-indian-institute-of-technology-madras/DA6401_ASS-practice/runs/w0fci2uq</a><br> View project at: <a href='https://wandb.ai/3628-pavitrakhare-indian-institute-of-technology-madras/DA6401_ASS-practice' target=\"_blank\">https://wandb.ai/3628-pavitrakhare-indian-institute-of-technology-madras/DA6401_ASS-practice</a><br>Synced 5 W&B file(s), 0 media file(s), 0 artifact file(s) and 0 other file(s)"
            ],
            "text/plain": [
              "<IPython.core.display.HTML object>"
            ]
          },
          "metadata": {},
          "output_type": "display_data"
        },
        {
          "data": {
            "text/html": [
              "Find logs at: <code>./wandb/run-20250308_233422-w0fci2uq/logs</code>"
            ],
            "text/plain": [
              "<IPython.core.display.HTML object>"
            ]
          },
          "metadata": {},
          "output_type": "display_data"
        },
        {
          "name": "stderr",
          "output_type": "stream",
          "text": [
            "\u001b[34m\u001b[1mwandb\u001b[0m: Agent Starting Run: 9yyz0yrb with config:\n",
            "\u001b[34m\u001b[1mwandb\u001b[0m: \ta: sigmoid\n",
            "\u001b[34m\u001b[1mwandb\u001b[0m: \tb: 64\n",
            "\u001b[34m\u001b[1mwandb\u001b[0m: \te: 10\n",
            "\u001b[34m\u001b[1mwandb\u001b[0m: \tlr: 0.001\n",
            "\u001b[34m\u001b[1mwandb\u001b[0m: \tnlh: 5\n",
            "\u001b[34m\u001b[1mwandb\u001b[0m: \to: nag\n",
            "\u001b[34m\u001b[1mwandb\u001b[0m: \tsz: 128\n",
            "\u001b[34m\u001b[1mwandb\u001b[0m: \tw_d: 0.0005\n",
            "\u001b[34m\u001b[1mwandb\u001b[0m: \tw_i: Xavier\n"
          ]
        },
        {
          "data": {
            "text/html": [
              "Ignoring project 'DA6401_ASS-practice' when running a sweep."
            ],
            "text/plain": [
              "<IPython.core.display.HTML object>"
            ]
          },
          "metadata": {},
          "output_type": "display_data"
        },
        {
          "data": {
            "text/html": [
              "Tracking run with wandb version 0.19.7"
            ],
            "text/plain": [
              "<IPython.core.display.HTML object>"
            ]
          },
          "metadata": {},
          "output_type": "display_data"
        },
        {
          "data": {
            "text/html": [
              "Run data is saved locally in <code>/content/wandb/run-20250308_234049-9yyz0yrb</code>"
            ],
            "text/plain": [
              "<IPython.core.display.HTML object>"
            ]
          },
          "metadata": {},
          "output_type": "display_data"
        },
        {
          "data": {
            "text/html": [
              "Syncing run <strong><a href='https://wandb.ai/3628-pavitrakhare-indian-institute-of-technology-madras/DA6401_ASS-practice/runs/9yyz0yrb' target=\"_blank\">elated-sweep-41</a></strong> to <a href='https://wandb.ai/3628-pavitrakhare-indian-institute-of-technology-madras/DA6401_ASS-practice' target=\"_blank\">Weights & Biases</a> (<a href='https://wandb.me/developer-guide' target=\"_blank\">docs</a>)<br>Sweep page: <a href='https://wandb.ai/3628-pavitrakhare-indian-institute-of-technology-madras/DA6401_ASS-practice/sweeps/nfibwu4x' target=\"_blank\">https://wandb.ai/3628-pavitrakhare-indian-institute-of-technology-madras/DA6401_ASS-practice/sweeps/nfibwu4x</a>"
            ],
            "text/plain": [
              "<IPython.core.display.HTML object>"
            ]
          },
          "metadata": {},
          "output_type": "display_data"
        },
        {
          "data": {
            "text/html": [
              " View project at <a href='https://wandb.ai/3628-pavitrakhare-indian-institute-of-technology-madras/DA6401_ASS-practice' target=\"_blank\">https://wandb.ai/3628-pavitrakhare-indian-institute-of-technology-madras/DA6401_ASS-practice</a>"
            ],
            "text/plain": [
              "<IPython.core.display.HTML object>"
            ]
          },
          "metadata": {},
          "output_type": "display_data"
        },
        {
          "data": {
            "text/html": [
              " View sweep at <a href='https://wandb.ai/3628-pavitrakhare-indian-institute-of-technology-madras/DA6401_ASS-practice/sweeps/nfibwu4x' target=\"_blank\">https://wandb.ai/3628-pavitrakhare-indian-institute-of-technology-madras/DA6401_ASS-practice/sweeps/nfibwu4x</a>"
            ],
            "text/plain": [
              "<IPython.core.display.HTML object>"
            ]
          },
          "metadata": {},
          "output_type": "display_data"
        },
        {
          "data": {
            "text/html": [
              " View run at <a href='https://wandb.ai/3628-pavitrakhare-indian-institute-of-technology-madras/DA6401_ASS-practice/runs/9yyz0yrb' target=\"_blank\">https://wandb.ai/3628-pavitrakhare-indian-institute-of-technology-madras/DA6401_ASS-practice/runs/9yyz0yrb</a>"
            ],
            "text/plain": [
              "<IPython.core.display.HTML object>"
            ]
          },
          "metadata": {},
          "output_type": "display_data"
        },
        {
          "name": "stdout",
          "output_type": "stream",
          "text": [
            "epoch :  1  validation loss :  2.3023141386986548\n",
            "epoch :  2  validation loss :  2.300942474118373\n",
            "epoch :  3  validation loss :  2.299442396625036\n",
            "epoch :  4  validation loss :  2.2975671511190483\n",
            "epoch :  5  validation loss :  2.2949707862627813\n",
            "epoch :  6  validation loss :  2.291023552384776\n",
            "epoch :  7  validation loss :  2.2843085409036417\n",
            "epoch :  8  validation loss :  2.270962628654344\n",
            "epoch :  9  validation loss :  2.2376808418246084\n",
            "epoch :  10  validation loss :  2.1277420150508135\n"
          ]
        },
        {
          "data": {
            "text/html": [],
            "text/plain": [
              "<IPython.core.display.HTML object>"
            ]
          },
          "metadata": {},
          "output_type": "display_data"
        },
        {
          "data": {
            "text/html": [
              "<br>    <style><br>        .wandb-row {<br>            display: flex;<br>            flex-direction: row;<br>            flex-wrap: wrap;<br>            justify-content: flex-start;<br>            width: 100%;<br>        }<br>        .wandb-col {<br>            display: flex;<br>            flex-direction: column;<br>            flex-basis: 100%;<br>            flex: 1;<br>            padding: 10px;<br>        }<br>    </style><br><div class=\"wandb-row\"><div class=\"wandb-col\"><h3>Run history:</h3><br/><table class=\"wandb\"><tr><td>accuracy</td><td>▁▁▂▂▂▃▄▅██</td></tr><tr><td>epoch</td><td>▁▂▃▃▄▅▆▆▇█</td></tr><tr><td>loss</td><td>█▇▇▇▇▇▇▆▅▁</td></tr><tr><td>val_accuracy</td><td>▁▁▁▁▁▁▁▁█▆</td></tr><tr><td>val_loss</td><td>██████▇▇▅▁</td></tr></table><br/></div><div class=\"wandb-col\"><h3>Run summary:</h3><br/><table class=\"wandb\"><tr><td>accuracy</td><td>0.22237</td></tr><tr><td>epoch</td><td>9</td></tr><tr><td>loss</td><td>2.19519</td></tr><tr><td>val_accuracy</td><td>0.23302</td></tr><tr><td>val_loss</td><td>2.12774</td></tr></table><br/></div></div>"
            ],
            "text/plain": [
              "<IPython.core.display.HTML object>"
            ]
          },
          "metadata": {},
          "output_type": "display_data"
        },
        {
          "data": {
            "text/html": [
              " View run <strong style=\"color:#cdcd00\">hl_5_sz_128_bs_64_ac_sigmoid_w_i_Xavier_lr_0.001_wd_0.0005</strong> at: <a href='https://wandb.ai/3628-pavitrakhare-indian-institute-of-technology-madras/DA6401_ASS-practice/runs/9yyz0yrb' target=\"_blank\">https://wandb.ai/3628-pavitrakhare-indian-institute-of-technology-madras/DA6401_ASS-practice/runs/9yyz0yrb</a><br> View project at: <a href='https://wandb.ai/3628-pavitrakhare-indian-institute-of-technology-madras/DA6401_ASS-practice' target=\"_blank\">https://wandb.ai/3628-pavitrakhare-indian-institute-of-technology-madras/DA6401_ASS-practice</a><br>Synced 5 W&B file(s), 0 media file(s), 0 artifact file(s) and 0 other file(s)"
            ],
            "text/plain": [
              "<IPython.core.display.HTML object>"
            ]
          },
          "metadata": {},
          "output_type": "display_data"
        },
        {
          "data": {
            "text/html": [
              "Find logs at: <code>./wandb/run-20250308_234049-9yyz0yrb/logs</code>"
            ],
            "text/plain": [
              "<IPython.core.display.HTML object>"
            ]
          },
          "metadata": {},
          "output_type": "display_data"
        },
        {
          "name": "stderr",
          "output_type": "stream",
          "text": [
            "\u001b[34m\u001b[1mwandb\u001b[0m: Agent Starting Run: n3y3fp9g with config:\n",
            "\u001b[34m\u001b[1mwandb\u001b[0m: \ta: ReLU\n",
            "\u001b[34m\u001b[1mwandb\u001b[0m: \tb: 64\n",
            "\u001b[34m\u001b[1mwandb\u001b[0m: \te: 10\n",
            "\u001b[34m\u001b[1mwandb\u001b[0m: \tlr: 0.001\n",
            "\u001b[34m\u001b[1mwandb\u001b[0m: \tnlh: 5\n",
            "\u001b[34m\u001b[1mwandb\u001b[0m: \to: nadam\n",
            "\u001b[34m\u001b[1mwandb\u001b[0m: \tsz: 64\n",
            "\u001b[34m\u001b[1mwandb\u001b[0m: \tw_d: 0.0005\n",
            "\u001b[34m\u001b[1mwandb\u001b[0m: \tw_i: Xavier\n"
          ]
        },
        {
          "data": {
            "text/html": [
              "Ignoring project 'DA6401_ASS-practice' when running a sweep."
            ],
            "text/plain": [
              "<IPython.core.display.HTML object>"
            ]
          },
          "metadata": {},
          "output_type": "display_data"
        },
        {
          "data": {
            "text/html": [
              "Tracking run with wandb version 0.19.7"
            ],
            "text/plain": [
              "<IPython.core.display.HTML object>"
            ]
          },
          "metadata": {},
          "output_type": "display_data"
        },
        {
          "data": {
            "text/html": [
              "Run data is saved locally in <code>/content/wandb/run-20250308_235300-n3y3fp9g</code>"
            ],
            "text/plain": [
              "<IPython.core.display.HTML object>"
            ]
          },
          "metadata": {},
          "output_type": "display_data"
        },
        {
          "data": {
            "text/html": [
              "Syncing run <strong><a href='https://wandb.ai/3628-pavitrakhare-indian-institute-of-technology-madras/DA6401_ASS-practice/runs/n3y3fp9g' target=\"_blank\">sunny-sweep-42</a></strong> to <a href='https://wandb.ai/3628-pavitrakhare-indian-institute-of-technology-madras/DA6401_ASS-practice' target=\"_blank\">Weights & Biases</a> (<a href='https://wandb.me/developer-guide' target=\"_blank\">docs</a>)<br>Sweep page: <a href='https://wandb.ai/3628-pavitrakhare-indian-institute-of-technology-madras/DA6401_ASS-practice/sweeps/nfibwu4x' target=\"_blank\">https://wandb.ai/3628-pavitrakhare-indian-institute-of-technology-madras/DA6401_ASS-practice/sweeps/nfibwu4x</a>"
            ],
            "text/plain": [
              "<IPython.core.display.HTML object>"
            ]
          },
          "metadata": {},
          "output_type": "display_data"
        },
        {
          "data": {
            "text/html": [
              " View project at <a href='https://wandb.ai/3628-pavitrakhare-indian-institute-of-technology-madras/DA6401_ASS-practice' target=\"_blank\">https://wandb.ai/3628-pavitrakhare-indian-institute-of-technology-madras/DA6401_ASS-practice</a>"
            ],
            "text/plain": [
              "<IPython.core.display.HTML object>"
            ]
          },
          "metadata": {},
          "output_type": "display_data"
        },
        {
          "data": {
            "text/html": [
              " View sweep at <a href='https://wandb.ai/3628-pavitrakhare-indian-institute-of-technology-madras/DA6401_ASS-practice/sweeps/nfibwu4x' target=\"_blank\">https://wandb.ai/3628-pavitrakhare-indian-institute-of-technology-madras/DA6401_ASS-practice/sweeps/nfibwu4x</a>"
            ],
            "text/plain": [
              "<IPython.core.display.HTML object>"
            ]
          },
          "metadata": {},
          "output_type": "display_data"
        },
        {
          "data": {
            "text/html": [
              " View run at <a href='https://wandb.ai/3628-pavitrakhare-indian-institute-of-technology-madras/DA6401_ASS-practice/runs/n3y3fp9g' target=\"_blank\">https://wandb.ai/3628-pavitrakhare-indian-institute-of-technology-madras/DA6401_ASS-practice/runs/n3y3fp9g</a>"
            ],
            "text/plain": [
              "<IPython.core.display.HTML object>"
            ]
          },
          "metadata": {},
          "output_type": "display_data"
        },
        {
          "name": "stdout",
          "output_type": "stream",
          "text": [
            "epoch :  1  validation loss :  0.44591683069949295\n",
            "epoch :  2  validation loss :  0.41087644329232786\n",
            "epoch :  3  validation loss :  0.380668396774204\n",
            "epoch :  4  validation loss :  0.3697722765020653\n",
            "epoch :  5  validation loss :  0.36320041723886975\n",
            "epoch :  6  validation loss :  0.36044155482267\n",
            "epoch :  7  validation loss :  0.3582758229579876\n",
            "epoch :  8  validation loss :  0.3589238119338817\n",
            "epoch :  9  validation loss :  0.3577922497701909\n",
            "epoch :  10  validation loss :  0.37107572990005916\n"
          ]
        },
        {
          "data": {
            "text/html": [],
            "text/plain": [
              "<IPython.core.display.HTML object>"
            ]
          },
          "metadata": {},
          "output_type": "display_data"
        },
        {
          "data": {
            "text/html": [
              "<br>    <style><br>        .wandb-row {<br>            display: flex;<br>            flex-direction: row;<br>            flex-wrap: wrap;<br>            justify-content: flex-start;<br>            width: 100%;<br>        }<br>        .wandb-col {<br>            display: flex;<br>            flex-direction: column;<br>            flex-basis: 100%;<br>            flex: 1;<br>            padding: 10px;<br>        }<br>    </style><br><div class=\"wandb-row\"><div class=\"wandb-col\"><h3>Run history:</h3><br/><table class=\"wandb\"><tr><td>accuracy</td><td>▁▅▆▆▇▇▇███</td></tr><tr><td>epoch</td><td>▁▂▃▃▄▅▆▆▇█</td></tr><tr><td>loss</td><td>█▄▃▃▂▂▂▁▁▁</td></tr><tr><td>val_accuracy</td><td>▁▄▆▇▇█▇▇██</td></tr><tr><td>val_loss</td><td>█▅▃▂▁▁▁▁▁▂</td></tr></table><br/></div><div class=\"wandb-col\"><h3>Run summary:</h3><br/><table class=\"wandb\"><tr><td>accuracy</td><td>0.90206</td></tr><tr><td>epoch</td><td>9</td></tr><tr><td>loss</td><td>0.27098</td></tr><tr><td>val_accuracy</td><td>0.87126</td></tr><tr><td>val_loss</td><td>0.37108</td></tr></table><br/></div></div>"
            ],
            "text/plain": [
              "<IPython.core.display.HTML object>"
            ]
          },
          "metadata": {},
          "output_type": "display_data"
        },
        {
          "data": {
            "text/html": [
              " View run <strong style=\"color:#cdcd00\">hl_5_sz_64_bs_64_ac_ReLU_w_i_Xavier_lr_0.001_wd_0.0005</strong> at: <a href='https://wandb.ai/3628-pavitrakhare-indian-institute-of-technology-madras/DA6401_ASS-practice/runs/n3y3fp9g' target=\"_blank\">https://wandb.ai/3628-pavitrakhare-indian-institute-of-technology-madras/DA6401_ASS-practice/runs/n3y3fp9g</a><br> View project at: <a href='https://wandb.ai/3628-pavitrakhare-indian-institute-of-technology-madras/DA6401_ASS-practice' target=\"_blank\">https://wandb.ai/3628-pavitrakhare-indian-institute-of-technology-madras/DA6401_ASS-practice</a><br>Synced 5 W&B file(s), 0 media file(s), 0 artifact file(s) and 0 other file(s)"
            ],
            "text/plain": [
              "<IPython.core.display.HTML object>"
            ]
          },
          "metadata": {},
          "output_type": "display_data"
        },
        {
          "data": {
            "text/html": [
              "Find logs at: <code>./wandb/run-20250308_235300-n3y3fp9g/logs</code>"
            ],
            "text/plain": [
              "<IPython.core.display.HTML object>"
            ]
          },
          "metadata": {},
          "output_type": "display_data"
        },
        {
          "name": "stderr",
          "output_type": "stream",
          "text": [
            "\u001b[34m\u001b[1mwandb\u001b[0m: Agent Starting Run: aum929eg with config:\n",
            "\u001b[34m\u001b[1mwandb\u001b[0m: \ta: sigmoid\n",
            "\u001b[34m\u001b[1mwandb\u001b[0m: \tb: 32\n",
            "\u001b[34m\u001b[1mwandb\u001b[0m: \te: 10\n",
            "\u001b[34m\u001b[1mwandb\u001b[0m: \tlr: 0.001\n",
            "\u001b[34m\u001b[1mwandb\u001b[0m: \tnlh: 3\n",
            "\u001b[34m\u001b[1mwandb\u001b[0m: \to: nadam\n",
            "\u001b[34m\u001b[1mwandb\u001b[0m: \tsz: 128\n",
            "\u001b[34m\u001b[1mwandb\u001b[0m: \tw_d: 0\n",
            "\u001b[34m\u001b[1mwandb\u001b[0m: \tw_i: random\n"
          ]
        },
        {
          "data": {
            "text/html": [
              "Ignoring project 'DA6401_ASS-practice' when running a sweep."
            ],
            "text/plain": [
              "<IPython.core.display.HTML object>"
            ]
          },
          "metadata": {},
          "output_type": "display_data"
        },
        {
          "data": {
            "text/html": [
              "Tracking run with wandb version 0.19.7"
            ],
            "text/plain": [
              "<IPython.core.display.HTML object>"
            ]
          },
          "metadata": {},
          "output_type": "display_data"
        },
        {
          "data": {
            "text/html": [
              "Run data is saved locally in <code>/content/wandb/run-20250308_235947-aum929eg</code>"
            ],
            "text/plain": [
              "<IPython.core.display.HTML object>"
            ]
          },
          "metadata": {},
          "output_type": "display_data"
        },
        {
          "data": {
            "text/html": [
              "Syncing run <strong><a href='https://wandb.ai/3628-pavitrakhare-indian-institute-of-technology-madras/DA6401_ASS-practice/runs/aum929eg' target=\"_blank\">whole-sweep-43</a></strong> to <a href='https://wandb.ai/3628-pavitrakhare-indian-institute-of-technology-madras/DA6401_ASS-practice' target=\"_blank\">Weights & Biases</a> (<a href='https://wandb.me/developer-guide' target=\"_blank\">docs</a>)<br>Sweep page: <a href='https://wandb.ai/3628-pavitrakhare-indian-institute-of-technology-madras/DA6401_ASS-practice/sweeps/nfibwu4x' target=\"_blank\">https://wandb.ai/3628-pavitrakhare-indian-institute-of-technology-madras/DA6401_ASS-practice/sweeps/nfibwu4x</a>"
            ],
            "text/plain": [
              "<IPython.core.display.HTML object>"
            ]
          },
          "metadata": {},
          "output_type": "display_data"
        },
        {
          "data": {
            "text/html": [
              " View project at <a href='https://wandb.ai/3628-pavitrakhare-indian-institute-of-technology-madras/DA6401_ASS-practice' target=\"_blank\">https://wandb.ai/3628-pavitrakhare-indian-institute-of-technology-madras/DA6401_ASS-practice</a>"
            ],
            "text/plain": [
              "<IPython.core.display.HTML object>"
            ]
          },
          "metadata": {},
          "output_type": "display_data"
        },
        {
          "data": {
            "text/html": [
              " View sweep at <a href='https://wandb.ai/3628-pavitrakhare-indian-institute-of-technology-madras/DA6401_ASS-practice/sweeps/nfibwu4x' target=\"_blank\">https://wandb.ai/3628-pavitrakhare-indian-institute-of-technology-madras/DA6401_ASS-practice/sweeps/nfibwu4x</a>"
            ],
            "text/plain": [
              "<IPython.core.display.HTML object>"
            ]
          },
          "metadata": {},
          "output_type": "display_data"
        },
        {
          "data": {
            "text/html": [
              " View run at <a href='https://wandb.ai/3628-pavitrakhare-indian-institute-of-technology-madras/DA6401_ASS-practice/runs/aum929eg' target=\"_blank\">https://wandb.ai/3628-pavitrakhare-indian-institute-of-technology-madras/DA6401_ASS-practice/runs/aum929eg</a>"
            ],
            "text/plain": [
              "<IPython.core.display.HTML object>"
            ]
          },
          "metadata": {},
          "output_type": "display_data"
        },
        {
          "name": "stdout",
          "output_type": "stream",
          "text": [
            "epoch :  1  validation loss :  0.48713768016983616\n",
            "epoch :  2  validation loss :  0.43372514210956575\n",
            "epoch :  3  validation loss :  0.4072241604997558\n",
            "epoch :  4  validation loss :  0.3918559515293118\n",
            "epoch :  5  validation loss :  0.38094112263002133\n",
            "epoch :  6  validation loss :  0.37260855628986733\n",
            "epoch :  7  validation loss :  0.36632055230181526\n",
            "epoch :  8  validation loss :  0.36173075953630623\n",
            "epoch :  9  validation loss :  0.35823808675428376\n",
            "epoch :  10  validation loss :  0.3554425373638259\n"
          ]
        },
        {
          "data": {
            "text/html": [],
            "text/plain": [
              "<IPython.core.display.HTML object>"
            ]
          },
          "metadata": {},
          "output_type": "display_data"
        },
        {
          "data": {
            "text/html": [
              "<br>    <style><br>        .wandb-row {<br>            display: flex;<br>            flex-direction: row;<br>            flex-wrap: wrap;<br>            justify-content: flex-start;<br>            width: 100%;<br>        }<br>        .wandb-col {<br>            display: flex;<br>            flex-direction: column;<br>            flex-basis: 100%;<br>            flex: 1;<br>            padding: 10px;<br>        }<br>    </style><br><div class=\"wandb-row\"><div class=\"wandb-col\"><h3>Run history:</h3><br/><table class=\"wandb\"><tr><td>accuracy</td><td>▁▅▆▆▇▇▇███</td></tr><tr><td>epoch</td><td>▁▂▃▃▄▅▆▆▇█</td></tr><tr><td>loss</td><td>█▄▃▂▂▂▂▁▁▁</td></tr><tr><td>val_accuracy</td><td>▁▄▅▇▇▇████</td></tr><tr><td>val_loss</td><td>█▅▄▃▂▂▂▁▁▁</td></tr></table><br/></div><div class=\"wandb-col\"><h3>Run summary:</h3><br/><table class=\"wandb\"><tr><td>accuracy</td><td>0.90096</td></tr><tr><td>epoch</td><td>9</td></tr><tr><td>loss</td><td>0.27689</td></tr><tr><td>val_accuracy</td><td>0.86974</td></tr><tr><td>val_loss</td><td>0.35544</td></tr></table><br/></div></div>"
            ],
            "text/plain": [
              "<IPython.core.display.HTML object>"
            ]
          },
          "metadata": {},
          "output_type": "display_data"
        },
        {
          "data": {
            "text/html": [
              " View run <strong style=\"color:#cdcd00\">hl_3_sz_128_bs_32_ac_sigmoid_w_i_random_lr_0.001_wd_0</strong> at: <a href='https://wandb.ai/3628-pavitrakhare-indian-institute-of-technology-madras/DA6401_ASS-practice/runs/aum929eg' target=\"_blank\">https://wandb.ai/3628-pavitrakhare-indian-institute-of-technology-madras/DA6401_ASS-practice/runs/aum929eg</a><br> View project at: <a href='https://wandb.ai/3628-pavitrakhare-indian-institute-of-technology-madras/DA6401_ASS-practice' target=\"_blank\">https://wandb.ai/3628-pavitrakhare-indian-institute-of-technology-madras/DA6401_ASS-practice</a><br>Synced 5 W&B file(s), 0 media file(s), 0 artifact file(s) and 0 other file(s)"
            ],
            "text/plain": [
              "<IPython.core.display.HTML object>"
            ]
          },
          "metadata": {},
          "output_type": "display_data"
        },
        {
          "data": {
            "text/html": [
              "Find logs at: <code>./wandb/run-20250308_235947-aum929eg/logs</code>"
            ],
            "text/plain": [
              "<IPython.core.display.HTML object>"
            ]
          },
          "metadata": {},
          "output_type": "display_data"
        },
        {
          "name": "stderr",
          "output_type": "stream",
          "text": [
            "\u001b[34m\u001b[1mwandb\u001b[0m: Agent Starting Run: akqqkcsz with config:\n",
            "\u001b[34m\u001b[1mwandb\u001b[0m: \ta: sigmoid\n",
            "\u001b[34m\u001b[1mwandb\u001b[0m: \tb: 64\n",
            "\u001b[34m\u001b[1mwandb\u001b[0m: \te: 10\n",
            "\u001b[34m\u001b[1mwandb\u001b[0m: \tlr: 0.001\n",
            "\u001b[34m\u001b[1mwandb\u001b[0m: \tnlh: 4\n",
            "\u001b[34m\u001b[1mwandb\u001b[0m: \to: rmsprop\n",
            "\u001b[34m\u001b[1mwandb\u001b[0m: \tsz: 64\n",
            "\u001b[34m\u001b[1mwandb\u001b[0m: \tw_d: 0.0005\n",
            "\u001b[34m\u001b[1mwandb\u001b[0m: \tw_i: random\n"
          ]
        },
        {
          "data": {
            "text/html": [
              "Ignoring project 'DA6401_ASS-practice' when running a sweep."
            ],
            "text/plain": [
              "<IPython.core.display.HTML object>"
            ]
          },
          "metadata": {},
          "output_type": "display_data"
        },
        {
          "data": {
            "text/html": [
              "Tracking run with wandb version 0.19.7"
            ],
            "text/plain": [
              "<IPython.core.display.HTML object>"
            ]
          },
          "metadata": {},
          "output_type": "display_data"
        },
        {
          "data": {
            "text/html": [
              "Run data is saved locally in <code>/content/wandb/run-20250309_000951-akqqkcsz</code>"
            ],
            "text/plain": [
              "<IPython.core.display.HTML object>"
            ]
          },
          "metadata": {},
          "output_type": "display_data"
        },
        {
          "data": {
            "text/html": [
              "Syncing run <strong><a href='https://wandb.ai/3628-pavitrakhare-indian-institute-of-technology-madras/DA6401_ASS-practice/runs/akqqkcsz' target=\"_blank\">stellar-sweep-44</a></strong> to <a href='https://wandb.ai/3628-pavitrakhare-indian-institute-of-technology-madras/DA6401_ASS-practice' target=\"_blank\">Weights & Biases</a> (<a href='https://wandb.me/developer-guide' target=\"_blank\">docs</a>)<br>Sweep page: <a href='https://wandb.ai/3628-pavitrakhare-indian-institute-of-technology-madras/DA6401_ASS-practice/sweeps/nfibwu4x' target=\"_blank\">https://wandb.ai/3628-pavitrakhare-indian-institute-of-technology-madras/DA6401_ASS-practice/sweeps/nfibwu4x</a>"
            ],
            "text/plain": [
              "<IPython.core.display.HTML object>"
            ]
          },
          "metadata": {},
          "output_type": "display_data"
        },
        {
          "data": {
            "text/html": [
              " View project at <a href='https://wandb.ai/3628-pavitrakhare-indian-institute-of-technology-madras/DA6401_ASS-practice' target=\"_blank\">https://wandb.ai/3628-pavitrakhare-indian-institute-of-technology-madras/DA6401_ASS-practice</a>"
            ],
            "text/plain": [
              "<IPython.core.display.HTML object>"
            ]
          },
          "metadata": {},
          "output_type": "display_data"
        },
        {
          "data": {
            "text/html": [
              " View sweep at <a href='https://wandb.ai/3628-pavitrakhare-indian-institute-of-technology-madras/DA6401_ASS-practice/sweeps/nfibwu4x' target=\"_blank\">https://wandb.ai/3628-pavitrakhare-indian-institute-of-technology-madras/DA6401_ASS-practice/sweeps/nfibwu4x</a>"
            ],
            "text/plain": [
              "<IPython.core.display.HTML object>"
            ]
          },
          "metadata": {},
          "output_type": "display_data"
        },
        {
          "data": {
            "text/html": [
              " View run at <a href='https://wandb.ai/3628-pavitrakhare-indian-institute-of-technology-madras/DA6401_ASS-practice/runs/akqqkcsz' target=\"_blank\">https://wandb.ai/3628-pavitrakhare-indian-institute-of-technology-madras/DA6401_ASS-practice/runs/akqqkcsz</a>"
            ],
            "text/plain": [
              "<IPython.core.display.HTML object>"
            ]
          },
          "metadata": {},
          "output_type": "display_data"
        },
        {
          "name": "stdout",
          "output_type": "stream",
          "text": [
            "epoch :  1  validation loss :  0.7118483801323301\n",
            "epoch :  2  validation loss :  0.5498820875308923\n",
            "epoch :  3  validation loss :  0.48581680616438006\n",
            "epoch :  4  validation loss :  0.45017757947043585\n",
            "epoch :  5  validation loss :  0.4279731349954884\n",
            "epoch :  6  validation loss :  0.412725220427998\n",
            "epoch :  7  validation loss :  0.4013648115169078\n",
            "epoch :  8  validation loss :  0.39272060015147653\n",
            "epoch :  9  validation loss :  0.3858997612052609\n",
            "epoch :  10  validation loss :  0.38024684741371234\n"
          ]
        },
        {
          "data": {
            "text/html": [],
            "text/plain": [
              "<IPython.core.display.HTML object>"
            ]
          },
          "metadata": {},
          "output_type": "display_data"
        },
        {
          "data": {
            "text/html": [
              "<br>    <style><br>        .wandb-row {<br>            display: flex;<br>            flex-direction: row;<br>            flex-wrap: wrap;<br>            justify-content: flex-start;<br>            width: 100%;<br>        }<br>        .wandb-col {<br>            display: flex;<br>            flex-direction: column;<br>            flex-basis: 100%;<br>            flex: 1;<br>            padding: 10px;<br>        }<br>    </style><br><div class=\"wandb-row\"><div class=\"wandb-col\"><h3>Run history:</h3><br/><table class=\"wandb\"><tr><td>accuracy</td><td>▁▅▆▇▇▇████</td></tr><tr><td>epoch</td><td>▁▂▃▃▄▅▆▆▇█</td></tr><tr><td>loss</td><td>█▃▂▂▂▁▁▁▁▁</td></tr><tr><td>val_accuracy</td><td>▁▄▅▆▇▇████</td></tr><tr><td>val_loss</td><td>█▅▃▂▂▂▁▁▁▁</td></tr></table><br/></div><div class=\"wandb-col\"><h3>Run summary:</h3><br/><table class=\"wandb\"><tr><td>accuracy</td><td>0.87773</td></tr><tr><td>epoch</td><td>9</td></tr><tr><td>loss</td><td>0.34306</td></tr><tr><td>val_accuracy</td><td>0.86362</td></tr><tr><td>val_loss</td><td>0.38025</td></tr></table><br/></div></div>"
            ],
            "text/plain": [
              "<IPython.core.display.HTML object>"
            ]
          },
          "metadata": {},
          "output_type": "display_data"
        },
        {
          "data": {
            "text/html": [
              " View run <strong style=\"color:#cdcd00\">hl_4_sz_64_bs_64_ac_sigmoid_w_i_random_lr_0.001_wd_0.0005</strong> at: <a href='https://wandb.ai/3628-pavitrakhare-indian-institute-of-technology-madras/DA6401_ASS-practice/runs/akqqkcsz' target=\"_blank\">https://wandb.ai/3628-pavitrakhare-indian-institute-of-technology-madras/DA6401_ASS-practice/runs/akqqkcsz</a><br> View project at: <a href='https://wandb.ai/3628-pavitrakhare-indian-institute-of-technology-madras/DA6401_ASS-practice' target=\"_blank\">https://wandb.ai/3628-pavitrakhare-indian-institute-of-technology-madras/DA6401_ASS-practice</a><br>Synced 5 W&B file(s), 0 media file(s), 0 artifact file(s) and 0 other file(s)"
            ],
            "text/plain": [
              "<IPython.core.display.HTML object>"
            ]
          },
          "metadata": {},
          "output_type": "display_data"
        },
        {
          "data": {
            "text/html": [
              "Find logs at: <code>./wandb/run-20250309_000951-akqqkcsz/logs</code>"
            ],
            "text/plain": [
              "<IPython.core.display.HTML object>"
            ]
          },
          "metadata": {},
          "output_type": "display_data"
        },
        {
          "name": "stderr",
          "output_type": "stream",
          "text": [
            "\u001b[34m\u001b[1mwandb\u001b[0m: Sweep Agent: Waiting for job.\n",
            "\u001b[34m\u001b[1mwandb\u001b[0m: Job received.\n",
            "\u001b[34m\u001b[1mwandb\u001b[0m: Agent Starting Run: b0zmfvbf with config:\n",
            "\u001b[34m\u001b[1mwandb\u001b[0m: \ta: ReLU\n",
            "\u001b[34m\u001b[1mwandb\u001b[0m: \tb: 64\n",
            "\u001b[34m\u001b[1mwandb\u001b[0m: \te: 10\n",
            "\u001b[34m\u001b[1mwandb\u001b[0m: \tlr: 0.0001\n",
            "\u001b[34m\u001b[1mwandb\u001b[0m: \tnlh: 4\n",
            "\u001b[34m\u001b[1mwandb\u001b[0m: \to: adam\n",
            "\u001b[34m\u001b[1mwandb\u001b[0m: \tsz: 128\n",
            "\u001b[34m\u001b[1mwandb\u001b[0m: \tw_d: 0.5\n",
            "\u001b[34m\u001b[1mwandb\u001b[0m: \tw_i: random\n"
          ]
        },
        {
          "data": {
            "text/html": [
              "Ignoring project 'DA6401_ASS-practice' when running a sweep."
            ],
            "text/plain": [
              "<IPython.core.display.HTML object>"
            ]
          },
          "metadata": {},
          "output_type": "display_data"
        },
        {
          "data": {
            "text/html": [
              "Tracking run with wandb version 0.19.7"
            ],
            "text/plain": [
              "<IPython.core.display.HTML object>"
            ]
          },
          "metadata": {},
          "output_type": "display_data"
        },
        {
          "data": {
            "text/html": [
              "Run data is saved locally in <code>/content/wandb/run-20250309_001536-b0zmfvbf</code>"
            ],
            "text/plain": [
              "<IPython.core.display.HTML object>"
            ]
          },
          "metadata": {},
          "output_type": "display_data"
        },
        {
          "data": {
            "text/html": [
              "Syncing run <strong><a href='https://wandb.ai/3628-pavitrakhare-indian-institute-of-technology-madras/DA6401_ASS-practice/runs/b0zmfvbf' target=\"_blank\">silver-sweep-45</a></strong> to <a href='https://wandb.ai/3628-pavitrakhare-indian-institute-of-technology-madras/DA6401_ASS-practice' target=\"_blank\">Weights & Biases</a> (<a href='https://wandb.me/developer-guide' target=\"_blank\">docs</a>)<br>Sweep page: <a href='https://wandb.ai/3628-pavitrakhare-indian-institute-of-technology-madras/DA6401_ASS-practice/sweeps/nfibwu4x' target=\"_blank\">https://wandb.ai/3628-pavitrakhare-indian-institute-of-technology-madras/DA6401_ASS-practice/sweeps/nfibwu4x</a>"
            ],
            "text/plain": [
              "<IPython.core.display.HTML object>"
            ]
          },
          "metadata": {},
          "output_type": "display_data"
        },
        {
          "data": {
            "text/html": [
              " View project at <a href='https://wandb.ai/3628-pavitrakhare-indian-institute-of-technology-madras/DA6401_ASS-practice' target=\"_blank\">https://wandb.ai/3628-pavitrakhare-indian-institute-of-technology-madras/DA6401_ASS-practice</a>"
            ],
            "text/plain": [
              "<IPython.core.display.HTML object>"
            ]
          },
          "metadata": {},
          "output_type": "display_data"
        },
        {
          "data": {
            "text/html": [
              " View sweep at <a href='https://wandb.ai/3628-pavitrakhare-indian-institute-of-technology-madras/DA6401_ASS-practice/sweeps/nfibwu4x' target=\"_blank\">https://wandb.ai/3628-pavitrakhare-indian-institute-of-technology-madras/DA6401_ASS-practice/sweeps/nfibwu4x</a>"
            ],
            "text/plain": [
              "<IPython.core.display.HTML object>"
            ]
          },
          "metadata": {},
          "output_type": "display_data"
        },
        {
          "data": {
            "text/html": [
              " View run at <a href='https://wandb.ai/3628-pavitrakhare-indian-institute-of-technology-madras/DA6401_ASS-practice/runs/b0zmfvbf' target=\"_blank\">https://wandb.ai/3628-pavitrakhare-indian-institute-of-technology-madras/DA6401_ASS-practice/runs/b0zmfvbf</a>"
            ],
            "text/plain": [
              "<IPython.core.display.HTML object>"
            ]
          },
          "metadata": {},
          "output_type": "display_data"
        },
        {
          "name": "stdout",
          "output_type": "stream",
          "text": [
            "epoch :  1  validation loss :  8.73146098919423\n",
            "epoch :  2  validation loss :  7.483357778703703\n",
            "epoch :  3  validation loss :  6.982264545780659\n",
            "epoch :  4  validation loss :  6.699128725329663\n",
            "epoch :  5  validation loss :  6.560476246747442\n",
            "epoch :  6  validation loss :  6.367911561052154\n",
            "epoch :  7  validation loss :  6.188364203624699\n",
            "epoch :  8  validation loss :  6.057938579729893\n",
            "epoch :  9  validation loss :  5.988010900110955\n",
            "epoch :  10  validation loss :  5.855818214185447\n"
          ]
        },
        {
          "data": {
            "text/html": [],
            "text/plain": [
              "<IPython.core.display.HTML object>"
            ]
          },
          "metadata": {},
          "output_type": "display_data"
        },
        {
          "data": {
            "text/html": [
              "<br>    <style><br>        .wandb-row {<br>            display: flex;<br>            flex-direction: row;<br>            flex-wrap: wrap;<br>            justify-content: flex-start;<br>            width: 100%;<br>        }<br>        .wandb-col {<br>            display: flex;<br>            flex-direction: column;<br>            flex-basis: 100%;<br>            flex: 1;<br>            padding: 10px;<br>        }<br>    </style><br><div class=\"wandb-row\"><div class=\"wandb-col\"><h3>Run history:</h3><br/><table class=\"wandb\"><tr><td>accuracy</td><td>▁▅▆▇▇▇▇███</td></tr><tr><td>epoch</td><td>▁▂▃▃▄▅▆▆▇█</td></tr><tr><td>loss</td><td>█▄▃▂▂▂▂▁▁▁</td></tr><tr><td>val_accuracy</td><td>▁▄▆▆▆▇▇███</td></tr><tr><td>val_loss</td><td>█▅▄▃▃▂▂▁▁▁</td></tr></table><br/></div><div class=\"wandb-col\"><h3>Run summary:</h3><br/><table class=\"wandb\"><tr><td>accuracy</td><td>0.78914</td></tr><tr><td>epoch</td><td>9</td></tr><tr><td>loss</td><td>4.15542</td></tr><tr><td>val_accuracy</td><td>0.77632</td></tr><tr><td>val_loss</td><td>5.85582</td></tr></table><br/></div></div>"
            ],
            "text/plain": [
              "<IPython.core.display.HTML object>"
            ]
          },
          "metadata": {},
          "output_type": "display_data"
        },
        {
          "data": {
            "text/html": [
              " View run <strong style=\"color:#cdcd00\">hl_4_sz_128_bs_64_ac_ReLU_w_i_random_lr_0.0001_wd_0.5</strong> at: <a href='https://wandb.ai/3628-pavitrakhare-indian-institute-of-technology-madras/DA6401_ASS-practice/runs/b0zmfvbf' target=\"_blank\">https://wandb.ai/3628-pavitrakhare-indian-institute-of-technology-madras/DA6401_ASS-practice/runs/b0zmfvbf</a><br> View project at: <a href='https://wandb.ai/3628-pavitrakhare-indian-institute-of-technology-madras/DA6401_ASS-practice' target=\"_blank\">https://wandb.ai/3628-pavitrakhare-indian-institute-of-technology-madras/DA6401_ASS-practice</a><br>Synced 5 W&B file(s), 0 media file(s), 0 artifact file(s) and 0 other file(s)"
            ],
            "text/plain": [
              "<IPython.core.display.HTML object>"
            ]
          },
          "metadata": {},
          "output_type": "display_data"
        },
        {
          "data": {
            "text/html": [
              "Find logs at: <code>./wandb/run-20250309_001536-b0zmfvbf/logs</code>"
            ],
            "text/plain": [
              "<IPython.core.display.HTML object>"
            ]
          },
          "metadata": {},
          "output_type": "display_data"
        },
        {
          "name": "stderr",
          "output_type": "stream",
          "text": [
            "\u001b[34m\u001b[1mwandb\u001b[0m: Sweep Agent: Waiting for job.\n",
            "\u001b[34m\u001b[1mwandb\u001b[0m: Job received.\n",
            "\u001b[34m\u001b[1mwandb\u001b[0m: Agent Starting Run: e2ugp2k1 with config:\n",
            "\u001b[34m\u001b[1mwandb\u001b[0m: \ta: tanh\n",
            "\u001b[34m\u001b[1mwandb\u001b[0m: \tb: 32\n",
            "\u001b[34m\u001b[1mwandb\u001b[0m: \te: 10\n",
            "\u001b[34m\u001b[1mwandb\u001b[0m: \tlr: 0.001\n",
            "\u001b[34m\u001b[1mwandb\u001b[0m: \tnlh: 4\n",
            "\u001b[34m\u001b[1mwandb\u001b[0m: \to: nag\n",
            "\u001b[34m\u001b[1mwandb\u001b[0m: \tsz: 64\n",
            "\u001b[34m\u001b[1mwandb\u001b[0m: \tw_d: 0.5\n",
            "\u001b[34m\u001b[1mwandb\u001b[0m: \tw_i: Xavier\n"
          ]
        },
        {
          "data": {
            "text/html": [
              "Ignoring project 'DA6401_ASS-practice' when running a sweep."
            ],
            "text/plain": [
              "<IPython.core.display.HTML object>"
            ]
          },
          "metadata": {},
          "output_type": "display_data"
        },
        {
          "data": {
            "text/html": [
              "Tracking run with wandb version 0.19.7"
            ],
            "text/plain": [
              "<IPython.core.display.HTML object>"
            ]
          },
          "metadata": {},
          "output_type": "display_data"
        },
        {
          "data": {
            "text/html": [
              "Run data is saved locally in <code>/content/wandb/run-20250309_002559-e2ugp2k1</code>"
            ],
            "text/plain": [
              "<IPython.core.display.HTML object>"
            ]
          },
          "metadata": {},
          "output_type": "display_data"
        },
        {
          "data": {
            "text/html": [
              "Syncing run <strong><a href='https://wandb.ai/3628-pavitrakhare-indian-institute-of-technology-madras/DA6401_ASS-practice/runs/e2ugp2k1' target=\"_blank\">avid-sweep-46</a></strong> to <a href='https://wandb.ai/3628-pavitrakhare-indian-institute-of-technology-madras/DA6401_ASS-practice' target=\"_blank\">Weights & Biases</a> (<a href='https://wandb.me/developer-guide' target=\"_blank\">docs</a>)<br>Sweep page: <a href='https://wandb.ai/3628-pavitrakhare-indian-institute-of-technology-madras/DA6401_ASS-practice/sweeps/nfibwu4x' target=\"_blank\">https://wandb.ai/3628-pavitrakhare-indian-institute-of-technology-madras/DA6401_ASS-practice/sweeps/nfibwu4x</a>"
            ],
            "text/plain": [
              "<IPython.core.display.HTML object>"
            ]
          },
          "metadata": {},
          "output_type": "display_data"
        },
        {
          "data": {
            "text/html": [
              " View project at <a href='https://wandb.ai/3628-pavitrakhare-indian-institute-of-technology-madras/DA6401_ASS-practice' target=\"_blank\">https://wandb.ai/3628-pavitrakhare-indian-institute-of-technology-madras/DA6401_ASS-practice</a>"
            ],
            "text/plain": [
              "<IPython.core.display.HTML object>"
            ]
          },
          "metadata": {},
          "output_type": "display_data"
        },
        {
          "data": {
            "text/html": [
              " View sweep at <a href='https://wandb.ai/3628-pavitrakhare-indian-institute-of-technology-madras/DA6401_ASS-practice/sweeps/nfibwu4x' target=\"_blank\">https://wandb.ai/3628-pavitrakhare-indian-institute-of-technology-madras/DA6401_ASS-practice/sweeps/nfibwu4x</a>"
            ],
            "text/plain": [
              "<IPython.core.display.HTML object>"
            ]
          },
          "metadata": {},
          "output_type": "display_data"
        },
        {
          "data": {
            "text/html": [
              " View run at <a href='https://wandb.ai/3628-pavitrakhare-indian-institute-of-technology-madras/DA6401_ASS-practice/runs/e2ugp2k1' target=\"_blank\">https://wandb.ai/3628-pavitrakhare-indian-institute-of-technology-madras/DA6401_ASS-practice/runs/e2ugp2k1</a>"
            ],
            "text/plain": [
              "<IPython.core.display.HTML object>"
            ]
          },
          "metadata": {},
          "output_type": "display_data"
        },
        {
          "name": "stdout",
          "output_type": "stream",
          "text": [
            "epoch :  1  validation loss :  0.4653130090196045\n",
            "epoch :  2  validation loss :  0.4326626557099059\n",
            "epoch :  3  validation loss :  0.40848504838244315\n",
            "epoch :  4  validation loss :  0.3968839226001289\n",
            "epoch :  5  validation loss :  0.4027341749987379\n",
            "epoch :  6  validation loss :  0.4004807889297693\n",
            "epoch :  7  validation loss :  0.40316994593964905\n",
            "epoch :  8  validation loss :  0.3949269769083654\n",
            "epoch :  9  validation loss :  0.3987479130168963\n",
            "epoch :  10  validation loss :  0.4005398350149409\n"
          ]
        },
        {
          "data": {
            "text/html": [],
            "text/plain": [
              "<IPython.core.display.HTML object>"
            ]
          },
          "metadata": {},
          "output_type": "display_data"
        },
        {
          "data": {
            "text/html": [
              "<br>    <style><br>        .wandb-row {<br>            display: flex;<br>            flex-direction: row;<br>            flex-wrap: wrap;<br>            justify-content: flex-start;<br>            width: 100%;<br>        }<br>        .wandb-col {<br>            display: flex;<br>            flex-direction: column;<br>            flex-basis: 100%;<br>            flex: 1;<br>            padding: 10px;<br>        }<br>    </style><br><div class=\"wandb-row\"><div class=\"wandb-col\"><h3>Run history:</h3><br/><table class=\"wandb\"><tr><td>accuracy</td><td>▁▄▅▆▇▇▇▇██</td></tr><tr><td>epoch</td><td>▁▂▃▃▄▅▆▆▇█</td></tr><tr><td>loss</td><td>█▄▃▃▂▂▂▁▁▁</td></tr><tr><td>val_accuracy</td><td>▁▃▅▆▆▇▇▇▇█</td></tr><tr><td>val_loss</td><td>█▅▂▁▂▂▂▁▁▂</td></tr></table><br/></div><div class=\"wandb-col\"><h3>Run summary:</h3><br/><table class=\"wandb\"><tr><td>accuracy</td><td>0.90284</td></tr><tr><td>epoch</td><td>9</td></tr><tr><td>loss</td><td>0.27689</td></tr><tr><td>val_accuracy</td><td>0.87619</td></tr><tr><td>val_loss</td><td>0.40054</td></tr></table><br/></div></div>"
            ],
            "text/plain": [
              "<IPython.core.display.HTML object>"
            ]
          },
          "metadata": {},
          "output_type": "display_data"
        },
        {
          "data": {
            "text/html": [
              " View run <strong style=\"color:#cdcd00\">hl_4_sz_64_bs_32_ac_tanh_w_i_Xavier_lr_0.001_wd_0.5</strong> at: <a href='https://wandb.ai/3628-pavitrakhare-indian-institute-of-technology-madras/DA6401_ASS-practice/runs/e2ugp2k1' target=\"_blank\">https://wandb.ai/3628-pavitrakhare-indian-institute-of-technology-madras/DA6401_ASS-practice/runs/e2ugp2k1</a><br> View project at: <a href='https://wandb.ai/3628-pavitrakhare-indian-institute-of-technology-madras/DA6401_ASS-practice' target=\"_blank\">https://wandb.ai/3628-pavitrakhare-indian-institute-of-technology-madras/DA6401_ASS-practice</a><br>Synced 5 W&B file(s), 0 media file(s), 0 artifact file(s) and 0 other file(s)"
            ],
            "text/plain": [
              "<IPython.core.display.HTML object>"
            ]
          },
          "metadata": {},
          "output_type": "display_data"
        },
        {
          "data": {
            "text/html": [
              "Find logs at: <code>./wandb/run-20250309_002559-e2ugp2k1/logs</code>"
            ],
            "text/plain": [
              "<IPython.core.display.HTML object>"
            ]
          },
          "metadata": {},
          "output_type": "display_data"
        },
        {
          "name": "stderr",
          "output_type": "stream",
          "text": [
            "\u001b[34m\u001b[1mwandb\u001b[0m: Agent Starting Run: 9ddjjtpk with config:\n",
            "\u001b[34m\u001b[1mwandb\u001b[0m: \ta: ReLU\n",
            "\u001b[34m\u001b[1mwandb\u001b[0m: \tb: 64\n",
            "\u001b[34m\u001b[1mwandb\u001b[0m: \te: 10\n",
            "\u001b[34m\u001b[1mwandb\u001b[0m: \tlr: 0.0001\n",
            "\u001b[34m\u001b[1mwandb\u001b[0m: \tnlh: 4\n",
            "\u001b[34m\u001b[1mwandb\u001b[0m: \to: nadam\n",
            "\u001b[34m\u001b[1mwandb\u001b[0m: \tsz: 128\n",
            "\u001b[34m\u001b[1mwandb\u001b[0m: \tw_d: 0.0005\n",
            "\u001b[34m\u001b[1mwandb\u001b[0m: \tw_i: Xavier\n"
          ]
        },
        {
          "data": {
            "text/html": [
              "Ignoring project 'DA6401_ASS-practice' when running a sweep."
            ],
            "text/plain": [
              "<IPython.core.display.HTML object>"
            ]
          },
          "metadata": {},
          "output_type": "display_data"
        },
        {
          "data": {
            "text/html": [
              "Tracking run with wandb version 0.19.7"
            ],
            "text/plain": [
              "<IPython.core.display.HTML object>"
            ]
          },
          "metadata": {},
          "output_type": "display_data"
        },
        {
          "data": {
            "text/html": [
              "Run data is saved locally in <code>/content/wandb/run-20250309_003213-9ddjjtpk</code>"
            ],
            "text/plain": [
              "<IPython.core.display.HTML object>"
            ]
          },
          "metadata": {},
          "output_type": "display_data"
        },
        {
          "data": {
            "text/html": [
              "Syncing run <strong><a href='https://wandb.ai/3628-pavitrakhare-indian-institute-of-technology-madras/DA6401_ASS-practice/runs/9ddjjtpk' target=\"_blank\">sparkling-sweep-47</a></strong> to <a href='https://wandb.ai/3628-pavitrakhare-indian-institute-of-technology-madras/DA6401_ASS-practice' target=\"_blank\">Weights & Biases</a> (<a href='https://wandb.me/developer-guide' target=\"_blank\">docs</a>)<br>Sweep page: <a href='https://wandb.ai/3628-pavitrakhare-indian-institute-of-technology-madras/DA6401_ASS-practice/sweeps/nfibwu4x' target=\"_blank\">https://wandb.ai/3628-pavitrakhare-indian-institute-of-technology-madras/DA6401_ASS-practice/sweeps/nfibwu4x</a>"
            ],
            "text/plain": [
              "<IPython.core.display.HTML object>"
            ]
          },
          "metadata": {},
          "output_type": "display_data"
        },
        {
          "data": {
            "text/html": [
              " View project at <a href='https://wandb.ai/3628-pavitrakhare-indian-institute-of-technology-madras/DA6401_ASS-practice' target=\"_blank\">https://wandb.ai/3628-pavitrakhare-indian-institute-of-technology-madras/DA6401_ASS-practice</a>"
            ],
            "text/plain": [
              "<IPython.core.display.HTML object>"
            ]
          },
          "metadata": {},
          "output_type": "display_data"
        },
        {
          "data": {
            "text/html": [
              " View sweep at <a href='https://wandb.ai/3628-pavitrakhare-indian-institute-of-technology-madras/DA6401_ASS-practice/sweeps/nfibwu4x' target=\"_blank\">https://wandb.ai/3628-pavitrakhare-indian-institute-of-technology-madras/DA6401_ASS-practice/sweeps/nfibwu4x</a>"
            ],
            "text/plain": [
              "<IPython.core.display.HTML object>"
            ]
          },
          "metadata": {},
          "output_type": "display_data"
        },
        {
          "data": {
            "text/html": [
              " View run at <a href='https://wandb.ai/3628-pavitrakhare-indian-institute-of-technology-madras/DA6401_ASS-practice/runs/9ddjjtpk' target=\"_blank\">https://wandb.ai/3628-pavitrakhare-indian-institute-of-technology-madras/DA6401_ASS-practice/runs/9ddjjtpk</a>"
            ],
            "text/plain": [
              "<IPython.core.display.HTML object>"
            ]
          },
          "metadata": {},
          "output_type": "display_data"
        },
        {
          "name": "stdout",
          "output_type": "stream",
          "text": [
            "epoch :  1  validation loss :  0.5922785260081642\n",
            "epoch :  2  validation loss :  0.4961090097634101\n",
            "epoch :  3  validation loss :  0.4560128032211816\n",
            "epoch :  4  validation loss :  0.4328276346468257\n",
            "epoch :  5  validation loss :  0.41733375028992115\n",
            "epoch :  6  validation loss :  0.4064848176036808\n",
            "epoch :  7  validation loss :  0.3977579626096749\n",
            "epoch :  8  validation loss :  0.3906717860087642\n",
            "epoch :  9  validation loss :  0.3850031749058629\n",
            "epoch :  10  validation loss :  0.3798796646409992\n"
          ]
        },
        {
          "data": {
            "text/html": [],
            "text/plain": [
              "<IPython.core.display.HTML object>"
            ]
          },
          "metadata": {},
          "output_type": "display_data"
        },
        {
          "data": {
            "text/html": [
              "<br>    <style><br>        .wandb-row {<br>            display: flex;<br>            flex-direction: row;<br>            flex-wrap: wrap;<br>            justify-content: flex-start;<br>            width: 100%;<br>        }<br>        .wandb-col {<br>            display: flex;<br>            flex-direction: column;<br>            flex-basis: 100%;<br>            flex: 1;<br>            padding: 10px;<br>        }<br>    </style><br><div class=\"wandb-row\"><div class=\"wandb-col\"><h3>Run history:</h3><br/><table class=\"wandb\"><tr><td>accuracy</td><td>▁▆▇▇▇█████</td></tr><tr><td>epoch</td><td>▁▂▃▃▄▅▆▆▇█</td></tr><tr><td>loss</td><td>█▃▂▂▂▁▁▁▁▁</td></tr><tr><td>val_accuracy</td><td>▁▄▆▆▇▇▇███</td></tr><tr><td>val_loss</td><td>█▅▄▃▂▂▂▁▁▁</td></tr></table><br/></div><div class=\"wandb-col\"><h3>Run summary:</h3><br/><table class=\"wandb\"><tr><td>accuracy</td><td>0.87463</td></tr><tr><td>epoch</td><td>9</td></tr><tr><td>loss</td><td>0.35718</td></tr><tr><td>val_accuracy</td><td>0.86379</td></tr><tr><td>val_loss</td><td>0.37988</td></tr></table><br/></div></div>"
            ],
            "text/plain": [
              "<IPython.core.display.HTML object>"
            ]
          },
          "metadata": {},
          "output_type": "display_data"
        },
        {
          "data": {
            "text/html": [
              " View run <strong style=\"color:#cdcd00\">hl_4_sz_128_bs_64_ac_ReLU_w_i_Xavier_lr_0.0001_wd_0.0005</strong> at: <a href='https://wandb.ai/3628-pavitrakhare-indian-institute-of-technology-madras/DA6401_ASS-practice/runs/9ddjjtpk' target=\"_blank\">https://wandb.ai/3628-pavitrakhare-indian-institute-of-technology-madras/DA6401_ASS-practice/runs/9ddjjtpk</a><br> View project at: <a href='https://wandb.ai/3628-pavitrakhare-indian-institute-of-technology-madras/DA6401_ASS-practice' target=\"_blank\">https://wandb.ai/3628-pavitrakhare-indian-institute-of-technology-madras/DA6401_ASS-practice</a><br>Synced 5 W&B file(s), 0 media file(s), 0 artifact file(s) and 0 other file(s)"
            ],
            "text/plain": [
              "<IPython.core.display.HTML object>"
            ]
          },
          "metadata": {},
          "output_type": "display_data"
        },
        {
          "data": {
            "text/html": [
              "Find logs at: <code>./wandb/run-20250309_003213-9ddjjtpk/logs</code>"
            ],
            "text/plain": [
              "<IPython.core.display.HTML object>"
            ]
          },
          "metadata": {},
          "output_type": "display_data"
        },
        {
          "name": "stderr",
          "output_type": "stream",
          "text": [
            "\u001b[34m\u001b[1mwandb\u001b[0m: Agent Starting Run: 0zhz06fw with config:\n",
            "\u001b[34m\u001b[1mwandb\u001b[0m: \ta: tanh\n",
            "\u001b[34m\u001b[1mwandb\u001b[0m: \tb: 64\n",
            "\u001b[34m\u001b[1mwandb\u001b[0m: \te: 10\n",
            "\u001b[34m\u001b[1mwandb\u001b[0m: \tlr: 0.0001\n",
            "\u001b[34m\u001b[1mwandb\u001b[0m: \tnlh: 5\n",
            "\u001b[34m\u001b[1mwandb\u001b[0m: \to: adam\n",
            "\u001b[34m\u001b[1mwandb\u001b[0m: \tsz: 128\n",
            "\u001b[34m\u001b[1mwandb\u001b[0m: \tw_d: 0.5\n",
            "\u001b[34m\u001b[1mwandb\u001b[0m: \tw_i: Xavier\n"
          ]
        },
        {
          "data": {
            "text/html": [
              "Ignoring project 'DA6401_ASS-practice' when running a sweep."
            ],
            "text/plain": [
              "<IPython.core.display.HTML object>"
            ]
          },
          "metadata": {},
          "output_type": "display_data"
        },
        {
          "data": {
            "text/html": [
              "Tracking run with wandb version 0.19.7"
            ],
            "text/plain": [
              "<IPython.core.display.HTML object>"
            ]
          },
          "metadata": {},
          "output_type": "display_data"
        },
        {
          "data": {
            "text/html": [
              "Run data is saved locally in <code>/content/wandb/run-20250309_004242-0zhz06fw</code>"
            ],
            "text/plain": [
              "<IPython.core.display.HTML object>"
            ]
          },
          "metadata": {},
          "output_type": "display_data"
        },
        {
          "data": {
            "text/html": [
              "Syncing run <strong><a href='https://wandb.ai/3628-pavitrakhare-indian-institute-of-technology-madras/DA6401_ASS-practice/runs/0zhz06fw' target=\"_blank\">comfy-sweep-48</a></strong> to <a href='https://wandb.ai/3628-pavitrakhare-indian-institute-of-technology-madras/DA6401_ASS-practice' target=\"_blank\">Weights & Biases</a> (<a href='https://wandb.me/developer-guide' target=\"_blank\">docs</a>)<br>Sweep page: <a href='https://wandb.ai/3628-pavitrakhare-indian-institute-of-technology-madras/DA6401_ASS-practice/sweeps/nfibwu4x' target=\"_blank\">https://wandb.ai/3628-pavitrakhare-indian-institute-of-technology-madras/DA6401_ASS-practice/sweeps/nfibwu4x</a>"
            ],
            "text/plain": [
              "<IPython.core.display.HTML object>"
            ]
          },
          "metadata": {},
          "output_type": "display_data"
        },
        {
          "data": {
            "text/html": [
              " View project at <a href='https://wandb.ai/3628-pavitrakhare-indian-institute-of-technology-madras/DA6401_ASS-practice' target=\"_blank\">https://wandb.ai/3628-pavitrakhare-indian-institute-of-technology-madras/DA6401_ASS-practice</a>"
            ],
            "text/plain": [
              "<IPython.core.display.HTML object>"
            ]
          },
          "metadata": {},
          "output_type": "display_data"
        },
        {
          "data": {
            "text/html": [
              " View sweep at <a href='https://wandb.ai/3628-pavitrakhare-indian-institute-of-technology-madras/DA6401_ASS-practice/sweeps/nfibwu4x' target=\"_blank\">https://wandb.ai/3628-pavitrakhare-indian-institute-of-technology-madras/DA6401_ASS-practice/sweeps/nfibwu4x</a>"
            ],
            "text/plain": [
              "<IPython.core.display.HTML object>"
            ]
          },
          "metadata": {},
          "output_type": "display_data"
        },
        {
          "data": {
            "text/html": [
              " View run at <a href='https://wandb.ai/3628-pavitrakhare-indian-institute-of-technology-madras/DA6401_ASS-practice/runs/0zhz06fw' target=\"_blank\">https://wandb.ai/3628-pavitrakhare-indian-institute-of-technology-madras/DA6401_ASS-practice/runs/0zhz06fw</a>"
            ],
            "text/plain": [
              "<IPython.core.display.HTML object>"
            ]
          },
          "metadata": {},
          "output_type": "display_data"
        },
        {
          "name": "stdout",
          "output_type": "stream",
          "text": [
            "epoch :  1  validation loss :  0.6084943708041954\n",
            "epoch :  2  validation loss :  0.5060984131595655\n",
            "epoch :  3  validation loss :  0.4669928555941059\n",
            "epoch :  4  validation loss :  0.4453508376497535\n",
            "epoch :  5  validation loss :  0.430961087741608\n",
            "epoch :  6  validation loss :  0.4203706128143417\n",
            "epoch :  7  validation loss :  0.4120806010100878\n",
            "epoch :  8  validation loss :  0.4053086405108654\n",
            "epoch :  9  validation loss :  0.3996062102006662\n",
            "epoch :  10  validation loss :  0.39470440268586\n"
          ]
        },
        {
          "data": {
            "text/html": [],
            "text/plain": [
              "<IPython.core.display.HTML object>"
            ]
          },
          "metadata": {},
          "output_type": "display_data"
        },
        {
          "data": {
            "text/html": [
              "<br>    <style><br>        .wandb-row {<br>            display: flex;<br>            flex-direction: row;<br>            flex-wrap: wrap;<br>            justify-content: flex-start;<br>            width: 100%;<br>        }<br>        .wandb-col {<br>            display: flex;<br>            flex-direction: column;<br>            flex-basis: 100%;<br>            flex: 1;<br>            padding: 10px;<br>        }<br>    </style><br><div class=\"wandb-row\"><div class=\"wandb-col\"><h3>Run history:</h3><br/><table class=\"wandb\"><tr><td>accuracy</td><td>▁▅▆▇▇▇▇███</td></tr><tr><td>epoch</td><td>▁▂▃▃▄▅▆▆▇█</td></tr><tr><td>loss</td><td>█▃▂▂▂▂▁▁▁▁</td></tr><tr><td>val_accuracy</td><td>▁▄▅▆▇▇▇███</td></tr><tr><td>val_loss</td><td>█▅▃▃▂▂▂▁▁▁</td></tr></table><br/></div><div class=\"wandb-col\"><h3>Run summary:</h3><br/><table class=\"wandb\"><tr><td>accuracy</td><td>0.87982</td></tr><tr><td>epoch</td><td>9</td></tr><tr><td>loss</td><td>0.34073</td></tr><tr><td>val_accuracy</td><td>0.86787</td></tr><tr><td>val_loss</td><td>0.3947</td></tr></table><br/></div></div>"
            ],
            "text/plain": [
              "<IPython.core.display.HTML object>"
            ]
          },
          "metadata": {},
          "output_type": "display_data"
        },
        {
          "data": {
            "text/html": [
              " View run <strong style=\"color:#cdcd00\">hl_5_sz_128_bs_64_ac_tanh_w_i_Xavier_lr_0.0001_wd_0.5</strong> at: <a href='https://wandb.ai/3628-pavitrakhare-indian-institute-of-technology-madras/DA6401_ASS-practice/runs/0zhz06fw' target=\"_blank\">https://wandb.ai/3628-pavitrakhare-indian-institute-of-technology-madras/DA6401_ASS-practice/runs/0zhz06fw</a><br> View project at: <a href='https://wandb.ai/3628-pavitrakhare-indian-institute-of-technology-madras/DA6401_ASS-practice' target=\"_blank\">https://wandb.ai/3628-pavitrakhare-indian-institute-of-technology-madras/DA6401_ASS-practice</a><br>Synced 5 W&B file(s), 0 media file(s), 0 artifact file(s) and 0 other file(s)"
            ],
            "text/plain": [
              "<IPython.core.display.HTML object>"
            ]
          },
          "metadata": {},
          "output_type": "display_data"
        },
        {
          "data": {
            "text/html": [
              "Find logs at: <code>./wandb/run-20250309_004242-0zhz06fw/logs</code>"
            ],
            "text/plain": [
              "<IPython.core.display.HTML object>"
            ]
          },
          "metadata": {},
          "output_type": "display_data"
        },
        {
          "name": "stderr",
          "output_type": "stream",
          "text": [
            "\u001b[34m\u001b[1mwandb\u001b[0m: Agent Starting Run: fxuh5d9d with config:\n",
            "\u001b[34m\u001b[1mwandb\u001b[0m: \ta: ReLU\n",
            "\u001b[34m\u001b[1mwandb\u001b[0m: \tb: 64\n",
            "\u001b[34m\u001b[1mwandb\u001b[0m: \te: 10\n",
            "\u001b[34m\u001b[1mwandb\u001b[0m: \tlr: 0.001\n",
            "\u001b[34m\u001b[1mwandb\u001b[0m: \tnlh: 5\n",
            "\u001b[34m\u001b[1mwandb\u001b[0m: \to: nadam\n",
            "\u001b[34m\u001b[1mwandb\u001b[0m: \tsz: 32\n",
            "\u001b[34m\u001b[1mwandb\u001b[0m: \tw_d: 0.0005\n",
            "\u001b[34m\u001b[1mwandb\u001b[0m: \tw_i: Xavier\n"
          ]
        },
        {
          "data": {
            "text/html": [
              "Ignoring project 'DA6401_ASS-practice' when running a sweep."
            ],
            "text/plain": [
              "<IPython.core.display.HTML object>"
            ]
          },
          "metadata": {},
          "output_type": "display_data"
        },
        {
          "data": {
            "text/html": [
              "Tracking run with wandb version 0.19.7"
            ],
            "text/plain": [
              "<IPython.core.display.HTML object>"
            ]
          },
          "metadata": {},
          "output_type": "display_data"
        },
        {
          "data": {
            "text/html": [
              "Run data is saved locally in <code>/content/wandb/run-20250309_005545-fxuh5d9d</code>"
            ],
            "text/plain": [
              "<IPython.core.display.HTML object>"
            ]
          },
          "metadata": {},
          "output_type": "display_data"
        },
        {
          "data": {
            "text/html": [
              "Syncing run <strong><a href='https://wandb.ai/3628-pavitrakhare-indian-institute-of-technology-madras/DA6401_ASS-practice/runs/fxuh5d9d' target=\"_blank\">summer-sweep-49</a></strong> to <a href='https://wandb.ai/3628-pavitrakhare-indian-institute-of-technology-madras/DA6401_ASS-practice' target=\"_blank\">Weights & Biases</a> (<a href='https://wandb.me/developer-guide' target=\"_blank\">docs</a>)<br>Sweep page: <a href='https://wandb.ai/3628-pavitrakhare-indian-institute-of-technology-madras/DA6401_ASS-practice/sweeps/nfibwu4x' target=\"_blank\">https://wandb.ai/3628-pavitrakhare-indian-institute-of-technology-madras/DA6401_ASS-practice/sweeps/nfibwu4x</a>"
            ],
            "text/plain": [
              "<IPython.core.display.HTML object>"
            ]
          },
          "metadata": {},
          "output_type": "display_data"
        },
        {
          "data": {
            "text/html": [
              " View project at <a href='https://wandb.ai/3628-pavitrakhare-indian-institute-of-technology-madras/DA6401_ASS-practice' target=\"_blank\">https://wandb.ai/3628-pavitrakhare-indian-institute-of-technology-madras/DA6401_ASS-practice</a>"
            ],
            "text/plain": [
              "<IPython.core.display.HTML object>"
            ]
          },
          "metadata": {},
          "output_type": "display_data"
        },
        {
          "data": {
            "text/html": [
              " View sweep at <a href='https://wandb.ai/3628-pavitrakhare-indian-institute-of-technology-madras/DA6401_ASS-practice/sweeps/nfibwu4x' target=\"_blank\">https://wandb.ai/3628-pavitrakhare-indian-institute-of-technology-madras/DA6401_ASS-practice/sweeps/nfibwu4x</a>"
            ],
            "text/plain": [
              "<IPython.core.display.HTML object>"
            ]
          },
          "metadata": {},
          "output_type": "display_data"
        },
        {
          "data": {
            "text/html": [
              " View run at <a href='https://wandb.ai/3628-pavitrakhare-indian-institute-of-technology-madras/DA6401_ASS-practice/runs/fxuh5d9d' target=\"_blank\">https://wandb.ai/3628-pavitrakhare-indian-institute-of-technology-madras/DA6401_ASS-practice/runs/fxuh5d9d</a>"
            ],
            "text/plain": [
              "<IPython.core.display.HTML object>"
            ]
          },
          "metadata": {},
          "output_type": "display_data"
        },
        {
          "name": "stdout",
          "output_type": "stream",
          "text": [
            "epoch :  1  validation loss :  0.500790487542323\n",
            "epoch :  2  validation loss :  0.43938093412545615\n",
            "epoch :  3  validation loss :  0.4089344844907594\n",
            "epoch :  4  validation loss :  0.38840204848885074\n",
            "epoch :  5  validation loss :  0.37532151823086096\n",
            "epoch :  6  validation loss :  0.3691533341179317\n",
            "epoch :  7  validation loss :  0.36192204312566145\n",
            "epoch :  8  validation loss :  0.3602504083310541\n",
            "epoch :  9  validation loss :  0.36010408086642204\n",
            "epoch :  10  validation loss :  0.3535724535278871\n"
          ]
        },
        {
          "data": {
            "text/html": [],
            "text/plain": [
              "<IPython.core.display.HTML object>"
            ]
          },
          "metadata": {},
          "output_type": "display_data"
        },
        {
          "data": {
            "text/html": [
              "<br>    <style><br>        .wandb-row {<br>            display: flex;<br>            flex-direction: row;<br>            flex-wrap: wrap;<br>            justify-content: flex-start;<br>            width: 100%;<br>        }<br>        .wandb-col {<br>            display: flex;<br>            flex-direction: column;<br>            flex-basis: 100%;<br>            flex: 1;<br>            padding: 10px;<br>        }<br>    </style><br><div class=\"wandb-row\"><div class=\"wandb-col\"><h3>Run history:</h3><br/><table class=\"wandb\"><tr><td>accuracy</td><td>▁▆▆▇▇▇████</td></tr><tr><td>epoch</td><td>▁▂▃▃▄▅▆▆▇█</td></tr><tr><td>loss</td><td>█▃▃▂▂▂▁▁▁▁</td></tr><tr><td>val_accuracy</td><td>▁▄▆▆▇▇▇███</td></tr><tr><td>val_loss</td><td>█▅▄▃▂▂▁▁▁▁</td></tr></table><br/></div><div class=\"wandb-col\"><h3>Run summary:</h3><br/><table class=\"wandb\"><tr><td>accuracy</td><td>0.88552</td></tr><tr><td>epoch</td><td>9</td></tr><tr><td>loss</td><td>0.31438</td></tr><tr><td>val_accuracy</td><td>0.86957</td></tr><tr><td>val_loss</td><td>0.35357</td></tr></table><br/></div></div>"
            ],
            "text/plain": [
              "<IPython.core.display.HTML object>"
            ]
          },
          "metadata": {},
          "output_type": "display_data"
        },
        {
          "data": {
            "text/html": [
              " View run <strong style=\"color:#cdcd00\">hl_5_sz_32_bs_64_ac_ReLU_w_i_Xavier_lr_0.001_wd_0.0005</strong> at: <a href='https://wandb.ai/3628-pavitrakhare-indian-institute-of-technology-madras/DA6401_ASS-practice/runs/fxuh5d9d' target=\"_blank\">https://wandb.ai/3628-pavitrakhare-indian-institute-of-technology-madras/DA6401_ASS-practice/runs/fxuh5d9d</a><br> View project at: <a href='https://wandb.ai/3628-pavitrakhare-indian-institute-of-technology-madras/DA6401_ASS-practice' target=\"_blank\">https://wandb.ai/3628-pavitrakhare-indian-institute-of-technology-madras/DA6401_ASS-practice</a><br>Synced 5 W&B file(s), 0 media file(s), 0 artifact file(s) and 0 other file(s)"
            ],
            "text/plain": [
              "<IPython.core.display.HTML object>"
            ]
          },
          "metadata": {},
          "output_type": "display_data"
        },
        {
          "data": {
            "text/html": [
              "Find logs at: <code>./wandb/run-20250309_005545-fxuh5d9d/logs</code>"
            ],
            "text/plain": [
              "<IPython.core.display.HTML object>"
            ]
          },
          "metadata": {},
          "output_type": "display_data"
        },
        {
          "name": "stderr",
          "output_type": "stream",
          "text": [
            "\u001b[34m\u001b[1mwandb\u001b[0m: Agent Starting Run: was14927 with config:\n",
            "\u001b[34m\u001b[1mwandb\u001b[0m: \ta: ReLU\n",
            "\u001b[34m\u001b[1mwandb\u001b[0m: \tb: 32\n",
            "\u001b[34m\u001b[1mwandb\u001b[0m: \te: 10\n",
            "\u001b[34m\u001b[1mwandb\u001b[0m: \tlr: 0.0001\n",
            "\u001b[34m\u001b[1mwandb\u001b[0m: \tnlh: 3\n",
            "\u001b[34m\u001b[1mwandb\u001b[0m: \to: adam\n",
            "\u001b[34m\u001b[1mwandb\u001b[0m: \tsz: 64\n",
            "\u001b[34m\u001b[1mwandb\u001b[0m: \tw_d: 0\n",
            "\u001b[34m\u001b[1mwandb\u001b[0m: \tw_i: Xavier\n"
          ]
        },
        {
          "data": {
            "text/html": [
              "Ignoring project 'DA6401_ASS-practice' when running a sweep."
            ],
            "text/plain": [
              "<IPython.core.display.HTML object>"
            ]
          },
          "metadata": {},
          "output_type": "display_data"
        },
        {
          "data": {
            "text/html": [
              "Tracking run with wandb version 0.19.7"
            ],
            "text/plain": [
              "<IPython.core.display.HTML object>"
            ]
          },
          "metadata": {},
          "output_type": "display_data"
        },
        {
          "data": {
            "text/html": [
              "Run data is saved locally in <code>/content/wandb/run-20250309_005943-was14927</code>"
            ],
            "text/plain": [
              "<IPython.core.display.HTML object>"
            ]
          },
          "metadata": {},
          "output_type": "display_data"
        },
        {
          "data": {
            "text/html": [
              "Syncing run <strong><a href='https://wandb.ai/3628-pavitrakhare-indian-institute-of-technology-madras/DA6401_ASS-practice/runs/was14927' target=\"_blank\">dainty-sweep-50</a></strong> to <a href='https://wandb.ai/3628-pavitrakhare-indian-institute-of-technology-madras/DA6401_ASS-practice' target=\"_blank\">Weights & Biases</a> (<a href='https://wandb.me/developer-guide' target=\"_blank\">docs</a>)<br>Sweep page: <a href='https://wandb.ai/3628-pavitrakhare-indian-institute-of-technology-madras/DA6401_ASS-practice/sweeps/nfibwu4x' target=\"_blank\">https://wandb.ai/3628-pavitrakhare-indian-institute-of-technology-madras/DA6401_ASS-practice/sweeps/nfibwu4x</a>"
            ],
            "text/plain": [
              "<IPython.core.display.HTML object>"
            ]
          },
          "metadata": {},
          "output_type": "display_data"
        },
        {
          "data": {
            "text/html": [
              " View project at <a href='https://wandb.ai/3628-pavitrakhare-indian-institute-of-technology-madras/DA6401_ASS-practice' target=\"_blank\">https://wandb.ai/3628-pavitrakhare-indian-institute-of-technology-madras/DA6401_ASS-practice</a>"
            ],
            "text/plain": [
              "<IPython.core.display.HTML object>"
            ]
          },
          "metadata": {},
          "output_type": "display_data"
        },
        {
          "data": {
            "text/html": [
              " View sweep at <a href='https://wandb.ai/3628-pavitrakhare-indian-institute-of-technology-madras/DA6401_ASS-practice/sweeps/nfibwu4x' target=\"_blank\">https://wandb.ai/3628-pavitrakhare-indian-institute-of-technology-madras/DA6401_ASS-practice/sweeps/nfibwu4x</a>"
            ],
            "text/plain": [
              "<IPython.core.display.HTML object>"
            ]
          },
          "metadata": {},
          "output_type": "display_data"
        },
        {
          "data": {
            "text/html": [
              " View run at <a href='https://wandb.ai/3628-pavitrakhare-indian-institute-of-technology-madras/DA6401_ASS-practice/runs/was14927' target=\"_blank\">https://wandb.ai/3628-pavitrakhare-indian-institute-of-technology-madras/DA6401_ASS-practice/runs/was14927</a>"
            ],
            "text/plain": [
              "<IPython.core.display.HTML object>"
            ]
          },
          "metadata": {},
          "output_type": "display_data"
        },
        {
          "name": "stdout",
          "output_type": "stream",
          "text": [
            "epoch :  1  validation loss :  0.6116565633613112\n",
            "epoch :  2  validation loss :  0.5103552072858161\n",
            "epoch :  3  validation loss :  0.47005934234033087\n",
            "epoch :  4  validation loss :  0.4483355655639026\n",
            "epoch :  5  validation loss :  0.43321411629697126\n",
            "epoch :  6  validation loss :  0.4215001785136092\n",
            "epoch :  7  validation loss :  0.4114789346220554\n",
            "epoch :  8  validation loss :  0.4039706109967945\n",
            "epoch :  9  validation loss :  0.39740993067887664\n",
            "epoch :  10  validation loss :  0.39138018941258657\n"
          ]
        },
        {
          "data": {
            "text/html": [],
            "text/plain": [
              "<IPython.core.display.HTML object>"
            ]
          },
          "metadata": {},
          "output_type": "display_data"
        },
        {
          "data": {
            "text/html": [
              "<br>    <style><br>        .wandb-row {<br>            display: flex;<br>            flex-direction: row;<br>            flex-wrap: wrap;<br>            justify-content: flex-start;<br>            width: 100%;<br>        }<br>        .wandb-col {<br>            display: flex;<br>            flex-direction: column;<br>            flex-basis: 100%;<br>            flex: 1;<br>            padding: 10px;<br>        }<br>    </style><br><div class=\"wandb-row\"><div class=\"wandb-col\"><h3>Run history:</h3><br/><table class=\"wandb\"><tr><td>accuracy</td><td>▁▆▇▇▇▇████</td></tr><tr><td>epoch</td><td>▁▂▃▃▄▅▆▆▇█</td></tr><tr><td>loss</td><td>█▃▂▂▂▁▁▁▁▁</td></tr><tr><td>val_accuracy</td><td>▁▄▅▆▇▇▇▇██</td></tr><tr><td>val_loss</td><td>█▅▄▃▂▂▂▁▁▁</td></tr></table><br/></div><div class=\"wandb-col\"><h3>Run summary:</h3><br/><table class=\"wandb\"><tr><td>accuracy</td><td>0.86954</td></tr><tr><td>epoch</td><td>9</td></tr><tr><td>loss</td><td>0.37299</td></tr><tr><td>val_accuracy</td><td>0.85904</td></tr><tr><td>val_loss</td><td>0.39138</td></tr></table><br/></div></div>"
            ],
            "text/plain": [
              "<IPython.core.display.HTML object>"
            ]
          },
          "metadata": {},
          "output_type": "display_data"
        },
        {
          "data": {
            "text/html": [
              " View run <strong style=\"color:#cdcd00\">hl_3_sz_64_bs_32_ac_ReLU_w_i_Xavier_lr_0.0001_wd_0</strong> at: <a href='https://wandb.ai/3628-pavitrakhare-indian-institute-of-technology-madras/DA6401_ASS-practice/runs/was14927' target=\"_blank\">https://wandb.ai/3628-pavitrakhare-indian-institute-of-technology-madras/DA6401_ASS-practice/runs/was14927</a><br> View project at: <a href='https://wandb.ai/3628-pavitrakhare-indian-institute-of-technology-madras/DA6401_ASS-practice' target=\"_blank\">https://wandb.ai/3628-pavitrakhare-indian-institute-of-technology-madras/DA6401_ASS-practice</a><br>Synced 5 W&B file(s), 0 media file(s), 0 artifact file(s) and 0 other file(s)"
            ],
            "text/plain": [
              "<IPython.core.display.HTML object>"
            ]
          },
          "metadata": {},
          "output_type": "display_data"
        },
        {
          "data": {
            "text/html": [
              "Find logs at: <code>./wandb/run-20250309_005943-was14927/logs</code>"
            ],
            "text/plain": [
              "<IPython.core.display.HTML object>"
            ]
          },
          "metadata": {},
          "output_type": "display_data"
        },
        {
          "name": "stderr",
          "output_type": "stream",
          "text": [
            "\u001b[34m\u001b[1mwandb\u001b[0m: Agent Starting Run: valrgtng with config:\n",
            "\u001b[34m\u001b[1mwandb\u001b[0m: \ta: sigmoid\n",
            "\u001b[34m\u001b[1mwandb\u001b[0m: \tb: 32\n",
            "\u001b[34m\u001b[1mwandb\u001b[0m: \te: 10\n",
            "\u001b[34m\u001b[1mwandb\u001b[0m: \tlr: 0.001\n",
            "\u001b[34m\u001b[1mwandb\u001b[0m: \tnlh: 4\n",
            "\u001b[34m\u001b[1mwandb\u001b[0m: \to: nadam\n",
            "\u001b[34m\u001b[1mwandb\u001b[0m: \tsz: 128\n",
            "\u001b[34m\u001b[1mwandb\u001b[0m: \tw_d: 0.0005\n",
            "\u001b[34m\u001b[1mwandb\u001b[0m: \tw_i: Xavier\n"
          ]
        },
        {
          "data": {
            "text/html": [
              "Ignoring project 'DA6401_ASS-practice' when running a sweep."
            ],
            "text/plain": [
              "<IPython.core.display.HTML object>"
            ]
          },
          "metadata": {},
          "output_type": "display_data"
        },
        {
          "data": {
            "text/html": [
              "Tracking run with wandb version 0.19.7"
            ],
            "text/plain": [
              "<IPython.core.display.HTML object>"
            ]
          },
          "metadata": {},
          "output_type": "display_data"
        },
        {
          "data": {
            "text/html": [
              "Run data is saved locally in <code>/content/wandb/run-20250309_010453-valrgtng</code>"
            ],
            "text/plain": [
              "<IPython.core.display.HTML object>"
            ]
          },
          "metadata": {},
          "output_type": "display_data"
        },
        {
          "data": {
            "text/html": [
              "Syncing run <strong><a href='https://wandb.ai/3628-pavitrakhare-indian-institute-of-technology-madras/DA6401_ASS-practice/runs/valrgtng' target=\"_blank\">prime-sweep-51</a></strong> to <a href='https://wandb.ai/3628-pavitrakhare-indian-institute-of-technology-madras/DA6401_ASS-practice' target=\"_blank\">Weights & Biases</a> (<a href='https://wandb.me/developer-guide' target=\"_blank\">docs</a>)<br>Sweep page: <a href='https://wandb.ai/3628-pavitrakhare-indian-institute-of-technology-madras/DA6401_ASS-practice/sweeps/nfibwu4x' target=\"_blank\">https://wandb.ai/3628-pavitrakhare-indian-institute-of-technology-madras/DA6401_ASS-practice/sweeps/nfibwu4x</a>"
            ],
            "text/plain": [
              "<IPython.core.display.HTML object>"
            ]
          },
          "metadata": {},
          "output_type": "display_data"
        },
        {
          "data": {
            "text/html": [
              " View project at <a href='https://wandb.ai/3628-pavitrakhare-indian-institute-of-technology-madras/DA6401_ASS-practice' target=\"_blank\">https://wandb.ai/3628-pavitrakhare-indian-institute-of-technology-madras/DA6401_ASS-practice</a>"
            ],
            "text/plain": [
              "<IPython.core.display.HTML object>"
            ]
          },
          "metadata": {},
          "output_type": "display_data"
        },
        {
          "data": {
            "text/html": [
              " View sweep at <a href='https://wandb.ai/3628-pavitrakhare-indian-institute-of-technology-madras/DA6401_ASS-practice/sweeps/nfibwu4x' target=\"_blank\">https://wandb.ai/3628-pavitrakhare-indian-institute-of-technology-madras/DA6401_ASS-practice/sweeps/nfibwu4x</a>"
            ],
            "text/plain": [
              "<IPython.core.display.HTML object>"
            ]
          },
          "metadata": {},
          "output_type": "display_data"
        },
        {
          "data": {
            "text/html": [
              " View run at <a href='https://wandb.ai/3628-pavitrakhare-indian-institute-of-technology-madras/DA6401_ASS-practice/runs/valrgtng' target=\"_blank\">https://wandb.ai/3628-pavitrakhare-indian-institute-of-technology-madras/DA6401_ASS-practice/runs/valrgtng</a>"
            ],
            "text/plain": [
              "<IPython.core.display.HTML object>"
            ]
          },
          "metadata": {},
          "output_type": "display_data"
        },
        {
          "name": "stdout",
          "output_type": "stream",
          "text": [
            "epoch :  1  validation loss :  1.6912316486150525\n",
            "epoch :  2  validation loss :  1.2450067382782326\n",
            "epoch :  3  validation loss :  0.9206128019843839\n",
            "epoch :  4  validation loss :  0.6658134917227657\n",
            "epoch :  5  validation loss :  0.5461664064120637\n",
            "epoch :  6  validation loss :  0.48450697447744706\n",
            "epoch :  7  validation loss :  0.44629926316338403\n",
            "epoch :  8  validation loss :  0.42148715482740207\n",
            "epoch :  9  validation loss :  0.4027543012100293\n",
            "epoch :  10  validation loss :  0.38841575478644447\n"
          ]
        },
        {
          "data": {
            "text/html": [],
            "text/plain": [
              "<IPython.core.display.HTML object>"
            ]
          },
          "metadata": {},
          "output_type": "display_data"
        },
        {
          "data": {
            "text/html": [
              "<br>    <style><br>        .wandb-row {<br>            display: flex;<br>            flex-direction: row;<br>            flex-wrap: wrap;<br>            justify-content: flex-start;<br>            width: 100%;<br>        }<br>        .wandb-col {<br>            display: flex;<br>            flex-direction: column;<br>            flex-basis: 100%;<br>            flex: 1;<br>            padding: 10px;<br>        }<br>    </style><br><div class=\"wandb-row\"><div class=\"wandb-col\"><h3>Run history:</h3><br/><table class=\"wandb\"><tr><td>accuracy</td><td>▁▃▅▆▇▇████</td></tr><tr><td>epoch</td><td>▁▂▃▃▄▅▆▆▇█</td></tr><tr><td>loss</td><td>█▅▄▃▂▂▁▁▁▁</td></tr><tr><td>val_accuracy</td><td>▁▃▆▇▇█████</td></tr><tr><td>val_loss</td><td>█▆▄▂▂▂▁▁▁▁</td></tr></table><br/></div><div class=\"wandb-col\"><h3>Run summary:</h3><br/><table class=\"wandb\"><tr><td>accuracy</td><td>0.87543</td></tr><tr><td>epoch</td><td>9</td></tr><tr><td>loss</td><td>0.36316</td></tr><tr><td>val_accuracy</td><td>0.86039</td></tr><tr><td>val_loss</td><td>0.38842</td></tr></table><br/></div></div>"
            ],
            "text/plain": [
              "<IPython.core.display.HTML object>"
            ]
          },
          "metadata": {},
          "output_type": "display_data"
        },
        {
          "data": {
            "text/html": [
              " View run <strong style=\"color:#cdcd00\">hl_4_sz_128_bs_32_ac_sigmoid_w_i_Xavier_lr_0.001_wd_0.0005</strong> at: <a href='https://wandb.ai/3628-pavitrakhare-indian-institute-of-technology-madras/DA6401_ASS-practice/runs/valrgtng' target=\"_blank\">https://wandb.ai/3628-pavitrakhare-indian-institute-of-technology-madras/DA6401_ASS-practice/runs/valrgtng</a><br> View project at: <a href='https://wandb.ai/3628-pavitrakhare-indian-institute-of-technology-madras/DA6401_ASS-practice' target=\"_blank\">https://wandb.ai/3628-pavitrakhare-indian-institute-of-technology-madras/DA6401_ASS-practice</a><br>Synced 5 W&B file(s), 0 media file(s), 0 artifact file(s) and 0 other file(s)"
            ],
            "text/plain": [
              "<IPython.core.display.HTML object>"
            ]
          },
          "metadata": {},
          "output_type": "display_data"
        },
        {
          "data": {
            "text/html": [
              "Find logs at: <code>./wandb/run-20250309_010453-valrgtng/logs</code>"
            ],
            "text/plain": [
              "<IPython.core.display.HTML object>"
            ]
          },
          "metadata": {},
          "output_type": "display_data"
        },
        {
          "name": "stderr",
          "output_type": "stream",
          "text": [
            "\u001b[34m\u001b[1mwandb\u001b[0m: Agent Starting Run: uvoxl47g with config:\n",
            "\u001b[34m\u001b[1mwandb\u001b[0m: \ta: sigmoid\n",
            "\u001b[34m\u001b[1mwandb\u001b[0m: \tb: 32\n",
            "\u001b[34m\u001b[1mwandb\u001b[0m: \te: 10\n",
            "\u001b[34m\u001b[1mwandb\u001b[0m: \tlr: 0.001\n",
            "\u001b[34m\u001b[1mwandb\u001b[0m: \tnlh: 4\n",
            "\u001b[34m\u001b[1mwandb\u001b[0m: \to: nadam\n",
            "\u001b[34m\u001b[1mwandb\u001b[0m: \tsz: 128\n",
            "\u001b[34m\u001b[1mwandb\u001b[0m: \tw_d: 0.5\n",
            "\u001b[34m\u001b[1mwandb\u001b[0m: \tw_i: Xavier\n"
          ]
        },
        {
          "data": {
            "text/html": [
              "Ignoring project 'DA6401_ASS-practice' when running a sweep."
            ],
            "text/plain": [
              "<IPython.core.display.HTML object>"
            ]
          },
          "metadata": {},
          "output_type": "display_data"
        },
        {
          "data": {
            "text/html": [
              "Tracking run with wandb version 0.19.7"
            ],
            "text/plain": [
              "<IPython.core.display.HTML object>"
            ]
          },
          "metadata": {},
          "output_type": "display_data"
        },
        {
          "data": {
            "text/html": [
              "Run data is saved locally in <code>/content/wandb/run-20250309_011719-uvoxl47g</code>"
            ],
            "text/plain": [
              "<IPython.core.display.HTML object>"
            ]
          },
          "metadata": {},
          "output_type": "display_data"
        },
        {
          "data": {
            "text/html": [
              "Syncing run <strong><a href='https://wandb.ai/3628-pavitrakhare-indian-institute-of-technology-madras/DA6401_ASS-practice/runs/uvoxl47g' target=\"_blank\">rose-sweep-52</a></strong> to <a href='https://wandb.ai/3628-pavitrakhare-indian-institute-of-technology-madras/DA6401_ASS-practice' target=\"_blank\">Weights & Biases</a> (<a href='https://wandb.me/developer-guide' target=\"_blank\">docs</a>)<br>Sweep page: <a href='https://wandb.ai/3628-pavitrakhare-indian-institute-of-technology-madras/DA6401_ASS-practice/sweeps/nfibwu4x' target=\"_blank\">https://wandb.ai/3628-pavitrakhare-indian-institute-of-technology-madras/DA6401_ASS-practice/sweeps/nfibwu4x</a>"
            ],
            "text/plain": [
              "<IPython.core.display.HTML object>"
            ]
          },
          "metadata": {},
          "output_type": "display_data"
        },
        {
          "data": {
            "text/html": [
              " View project at <a href='https://wandb.ai/3628-pavitrakhare-indian-institute-of-technology-madras/DA6401_ASS-practice' target=\"_blank\">https://wandb.ai/3628-pavitrakhare-indian-institute-of-technology-madras/DA6401_ASS-practice</a>"
            ],
            "text/plain": [
              "<IPython.core.display.HTML object>"
            ]
          },
          "metadata": {},
          "output_type": "display_data"
        },
        {
          "data": {
            "text/html": [
              " View sweep at <a href='https://wandb.ai/3628-pavitrakhare-indian-institute-of-technology-madras/DA6401_ASS-practice/sweeps/nfibwu4x' target=\"_blank\">https://wandb.ai/3628-pavitrakhare-indian-institute-of-technology-madras/DA6401_ASS-practice/sweeps/nfibwu4x</a>"
            ],
            "text/plain": [
              "<IPython.core.display.HTML object>"
            ]
          },
          "metadata": {},
          "output_type": "display_data"
        },
        {
          "data": {
            "text/html": [
              " View run at <a href='https://wandb.ai/3628-pavitrakhare-indian-institute-of-technology-madras/DA6401_ASS-practice/runs/uvoxl47g' target=\"_blank\">https://wandb.ai/3628-pavitrakhare-indian-institute-of-technology-madras/DA6401_ASS-practice/runs/uvoxl47g</a>"
            ],
            "text/plain": [
              "<IPython.core.display.HTML object>"
            ]
          },
          "metadata": {},
          "output_type": "display_data"
        },
        {
          "name": "stdout",
          "output_type": "stream",
          "text": [
            "epoch :  1  validation loss :  1.6916457665455684\n",
            "epoch :  2  validation loss :  1.2366082286928883\n",
            "epoch :  3  validation loss :  0.9196410080302237\n",
            "epoch :  4  validation loss :  0.7513066221762087\n",
            "epoch :  5  validation loss :  0.6504167201051161\n",
            "epoch :  6  validation loss :  0.5861862599566614\n",
            "epoch :  7  validation loss :  0.5484142439866508\n",
            "epoch :  8  validation loss :  0.5298277371835469\n",
            "epoch :  9  validation loss :  0.520011098409563\n",
            "epoch :  10  validation loss :  0.5134544409183432\n"
          ]
        },
        {
          "data": {
            "text/html": [],
            "text/plain": [
              "<IPython.core.display.HTML object>"
            ]
          },
          "metadata": {},
          "output_type": "display_data"
        },
        {
          "data": {
            "text/html": [
              "<br>    <style><br>        .wandb-row {<br>            display: flex;<br>            flex-direction: row;<br>            flex-wrap: wrap;<br>            justify-content: flex-start;<br>            width: 100%;<br>        }<br>        .wandb-col {<br>            display: flex;<br>            flex-direction: column;<br>            flex-basis: 100%;<br>            flex: 1;<br>            padding: 10px;<br>        }<br>    </style><br><div class=\"wandb-row\"><div class=\"wandb-col\"><h3>Run history:</h3><br/><table class=\"wandb\"><tr><td>accuracy</td><td>▁▃▅▆▇▇████</td></tr><tr><td>epoch</td><td>▁▂▃▃▄▅▆▆▇█</td></tr><tr><td>loss</td><td>█▅▄▃▂▂▁▁▁▁</td></tr><tr><td>val_accuracy</td><td>▁▄▆▇▇█████</td></tr><tr><td>val_loss</td><td>█▅▃▂▂▁▁▁▁▁</td></tr></table><br/></div><div class=\"wandb-col\"><h3>Run summary:</h3><br/><table class=\"wandb\"><tr><td>accuracy</td><td>0.8714</td></tr><tr><td>epoch</td><td>9</td></tr><tr><td>loss</td><td>0.38306</td></tr><tr><td>val_accuracy</td><td>0.85904</td></tr><tr><td>val_loss</td><td>0.51345</td></tr></table><br/></div></div>"
            ],
            "text/plain": [
              "<IPython.core.display.HTML object>"
            ]
          },
          "metadata": {},
          "output_type": "display_data"
        },
        {
          "data": {
            "text/html": [
              " View run <strong style=\"color:#cdcd00\">hl_4_sz_128_bs_32_ac_sigmoid_w_i_Xavier_lr_0.001_wd_0.5</strong> at: <a href='https://wandb.ai/3628-pavitrakhare-indian-institute-of-technology-madras/DA6401_ASS-practice/runs/uvoxl47g' target=\"_blank\">https://wandb.ai/3628-pavitrakhare-indian-institute-of-technology-madras/DA6401_ASS-practice/runs/uvoxl47g</a><br> View project at: <a href='https://wandb.ai/3628-pavitrakhare-indian-institute-of-technology-madras/DA6401_ASS-practice' target=\"_blank\">https://wandb.ai/3628-pavitrakhare-indian-institute-of-technology-madras/DA6401_ASS-practice</a><br>Synced 5 W&B file(s), 0 media file(s), 0 artifact file(s) and 0 other file(s)"
            ],
            "text/plain": [
              "<IPython.core.display.HTML object>"
            ]
          },
          "metadata": {},
          "output_type": "display_data"
        },
        {
          "data": {
            "text/html": [
              "Find logs at: <code>./wandb/run-20250309_011719-uvoxl47g/logs</code>"
            ],
            "text/plain": [
              "<IPython.core.display.HTML object>"
            ]
          },
          "metadata": {},
          "output_type": "display_data"
        },
        {
          "name": "stderr",
          "output_type": "stream",
          "text": [
            "\u001b[34m\u001b[1mwandb\u001b[0m: Agent Starting Run: aodwvxms with config:\n",
            "\u001b[34m\u001b[1mwandb\u001b[0m: \ta: ReLU\n",
            "\u001b[34m\u001b[1mwandb\u001b[0m: \tb: 64\n",
            "\u001b[34m\u001b[1mwandb\u001b[0m: \te: 10\n",
            "\u001b[34m\u001b[1mwandb\u001b[0m: \tlr: 0.001\n",
            "\u001b[34m\u001b[1mwandb\u001b[0m: \tnlh: 5\n",
            "\u001b[34m\u001b[1mwandb\u001b[0m: \to: adam\n",
            "\u001b[34m\u001b[1mwandb\u001b[0m: \tsz: 128\n",
            "\u001b[34m\u001b[1mwandb\u001b[0m: \tw_d: 0.5\n",
            "\u001b[34m\u001b[1mwandb\u001b[0m: \tw_i: random\n"
          ]
        },
        {
          "data": {
            "text/html": [
              "Ignoring project 'DA6401_ASS-practice' when running a sweep."
            ],
            "text/plain": [
              "<IPython.core.display.HTML object>"
            ]
          },
          "metadata": {},
          "output_type": "display_data"
        },
        {
          "data": {
            "text/html": [
              "Tracking run with wandb version 0.19.7"
            ],
            "text/plain": [
              "<IPython.core.display.HTML object>"
            ]
          },
          "metadata": {},
          "output_type": "display_data"
        },
        {
          "data": {
            "text/html": [
              "Run data is saved locally in <code>/content/wandb/run-20250309_012939-aodwvxms</code>"
            ],
            "text/plain": [
              "<IPython.core.display.HTML object>"
            ]
          },
          "metadata": {},
          "output_type": "display_data"
        },
        {
          "data": {
            "text/html": [
              "Syncing run <strong><a href='https://wandb.ai/3628-pavitrakhare-indian-institute-of-technology-madras/DA6401_ASS-practice/runs/aodwvxms' target=\"_blank\">sweepy-sweep-53</a></strong> to <a href='https://wandb.ai/3628-pavitrakhare-indian-institute-of-technology-madras/DA6401_ASS-practice' target=\"_blank\">Weights & Biases</a> (<a href='https://wandb.me/developer-guide' target=\"_blank\">docs</a>)<br>Sweep page: <a href='https://wandb.ai/3628-pavitrakhare-indian-institute-of-technology-madras/DA6401_ASS-practice/sweeps/nfibwu4x' target=\"_blank\">https://wandb.ai/3628-pavitrakhare-indian-institute-of-technology-madras/DA6401_ASS-practice/sweeps/nfibwu4x</a>"
            ],
            "text/plain": [
              "<IPython.core.display.HTML object>"
            ]
          },
          "metadata": {},
          "output_type": "display_data"
        },
        {
          "data": {
            "text/html": [
              " View project at <a href='https://wandb.ai/3628-pavitrakhare-indian-institute-of-technology-madras/DA6401_ASS-practice' target=\"_blank\">https://wandb.ai/3628-pavitrakhare-indian-institute-of-technology-madras/DA6401_ASS-practice</a>"
            ],
            "text/plain": [
              "<IPython.core.display.HTML object>"
            ]
          },
          "metadata": {},
          "output_type": "display_data"
        },
        {
          "data": {
            "text/html": [
              " View sweep at <a href='https://wandb.ai/3628-pavitrakhare-indian-institute-of-technology-madras/DA6401_ASS-practice/sweeps/nfibwu4x' target=\"_blank\">https://wandb.ai/3628-pavitrakhare-indian-institute-of-technology-madras/DA6401_ASS-practice/sweeps/nfibwu4x</a>"
            ],
            "text/plain": [
              "<IPython.core.display.HTML object>"
            ]
          },
          "metadata": {},
          "output_type": "display_data"
        },
        {
          "data": {
            "text/html": [
              " View run at <a href='https://wandb.ai/3628-pavitrakhare-indian-institute-of-technology-madras/DA6401_ASS-practice/runs/aodwvxms' target=\"_blank\">https://wandb.ai/3628-pavitrakhare-indian-institute-of-technology-madras/DA6401_ASS-practice/runs/aodwvxms</a>"
            ],
            "text/plain": [
              "<IPython.core.display.HTML object>"
            ]
          },
          "metadata": {},
          "output_type": "display_data"
        },
        {
          "name": "stdout",
          "output_type": "stream",
          "text": [
            "epoch :  1  validation loss :  7.1890194221075365\n",
            "epoch :  2  validation loss :  6.469371672645165\n",
            "epoch :  3  validation loss :  6.133306560756461\n",
            "epoch :  4  validation loss :  6.1318745124323675\n",
            "epoch :  5  validation loss :  6.097911125277622\n",
            "epoch :  6  validation loss :  5.633747070422048\n",
            "epoch :  7  validation loss :  5.620374760093466\n",
            "epoch :  8  validation loss :  4.852463388913474\n",
            "epoch :  9  validation loss :  4.772595192369835\n",
            "epoch :  10  validation loss :  4.137568274747219\n"
          ]
        },
        {
          "data": {
            "text/html": [],
            "text/plain": [
              "<IPython.core.display.HTML object>"
            ]
          },
          "metadata": {},
          "output_type": "display_data"
        },
        {
          "data": {
            "text/html": [
              "<br>    <style><br>        .wandb-row {<br>            display: flex;<br>            flex-direction: row;<br>            flex-wrap: wrap;<br>            justify-content: flex-start;<br>            width: 100%;<br>        }<br>        .wandb-col {<br>            display: flex;<br>            flex-direction: column;<br>            flex-basis: 100%;<br>            flex: 1;<br>            padding: 10px;<br>        }<br>    </style><br><div class=\"wandb-row\"><div class=\"wandb-col\"><h3>Run history:</h3><br/><table class=\"wandb\"><tr><td>accuracy</td><td>▁▆▇▇▇█████</td></tr><tr><td>epoch</td><td>▁▂▃▃▄▅▆▆▇█</td></tr><tr><td>loss</td><td>█▅▅▄▄▃▃▂▂▁</td></tr><tr><td>val_accuracy</td><td>▁▆▇▆▅█▆▇▅█</td></tr><tr><td>val_loss</td><td>█▆▆▆▅▄▄▃▂▁</td></tr></table><br/></div><div class=\"wandb-col\"><h3>Run summary:</h3><br/><table class=\"wandb\"><tr><td>accuracy</td><td>0.78711</td></tr><tr><td>epoch</td><td>9</td></tr><tr><td>loss</td><td>2.58035</td></tr><tr><td>val_accuracy</td><td>0.77802</td></tr><tr><td>val_loss</td><td>4.13757</td></tr></table><br/></div></div>"
            ],
            "text/plain": [
              "<IPython.core.display.HTML object>"
            ]
          },
          "metadata": {},
          "output_type": "display_data"
        },
        {
          "data": {
            "text/html": [
              " View run <strong style=\"color:#cdcd00\">hl_5_sz_128_bs_64_ac_ReLU_w_i_random_lr_0.001_wd_0.5</strong> at: <a href='https://wandb.ai/3628-pavitrakhare-indian-institute-of-technology-madras/DA6401_ASS-practice/runs/aodwvxms' target=\"_blank\">https://wandb.ai/3628-pavitrakhare-indian-institute-of-technology-madras/DA6401_ASS-practice/runs/aodwvxms</a><br> View project at: <a href='https://wandb.ai/3628-pavitrakhare-indian-institute-of-technology-madras/DA6401_ASS-practice' target=\"_blank\">https://wandb.ai/3628-pavitrakhare-indian-institute-of-technology-madras/DA6401_ASS-practice</a><br>Synced 5 W&B file(s), 0 media file(s), 0 artifact file(s) and 0 other file(s)"
            ],
            "text/plain": [
              "<IPython.core.display.HTML object>"
            ]
          },
          "metadata": {},
          "output_type": "display_data"
        },
        {
          "data": {
            "text/html": [
              "Find logs at: <code>./wandb/run-20250309_012939-aodwvxms/logs</code>"
            ],
            "text/plain": [
              "<IPython.core.display.HTML object>"
            ]
          },
          "metadata": {},
          "output_type": "display_data"
        },
        {
          "name": "stderr",
          "output_type": "stream",
          "text": [
            "\u001b[34m\u001b[1mwandb\u001b[0m: Agent Starting Run: i3u2tmt4 with config:\n",
            "\u001b[34m\u001b[1mwandb\u001b[0m: \ta: sigmoid\n",
            "\u001b[34m\u001b[1mwandb\u001b[0m: \tb: 64\n",
            "\u001b[34m\u001b[1mwandb\u001b[0m: \te: 10\n",
            "\u001b[34m\u001b[1mwandb\u001b[0m: \tlr: 0.0001\n",
            "\u001b[34m\u001b[1mwandb\u001b[0m: \tnlh: 4\n",
            "\u001b[34m\u001b[1mwandb\u001b[0m: \to: adam\n",
            "\u001b[34m\u001b[1mwandb\u001b[0m: \tsz: 64\n",
            "\u001b[34m\u001b[1mwandb\u001b[0m: \tw_d: 0.0005\n",
            "\u001b[34m\u001b[1mwandb\u001b[0m: \tw_i: random\n"
          ]
        },
        {
          "data": {
            "text/html": [
              "Ignoring project 'DA6401_ASS-practice' when running a sweep."
            ],
            "text/plain": [
              "<IPython.core.display.HTML object>"
            ]
          },
          "metadata": {},
          "output_type": "display_data"
        },
        {
          "data": {
            "text/html": [
              "Tracking run with wandb version 0.19.7"
            ],
            "text/plain": [
              "<IPython.core.display.HTML object>"
            ]
          },
          "metadata": {},
          "output_type": "display_data"
        },
        {
          "data": {
            "text/html": [
              "Run data is saved locally in <code>/content/wandb/run-20250309_014155-i3u2tmt4</code>"
            ],
            "text/plain": [
              "<IPython.core.display.HTML object>"
            ]
          },
          "metadata": {},
          "output_type": "display_data"
        },
        {
          "data": {
            "text/html": [
              "Syncing run <strong><a href='https://wandb.ai/3628-pavitrakhare-indian-institute-of-technology-madras/DA6401_ASS-practice/runs/i3u2tmt4' target=\"_blank\">cerulean-sweep-54</a></strong> to <a href='https://wandb.ai/3628-pavitrakhare-indian-institute-of-technology-madras/DA6401_ASS-practice' target=\"_blank\">Weights & Biases</a> (<a href='https://wandb.me/developer-guide' target=\"_blank\">docs</a>)<br>Sweep page: <a href='https://wandb.ai/3628-pavitrakhare-indian-institute-of-technology-madras/DA6401_ASS-practice/sweeps/nfibwu4x' target=\"_blank\">https://wandb.ai/3628-pavitrakhare-indian-institute-of-technology-madras/DA6401_ASS-practice/sweeps/nfibwu4x</a>"
            ],
            "text/plain": [
              "<IPython.core.display.HTML object>"
            ]
          },
          "metadata": {},
          "output_type": "display_data"
        },
        {
          "data": {
            "text/html": [
              " View project at <a href='https://wandb.ai/3628-pavitrakhare-indian-institute-of-technology-madras/DA6401_ASS-practice' target=\"_blank\">https://wandb.ai/3628-pavitrakhare-indian-institute-of-technology-madras/DA6401_ASS-practice</a>"
            ],
            "text/plain": [
              "<IPython.core.display.HTML object>"
            ]
          },
          "metadata": {},
          "output_type": "display_data"
        },
        {
          "data": {
            "text/html": [
              " View sweep at <a href='https://wandb.ai/3628-pavitrakhare-indian-institute-of-technology-madras/DA6401_ASS-practice/sweeps/nfibwu4x' target=\"_blank\">https://wandb.ai/3628-pavitrakhare-indian-institute-of-technology-madras/DA6401_ASS-practice/sweeps/nfibwu4x</a>"
            ],
            "text/plain": [
              "<IPython.core.display.HTML object>"
            ]
          },
          "metadata": {},
          "output_type": "display_data"
        },
        {
          "data": {
            "text/html": [
              " View run at <a href='https://wandb.ai/3628-pavitrakhare-indian-institute-of-technology-madras/DA6401_ASS-practice/runs/i3u2tmt4' target=\"_blank\">https://wandb.ai/3628-pavitrakhare-indian-institute-of-technology-madras/DA6401_ASS-practice/runs/i3u2tmt4</a>"
            ],
            "text/plain": [
              "<IPython.core.display.HTML object>"
            ]
          },
          "metadata": {},
          "output_type": "display_data"
        },
        {
          "name": "stdout",
          "output_type": "stream",
          "text": [
            "epoch :  1  validation loss :  1.7144993554146606\n",
            "epoch :  2  validation loss :  1.4034411007176246\n",
            "epoch :  3  validation loss :  1.2154303695070148\n",
            "epoch :  4  validation loss :  1.0693267644186917\n",
            "epoch :  5  validation loss :  0.9544969576162858\n",
            "epoch :  6  validation loss :  0.869517668545934\n",
            "epoch :  7  validation loss :  0.8059402218730843\n",
            "epoch :  8  validation loss :  0.7573058497172042\n",
            "epoch :  9  validation loss :  0.7183646493481698\n",
            "epoch :  10  validation loss :  0.6860298479501998\n"
          ]
        },
        {
          "data": {
            "text/html": [],
            "text/plain": [
              "<IPython.core.display.HTML object>"
            ]
          },
          "metadata": {},
          "output_type": "display_data"
        },
        {
          "data": {
            "text/html": [
              "<br>    <style><br>        .wandb-row {<br>            display: flex;<br>            flex-direction: row;<br>            flex-wrap: wrap;<br>            justify-content: flex-start;<br>            width: 100%;<br>        }<br>        .wandb-col {<br>            display: flex;<br>            flex-direction: column;<br>            flex-basis: 100%;<br>            flex: 1;<br>            padding: 10px;<br>        }<br>    </style><br><div class=\"wandb-row\"><div class=\"wandb-col\"><h3>Run history:</h3><br/><table class=\"wandb\"><tr><td>accuracy</td><td>▁▅▆▇▇▇████</td></tr><tr><td>epoch</td><td>▁▂▃▃▄▅▆▆▇█</td></tr><tr><td>loss</td><td>█▅▄▃▃▂▂▁▁▁</td></tr><tr><td>val_accuracy</td><td>▁▄▆▆▇▇▇███</td></tr><tr><td>val_loss</td><td>█▆▅▄▃▂▂▁▁▁</td></tr></table><br/></div><div class=\"wandb-col\"><h3>Run summary:</h3><br/><table class=\"wandb\"><tr><td>accuracy</td><td>0.79342</td></tr><tr><td>epoch</td><td>9</td></tr><tr><td>loss</td><td>0.69624</td></tr><tr><td>val_accuracy</td><td>0.79688</td></tr><tr><td>val_loss</td><td>0.68603</td></tr></table><br/></div></div>"
            ],
            "text/plain": [
              "<IPython.core.display.HTML object>"
            ]
          },
          "metadata": {},
          "output_type": "display_data"
        },
        {
          "data": {
            "text/html": [
              " View run <strong style=\"color:#cdcd00\">hl_4_sz_64_bs_64_ac_sigmoid_w_i_random_lr_0.0001_wd_0.0005</strong> at: <a href='https://wandb.ai/3628-pavitrakhare-indian-institute-of-technology-madras/DA6401_ASS-practice/runs/i3u2tmt4' target=\"_blank\">https://wandb.ai/3628-pavitrakhare-indian-institute-of-technology-madras/DA6401_ASS-practice/runs/i3u2tmt4</a><br> View project at: <a href='https://wandb.ai/3628-pavitrakhare-indian-institute-of-technology-madras/DA6401_ASS-practice' target=\"_blank\">https://wandb.ai/3628-pavitrakhare-indian-institute-of-technology-madras/DA6401_ASS-practice</a><br>Synced 5 W&B file(s), 0 media file(s), 0 artifact file(s) and 0 other file(s)"
            ],
            "text/plain": [
              "<IPython.core.display.HTML object>"
            ]
          },
          "metadata": {},
          "output_type": "display_data"
        },
        {
          "data": {
            "text/html": [
              "Find logs at: <code>./wandb/run-20250309_014155-i3u2tmt4/logs</code>"
            ],
            "text/plain": [
              "<IPython.core.display.HTML object>"
            ]
          },
          "metadata": {},
          "output_type": "display_data"
        },
        {
          "name": "stderr",
          "output_type": "stream",
          "text": [
            "\u001b[34m\u001b[1mwandb\u001b[0m: Agent Starting Run: 94hba8z5 with config:\n",
            "\u001b[34m\u001b[1mwandb\u001b[0m: \ta: sigmoid\n",
            "\u001b[34m\u001b[1mwandb\u001b[0m: \tb: 64\n",
            "\u001b[34m\u001b[1mwandb\u001b[0m: \te: 10\n",
            "\u001b[34m\u001b[1mwandb\u001b[0m: \tlr: 0.0001\n",
            "\u001b[34m\u001b[1mwandb\u001b[0m: \tnlh: 3\n",
            "\u001b[34m\u001b[1mwandb\u001b[0m: \to: rmsprop\n",
            "\u001b[34m\u001b[1mwandb\u001b[0m: \tsz: 64\n",
            "\u001b[34m\u001b[1mwandb\u001b[0m: \tw_d: 0.0005\n",
            "\u001b[34m\u001b[1mwandb\u001b[0m: \tw_i: random\n"
          ]
        },
        {
          "data": {
            "text/html": [
              "Ignoring project 'DA6401_ASS-practice' when running a sweep."
            ],
            "text/plain": [
              "<IPython.core.display.HTML object>"
            ]
          },
          "metadata": {},
          "output_type": "display_data"
        },
        {
          "data": {
            "text/html": [
              "Tracking run with wandb version 0.19.7"
            ],
            "text/plain": [
              "<IPython.core.display.HTML object>"
            ]
          },
          "metadata": {},
          "output_type": "display_data"
        },
        {
          "data": {
            "text/html": [
              "Run data is saved locally in <code>/content/wandb/run-20250309_014740-94hba8z5</code>"
            ],
            "text/plain": [
              "<IPython.core.display.HTML object>"
            ]
          },
          "metadata": {},
          "output_type": "display_data"
        },
        {
          "data": {
            "text/html": [
              "Syncing run <strong><a href='https://wandb.ai/3628-pavitrakhare-indian-institute-of-technology-madras/DA6401_ASS-practice/runs/94hba8z5' target=\"_blank\">treasured-sweep-55</a></strong> to <a href='https://wandb.ai/3628-pavitrakhare-indian-institute-of-technology-madras/DA6401_ASS-practice' target=\"_blank\">Weights & Biases</a> (<a href='https://wandb.me/developer-guide' target=\"_blank\">docs</a>)<br>Sweep page: <a href='https://wandb.ai/3628-pavitrakhare-indian-institute-of-technology-madras/DA6401_ASS-practice/sweeps/nfibwu4x' target=\"_blank\">https://wandb.ai/3628-pavitrakhare-indian-institute-of-technology-madras/DA6401_ASS-practice/sweeps/nfibwu4x</a>"
            ],
            "text/plain": [
              "<IPython.core.display.HTML object>"
            ]
          },
          "metadata": {},
          "output_type": "display_data"
        },
        {
          "data": {
            "text/html": [
              " View project at <a href='https://wandb.ai/3628-pavitrakhare-indian-institute-of-technology-madras/DA6401_ASS-practice' target=\"_blank\">https://wandb.ai/3628-pavitrakhare-indian-institute-of-technology-madras/DA6401_ASS-practice</a>"
            ],
            "text/plain": [
              "<IPython.core.display.HTML object>"
            ]
          },
          "metadata": {},
          "output_type": "display_data"
        },
        {
          "data": {
            "text/html": [
              " View sweep at <a href='https://wandb.ai/3628-pavitrakhare-indian-institute-of-technology-madras/DA6401_ASS-practice/sweeps/nfibwu4x' target=\"_blank\">https://wandb.ai/3628-pavitrakhare-indian-institute-of-technology-madras/DA6401_ASS-practice/sweeps/nfibwu4x</a>"
            ],
            "text/plain": [
              "<IPython.core.display.HTML object>"
            ]
          },
          "metadata": {},
          "output_type": "display_data"
        },
        {
          "data": {
            "text/html": [
              " View run at <a href='https://wandb.ai/3628-pavitrakhare-indian-institute-of-technology-madras/DA6401_ASS-practice/runs/94hba8z5' target=\"_blank\">https://wandb.ai/3628-pavitrakhare-indian-institute-of-technology-madras/DA6401_ASS-practice/runs/94hba8z5</a>"
            ],
            "text/plain": [
              "<IPython.core.display.HTML object>"
            ]
          },
          "metadata": {},
          "output_type": "display_data"
        },
        {
          "name": "stdout",
          "output_type": "stream",
          "text": [
            "epoch :  1  validation loss :  1.9643472351785833\n",
            "epoch :  2  validation loss :  1.257432696391727\n",
            "epoch :  3  validation loss :  1.0246093271566727\n",
            "epoch :  4  validation loss :  0.9060242054311216\n",
            "epoch :  5  validation loss :  0.8295965702235889\n",
            "epoch :  6  validation loss :  0.7742878961267321\n",
            "epoch :  7  validation loss :  0.7315732817293373\n",
            "epoch :  8  validation loss :  0.6968895324710753\n",
            "epoch :  9  validation loss :  0.6676025361138531\n",
            "epoch :  10  validation loss :  0.6422945896853063\n"
          ]
        },
        {
          "data": {
            "text/html": [],
            "text/plain": [
              "<IPython.core.display.HTML object>"
            ]
          },
          "metadata": {},
          "output_type": "display_data"
        },
        {
          "data": {
            "text/html": [
              "<br>    <style><br>        .wandb-row {<br>            display: flex;<br>            flex-direction: row;<br>            flex-wrap: wrap;<br>            justify-content: flex-start;<br>            width: 100%;<br>        }<br>        .wandb-col {<br>            display: flex;<br>            flex-direction: column;<br>            flex-basis: 100%;<br>            flex: 1;<br>            padding: 10px;<br>        }<br>    </style><br><div class=\"wandb-row\"><div class=\"wandb-col\"><h3>Run history:</h3><br/><table class=\"wandb\"><tr><td>accuracy</td><td>▁▅▆▇▇▇████</td></tr><tr><td>epoch</td><td>▁▂▃▃▄▅▆▆▇█</td></tr><tr><td>loss</td><td>█▃▂▂▂▁▁▁▁▁</td></tr><tr><td>val_accuracy</td><td>▁▅▆▇▇▇▇███</td></tr><tr><td>val_loss</td><td>█▄▃▂▂▂▁▁▁▁</td></tr></table><br/></div><div class=\"wandb-col\"><h3>Run summary:</h3><br/><table class=\"wandb\"><tr><td>accuracy</td><td>0.794</td></tr><tr><td>epoch</td><td>9</td></tr><tr><td>loss</td><td>0.64934</td></tr><tr><td>val_accuracy</td><td>0.79637</td></tr><tr><td>val_loss</td><td>0.64229</td></tr></table><br/></div></div>"
            ],
            "text/plain": [
              "<IPython.core.display.HTML object>"
            ]
          },
          "metadata": {},
          "output_type": "display_data"
        },
        {
          "data": {
            "text/html": [
              " View run <strong style=\"color:#cdcd00\">hl_3_sz_64_bs_64_ac_sigmoid_w_i_random_lr_0.0001_wd_0.0005</strong> at: <a href='https://wandb.ai/3628-pavitrakhare-indian-institute-of-technology-madras/DA6401_ASS-practice/runs/94hba8z5' target=\"_blank\">https://wandb.ai/3628-pavitrakhare-indian-institute-of-technology-madras/DA6401_ASS-practice/runs/94hba8z5</a><br> View project at: <a href='https://wandb.ai/3628-pavitrakhare-indian-institute-of-technology-madras/DA6401_ASS-practice' target=\"_blank\">https://wandb.ai/3628-pavitrakhare-indian-institute-of-technology-madras/DA6401_ASS-practice</a><br>Synced 5 W&B file(s), 0 media file(s), 0 artifact file(s) and 0 other file(s)"
            ],
            "text/plain": [
              "<IPython.core.display.HTML object>"
            ]
          },
          "metadata": {},
          "output_type": "display_data"
        },
        {
          "data": {
            "text/html": [
              "Find logs at: <code>./wandb/run-20250309_014740-94hba8z5/logs</code>"
            ],
            "text/plain": [
              "<IPython.core.display.HTML object>"
            ]
          },
          "metadata": {},
          "output_type": "display_data"
        },
        {
          "name": "stderr",
          "output_type": "stream",
          "text": [
            "\u001b[34m\u001b[1mwandb\u001b[0m: Agent Starting Run: 723kxefv with config:\n",
            "\u001b[34m\u001b[1mwandb\u001b[0m: \ta: ReLU\n",
            "\u001b[34m\u001b[1mwandb\u001b[0m: \tb: 64\n",
            "\u001b[34m\u001b[1mwandb\u001b[0m: \te: 10\n",
            "\u001b[34m\u001b[1mwandb\u001b[0m: \tlr: 0.0001\n",
            "\u001b[34m\u001b[1mwandb\u001b[0m: \tnlh: 4\n",
            "\u001b[34m\u001b[1mwandb\u001b[0m: \to: adam\n",
            "\u001b[34m\u001b[1mwandb\u001b[0m: \tsz: 128\n",
            "\u001b[34m\u001b[1mwandb\u001b[0m: \tw_d: 0.0005\n",
            "\u001b[34m\u001b[1mwandb\u001b[0m: \tw_i: random\n"
          ]
        },
        {
          "data": {
            "text/html": [
              "Ignoring project 'DA6401_ASS-practice' when running a sweep."
            ],
            "text/plain": [
              "<IPython.core.display.HTML object>"
            ]
          },
          "metadata": {},
          "output_type": "display_data"
        },
        {
          "data": {
            "text/html": [
              "Tracking run with wandb version 0.19.7"
            ],
            "text/plain": [
              "<IPython.core.display.HTML object>"
            ]
          },
          "metadata": {},
          "output_type": "display_data"
        },
        {
          "data": {
            "text/html": [
              "Run data is saved locally in <code>/content/wandb/run-20250309_015214-723kxefv</code>"
            ],
            "text/plain": [
              "<IPython.core.display.HTML object>"
            ]
          },
          "metadata": {},
          "output_type": "display_data"
        },
        {
          "data": {
            "text/html": [
              "Syncing run <strong><a href='https://wandb.ai/3628-pavitrakhare-indian-institute-of-technology-madras/DA6401_ASS-practice/runs/723kxefv' target=\"_blank\">giddy-sweep-56</a></strong> to <a href='https://wandb.ai/3628-pavitrakhare-indian-institute-of-technology-madras/DA6401_ASS-practice' target=\"_blank\">Weights & Biases</a> (<a href='https://wandb.me/developer-guide' target=\"_blank\">docs</a>)<br>Sweep page: <a href='https://wandb.ai/3628-pavitrakhare-indian-institute-of-technology-madras/DA6401_ASS-practice/sweeps/nfibwu4x' target=\"_blank\">https://wandb.ai/3628-pavitrakhare-indian-institute-of-technology-madras/DA6401_ASS-practice/sweeps/nfibwu4x</a>"
            ],
            "text/plain": [
              "<IPython.core.display.HTML object>"
            ]
          },
          "metadata": {},
          "output_type": "display_data"
        },
        {
          "data": {
            "text/html": [
              " View project at <a href='https://wandb.ai/3628-pavitrakhare-indian-institute-of-technology-madras/DA6401_ASS-practice' target=\"_blank\">https://wandb.ai/3628-pavitrakhare-indian-institute-of-technology-madras/DA6401_ASS-practice</a>"
            ],
            "text/plain": [
              "<IPython.core.display.HTML object>"
            ]
          },
          "metadata": {},
          "output_type": "display_data"
        },
        {
          "data": {
            "text/html": [
              " View sweep at <a href='https://wandb.ai/3628-pavitrakhare-indian-institute-of-technology-madras/DA6401_ASS-practice/sweeps/nfibwu4x' target=\"_blank\">https://wandb.ai/3628-pavitrakhare-indian-institute-of-technology-madras/DA6401_ASS-practice/sweeps/nfibwu4x</a>"
            ],
            "text/plain": [
              "<IPython.core.display.HTML object>"
            ]
          },
          "metadata": {},
          "output_type": "display_data"
        },
        {
          "data": {
            "text/html": [
              " View run at <a href='https://wandb.ai/3628-pavitrakhare-indian-institute-of-technology-madras/DA6401_ASS-practice/runs/723kxefv' target=\"_blank\">https://wandb.ai/3628-pavitrakhare-indian-institute-of-technology-madras/DA6401_ASS-practice/runs/723kxefv</a>"
            ],
            "text/plain": [
              "<IPython.core.display.HTML object>"
            ]
          },
          "metadata": {},
          "output_type": "display_data"
        },
        {
          "name": "stdout",
          "output_type": "stream",
          "text": [
            "epoch :  1  validation loss :  7.38654704628002\n",
            "epoch :  2  validation loss :  5.9908442477667165\n",
            "epoch :  3  validation loss :  5.4332249589903805\n",
            "epoch :  4  validation loss :  5.037999402027566\n",
            "epoch :  5  validation loss :  4.896369234036391\n",
            "epoch :  6  validation loss :  4.701894448116452\n",
            "epoch :  7  validation loss :  4.6828041926130535\n",
            "epoch :  8  validation loss :  4.629317828921812\n",
            "epoch :  9  validation loss :  4.489763152342724\n",
            "epoch :  10  validation loss :  4.453650685699281\n"
          ]
        },
        {
          "data": {
            "text/html": [],
            "text/plain": [
              "<IPython.core.display.HTML object>"
            ]
          },
          "metadata": {},
          "output_type": "display_data"
        },
        {
          "data": {
            "text/html": [
              "<br>    <style><br>        .wandb-row {<br>            display: flex;<br>            flex-direction: row;<br>            flex-wrap: wrap;<br>            justify-content: flex-start;<br>            width: 100%;<br>        }<br>        .wandb-col {<br>            display: flex;<br>            flex-direction: column;<br>            flex-basis: 100%;<br>            flex: 1;<br>            padding: 10px;<br>        }<br>    </style><br><div class=\"wandb-row\"><div class=\"wandb-col\"><h3>Run history:</h3><br/><table class=\"wandb\"><tr><td>accuracy</td><td>▁▆▆▇▇▇████</td></tr><tr><td>epoch</td><td>▁▂▃▃▄▅▆▆▇█</td></tr><tr><td>loss</td><td>█▄▃▂▂▂▁▁▁▁</td></tr><tr><td>val_accuracy</td><td>▁▅▆▇▇▇▇▇██</td></tr><tr><td>val_loss</td><td>█▅▃▂▂▂▂▁▁▁</td></tr></table><br/></div><div class=\"wandb-col\"><h3>Run summary:</h3><br/><table class=\"wandb\"><tr><td>accuracy</td><td>0.79018</td></tr><tr><td>epoch</td><td>9</td></tr><tr><td>loss</td><td>3.92912</td></tr><tr><td>val_accuracy</td><td>0.76834</td></tr><tr><td>val_loss</td><td>4.45365</td></tr></table><br/></div></div>"
            ],
            "text/plain": [
              "<IPython.core.display.HTML object>"
            ]
          },
          "metadata": {},
          "output_type": "display_data"
        },
        {
          "data": {
            "text/html": [
              " View run <strong style=\"color:#cdcd00\">hl_4_sz_128_bs_64_ac_ReLU_w_i_random_lr_0.0001_wd_0.0005</strong> at: <a href='https://wandb.ai/3628-pavitrakhare-indian-institute-of-technology-madras/DA6401_ASS-practice/runs/723kxefv' target=\"_blank\">https://wandb.ai/3628-pavitrakhare-indian-institute-of-technology-madras/DA6401_ASS-practice/runs/723kxefv</a><br> View project at: <a href='https://wandb.ai/3628-pavitrakhare-indian-institute-of-technology-madras/DA6401_ASS-practice' target=\"_blank\">https://wandb.ai/3628-pavitrakhare-indian-institute-of-technology-madras/DA6401_ASS-practice</a><br>Synced 5 W&B file(s), 0 media file(s), 0 artifact file(s) and 0 other file(s)"
            ],
            "text/plain": [
              "<IPython.core.display.HTML object>"
            ]
          },
          "metadata": {},
          "output_type": "display_data"
        },
        {
          "data": {
            "text/html": [
              "Find logs at: <code>./wandb/run-20250309_015214-723kxefv/logs</code>"
            ],
            "text/plain": [
              "<IPython.core.display.HTML object>"
            ]
          },
          "metadata": {},
          "output_type": "display_data"
        },
        {
          "name": "stderr",
          "output_type": "stream",
          "text": [
            "\u001b[34m\u001b[1mwandb\u001b[0m: Agent Starting Run: ha2tuzt6 with config:\n",
            "\u001b[34m\u001b[1mwandb\u001b[0m: \ta: sigmoid\n",
            "\u001b[34m\u001b[1mwandb\u001b[0m: \tb: 64\n",
            "\u001b[34m\u001b[1mwandb\u001b[0m: \te: 10\n",
            "\u001b[34m\u001b[1mwandb\u001b[0m: \tlr: 0.0001\n",
            "\u001b[34m\u001b[1mwandb\u001b[0m: \tnlh: 4\n",
            "\u001b[34m\u001b[1mwandb\u001b[0m: \to: rmsprop\n",
            "\u001b[34m\u001b[1mwandb\u001b[0m: \tsz: 128\n",
            "\u001b[34m\u001b[1mwandb\u001b[0m: \tw_d: 0.0005\n",
            "\u001b[34m\u001b[1mwandb\u001b[0m: \tw_i: random\n"
          ]
        },
        {
          "data": {
            "text/html": [
              "Ignoring project 'DA6401_ASS-practice' when running a sweep."
            ],
            "text/plain": [
              "<IPython.core.display.HTML object>"
            ]
          },
          "metadata": {},
          "output_type": "display_data"
        },
        {
          "data": {
            "text/html": [
              "Tracking run with wandb version 0.19.7"
            ],
            "text/plain": [
              "<IPython.core.display.HTML object>"
            ]
          },
          "metadata": {},
          "output_type": "display_data"
        },
        {
          "data": {
            "text/html": [
              "Run data is saved locally in <code>/content/wandb/run-20250309_020233-ha2tuzt6</code>"
            ],
            "text/plain": [
              "<IPython.core.display.HTML object>"
            ]
          },
          "metadata": {},
          "output_type": "display_data"
        },
        {
          "data": {
            "text/html": [
              "Syncing run <strong><a href='https://wandb.ai/3628-pavitrakhare-indian-institute-of-technology-madras/DA6401_ASS-practice/runs/ha2tuzt6' target=\"_blank\">classic-sweep-57</a></strong> to <a href='https://wandb.ai/3628-pavitrakhare-indian-institute-of-technology-madras/DA6401_ASS-practice' target=\"_blank\">Weights & Biases</a> (<a href='https://wandb.me/developer-guide' target=\"_blank\">docs</a>)<br>Sweep page: <a href='https://wandb.ai/3628-pavitrakhare-indian-institute-of-technology-madras/DA6401_ASS-practice/sweeps/nfibwu4x' target=\"_blank\">https://wandb.ai/3628-pavitrakhare-indian-institute-of-technology-madras/DA6401_ASS-practice/sweeps/nfibwu4x</a>"
            ],
            "text/plain": [
              "<IPython.core.display.HTML object>"
            ]
          },
          "metadata": {},
          "output_type": "display_data"
        },
        {
          "data": {
            "text/html": [
              " View project at <a href='https://wandb.ai/3628-pavitrakhare-indian-institute-of-technology-madras/DA6401_ASS-practice' target=\"_blank\">https://wandb.ai/3628-pavitrakhare-indian-institute-of-technology-madras/DA6401_ASS-practice</a>"
            ],
            "text/plain": [
              "<IPython.core.display.HTML object>"
            ]
          },
          "metadata": {},
          "output_type": "display_data"
        },
        {
          "data": {
            "text/html": [
              " View sweep at <a href='https://wandb.ai/3628-pavitrakhare-indian-institute-of-technology-madras/DA6401_ASS-practice/sweeps/nfibwu4x' target=\"_blank\">https://wandb.ai/3628-pavitrakhare-indian-institute-of-technology-madras/DA6401_ASS-practice/sweeps/nfibwu4x</a>"
            ],
            "text/plain": [
              "<IPython.core.display.HTML object>"
            ]
          },
          "metadata": {},
          "output_type": "display_data"
        },
        {
          "data": {
            "text/html": [
              " View run at <a href='https://wandb.ai/3628-pavitrakhare-indian-institute-of-technology-madras/DA6401_ASS-practice/runs/ha2tuzt6' target=\"_blank\">https://wandb.ai/3628-pavitrakhare-indian-institute-of-technology-madras/DA6401_ASS-practice/runs/ha2tuzt6</a>"
            ],
            "text/plain": [
              "<IPython.core.display.HTML object>"
            ]
          },
          "metadata": {},
          "output_type": "display_data"
        },
        {
          "name": "stdout",
          "output_type": "stream",
          "text": [
            "epoch :  1  validation loss :  1.0756696038770306\n",
            "epoch :  2  validation loss :  0.8150902899696143\n",
            "epoch :  3  validation loss :  0.7106630089406304\n",
            "epoch :  4  validation loss :  0.6507858873506437\n",
            "epoch :  5  validation loss :  0.6105406263931301\n",
            "epoch :  6  validation loss :  0.5811307343726791\n",
            "epoch :  7  validation loss :  0.5585676596882456\n",
            "epoch :  8  validation loss :  0.5404935743458756\n",
            "epoch :  9  validation loss :  0.5255599129548283\n",
            "epoch :  10  validation loss :  0.5129406493611925\n"
          ]
        },
        {
          "data": {
            "text/html": [],
            "text/plain": [
              "<IPython.core.display.HTML object>"
            ]
          },
          "metadata": {},
          "output_type": "display_data"
        },
        {
          "data": {
            "text/html": [
              "<br>    <style><br>        .wandb-row {<br>            display: flex;<br>            flex-direction: row;<br>            flex-wrap: wrap;<br>            justify-content: flex-start;<br>            width: 100%;<br>        }<br>        .wandb-col {<br>            display: flex;<br>            flex-direction: column;<br>            flex-basis: 100%;<br>            flex: 1;<br>            padding: 10px;<br>        }<br>    </style><br><div class=\"wandb-row\"><div class=\"wandb-col\"><h3>Run history:</h3><br/><table class=\"wandb\"><tr><td>accuracy</td><td>▁▆▇▇▇█████</td></tr><tr><td>epoch</td><td>▁▂▃▃▄▅▆▆▇█</td></tr><tr><td>loss</td><td>█▃▂▂▂▁▁▁▁▁</td></tr><tr><td>val_accuracy</td><td>▁▄▅▆▆▇▇███</td></tr><tr><td>val_loss</td><td>█▅▃▃▂▂▂▁▁▁</td></tr></table><br/></div><div class=\"wandb-col\"><h3>Run summary:</h3><br/><table class=\"wandb\"><tr><td>accuracy</td><td>0.82642</td></tr><tr><td>epoch</td><td>9</td></tr><tr><td>loss</td><td>0.50493</td></tr><tr><td>val_accuracy</td><td>0.82082</td></tr><tr><td>val_loss</td><td>0.51294</td></tr></table><br/></div></div>"
            ],
            "text/plain": [
              "<IPython.core.display.HTML object>"
            ]
          },
          "metadata": {},
          "output_type": "display_data"
        },
        {
          "data": {
            "text/html": [
              " View run <strong style=\"color:#cdcd00\">hl_4_sz_128_bs_64_ac_sigmoid_w_i_random_lr_0.0001_wd_0.0005</strong> at: <a href='https://wandb.ai/3628-pavitrakhare-indian-institute-of-technology-madras/DA6401_ASS-practice/runs/ha2tuzt6' target=\"_blank\">https://wandb.ai/3628-pavitrakhare-indian-institute-of-technology-madras/DA6401_ASS-practice/runs/ha2tuzt6</a><br> View project at: <a href='https://wandb.ai/3628-pavitrakhare-indian-institute-of-technology-madras/DA6401_ASS-practice' target=\"_blank\">https://wandb.ai/3628-pavitrakhare-indian-institute-of-technology-madras/DA6401_ASS-practice</a><br>Synced 5 W&B file(s), 0 media file(s), 0 artifact file(s) and 0 other file(s)"
            ],
            "text/plain": [
              "<IPython.core.display.HTML object>"
            ]
          },
          "metadata": {},
          "output_type": "display_data"
        },
        {
          "data": {
            "text/html": [
              "Find logs at: <code>./wandb/run-20250309_020233-ha2tuzt6/logs</code>"
            ],
            "text/plain": [
              "<IPython.core.display.HTML object>"
            ]
          },
          "metadata": {},
          "output_type": "display_data"
        },
        {
          "name": "stderr",
          "output_type": "stream",
          "text": [
            "\u001b[34m\u001b[1mwandb\u001b[0m: Agent Starting Run: xmljuq9u with config:\n",
            "\u001b[34m\u001b[1mwandb\u001b[0m: \ta: tanh\n",
            "\u001b[34m\u001b[1mwandb\u001b[0m: \tb: 32\n",
            "\u001b[34m\u001b[1mwandb\u001b[0m: \te: 10\n",
            "\u001b[34m\u001b[1mwandb\u001b[0m: \tlr: 0.0001\n",
            "\u001b[34m\u001b[1mwandb\u001b[0m: \tnlh: 4\n",
            "\u001b[34m\u001b[1mwandb\u001b[0m: \to: adam\n",
            "\u001b[34m\u001b[1mwandb\u001b[0m: \tsz: 128\n",
            "\u001b[34m\u001b[1mwandb\u001b[0m: \tw_d: 0.0005\n",
            "\u001b[34m\u001b[1mwandb\u001b[0m: \tw_i: Xavier\n"
          ]
        },
        {
          "data": {
            "text/html": [
              "Ignoring project 'DA6401_ASS-practice' when running a sweep."
            ],
            "text/plain": [
              "<IPython.core.display.HTML object>"
            ]
          },
          "metadata": {},
          "output_type": "display_data"
        },
        {
          "data": {
            "text/html": [
              "Tracking run with wandb version 0.19.7"
            ],
            "text/plain": [
              "<IPython.core.display.HTML object>"
            ]
          },
          "metadata": {},
          "output_type": "display_data"
        },
        {
          "data": {
            "text/html": [
              "Run data is saved locally in <code>/content/wandb/run-20250309_021242-xmljuq9u</code>"
            ],
            "text/plain": [
              "<IPython.core.display.HTML object>"
            ]
          },
          "metadata": {},
          "output_type": "display_data"
        },
        {
          "data": {
            "text/html": [
              "Syncing run <strong><a href='https://wandb.ai/3628-pavitrakhare-indian-institute-of-technology-madras/DA6401_ASS-practice/runs/xmljuq9u' target=\"_blank\">astral-sweep-58</a></strong> to <a href='https://wandb.ai/3628-pavitrakhare-indian-institute-of-technology-madras/DA6401_ASS-practice' target=\"_blank\">Weights & Biases</a> (<a href='https://wandb.me/developer-guide' target=\"_blank\">docs</a>)<br>Sweep page: <a href='https://wandb.ai/3628-pavitrakhare-indian-institute-of-technology-madras/DA6401_ASS-practice/sweeps/nfibwu4x' target=\"_blank\">https://wandb.ai/3628-pavitrakhare-indian-institute-of-technology-madras/DA6401_ASS-practice/sweeps/nfibwu4x</a>"
            ],
            "text/plain": [
              "<IPython.core.display.HTML object>"
            ]
          },
          "metadata": {},
          "output_type": "display_data"
        },
        {
          "data": {
            "text/html": [
              " View project at <a href='https://wandb.ai/3628-pavitrakhare-indian-institute-of-technology-madras/DA6401_ASS-practice' target=\"_blank\">https://wandb.ai/3628-pavitrakhare-indian-institute-of-technology-madras/DA6401_ASS-practice</a>"
            ],
            "text/plain": [
              "<IPython.core.display.HTML object>"
            ]
          },
          "metadata": {},
          "output_type": "display_data"
        },
        {
          "data": {
            "text/html": [
              " View sweep at <a href='https://wandb.ai/3628-pavitrakhare-indian-institute-of-technology-madras/DA6401_ASS-practice/sweeps/nfibwu4x' target=\"_blank\">https://wandb.ai/3628-pavitrakhare-indian-institute-of-technology-madras/DA6401_ASS-practice/sweeps/nfibwu4x</a>"
            ],
            "text/plain": [
              "<IPython.core.display.HTML object>"
            ]
          },
          "metadata": {},
          "output_type": "display_data"
        },
        {
          "data": {
            "text/html": [
              " View run at <a href='https://wandb.ai/3628-pavitrakhare-indian-institute-of-technology-madras/DA6401_ASS-practice/runs/xmljuq9u' target=\"_blank\">https://wandb.ai/3628-pavitrakhare-indian-institute-of-technology-madras/DA6401_ASS-practice/runs/xmljuq9u</a>"
            ],
            "text/plain": [
              "<IPython.core.display.HTML object>"
            ]
          },
          "metadata": {},
          "output_type": "display_data"
        },
        {
          "name": "stdout",
          "output_type": "stream",
          "text": [
            "epoch :  1  validation loss :  0.5194378296360352\n",
            "epoch :  2  validation loss :  0.4472596797907582\n",
            "epoch :  3  validation loss :  0.41721773957948294\n",
            "epoch :  4  validation loss :  0.39948662196793194\n",
            "epoch :  5  validation loss :  0.38721656929827375\n",
            "epoch :  6  validation loss :  0.3779547972192185\n",
            "epoch :  7  validation loss :  0.3705603072483761\n",
            "epoch :  8  validation loss :  0.3643936507651493\n",
            "epoch :  9  validation loss :  0.35908612718988053\n",
            "epoch :  10  validation loss :  0.3544170476719675\n"
          ]
        },
        {
          "data": {
            "text/html": [],
            "text/plain": [
              "<IPython.core.display.HTML object>"
            ]
          },
          "metadata": {},
          "output_type": "display_data"
        },
        {
          "data": {
            "text/html": [
              "<br>    <style><br>        .wandb-row {<br>            display: flex;<br>            flex-direction: row;<br>            flex-wrap: wrap;<br>            justify-content: flex-start;<br>            width: 100%;<br>        }<br>        .wandb-col {<br>            display: flex;<br>            flex-direction: column;<br>            flex-basis: 100%;<br>            flex: 1;<br>            padding: 10px;<br>        }<br>    </style><br><div class=\"wandb-row\"><div class=\"wandb-col\"><h3>Run history:</h3><br/><table class=\"wandb\"><tr><td>accuracy</td><td>▁▅▆▇▇▇▇███</td></tr><tr><td>epoch</td><td>▁▂▃▃▄▅▆▆▇█</td></tr><tr><td>loss</td><td>█▃▃▂▂▂▁▁▁▁</td></tr><tr><td>val_accuracy</td><td>▁▄▅▆▆▇▇▇██</td></tr><tr><td>val_loss</td><td>█▅▄▃▂▂▂▁▁▁</td></tr></table><br/></div><div class=\"wandb-col\"><h3>Run summary:</h3><br/><table class=\"wandb\"><tr><td>accuracy</td><td>0.88701</td></tr><tr><td>epoch</td><td>9</td></tr><tr><td>loss</td><td>0.31867</td></tr><tr><td>val_accuracy</td><td>0.87092</td></tr><tr><td>val_loss</td><td>0.35442</td></tr></table><br/></div></div>"
            ],
            "text/plain": [
              "<IPython.core.display.HTML object>"
            ]
          },
          "metadata": {},
          "output_type": "display_data"
        },
        {
          "data": {
            "text/html": [
              " View run <strong style=\"color:#cdcd00\">hl_4_sz_128_bs_32_ac_tanh_w_i_Xavier_lr_0.0001_wd_0.0005</strong> at: <a href='https://wandb.ai/3628-pavitrakhare-indian-institute-of-technology-madras/DA6401_ASS-practice/runs/xmljuq9u' target=\"_blank\">https://wandb.ai/3628-pavitrakhare-indian-institute-of-technology-madras/DA6401_ASS-practice/runs/xmljuq9u</a><br> View project at: <a href='https://wandb.ai/3628-pavitrakhare-indian-institute-of-technology-madras/DA6401_ASS-practice' target=\"_blank\">https://wandb.ai/3628-pavitrakhare-indian-institute-of-technology-madras/DA6401_ASS-practice</a><br>Synced 5 W&B file(s), 0 media file(s), 0 artifact file(s) and 0 other file(s)"
            ],
            "text/plain": [
              "<IPython.core.display.HTML object>"
            ]
          },
          "metadata": {},
          "output_type": "display_data"
        },
        {
          "data": {
            "text/html": [
              "Find logs at: <code>./wandb/run-20250309_021242-xmljuq9u/logs</code>"
            ],
            "text/plain": [
              "<IPython.core.display.HTML object>"
            ]
          },
          "metadata": {},
          "output_type": "display_data"
        },
        {
          "name": "stderr",
          "output_type": "stream",
          "text": [
            "\u001b[34m\u001b[1mwandb\u001b[0m: Sweep Agent: Waiting for job.\n",
            "\u001b[34m\u001b[1mwandb\u001b[0m: Job received.\n",
            "\u001b[34m\u001b[1mwandb\u001b[0m: Agent Starting Run: l29nm1c4 with config:\n",
            "\u001b[34m\u001b[1mwandb\u001b[0m: \ta: tanh\n",
            "\u001b[34m\u001b[1mwandb\u001b[0m: \tb: 32\n",
            "\u001b[34m\u001b[1mwandb\u001b[0m: \te: 10\n",
            "\u001b[34m\u001b[1mwandb\u001b[0m: \tlr: 0.0001\n",
            "\u001b[34m\u001b[1mwandb\u001b[0m: \tnlh: 4\n",
            "\u001b[34m\u001b[1mwandb\u001b[0m: \to: adam\n",
            "\u001b[34m\u001b[1mwandb\u001b[0m: \tsz: 128\n",
            "\u001b[34m\u001b[1mwandb\u001b[0m: \tw_d: 0.5\n",
            "\u001b[34m\u001b[1mwandb\u001b[0m: \tw_i: Xavier\n"
          ]
        },
        {
          "data": {
            "text/html": [
              "Ignoring project 'DA6401_ASS-practice' when running a sweep."
            ],
            "text/plain": [
              "<IPython.core.display.HTML object>"
            ]
          },
          "metadata": {},
          "output_type": "display_data"
        },
        {
          "data": {
            "text/html": [
              "Tracking run with wandb version 0.19.7"
            ],
            "text/plain": [
              "<IPython.core.display.HTML object>"
            ]
          },
          "metadata": {},
          "output_type": "display_data"
        },
        {
          "data": {
            "text/html": [
              "Run data is saved locally in <code>/content/wandb/run-20250309_022448-l29nm1c4</code>"
            ],
            "text/plain": [
              "<IPython.core.display.HTML object>"
            ]
          },
          "metadata": {},
          "output_type": "display_data"
        },
        {
          "data": {
            "text/html": [
              "Syncing run <strong><a href='https://wandb.ai/3628-pavitrakhare-indian-institute-of-technology-madras/DA6401_ASS-practice/runs/l29nm1c4' target=\"_blank\">clean-sweep-59</a></strong> to <a href='https://wandb.ai/3628-pavitrakhare-indian-institute-of-technology-madras/DA6401_ASS-practice' target=\"_blank\">Weights & Biases</a> (<a href='https://wandb.me/developer-guide' target=\"_blank\">docs</a>)<br>Sweep page: <a href='https://wandb.ai/3628-pavitrakhare-indian-institute-of-technology-madras/DA6401_ASS-practice/sweeps/nfibwu4x' target=\"_blank\">https://wandb.ai/3628-pavitrakhare-indian-institute-of-technology-madras/DA6401_ASS-practice/sweeps/nfibwu4x</a>"
            ],
            "text/plain": [
              "<IPython.core.display.HTML object>"
            ]
          },
          "metadata": {},
          "output_type": "display_data"
        },
        {
          "data": {
            "text/html": [
              " View project at <a href='https://wandb.ai/3628-pavitrakhare-indian-institute-of-technology-madras/DA6401_ASS-practice' target=\"_blank\">https://wandb.ai/3628-pavitrakhare-indian-institute-of-technology-madras/DA6401_ASS-practice</a>"
            ],
            "text/plain": [
              "<IPython.core.display.HTML object>"
            ]
          },
          "metadata": {},
          "output_type": "display_data"
        },
        {
          "data": {
            "text/html": [
              " View sweep at <a href='https://wandb.ai/3628-pavitrakhare-indian-institute-of-technology-madras/DA6401_ASS-practice/sweeps/nfibwu4x' target=\"_blank\">https://wandb.ai/3628-pavitrakhare-indian-institute-of-technology-madras/DA6401_ASS-practice/sweeps/nfibwu4x</a>"
            ],
            "text/plain": [
              "<IPython.core.display.HTML object>"
            ]
          },
          "metadata": {},
          "output_type": "display_data"
        },
        {
          "data": {
            "text/html": [
              " View run at <a href='https://wandb.ai/3628-pavitrakhare-indian-institute-of-technology-madras/DA6401_ASS-practice/runs/l29nm1c4' target=\"_blank\">https://wandb.ai/3628-pavitrakhare-indian-institute-of-technology-madras/DA6401_ASS-practice/runs/l29nm1c4</a>"
            ],
            "text/plain": [
              "<IPython.core.display.HTML object>"
            ]
          },
          "metadata": {},
          "output_type": "display_data"
        },
        {
          "name": "stdout",
          "output_type": "stream",
          "text": [
            "epoch :  1  validation loss :  0.5488422813348199\n",
            "epoch :  2  validation loss :  0.47883860816070434\n",
            "epoch :  3  validation loss :  0.4486953222151916\n",
            "epoch :  4  validation loss :  0.43071427970877874\n",
            "epoch :  5  validation loss :  0.41837693065203996\n",
            "epoch :  6  validation loss :  0.40914151202996607\n",
            "epoch :  7  validation loss :  0.4018137617229756\n",
            "epoch :  8  validation loss :  0.395755875028143\n",
            "epoch :  9  validation loss :  0.39059432728443055\n",
            "epoch :  10  validation loss :  0.38609681329556106\n"
          ]
        },
        {
          "data": {
            "text/html": [],
            "text/plain": [
              "<IPython.core.display.HTML object>"
            ]
          },
          "metadata": {},
          "output_type": "display_data"
        },
        {
          "data": {
            "text/html": [
              "<br>    <style><br>        .wandb-row {<br>            display: flex;<br>            flex-direction: row;<br>            flex-wrap: wrap;<br>            justify-content: flex-start;<br>            width: 100%;<br>        }<br>        .wandb-col {<br>            display: flex;<br>            flex-direction: column;<br>            flex-basis: 100%;<br>            flex: 1;<br>            padding: 10px;<br>        }<br>    </style><br><div class=\"wandb-row\"><div class=\"wandb-col\"><h3>Run history:</h3><br/><table class=\"wandb\"><tr><td>accuracy</td><td>▁▅▆▇▇▇▇███</td></tr><tr><td>epoch</td><td>▁▂▃▃▄▅▆▆▇█</td></tr><tr><td>loss</td><td>█▃▃▂▂▂▁▁▁▁</td></tr><tr><td>val_accuracy</td><td>▁▄▅▆▆▇▇▇██</td></tr><tr><td>val_loss</td><td>█▅▄▃▂▂▂▁▁▁</td></tr></table><br/></div><div class=\"wandb-col\"><h3>Run summary:</h3><br/><table class=\"wandb\"><tr><td>accuracy</td><td>0.88521</td></tr><tr><td>epoch</td><td>9</td></tr><tr><td>loss</td><td>0.32255</td></tr><tr><td>val_accuracy</td><td>0.86974</td></tr><tr><td>val_loss</td><td>0.3861</td></tr></table><br/></div></div>"
            ],
            "text/plain": [
              "<IPython.core.display.HTML object>"
            ]
          },
          "metadata": {},
          "output_type": "display_data"
        },
        {
          "data": {
            "text/html": [
              " View run <strong style=\"color:#cdcd00\">hl_4_sz_128_bs_32_ac_tanh_w_i_Xavier_lr_0.0001_wd_0.5</strong> at: <a href='https://wandb.ai/3628-pavitrakhare-indian-institute-of-technology-madras/DA6401_ASS-practice/runs/l29nm1c4' target=\"_blank\">https://wandb.ai/3628-pavitrakhare-indian-institute-of-technology-madras/DA6401_ASS-practice/runs/l29nm1c4</a><br> View project at: <a href='https://wandb.ai/3628-pavitrakhare-indian-institute-of-technology-madras/DA6401_ASS-practice' target=\"_blank\">https://wandb.ai/3628-pavitrakhare-indian-institute-of-technology-madras/DA6401_ASS-practice</a><br>Synced 5 W&B file(s), 0 media file(s), 0 artifact file(s) and 0 other file(s)"
            ],
            "text/plain": [
              "<IPython.core.display.HTML object>"
            ]
          },
          "metadata": {},
          "output_type": "display_data"
        },
        {
          "data": {
            "text/html": [
              "Find logs at: <code>./wandb/run-20250309_022448-l29nm1c4/logs</code>"
            ],
            "text/plain": [
              "<IPython.core.display.HTML object>"
            ]
          },
          "metadata": {},
          "output_type": "display_data"
        },
        {
          "name": "stderr",
          "output_type": "stream",
          "text": [
            "\u001b[34m\u001b[1mwandb\u001b[0m: Sweep Agent: Waiting for job.\n",
            "\u001b[34m\u001b[1mwandb\u001b[0m: Job received.\n",
            "\u001b[34m\u001b[1mwandb\u001b[0m: Agent Starting Run: 2rxczzmh with config:\n",
            "\u001b[34m\u001b[1mwandb\u001b[0m: \ta: sigmoid\n",
            "\u001b[34m\u001b[1mwandb\u001b[0m: \tb: 32\n",
            "\u001b[34m\u001b[1mwandb\u001b[0m: \te: 10\n",
            "\u001b[34m\u001b[1mwandb\u001b[0m: \tlr: 0.0001\n",
            "\u001b[34m\u001b[1mwandb\u001b[0m: \tnlh: 4\n",
            "\u001b[34m\u001b[1mwandb\u001b[0m: \to: nadam\n",
            "\u001b[34m\u001b[1mwandb\u001b[0m: \tsz: 128\n",
            "\u001b[34m\u001b[1mwandb\u001b[0m: \tw_d: 0.5\n",
            "\u001b[34m\u001b[1mwandb\u001b[0m: \tw_i: Xavier\n"
          ]
        },
        {
          "data": {
            "text/html": [
              "Ignoring project 'DA6401_ASS-practice' when running a sweep."
            ],
            "text/plain": [
              "<IPython.core.display.HTML object>"
            ]
          },
          "metadata": {},
          "output_type": "display_data"
        },
        {
          "data": {
            "text/html": [
              "Tracking run with wandb version 0.19.7"
            ],
            "text/plain": [
              "<IPython.core.display.HTML object>"
            ]
          },
          "metadata": {},
          "output_type": "display_data"
        },
        {
          "data": {
            "text/html": [
              "Run data is saved locally in <code>/content/wandb/run-20250309_023659-2rxczzmh</code>"
            ],
            "text/plain": [
              "<IPython.core.display.HTML object>"
            ]
          },
          "metadata": {},
          "output_type": "display_data"
        },
        {
          "data": {
            "text/html": [
              "Syncing run <strong><a href='https://wandb.ai/3628-pavitrakhare-indian-institute-of-technology-madras/DA6401_ASS-practice/runs/2rxczzmh' target=\"_blank\">fearless-sweep-60</a></strong> to <a href='https://wandb.ai/3628-pavitrakhare-indian-institute-of-technology-madras/DA6401_ASS-practice' target=\"_blank\">Weights & Biases</a> (<a href='https://wandb.me/developer-guide' target=\"_blank\">docs</a>)<br>Sweep page: <a href='https://wandb.ai/3628-pavitrakhare-indian-institute-of-technology-madras/DA6401_ASS-practice/sweeps/nfibwu4x' target=\"_blank\">https://wandb.ai/3628-pavitrakhare-indian-institute-of-technology-madras/DA6401_ASS-practice/sweeps/nfibwu4x</a>"
            ],
            "text/plain": [
              "<IPython.core.display.HTML object>"
            ]
          },
          "metadata": {},
          "output_type": "display_data"
        },
        {
          "data": {
            "text/html": [
              " View project at <a href='https://wandb.ai/3628-pavitrakhare-indian-institute-of-technology-madras/DA6401_ASS-practice' target=\"_blank\">https://wandb.ai/3628-pavitrakhare-indian-institute-of-technology-madras/DA6401_ASS-practice</a>"
            ],
            "text/plain": [
              "<IPython.core.display.HTML object>"
            ]
          },
          "metadata": {},
          "output_type": "display_data"
        },
        {
          "data": {
            "text/html": [
              " View sweep at <a href='https://wandb.ai/3628-pavitrakhare-indian-institute-of-technology-madras/DA6401_ASS-practice/sweeps/nfibwu4x' target=\"_blank\">https://wandb.ai/3628-pavitrakhare-indian-institute-of-technology-madras/DA6401_ASS-practice/sweeps/nfibwu4x</a>"
            ],
            "text/plain": [
              "<IPython.core.display.HTML object>"
            ]
          },
          "metadata": {},
          "output_type": "display_data"
        },
        {
          "data": {
            "text/html": [
              " View run at <a href='https://wandb.ai/3628-pavitrakhare-indian-institute-of-technology-madras/DA6401_ASS-practice/runs/2rxczzmh' target=\"_blank\">https://wandb.ai/3628-pavitrakhare-indian-institute-of-technology-madras/DA6401_ASS-practice/runs/2rxczzmh</a>"
            ],
            "text/plain": [
              "<IPython.core.display.HTML object>"
            ]
          },
          "metadata": {},
          "output_type": "display_data"
        },
        {
          "name": "stdout",
          "output_type": "stream",
          "text": [
            "epoch :  1  validation loss :  2.322202918467503\n",
            "epoch :  2  validation loss :  2.315276147393139\n",
            "epoch :  3  validation loss :  2.3063856401473513\n",
            "epoch :  4  validation loss :  2.2926962485276445\n",
            "epoch :  5  validation loss :  2.268569493679568\n",
            "epoch :  6  validation loss :  2.219774267701797\n",
            "epoch :  7  validation loss :  2.113635124897733\n",
            "epoch :  8  validation loss :  1.9376001558048723\n",
            "epoch :  9  validation loss :  1.7921731938578038\n",
            "epoch :  10  validation loss :  1.7082224684969227\n"
          ]
        },
        {
          "data": {
            "text/html": [],
            "text/plain": [
              "<IPython.core.display.HTML object>"
            ]
          },
          "metadata": {},
          "output_type": "display_data"
        },
        {
          "data": {
            "text/html": [
              "<br>    <style><br>        .wandb-row {<br>            display: flex;<br>            flex-direction: row;<br>            flex-wrap: wrap;<br>            justify-content: flex-start;<br>            width: 100%;<br>        }<br>        .wandb-col {<br>            display: flex;<br>            flex-direction: column;<br>            flex-basis: 100%;<br>            flex: 1;<br>            padding: 10px;<br>        }<br>    </style><br><div class=\"wandb-row\"><div class=\"wandb-col\"><h3>Run history:</h3><br/><table class=\"wandb\"><tr><td>accuracy</td><td>▁▂▃▅▆▇▇▇▇█</td></tr><tr><td>epoch</td><td>▁▂▃▃▄▅▆▆▇█</td></tr><tr><td>loss</td><td>███▇▇▇▆▄▂▁</td></tr><tr><td>val_accuracy</td><td>▁▁▄▆▇▇▆▆▇█</td></tr><tr><td>val_loss</td><td>████▇▇▆▄▂▁</td></tr></table><br/></div><div class=\"wandb-col\"><h3>Run summary:</h3><br/><table class=\"wandb\"><tr><td>accuracy</td><td>0.36466</td></tr><tr><td>epoch</td><td>9</td></tr><tr><td>loss</td><td>1.72294</td></tr><tr><td>val_accuracy</td><td>0.3733</td></tr><tr><td>val_loss</td><td>1.70822</td></tr></table><br/></div></div>"
            ],
            "text/plain": [
              "<IPython.core.display.HTML object>"
            ]
          },
          "metadata": {},
          "output_type": "display_data"
        },
        {
          "data": {
            "text/html": [
              " View run <strong style=\"color:#cdcd00\">hl_4_sz_128_bs_32_ac_sigmoid_w_i_Xavier_lr_0.0001_wd_0.5</strong> at: <a href='https://wandb.ai/3628-pavitrakhare-indian-institute-of-technology-madras/DA6401_ASS-practice/runs/2rxczzmh' target=\"_blank\">https://wandb.ai/3628-pavitrakhare-indian-institute-of-technology-madras/DA6401_ASS-practice/runs/2rxczzmh</a><br> View project at: <a href='https://wandb.ai/3628-pavitrakhare-indian-institute-of-technology-madras/DA6401_ASS-practice' target=\"_blank\">https://wandb.ai/3628-pavitrakhare-indian-institute-of-technology-madras/DA6401_ASS-practice</a><br>Synced 5 W&B file(s), 0 media file(s), 0 artifact file(s) and 0 other file(s)"
            ],
            "text/plain": [
              "<IPython.core.display.HTML object>"
            ]
          },
          "metadata": {},
          "output_type": "display_data"
        },
        {
          "data": {
            "text/html": [
              "Find logs at: <code>./wandb/run-20250309_023659-2rxczzmh/logs</code>"
            ],
            "text/plain": [
              "<IPython.core.display.HTML object>"
            ]
          },
          "metadata": {},
          "output_type": "display_data"
        },
        {
          "name": "stderr",
          "output_type": "stream",
          "text": [
            "\u001b[34m\u001b[1mwandb\u001b[0m: Agent Starting Run: sddzjz95 with config:\n",
            "\u001b[34m\u001b[1mwandb\u001b[0m: \ta: sigmoid\n",
            "\u001b[34m\u001b[1mwandb\u001b[0m: \tb: 64\n",
            "\u001b[34m\u001b[1mwandb\u001b[0m: \te: 10\n",
            "\u001b[34m\u001b[1mwandb\u001b[0m: \tlr: 0.001\n",
            "\u001b[34m\u001b[1mwandb\u001b[0m: \tnlh: 4\n",
            "\u001b[34m\u001b[1mwandb\u001b[0m: \to: nadam\n",
            "\u001b[34m\u001b[1mwandb\u001b[0m: \tsz: 64\n",
            "\u001b[34m\u001b[1mwandb\u001b[0m: \tw_d: 0\n",
            "\u001b[34m\u001b[1mwandb\u001b[0m: \tw_i: random\n"
          ]
        },
        {
          "data": {
            "text/html": [
              "Ignoring project 'DA6401_ASS-practice' when running a sweep."
            ],
            "text/plain": [
              "<IPython.core.display.HTML object>"
            ]
          },
          "metadata": {},
          "output_type": "display_data"
        },
        {
          "data": {
            "text/html": [
              "Tracking run with wandb version 0.19.7"
            ],
            "text/plain": [
              "<IPython.core.display.HTML object>"
            ]
          },
          "metadata": {},
          "output_type": "display_data"
        },
        {
          "data": {
            "text/html": [
              "Run data is saved locally in <code>/content/wandb/run-20250309_024921-sddzjz95</code>"
            ],
            "text/plain": [
              "<IPython.core.display.HTML object>"
            ]
          },
          "metadata": {},
          "output_type": "display_data"
        },
        {
          "data": {
            "text/html": [
              "Syncing run <strong><a href='https://wandb.ai/3628-pavitrakhare-indian-institute-of-technology-madras/DA6401_ASS-practice/runs/sddzjz95' target=\"_blank\">generous-sweep-61</a></strong> to <a href='https://wandb.ai/3628-pavitrakhare-indian-institute-of-technology-madras/DA6401_ASS-practice' target=\"_blank\">Weights & Biases</a> (<a href='https://wandb.me/developer-guide' target=\"_blank\">docs</a>)<br>Sweep page: <a href='https://wandb.ai/3628-pavitrakhare-indian-institute-of-technology-madras/DA6401_ASS-practice/sweeps/nfibwu4x' target=\"_blank\">https://wandb.ai/3628-pavitrakhare-indian-institute-of-technology-madras/DA6401_ASS-practice/sweeps/nfibwu4x</a>"
            ],
            "text/plain": [
              "<IPython.core.display.HTML object>"
            ]
          },
          "metadata": {},
          "output_type": "display_data"
        },
        {
          "data": {
            "text/html": [
              " View project at <a href='https://wandb.ai/3628-pavitrakhare-indian-institute-of-technology-madras/DA6401_ASS-practice' target=\"_blank\">https://wandb.ai/3628-pavitrakhare-indian-institute-of-technology-madras/DA6401_ASS-practice</a>"
            ],
            "text/plain": [
              "<IPython.core.display.HTML object>"
            ]
          },
          "metadata": {},
          "output_type": "display_data"
        },
        {
          "data": {
            "text/html": [
              " View sweep at <a href='https://wandb.ai/3628-pavitrakhare-indian-institute-of-technology-madras/DA6401_ASS-practice/sweeps/nfibwu4x' target=\"_blank\">https://wandb.ai/3628-pavitrakhare-indian-institute-of-technology-madras/DA6401_ASS-practice/sweeps/nfibwu4x</a>"
            ],
            "text/plain": [
              "<IPython.core.display.HTML object>"
            ]
          },
          "metadata": {},
          "output_type": "display_data"
        },
        {
          "data": {
            "text/html": [
              " View run at <a href='https://wandb.ai/3628-pavitrakhare-indian-institute-of-technology-madras/DA6401_ASS-practice/runs/sddzjz95' target=\"_blank\">https://wandb.ai/3628-pavitrakhare-indian-institute-of-technology-madras/DA6401_ASS-practice/runs/sddzjz95</a>"
            ],
            "text/plain": [
              "<IPython.core.display.HTML object>"
            ]
          },
          "metadata": {},
          "output_type": "display_data"
        },
        {
          "name": "stdout",
          "output_type": "stream",
          "text": [
            "epoch :  1  validation loss :  0.6962846839378724\n",
            "epoch :  2  validation loss :  0.5316249954668089\n",
            "epoch :  3  validation loss :  0.47111289982959353\n",
            "epoch :  4  validation loss :  0.4392493835898388\n",
            "epoch :  5  validation loss :  0.4192768004006342\n",
            "epoch :  6  validation loss :  0.40527031899327637\n",
            "epoch :  7  validation loss :  0.3947017601080994\n",
            "epoch :  8  validation loss :  0.3865150920258164\n",
            "epoch :  9  validation loss :  0.38031428897630976\n",
            "epoch :  10  validation loss :  0.37525964823424496\n"
          ]
        },
        {
          "data": {
            "text/html": [],
            "text/plain": [
              "<IPython.core.display.HTML object>"
            ]
          },
          "metadata": {},
          "output_type": "display_data"
        },
        {
          "data": {
            "text/html": [
              "<br>    <style><br>        .wandb-row {<br>            display: flex;<br>            flex-direction: row;<br>            flex-wrap: wrap;<br>            justify-content: flex-start;<br>            width: 100%;<br>        }<br>        .wandb-col {<br>            display: flex;<br>            flex-direction: column;<br>            flex-basis: 100%;<br>            flex: 1;<br>            padding: 10px;<br>        }<br>    </style><br><div class=\"wandb-row\"><div class=\"wandb-col\"><h3>Run history:</h3><br/><table class=\"wandb\"><tr><td>accuracy</td><td>▁▆▇▇▇▇████</td></tr><tr><td>epoch</td><td>▁▂▃▃▄▅▆▆▇█</td></tr><tr><td>loss</td><td>█▃▂▂▂▁▁▁▁▁</td></tr><tr><td>val_accuracy</td><td>▁▄▅▆▇▇▇███</td></tr><tr><td>val_loss</td><td>█▄▃▂▂▂▁▁▁▁</td></tr></table><br/></div><div class=\"wandb-col\"><h3>Run summary:</h3><br/><table class=\"wandb\"><tr><td>accuracy</td><td>0.8807</td></tr><tr><td>epoch</td><td>9</td></tr><tr><td>loss</td><td>0.33774</td></tr><tr><td>val_accuracy</td><td>0.86379</td></tr><tr><td>val_loss</td><td>0.37526</td></tr></table><br/></div></div>"
            ],
            "text/plain": [
              "<IPython.core.display.HTML object>"
            ]
          },
          "metadata": {},
          "output_type": "display_data"
        },
        {
          "data": {
            "text/html": [
              " View run <strong style=\"color:#cdcd00\">hl_4_sz_64_bs_64_ac_sigmoid_w_i_random_lr_0.001_wd_0</strong> at: <a href='https://wandb.ai/3628-pavitrakhare-indian-institute-of-technology-madras/DA6401_ASS-practice/runs/sddzjz95' target=\"_blank\">https://wandb.ai/3628-pavitrakhare-indian-institute-of-technology-madras/DA6401_ASS-practice/runs/sddzjz95</a><br> View project at: <a href='https://wandb.ai/3628-pavitrakhare-indian-institute-of-technology-madras/DA6401_ASS-practice' target=\"_blank\">https://wandb.ai/3628-pavitrakhare-indian-institute-of-technology-madras/DA6401_ASS-practice</a><br>Synced 5 W&B file(s), 0 media file(s), 0 artifact file(s) and 0 other file(s)"
            ],
            "text/plain": [
              "<IPython.core.display.HTML object>"
            ]
          },
          "metadata": {},
          "output_type": "display_data"
        },
        {
          "data": {
            "text/html": [
              "Find logs at: <code>./wandb/run-20250309_024921-sddzjz95/logs</code>"
            ],
            "text/plain": [
              "<IPython.core.display.HTML object>"
            ]
          },
          "metadata": {},
          "output_type": "display_data"
        },
        {
          "name": "stderr",
          "output_type": "stream",
          "text": [
            "\u001b[34m\u001b[1mwandb\u001b[0m: Agent Starting Run: 2z6s2f71 with config:\n",
            "\u001b[34m\u001b[1mwandb\u001b[0m: \ta: tanh\n",
            "\u001b[34m\u001b[1mwandb\u001b[0m: \tb: 32\n",
            "\u001b[34m\u001b[1mwandb\u001b[0m: \te: 10\n",
            "\u001b[34m\u001b[1mwandb\u001b[0m: \tlr: 0.001\n",
            "\u001b[34m\u001b[1mwandb\u001b[0m: \tnlh: 4\n",
            "\u001b[34m\u001b[1mwandb\u001b[0m: \to: rmsprop\n",
            "\u001b[34m\u001b[1mwandb\u001b[0m: \tsz: 128\n",
            "\u001b[34m\u001b[1mwandb\u001b[0m: \tw_d: 0.5\n",
            "\u001b[34m\u001b[1mwandb\u001b[0m: \tw_i: Xavier\n"
          ]
        },
        {
          "data": {
            "text/html": [
              "Ignoring project 'DA6401_ASS-practice' when running a sweep."
            ],
            "text/plain": [
              "<IPython.core.display.HTML object>"
            ]
          },
          "metadata": {},
          "output_type": "display_data"
        },
        {
          "data": {
            "text/html": [
              "Tracking run with wandb version 0.19.7"
            ],
            "text/plain": [
              "<IPython.core.display.HTML object>"
            ]
          },
          "metadata": {},
          "output_type": "display_data"
        },
        {
          "data": {
            "text/html": [
              "Run data is saved locally in <code>/content/wandb/run-20250309_025516-2z6s2f71</code>"
            ],
            "text/plain": [
              "<IPython.core.display.HTML object>"
            ]
          },
          "metadata": {},
          "output_type": "display_data"
        },
        {
          "data": {
            "text/html": [
              "Syncing run <strong><a href='https://wandb.ai/3628-pavitrakhare-indian-institute-of-technology-madras/DA6401_ASS-practice/runs/2z6s2f71' target=\"_blank\">dark-sweep-62</a></strong> to <a href='https://wandb.ai/3628-pavitrakhare-indian-institute-of-technology-madras/DA6401_ASS-practice' target=\"_blank\">Weights & Biases</a> (<a href='https://wandb.me/developer-guide' target=\"_blank\">docs</a>)<br>Sweep page: <a href='https://wandb.ai/3628-pavitrakhare-indian-institute-of-technology-madras/DA6401_ASS-practice/sweeps/nfibwu4x' target=\"_blank\">https://wandb.ai/3628-pavitrakhare-indian-institute-of-technology-madras/DA6401_ASS-practice/sweeps/nfibwu4x</a>"
            ],
            "text/plain": [
              "<IPython.core.display.HTML object>"
            ]
          },
          "metadata": {},
          "output_type": "display_data"
        },
        {
          "data": {
            "text/html": [
              " View project at <a href='https://wandb.ai/3628-pavitrakhare-indian-institute-of-technology-madras/DA6401_ASS-practice' target=\"_blank\">https://wandb.ai/3628-pavitrakhare-indian-institute-of-technology-madras/DA6401_ASS-practice</a>"
            ],
            "text/plain": [
              "<IPython.core.display.HTML object>"
            ]
          },
          "metadata": {},
          "output_type": "display_data"
        },
        {
          "data": {
            "text/html": [
              " View sweep at <a href='https://wandb.ai/3628-pavitrakhare-indian-institute-of-technology-madras/DA6401_ASS-practice/sweeps/nfibwu4x' target=\"_blank\">https://wandb.ai/3628-pavitrakhare-indian-institute-of-technology-madras/DA6401_ASS-practice/sweeps/nfibwu4x</a>"
            ],
            "text/plain": [
              "<IPython.core.display.HTML object>"
            ]
          },
          "metadata": {},
          "output_type": "display_data"
        },
        {
          "data": {
            "text/html": [
              " View run at <a href='https://wandb.ai/3628-pavitrakhare-indian-institute-of-technology-madras/DA6401_ASS-practice/runs/2z6s2f71' target=\"_blank\">https://wandb.ai/3628-pavitrakhare-indian-institute-of-technology-madras/DA6401_ASS-practice/runs/2z6s2f71</a>"
            ],
            "text/plain": [
              "<IPython.core.display.HTML object>"
            ]
          },
          "metadata": {},
          "output_type": "display_data"
        },
        {
          "name": "stdout",
          "output_type": "stream",
          "text": [
            "epoch :  1  validation loss :  0.42921684035793783\n",
            "epoch :  2  validation loss :  0.40117739899035076\n",
            "epoch :  3  validation loss :  0.3865915386781922\n",
            "epoch :  4  validation loss :  0.38372452359184345\n",
            "epoch :  5  validation loss :  0.38475266305037137\n",
            "epoch :  6  validation loss :  0.3904472307763017\n",
            "epoch :  7  validation loss :  0.3955667504131356\n",
            "epoch :  8  validation loss :  0.3998920690588611\n",
            "epoch :  9  validation loss :  0.40861705941285775\n",
            "epoch :  10  validation loss :  0.41459681783356084\n"
          ]
        },
        {
          "data": {
            "text/html": [],
            "text/plain": [
              "<IPython.core.display.HTML object>"
            ]
          },
          "metadata": {},
          "output_type": "display_data"
        },
        {
          "data": {
            "text/html": [
              "<br>    <style><br>        .wandb-row {<br>            display: flex;<br>            flex-direction: row;<br>            flex-wrap: wrap;<br>            justify-content: flex-start;<br>            width: 100%;<br>        }<br>        .wandb-col {<br>            display: flex;<br>            flex-direction: column;<br>            flex-basis: 100%;<br>            flex: 1;<br>            padding: 10px;<br>        }<br>    </style><br><div class=\"wandb-row\"><div class=\"wandb-col\"><h3>Run history:</h3><br/><table class=\"wandb\"><tr><td>accuracy</td><td>▁▄▅▆▆▇▇▇██</td></tr><tr><td>epoch</td><td>▁▂▃▃▄▅▆▆▇█</td></tr><tr><td>loss</td><td>█▅▄▃▃▂▂▂▁▁</td></tr><tr><td>val_accuracy</td><td>▁▄▆▇▇▇████</td></tr><tr><td>val_loss</td><td>█▄▁▁▁▂▃▃▅▆</td></tr></table><br/></div><div class=\"wandb-col\"><h3>Run summary:</h3><br/><table class=\"wandb\"><tr><td>accuracy</td><td>0.91622</td></tr><tr><td>epoch</td><td>9</td></tr><tr><td>loss</td><td>0.23671</td></tr><tr><td>val_accuracy</td><td>0.88213</td></tr><tr><td>val_loss</td><td>0.4146</td></tr></table><br/></div></div>"
            ],
            "text/plain": [
              "<IPython.core.display.HTML object>"
            ]
          },
          "metadata": {},
          "output_type": "display_data"
        },
        {
          "data": {
            "text/html": [
              " View run <strong style=\"color:#cdcd00\">hl_4_sz_128_bs_32_ac_tanh_w_i_Xavier_lr_0.001_wd_0.5</strong> at: <a href='https://wandb.ai/3628-pavitrakhare-indian-institute-of-technology-madras/DA6401_ASS-practice/runs/2z6s2f71' target=\"_blank\">https://wandb.ai/3628-pavitrakhare-indian-institute-of-technology-madras/DA6401_ASS-practice/runs/2z6s2f71</a><br> View project at: <a href='https://wandb.ai/3628-pavitrakhare-indian-institute-of-technology-madras/DA6401_ASS-practice' target=\"_blank\">https://wandb.ai/3628-pavitrakhare-indian-institute-of-technology-madras/DA6401_ASS-practice</a><br>Synced 5 W&B file(s), 0 media file(s), 0 artifact file(s) and 0 other file(s)"
            ],
            "text/plain": [
              "<IPython.core.display.HTML object>"
            ]
          },
          "metadata": {},
          "output_type": "display_data"
        },
        {
          "data": {
            "text/html": [
              "Find logs at: <code>./wandb/run-20250309_025516-2z6s2f71/logs</code>"
            ],
            "text/plain": [
              "<IPython.core.display.HTML object>"
            ]
          },
          "metadata": {},
          "output_type": "display_data"
        },
        {
          "name": "stderr",
          "output_type": "stream",
          "text": [
            "\u001b[34m\u001b[1mwandb\u001b[0m: Agent Starting Run: nig5uh5v with config:\n",
            "\u001b[34m\u001b[1mwandb\u001b[0m: \ta: sigmoid\n",
            "\u001b[34m\u001b[1mwandb\u001b[0m: \tb: 64\n",
            "\u001b[34m\u001b[1mwandb\u001b[0m: \te: 10\n",
            "\u001b[34m\u001b[1mwandb\u001b[0m: \tlr: 0.001\n",
            "\u001b[34m\u001b[1mwandb\u001b[0m: \tnlh: 5\n",
            "\u001b[34m\u001b[1mwandb\u001b[0m: \to: nadam\n",
            "\u001b[34m\u001b[1mwandb\u001b[0m: \tsz: 64\n",
            "\u001b[34m\u001b[1mwandb\u001b[0m: \tw_d: 0.0005\n",
            "\u001b[34m\u001b[1mwandb\u001b[0m: \tw_i: random\n"
          ]
        },
        {
          "data": {
            "text/html": [
              "Ignoring project 'DA6401_ASS-practice' when running a sweep."
            ],
            "text/plain": [
              "<IPython.core.display.HTML object>"
            ]
          },
          "metadata": {},
          "output_type": "display_data"
        },
        {
          "data": {
            "text/html": [
              "Tracking run with wandb version 0.19.7"
            ],
            "text/plain": [
              "<IPython.core.display.HTML object>"
            ]
          },
          "metadata": {},
          "output_type": "display_data"
        },
        {
          "data": {
            "text/html": [
              "Run data is saved locally in <code>/content/wandb/run-20250309_030652-nig5uh5v</code>"
            ],
            "text/plain": [
              "<IPython.core.display.HTML object>"
            ]
          },
          "metadata": {},
          "output_type": "display_data"
        },
        {
          "data": {
            "text/html": [
              "Syncing run <strong><a href='https://wandb.ai/3628-pavitrakhare-indian-institute-of-technology-madras/DA6401_ASS-practice/runs/nig5uh5v' target=\"_blank\">dainty-sweep-63</a></strong> to <a href='https://wandb.ai/3628-pavitrakhare-indian-institute-of-technology-madras/DA6401_ASS-practice' target=\"_blank\">Weights & Biases</a> (<a href='https://wandb.me/developer-guide' target=\"_blank\">docs</a>)<br>Sweep page: <a href='https://wandb.ai/3628-pavitrakhare-indian-institute-of-technology-madras/DA6401_ASS-practice/sweeps/nfibwu4x' target=\"_blank\">https://wandb.ai/3628-pavitrakhare-indian-institute-of-technology-madras/DA6401_ASS-practice/sweeps/nfibwu4x</a>"
            ],
            "text/plain": [
              "<IPython.core.display.HTML object>"
            ]
          },
          "metadata": {},
          "output_type": "display_data"
        },
        {
          "data": {
            "text/html": [
              " View project at <a href='https://wandb.ai/3628-pavitrakhare-indian-institute-of-technology-madras/DA6401_ASS-practice' target=\"_blank\">https://wandb.ai/3628-pavitrakhare-indian-institute-of-technology-madras/DA6401_ASS-practice</a>"
            ],
            "text/plain": [
              "<IPython.core.display.HTML object>"
            ]
          },
          "metadata": {},
          "output_type": "display_data"
        },
        {
          "data": {
            "text/html": [
              " View sweep at <a href='https://wandb.ai/3628-pavitrakhare-indian-institute-of-technology-madras/DA6401_ASS-practice/sweeps/nfibwu4x' target=\"_blank\">https://wandb.ai/3628-pavitrakhare-indian-institute-of-technology-madras/DA6401_ASS-practice/sweeps/nfibwu4x</a>"
            ],
            "text/plain": [
              "<IPython.core.display.HTML object>"
            ]
          },
          "metadata": {},
          "output_type": "display_data"
        },
        {
          "data": {
            "text/html": [
              " View run at <a href='https://wandb.ai/3628-pavitrakhare-indian-institute-of-technology-madras/DA6401_ASS-practice/runs/nig5uh5v' target=\"_blank\">https://wandb.ai/3628-pavitrakhare-indian-institute-of-technology-madras/DA6401_ASS-practice/runs/nig5uh5v</a>"
            ],
            "text/plain": [
              "<IPython.core.display.HTML object>"
            ]
          },
          "metadata": {},
          "output_type": "display_data"
        },
        {
          "name": "stdout",
          "output_type": "stream",
          "text": [
            "epoch :  1  validation loss :  0.7478591501894633\n",
            "epoch :  2  validation loss :  0.541349650133734\n",
            "epoch :  3  validation loss :  0.4729580554750967\n",
            "epoch :  4  validation loss :  0.4385482632303841\n",
            "epoch :  5  validation loss :  0.41774078738406134\n",
            "epoch :  6  validation loss :  0.40374662165636765\n",
            "epoch :  7  validation loss :  0.39381503381143584\n",
            "epoch :  8  validation loss :  0.38596881611318984\n",
            "epoch :  9  validation loss :  0.37977970263773564\n",
            "epoch :  10  validation loss :  0.37428535547277547\n"
          ]
        },
        {
          "data": {
            "text/html": [],
            "text/plain": [
              "<IPython.core.display.HTML object>"
            ]
          },
          "metadata": {},
          "output_type": "display_data"
        },
        {
          "data": {
            "text/html": [
              "<br>    <style><br>        .wandb-row {<br>            display: flex;<br>            flex-direction: row;<br>            flex-wrap: wrap;<br>            justify-content: flex-start;<br>            width: 100%;<br>        }<br>        .wandb-col {<br>            display: flex;<br>            flex-direction: column;<br>            flex-basis: 100%;<br>            flex: 1;<br>            padding: 10px;<br>        }<br>    </style><br><div class=\"wandb-row\"><div class=\"wandb-col\"><h3>Run history:</h3><br/><table class=\"wandb\"><tr><td>accuracy</td><td>▁▆▇▇▇▇████</td></tr><tr><td>epoch</td><td>▁▂▃▃▄▅▆▆▇█</td></tr><tr><td>loss</td><td>█▃▂▂▂▁▁▁▁▁</td></tr><tr><td>val_accuracy</td><td>▁▅▆▇▇▇████</td></tr><tr><td>val_loss</td><td>█▄▃▂▂▂▁▁▁▁</td></tr></table><br/></div><div class=\"wandb-col\"><h3>Run summary:</h3><br/><table class=\"wandb\"><tr><td>accuracy</td><td>0.8825</td></tr><tr><td>epoch</td><td>9</td></tr><tr><td>loss</td><td>0.33601</td></tr><tr><td>val_accuracy</td><td>0.86515</td></tr><tr><td>val_loss</td><td>0.37429</td></tr></table><br/></div></div>"
            ],
            "text/plain": [
              "<IPython.core.display.HTML object>"
            ]
          },
          "metadata": {},
          "output_type": "display_data"
        },
        {
          "data": {
            "text/html": [
              " View run <strong style=\"color:#cdcd00\">hl_5_sz_64_bs_64_ac_sigmoid_w_i_random_lr_0.001_wd_0.0005</strong> at: <a href='https://wandb.ai/3628-pavitrakhare-indian-institute-of-technology-madras/DA6401_ASS-practice/runs/nig5uh5v' target=\"_blank\">https://wandb.ai/3628-pavitrakhare-indian-institute-of-technology-madras/DA6401_ASS-practice/runs/nig5uh5v</a><br> View project at: <a href='https://wandb.ai/3628-pavitrakhare-indian-institute-of-technology-madras/DA6401_ASS-practice' target=\"_blank\">https://wandb.ai/3628-pavitrakhare-indian-institute-of-technology-madras/DA6401_ASS-practice</a><br>Synced 5 W&B file(s), 0 media file(s), 0 artifact file(s) and 0 other file(s)"
            ],
            "text/plain": [
              "<IPython.core.display.HTML object>"
            ]
          },
          "metadata": {},
          "output_type": "display_data"
        },
        {
          "data": {
            "text/html": [
              "Find logs at: <code>./wandb/run-20250309_030652-nig5uh5v/logs</code>"
            ],
            "text/plain": [
              "<IPython.core.display.HTML object>"
            ]
          },
          "metadata": {},
          "output_type": "display_data"
        },
        {
          "name": "stderr",
          "output_type": "stream",
          "text": [
            "\u001b[34m\u001b[1mwandb\u001b[0m: Agent Starting Run: owirgb1v with config:\n",
            "\u001b[34m\u001b[1mwandb\u001b[0m: \ta: sigmoid\n",
            "\u001b[34m\u001b[1mwandb\u001b[0m: \tb: 64\n",
            "\u001b[34m\u001b[1mwandb\u001b[0m: \te: 10\n",
            "\u001b[34m\u001b[1mwandb\u001b[0m: \tlr: 0.0001\n",
            "\u001b[34m\u001b[1mwandb\u001b[0m: \tnlh: 4\n",
            "\u001b[34m\u001b[1mwandb\u001b[0m: \to: nadam\n",
            "\u001b[34m\u001b[1mwandb\u001b[0m: \tsz: 64\n",
            "\u001b[34m\u001b[1mwandb\u001b[0m: \tw_d: 0.5\n",
            "\u001b[34m\u001b[1mwandb\u001b[0m: \tw_i: Xavier\n"
          ]
        },
        {
          "data": {
            "text/html": [
              "Ignoring project 'DA6401_ASS-practice' when running a sweep."
            ],
            "text/plain": [
              "<IPython.core.display.HTML object>"
            ]
          },
          "metadata": {},
          "output_type": "display_data"
        },
        {
          "data": {
            "text/html": [
              "Tracking run with wandb version 0.19.7"
            ],
            "text/plain": [
              "<IPython.core.display.HTML object>"
            ]
          },
          "metadata": {},
          "output_type": "display_data"
        },
        {
          "data": {
            "text/html": [
              "Run data is saved locally in <code>/content/wandb/run-20250309_031353-owirgb1v</code>"
            ],
            "text/plain": [
              "<IPython.core.display.HTML object>"
            ]
          },
          "metadata": {},
          "output_type": "display_data"
        },
        {
          "data": {
            "text/html": [
              "Syncing run <strong><a href='https://wandb.ai/3628-pavitrakhare-indian-institute-of-technology-madras/DA6401_ASS-practice/runs/owirgb1v' target=\"_blank\">firm-sweep-64</a></strong> to <a href='https://wandb.ai/3628-pavitrakhare-indian-institute-of-technology-madras/DA6401_ASS-practice' target=\"_blank\">Weights & Biases</a> (<a href='https://wandb.me/developer-guide' target=\"_blank\">docs</a>)<br>Sweep page: <a href='https://wandb.ai/3628-pavitrakhare-indian-institute-of-technology-madras/DA6401_ASS-practice/sweeps/nfibwu4x' target=\"_blank\">https://wandb.ai/3628-pavitrakhare-indian-institute-of-technology-madras/DA6401_ASS-practice/sweeps/nfibwu4x</a>"
            ],
            "text/plain": [
              "<IPython.core.display.HTML object>"
            ]
          },
          "metadata": {},
          "output_type": "display_data"
        },
        {
          "data": {
            "text/html": [
              " View project at <a href='https://wandb.ai/3628-pavitrakhare-indian-institute-of-technology-madras/DA6401_ASS-practice' target=\"_blank\">https://wandb.ai/3628-pavitrakhare-indian-institute-of-technology-madras/DA6401_ASS-practice</a>"
            ],
            "text/plain": [
              "<IPython.core.display.HTML object>"
            ]
          },
          "metadata": {},
          "output_type": "display_data"
        },
        {
          "data": {
            "text/html": [
              " View sweep at <a href='https://wandb.ai/3628-pavitrakhare-indian-institute-of-technology-madras/DA6401_ASS-practice/sweeps/nfibwu4x' target=\"_blank\">https://wandb.ai/3628-pavitrakhare-indian-institute-of-technology-madras/DA6401_ASS-practice/sweeps/nfibwu4x</a>"
            ],
            "text/plain": [
              "<IPython.core.display.HTML object>"
            ]
          },
          "metadata": {},
          "output_type": "display_data"
        },
        {
          "data": {
            "text/html": [
              " View run at <a href='https://wandb.ai/3628-pavitrakhare-indian-institute-of-technology-madras/DA6401_ASS-practice/runs/owirgb1v' target=\"_blank\">https://wandb.ai/3628-pavitrakhare-indian-institute-of-technology-madras/DA6401_ASS-practice/runs/owirgb1v</a>"
            ],
            "text/plain": [
              "<IPython.core.display.HTML object>"
            ]
          },
          "metadata": {},
          "output_type": "display_data"
        },
        {
          "name": "stdout",
          "output_type": "stream",
          "text": [
            "epoch :  1  validation loss :  2.3102213347269256\n",
            "epoch :  2  validation loss :  2.304881554543984\n",
            "epoch :  3  validation loss :  2.300296825654461\n",
            "epoch :  4  validation loss :  2.295664683218725\n",
            "epoch :  5  validation loss :  2.290544916902885\n",
            "epoch :  6  validation loss :  2.28450435964117\n",
            "epoch :  7  validation loss :  2.277022626201451\n",
            "epoch :  8  validation loss :  2.2673833102576952\n",
            "epoch :  9  validation loss :  2.254521994350453\n",
            "epoch :  10  validation loss :  2.236819003205958\n"
          ]
        },
        {
          "data": {
            "text/html": [],
            "text/plain": [
              "<IPython.core.display.HTML object>"
            ]
          },
          "metadata": {},
          "output_type": "display_data"
        },
        {
          "data": {
            "text/html": [
              "<br>    <style><br>        .wandb-row {<br>            display: flex;<br>            flex-direction: row;<br>            flex-wrap: wrap;<br>            justify-content: flex-start;<br>            width: 100%;<br>        }<br>        .wandb-col {<br>            display: flex;<br>            flex-direction: column;<br>            flex-basis: 100%;<br>            flex: 1;<br>            padding: 10px;<br>        }<br>    </style><br><div class=\"wandb-row\"><div class=\"wandb-col\"><h3>Run history:</h3><br/><table class=\"wandb\"><tr><td>accuracy</td><td>▁▃▅▇▇█████</td></tr><tr><td>epoch</td><td>▁▂▃▃▄▅▆▆▇█</td></tr><tr><td>loss</td><td>█▆▆▅▅▄▄▃▂▁</td></tr><tr><td>val_accuracy</td><td>▁▆▇▇████▇▆</td></tr><tr><td>val_loss</td><td>█▇▇▇▆▆▅▄▃▁</td></tr></table><br/></div><div class=\"wandb-col\"><h3>Run summary:</h3><br/><table class=\"wandb\"><tr><td>accuracy</td><td>0.32751</td></tr><tr><td>epoch</td><td>9</td></tr><tr><td>loss</td><td>2.23276</td></tr><tr><td>val_accuracy</td><td>0.30995</td></tr><tr><td>val_loss</td><td>2.23682</td></tr></table><br/></div></div>"
            ],
            "text/plain": [
              "<IPython.core.display.HTML object>"
            ]
          },
          "metadata": {},
          "output_type": "display_data"
        },
        {
          "data": {
            "text/html": [
              " View run <strong style=\"color:#cdcd00\">hl_4_sz_64_bs_64_ac_sigmoid_w_i_Xavier_lr_0.0001_wd_0.5</strong> at: <a href='https://wandb.ai/3628-pavitrakhare-indian-institute-of-technology-madras/DA6401_ASS-practice/runs/owirgb1v' target=\"_blank\">https://wandb.ai/3628-pavitrakhare-indian-institute-of-technology-madras/DA6401_ASS-practice/runs/owirgb1v</a><br> View project at: <a href='https://wandb.ai/3628-pavitrakhare-indian-institute-of-technology-madras/DA6401_ASS-practice' target=\"_blank\">https://wandb.ai/3628-pavitrakhare-indian-institute-of-technology-madras/DA6401_ASS-practice</a><br>Synced 5 W&B file(s), 0 media file(s), 0 artifact file(s) and 0 other file(s)"
            ],
            "text/plain": [
              "<IPython.core.display.HTML object>"
            ]
          },
          "metadata": {},
          "output_type": "display_data"
        },
        {
          "data": {
            "text/html": [
              "Find logs at: <code>./wandb/run-20250309_031353-owirgb1v/logs</code>"
            ],
            "text/plain": [
              "<IPython.core.display.HTML object>"
            ]
          },
          "metadata": {},
          "output_type": "display_data"
        },
        {
          "name": "stderr",
          "output_type": "stream",
          "text": [
            "\u001b[34m\u001b[1mwandb\u001b[0m: Agent Starting Run: x27r1sfn with config:\n",
            "\u001b[34m\u001b[1mwandb\u001b[0m: \ta: ReLU\n",
            "\u001b[34m\u001b[1mwandb\u001b[0m: \tb: 64\n",
            "\u001b[34m\u001b[1mwandb\u001b[0m: \te: 10\n",
            "\u001b[34m\u001b[1mwandb\u001b[0m: \tlr: 0.001\n",
            "\u001b[34m\u001b[1mwandb\u001b[0m: \tnlh: 4\n",
            "\u001b[34m\u001b[1mwandb\u001b[0m: \to: nadam\n",
            "\u001b[34m\u001b[1mwandb\u001b[0m: \tsz: 128\n",
            "\u001b[34m\u001b[1mwandb\u001b[0m: \tw_d: 0.0005\n",
            "\u001b[34m\u001b[1mwandb\u001b[0m: \tw_i: random\n"
          ]
        },
        {
          "data": {
            "text/html": [
              "Ignoring project 'DA6401_ASS-practice' when running a sweep."
            ],
            "text/plain": [
              "<IPython.core.display.HTML object>"
            ]
          },
          "metadata": {},
          "output_type": "display_data"
        },
        {
          "data": {
            "text/html": [
              "Tracking run with wandb version 0.19.7"
            ],
            "text/plain": [
              "<IPython.core.display.HTML object>"
            ]
          },
          "metadata": {},
          "output_type": "display_data"
        },
        {
          "data": {
            "text/html": [
              "Run data is saved locally in <code>/content/wandb/run-20250309_031949-x27r1sfn</code>"
            ],
            "text/plain": [
              "<IPython.core.display.HTML object>"
            ]
          },
          "metadata": {},
          "output_type": "display_data"
        },
        {
          "data": {
            "text/html": [
              "Syncing run <strong><a href='https://wandb.ai/3628-pavitrakhare-indian-institute-of-technology-madras/DA6401_ASS-practice/runs/x27r1sfn' target=\"_blank\">crisp-sweep-65</a></strong> to <a href='https://wandb.ai/3628-pavitrakhare-indian-institute-of-technology-madras/DA6401_ASS-practice' target=\"_blank\">Weights & Biases</a> (<a href='https://wandb.me/developer-guide' target=\"_blank\">docs</a>)<br>Sweep page: <a href='https://wandb.ai/3628-pavitrakhare-indian-institute-of-technology-madras/DA6401_ASS-practice/sweeps/nfibwu4x' target=\"_blank\">https://wandb.ai/3628-pavitrakhare-indian-institute-of-technology-madras/DA6401_ASS-practice/sweeps/nfibwu4x</a>"
            ],
            "text/plain": [
              "<IPython.core.display.HTML object>"
            ]
          },
          "metadata": {},
          "output_type": "display_data"
        },
        {
          "data": {
            "text/html": [
              " View project at <a href='https://wandb.ai/3628-pavitrakhare-indian-institute-of-technology-madras/DA6401_ASS-practice' target=\"_blank\">https://wandb.ai/3628-pavitrakhare-indian-institute-of-technology-madras/DA6401_ASS-practice</a>"
            ],
            "text/plain": [
              "<IPython.core.display.HTML object>"
            ]
          },
          "metadata": {},
          "output_type": "display_data"
        },
        {
          "data": {
            "text/html": [
              " View sweep at <a href='https://wandb.ai/3628-pavitrakhare-indian-institute-of-technology-madras/DA6401_ASS-practice/sweeps/nfibwu4x' target=\"_blank\">https://wandb.ai/3628-pavitrakhare-indian-institute-of-technology-madras/DA6401_ASS-practice/sweeps/nfibwu4x</a>"
            ],
            "text/plain": [
              "<IPython.core.display.HTML object>"
            ]
          },
          "metadata": {},
          "output_type": "display_data"
        },
        {
          "data": {
            "text/html": [
              " View run at <a href='https://wandb.ai/3628-pavitrakhare-indian-institute-of-technology-madras/DA6401_ASS-practice/runs/x27r1sfn' target=\"_blank\">https://wandb.ai/3628-pavitrakhare-indian-institute-of-technology-madras/DA6401_ASS-practice/runs/x27r1sfn</a>"
            ],
            "text/plain": [
              "<IPython.core.display.HTML object>"
            ]
          },
          "metadata": {},
          "output_type": "display_data"
        },
        {
          "name": "stdout",
          "output_type": "stream",
          "text": [
            "epoch :  1  validation loss :  5.204743642588681\n",
            "epoch :  2  validation loss :  4.290111109942014\n",
            "epoch :  3  validation loss :  3.9137245300871806\n",
            "epoch :  4  validation loss :  3.5202237009455963\n",
            "epoch :  5  validation loss :  3.0217373445720446\n",
            "epoch :  6  validation loss :  2.6755021635532845\n",
            "epoch :  7  validation loss :  2.4964335040309513\n",
            "epoch :  8  validation loss :  2.1084078101209407\n",
            "epoch :  9  validation loss :  1.7571423365142336\n",
            "epoch :  10  validation loss :  1.5301927996638087\n"
          ]
        },
        {
          "data": {
            "text/html": [],
            "text/plain": [
              "<IPython.core.display.HTML object>"
            ]
          },
          "metadata": {},
          "output_type": "display_data"
        },
        {
          "data": {
            "text/html": [
              "<br>    <style><br>        .wandb-row {<br>            display: flex;<br>            flex-direction: row;<br>            flex-wrap: wrap;<br>            justify-content: flex-start;<br>            width: 100%;<br>        }<br>        .wandb-col {<br>            display: flex;<br>            flex-direction: column;<br>            flex-basis: 100%;<br>            flex: 1;<br>            padding: 10px;<br>        }<br>    </style><br><div class=\"wandb-row\"><div class=\"wandb-col\"><h3>Run history:</h3><br/><table class=\"wandb\"><tr><td>accuracy</td><td>▁▅▆▇▇▇▇███</td></tr><tr><td>epoch</td><td>▁▂▃▃▄▅▆▆▇█</td></tr><tr><td>loss</td><td>█▅▅▄▃▃▂▂▁▁</td></tr><tr><td>val_accuracy</td><td>▁▃▄▄▅▆▅▆██</td></tr><tr><td>val_loss</td><td>█▆▆▅▄▃▃▂▁▁</td></tr></table><br/></div><div class=\"wandb-col\"><h3>Run summary:</h3><br/><table class=\"wandb\"><tr><td>accuracy</td><td>0.80855</td></tr><tr><td>epoch</td><td>9</td></tr><tr><td>loss</td><td>1.4818</td></tr><tr><td>val_accuracy</td><td>0.80774</td></tr><tr><td>val_loss</td><td>1.53019</td></tr></table><br/></div></div>"
            ],
            "text/plain": [
              "<IPython.core.display.HTML object>"
            ]
          },
          "metadata": {},
          "output_type": "display_data"
        },
        {
          "data": {
            "text/html": [
              " View run <strong style=\"color:#cdcd00\">hl_4_sz_128_bs_64_ac_ReLU_w_i_random_lr_0.001_wd_0.0005</strong> at: <a href='https://wandb.ai/3628-pavitrakhare-indian-institute-of-technology-madras/DA6401_ASS-practice/runs/x27r1sfn' target=\"_blank\">https://wandb.ai/3628-pavitrakhare-indian-institute-of-technology-madras/DA6401_ASS-practice/runs/x27r1sfn</a><br> View project at: <a href='https://wandb.ai/3628-pavitrakhare-indian-institute-of-technology-madras/DA6401_ASS-practice' target=\"_blank\">https://wandb.ai/3628-pavitrakhare-indian-institute-of-technology-madras/DA6401_ASS-practice</a><br>Synced 5 W&B file(s), 0 media file(s), 0 artifact file(s) and 0 other file(s)"
            ],
            "text/plain": [
              "<IPython.core.display.HTML object>"
            ]
          },
          "metadata": {},
          "output_type": "display_data"
        },
        {
          "data": {
            "text/html": [
              "Find logs at: <code>./wandb/run-20250309_031949-x27r1sfn/logs</code>"
            ],
            "text/plain": [
              "<IPython.core.display.HTML object>"
            ]
          },
          "metadata": {},
          "output_type": "display_data"
        },
        {
          "name": "stderr",
          "output_type": "stream",
          "text": [
            "\u001b[34m\u001b[1mwandb\u001b[0m: Agent Starting Run: w0fgh7o8 with config:\n",
            "\u001b[34m\u001b[1mwandb\u001b[0m: \ta: tanh\n",
            "\u001b[34m\u001b[1mwandb\u001b[0m: \tb: 64\n",
            "\u001b[34m\u001b[1mwandb\u001b[0m: \te: 10\n",
            "\u001b[34m\u001b[1mwandb\u001b[0m: \tlr: 0.0001\n",
            "\u001b[34m\u001b[1mwandb\u001b[0m: \tnlh: 5\n",
            "\u001b[34m\u001b[1mwandb\u001b[0m: \to: adam\n",
            "\u001b[34m\u001b[1mwandb\u001b[0m: \tsz: 128\n",
            "\u001b[34m\u001b[1mwandb\u001b[0m: \tw_d: 0.5\n",
            "\u001b[34m\u001b[1mwandb\u001b[0m: \tw_i: Xavier\n"
          ]
        },
        {
          "data": {
            "text/html": [
              "Ignoring project 'DA6401_ASS-practice' when running a sweep."
            ],
            "text/plain": [
              "<IPython.core.display.HTML object>"
            ]
          },
          "metadata": {},
          "output_type": "display_data"
        },
        {
          "data": {
            "text/html": [
              "Tracking run with wandb version 0.19.7"
            ],
            "text/plain": [
              "<IPython.core.display.HTML object>"
            ]
          },
          "metadata": {},
          "output_type": "display_data"
        },
        {
          "data": {
            "text/html": [
              "Run data is saved locally in <code>/content/wandb/run-20250309_033018-w0fgh7o8</code>"
            ],
            "text/plain": [
              "<IPython.core.display.HTML object>"
            ]
          },
          "metadata": {},
          "output_type": "display_data"
        },
        {
          "data": {
            "text/html": [
              "Syncing run <strong><a href='https://wandb.ai/3628-pavitrakhare-indian-institute-of-technology-madras/DA6401_ASS-practice/runs/w0fgh7o8' target=\"_blank\">robust-sweep-66</a></strong> to <a href='https://wandb.ai/3628-pavitrakhare-indian-institute-of-technology-madras/DA6401_ASS-practice' target=\"_blank\">Weights & Biases</a> (<a href='https://wandb.me/developer-guide' target=\"_blank\">docs</a>)<br>Sweep page: <a href='https://wandb.ai/3628-pavitrakhare-indian-institute-of-technology-madras/DA6401_ASS-practice/sweeps/nfibwu4x' target=\"_blank\">https://wandb.ai/3628-pavitrakhare-indian-institute-of-technology-madras/DA6401_ASS-practice/sweeps/nfibwu4x</a>"
            ],
            "text/plain": [
              "<IPython.core.display.HTML object>"
            ]
          },
          "metadata": {},
          "output_type": "display_data"
        },
        {
          "data": {
            "text/html": [
              " View project at <a href='https://wandb.ai/3628-pavitrakhare-indian-institute-of-technology-madras/DA6401_ASS-practice' target=\"_blank\">https://wandb.ai/3628-pavitrakhare-indian-institute-of-technology-madras/DA6401_ASS-practice</a>"
            ],
            "text/plain": [
              "<IPython.core.display.HTML object>"
            ]
          },
          "metadata": {},
          "output_type": "display_data"
        },
        {
          "data": {
            "text/html": [
              " View sweep at <a href='https://wandb.ai/3628-pavitrakhare-indian-institute-of-technology-madras/DA6401_ASS-practice/sweeps/nfibwu4x' target=\"_blank\">https://wandb.ai/3628-pavitrakhare-indian-institute-of-technology-madras/DA6401_ASS-practice/sweeps/nfibwu4x</a>"
            ],
            "text/plain": [
              "<IPython.core.display.HTML object>"
            ]
          },
          "metadata": {},
          "output_type": "display_data"
        },
        {
          "data": {
            "text/html": [
              " View run at <a href='https://wandb.ai/3628-pavitrakhare-indian-institute-of-technology-madras/DA6401_ASS-practice/runs/w0fgh7o8' target=\"_blank\">https://wandb.ai/3628-pavitrakhare-indian-institute-of-technology-madras/DA6401_ASS-practice/runs/w0fgh7o8</a>"
            ],
            "text/plain": [
              "<IPython.core.display.HTML object>"
            ]
          },
          "metadata": {},
          "output_type": "display_data"
        },
        {
          "name": "stdout",
          "output_type": "stream",
          "text": [
            "epoch :  1  validation loss :  0.6281167061340424\n",
            "epoch :  2  validation loss :  0.518465018727872\n",
            "epoch :  3  validation loss :  0.47467376423957214\n",
            "epoch :  4  validation loss :  0.4505412867924846\n",
            "epoch :  5  validation loss :  0.4349753300061851\n",
            "epoch :  6  validation loss :  0.423816416992227\n",
            "epoch :  7  validation loss :  0.41520870810747557\n",
            "epoch :  8  validation loss :  0.4082196865503286\n",
            "epoch :  9  validation loss :  0.4023365339012353\n",
            "epoch :  10  validation loss :  0.3972554345321531\n"
          ]
        },
        {
          "data": {
            "text/html": [],
            "text/plain": [
              "<IPython.core.display.HTML object>"
            ]
          },
          "metadata": {},
          "output_type": "display_data"
        },
        {
          "data": {
            "text/html": [
              "<br>    <style><br>        .wandb-row {<br>            display: flex;<br>            flex-direction: row;<br>            flex-wrap: wrap;<br>            justify-content: flex-start;<br>            width: 100%;<br>        }<br>        .wandb-col {<br>            display: flex;<br>            flex-direction: column;<br>            flex-basis: 100%;<br>            flex: 1;<br>            padding: 10px;<br>        }<br>    </style><br><div class=\"wandb-row\"><div class=\"wandb-col\"><h3>Run history:</h3><br/><table class=\"wandb\"><tr><td>accuracy</td><td>▁▆▆▇▇▇████</td></tr><tr><td>epoch</td><td>▁▂▃▃▄▅▆▆▇█</td></tr><tr><td>loss</td><td>█▃▂▂▂▂▁▁▁▁</td></tr><tr><td>val_accuracy</td><td>▁▄▅▆▇▇▇▇██</td></tr><tr><td>val_loss</td><td>█▅▃▃▂▂▂▁▁▁</td></tr></table><br/></div><div class=\"wandb-col\"><h3>Run summary:</h3><br/><table class=\"wandb\"><tr><td>accuracy</td><td>0.88033</td></tr><tr><td>epoch</td><td>9</td></tr><tr><td>loss</td><td>0.34074</td></tr><tr><td>val_accuracy</td><td>0.8699</td></tr><tr><td>val_loss</td><td>0.39726</td></tr></table><br/></div></div>"
            ],
            "text/plain": [
              "<IPython.core.display.HTML object>"
            ]
          },
          "metadata": {},
          "output_type": "display_data"
        },
        {
          "data": {
            "text/html": [
              " View run <strong style=\"color:#cdcd00\">hl_5_sz_128_bs_64_ac_tanh_w_i_Xavier_lr_0.0001_wd_0.5</strong> at: <a href='https://wandb.ai/3628-pavitrakhare-indian-institute-of-technology-madras/DA6401_ASS-practice/runs/w0fgh7o8' target=\"_blank\">https://wandb.ai/3628-pavitrakhare-indian-institute-of-technology-madras/DA6401_ASS-practice/runs/w0fgh7o8</a><br> View project at: <a href='https://wandb.ai/3628-pavitrakhare-indian-institute-of-technology-madras/DA6401_ASS-practice' target=\"_blank\">https://wandb.ai/3628-pavitrakhare-indian-institute-of-technology-madras/DA6401_ASS-practice</a><br>Synced 5 W&B file(s), 0 media file(s), 0 artifact file(s) and 0 other file(s)"
            ],
            "text/plain": [
              "<IPython.core.display.HTML object>"
            ]
          },
          "metadata": {},
          "output_type": "display_data"
        },
        {
          "data": {
            "text/html": [
              "Find logs at: <code>./wandb/run-20250309_033018-w0fgh7o8/logs</code>"
            ],
            "text/plain": [
              "<IPython.core.display.HTML object>"
            ]
          },
          "metadata": {},
          "output_type": "display_data"
        },
        {
          "name": "stderr",
          "output_type": "stream",
          "text": [
            "\u001b[34m\u001b[1mwandb\u001b[0m: Agent Starting Run: 18n1j9as with config:\n",
            "\u001b[34m\u001b[1mwandb\u001b[0m: \ta: tanh\n",
            "\u001b[34m\u001b[1mwandb\u001b[0m: \tb: 32\n",
            "\u001b[34m\u001b[1mwandb\u001b[0m: \te: 10\n",
            "\u001b[34m\u001b[1mwandb\u001b[0m: \tlr: 0.0001\n",
            "\u001b[34m\u001b[1mwandb\u001b[0m: \tnlh: 5\n",
            "\u001b[34m\u001b[1mwandb\u001b[0m: \to: nadam\n",
            "\u001b[34m\u001b[1mwandb\u001b[0m: \tsz: 128\n",
            "\u001b[34m\u001b[1mwandb\u001b[0m: \tw_d: 0.0005\n",
            "\u001b[34m\u001b[1mwandb\u001b[0m: \tw_i: Xavier\n"
          ]
        },
        {
          "data": {
            "text/html": [
              "Ignoring project 'DA6401_ASS-practice' when running a sweep."
            ],
            "text/plain": [
              "<IPython.core.display.HTML object>"
            ]
          },
          "metadata": {},
          "output_type": "display_data"
        },
        {
          "data": {
            "text/html": [
              "Tracking run with wandb version 0.19.7"
            ],
            "text/plain": [
              "<IPython.core.display.HTML object>"
            ]
          },
          "metadata": {},
          "output_type": "display_data"
        },
        {
          "data": {
            "text/html": [
              "Run data is saved locally in <code>/content/wandb/run-20250309_034331-18n1j9as</code>"
            ],
            "text/plain": [
              "<IPython.core.display.HTML object>"
            ]
          },
          "metadata": {},
          "output_type": "display_data"
        },
        {
          "data": {
            "text/html": [
              "Syncing run <strong><a href='https://wandb.ai/3628-pavitrakhare-indian-institute-of-technology-madras/DA6401_ASS-practice/runs/18n1j9as' target=\"_blank\">neat-sweep-67</a></strong> to <a href='https://wandb.ai/3628-pavitrakhare-indian-institute-of-technology-madras/DA6401_ASS-practice' target=\"_blank\">Weights & Biases</a> (<a href='https://wandb.me/developer-guide' target=\"_blank\">docs</a>)<br>Sweep page: <a href='https://wandb.ai/3628-pavitrakhare-indian-institute-of-technology-madras/DA6401_ASS-practice/sweeps/nfibwu4x' target=\"_blank\">https://wandb.ai/3628-pavitrakhare-indian-institute-of-technology-madras/DA6401_ASS-practice/sweeps/nfibwu4x</a>"
            ],
            "text/plain": [
              "<IPython.core.display.HTML object>"
            ]
          },
          "metadata": {},
          "output_type": "display_data"
        },
        {
          "data": {
            "text/html": [
              " View project at <a href='https://wandb.ai/3628-pavitrakhare-indian-institute-of-technology-madras/DA6401_ASS-practice' target=\"_blank\">https://wandb.ai/3628-pavitrakhare-indian-institute-of-technology-madras/DA6401_ASS-practice</a>"
            ],
            "text/plain": [
              "<IPython.core.display.HTML object>"
            ]
          },
          "metadata": {},
          "output_type": "display_data"
        },
        {
          "data": {
            "text/html": [
              " View sweep at <a href='https://wandb.ai/3628-pavitrakhare-indian-institute-of-technology-madras/DA6401_ASS-practice/sweeps/nfibwu4x' target=\"_blank\">https://wandb.ai/3628-pavitrakhare-indian-institute-of-technology-madras/DA6401_ASS-practice/sweeps/nfibwu4x</a>"
            ],
            "text/plain": [
              "<IPython.core.display.HTML object>"
            ]
          },
          "metadata": {},
          "output_type": "display_data"
        },
        {
          "data": {
            "text/html": [
              " View run at <a href='https://wandb.ai/3628-pavitrakhare-indian-institute-of-technology-madras/DA6401_ASS-practice/runs/18n1j9as' target=\"_blank\">https://wandb.ai/3628-pavitrakhare-indian-institute-of-technology-madras/DA6401_ASS-practice/runs/18n1j9as</a>"
            ],
            "text/plain": [
              "<IPython.core.display.HTML object>"
            ]
          },
          "metadata": {},
          "output_type": "display_data"
        },
        {
          "name": "stdout",
          "output_type": "stream",
          "text": [
            "epoch :  1  validation loss :  0.5069913440328407\n",
            "epoch :  2  validation loss :  0.44067060679301656\n",
            "epoch :  3  validation loss :  0.41275310102102114\n",
            "epoch :  4  validation loss :  0.3957129245424609\n",
            "epoch :  5  validation loss :  0.38380254318184137\n",
            "epoch :  6  validation loss :  0.37481100782769955\n",
            "epoch :  7  validation loss :  0.3675929388786897\n",
            "epoch :  8  validation loss :  0.3615083243090409\n",
            "epoch :  9  validation loss :  0.3562158214621175\n",
            "epoch :  10  validation loss :  0.35152562029105827\n"
          ]
        },
        {
          "data": {
            "text/html": [],
            "text/plain": [
              "<IPython.core.display.HTML object>"
            ]
          },
          "metadata": {},
          "output_type": "display_data"
        },
        {
          "data": {
            "text/html": [
              "<br>    <style><br>        .wandb-row {<br>            display: flex;<br>            flex-direction: row;<br>            flex-wrap: wrap;<br>            justify-content: flex-start;<br>            width: 100%;<br>        }<br>        .wandb-col {<br>            display: flex;<br>            flex-direction: column;<br>            flex-basis: 100%;<br>            flex: 1;<br>            padding: 10px;<br>        }<br>    </style><br><div class=\"wandb-row\"><div class=\"wandb-col\"><h3>Run history:</h3><br/><table class=\"wandb\"><tr><td>accuracy</td><td>▁▅▆▇▇▇▇███</td></tr><tr><td>epoch</td><td>▁▂▃▃▄▅▆▆▇█</td></tr><tr><td>loss</td><td>█▄▃▂▂▂▁▁▁▁</td></tr><tr><td>val_accuracy</td><td>▁▃▅▆▆▆▇███</td></tr><tr><td>val_loss</td><td>█▅▄▃▂▂▂▁▁▁</td></tr></table><br/></div><div class=\"wandb-col\"><h3>Run summary:</h3><br/><table class=\"wandb\"><tr><td>accuracy</td><td>0.88702</td></tr><tr><td>epoch</td><td>9</td></tr><tr><td>loss</td><td>0.31113</td></tr><tr><td>val_accuracy</td><td>0.87415</td></tr><tr><td>val_loss</td><td>0.35153</td></tr></table><br/></div></div>"
            ],
            "text/plain": [
              "<IPython.core.display.HTML object>"
            ]
          },
          "metadata": {},
          "output_type": "display_data"
        },
        {
          "data": {
            "text/html": [
              " View run <strong style=\"color:#cdcd00\">hl_5_sz_128_bs_32_ac_tanh_w_i_Xavier_lr_0.0001_wd_0.0005</strong> at: <a href='https://wandb.ai/3628-pavitrakhare-indian-institute-of-technology-madras/DA6401_ASS-practice/runs/18n1j9as' target=\"_blank\">https://wandb.ai/3628-pavitrakhare-indian-institute-of-technology-madras/DA6401_ASS-practice/runs/18n1j9as</a><br> View project at: <a href='https://wandb.ai/3628-pavitrakhare-indian-institute-of-technology-madras/DA6401_ASS-practice' target=\"_blank\">https://wandb.ai/3628-pavitrakhare-indian-institute-of-technology-madras/DA6401_ASS-practice</a><br>Synced 5 W&B file(s), 0 media file(s), 0 artifact file(s) and 0 other file(s)"
            ],
            "text/plain": [
              "<IPython.core.display.HTML object>"
            ]
          },
          "metadata": {},
          "output_type": "display_data"
        },
        {
          "data": {
            "text/html": [
              "Find logs at: <code>./wandb/run-20250309_034331-18n1j9as/logs</code>"
            ],
            "text/plain": [
              "<IPython.core.display.HTML object>"
            ]
          },
          "metadata": {},
          "output_type": "display_data"
        },
        {
          "name": "stderr",
          "output_type": "stream",
          "text": [
            "\u001b[34m\u001b[1mwandb\u001b[0m: Agent Starting Run: r9heif7e with config:\n",
            "\u001b[34m\u001b[1mwandb\u001b[0m: \ta: sigmoid\n",
            "\u001b[34m\u001b[1mwandb\u001b[0m: \tb: 64\n",
            "\u001b[34m\u001b[1mwandb\u001b[0m: \te: 10\n",
            "\u001b[34m\u001b[1mwandb\u001b[0m: \tlr: 0.001\n",
            "\u001b[34m\u001b[1mwandb\u001b[0m: \tnlh: 5\n",
            "\u001b[34m\u001b[1mwandb\u001b[0m: \to: nadam\n",
            "\u001b[34m\u001b[1mwandb\u001b[0m: \tsz: 128\n",
            "\u001b[34m\u001b[1mwandb\u001b[0m: \tw_d: 0.0005\n",
            "\u001b[34m\u001b[1mwandb\u001b[0m: \tw_i: Xavier\n"
          ]
        },
        {
          "data": {
            "text/html": [
              "Ignoring project 'DA6401_ASS-practice' when running a sweep."
            ],
            "text/plain": [
              "<IPython.core.display.HTML object>"
            ]
          },
          "metadata": {},
          "output_type": "display_data"
        },
        {
          "data": {
            "text/html": [
              "Tracking run with wandb version 0.19.7"
            ],
            "text/plain": [
              "<IPython.core.display.HTML object>"
            ]
          },
          "metadata": {},
          "output_type": "display_data"
        },
        {
          "data": {
            "text/html": [
              "Run data is saved locally in <code>/content/wandb/run-20250309_035854-r9heif7e</code>"
            ],
            "text/plain": [
              "<IPython.core.display.HTML object>"
            ]
          },
          "metadata": {},
          "output_type": "display_data"
        },
        {
          "data": {
            "text/html": [
              "Syncing run <strong><a href='https://wandb.ai/3628-pavitrakhare-indian-institute-of-technology-madras/DA6401_ASS-practice/runs/r9heif7e' target=\"_blank\">giddy-sweep-68</a></strong> to <a href='https://wandb.ai/3628-pavitrakhare-indian-institute-of-technology-madras/DA6401_ASS-practice' target=\"_blank\">Weights & Biases</a> (<a href='https://wandb.me/developer-guide' target=\"_blank\">docs</a>)<br>Sweep page: <a href='https://wandb.ai/3628-pavitrakhare-indian-institute-of-technology-madras/DA6401_ASS-practice/sweeps/nfibwu4x' target=\"_blank\">https://wandb.ai/3628-pavitrakhare-indian-institute-of-technology-madras/DA6401_ASS-practice/sweeps/nfibwu4x</a>"
            ],
            "text/plain": [
              "<IPython.core.display.HTML object>"
            ]
          },
          "metadata": {},
          "output_type": "display_data"
        },
        {
          "data": {
            "text/html": [
              " View project at <a href='https://wandb.ai/3628-pavitrakhare-indian-institute-of-technology-madras/DA6401_ASS-practice' target=\"_blank\">https://wandb.ai/3628-pavitrakhare-indian-institute-of-technology-madras/DA6401_ASS-practice</a>"
            ],
            "text/plain": [
              "<IPython.core.display.HTML object>"
            ]
          },
          "metadata": {},
          "output_type": "display_data"
        },
        {
          "data": {
            "text/html": [
              " View sweep at <a href='https://wandb.ai/3628-pavitrakhare-indian-institute-of-technology-madras/DA6401_ASS-practice/sweeps/nfibwu4x' target=\"_blank\">https://wandb.ai/3628-pavitrakhare-indian-institute-of-technology-madras/DA6401_ASS-practice/sweeps/nfibwu4x</a>"
            ],
            "text/plain": [
              "<IPython.core.display.HTML object>"
            ]
          },
          "metadata": {},
          "output_type": "display_data"
        },
        {
          "data": {
            "text/html": [
              " View run at <a href='https://wandb.ai/3628-pavitrakhare-indian-institute-of-technology-madras/DA6401_ASS-practice/runs/r9heif7e' target=\"_blank\">https://wandb.ai/3628-pavitrakhare-indian-institute-of-technology-madras/DA6401_ASS-practice/runs/r9heif7e</a>"
            ],
            "text/plain": [
              "<IPython.core.display.HTML object>"
            ]
          },
          "metadata": {},
          "output_type": "display_data"
        },
        {
          "name": "stdout",
          "output_type": "stream",
          "text": [
            "epoch :  1  validation loss :  2.3025538699008226\n",
            "epoch :  2  validation loss :  2.2914124561154017\n",
            "epoch :  3  validation loss :  2.169107063740805\n",
            "epoch :  4  validation loss :  1.657648305982148\n",
            "epoch :  5  validation loss :  1.5148005240157187\n",
            "epoch :  6  validation loss :  1.3065549388612365\n",
            "epoch :  7  validation loss :  1.18333857212122\n",
            "epoch :  8  validation loss :  1.098739459752244\n",
            "epoch :  9  validation loss :  1.0266730138179359\n",
            "epoch :  10  validation loss :  0.9628062740863524\n"
          ]
        },
        {
          "data": {
            "text/html": [],
            "text/plain": [
              "<IPython.core.display.HTML object>"
            ]
          },
          "metadata": {},
          "output_type": "display_data"
        },
        {
          "data": {
            "text/html": [
              "<br>    <style><br>        .wandb-row {<br>            display: flex;<br>            flex-direction: row;<br>            flex-wrap: wrap;<br>            justify-content: flex-start;<br>            width: 100%;<br>        }<br>        .wandb-col {<br>            display: flex;<br>            flex-direction: column;<br>            flex-basis: 100%;<br>            flex: 1;<br>            padding: 10px;<br>        }<br>    </style><br><div class=\"wandb-row\"><div class=\"wandb-col\"><h3>Run history:</h3><br/><table class=\"wandb\"><tr><td>accuracy</td><td>▁▁▂▃▄▅▆▇▇█</td></tr><tr><td>epoch</td><td>▁▂▃▃▄▅▆▆▇█</td></tr><tr><td>loss</td><td>███▆▄▃▂▂▁▁</td></tr><tr><td>val_accuracy</td><td>▁▂▃▄▄▆▆▇██</td></tr><tr><td>val_loss</td><td>██▇▅▄▃▂▂▁▁</td></tr></table><br/></div><div class=\"wandb-col\"><h3>Run summary:</h3><br/><table class=\"wandb\"><tr><td>accuracy</td><td>0.62454</td></tr><tr><td>epoch</td><td>9</td></tr><tr><td>loss</td><td>0.98633</td></tr><tr><td>val_accuracy</td><td>0.63213</td></tr><tr><td>val_loss</td><td>0.96281</td></tr></table><br/></div></div>"
            ],
            "text/plain": [
              "<IPython.core.display.HTML object>"
            ]
          },
          "metadata": {},
          "output_type": "display_data"
        },
        {
          "data": {
            "text/html": [
              " View run <strong style=\"color:#cdcd00\">hl_5_sz_128_bs_64_ac_sigmoid_w_i_Xavier_lr_0.001_wd_0.0005</strong> at: <a href='https://wandb.ai/3628-pavitrakhare-indian-institute-of-technology-madras/DA6401_ASS-practice/runs/r9heif7e' target=\"_blank\">https://wandb.ai/3628-pavitrakhare-indian-institute-of-technology-madras/DA6401_ASS-practice/runs/r9heif7e</a><br> View project at: <a href='https://wandb.ai/3628-pavitrakhare-indian-institute-of-technology-madras/DA6401_ASS-practice' target=\"_blank\">https://wandb.ai/3628-pavitrakhare-indian-institute-of-technology-madras/DA6401_ASS-practice</a><br>Synced 5 W&B file(s), 0 media file(s), 0 artifact file(s) and 0 other file(s)"
            ],
            "text/plain": [
              "<IPython.core.display.HTML object>"
            ]
          },
          "metadata": {},
          "output_type": "display_data"
        },
        {
          "data": {
            "text/html": [
              "Find logs at: <code>./wandb/run-20250309_035854-r9heif7e/logs</code>"
            ],
            "text/plain": [
              "<IPython.core.display.HTML object>"
            ]
          },
          "metadata": {},
          "output_type": "display_data"
        },
        {
          "name": "stderr",
          "output_type": "stream",
          "text": [
            "\u001b[34m\u001b[1mwandb\u001b[0m: Agent Starting Run: 4z2efbnk with config:\n",
            "\u001b[34m\u001b[1mwandb\u001b[0m: \ta: sigmoid\n",
            "\u001b[34m\u001b[1mwandb\u001b[0m: \tb: 64\n",
            "\u001b[34m\u001b[1mwandb\u001b[0m: \te: 10\n",
            "\u001b[34m\u001b[1mwandb\u001b[0m: \tlr: 0.001\n",
            "\u001b[34m\u001b[1mwandb\u001b[0m: \tnlh: 5\n",
            "\u001b[34m\u001b[1mwandb\u001b[0m: \to: nadam\n",
            "\u001b[34m\u001b[1mwandb\u001b[0m: \tsz: 128\n",
            "\u001b[34m\u001b[1mwandb\u001b[0m: \tw_d: 0.0005\n",
            "\u001b[34m\u001b[1mwandb\u001b[0m: \tw_i: Xavier\n"
          ]
        },
        {
          "data": {
            "text/html": [
              "Ignoring project 'DA6401_ASS-practice' when running a sweep."
            ],
            "text/plain": [
              "<IPython.core.display.HTML object>"
            ]
          },
          "metadata": {},
          "output_type": "display_data"
        },
        {
          "data": {
            "text/html": [
              "Tracking run with wandb version 0.19.7"
            ],
            "text/plain": [
              "<IPython.core.display.HTML object>"
            ]
          },
          "metadata": {},
          "output_type": "display_data"
        },
        {
          "data": {
            "text/html": [
              "Run data is saved locally in <code>/content/wandb/run-20250309_041155-4z2efbnk</code>"
            ],
            "text/plain": [
              "<IPython.core.display.HTML object>"
            ]
          },
          "metadata": {},
          "output_type": "display_data"
        },
        {
          "data": {
            "text/html": [
              "Syncing run <strong><a href='https://wandb.ai/3628-pavitrakhare-indian-institute-of-technology-madras/DA6401_ASS-practice/runs/4z2efbnk' target=\"_blank\">proud-sweep-69</a></strong> to <a href='https://wandb.ai/3628-pavitrakhare-indian-institute-of-technology-madras/DA6401_ASS-practice' target=\"_blank\">Weights & Biases</a> (<a href='https://wandb.me/developer-guide' target=\"_blank\">docs</a>)<br>Sweep page: <a href='https://wandb.ai/3628-pavitrakhare-indian-institute-of-technology-madras/DA6401_ASS-practice/sweeps/nfibwu4x' target=\"_blank\">https://wandb.ai/3628-pavitrakhare-indian-institute-of-technology-madras/DA6401_ASS-practice/sweeps/nfibwu4x</a>"
            ],
            "text/plain": [
              "<IPython.core.display.HTML object>"
            ]
          },
          "metadata": {},
          "output_type": "display_data"
        },
        {
          "data": {
            "text/html": [
              " View project at <a href='https://wandb.ai/3628-pavitrakhare-indian-institute-of-technology-madras/DA6401_ASS-practice' target=\"_blank\">https://wandb.ai/3628-pavitrakhare-indian-institute-of-technology-madras/DA6401_ASS-practice</a>"
            ],
            "text/plain": [
              "<IPython.core.display.HTML object>"
            ]
          },
          "metadata": {},
          "output_type": "display_data"
        },
        {
          "data": {
            "text/html": [
              " View sweep at <a href='https://wandb.ai/3628-pavitrakhare-indian-institute-of-technology-madras/DA6401_ASS-practice/sweeps/nfibwu4x' target=\"_blank\">https://wandb.ai/3628-pavitrakhare-indian-institute-of-technology-madras/DA6401_ASS-practice/sweeps/nfibwu4x</a>"
            ],
            "text/plain": [
              "<IPython.core.display.HTML object>"
            ]
          },
          "metadata": {},
          "output_type": "display_data"
        },
        {
          "data": {
            "text/html": [
              " View run at <a href='https://wandb.ai/3628-pavitrakhare-indian-institute-of-technology-madras/DA6401_ASS-practice/runs/4z2efbnk' target=\"_blank\">https://wandb.ai/3628-pavitrakhare-indian-institute-of-technology-madras/DA6401_ASS-practice/runs/4z2efbnk</a>"
            ],
            "text/plain": [
              "<IPython.core.display.HTML object>"
            ]
          },
          "metadata": {},
          "output_type": "display_data"
        },
        {
          "name": "stdout",
          "output_type": "stream",
          "text": [
            "epoch :  1  validation loss :  2.3023056453298008\n",
            "epoch :  2  validation loss :  2.295662290493334\n",
            "epoch :  3  validation loss :  2.2715293396269924\n",
            "epoch :  4  validation loss :  1.876901470973608\n",
            "epoch :  5  validation loss :  1.585176394286261\n",
            "epoch :  6  validation loss :  1.4806870084091714\n",
            "epoch :  7  validation loss :  1.2767157169254568\n",
            "epoch :  8  validation loss :  1.0858041856787175\n",
            "epoch :  9  validation loss :  0.9023070135298867\n",
            "epoch :  10  validation loss :  0.7971627598498204\n"
          ]
        },
        {
          "data": {
            "text/html": [],
            "text/plain": [
              "<IPython.core.display.HTML object>"
            ]
          },
          "metadata": {},
          "output_type": "display_data"
        },
        {
          "data": {
            "text/html": [
              "<br>    <style><br>        .wandb-row {<br>            display: flex;<br>            flex-direction: row;<br>            flex-wrap: wrap;<br>            justify-content: flex-start;<br>            width: 100%;<br>        }<br>        .wandb-col {<br>            display: flex;<br>            flex-direction: column;<br>            flex-basis: 100%;<br>            flex: 1;<br>            padding: 10px;<br>        }<br>    </style><br><div class=\"wandb-row\"><div class=\"wandb-col\"><h3>Run history:</h3><br/><table class=\"wandb\"><tr><td>accuracy</td><td>▁▁▁▂▃▄▅▆▇█</td></tr><tr><td>epoch</td><td>▁▂▃▃▄▅▆▆▇█</td></tr><tr><td>loss</td><td>███▇▅▄▄▃▂▁</td></tr><tr><td>val_accuracy</td><td>▁▁▂▂▄▄▅▇██</td></tr><tr><td>val_loss</td><td>███▆▅▄▃▂▁▁</td></tr></table><br/></div><div class=\"wandb-col\"><h3>Run summary:</h3><br/><table class=\"wandb\"><tr><td>accuracy</td><td>0.6944</td></tr><tr><td>epoch</td><td>9</td></tr><tr><td>loss</td><td>0.84774</td></tr><tr><td>val_accuracy</td><td>0.72588</td></tr><tr><td>val_loss</td><td>0.79716</td></tr></table><br/></div></div>"
            ],
            "text/plain": [
              "<IPython.core.display.HTML object>"
            ]
          },
          "metadata": {},
          "output_type": "display_data"
        },
        {
          "data": {
            "text/html": [
              " View run <strong style=\"color:#cdcd00\">hl_5_sz_128_bs_64_ac_sigmoid_w_i_Xavier_lr_0.001_wd_0.0005</strong> at: <a href='https://wandb.ai/3628-pavitrakhare-indian-institute-of-technology-madras/DA6401_ASS-practice/runs/4z2efbnk' target=\"_blank\">https://wandb.ai/3628-pavitrakhare-indian-institute-of-technology-madras/DA6401_ASS-practice/runs/4z2efbnk</a><br> View project at: <a href='https://wandb.ai/3628-pavitrakhare-indian-institute-of-technology-madras/DA6401_ASS-practice' target=\"_blank\">https://wandb.ai/3628-pavitrakhare-indian-institute-of-technology-madras/DA6401_ASS-practice</a><br>Synced 5 W&B file(s), 0 media file(s), 0 artifact file(s) and 0 other file(s)"
            ],
            "text/plain": [
              "<IPython.core.display.HTML object>"
            ]
          },
          "metadata": {},
          "output_type": "display_data"
        },
        {
          "data": {
            "text/html": [
              "Find logs at: <code>./wandb/run-20250309_041155-4z2efbnk/logs</code>"
            ],
            "text/plain": [
              "<IPython.core.display.HTML object>"
            ]
          },
          "metadata": {},
          "output_type": "display_data"
        },
        {
          "name": "stderr",
          "output_type": "stream",
          "text": [
            "\u001b[34m\u001b[1mwandb\u001b[0m: Agent Starting Run: 07mt07yr with config:\n",
            "\u001b[34m\u001b[1mwandb\u001b[0m: \ta: tanh\n",
            "\u001b[34m\u001b[1mwandb\u001b[0m: \tb: 32\n",
            "\u001b[34m\u001b[1mwandb\u001b[0m: \te: 10\n",
            "\u001b[34m\u001b[1mwandb\u001b[0m: \tlr: 0.0001\n",
            "\u001b[34m\u001b[1mwandb\u001b[0m: \tnlh: 4\n",
            "\u001b[34m\u001b[1mwandb\u001b[0m: \to: rmsprop\n",
            "\u001b[34m\u001b[1mwandb\u001b[0m: \tsz: 128\n",
            "\u001b[34m\u001b[1mwandb\u001b[0m: \tw_d: 0.5\n",
            "\u001b[34m\u001b[1mwandb\u001b[0m: \tw_i: Xavier\n"
          ]
        },
        {
          "data": {
            "text/html": [
              "Ignoring project 'DA6401_ASS-practice' when running a sweep."
            ],
            "text/plain": [
              "<IPython.core.display.HTML object>"
            ]
          },
          "metadata": {},
          "output_type": "display_data"
        },
        {
          "data": {
            "text/html": [
              "Tracking run with wandb version 0.19.7"
            ],
            "text/plain": [
              "<IPython.core.display.HTML object>"
            ]
          },
          "metadata": {},
          "output_type": "display_data"
        },
        {
          "data": {
            "text/html": [
              "Run data is saved locally in <code>/content/wandb/run-20250309_042453-07mt07yr</code>"
            ],
            "text/plain": [
              "<IPython.core.display.HTML object>"
            ]
          },
          "metadata": {},
          "output_type": "display_data"
        },
        {
          "data": {
            "text/html": [
              "Syncing run <strong><a href='https://wandb.ai/3628-pavitrakhare-indian-institute-of-technology-madras/DA6401_ASS-practice/runs/07mt07yr' target=\"_blank\">wandering-sweep-70</a></strong> to <a href='https://wandb.ai/3628-pavitrakhare-indian-institute-of-technology-madras/DA6401_ASS-practice' target=\"_blank\">Weights & Biases</a> (<a href='https://wandb.me/developer-guide' target=\"_blank\">docs</a>)<br>Sweep page: <a href='https://wandb.ai/3628-pavitrakhare-indian-institute-of-technology-madras/DA6401_ASS-practice/sweeps/nfibwu4x' target=\"_blank\">https://wandb.ai/3628-pavitrakhare-indian-institute-of-technology-madras/DA6401_ASS-practice/sweeps/nfibwu4x</a>"
            ],
            "text/plain": [
              "<IPython.core.display.HTML object>"
            ]
          },
          "metadata": {},
          "output_type": "display_data"
        },
        {
          "data": {
            "text/html": [
              " View project at <a href='https://wandb.ai/3628-pavitrakhare-indian-institute-of-technology-madras/DA6401_ASS-practice' target=\"_blank\">https://wandb.ai/3628-pavitrakhare-indian-institute-of-technology-madras/DA6401_ASS-practice</a>"
            ],
            "text/plain": [
              "<IPython.core.display.HTML object>"
            ]
          },
          "metadata": {},
          "output_type": "display_data"
        },
        {
          "data": {
            "text/html": [
              " View sweep at <a href='https://wandb.ai/3628-pavitrakhare-indian-institute-of-technology-madras/DA6401_ASS-practice/sweeps/nfibwu4x' target=\"_blank\">https://wandb.ai/3628-pavitrakhare-indian-institute-of-technology-madras/DA6401_ASS-practice/sweeps/nfibwu4x</a>"
            ],
            "text/plain": [
              "<IPython.core.display.HTML object>"
            ]
          },
          "metadata": {},
          "output_type": "display_data"
        },
        {
          "data": {
            "text/html": [
              " View run at <a href='https://wandb.ai/3628-pavitrakhare-indian-institute-of-technology-madras/DA6401_ASS-practice/runs/07mt07yr' target=\"_blank\">https://wandb.ai/3628-pavitrakhare-indian-institute-of-technology-madras/DA6401_ASS-practice/runs/07mt07yr</a>"
            ],
            "text/plain": [
              "<IPython.core.display.HTML object>"
            ]
          },
          "metadata": {},
          "output_type": "display_data"
        },
        {
          "name": "stdout",
          "output_type": "stream",
          "text": [
            "epoch :  1  validation loss :  0.5387744231590781\n",
            "epoch :  2  validation loss :  0.4771434849891897\n",
            "epoch :  3  validation loss :  0.45080804233191424\n",
            "epoch :  4  validation loss :  0.43440585599504455\n",
            "epoch :  5  validation loss :  0.42255604659740903\n",
            "epoch :  6  validation loss :  0.4133071596676373\n",
            "epoch :  7  validation loss :  0.40579515961903617\n",
            "epoch :  8  validation loss :  0.399550251731901\n",
            "epoch :  9  validation loss :  0.39426830298446136\n",
            "epoch :  10  validation loss :  0.3897381643218005\n"
          ]
        },
        {
          "data": {
            "text/html": [],
            "text/plain": [
              "<IPython.core.display.HTML object>"
            ]
          },
          "metadata": {},
          "output_type": "display_data"
        },
        {
          "data": {
            "text/html": [
              "<br>    <style><br>        .wandb-row {<br>            display: flex;<br>            flex-direction: row;<br>            flex-wrap: wrap;<br>            justify-content: flex-start;<br>            width: 100%;<br>        }<br>        .wandb-col {<br>            display: flex;<br>            flex-direction: column;<br>            flex-basis: 100%;<br>            flex: 1;<br>            padding: 10px;<br>        }<br>    </style><br><div class=\"wandb-row\"><div class=\"wandb-col\"><h3>Run history:</h3><br/><table class=\"wandb\"><tr><td>accuracy</td><td>▁▅▆▆▇▇▇███</td></tr><tr><td>epoch</td><td>▁▂▃▃▄▅▆▆▇█</td></tr><tr><td>loss</td><td>█▄▃▂▂▂▁▁▁▁</td></tr><tr><td>val_accuracy</td><td>▁▄▅▆▆▇▇▇██</td></tr><tr><td>val_loss</td><td>█▅▄▃▃▂▂▁▁▁</td></tr></table><br/></div><div class=\"wandb-col\"><h3>Run summary:</h3><br/><table class=\"wandb\"><tr><td>accuracy</td><td>0.88307</td></tr><tr><td>epoch</td><td>9</td></tr><tr><td>loss</td><td>0.32957</td></tr><tr><td>val_accuracy</td><td>0.87109</td></tr><tr><td>val_loss</td><td>0.38974</td></tr></table><br/></div></div>"
            ],
            "text/plain": [
              "<IPython.core.display.HTML object>"
            ]
          },
          "metadata": {},
          "output_type": "display_data"
        },
        {
          "data": {
            "text/html": [
              " View run <strong style=\"color:#cdcd00\">hl_4_sz_128_bs_32_ac_tanh_w_i_Xavier_lr_0.0001_wd_0.5</strong> at: <a href='https://wandb.ai/3628-pavitrakhare-indian-institute-of-technology-madras/DA6401_ASS-practice/runs/07mt07yr' target=\"_blank\">https://wandb.ai/3628-pavitrakhare-indian-institute-of-technology-madras/DA6401_ASS-practice/runs/07mt07yr</a><br> View project at: <a href='https://wandb.ai/3628-pavitrakhare-indian-institute-of-technology-madras/DA6401_ASS-practice' target=\"_blank\">https://wandb.ai/3628-pavitrakhare-indian-institute-of-technology-madras/DA6401_ASS-practice</a><br>Synced 5 W&B file(s), 0 media file(s), 0 artifact file(s) and 0 other file(s)"
            ],
            "text/plain": [
              "<IPython.core.display.HTML object>"
            ]
          },
          "metadata": {},
          "output_type": "display_data"
        },
        {
          "data": {
            "text/html": [
              "Find logs at: <code>./wandb/run-20250309_042453-07mt07yr/logs</code>"
            ],
            "text/plain": [
              "<IPython.core.display.HTML object>"
            ]
          },
          "metadata": {},
          "output_type": "display_data"
        },
        {
          "name": "stderr",
          "output_type": "stream",
          "text": [
            "\u001b[34m\u001b[1mwandb\u001b[0m: Agent Starting Run: 7yo18stq with config:\n",
            "\u001b[34m\u001b[1mwandb\u001b[0m: \ta: tanh\n",
            "\u001b[34m\u001b[1mwandb\u001b[0m: \tb: 16\n",
            "\u001b[34m\u001b[1mwandb\u001b[0m: \te: 10\n",
            "\u001b[34m\u001b[1mwandb\u001b[0m: \tlr: 0.001\n",
            "\u001b[34m\u001b[1mwandb\u001b[0m: \tnlh: 5\n",
            "\u001b[34m\u001b[1mwandb\u001b[0m: \to: nadam\n",
            "\u001b[34m\u001b[1mwandb\u001b[0m: \tsz: 128\n",
            "\u001b[34m\u001b[1mwandb\u001b[0m: \tw_d: 0.0005\n",
            "\u001b[34m\u001b[1mwandb\u001b[0m: \tw_i: Xavier\n"
          ]
        },
        {
          "data": {
            "text/html": [
              "Ignoring project 'DA6401_ASS-practice' when running a sweep."
            ],
            "text/plain": [
              "<IPython.core.display.HTML object>"
            ]
          },
          "metadata": {},
          "output_type": "display_data"
        },
        {
          "data": {
            "text/html": [
              "Tracking run with wandb version 0.19.7"
            ],
            "text/plain": [
              "<IPython.core.display.HTML object>"
            ]
          },
          "metadata": {},
          "output_type": "display_data"
        },
        {
          "data": {
            "text/html": [
              "Run data is saved locally in <code>/content/wandb/run-20250309_043628-7yo18stq</code>"
            ],
            "text/plain": [
              "<IPython.core.display.HTML object>"
            ]
          },
          "metadata": {},
          "output_type": "display_data"
        },
        {
          "data": {
            "text/html": [
              "Syncing run <strong><a href='https://wandb.ai/3628-pavitrakhare-indian-institute-of-technology-madras/DA6401_ASS-practice/runs/7yo18stq' target=\"_blank\">laced-sweep-71</a></strong> to <a href='https://wandb.ai/3628-pavitrakhare-indian-institute-of-technology-madras/DA6401_ASS-practice' target=\"_blank\">Weights & Biases</a> (<a href='https://wandb.me/developer-guide' target=\"_blank\">docs</a>)<br>Sweep page: <a href='https://wandb.ai/3628-pavitrakhare-indian-institute-of-technology-madras/DA6401_ASS-practice/sweeps/nfibwu4x' target=\"_blank\">https://wandb.ai/3628-pavitrakhare-indian-institute-of-technology-madras/DA6401_ASS-practice/sweeps/nfibwu4x</a>"
            ],
            "text/plain": [
              "<IPython.core.display.HTML object>"
            ]
          },
          "metadata": {},
          "output_type": "display_data"
        },
        {
          "data": {
            "text/html": [
              " View project at <a href='https://wandb.ai/3628-pavitrakhare-indian-institute-of-technology-madras/DA6401_ASS-practice' target=\"_blank\">https://wandb.ai/3628-pavitrakhare-indian-institute-of-technology-madras/DA6401_ASS-practice</a>"
            ],
            "text/plain": [
              "<IPython.core.display.HTML object>"
            ]
          },
          "metadata": {},
          "output_type": "display_data"
        },
        {
          "data": {
            "text/html": [
              " View sweep at <a href='https://wandb.ai/3628-pavitrakhare-indian-institute-of-technology-madras/DA6401_ASS-practice/sweeps/nfibwu4x' target=\"_blank\">https://wandb.ai/3628-pavitrakhare-indian-institute-of-technology-madras/DA6401_ASS-practice/sweeps/nfibwu4x</a>"
            ],
            "text/plain": [
              "<IPython.core.display.HTML object>"
            ]
          },
          "metadata": {},
          "output_type": "display_data"
        },
        {
          "data": {
            "text/html": [
              " View run at <a href='https://wandb.ai/3628-pavitrakhare-indian-institute-of-technology-madras/DA6401_ASS-practice/runs/7yo18stq' target=\"_blank\">https://wandb.ai/3628-pavitrakhare-indian-institute-of-technology-madras/DA6401_ASS-practice/runs/7yo18stq</a>"
            ],
            "text/plain": [
              "<IPython.core.display.HTML object>"
            ]
          },
          "metadata": {},
          "output_type": "display_data"
        },
        {
          "name": "stdout",
          "output_type": "stream",
          "text": [
            "epoch :  1  validation loss :  0.4029601257034833\n",
            "epoch :  2  validation loss :  0.37145229194092444\n",
            "epoch :  3  validation loss :  0.3632391970811782\n",
            "epoch :  4  validation loss :  0.36215451515662345\n",
            "epoch :  5  validation loss :  0.3528850648113054\n",
            "epoch :  6  validation loss :  0.35749048563844965\n",
            "epoch :  7  validation loss :  0.36103218140558013\n",
            "epoch :  8  validation loss :  0.3758239116366539\n",
            "epoch :  9  validation loss :  0.3616286104466304\n",
            "epoch :  10  validation loss :  0.3670877467963511\n"
          ]
        },
        {
          "data": {
            "text/html": [],
            "text/plain": [
              "<IPython.core.display.HTML object>"
            ]
          },
          "metadata": {},
          "output_type": "display_data"
        },
        {
          "data": {
            "text/html": [
              "<br>    <style><br>        .wandb-row {<br>            display: flex;<br>            flex-direction: row;<br>            flex-wrap: wrap;<br>            justify-content: flex-start;<br>            width: 100%;<br>        }<br>        .wandb-col {<br>            display: flex;<br>            flex-direction: column;<br>            flex-basis: 100%;<br>            flex: 1;<br>            padding: 10px;<br>        }<br>    </style><br><div class=\"wandb-row\"><div class=\"wandb-col\"><h3>Run history:</h3><br/><table class=\"wandb\"><tr><td>accuracy</td><td>▁▄▅▆▆▇▇███</td></tr><tr><td>epoch</td><td>▁▂▃▃▄▅▆▆▇█</td></tr><tr><td>loss</td><td>█▅▄▃▃▂▂▁▁▁</td></tr><tr><td>val_accuracy</td><td>▁▄▅▆▇▇▇▅█▇</td></tr><tr><td>val_loss</td><td>█▄▂▂▁▂▂▄▂▃</td></tr></table><br/></div><div class=\"wandb-col\"><h3>Run summary:</h3><br/><table class=\"wandb\"><tr><td>accuracy</td><td>0.91048</td></tr><tr><td>epoch</td><td>9</td></tr><tr><td>loss</td><td>0.24123</td></tr><tr><td>val_accuracy</td><td>0.8699</td></tr><tr><td>val_loss</td><td>0.36709</td></tr></table><br/></div></div>"
            ],
            "text/plain": [
              "<IPython.core.display.HTML object>"
            ]
          },
          "metadata": {},
          "output_type": "display_data"
        },
        {
          "data": {
            "text/html": [
              " View run <strong style=\"color:#cdcd00\">hl_5_sz_128_bs_16_ac_tanh_w_i_Xavier_lr_0.001_wd_0.0005</strong> at: <a href='https://wandb.ai/3628-pavitrakhare-indian-institute-of-technology-madras/DA6401_ASS-practice/runs/7yo18stq' target=\"_blank\">https://wandb.ai/3628-pavitrakhare-indian-institute-of-technology-madras/DA6401_ASS-practice/runs/7yo18stq</a><br> View project at: <a href='https://wandb.ai/3628-pavitrakhare-indian-institute-of-technology-madras/DA6401_ASS-practice' target=\"_blank\">https://wandb.ai/3628-pavitrakhare-indian-institute-of-technology-madras/DA6401_ASS-practice</a><br>Synced 5 W&B file(s), 0 media file(s), 0 artifact file(s) and 0 other file(s)"
            ],
            "text/plain": [
              "<IPython.core.display.HTML object>"
            ]
          },
          "metadata": {},
          "output_type": "display_data"
        },
        {
          "data": {
            "text/html": [
              "Find logs at: <code>./wandb/run-20250309_043628-7yo18stq/logs</code>"
            ],
            "text/plain": [
              "<IPython.core.display.HTML object>"
            ]
          },
          "metadata": {},
          "output_type": "display_data"
        },
        {
          "name": "stderr",
          "output_type": "stream",
          "text": [
            "\u001b[34m\u001b[1mwandb\u001b[0m: Agent Starting Run: wgrj1o93 with config:\n",
            "\u001b[34m\u001b[1mwandb\u001b[0m: \ta: tanh\n",
            "\u001b[34m\u001b[1mwandb\u001b[0m: \tb: 32\n",
            "\u001b[34m\u001b[1mwandb\u001b[0m: \te: 10\n",
            "\u001b[34m\u001b[1mwandb\u001b[0m: \tlr: 0.0001\n",
            "\u001b[34m\u001b[1mwandb\u001b[0m: \tnlh: 4\n",
            "\u001b[34m\u001b[1mwandb\u001b[0m: \to: rmsprop\n",
            "\u001b[34m\u001b[1mwandb\u001b[0m: \tsz: 128\n",
            "\u001b[34m\u001b[1mwandb\u001b[0m: \tw_d: 0.5\n",
            "\u001b[34m\u001b[1mwandb\u001b[0m: \tw_i: Xavier\n"
          ]
        },
        {
          "data": {
            "text/html": [
              "Ignoring project 'DA6401_ASS-practice' when running a sweep."
            ],
            "text/plain": [
              "<IPython.core.display.HTML object>"
            ]
          },
          "metadata": {},
          "output_type": "display_data"
        },
        {
          "data": {
            "text/html": [
              "Tracking run with wandb version 0.19.7"
            ],
            "text/plain": [
              "<IPython.core.display.HTML object>"
            ]
          },
          "metadata": {},
          "output_type": "display_data"
        },
        {
          "data": {
            "text/html": [
              "Run data is saved locally in <code>/content/wandb/run-20250309_045504-wgrj1o93</code>"
            ],
            "text/plain": [
              "<IPython.core.display.HTML object>"
            ]
          },
          "metadata": {},
          "output_type": "display_data"
        },
        {
          "data": {
            "text/html": [
              "Syncing run <strong><a href='https://wandb.ai/3628-pavitrakhare-indian-institute-of-technology-madras/DA6401_ASS-practice/runs/wgrj1o93' target=\"_blank\">kind-sweep-72</a></strong> to <a href='https://wandb.ai/3628-pavitrakhare-indian-institute-of-technology-madras/DA6401_ASS-practice' target=\"_blank\">Weights & Biases</a> (<a href='https://wandb.me/developer-guide' target=\"_blank\">docs</a>)<br>Sweep page: <a href='https://wandb.ai/3628-pavitrakhare-indian-institute-of-technology-madras/DA6401_ASS-practice/sweeps/nfibwu4x' target=\"_blank\">https://wandb.ai/3628-pavitrakhare-indian-institute-of-technology-madras/DA6401_ASS-practice/sweeps/nfibwu4x</a>"
            ],
            "text/plain": [
              "<IPython.core.display.HTML object>"
            ]
          },
          "metadata": {},
          "output_type": "display_data"
        },
        {
          "data": {
            "text/html": [
              " View project at <a href='https://wandb.ai/3628-pavitrakhare-indian-institute-of-technology-madras/DA6401_ASS-practice' target=\"_blank\">https://wandb.ai/3628-pavitrakhare-indian-institute-of-technology-madras/DA6401_ASS-practice</a>"
            ],
            "text/plain": [
              "<IPython.core.display.HTML object>"
            ]
          },
          "metadata": {},
          "output_type": "display_data"
        },
        {
          "data": {
            "text/html": [
              " View sweep at <a href='https://wandb.ai/3628-pavitrakhare-indian-institute-of-technology-madras/DA6401_ASS-practice/sweeps/nfibwu4x' target=\"_blank\">https://wandb.ai/3628-pavitrakhare-indian-institute-of-technology-madras/DA6401_ASS-practice/sweeps/nfibwu4x</a>"
            ],
            "text/plain": [
              "<IPython.core.display.HTML object>"
            ]
          },
          "metadata": {},
          "output_type": "display_data"
        },
        {
          "data": {
            "text/html": [
              " View run at <a href='https://wandb.ai/3628-pavitrakhare-indian-institute-of-technology-madras/DA6401_ASS-practice/runs/wgrj1o93' target=\"_blank\">https://wandb.ai/3628-pavitrakhare-indian-institute-of-technology-madras/DA6401_ASS-practice/runs/wgrj1o93</a>"
            ],
            "text/plain": [
              "<IPython.core.display.HTML object>"
            ]
          },
          "metadata": {},
          "output_type": "display_data"
        },
        {
          "name": "stdout",
          "output_type": "stream",
          "text": [
            "epoch :  1  validation loss :  0.5306870610947682\n",
            "epoch :  2  validation loss :  0.46645213173418465\n",
            "epoch :  3  validation loss :  0.44001615971389685\n",
            "epoch :  4  validation loss :  0.4240949000627825\n",
            "epoch :  5  validation loss :  0.41292202796063815\n",
            "epoch :  6  validation loss :  0.4044294009489027\n",
            "epoch :  7  validation loss :  0.3976491444803761\n",
            "epoch :  8  validation loss :  0.3920371141138082\n",
            "epoch :  9  validation loss :  0.38725801104890956\n",
            "epoch :  10  validation loss :  0.3830996114555543\n"
          ]
        },
        {
          "data": {
            "text/html": [],
            "text/plain": [
              "<IPython.core.display.HTML object>"
            ]
          },
          "metadata": {},
          "output_type": "display_data"
        },
        {
          "data": {
            "text/html": [
              "<br>    <style><br>        .wandb-row {<br>            display: flex;<br>            flex-direction: row;<br>            flex-wrap: wrap;<br>            justify-content: flex-start;<br>            width: 100%;<br>        }<br>        .wandb-col {<br>            display: flex;<br>            flex-direction: column;<br>            flex-basis: 100%;<br>            flex: 1;<br>            padding: 10px;<br>        }<br>    </style><br><div class=\"wandb-row\"><div class=\"wandb-col\"><h3>Run history:</h3><br/><table class=\"wandb\"><tr><td>accuracy</td><td>▁▅▆▇▇▇▇███</td></tr><tr><td>epoch</td><td>▁▂▃▃▄▅▆▆▇█</td></tr><tr><td>loss</td><td>█▃▃▂▂▂▁▁▁▁</td></tr><tr><td>val_accuracy</td><td>▁▄▅▆▇▇▇███</td></tr><tr><td>val_loss</td><td>█▅▄▃▂▂▂▁▁▁</td></tr></table><br/></div><div class=\"wandb-col\"><h3>Run summary:</h3><br/><table class=\"wandb\"><tr><td>accuracy</td><td>0.884</td></tr><tr><td>epoch</td><td>9</td></tr><tr><td>loss</td><td>0.32819</td></tr><tr><td>val_accuracy</td><td>0.87024</td></tr><tr><td>val_loss</td><td>0.3831</td></tr></table><br/></div></div>"
            ],
            "text/plain": [
              "<IPython.core.display.HTML object>"
            ]
          },
          "metadata": {},
          "output_type": "display_data"
        },
        {
          "data": {
            "text/html": [
              " View run <strong style=\"color:#cdcd00\">hl_4_sz_128_bs_32_ac_tanh_w_i_Xavier_lr_0.0001_wd_0.5</strong> at: <a href='https://wandb.ai/3628-pavitrakhare-indian-institute-of-technology-madras/DA6401_ASS-practice/runs/wgrj1o93' target=\"_blank\">https://wandb.ai/3628-pavitrakhare-indian-institute-of-technology-madras/DA6401_ASS-practice/runs/wgrj1o93</a><br> View project at: <a href='https://wandb.ai/3628-pavitrakhare-indian-institute-of-technology-madras/DA6401_ASS-practice' target=\"_blank\">https://wandb.ai/3628-pavitrakhare-indian-institute-of-technology-madras/DA6401_ASS-practice</a><br>Synced 5 W&B file(s), 0 media file(s), 0 artifact file(s) and 0 other file(s)"
            ],
            "text/plain": [
              "<IPython.core.display.HTML object>"
            ]
          },
          "metadata": {},
          "output_type": "display_data"
        },
        {
          "data": {
            "text/html": [
              "Find logs at: <code>./wandb/run-20250309_045504-wgrj1o93/logs</code>"
            ],
            "text/plain": [
              "<IPython.core.display.HTML object>"
            ]
          },
          "metadata": {},
          "output_type": "display_data"
        },
        {
          "name": "stderr",
          "output_type": "stream",
          "text": [
            "\u001b[34m\u001b[1mwandb\u001b[0m: Agent Starting Run: 18k5uadp with config:\n",
            "\u001b[34m\u001b[1mwandb\u001b[0m: \ta: tanh\n",
            "\u001b[34m\u001b[1mwandb\u001b[0m: \tb: 16\n",
            "\u001b[34m\u001b[1mwandb\u001b[0m: \te: 10\n",
            "\u001b[34m\u001b[1mwandb\u001b[0m: \tlr: 0.0001\n",
            "\u001b[34m\u001b[1mwandb\u001b[0m: \tnlh: 5\n",
            "\u001b[34m\u001b[1mwandb\u001b[0m: \to: nadam\n",
            "\u001b[34m\u001b[1mwandb\u001b[0m: \tsz: 128\n",
            "\u001b[34m\u001b[1mwandb\u001b[0m: \tw_d: 0.0005\n",
            "\u001b[34m\u001b[1mwandb\u001b[0m: \tw_i: Xavier\n"
          ]
        },
        {
          "data": {
            "text/html": [
              "Ignoring project 'DA6401_ASS-practice' when running a sweep."
            ],
            "text/plain": [
              "<IPython.core.display.HTML object>"
            ]
          },
          "metadata": {},
          "output_type": "display_data"
        },
        {
          "data": {
            "text/html": [
              "Tracking run with wandb version 0.19.7"
            ],
            "text/plain": [
              "<IPython.core.display.HTML object>"
            ]
          },
          "metadata": {},
          "output_type": "display_data"
        },
        {
          "data": {
            "text/html": [
              "Run data is saved locally in <code>/content/wandb/run-20250309_050640-18k5uadp</code>"
            ],
            "text/plain": [
              "<IPython.core.display.HTML object>"
            ]
          },
          "metadata": {},
          "output_type": "display_data"
        },
        {
          "data": {
            "text/html": [
              "Syncing run <strong><a href='https://wandb.ai/3628-pavitrakhare-indian-institute-of-technology-madras/DA6401_ASS-practice/runs/18k5uadp' target=\"_blank\">jumping-sweep-73</a></strong> to <a href='https://wandb.ai/3628-pavitrakhare-indian-institute-of-technology-madras/DA6401_ASS-practice' target=\"_blank\">Weights & Biases</a> (<a href='https://wandb.me/developer-guide' target=\"_blank\">docs</a>)<br>Sweep page: <a href='https://wandb.ai/3628-pavitrakhare-indian-institute-of-technology-madras/DA6401_ASS-practice/sweeps/nfibwu4x' target=\"_blank\">https://wandb.ai/3628-pavitrakhare-indian-institute-of-technology-madras/DA6401_ASS-practice/sweeps/nfibwu4x</a>"
            ],
            "text/plain": [
              "<IPython.core.display.HTML object>"
            ]
          },
          "metadata": {},
          "output_type": "display_data"
        },
        {
          "data": {
            "text/html": [
              " View project at <a href='https://wandb.ai/3628-pavitrakhare-indian-institute-of-technology-madras/DA6401_ASS-practice' target=\"_blank\">https://wandb.ai/3628-pavitrakhare-indian-institute-of-technology-madras/DA6401_ASS-practice</a>"
            ],
            "text/plain": [
              "<IPython.core.display.HTML object>"
            ]
          },
          "metadata": {},
          "output_type": "display_data"
        },
        {
          "data": {
            "text/html": [
              " View sweep at <a href='https://wandb.ai/3628-pavitrakhare-indian-institute-of-technology-madras/DA6401_ASS-practice/sweeps/nfibwu4x' target=\"_blank\">https://wandb.ai/3628-pavitrakhare-indian-institute-of-technology-madras/DA6401_ASS-practice/sweeps/nfibwu4x</a>"
            ],
            "text/plain": [
              "<IPython.core.display.HTML object>"
            ]
          },
          "metadata": {},
          "output_type": "display_data"
        },
        {
          "data": {
            "text/html": [
              " View run at <a href='https://wandb.ai/3628-pavitrakhare-indian-institute-of-technology-madras/DA6401_ASS-practice/runs/18k5uadp' target=\"_blank\">https://wandb.ai/3628-pavitrakhare-indian-institute-of-technology-madras/DA6401_ASS-practice/runs/18k5uadp</a>"
            ],
            "text/plain": [
              "<IPython.core.display.HTML object>"
            ]
          },
          "metadata": {},
          "output_type": "display_data"
        },
        {
          "name": "stdout",
          "output_type": "stream",
          "text": [
            "epoch :  1  validation loss :  0.4622748021255631\n",
            "epoch :  2  validation loss :  0.4204869919866676\n",
            "epoch :  3  validation loss :  0.39886830326054473\n",
            "epoch :  4  validation loss :  0.3837432325147706\n",
            "epoch :  5  validation loss :  0.3719172603623593\n",
            "epoch :  6  validation loss :  0.36214506056432544\n",
            "epoch :  7  validation loss :  0.3540086291597419\n",
            "epoch :  8  validation loss :  0.34728109052504297\n",
            "epoch :  9  validation loss :  0.34171879708762104\n",
            "epoch :  10  validation loss :  0.3370770579494011\n"
          ]
        },
        {
          "data": {
            "text/html": [],
            "text/plain": [
              "<IPython.core.display.HTML object>"
            ]
          },
          "metadata": {},
          "output_type": "display_data"
        },
        {
          "data": {
            "text/html": [
              "<br>    <style><br>        .wandb-row {<br>            display: flex;<br>            flex-direction: row;<br>            flex-wrap: wrap;<br>            justify-content: flex-start;<br>            width: 100%;<br>        }<br>        .wandb-col {<br>            display: flex;<br>            flex-direction: column;<br>            flex-basis: 100%;<br>            flex: 1;<br>            padding: 10px;<br>        }<br>    </style><br><div class=\"wandb-row\"><div class=\"wandb-col\"><h3>Run history:</h3><br/><table class=\"wandb\"><tr><td>accuracy</td><td>▁▅▆▆▇▇▇███</td></tr><tr><td>epoch</td><td>▁▂▃▃▄▅▆▆▇█</td></tr><tr><td>loss</td><td>█▄▃▂▂▂▂▁▁▁</td></tr><tr><td>val_accuracy</td><td>▁▃▄▅▆▆▇▇▇█</td></tr><tr><td>val_loss</td><td>█▆▄▄▃▂▂▂▁▁</td></tr></table><br/></div><div class=\"wandb-col\"><h3>Run summary:</h3><br/><table class=\"wandb\"><tr><td>accuracy</td><td>0.89582</td></tr><tr><td>epoch</td><td>9</td></tr><tr><td>loss</td><td>0.28887</td></tr><tr><td>val_accuracy</td><td>0.87687</td></tr><tr><td>val_loss</td><td>0.33708</td></tr></table><br/></div></div>"
            ],
            "text/plain": [
              "<IPython.core.display.HTML object>"
            ]
          },
          "metadata": {},
          "output_type": "display_data"
        },
        {
          "data": {
            "text/html": [
              " View run <strong style=\"color:#cdcd00\">hl_5_sz_128_bs_16_ac_tanh_w_i_Xavier_lr_0.0001_wd_0.0005</strong> at: <a href='https://wandb.ai/3628-pavitrakhare-indian-institute-of-technology-madras/DA6401_ASS-practice/runs/18k5uadp' target=\"_blank\">https://wandb.ai/3628-pavitrakhare-indian-institute-of-technology-madras/DA6401_ASS-practice/runs/18k5uadp</a><br> View project at: <a href='https://wandb.ai/3628-pavitrakhare-indian-institute-of-technology-madras/DA6401_ASS-practice' target=\"_blank\">https://wandb.ai/3628-pavitrakhare-indian-institute-of-technology-madras/DA6401_ASS-practice</a><br>Synced 5 W&B file(s), 0 media file(s), 0 artifact file(s) and 0 other file(s)"
            ],
            "text/plain": [
              "<IPython.core.display.HTML object>"
            ]
          },
          "metadata": {},
          "output_type": "display_data"
        },
        {
          "data": {
            "text/html": [
              "Find logs at: <code>./wandb/run-20250309_050640-18k5uadp/logs</code>"
            ],
            "text/plain": [
              "<IPython.core.display.HTML object>"
            ]
          },
          "metadata": {},
          "output_type": "display_data"
        },
        {
          "name": "stderr",
          "output_type": "stream",
          "text": [
            "\u001b[34m\u001b[1mwandb\u001b[0m: Agent Starting Run: avvj6pzf with config:\n",
            "\u001b[34m\u001b[1mwandb\u001b[0m: \ta: ReLU\n",
            "\u001b[34m\u001b[1mwandb\u001b[0m: \tb: 64\n",
            "\u001b[34m\u001b[1mwandb\u001b[0m: \te: 10\n",
            "\u001b[34m\u001b[1mwandb\u001b[0m: \tlr: 0.0001\n",
            "\u001b[34m\u001b[1mwandb\u001b[0m: \tnlh: 5\n",
            "\u001b[34m\u001b[1mwandb\u001b[0m: \to: nadam\n",
            "\u001b[34m\u001b[1mwandb\u001b[0m: \tsz: 64\n",
            "\u001b[34m\u001b[1mwandb\u001b[0m: \tw_d: 0.0005\n",
            "\u001b[34m\u001b[1mwandb\u001b[0m: \tw_i: random\n"
          ]
        },
        {
          "data": {
            "text/html": [
              "Ignoring project 'DA6401_ASS-practice' when running a sweep."
            ],
            "text/plain": [
              "<IPython.core.display.HTML object>"
            ]
          },
          "metadata": {},
          "output_type": "display_data"
        },
        {
          "data": {
            "text/html": [
              "Tracking run with wandb version 0.19.7"
            ],
            "text/plain": [
              "<IPython.core.display.HTML object>"
            ]
          },
          "metadata": {},
          "output_type": "display_data"
        },
        {
          "data": {
            "text/html": [
              "Run data is saved locally in <code>/content/wandb/run-20250309_052516-avvj6pzf</code>"
            ],
            "text/plain": [
              "<IPython.core.display.HTML object>"
            ]
          },
          "metadata": {},
          "output_type": "display_data"
        },
        {
          "data": {
            "text/html": [
              "Syncing run <strong><a href='https://wandb.ai/3628-pavitrakhare-indian-institute-of-technology-madras/DA6401_ASS-practice/runs/avvj6pzf' target=\"_blank\">twilight-sweep-74</a></strong> to <a href='https://wandb.ai/3628-pavitrakhare-indian-institute-of-technology-madras/DA6401_ASS-practice' target=\"_blank\">Weights & Biases</a> (<a href='https://wandb.me/developer-guide' target=\"_blank\">docs</a>)<br>Sweep page: <a href='https://wandb.ai/3628-pavitrakhare-indian-institute-of-technology-madras/DA6401_ASS-practice/sweeps/nfibwu4x' target=\"_blank\">https://wandb.ai/3628-pavitrakhare-indian-institute-of-technology-madras/DA6401_ASS-practice/sweeps/nfibwu4x</a>"
            ],
            "text/plain": [
              "<IPython.core.display.HTML object>"
            ]
          },
          "metadata": {},
          "output_type": "display_data"
        },
        {
          "data": {
            "text/html": [
              " View project at <a href='https://wandb.ai/3628-pavitrakhare-indian-institute-of-technology-madras/DA6401_ASS-practice' target=\"_blank\">https://wandb.ai/3628-pavitrakhare-indian-institute-of-technology-madras/DA6401_ASS-practice</a>"
            ],
            "text/plain": [
              "<IPython.core.display.HTML object>"
            ]
          },
          "metadata": {},
          "output_type": "display_data"
        },
        {
          "data": {
            "text/html": [
              " View sweep at <a href='https://wandb.ai/3628-pavitrakhare-indian-institute-of-technology-madras/DA6401_ASS-practice/sweeps/nfibwu4x' target=\"_blank\">https://wandb.ai/3628-pavitrakhare-indian-institute-of-technology-madras/DA6401_ASS-practice/sweeps/nfibwu4x</a>"
            ],
            "text/plain": [
              "<IPython.core.display.HTML object>"
            ]
          },
          "metadata": {},
          "output_type": "display_data"
        },
        {
          "data": {
            "text/html": [
              " View run at <a href='https://wandb.ai/3628-pavitrakhare-indian-institute-of-technology-madras/DA6401_ASS-practice/runs/avvj6pzf' target=\"_blank\">https://wandb.ai/3628-pavitrakhare-indian-institute-of-technology-madras/DA6401_ASS-practice/runs/avvj6pzf</a>"
            ],
            "text/plain": [
              "<IPython.core.display.HTML object>"
            ]
          },
          "metadata": {},
          "output_type": "display_data"
        },
        {
          "name": "stdout",
          "output_type": "stream",
          "text": [
            "epoch :  1  validation loss :  9.128879851830929\n",
            "epoch :  2  validation loss :  7.39249722184283\n",
            "epoch :  3  validation loss :  6.729974406309801\n",
            "epoch :  4  validation loss :  6.146599348626002\n",
            "epoch :  5  validation loss :  5.702860451069985\n",
            "epoch :  6  validation loss :  5.311492314892571\n",
            "epoch :  7  validation loss :  4.961064209519286\n",
            "epoch :  8  validation loss :  4.502557415045257\n",
            "epoch :  9  validation loss :  4.135337215504995\n",
            "epoch :  10  validation loss :  3.8168862125697167\n"
          ]
        },
        {
          "data": {
            "text/html": [],
            "text/plain": [
              "<IPython.core.display.HTML object>"
            ]
          },
          "metadata": {},
          "output_type": "display_data"
        },
        {
          "data": {
            "text/html": [
              "<br>    <style><br>        .wandb-row {<br>            display: flex;<br>            flex-direction: row;<br>            flex-wrap: wrap;<br>            justify-content: flex-start;<br>            width: 100%;<br>        }<br>        .wandb-col {<br>            display: flex;<br>            flex-direction: column;<br>            flex-basis: 100%;<br>            flex: 1;<br>            padding: 10px;<br>        }<br>    </style><br><div class=\"wandb-row\"><div class=\"wandb-col\"><h3>Run history:</h3><br/><table class=\"wandb\"><tr><td>accuracy</td><td>▁▅▆▇▇▇▇███</td></tr><tr><td>epoch</td><td>▁▂▃▃▄▅▆▆▇█</td></tr><tr><td>loss</td><td>█▄▄▃▃▂▂▂▁▁</td></tr><tr><td>val_accuracy</td><td>▁▄▅▆▇▇▇███</td></tr><tr><td>val_loss</td><td>█▆▅▄▃▃▃▂▁▁</td></tr></table><br/></div><div class=\"wandb-col\"><h3>Run summary:</h3><br/><table class=\"wandb\"><tr><td>accuracy</td><td>0.70407</td></tr><tr><td>epoch</td><td>9</td></tr><tr><td>loss</td><td>3.73436</td></tr><tr><td>val_accuracy</td><td>0.69276</td></tr><tr><td>val_loss</td><td>3.81689</td></tr></table><br/></div></div>"
            ],
            "text/plain": [
              "<IPython.core.display.HTML object>"
            ]
          },
          "metadata": {},
          "output_type": "display_data"
        },
        {
          "data": {
            "text/html": [
              " View run <strong style=\"color:#cdcd00\">hl_5_sz_64_bs_64_ac_ReLU_w_i_random_lr_0.0001_wd_0.0005</strong> at: <a href='https://wandb.ai/3628-pavitrakhare-indian-institute-of-technology-madras/DA6401_ASS-practice/runs/avvj6pzf' target=\"_blank\">https://wandb.ai/3628-pavitrakhare-indian-institute-of-technology-madras/DA6401_ASS-practice/runs/avvj6pzf</a><br> View project at: <a href='https://wandb.ai/3628-pavitrakhare-indian-institute-of-technology-madras/DA6401_ASS-practice' target=\"_blank\">https://wandb.ai/3628-pavitrakhare-indian-institute-of-technology-madras/DA6401_ASS-practice</a><br>Synced 5 W&B file(s), 0 media file(s), 0 artifact file(s) and 0 other file(s)"
            ],
            "text/plain": [
              "<IPython.core.display.HTML object>"
            ]
          },
          "metadata": {},
          "output_type": "display_data"
        },
        {
          "data": {
            "text/html": [
              "Find logs at: <code>./wandb/run-20250309_052516-avvj6pzf/logs</code>"
            ],
            "text/plain": [
              "<IPython.core.display.HTML object>"
            ]
          },
          "metadata": {},
          "output_type": "display_data"
        },
        {
          "name": "stderr",
          "output_type": "stream",
          "text": [
            "\u001b[34m\u001b[1mwandb\u001b[0m: Agent Starting Run: 0a3c78bd with config:\n",
            "\u001b[34m\u001b[1mwandb\u001b[0m: \ta: sigmoid\n",
            "\u001b[34m\u001b[1mwandb\u001b[0m: \tb: 32\n",
            "\u001b[34m\u001b[1mwandb\u001b[0m: \te: 10\n",
            "\u001b[34m\u001b[1mwandb\u001b[0m: \tlr: 0.001\n",
            "\u001b[34m\u001b[1mwandb\u001b[0m: \tnlh: 4\n",
            "\u001b[34m\u001b[1mwandb\u001b[0m: \to: adam\n",
            "\u001b[34m\u001b[1mwandb\u001b[0m: \tsz: 128\n",
            "\u001b[34m\u001b[1mwandb\u001b[0m: \tw_d: 0.5\n",
            "\u001b[34m\u001b[1mwandb\u001b[0m: \tw_i: Xavier\n"
          ]
        },
        {
          "data": {
            "text/html": [
              "Ignoring project 'DA6401_ASS-practice' when running a sweep."
            ],
            "text/plain": [
              "<IPython.core.display.HTML object>"
            ]
          },
          "metadata": {},
          "output_type": "display_data"
        },
        {
          "data": {
            "text/html": [
              "Tracking run with wandb version 0.19.7"
            ],
            "text/plain": [
              "<IPython.core.display.HTML object>"
            ]
          },
          "metadata": {},
          "output_type": "display_data"
        },
        {
          "data": {
            "text/html": [
              "Run data is saved locally in <code>/content/wandb/run-20250309_053207-0a3c78bd</code>"
            ],
            "text/plain": [
              "<IPython.core.display.HTML object>"
            ]
          },
          "metadata": {},
          "output_type": "display_data"
        },
        {
          "data": {
            "text/html": [
              "Syncing run <strong><a href='https://wandb.ai/3628-pavitrakhare-indian-institute-of-technology-madras/DA6401_ASS-practice/runs/0a3c78bd' target=\"_blank\">easy-sweep-75</a></strong> to <a href='https://wandb.ai/3628-pavitrakhare-indian-institute-of-technology-madras/DA6401_ASS-practice' target=\"_blank\">Weights & Biases</a> (<a href='https://wandb.me/developer-guide' target=\"_blank\">docs</a>)<br>Sweep page: <a href='https://wandb.ai/3628-pavitrakhare-indian-institute-of-technology-madras/DA6401_ASS-practice/sweeps/nfibwu4x' target=\"_blank\">https://wandb.ai/3628-pavitrakhare-indian-institute-of-technology-madras/DA6401_ASS-practice/sweeps/nfibwu4x</a>"
            ],
            "text/plain": [
              "<IPython.core.display.HTML object>"
            ]
          },
          "metadata": {},
          "output_type": "display_data"
        },
        {
          "data": {
            "text/html": [
              " View project at <a href='https://wandb.ai/3628-pavitrakhare-indian-institute-of-technology-madras/DA6401_ASS-practice' target=\"_blank\">https://wandb.ai/3628-pavitrakhare-indian-institute-of-technology-madras/DA6401_ASS-practice</a>"
            ],
            "text/plain": [
              "<IPython.core.display.HTML object>"
            ]
          },
          "metadata": {},
          "output_type": "display_data"
        },
        {
          "data": {
            "text/html": [
              " View sweep at <a href='https://wandb.ai/3628-pavitrakhare-indian-institute-of-technology-madras/DA6401_ASS-practice/sweeps/nfibwu4x' target=\"_blank\">https://wandb.ai/3628-pavitrakhare-indian-institute-of-technology-madras/DA6401_ASS-practice/sweeps/nfibwu4x</a>"
            ],
            "text/plain": [
              "<IPython.core.display.HTML object>"
            ]
          },
          "metadata": {},
          "output_type": "display_data"
        },
        {
          "data": {
            "text/html": [
              " View run at <a href='https://wandb.ai/3628-pavitrakhare-indian-institute-of-technology-madras/DA6401_ASS-practice/runs/0a3c78bd' target=\"_blank\">https://wandb.ai/3628-pavitrakhare-indian-institute-of-technology-madras/DA6401_ASS-practice/runs/0a3c78bd</a>"
            ],
            "text/plain": [
              "<IPython.core.display.HTML object>"
            ]
          },
          "metadata": {},
          "output_type": "display_data"
        },
        {
          "name": "stdout",
          "output_type": "stream",
          "text": [
            "epoch :  1  validation loss :  1.6233421457449173\n",
            "epoch :  2  validation loss :  1.228882701467958\n",
            "epoch :  3  validation loss :  0.909041474132936\n",
            "epoch :  4  validation loss :  0.7478428215635081\n",
            "epoch :  5  validation loss :  0.6633168797312667\n",
            "epoch :  6  validation loss :  0.6055425517667625\n",
            "epoch :  7  validation loss :  0.5628487598712469\n",
            "epoch :  8  validation loss :  0.5387153682676806\n",
            "epoch :  9  validation loss :  0.5273578505384666\n",
            "epoch :  10  validation loss :  0.5217095844997989\n"
          ]
        },
        {
          "data": {
            "text/html": [],
            "text/plain": [
              "<IPython.core.display.HTML object>"
            ]
          },
          "metadata": {},
          "output_type": "display_data"
        },
        {
          "data": {
            "text/html": [
              "<br>    <style><br>        .wandb-row {<br>            display: flex;<br>            flex-direction: row;<br>            flex-wrap: wrap;<br>            justify-content: flex-start;<br>            width: 100%;<br>        }<br>        .wandb-col {<br>            display: flex;<br>            flex-direction: column;<br>            flex-basis: 100%;<br>            flex: 1;<br>            padding: 10px;<br>        }<br>    </style><br><div class=\"wandb-row\"><div class=\"wandb-col\"><h3>Run history:</h3><br/><table class=\"wandb\"><tr><td>accuracy</td><td>▁▃▅▆▇▇████</td></tr><tr><td>epoch</td><td>▁▂▃▃▄▅▆▆▇█</td></tr><tr><td>loss</td><td>█▅▄▃▂▂▁▁▁▁</td></tr><tr><td>val_accuracy</td><td>▁▄▅▆▇▇████</td></tr><tr><td>val_loss</td><td>█▅▃▂▂▂▁▁▁▁</td></tr></table><br/></div><div class=\"wandb-col\"><h3>Run summary:</h3><br/><table class=\"wandb\"><tr><td>accuracy</td><td>0.86828</td></tr><tr><td>epoch</td><td>9</td></tr><tr><td>loss</td><td>0.39166</td></tr><tr><td>val_accuracy</td><td>0.8587</td></tr><tr><td>val_loss</td><td>0.52171</td></tr></table><br/></div></div>"
            ],
            "text/plain": [
              "<IPython.core.display.HTML object>"
            ]
          },
          "metadata": {},
          "output_type": "display_data"
        },
        {
          "data": {
            "text/html": [
              " View run <strong style=\"color:#cdcd00\">hl_4_sz_128_bs_32_ac_sigmoid_w_i_Xavier_lr_0.001_wd_0.5</strong> at: <a href='https://wandb.ai/3628-pavitrakhare-indian-institute-of-technology-madras/DA6401_ASS-practice/runs/0a3c78bd' target=\"_blank\">https://wandb.ai/3628-pavitrakhare-indian-institute-of-technology-madras/DA6401_ASS-practice/runs/0a3c78bd</a><br> View project at: <a href='https://wandb.ai/3628-pavitrakhare-indian-institute-of-technology-madras/DA6401_ASS-practice' target=\"_blank\">https://wandb.ai/3628-pavitrakhare-indian-institute-of-technology-madras/DA6401_ASS-practice</a><br>Synced 5 W&B file(s), 0 media file(s), 0 artifact file(s) and 0 other file(s)"
            ],
            "text/plain": [
              "<IPython.core.display.HTML object>"
            ]
          },
          "metadata": {},
          "output_type": "display_data"
        },
        {
          "data": {
            "text/html": [
              "Find logs at: <code>./wandb/run-20250309_053207-0a3c78bd/logs</code>"
            ],
            "text/plain": [
              "<IPython.core.display.HTML object>"
            ]
          },
          "metadata": {},
          "output_type": "display_data"
        },
        {
          "name": "stderr",
          "output_type": "stream",
          "text": [
            "\u001b[34m\u001b[1mwandb\u001b[0m: Agent Starting Run: i4wr0hne with config:\n",
            "\u001b[34m\u001b[1mwandb\u001b[0m: \ta: tanh\n",
            "\u001b[34m\u001b[1mwandb\u001b[0m: \tb: 32\n",
            "\u001b[34m\u001b[1mwandb\u001b[0m: \te: 10\n",
            "\u001b[34m\u001b[1mwandb\u001b[0m: \tlr: 0.0001\n",
            "\u001b[34m\u001b[1mwandb\u001b[0m: \tnlh: 5\n",
            "\u001b[34m\u001b[1mwandb\u001b[0m: \to: adam\n",
            "\u001b[34m\u001b[1mwandb\u001b[0m: \tsz: 128\n",
            "\u001b[34m\u001b[1mwandb\u001b[0m: \tw_d: 0.5\n",
            "\u001b[34m\u001b[1mwandb\u001b[0m: \tw_i: Xavier\n"
          ]
        },
        {
          "data": {
            "text/html": [
              "Ignoring project 'DA6401_ASS-practice' when running a sweep."
            ],
            "text/plain": [
              "<IPython.core.display.HTML object>"
            ]
          },
          "metadata": {},
          "output_type": "display_data"
        },
        {
          "data": {
            "text/html": [
              "Tracking run with wandb version 0.19.7"
            ],
            "text/plain": [
              "<IPython.core.display.HTML object>"
            ]
          },
          "metadata": {},
          "output_type": "display_data"
        },
        {
          "data": {
            "text/html": [
              "Run data is saved locally in <code>/content/wandb/run-20250309_054343-i4wr0hne</code>"
            ],
            "text/plain": [
              "<IPython.core.display.HTML object>"
            ]
          },
          "metadata": {},
          "output_type": "display_data"
        },
        {
          "data": {
            "text/html": [
              "Syncing run <strong><a href='https://wandb.ai/3628-pavitrakhare-indian-institute-of-technology-madras/DA6401_ASS-practice/runs/i4wr0hne' target=\"_blank\">northern-sweep-76</a></strong> to <a href='https://wandb.ai/3628-pavitrakhare-indian-institute-of-technology-madras/DA6401_ASS-practice' target=\"_blank\">Weights & Biases</a> (<a href='https://wandb.me/developer-guide' target=\"_blank\">docs</a>)<br>Sweep page: <a href='https://wandb.ai/3628-pavitrakhare-indian-institute-of-technology-madras/DA6401_ASS-practice/sweeps/nfibwu4x' target=\"_blank\">https://wandb.ai/3628-pavitrakhare-indian-institute-of-technology-madras/DA6401_ASS-practice/sweeps/nfibwu4x</a>"
            ],
            "text/plain": [
              "<IPython.core.display.HTML object>"
            ]
          },
          "metadata": {},
          "output_type": "display_data"
        },
        {
          "data": {
            "text/html": [
              " View project at <a href='https://wandb.ai/3628-pavitrakhare-indian-institute-of-technology-madras/DA6401_ASS-practice' target=\"_blank\">https://wandb.ai/3628-pavitrakhare-indian-institute-of-technology-madras/DA6401_ASS-practice</a>"
            ],
            "text/plain": [
              "<IPython.core.display.HTML object>"
            ]
          },
          "metadata": {},
          "output_type": "display_data"
        },
        {
          "data": {
            "text/html": [
              " View sweep at <a href='https://wandb.ai/3628-pavitrakhare-indian-institute-of-technology-madras/DA6401_ASS-practice/sweeps/nfibwu4x' target=\"_blank\">https://wandb.ai/3628-pavitrakhare-indian-institute-of-technology-madras/DA6401_ASS-practice/sweeps/nfibwu4x</a>"
            ],
            "text/plain": [
              "<IPython.core.display.HTML object>"
            ]
          },
          "metadata": {},
          "output_type": "display_data"
        },
        {
          "data": {
            "text/html": [
              " View run at <a href='https://wandb.ai/3628-pavitrakhare-indian-institute-of-technology-madras/DA6401_ASS-practice/runs/i4wr0hne' target=\"_blank\">https://wandb.ai/3628-pavitrakhare-indian-institute-of-technology-madras/DA6401_ASS-practice/runs/i4wr0hne</a>"
            ],
            "text/plain": [
              "<IPython.core.display.HTML object>"
            ]
          },
          "metadata": {},
          "output_type": "display_data"
        },
        {
          "name": "stdout",
          "output_type": "stream",
          "text": [
            "epoch :  1  validation loss :  0.5503993267515319\n",
            "epoch :  2  validation loss :  0.4751606218200585\n",
            "epoch :  3  validation loss :  0.44684449437016754\n",
            "epoch :  4  validation loss :  0.4305121518657617\n",
            "epoch :  5  validation loss :  0.41923792018225503\n",
            "epoch :  6  validation loss :  0.410646055715589\n",
            "epoch :  7  validation loss :  0.40369956457383693\n",
            "epoch :  8  validation loss :  0.39784024381648936\n",
            "epoch :  9  validation loss :  0.3927388288198693\n",
            "epoch :  10  validation loss :  0.38819950665601155\n"
          ]
        },
        {
          "data": {
            "text/html": [],
            "text/plain": [
              "<IPython.core.display.HTML object>"
            ]
          },
          "metadata": {},
          "output_type": "display_data"
        },
        {
          "data": {
            "text/html": [
              "<br>    <style><br>        .wandb-row {<br>            display: flex;<br>            flex-direction: row;<br>            flex-wrap: wrap;<br>            justify-content: flex-start;<br>            width: 100%;<br>        }<br>        .wandb-col {<br>            display: flex;<br>            flex-direction: column;<br>            flex-basis: 100%;<br>            flex: 1;<br>            padding: 10px;<br>        }<br>    </style><br><div class=\"wandb-row\"><div class=\"wandb-col\"><h3>Run history:</h3><br/><table class=\"wandb\"><tr><td>accuracy</td><td>▁▅▆▇▇▇▇███</td></tr><tr><td>epoch</td><td>▁▂▃▃▄▅▆▆▇█</td></tr><tr><td>loss</td><td>█▃▃▂▂▂▁▁▁▁</td></tr><tr><td>val_accuracy</td><td>▁▄▅▆▆▇▇███</td></tr><tr><td>val_loss</td><td>█▅▄▃▂▂▂▁▁▁</td></tr></table><br/></div><div class=\"wandb-col\"><h3>Run summary:</h3><br/><table class=\"wandb\"><tr><td>accuracy</td><td>0.88745</td></tr><tr><td>epoch</td><td>9</td></tr><tr><td>loss</td><td>0.31743</td></tr><tr><td>val_accuracy</td><td>0.87398</td></tr><tr><td>val_loss</td><td>0.3882</td></tr></table><br/></div></div>"
            ],
            "text/plain": [
              "<IPython.core.display.HTML object>"
            ]
          },
          "metadata": {},
          "output_type": "display_data"
        },
        {
          "data": {
            "text/html": [
              " View run <strong style=\"color:#cdcd00\">hl_5_sz_128_bs_32_ac_tanh_w_i_Xavier_lr_0.0001_wd_0.5</strong> at: <a href='https://wandb.ai/3628-pavitrakhare-indian-institute-of-technology-madras/DA6401_ASS-practice/runs/i4wr0hne' target=\"_blank\">https://wandb.ai/3628-pavitrakhare-indian-institute-of-technology-madras/DA6401_ASS-practice/runs/i4wr0hne</a><br> View project at: <a href='https://wandb.ai/3628-pavitrakhare-indian-institute-of-technology-madras/DA6401_ASS-practice' target=\"_blank\">https://wandb.ai/3628-pavitrakhare-indian-institute-of-technology-madras/DA6401_ASS-practice</a><br>Synced 5 W&B file(s), 0 media file(s), 0 artifact file(s) and 0 other file(s)"
            ],
            "text/plain": [
              "<IPython.core.display.HTML object>"
            ]
          },
          "metadata": {},
          "output_type": "display_data"
        },
        {
          "data": {
            "text/html": [
              "Find logs at: <code>./wandb/run-20250309_054343-i4wr0hne/logs</code>"
            ],
            "text/plain": [
              "<IPython.core.display.HTML object>"
            ]
          },
          "metadata": {},
          "output_type": "display_data"
        },
        {
          "name": "stderr",
          "output_type": "stream",
          "text": [
            "\u001b[34m\u001b[1mwandb\u001b[0m: Agent Starting Run: fssm5v5v with config:\n",
            "\u001b[34m\u001b[1mwandb\u001b[0m: \ta: tanh\n",
            "\u001b[34m\u001b[1mwandb\u001b[0m: \tb: 32\n",
            "\u001b[34m\u001b[1mwandb\u001b[0m: \te: 10\n",
            "\u001b[34m\u001b[1mwandb\u001b[0m: \tlr: 0.0001\n",
            "\u001b[34m\u001b[1mwandb\u001b[0m: \tnlh: 5\n",
            "\u001b[34m\u001b[1mwandb\u001b[0m: \to: adam\n",
            "\u001b[34m\u001b[1mwandb\u001b[0m: \tsz: 64\n",
            "\u001b[34m\u001b[1mwandb\u001b[0m: \tw_d: 0.5\n",
            "\u001b[34m\u001b[1mwandb\u001b[0m: \tw_i: Xavier\n"
          ]
        },
        {
          "data": {
            "text/html": [
              "Ignoring project 'DA6401_ASS-practice' when running a sweep."
            ],
            "text/plain": [
              "<IPython.core.display.HTML object>"
            ]
          },
          "metadata": {},
          "output_type": "display_data"
        },
        {
          "data": {
            "text/html": [
              "Tracking run with wandb version 0.19.7"
            ],
            "text/plain": [
              "<IPython.core.display.HTML object>"
            ]
          },
          "metadata": {},
          "output_type": "display_data"
        },
        {
          "data": {
            "text/html": [
              "Run data is saved locally in <code>/content/wandb/run-20250309_055811-fssm5v5v</code>"
            ],
            "text/plain": [
              "<IPython.core.display.HTML object>"
            ]
          },
          "metadata": {},
          "output_type": "display_data"
        },
        {
          "data": {
            "text/html": [
              "Syncing run <strong><a href='https://wandb.ai/3628-pavitrakhare-indian-institute-of-technology-madras/DA6401_ASS-practice/runs/fssm5v5v' target=\"_blank\">playful-sweep-77</a></strong> to <a href='https://wandb.ai/3628-pavitrakhare-indian-institute-of-technology-madras/DA6401_ASS-practice' target=\"_blank\">Weights & Biases</a> (<a href='https://wandb.me/developer-guide' target=\"_blank\">docs</a>)<br>Sweep page: <a href='https://wandb.ai/3628-pavitrakhare-indian-institute-of-technology-madras/DA6401_ASS-practice/sweeps/nfibwu4x' target=\"_blank\">https://wandb.ai/3628-pavitrakhare-indian-institute-of-technology-madras/DA6401_ASS-practice/sweeps/nfibwu4x</a>"
            ],
            "text/plain": [
              "<IPython.core.display.HTML object>"
            ]
          },
          "metadata": {},
          "output_type": "display_data"
        },
        {
          "data": {
            "text/html": [
              " View project at <a href='https://wandb.ai/3628-pavitrakhare-indian-institute-of-technology-madras/DA6401_ASS-practice' target=\"_blank\">https://wandb.ai/3628-pavitrakhare-indian-institute-of-technology-madras/DA6401_ASS-practice</a>"
            ],
            "text/plain": [
              "<IPython.core.display.HTML object>"
            ]
          },
          "metadata": {},
          "output_type": "display_data"
        },
        {
          "data": {
            "text/html": [
              " View sweep at <a href='https://wandb.ai/3628-pavitrakhare-indian-institute-of-technology-madras/DA6401_ASS-practice/sweeps/nfibwu4x' target=\"_blank\">https://wandb.ai/3628-pavitrakhare-indian-institute-of-technology-madras/DA6401_ASS-practice/sweeps/nfibwu4x</a>"
            ],
            "text/plain": [
              "<IPython.core.display.HTML object>"
            ]
          },
          "metadata": {},
          "output_type": "display_data"
        },
        {
          "data": {
            "text/html": [
              " View run at <a href='https://wandb.ai/3628-pavitrakhare-indian-institute-of-technology-madras/DA6401_ASS-practice/runs/fssm5v5v' target=\"_blank\">https://wandb.ai/3628-pavitrakhare-indian-institute-of-technology-madras/DA6401_ASS-practice/runs/fssm5v5v</a>"
            ],
            "text/plain": [
              "<IPython.core.display.HTML object>"
            ]
          },
          "metadata": {},
          "output_type": "display_data"
        },
        {
          "name": "stdout",
          "output_type": "stream",
          "text": [
            "epoch :  1  validation loss :  0.599934281036337\n",
            "epoch :  2  validation loss :  0.49571371344804255\n",
            "epoch :  3  validation loss :  0.4590878414782861\n",
            "epoch :  4  validation loss :  0.43936603520306905\n",
            "epoch :  5  validation loss :  0.4263179192555876\n",
            "epoch :  6  validation loss :  0.41667726702751623\n",
            "epoch :  7  validation loss :  0.4091061815846175\n",
            "epoch :  8  validation loss :  0.402883149292142\n",
            "epoch :  9  validation loss :  0.3975764843361559\n",
            "epoch :  10  validation loss :  0.3929373230539994\n"
          ]
        },
        {
          "data": {
            "text/html": [],
            "text/plain": [
              "<IPython.core.display.HTML object>"
            ]
          },
          "metadata": {},
          "output_type": "display_data"
        },
        {
          "data": {
            "text/html": [
              "<br>    <style><br>        .wandb-row {<br>            display: flex;<br>            flex-direction: row;<br>            flex-wrap: wrap;<br>            justify-content: flex-start;<br>            width: 100%;<br>        }<br>        .wandb-col {<br>            display: flex;<br>            flex-direction: column;<br>            flex-basis: 100%;<br>            flex: 1;<br>            padding: 10px;<br>        }<br>    </style><br><div class=\"wandb-row\"><div class=\"wandb-col\"><h3>Run history:</h3><br/><table class=\"wandb\"><tr><td>accuracy</td><td>▁▆▆▇▇▇████</td></tr><tr><td>epoch</td><td>▁▂▃▃▄▅▆▆▇█</td></tr><tr><td>loss</td><td>█▃▂▂▂▂▁▁▁▁</td></tr><tr><td>val_accuracy</td><td>▁▄▆▆▇▇▇███</td></tr><tr><td>val_loss</td><td>█▄▃▃▂▂▂▁▁▁</td></tr></table><br/></div><div class=\"wandb-col\"><h3>Run summary:</h3><br/><table class=\"wandb\"><tr><td>accuracy</td><td>0.88161</td></tr><tr><td>epoch</td><td>9</td></tr><tr><td>loss</td><td>0.33215</td></tr><tr><td>val_accuracy</td><td>0.86413</td></tr><tr><td>val_loss</td><td>0.39294</td></tr></table><br/></div></div>"
            ],
            "text/plain": [
              "<IPython.core.display.HTML object>"
            ]
          },
          "metadata": {},
          "output_type": "display_data"
        },
        {
          "data": {
            "text/html": [
              " View run <strong style=\"color:#cdcd00\">hl_5_sz_64_bs_32_ac_tanh_w_i_Xavier_lr_0.0001_wd_0.5</strong> at: <a href='https://wandb.ai/3628-pavitrakhare-indian-institute-of-technology-madras/DA6401_ASS-practice/runs/fssm5v5v' target=\"_blank\">https://wandb.ai/3628-pavitrakhare-indian-institute-of-technology-madras/DA6401_ASS-practice/runs/fssm5v5v</a><br> View project at: <a href='https://wandb.ai/3628-pavitrakhare-indian-institute-of-technology-madras/DA6401_ASS-practice' target=\"_blank\">https://wandb.ai/3628-pavitrakhare-indian-institute-of-technology-madras/DA6401_ASS-practice</a><br>Synced 5 W&B file(s), 0 media file(s), 0 artifact file(s) and 0 other file(s)"
            ],
            "text/plain": [
              "<IPython.core.display.HTML object>"
            ]
          },
          "metadata": {},
          "output_type": "display_data"
        },
        {
          "data": {
            "text/html": [
              "Find logs at: <code>./wandb/run-20250309_055811-fssm5v5v/logs</code>"
            ],
            "text/plain": [
              "<IPython.core.display.HTML object>"
            ]
          },
          "metadata": {},
          "output_type": "display_data"
        },
        {
          "name": "stderr",
          "output_type": "stream",
          "text": [
            "\u001b[34m\u001b[1mwandb\u001b[0m: Agent Starting Run: uwaqaaxc with config:\n",
            "\u001b[34m\u001b[1mwandb\u001b[0m: \ta: ReLU\n",
            "\u001b[34m\u001b[1mwandb\u001b[0m: \tb: 64\n",
            "\u001b[34m\u001b[1mwandb\u001b[0m: \te: 10\n",
            "\u001b[34m\u001b[1mwandb\u001b[0m: \tlr: 0.001\n",
            "\u001b[34m\u001b[1mwandb\u001b[0m: \tnlh: 5\n",
            "\u001b[34m\u001b[1mwandb\u001b[0m: \to: nadam\n",
            "\u001b[34m\u001b[1mwandb\u001b[0m: \tsz: 128\n",
            "\u001b[34m\u001b[1mwandb\u001b[0m: \tw_d: 0.0005\n",
            "\u001b[34m\u001b[1mwandb\u001b[0m: \tw_i: random\n"
          ]
        },
        {
          "data": {
            "text/html": [
              "Ignoring project 'DA6401_ASS-practice' when running a sweep."
            ],
            "text/plain": [
              "<IPython.core.display.HTML object>"
            ]
          },
          "metadata": {},
          "output_type": "display_data"
        },
        {
          "data": {
            "text/html": [
              "Tracking run with wandb version 0.19.7"
            ],
            "text/plain": [
              "<IPython.core.display.HTML object>"
            ]
          },
          "metadata": {},
          "output_type": "display_data"
        },
        {
          "data": {
            "text/html": [
              "Run data is saved locally in <code>/content/wandb/run-20250309_060559-uwaqaaxc</code>"
            ],
            "text/plain": [
              "<IPython.core.display.HTML object>"
            ]
          },
          "metadata": {},
          "output_type": "display_data"
        },
        {
          "data": {
            "text/html": [
              "Syncing run <strong><a href='https://wandb.ai/3628-pavitrakhare-indian-institute-of-technology-madras/DA6401_ASS-practice/runs/uwaqaaxc' target=\"_blank\">warm-sweep-78</a></strong> to <a href='https://wandb.ai/3628-pavitrakhare-indian-institute-of-technology-madras/DA6401_ASS-practice' target=\"_blank\">Weights & Biases</a> (<a href='https://wandb.me/developer-guide' target=\"_blank\">docs</a>)<br>Sweep page: <a href='https://wandb.ai/3628-pavitrakhare-indian-institute-of-technology-madras/DA6401_ASS-practice/sweeps/nfibwu4x' target=\"_blank\">https://wandb.ai/3628-pavitrakhare-indian-institute-of-technology-madras/DA6401_ASS-practice/sweeps/nfibwu4x</a>"
            ],
            "text/plain": [
              "<IPython.core.display.HTML object>"
            ]
          },
          "metadata": {},
          "output_type": "display_data"
        },
        {
          "data": {
            "text/html": [
              " View project at <a href='https://wandb.ai/3628-pavitrakhare-indian-institute-of-technology-madras/DA6401_ASS-practice' target=\"_blank\">https://wandb.ai/3628-pavitrakhare-indian-institute-of-technology-madras/DA6401_ASS-practice</a>"
            ],
            "text/plain": [
              "<IPython.core.display.HTML object>"
            ]
          },
          "metadata": {},
          "output_type": "display_data"
        },
        {
          "data": {
            "text/html": [
              " View sweep at <a href='https://wandb.ai/3628-pavitrakhare-indian-institute-of-technology-madras/DA6401_ASS-practice/sweeps/nfibwu4x' target=\"_blank\">https://wandb.ai/3628-pavitrakhare-indian-institute-of-technology-madras/DA6401_ASS-practice/sweeps/nfibwu4x</a>"
            ],
            "text/plain": [
              "<IPython.core.display.HTML object>"
            ]
          },
          "metadata": {},
          "output_type": "display_data"
        },
        {
          "data": {
            "text/html": [
              " View run at <a href='https://wandb.ai/3628-pavitrakhare-indian-institute-of-technology-madras/DA6401_ASS-practice/runs/uwaqaaxc' target=\"_blank\">https://wandb.ai/3628-pavitrakhare-indian-institute-of-technology-madras/DA6401_ASS-practice/runs/uwaqaaxc</a>"
            ],
            "text/plain": [
              "<IPython.core.display.HTML object>"
            ]
          },
          "metadata": {},
          "output_type": "display_data"
        },
        {
          "name": "stdout",
          "output_type": "stream",
          "text": [
            "epoch :  1  validation loss :  5.427049866462531\n",
            "epoch :  2  validation loss :  4.826075761317074\n",
            "epoch :  3  validation loss :  4.42890056756596\n",
            "epoch :  4  validation loss :  4.182039204230736\n",
            "epoch :  5  validation loss :  3.6077146437328365\n",
            "epoch :  6  validation loss :  3.201010941998536\n",
            "epoch :  7  validation loss :  2.8527850092131364\n",
            "epoch :  8  validation loss :  2.5330121400308014\n",
            "epoch :  9  validation loss :  2.173075793839343\n",
            "epoch :  10  validation loss :  2.295568365540692\n"
          ]
        },
        {
          "data": {
            "text/html": [],
            "text/plain": [
              "<IPython.core.display.HTML object>"
            ]
          },
          "metadata": {},
          "output_type": "display_data"
        },
        {
          "data": {
            "text/html": [
              "<br>    <style><br>        .wandb-row {<br>            display: flex;<br>            flex-direction: row;<br>            flex-wrap: wrap;<br>            justify-content: flex-start;<br>            width: 100%;<br>        }<br>        .wandb-col {<br>            display: flex;<br>            flex-direction: column;<br>            flex-basis: 100%;<br>            flex: 1;<br>            padding: 10px;<br>        }<br>    </style><br><div class=\"wandb-row\"><div class=\"wandb-col\"><h3>Run history:</h3><br/><table class=\"wandb\"><tr><td>accuracy</td><td>▁▅▆▇▇█████</td></tr><tr><td>epoch</td><td>▁▂▃▃▄▅▆▆▇█</td></tr><tr><td>loss</td><td>█▆▅▄▄▃▂▂▁▁</td></tr><tr><td>val_accuracy</td><td>▁▃▄▄▆▇█▇█▆</td></tr><tr><td>val_loss</td><td>█▇▆▅▄▃▂▂▁▁</td></tr></table><br/></div><div class=\"wandb-col\"><h3>Run summary:</h3><br/><table class=\"wandb\"><tr><td>accuracy</td><td>0.78728</td></tr><tr><td>epoch</td><td>9</td></tr><tr><td>loss</td><td>2.24234</td></tr><tr><td>val_accuracy</td><td>0.78312</td></tr><tr><td>val_loss</td><td>2.29557</td></tr></table><br/></div></div>"
            ],
            "text/plain": [
              "<IPython.core.display.HTML object>"
            ]
          },
          "metadata": {},
          "output_type": "display_data"
        },
        {
          "data": {
            "text/html": [
              " View run <strong style=\"color:#cdcd00\">hl_5_sz_128_bs_64_ac_ReLU_w_i_random_lr_0.001_wd_0.0005</strong> at: <a href='https://wandb.ai/3628-pavitrakhare-indian-institute-of-technology-madras/DA6401_ASS-practice/runs/uwaqaaxc' target=\"_blank\">https://wandb.ai/3628-pavitrakhare-indian-institute-of-technology-madras/DA6401_ASS-practice/runs/uwaqaaxc</a><br> View project at: <a href='https://wandb.ai/3628-pavitrakhare-indian-institute-of-technology-madras/DA6401_ASS-practice' target=\"_blank\">https://wandb.ai/3628-pavitrakhare-indian-institute-of-technology-madras/DA6401_ASS-practice</a><br>Synced 5 W&B file(s), 0 media file(s), 0 artifact file(s) and 0 other file(s)"
            ],
            "text/plain": [
              "<IPython.core.display.HTML object>"
            ]
          },
          "metadata": {},
          "output_type": "display_data"
        },
        {
          "data": {
            "text/html": [
              "Find logs at: <code>./wandb/run-20250309_060559-uwaqaaxc/logs</code>"
            ],
            "text/plain": [
              "<IPython.core.display.HTML object>"
            ]
          },
          "metadata": {},
          "output_type": "display_data"
        },
        {
          "name": "stderr",
          "output_type": "stream",
          "text": [
            "\u001b[34m\u001b[1mwandb\u001b[0m: Sweep Agent: Waiting for job.\n",
            "\u001b[34m\u001b[1mwandb\u001b[0m: Job received.\n",
            "\u001b[34m\u001b[1mwandb\u001b[0m: Agent Starting Run: eg9sycw8 with config:\n",
            "\u001b[34m\u001b[1mwandb\u001b[0m: \ta: tanh\n",
            "\u001b[34m\u001b[1mwandb\u001b[0m: \tb: 32\n",
            "\u001b[34m\u001b[1mwandb\u001b[0m: \te: 10\n",
            "\u001b[34m\u001b[1mwandb\u001b[0m: \tlr: 0.0001\n",
            "\u001b[34m\u001b[1mwandb\u001b[0m: \tnlh: 5\n",
            "\u001b[34m\u001b[1mwandb\u001b[0m: \to: nadam\n",
            "\u001b[34m\u001b[1mwandb\u001b[0m: \tsz: 128\n",
            "\u001b[34m\u001b[1mwandb\u001b[0m: \tw_d: 0.0005\n",
            "\u001b[34m\u001b[1mwandb\u001b[0m: \tw_i: Xavier\n"
          ]
        },
        {
          "data": {
            "text/html": [
              "Ignoring project 'DA6401_ASS-practice' when running a sweep."
            ],
            "text/plain": [
              "<IPython.core.display.HTML object>"
            ]
          },
          "metadata": {},
          "output_type": "display_data"
        },
        {
          "data": {
            "text/html": [
              "Tracking run with wandb version 0.19.7"
            ],
            "text/plain": [
              "<IPython.core.display.HTML object>"
            ]
          },
          "metadata": {},
          "output_type": "display_data"
        },
        {
          "data": {
            "text/html": [
              "Run data is saved locally in <code>/content/wandb/run-20250309_061846-eg9sycw8</code>"
            ],
            "text/plain": [
              "<IPython.core.display.HTML object>"
            ]
          },
          "metadata": {},
          "output_type": "display_data"
        },
        {
          "data": {
            "text/html": [
              "Syncing run <strong><a href='https://wandb.ai/3628-pavitrakhare-indian-institute-of-technology-madras/DA6401_ASS-practice/runs/eg9sycw8' target=\"_blank\">glamorous-sweep-79</a></strong> to <a href='https://wandb.ai/3628-pavitrakhare-indian-institute-of-technology-madras/DA6401_ASS-practice' target=\"_blank\">Weights & Biases</a> (<a href='https://wandb.me/developer-guide' target=\"_blank\">docs</a>)<br>Sweep page: <a href='https://wandb.ai/3628-pavitrakhare-indian-institute-of-technology-madras/DA6401_ASS-practice/sweeps/nfibwu4x' target=\"_blank\">https://wandb.ai/3628-pavitrakhare-indian-institute-of-technology-madras/DA6401_ASS-practice/sweeps/nfibwu4x</a>"
            ],
            "text/plain": [
              "<IPython.core.display.HTML object>"
            ]
          },
          "metadata": {},
          "output_type": "display_data"
        },
        {
          "data": {
            "text/html": [
              " View project at <a href='https://wandb.ai/3628-pavitrakhare-indian-institute-of-technology-madras/DA6401_ASS-practice' target=\"_blank\">https://wandb.ai/3628-pavitrakhare-indian-institute-of-technology-madras/DA6401_ASS-practice</a>"
            ],
            "text/plain": [
              "<IPython.core.display.HTML object>"
            ]
          },
          "metadata": {},
          "output_type": "display_data"
        },
        {
          "data": {
            "text/html": [
              " View sweep at <a href='https://wandb.ai/3628-pavitrakhare-indian-institute-of-technology-madras/DA6401_ASS-practice/sweeps/nfibwu4x' target=\"_blank\">https://wandb.ai/3628-pavitrakhare-indian-institute-of-technology-madras/DA6401_ASS-practice/sweeps/nfibwu4x</a>"
            ],
            "text/plain": [
              "<IPython.core.display.HTML object>"
            ]
          },
          "metadata": {},
          "output_type": "display_data"
        },
        {
          "data": {
            "text/html": [
              " View run at <a href='https://wandb.ai/3628-pavitrakhare-indian-institute-of-technology-madras/DA6401_ASS-practice/runs/eg9sycw8' target=\"_blank\">https://wandb.ai/3628-pavitrakhare-indian-institute-of-technology-madras/DA6401_ASS-practice/runs/eg9sycw8</a>"
            ],
            "text/plain": [
              "<IPython.core.display.HTML object>"
            ]
          },
          "metadata": {},
          "output_type": "display_data"
        },
        {
          "name": "stdout",
          "output_type": "stream",
          "text": [
            "epoch :  1  validation loss :  0.5088345151288072\n",
            "epoch :  2  validation loss :  0.44177822701020764\n",
            "epoch :  3  validation loss :  0.41427694238600987\n",
            "epoch :  4  validation loss :  0.3971404094745757\n",
            "epoch :  5  validation loss :  0.3845606957539467\n",
            "epoch :  6  validation loss :  0.3746479666630098\n",
            "epoch :  7  validation loss :  0.3665586251333505\n",
            "epoch :  8  validation loss :  0.35979900202410087\n",
            "epoch :  9  validation loss :  0.3540440368421144\n",
            "epoch :  10  validation loss :  0.34906859282567615\n"
          ]
        },
        {
          "data": {
            "text/html": [],
            "text/plain": [
              "<IPython.core.display.HTML object>"
            ]
          },
          "metadata": {},
          "output_type": "display_data"
        },
        {
          "data": {
            "text/html": [
              "<br>    <style><br>        .wandb-row {<br>            display: flex;<br>            flex-direction: row;<br>            flex-wrap: wrap;<br>            justify-content: flex-start;<br>            width: 100%;<br>        }<br>        .wandb-col {<br>            display: flex;<br>            flex-direction: column;<br>            flex-basis: 100%;<br>            flex: 1;<br>            padding: 10px;<br>        }<br>    </style><br><div class=\"wandb-row\"><div class=\"wandb-col\"><h3>Run history:</h3><br/><table class=\"wandb\"><tr><td>accuracy</td><td>▁▅▆▇▇▇▇███</td></tr><tr><td>epoch</td><td>▁▂▃▃▄▅▆▆▇█</td></tr><tr><td>loss</td><td>█▃▃▂▂▂▁▁▁▁</td></tr><tr><td>val_accuracy</td><td>▁▄▅▆▆▇▇▇██</td></tr><tr><td>val_loss</td><td>█▅▄▃▃▂▂▁▁▁</td></tr></table><br/></div><div class=\"wandb-col\"><h3>Run summary:</h3><br/><table class=\"wandb\"><tr><td>accuracy</td><td>0.88708</td></tr><tr><td>epoch</td><td>9</td></tr><tr><td>loss</td><td>0.31106</td></tr><tr><td>val_accuracy</td><td>0.87432</td></tr><tr><td>val_loss</td><td>0.34907</td></tr></table><br/></div></div>"
            ],
            "text/plain": [
              "<IPython.core.display.HTML object>"
            ]
          },
          "metadata": {},
          "output_type": "display_data"
        },
        {
          "data": {
            "text/html": [
              " View run <strong style=\"color:#cdcd00\">hl_5_sz_128_bs_32_ac_tanh_w_i_Xavier_lr_0.0001_wd_0.0005</strong> at: <a href='https://wandb.ai/3628-pavitrakhare-indian-institute-of-technology-madras/DA6401_ASS-practice/runs/eg9sycw8' target=\"_blank\">https://wandb.ai/3628-pavitrakhare-indian-institute-of-technology-madras/DA6401_ASS-practice/runs/eg9sycw8</a><br> View project at: <a href='https://wandb.ai/3628-pavitrakhare-indian-institute-of-technology-madras/DA6401_ASS-practice' target=\"_blank\">https://wandb.ai/3628-pavitrakhare-indian-institute-of-technology-madras/DA6401_ASS-practice</a><br>Synced 5 W&B file(s), 0 media file(s), 0 artifact file(s) and 0 other file(s)"
            ],
            "text/plain": [
              "<IPython.core.display.HTML object>"
            ]
          },
          "metadata": {},
          "output_type": "display_data"
        },
        {
          "data": {
            "text/html": [
              "Find logs at: <code>./wandb/run-20250309_061846-eg9sycw8/logs</code>"
            ],
            "text/plain": [
              "<IPython.core.display.HTML object>"
            ]
          },
          "metadata": {},
          "output_type": "display_data"
        },
        {
          "name": "stderr",
          "output_type": "stream",
          "text": [
            "\u001b[34m\u001b[1mwandb\u001b[0m: Agent Starting Run: lklfcwrf with config:\n",
            "\u001b[34m\u001b[1mwandb\u001b[0m: \ta: tanh\n",
            "\u001b[34m\u001b[1mwandb\u001b[0m: \tb: 32\n",
            "\u001b[34m\u001b[1mwandb\u001b[0m: \te: 10\n",
            "\u001b[34m\u001b[1mwandb\u001b[0m: \tlr: 0.0001\n",
            "\u001b[34m\u001b[1mwandb\u001b[0m: \tnlh: 5\n",
            "\u001b[34m\u001b[1mwandb\u001b[0m: \to: nadam\n",
            "\u001b[34m\u001b[1mwandb\u001b[0m: \tsz: 128\n",
            "\u001b[34m\u001b[1mwandb\u001b[0m: \tw_d: 0.5\n",
            "\u001b[34m\u001b[1mwandb\u001b[0m: \tw_i: Xavier\n"
          ]
        },
        {
          "data": {
            "text/html": [
              "Ignoring project 'DA6401_ASS-practice' when running a sweep."
            ],
            "text/plain": [
              "<IPython.core.display.HTML object>"
            ]
          },
          "metadata": {},
          "output_type": "display_data"
        },
        {
          "data": {
            "text/html": [
              "Tracking run with wandb version 0.19.7"
            ],
            "text/plain": [
              "<IPython.core.display.HTML object>"
            ]
          },
          "metadata": {},
          "output_type": "display_data"
        },
        {
          "data": {
            "text/html": [
              "Run data is saved locally in <code>/content/wandb/run-20250309_063410-lklfcwrf</code>"
            ],
            "text/plain": [
              "<IPython.core.display.HTML object>"
            ]
          },
          "metadata": {},
          "output_type": "display_data"
        },
        {
          "data": {
            "text/html": [
              "Syncing run <strong><a href='https://wandb.ai/3628-pavitrakhare-indian-institute-of-technology-madras/DA6401_ASS-practice/runs/lklfcwrf' target=\"_blank\">cerulean-sweep-80</a></strong> to <a href='https://wandb.ai/3628-pavitrakhare-indian-institute-of-technology-madras/DA6401_ASS-practice' target=\"_blank\">Weights & Biases</a> (<a href='https://wandb.me/developer-guide' target=\"_blank\">docs</a>)<br>Sweep page: <a href='https://wandb.ai/3628-pavitrakhare-indian-institute-of-technology-madras/DA6401_ASS-practice/sweeps/nfibwu4x' target=\"_blank\">https://wandb.ai/3628-pavitrakhare-indian-institute-of-technology-madras/DA6401_ASS-practice/sweeps/nfibwu4x</a>"
            ],
            "text/plain": [
              "<IPython.core.display.HTML object>"
            ]
          },
          "metadata": {},
          "output_type": "display_data"
        },
        {
          "data": {
            "text/html": [
              " View project at <a href='https://wandb.ai/3628-pavitrakhare-indian-institute-of-technology-madras/DA6401_ASS-practice' target=\"_blank\">https://wandb.ai/3628-pavitrakhare-indian-institute-of-technology-madras/DA6401_ASS-practice</a>"
            ],
            "text/plain": [
              "<IPython.core.display.HTML object>"
            ]
          },
          "metadata": {},
          "output_type": "display_data"
        },
        {
          "data": {
            "text/html": [
              " View sweep at <a href='https://wandb.ai/3628-pavitrakhare-indian-institute-of-technology-madras/DA6401_ASS-practice/sweeps/nfibwu4x' target=\"_blank\">https://wandb.ai/3628-pavitrakhare-indian-institute-of-technology-madras/DA6401_ASS-practice/sweeps/nfibwu4x</a>"
            ],
            "text/plain": [
              "<IPython.core.display.HTML object>"
            ]
          },
          "metadata": {},
          "output_type": "display_data"
        },
        {
          "data": {
            "text/html": [
              " View run at <a href='https://wandb.ai/3628-pavitrakhare-indian-institute-of-technology-madras/DA6401_ASS-practice/runs/lklfcwrf' target=\"_blank\">https://wandb.ai/3628-pavitrakhare-indian-institute-of-technology-madras/DA6401_ASS-practice/runs/lklfcwrf</a>"
            ],
            "text/plain": [
              "<IPython.core.display.HTML object>"
            ]
          },
          "metadata": {},
          "output_type": "display_data"
        },
        {
          "name": "stdout",
          "output_type": "stream",
          "text": [
            "epoch :  1  validation loss :  0.5331156649370536\n",
            "epoch :  2  validation loss :  0.4725294226934462\n",
            "epoch :  3  validation loss :  0.44663404039042287\n",
            "epoch :  4  validation loss :  0.4303298660416939\n",
            "epoch :  5  validation loss :  0.4186318820343511\n"
          ]
        }
      ],
      "source": [
        "wandb.agent(sweep_id,train_data,count=150)\n",
        "wandb.finish()"
      ]
    },
    {
      "cell_type": "code",
      "source": [
        "run = wandb.init(project=\"DA6401_CS24M031\")\n",
        "run.name = 'Confusion Matrix'\n",
        "# test_ac = test_accuracy(testX,needed_y_test,params[0],params[1],params[2],params[3],params[4])\n",
        "# print(\"Test accuracy on the model = \", test_ac*100,'%')\n",
        "params = train(trainX=train_features,\n",
        "    trainy=train_targets,\n",
        "    textX=test_features,\n",
        "    testy=needed_y_test,\n",
        "    number_hidden_layers=3,\n",
        "    hidden_layer_size=128,\n",
        "    eta=0.0001,\n",
        "    init_type=\"Xavier\",\n",
        "    activation_function=\"tanh\",\n",
        "    epochs=10,\n",
        "    mini_batch_size=32,\n",
        "    loss_function=\"cross_entropy\",\n",
        "    optimizer=\"nadam\",\n",
        "    output_function='softmax',\n",
        "    weight_decay_const=0.0005,\n",
        "    wandb_flag=True)\n",
        "a,h = forward_propagation(testX,params[0],params[1],params[2], params[3], params[4])\n",
        "hL = h[-1]\n",
        "y_pred = np.zeros(len(hL))\n",
        "i = 0\n",
        "while(i!=len(hL)):\n",
        "  y_pred[i] = np.argmax(hL[i])\n",
        "  i+=1\n",
        "y_pred\n",
        "\n",
        "class_names = ['T-shirt/top','Trouser','Pullover','Dress','Coat','Sandal','Shirt','Sneaker','Bag','Ankle boot']\n",
        "\n",
        "wandb.log({\"The Confusion Marix\": wandb.plot.confusion_matrix(preds = y_pred,y_true=test_Y,class_names=class_names)})\n",
        "wandb.save()\n",
        "wandb.finish()"
      ],
      "metadata": {
        "id": "gOWAgyN_5-Zt"
      },
      "execution_count": null,
      "outputs": []
    }
  ],
  "metadata": {
    "colab": {
      "provenance": [],
      "include_colab_link": true
    },
    "kernelspec": {
      "display_name": "Python 3",
      "name": "python3"
    },
    "language_info": {
      "name": "python"
    }
  },
  "nbformat": 4,
  "nbformat_minor": 0
}
