{
  "cells": [
    {
      "cell_type": "markdown",
      "metadata": {
        "id": "view-in-github",
        "colab_type": "text"
      },
      "source": [
        "<a href=\"https://colab.research.google.com/github/Pavitra-khare/DA6401_Deep_learning/blob/main/DL_Assignment1_ALL_QUES.ipynb\" target=\"_parent\"><img src=\"https://colab.research.google.com/assets/colab-badge.svg\" alt=\"Open In Colab\"/></a>"
      ]
    },
    {
      "cell_type": "code",
      "execution_count": 1,
      "metadata": {
        "colab": {
          "base_uri": "https://localhost:8080/"
        },
        "id": "xo8cqH5AZtpw",
        "outputId": "c2525dee-637d-4505-e8ae-2dfb924a6c62"
      },
      "outputs": [
        {
          "output_type": "stream",
          "name": "stdout",
          "text": [
            "Requirement already satisfied: wandb in /usr/local/lib/python3.11/dist-packages (0.19.8)\n",
            "Requirement already satisfied: click!=8.0.0,>=7.1 in /usr/local/lib/python3.11/dist-packages (from wandb) (8.1.8)\n",
            "Requirement already satisfied: docker-pycreds>=0.4.0 in /usr/local/lib/python3.11/dist-packages (from wandb) (0.4.0)\n",
            "Requirement already satisfied: gitpython!=3.1.29,>=1.0.0 in /usr/local/lib/python3.11/dist-packages (from wandb) (3.1.44)\n",
            "Requirement already satisfied: platformdirs in /usr/local/lib/python3.11/dist-packages (from wandb) (4.3.6)\n",
            "Requirement already satisfied: protobuf!=4.21.0,!=5.28.0,<6,>=3.19.0 in /usr/local/lib/python3.11/dist-packages (from wandb) (4.25.6)\n",
            "Requirement already satisfied: psutil>=5.0.0 in /usr/local/lib/python3.11/dist-packages (from wandb) (5.9.5)\n",
            "Requirement already satisfied: pydantic<3,>=2.6 in /usr/local/lib/python3.11/dist-packages (from wandb) (2.10.6)\n",
            "Requirement already satisfied: pyyaml in /usr/local/lib/python3.11/dist-packages (from wandb) (6.0.2)\n",
            "Requirement already satisfied: requests<3,>=2.0.0 in /usr/local/lib/python3.11/dist-packages (from wandb) (2.32.3)\n",
            "Requirement already satisfied: sentry-sdk>=2.0.0 in /usr/local/lib/python3.11/dist-packages (from wandb) (2.22.0)\n",
            "Requirement already satisfied: setproctitle in /usr/local/lib/python3.11/dist-packages (from wandb) (1.3.5)\n",
            "Requirement already satisfied: setuptools in /usr/local/lib/python3.11/dist-packages (from wandb) (75.1.0)\n",
            "Requirement already satisfied: typing-extensions<5,>=4.4 in /usr/local/lib/python3.11/dist-packages (from wandb) (4.12.2)\n",
            "Requirement already satisfied: six>=1.4.0 in /usr/local/lib/python3.11/dist-packages (from docker-pycreds>=0.4.0->wandb) (1.17.0)\n",
            "Requirement already satisfied: gitdb<5,>=4.0.1 in /usr/local/lib/python3.11/dist-packages (from gitpython!=3.1.29,>=1.0.0->wandb) (4.0.12)\n",
            "Requirement already satisfied: annotated-types>=0.6.0 in /usr/local/lib/python3.11/dist-packages (from pydantic<3,>=2.6->wandb) (0.7.0)\n",
            "Requirement already satisfied: pydantic-core==2.27.2 in /usr/local/lib/python3.11/dist-packages (from pydantic<3,>=2.6->wandb) (2.27.2)\n",
            "Requirement already satisfied: charset-normalizer<4,>=2 in /usr/local/lib/python3.11/dist-packages (from requests<3,>=2.0.0->wandb) (3.4.1)\n",
            "Requirement already satisfied: idna<4,>=2.5 in /usr/local/lib/python3.11/dist-packages (from requests<3,>=2.0.0->wandb) (3.10)\n",
            "Requirement already satisfied: urllib3<3,>=1.21.1 in /usr/local/lib/python3.11/dist-packages (from requests<3,>=2.0.0->wandb) (2.3.0)\n",
            "Requirement already satisfied: certifi>=2017.4.17 in /usr/local/lib/python3.11/dist-packages (from requests<3,>=2.0.0->wandb) (2025.1.31)\n",
            "Requirement already satisfied: smmap<6,>=3.0.1 in /usr/local/lib/python3.11/dist-packages (from gitdb<5,>=4.0.1->gitpython!=3.1.29,>=1.0.0->wandb) (5.0.2)\n"
          ]
        }
      ],
      "source": [
        "!pip install wandb"
      ]
    },
    {
      "cell_type": "code",
      "execution_count": 3,
      "metadata": {
        "colab": {
          "base_uri": "https://localhost:8080/"
        },
        "id": "IPqGqpf8ZyTJ",
        "outputId": "d8fa7ffd-b011-42c6-8bc4-a5231220a6d7"
      },
      "outputs": [
        {
          "output_type": "stream",
          "name": "stdout",
          "text": [
            "\u001b[34m\u001b[1mwandb\u001b[0m: Logging into wandb.ai. (Learn how to deploy a W&B server locally: https://wandb.me/wandb-server)\n",
            "\u001b[34m\u001b[1mwandb\u001b[0m: You can find your API key in your browser here: https://wandb.ai/authorize\n",
            "\u001b[34m\u001b[1mwandb\u001b[0m: Paste an API key from your profile and hit enter, or press ctrl+c to quit: \n",
            "\u001b[34m\u001b[1mwandb\u001b[0m: No netrc file found, creating one.\n",
            "\u001b[34m\u001b[1mwandb\u001b[0m: Appending key for api.wandb.ai to your netrc file: /root/.netrc\n",
            "\u001b[34m\u001b[1mwandb\u001b[0m: W&B API key is configured. Use \u001b[1m`wandb login --relogin`\u001b[0m to force relogin\n"
          ]
        }
      ],
      "source": [
        "!wandb login --relogin"
      ]
    },
    {
      "cell_type": "code",
      "execution_count": 2,
      "metadata": {
        "colab": {
          "base_uri": "https://localhost:8080/",
          "height": 868
        },
        "id": "YTwbwB2PRtv5",
        "outputId": "001259ff-507c-4d64-f889-221c6a7ff3bb"
      },
      "outputs": [
        {
          "output_type": "stream",
          "name": "stderr",
          "text": [
            "\u001b[34m\u001b[1mwandb\u001b[0m: Using wandb-core as the SDK backend.  Please refer to https://wandb.me/wandb-core for more information.\n",
            "\u001b[34m\u001b[1mwandb\u001b[0m: Currently logged in as: \u001b[33m3628-pavitrakhare\u001b[0m (\u001b[33m3628-pavitrakhare-indian-institute-of-technology-madras\u001b[0m) to \u001b[32mhttps://api.wandb.ai\u001b[0m. Use \u001b[1m`wandb login --relogin`\u001b[0m to force relogin\n"
          ]
        },
        {
          "output_type": "display_data",
          "data": {
            "text/plain": [
              "<IPython.core.display.HTML object>"
            ],
            "text/html": [
              "Tracking run with wandb version 0.19.8"
            ]
          },
          "metadata": {}
        },
        {
          "output_type": "display_data",
          "data": {
            "text/plain": [
              "<IPython.core.display.HTML object>"
            ],
            "text/html": [
              "Run data is saved locally in <code>/content/wandb/run-20250315_043951-5fw2a33d</code>"
            ]
          },
          "metadata": {}
        },
        {
          "output_type": "display_data",
          "data": {
            "text/plain": [
              "<IPython.core.display.HTML object>"
            ],
            "text/html": [
              "Syncing run <strong><a href='https://wandb.ai/3628-pavitrakhare-indian-institute-of-technology-madras/DA6401_ASS-practice/runs/5fw2a33d' target=\"_blank\">fancy-eon-218</a></strong> to <a href='https://wandb.ai/3628-pavitrakhare-indian-institute-of-technology-madras/DA6401_ASS-practice' target=\"_blank\">Weights & Biases</a> (<a href='https://wandb.me/developer-guide' target=\"_blank\">docs</a>)<br>"
            ]
          },
          "metadata": {}
        },
        {
          "output_type": "display_data",
          "data": {
            "text/plain": [
              "<IPython.core.display.HTML object>"
            ],
            "text/html": [
              " View project at <a href='https://wandb.ai/3628-pavitrakhare-indian-institute-of-technology-madras/DA6401_ASS-practice' target=\"_blank\">https://wandb.ai/3628-pavitrakhare-indian-institute-of-technology-madras/DA6401_ASS-practice</a>"
            ]
          },
          "metadata": {}
        },
        {
          "output_type": "display_data",
          "data": {
            "text/plain": [
              "<IPython.core.display.HTML object>"
            ],
            "text/html": [
              " View run at <a href='https://wandb.ai/3628-pavitrakhare-indian-institute-of-technology-madras/DA6401_ASS-practice/runs/5fw2a33d' target=\"_blank\">https://wandb.ai/3628-pavitrakhare-indian-institute-of-technology-madras/DA6401_ASS-practice/runs/5fw2a33d</a>"
            ]
          },
          "metadata": {}
        },
        {
          "output_type": "stream",
          "name": "stdout",
          "text": [
            "Downloading data from https://storage.googleapis.com/tensorflow/tf-keras-datasets/train-labels-idx1-ubyte.gz\n",
            "\u001b[1m29515/29515\u001b[0m \u001b[32m━━━━━━━━━━━━━━━━━━━━\u001b[0m\u001b[37m\u001b[0m \u001b[1m0s\u001b[0m 0us/step\n",
            "Downloading data from https://storage.googleapis.com/tensorflow/tf-keras-datasets/train-images-idx3-ubyte.gz\n",
            "\u001b[1m26421880/26421880\u001b[0m \u001b[32m━━━━━━━━━━━━━━━━━━━━\u001b[0m\u001b[37m\u001b[0m \u001b[1m0s\u001b[0m 0us/step\n",
            "Downloading data from https://storage.googleapis.com/tensorflow/tf-keras-datasets/t10k-labels-idx1-ubyte.gz\n",
            "\u001b[1m5148/5148\u001b[0m \u001b[32m━━━━━━━━━━━━━━━━━━━━\u001b[0m\u001b[37m\u001b[0m \u001b[1m0s\u001b[0m 0us/step\n",
            "Downloading data from https://storage.googleapis.com/tensorflow/tf-keras-datasets/t10k-images-idx3-ubyte.gz\n",
            "\u001b[1m4422102/4422102\u001b[0m \u001b[32m━━━━━━━━━━━━━━━━━━━━\u001b[0m\u001b[37m\u001b[0m \u001b[1m0s\u001b[0m 0us/step\n"
          ]
        },
        {
          "output_type": "display_data",
          "data": {
            "text/plain": [
              "<Figure size 1200x500 with 10 Axes>"
            ],
            "image/png": "[encoded data removed]"
          },
          "metadata": {}
        },
        {
          "output_type": "display_data",
          "data": {
            "text/plain": [
              "<IPython.core.display.HTML object>"
            ],
            "text/html": []
          },
          "metadata": {}
        },
        {
          "output_type": "display_data",
          "data": {
            "text/plain": [
              "<IPython.core.display.HTML object>"
            ],
            "text/html": [
              " View run <strong style=\"color:#cdcd00\">fancy-eon-218</strong> at: <a href='https://wandb.ai/3628-pavitrakhare-indian-institute-of-technology-madras/DA6401_ASS-practice/runs/5fw2a33d' target=\"_blank\">https://wandb.ai/3628-pavitrakhare-indian-institute-of-technology-madras/DA6401_ASS-practice/runs/5fw2a33d</a><br> View project at: <a href='https://wandb.ai/3628-pavitrakhare-indian-institute-of-technology-madras/DA6401_ASS-practice' target=\"_blank\">https://wandb.ai/3628-pavitrakhare-indian-institute-of-technology-madras/DA6401_ASS-practice</a><br>Synced 5 W&B file(s), 1 media file(s), 0 artifact file(s) and 0 other file(s)"
            ]
          },
          "metadata": {}
        },
        {
          "output_type": "display_data",
          "data": {
            "text/plain": [
              "<IPython.core.display.HTML object>"
            ],
            "text/html": [
              "Find logs at: <code>./wandb/run-20250315_043951-5fw2a33d/logs</code>"
            ]
          },
          "metadata": {}
        }
      ],
      "source": [
        "import os\n",
        "import wandb\n",
        "import matplotlib.pyplot as plt\n",
        "from keras.datasets import fashion_mnist\n",
        "\n",
        "# Initialize Weights & Biases (W&B) for experiment tracking\n",
        "wandb.init(project=\"DA6401_ASS-practice\")\n",
        "\n",
        "# Load the Fashion MNIST dataset\n",
        "(train_images, train_labels), (test_images, test_labels) = fashion_mnist.load_data()\n",
        "\n",
        "# Define class names for Fashion MNIST\n",
        "def get_class_names():\n",
        "    return [\n",
        "        'T-shirt/top', 'Trouser', 'Pullover', 'Dress', 'Coat',\n",
        "        'Sandal', 'Shirt', 'Sneaker', 'Bag', 'Ankle boot'\n",
        "    ]\n",
        "\n",
        "# Select one sample image for each class\n",
        "def select_sample_images(images, labels, class_names):\n",
        "    chosen_images = []\n",
        "    seen_labels = set()\n",
        "    for idx, lbl in enumerate(labels):\n",
        "        if lbl not in seen_labels:\n",
        "            chosen_images.append((images[idx], class_names[lbl]))\n",
        "            seen_labels.add(lbl)\n",
        "        if len(chosen_images) == len(class_names):\n",
        "            break\n",
        "    return chosen_images\n",
        "\n",
        "# Plot sample images\n",
        "def plot_sample_images(sample_images):\n",
        "    fig, axes = plt.subplots(2, 5, figsize=(12, 5))\n",
        "    fig.suptitle(\"Sample Images from Fashion MNIST\", fontsize=16)\n",
        "\n",
        "    for ax, (image, label) in zip(axes.flatten(), sample_images):\n",
        "        ax.imshow(image, cmap='gray')\n",
        "        ax.set_title(label)\n",
        "        ax.axis('off')\n",
        "\n",
        "    plt.tight_layout()\n",
        "    plt.show()\n",
        "    return fig\n",
        "\n",
        "# Main Execution\n",
        "class_names = get_class_names()\n",
        "sample_images = select_sample_images(train_images, train_labels, class_names)\n",
        "fig = plot_sample_images(sample_images)\n",
        "\n",
        "# Log the figure to W&B\n",
        "wandb.log({\"Sample MNIST Images\": fig})\n",
        "wandb.finish()"
      ]
    },
    {
      "cell_type": "markdown",
      "source": [
        "#constants"
      ],
      "metadata": {
        "id": "oe0Ry8AWL9Xb"
      }
    },
    {
      "cell_type": "code",
      "execution_count": 4,
      "metadata": {
        "id": "woM9oY91yNp3"
      },
      "outputs": [],
      "source": [
        "import os\n",
        "import numpy as np\n",
        "from keras.datasets import fashion_mnist\n",
        "from keras.datasets import mnist\n",
        "from sklearn.model_selection import train_test_split\n",
        "import wandb\n",
        "ep = 10\n",
        "bs = 30\n",
        "lf = 'cross_entropy'\n",
        "op = 'nadam'\n",
        "lr = 1e-3\n",
        "data_set = 'fashion_mnist'\n",
        "\n",
        "m_beta = 0.9\n",
        "rmsprop_beta = 0.9\n",
        "beta_1 = 0.9\n",
        "beta_2 = 0.999\n",
        "epsilon_ = 1e-3\n",
        "wdc = 0\n",
        "winit = 'Xavier'\n",
        "nhls = 3\n",
        "hls = 128\n",
        "af = 'relu'\n",
        "# constants\n",
        "INPUT_KEY = 'input_size'\n",
        "OUTPUT_KEY = 'output_size'\n",
        "FUN_KEY = \"function\""
      ]
    },
    {
      "cell_type": "code",
      "execution_count": 5,
      "metadata": {
        "id": "dg-rVgsqyPTz"
      },
      "outputs": [],
      "source": [
        "import numpy as np\n",
        "from keras.datasets import fashion_mnist, mnist\n",
        "from sklearn.model_selection import train_test_split\n",
        "\n",
        "def map_data_with_classes(labels):\n",
        "\n",
        "    num_samples = len(labels)\n",
        "    num_classes = max(labels) + 1\n",
        "    one_hot_matrix = np.zeros((num_samples, num_classes))\n",
        "\n",
        "    for idx, label in enumerate(labels):\n",
        "        one_hot_matrix[idx][label] = 1\n",
        "\n",
        "    return one_hot_matrix\n",
        "\n"
      ]
    },
    {
      "cell_type": "code",
      "source": [
        "# Load the dataset based on the chosen option\n",
        "if data_set == 'fashion_mnist':\n",
        "    (train_X, train_Y), (test_X, test_Y) = fashion_mnist.load_data()\n",
        "elif data_set == 'mnist':\n",
        "    (train_X, train_Y), (test_X, test_Y) = mnist.load_data()\n",
        "else:\n",
        "    raise ValueError(\"Invalid dataset choice! Choose 'fashion_mnist' or 'mnist'.\")\n",
        "\n",
        "train_X, test_X = train_X / 255.0, test_X / 255.0\n",
        "\n",
        "needed_y_train, needed_y_test = train_Y, test_Y\n",
        "\n",
        "# Split dataset into training and validation sets\n",
        "trainX, val_X, trainy, valy = train_test_split(train_X, train_Y, test_size=0.1, random_state=40)\n",
        "\n",
        "# Reshape images into 1D feature vectors\n",
        "trainX = trainX.reshape(trainX.shape[0], -1)\n",
        "testX = test_X.reshape(test_X.shape[0], -1)\n",
        "valX = val_X.reshape(val_X.shape[0], -1)\n",
        "\n",
        "# Adjust dataset size to be multiples of 128\n",
        "batch_size = 128\n",
        "trainX, testX, valX = (arr[:(len(arr) // batch_size) * batch_size] for arr in [trainX, testX, valX])\n",
        "trainy, test_Y, valy = (arr[:(len(arr) // batch_size) * batch_size] for arr in [trainy, test_Y, valy])\n",
        "\n",
        "# Convert class labels into one-hot encoded format\n",
        "trainy = map_data_with_classes(trainy)\n",
        "testy = map_data_with_classes(test_Y)\n",
        "valiy = map_data_with_classes(valy)\n",
        "\n",
        "# Determine input and output layer sizes\n",
        "input_layer_size = trainX.shape[1]\n",
        "output_layer_size = trainy.shape[1]"
      ],
      "metadata": {
        "colab": {
          "base_uri": "https://localhost:8080/"
        },
        "id": "9eQgIUDaLm8u",
        "outputId": "92788d1e-a4ff-4a84-e1d5-a9124a4e41bf"
      },
      "execution_count": 6,
      "outputs": [
        {
          "output_type": "stream",
          "name": "stdout",
          "text": [
            "Downloading data from https://storage.googleapis.com/tensorflow/tf-keras-datasets/train-labels-idx1-ubyte.gz\n",
            "\u001b[1m29515/29515\u001b[0m \u001b[32m━━━━━━━━━━━━━━━━━━━━\u001b[0m\u001b[37m\u001b[0m \u001b[1m0s\u001b[0m 0us/step\n",
            "Downloading data from https://storage.googleapis.com/tensorflow/tf-keras-datasets/train-images-idx3-ubyte.gz\n",
            "\u001b[1m26421880/26421880\u001b[0m \u001b[32m━━━━━━━━━━━━━━━━━━━━\u001b[0m\u001b[37m\u001b[0m \u001b[1m0s\u001b[0m 0us/step\n",
            "Downloading data from https://storage.googleapis.com/tensorflow/tf-keras-datasets/t10k-labels-idx1-ubyte.gz\n",
            "\u001b[1m5148/5148\u001b[0m \u001b[32m━━━━━━━━━━━━━━━━━━━━\u001b[0m\u001b[37m\u001b[0m \u001b[1m0s\u001b[0m 0us/step\n",
            "Downloading data from https://storage.googleapis.com/tensorflow/tf-keras-datasets/t10k-images-idx3-ubyte.gz\n",
            "\u001b[1m4422102/4422102\u001b[0m \u001b[32m━━━━━━━━━━━━━━━━━━━━\u001b[0m\u001b[37m\u001b[0m \u001b[1m0s\u001b[0m 0us/step\n"
          ]
        }
      ]
    },
    {
      "cell_type": "markdown",
      "metadata": {
        "id": "jkw3JSs2Er1A"
      },
      "source": [
        "# ACTIVATION FUNCTION"
      ]
    },
    {
      "cell_type": "code",
      "execution_count": 7,
      "metadata": {
        "id": "AsUqQNWJEr1B"
      },
      "outputs": [],
      "source": [
        "import numpy as np\n",
        "\n",
        "def sigmoid(x):\n",
        "    \"\"\"Computes the sigmoid activation function.\"\"\"\n",
        "    return 1.0 / (1.0 + np.exp(-x))\n",
        "\n",
        "def tanh(x):\n",
        "    \"\"\"Computes the hyperbolic tangent (tanh) activation function.\"\"\"\n",
        "    return np.tanh(x)\n",
        "\n",
        "def relu(x):\n",
        "    \"\"\"Computes the ReLU (Rectified Linear Unit) activation function.\"\"\"\n",
        "    return np.maximum(0, x)\n",
        "\n",
        "def softmax(x):\n",
        "\n",
        "    x_shifted = x - np.max(x, axis=1, keepdims=True)  # Improve numerical stability\n",
        "    exp_x = np.exp(x_shifted)\n",
        "    return exp_x / np.sum(exp_x, axis=1, keepdims=True)\n",
        "\n",
        "def cross_entropy(y_hat, y):\n",
        "\n",
        "    epsilon = 1e-9  # Avoid log(0) errors\n",
        "    return -np.mean(np.sum(y * np.log(y_hat + epsilon), axis=1))\n",
        "\n",
        "def mean_squared_error(y_hat, y):\n",
        "\n",
        "    return np.mean((y - y_hat) ** 2)\n",
        "\n",
        "def activation_functions(x, fn_label=\"sigmoid\"):\n",
        "\n",
        "    activations = {\n",
        "        \"relu\": relu,\n",
        "        \"sigmoid\": sigmoid,\n",
        "        \"tanh\": tanh,\n",
        "        \"softmax\": softmax\n",
        "    }\n",
        "    return activations.get(fn_label, lambda x: \"error\")(x)\n",
        "\n",
        "def activation_derivative(x, fn_label=\"sigmoid\"):\n",
        "\n",
        "    derivatives = {\n",
        "        \"relu\": lambda x: np.where(x > 0, 1, 0),\n",
        "        \"tanh\": lambda x: 1.0 - np.tanh(x) ** 2,\n",
        "        \"sigmoid\": lambda x: sigmoid(x) * (1 - sigmoid(x))\n",
        "    }\n",
        "    return derivatives.get(fn_label, lambda x: \"error\")(x)\n"
      ]
    },
    {
      "cell_type": "code",
      "execution_count": 8,
      "metadata": {
        "id": "4seIE9KVyYtS"
      },
      "outputs": [],
      "source": [
        "def initialize_weights_and_biases(layers, number_hidden_layers=1, init_type='random'):\n",
        "\n",
        "    weights, biases = [], []\n",
        "\n",
        "    for i in range(number_hidden_layers + 1):\n",
        "        input_dim, output_dim = layers[i][\"input_size\"], layers[i][\"output_size\"]\n",
        "\n",
        "        if init_type == 'random':\n",
        "            w = np.random.randn(output_dim, input_dim) * 0.01\n",
        "            b = np.zeros((output_dim, 1))\n",
        "        else:\n",
        "            bound = np.sqrt(6 / (input_dim + output_dim))\n",
        "            w = np.random.uniform(-bound, bound, (output_dim, input_dim))\n",
        "            b = np.random.uniform(-bound, bound, (output_dim, 1))\n",
        "\n",
        "\n",
        "        weights.append(w)\n",
        "        biases.append(b)\n",
        "\n",
        "    return weights, biases"
      ]
    },
    {
      "cell_type": "code",
      "execution_count": 9,
      "metadata": {
        "id": "V9O4fxVCyj1k"
      },
      "outputs": [],
      "source": [
        "def train_accuracy(batch_testy, y_predicted, trainy):\n",
        "\n",
        "    correct_count = 0\n",
        "\n",
        "    for i in range(len(batch_testy)):\n",
        "        for j in range(len(batch_testy[i])):\n",
        "            actual_label = np.argmax(batch_testy[i][j])\n",
        "            predicted_label = np.argmax(y_predicted[i][j])\n",
        "\n",
        "            if predicted_label == actual_label:\n",
        "                correct_count += 1\n",
        "\n",
        "    return correct_count / len(trainy)\n"
      ]
    },
    {
      "cell_type": "code",
      "execution_count": 10,
      "metadata": {
        "id": "HtCKIfwDyojW"
      },
      "outputs": [],
      "source": [
        "def test_accuracy(testX, testy, weights, biases, number_hidden_layers, activation_function, output_function):\n",
        "\n",
        "    _, activations = forward_propagation(testX, weights, biases, number_hidden_layers, activation_function, output_function)\n",
        "    y_pred = activations[-1]  # Get final layer activations\n",
        "    y_predicted = np.argmax(y_pred, axis=1)  # Convert probabilities to class indices\n",
        "\n",
        "    # Convert testy to class indices if one-hot encoded\n",
        "    if testy.ndim > 1 and testy.shape[1] > 1:\n",
        "        testy = np.argmax(testy, axis=1)\n",
        "\n",
        "    # Ensure both lists are of the same length\n",
        "    min_len = min(len(y_predicted), len(testy))\n",
        "    return np.mean(y_predicted[:min_len] == testy[:min_len])\n"
      ]
    },
    {
      "cell_type": "code",
      "execution_count": 11,
      "metadata": {
        "id": "OQkX66WIysgN"
      },
      "outputs": [],
      "source": [
        "def calculate_regularizing_term(y, weight_decay_const, number_hidden_layers, weights):\n",
        "\n",
        "    total_weight_sum = sum(np.sum(weight ** 2) for weight in weights)\n",
        "    return (weight_decay_const / (2 * len(y))) * total_weight_sum\n"
      ]
    },
    {
      "cell_type": "markdown",
      "metadata": {
        "id": "f0rmchKtEr1C"
      },
      "source": [
        "# Question-2 Forward Propogation"
      ]
    },
    {
      "cell_type": "code",
      "execution_count": 12,
      "metadata": {
        "id": "oUg8hjxWy3id",
        "colab": {
          "base_uri": "https://localhost:8080/"
        },
        "outputId": "a80c221e-58b7-4e89-d170-11e12c439caa"
      },
      "outputs": [
        {
          "output_type": "stream",
          "name": "stdout",
          "text": [
            "Probability distribution for 10 test samples:\n",
            "[[0.04607625 0.12301395 0.08769111 0.13195683 0.05925127 0.07121774\n",
            "  0.11371135 0.10199177 0.13111489 0.13397485]\n",
            " [0.0523033  0.04645739 0.07578059 0.15073963 0.12064091 0.08463482\n",
            "  0.15583983 0.07703636 0.1380381  0.09852907]\n",
            " [0.04962176 0.08165709 0.10511082 0.1219829  0.08351949 0.08387817\n",
            "  0.11428186 0.08881315 0.13579927 0.13533549]\n",
            " [0.04386434 0.0973892  0.09445235 0.09711673 0.08326172 0.09234284\n",
            "  0.15116948 0.12484775 0.13343449 0.08212109]\n",
            " [0.04671095 0.07486323 0.11248751 0.10626382 0.09167026 0.10479008\n",
            "  0.14725841 0.10746496 0.13637495 0.07211585]\n",
            " [0.05012159 0.09695575 0.11452272 0.09810505 0.08733495 0.07624954\n",
            "  0.13653945 0.10877083 0.12234192 0.10905821]\n",
            " [0.03793907 0.08494913 0.09647896 0.13022376 0.09186645 0.10302093\n",
            "  0.11909537 0.07267891 0.15469114 0.10905628]\n",
            " [0.03564656 0.10291206 0.08773628 0.16885298 0.07663047 0.07766287\n",
            "  0.09706733 0.09859962 0.14662664 0.10826518]\n",
            " [0.0305557  0.06881072 0.07100663 0.13921823 0.05786646 0.10853255\n",
            "  0.14226148 0.12505562 0.20486038 0.05183223]\n",
            " [0.04790719 0.05633379 0.10443259 0.11347778 0.09507075 0.08437154\n",
            "  0.16778587 0.08937942 0.14448512 0.09675594]]\n"
          ]
        }
      ],
      "source": [
        "def forward_propagation(input_x, W, B, hidden_layers, activ_label, op_label):\n",
        "\n",
        "\n",
        "    # Initialize lists for activations and hidden states\n",
        "    a, h = [], []\n",
        "\n",
        "    # Reshape input if necessary\n",
        "    input_x = input_x.reshape(len(input_x), -1)\n",
        "\n",
        "    # Compute activations for first hidden layer\n",
        "    first_activation = np.dot(W[0], input_x.T) + B[0]\n",
        "    a.append(first_activation)\n",
        "    h.append(activation_functions(first_activation, activ_label))\n",
        "\n",
        "    # Forward propagate through hidden layers\n",
        "    for i in range(1, hidden_layers):\n",
        "        layer_activation = np.dot(W[i], h[i-1]) + B[i]\n",
        "        a.append(layer_activation)\n",
        "        h.append(activation_functions(layer_activation, activ_label))\n",
        "\n",
        "    # Compute activations for the output layer\n",
        "    output_activation = np.dot(W[hidden_layers], h[-1]) + B[hidden_layers]\n",
        "    final_output = activation_functions(output_activation.T, op_label).T\n",
        "    a.append(output_activation)\n",
        "    h.append(final_output)\n",
        "\n",
        "    # Ensure all activations are transposed for consistency\n",
        "    a = [activation.T for activation in a]\n",
        "    h = [hidden.T for hidden in h]\n",
        "\n",
        "    return a, h\n",
        "\n",
        "input_layer_size = trainX.shape[1]  # Get number of features from trainX\n",
        "output_layer_size = trainy.shape[1]\n",
        "layershere = [\n",
        "    {\"input_size\": input_layer_size, \"output_size\": 128},\n",
        "    {\"input_size\": 128, \"output_size\": 64},\n",
        "    {\"input_size\": 64, \"output_size\": output_layer_size}\n",
        "]\n",
        "\n",
        "# Initialize weights and biases\n",
        "We, Bai = initialize_weights_and_biases(layershere, number_hidden_layers=2, init_type='Xavier')\n",
        "\n",
        "# Choose a random sample from the test set for forward propagation\n",
        "# sample_input = trainX[:10]  # Selecting 10 test samples\n",
        "\n",
        "# Perform forward propagation\n",
        "act, hi = forward_propagation(trainX[:10], We, Bai, hidden_layers=2, activ_label='relu', op_label='softmax')\n",
        "\n",
        "# Print the probability distribution of the 10 classes\n",
        "print(\"Probability distribution for 10 test samples:\")\n",
        "print(hi[-1])  # h[-1] contains the output layer activations\n"
      ]
    },
    {
      "cell_type": "code",
      "execution_count": 13,
      "metadata": {
        "id": "BmFElJbcy0Xm"
      },
      "outputs": [],
      "source": [
        "def val_loss(valX, valy, weights, biases, number_hidden_layers, activation_function, output_function, loss_function):\n",
        "\n",
        "\n",
        "    # Perform forward propagation\n",
        "    _, h = forward_propagation(valX, weights, biases, number_hidden_layers, activation_function, output_function)\n",
        "\n",
        "    # Retrieve the predicted values\n",
        "    y_pred = h[-1]\n",
        "\n",
        "    # Compute loss based on the chosen function\n",
        "    if loss_function == 'cross_entropy':\n",
        "        error = cross_entropy(y_pred, valy)\n",
        "    elif loss_function == 'mean_squared_error':\n",
        "        error = mean_squared_error(y_pred, valy)\n",
        "    else:\n",
        "        raise ValueError(\"Invalid loss function. Choose 'cross_entropy' or 'mean_squared_error'.\")\n",
        "\n",
        "    return error\n"
      ]
    },
    {
      "cell_type": "markdown",
      "source": [
        "#QUES 3"
      ],
      "metadata": {
        "id": "6LpXRgwUMSer"
      }
    },
    {
      "cell_type": "code",
      "execution_count": 14,
      "metadata": {
        "id": "yVOz85vEy_cP"
      },
      "outputs": [],
      "source": [
        "import numpy as np\n",
        "\n",
        "def backward_propagation(batch_trainy, batch_trainX, y_hat, activations, hidden_states, weights, num_hidden_layers, derivative_function='sigmoid'):\n",
        "\n",
        "\n",
        "    weight_gradients, bias_gradients, activation_gradients, hidden_gradients = {}, {}, {}, {}\n",
        "\n",
        "    # Reshape batch_trainy to ensure correct dimensions\n",
        "    batch_trainy = batch_trainy.reshape(batch_trainy.shape[0], batch_trainy.shape[1])\n",
        "\n",
        "    epsilon = 1e-8  # Small value to prevent division errors\n",
        "    last_activation_key = f'a{num_hidden_layers + 1}'\n",
        "    last_hidden_key = f'h{num_hidden_layers + 1}'\n",
        "\n",
        "    activation_gradients[last_activation_key] = -(batch_trainy - y_hat)\n",
        "    hidden_gradients[last_hidden_key] = -(batch_trainy / (y_hat + epsilon))\n",
        "\n",
        "    num_samples = len(batch_trainX)\n",
        "\n",
        "    # Backpropagation from output layer to first hidden layer\n",
        "    for layer in range(num_hidden_layers + 1, 1, -1):\n",
        "        weight_key = f'W{layer}'\n",
        "        bias_key = f'b{layer}'\n",
        "        activation_key = f'a{layer}'\n",
        "        prev_activation_key = f'a{layer - 1}'\n",
        "        prev_hidden_key = f'h{layer - 1}'\n",
        "\n",
        "        # Compute weight gradient\n",
        "        weight_gradients[weight_key] = np.dot(activation_gradients[activation_key].T, hidden_states[layer - 2])\n",
        "\n",
        "        # Apply L2 regularization\n",
        "        weight_gradients[weight_key] += (wdc * weights[layer - 1])\n",
        "        weight_gradients[weight_key] /= num_samples\n",
        "\n",
        "        # Compute bias gradient\n",
        "        bias_gradients[bias_key] = activation_gradients[activation_key]\n",
        "\n",
        "        # Compute hidden gradients and activation gradients\n",
        "        hidden_gradients[prev_hidden_key] = np.dot(weights[layer - 1].T, activation_gradients[activation_key].T)\n",
        "        activation_gradients[prev_activation_key] = np.multiply(hidden_gradients[prev_hidden_key], activation_derivative(activations[layer - 2].T, derivative_function))\n",
        "        activation_gradients[prev_activation_key] = activation_gradients[prev_activation_key].T\n",
        "\n",
        "    # Compute gradients for the first layer (no hidden gradients needed)\n",
        "    weight_gradients['W1'] = np.dot(activation_gradients['a1'].T, batch_trainX)\n",
        "    bias_gradients['b1'] = activation_gradients['a1']\n",
        "\n",
        "    # Normalize biases across samples\n",
        "    for layer in range(1, len(bias_gradients) + 1):\n",
        "        bias_key = f'b{layer}'\n",
        "        bias_gradients[bias_key] = np.mean(bias_gradients[bias_key], axis=0).reshape(-1, 1)\n",
        "\n",
        "    return weight_gradients, bias_gradients\n"
      ]
    },
    {
      "cell_type": "markdown",
      "source": [
        "#QUES 4-6"
      ],
      "metadata": {
        "id": "_JWik6EgMavA"
      }
    },
    {
      "cell_type": "code",
      "execution_count": 15,
      "metadata": {
        "id": "Mhcgh-6azEMu"
      },
      "outputs": [],
      "source": [
        "def gradient_descent(trainX, trainy, number_hidden_layers=1, hidden_layer_size=4, eta=0.1, initial_weights='random', activation_function='sigmoid', epochs=1, output_function='softmax', mini_batch_size=4, loss_function='cross_entropy', weight_decay_const=0, wandb_flag=False):\n",
        "    INPUT_KEY = 'input_size'\n",
        "    OUTPUT_KEY = 'output_size'\n",
        "    FUN_KEY = \"function\"\n",
        "    layers = [{INPUT_KEY: input_layer_size, OUTPUT_KEY: hidden_layer_size, FUN_KEY: activation_function}]\n",
        "\n",
        "    for _ in range(number_hidden_layers - 1):\n",
        "        layers.append({INPUT_KEY: hidden_layer_size, OUTPUT_KEY: hidden_layer_size, FUN_KEY: activation_function})\n",
        "\n",
        "    layers.append({INPUT_KEY: hidden_layer_size, OUTPUT_KEY: output_layer_size, FUN_KEY: output_function})\n",
        "\n",
        "    # Initialize model parameters\n",
        "    weights, biases = initialize_weights_and_biases(layers, number_hidden_layers, initial_weights)\n",
        "\n",
        "    x_total = len(trainX)\n",
        "    num_batches = x_total // mini_batch_size\n",
        "    mini_batch_trainX = np.array_split(trainX, num_batches)\n",
        "    mini_batch_trainy = np.array_split(trainy, num_batches)\n",
        "\n",
        "    train_loss_list, val_loss_list, train_acc_list, val_acc_list = [], [], [], []\n",
        "    h = None\n",
        "\n",
        "    for epoch in range(epochs):\n",
        "        total_train_loss = 0\n",
        "        predictions = []\n",
        "\n",
        "        for batch_idx in range(len(mini_batch_trainX)):\n",
        "            activations, h = forward_propagation(mini_batch_trainX[batch_idx], weights, biases, number_hidden_layers, activation_function, output_function)\n",
        "            predictions.append(h[-1])\n",
        "\n",
        "            if loss_function == 'cross_entropy':\n",
        "                total_train_loss += cross_entropy(h[-1], mini_batch_trainy[batch_idx])\n",
        "            elif loss_function == 'mean_squared_error':\n",
        "                total_train_loss += mean_squared_error(h[-1], mini_batch_trainy[batch_idx])\n",
        "            else:\n",
        "                raise ValueError('Invalid loss function specified')\n",
        "\n",
        "            del_W, del_b = backward_propagation(mini_batch_trainy[batch_idx], mini_batch_trainX[batch_idx], h[-1], activations, h, weights, number_hidden_layers, activation_function)\n",
        "\n",
        "            for idx in range(len(weights)):\n",
        "                weights[idx] -= eta * del_W[f'W{idx + 1}']\n",
        "                biases[idx] -= eta * del_b[f'b{idx + 1}']\n",
        "\n",
        "        reg_train_loss = calculate_regularizing_term(trainy, weight_decay_const, number_hidden_layers, weights)\n",
        "        final_train_loss = total_train_loss / num_batches + reg_train_loss\n",
        "\n",
        "        val_loss_value = val_loss(valX, valiy, weights, biases, number_hidden_layers, activation_function, output_function, loss_function)\n",
        "        reg_val_loss = calculate_regularizing_term(valiy, weight_decay_const, number_hidden_layers, weights)\n",
        "        final_val_loss = val_loss_value + reg_val_loss\n",
        "\n",
        "        print(f\"Epoch {epoch + 1}: Validation Loss = {final_val_loss}\")\n",
        "\n",
        "        train_loss_list.append(final_train_loss)\n",
        "        val_loss_list.append(final_val_loss)\n",
        "\n",
        "        train_acc = train_accuracy(mini_batch_trainy, predictions, trainy)\n",
        "        train_acc_list.append(train_acc)\n",
        "\n",
        "        val_acc = test_accuracy(valX, valy, weights, biases, number_hidden_layers, activation_function, output_function)\n",
        "        val_acc_list.append(val_acc)\n",
        "\n",
        "        if wandb_flag:\n",
        "            wandb.log({\"loss\": final_train_loss, \"val_loss\": final_val_loss, \"accuracy\": train_acc, \"val_accuracy\": val_acc, \"epoch\": epoch})\n",
        "\n",
        "    return h[-1], weights, biases, [train_loss_list, val_loss_list, train_acc_list, val_acc_list]"
      ]
    },
    {
      "cell_type": "code",
      "execution_count": 16,
      "metadata": {
        "id": "8K1wq6IIzJN_"
      },
      "outputs": [],
      "source": [
        "def momentum_based_gradient_descent(trainX, trainy, number_hidden_layers=1, hidden_layer_size=4, eta=0.1, initial_weights='random', activation_function='sigmoid', epochs=1, output_function='softmax', mini_batch_size=4, loss_function='cross_entropy', weight_decay_const=0, wandb_flag=False, m_beta=0.9):\n",
        "\n",
        "    # Define layer configurations\n",
        "    layers = []\n",
        "    input_layer = {'input_size': trainX.shape[1], 'output_size': hidden_layer_size, 'activation': activation_function}\n",
        "    layers.append(input_layer)\n",
        "\n",
        "    for _ in range(number_hidden_layers - 1):\n",
        "        hidden_layer = {'input_size': hidden_layer_size, 'output_size': hidden_layer_size, 'activation': activation_function}\n",
        "        layers.append(hidden_layer)\n",
        "\n",
        "    output_layer = {'input_size': hidden_layer_size, 'output_size': trainy.shape[1], 'activation': output_function}\n",
        "    layers.append(output_layer)\n",
        "\n",
        "    # Initialize weights and biases\n",
        "    weights, biases = initialize_weights_and_biases(layers,number_hidden_layers, initial_weights)\n",
        "\n",
        "    # Split data into mini-batches\n",
        "    num_batches = len(trainX) // mini_batch_size\n",
        "    mini_batches_X = np.array_split(trainX, num_batches)\n",
        "    mini_batches_y = np.array_split(trainy, num_batches)\n",
        "\n",
        "    # Initialize momentum terms\n",
        "    momentum_weights = [np.zeros_like(w) for w in weights]\n",
        "    momentum_biases = [np.zeros_like(b) for b in biases]\n",
        "\n",
        "    # Lists to store training and validation metrics\n",
        "    train_losses, val_losses, train_accuracies, val_accuracies = [], [], [], []\n",
        "\n",
        "    # Training loop\n",
        "    for epoch in range(epochs):\n",
        "        epoch_loss = 0\n",
        "        predictions = []\n",
        "\n",
        "        for batch_X, batch_y in zip(mini_batches_X, mini_batches_y):\n",
        "            # Forward propagation\n",
        "            activations, hidden_states = forward_propagation(batch_X, weights, biases, number_hidden_layers, activation_function, output_function)\n",
        "            predictions.append(hidden_states[-1])\n",
        "\n",
        "            # Compute loss\n",
        "            if loss_function == 'cross_entropy':\n",
        "                batch_loss = cross_entropy(hidden_states[-1], batch_y)\n",
        "            elif loss_function == 'mean_squared_error':\n",
        "                batch_loss = mean_squared_error(hidden_states[-1], batch_y)\n",
        "            else:\n",
        "                raise ValueError(\"Unsupported loss function\")\n",
        "\n",
        "            epoch_loss += batch_loss\n",
        "\n",
        "            # Backward propagation\n",
        "            grad_weights, grad_biases = backward_propagation(batch_y, batch_X, hidden_states[-1], activations, hidden_states, weights, number_hidden_layers, activation_function)\n",
        "\n",
        "            # Update weights and biases with momentum\n",
        "            for i in range(len(weights)):\n",
        "                # Access gradients using keys (e.g., 'W1', 'b1', 'W2', 'b2', etc.)\n",
        "                keyW = 'W' + str(i + 1)\n",
        "                keyB = 'b' + str(i + 1)\n",
        "\n",
        "                # Momentum update for weights\n",
        "                momentum_weights[i] = momentum_weights[i] * m_beta + grad_weights[keyW] * eta\n",
        "                weights[i] -= momentum_weights[i]\n",
        "\n",
        "                # Momentum update for biases\n",
        "                momentum_biases[i] = momentum_biases[i] * m_beta + grad_biases[keyB] * eta\n",
        "                biases[i] -= momentum_biases[i]\n",
        "\n",
        "        # Calculate training accuracy and loss\n",
        "        train_acc = train_accuracy(mini_batches_y,predictions,trainy)\n",
        "        reg_term_train = calculate_regularizing_term(trainy,weight_decay_const,number_hidden_layers ,weights)\n",
        "        avg_train_loss = epoch_loss / num_batches + reg_term_train\n",
        "\n",
        "        # Calculate validation accuracy and loss\n",
        "        val_acc = test_accuracy(valX, valiy, weights, biases, number_hidden_layers, activation_function, output_function)\n",
        "        val_loss_value = val_loss(valX, valiy, weights, biases, number_hidden_layers, activation_function, output_function, loss_function)\n",
        "        reg_term_val = calculate_regularizing_term(valiy,weight_decay_const ,number_hidden_layers, weights)\n",
        "        val_loss_value += reg_term_val\n",
        "\n",
        "        # Store metrics\n",
        "        train_losses.append(avg_train_loss)\n",
        "        val_losses.append(val_loss_value)\n",
        "        train_accuracies.append(train_acc)\n",
        "        val_accuracies.append(val_acc)\n",
        "\n",
        "        # Log metrics if wandb is enabled\n",
        "        if wandb_flag:\n",
        "            wandb.log({\n",
        "                \"loss\": avg_train_loss,\n",
        "                \"val_loss\": val_loss_value,\n",
        "                \"accuracy\": train_acc,\n",
        "                \"val_accuracy\": val_acc,\n",
        "                \"epoch\": epoch\n",
        "            })\n",
        "\n",
        "        print(f\"Epoch: {epoch + 1}, Validation Loss: {val_loss_value}\")\n",
        "\n",
        "    # Return final predictions, weights, biases, and metrics\n",
        "    return hidden_states[-1], weights, biases, [train_losses, val_losses, train_accuracies, val_accuracies]\n",
        "\n",
        "\n",
        "\n"
      ]
    },
    {
      "cell_type": "code",
      "source": [
        "def rmsprop(trainX, trainy, number_hidden_layers=1, hidden_layer_size=4, eta=0.1, initial_weights='random',\n",
        "            activation_function='sigmoid', epochs=1, output_function='softmax', mini_batch_size=4,\n",
        "            loss_function='cross_entropy', weight_decay_const=0, wandb_flag=False):\n",
        "\n",
        "    layers = [{INPUT_KEY: input_layer_size, OUTPUT_KEY: hidden_layer_size, FUN_KEY: activation_function}]\n",
        "    layers.extend([{INPUT_KEY: hidden_layer_size, OUTPUT_KEY: hidden_layer_size, FUN_KEY: activation_function}\n",
        "                   for _ in range(number_hidden_layers - 1)])\n",
        "    layers.append({INPUT_KEY: hidden_layer_size, OUTPUT_KEY: output_layer_size, FUN_KEY: output_function})\n",
        "\n",
        "    # Initialize weights and biases\n",
        "    weights, biases = initialize_weights_and_biases(layers, number_hidden_layers, initial_weights)\n",
        "\n",
        "    # Determine batch processing details\n",
        "    num_samples = len(trainX)\n",
        "    num_batches = num_samples // mini_batch_size\n",
        "    mini_batches_X = np.array_split(trainX, num_batches)\n",
        "    mini_batches_y = np.array_split(trainy, num_batches)\n",
        "\n",
        "    # RMSProp accumulators\n",
        "    v_weights = [np.zeros_like(w) for w in weights]\n",
        "    v_biases = [np.zeros_like(b) for b in biases]\n",
        "\n",
        "    train_loss_list, val_loss_list, train_acc_list, val_acc_list = [], [], [], []\n",
        "    for epoch in range(epochs):\n",
        "        epoch_loss = 0\n",
        "        y_preds = []\n",
        "\n",
        "        for batch_X, batch_y in zip(mini_batches_X, mini_batches_y):\n",
        "            activations, h_states = forward_propagation(batch_X, weights, biases, number_hidden_layers, activation_function, output_function)\n",
        "            y_preds.append(h_states[-1])\n",
        "\n",
        "            # Compute loss\n",
        "            epoch_loss += cross_entropy(h_states[-1], batch_y) if loss_function == 'cross_entropy' else mean_squared_error(h_states[-1], batch_y)\n",
        "\n",
        "            # Backpropagation\n",
        "            del_W, del_b = backward_propagation(batch_y, batch_X, h_states[-1], activations, h_states, weights, number_hidden_layers, activation_function)\n",
        "\n",
        "            # RMSProp weight update\n",
        "            for i in range(len(weights)):\n",
        "                v_weights[i] = rmsprop_beta * v_weights[i] + (1 - rmsprop_beta) * (del_W[f'W{i+1}'] ** 2)\n",
        "                v_biases[i] = rmsprop_beta * v_biases[i] + (1 - rmsprop_beta) * (del_b[f'b{i+1}'] ** 2)\n",
        "\n",
        "                weights[i] -= eta * del_W[f'W{i+1}'] / (np.sqrt(v_weights[i] + epsilon_))\n",
        "                biases[i] -= eta * del_b[f'b{i+1}'] / (np.sqrt(v_biases[i] + epsilon_))\n",
        "\n",
        "        # Compute loss & accuracy\n",
        "        train_loss = (epoch_loss / num_batches) + calculate_regularizing_term(trainy, weight_decay_const, number_hidden_layers, weights)\n",
        "        val_loss_value = val_loss(valX, valiy, weights, biases, number_hidden_layers, activation_function, output_function, loss_function)\n",
        "        val_loss_value += calculate_regularizing_term(valiy, weight_decay_const, number_hidden_layers, weights)\n",
        "\n",
        "        print(f\"Epoch {epoch+1}: Validation Loss = {val_loss_value:.4f}\")\n",
        "\n",
        "        # Accuracy Calculation\n",
        "        train_acc_list.append(train_accuracy(mini_batches_y, y_preds, trainy))\n",
        "        val_acc_list.append(test_accuracy(valX, valy, weights, biases, number_hidden_layers, activation_function, output_function))\n",
        "        train_loss_list.append(train_loss)\n",
        "        val_loss_list.append(val_loss_value)\n",
        "\n",
        "        if wandb_flag:\n",
        "            wandb.log({\"loss\": train_loss, \"val_loss\": val_loss_value, \"accuracy\": train_acc_list[-1], \"val_accuracy\": val_acc_list[-1], \"epoch\": epoch+1})\n",
        "\n",
        "    return h_states[-1], weights, biases, [train_loss_list, val_loss_list, train_acc_list, val_acc_list]\n",
        "\n"
      ],
      "metadata": {
        "id": "f2GGGlTHMrsR"
      },
      "execution_count": 17,
      "outputs": []
    },
    {
      "cell_type": "code",
      "source": [
        "def nestrov_accelerated_gradient_descent(trainX, trainy, number_hidden_layers=1, hidden_layer_size=4, eta=0.1,\n",
        "                                         initial_weights='random', activation_function='sigmoid', epochs=1,\n",
        "                                         output_function='softmax', mini_batch_size=4, loss_function='cross_entropy',\n",
        "                                         weight_decay_const=0, wandb_flag=False):\n",
        "    \"\"\"\n",
        "    Implements Nesterov Accelerated Gradient Descent (NAG) for neural network optimization.\n",
        "    \"\"\"\n",
        "    # Define network layers dynamically\n",
        "    layers = [{INPUT_KEY: input_layer_size, OUTPUT_KEY: hidden_layer_size, FUN_KEY: activation_function}]\n",
        "    layers.extend([{INPUT_KEY: hidden_layer_size, OUTPUT_KEY: hidden_layer_size, FUN_KEY: activation_function}\n",
        "                   for _ in range(number_hidden_layers - 1)])\n",
        "    layers.append({INPUT_KEY: hidden_layer_size, OUTPUT_KEY: output_layer_size, FUN_KEY: output_function})\n",
        "\n",
        "    # Initialize weights and biases\n",
        "    weights, biases = initialize_weights_and_biases(layers, number_hidden_layers, initial_weights)\n",
        "\n",
        "    # Determine batch processing details\n",
        "    num_samples = len(trainX)\n",
        "    num_batches = num_samples // mini_batch_size\n",
        "    mini_batches_X = np.array_split(trainX, num_batches)\n",
        "    mini_batches_y = np.array_split(trainy, num_batches)\n",
        "\n",
        "    # Initialize past gradients for momentum update\n",
        "    momentum_weights = [np.zeros_like(w) for w in weights]\n",
        "    momentum_biases = [np.zeros_like(b) for b in biases]\n",
        "\n",
        "    # Lists to track training progress\n",
        "    loss_train, loss_val, acc_train, acc_val = [], [], [], []\n",
        "\n",
        "    for epoch in range(epochs):\n",
        "        total_loss = 0\n",
        "        y_predictions = []\n",
        "\n",
        "        for batch_X, batch_y in zip(mini_batches_X, mini_batches_y):\n",
        "            # Compute lookahead weights and biases\n",
        "            lookahead_W = [weights[i] - (m_beta * momentum_weights[i]) for i in range(len(weights))]\n",
        "            lookahead_B = [biases[i] - (m_beta * momentum_biases[i]) for i in range(len(biases))]\n",
        "\n",
        "            activations, h_states = forward_propagation(batch_X, lookahead_W, lookahead_B, number_hidden_layers, activation_function, output_function)\n",
        "            y_predictions.append(h_states[-1])\n",
        "\n",
        "            # Compute loss\n",
        "            total_loss += cross_entropy(h_states[-1], batch_y) if loss_function == 'cross_entropy' else mean_squared_error(h_states[-1], batch_y)\n",
        "\n",
        "            # Compute gradients\n",
        "            grad_W, grad_B = backward_propagation(batch_y, batch_X, h_states[-1], activations, h_states, lookahead_W, number_hidden_layers, activation_function)\n",
        "\n",
        "            # Apply Nesterov update\n",
        "            for i in range(len(weights)):\n",
        "                momentum_weights[i] = (m_beta * momentum_weights[i]) + (eta * grad_W[f'W{i+1}'])\n",
        "                momentum_biases[i] = (m_beta * momentum_biases[i]) + (eta * grad_B[f'b{i+1}'])\n",
        "\n",
        "                weights[i] -= momentum_weights[i]\n",
        "                biases[i] -= momentum_biases[i]\n",
        "\n",
        "        # Compute regularized loss\n",
        "        reg_term_train = calculate_regularizing_term(trainy, weight_decay_const, number_hidden_layers, weights)\n",
        "        avg_train_loss = (total_loss / num_batches) + reg_term_train\n",
        "\n",
        "        # Validation loss calculation\n",
        "        val_loss_value = val_loss(valX, valiy, weights, biases, number_hidden_layers, activation_function, output_function, loss_function)\n",
        "        val_loss_value += calculate_regularizing_term(valiy, weight_decay_const, number_hidden_layers, weights)\n",
        "\n",
        "        print(f\"Epoch {epoch + 1}: Validation Loss = {val_loss_value:.4f}\")\n",
        "\n",
        "        # Compute accuracy metrics\n",
        "        train_acc = train_accuracy(mini_batches_y, y_predictions, trainy)\n",
        "        val_acc = test_accuracy(valX, valy, weights, biases, number_hidden_layers, activation_function, output_function)\n",
        "\n",
        "        # Store metrics\n",
        "        loss_train.append(avg_train_loss)\n",
        "        loss_val.append(val_loss_value)\n",
        "        acc_train.append(train_acc)\n",
        "        acc_val.append(val_acc)\n",
        "\n",
        "        # Log metrics if W&B logging is enabled\n",
        "        if wandb_flag:\n",
        "            wandb.log({\"loss\": avg_train_loss, \"val_loss\": val_loss_value, \"accuracy\": train_acc, \"val_accuracy\": val_acc, \"epoch\": epoch + 1})\n",
        "\n",
        "    return h_states[-1], weights, biases, [loss_train, loss_val, acc_train, acc_val]\n"
      ],
      "metadata": {
        "id": "ityBXn5zMk6X"
      },
      "execution_count": 18,
      "outputs": []
    },
    {
      "cell_type": "code",
      "source": [
        "def adam(trainX, trainy, number_hidden_layers=1, hidden_layer_size=4, eta=0.1, initial_weights='random',\n",
        "         activation_function='sigmoid', epochs=1, output_function='softmax', mini_batch_size=4,\n",
        "         loss_function='cross_entropy', weight_decay_const=0, wandb_flag=False):\n",
        "\n",
        "    layers = [{INPUT_KEY: input_layer_size, OUTPUT_KEY: hidden_layer_size, FUN_KEY: activation_function}]\n",
        "    layers.extend([{INPUT_KEY: hidden_layer_size, OUTPUT_KEY: hidden_layer_size, FUN_KEY: activation_function}\n",
        "                   for _ in range(number_hidden_layers - 1)])\n",
        "    layers.append({INPUT_KEY: hidden_layer_size, OUTPUT_KEY: output_layer_size, FUN_KEY: output_function})\n",
        "\n",
        "    # Initialize weights and biases\n",
        "    weights, biases = initialize_weights_and_biases(layers, number_hidden_layers, initial_weights)\n",
        "\n",
        "    # Determine batch processing details\n",
        "    num_samples = len(trainX)\n",
        "    num_batches = num_samples // mini_batch_size\n",
        "    mini_batches_X = np.array_split(trainX, num_batches)\n",
        "    mini_batches_y = np.array_split(trainy, num_batches)\n",
        "\n",
        "    # Adam accumulators\n",
        "    v_weights, v_biases = [np.zeros_like(w) for w in weights], [np.zeros_like(b) for b in biases]\n",
        "    m_weights, m_biases = [np.zeros_like(w) for w in weights], [np.zeros_like(b) for b in biases]\n",
        "\n",
        "    train_loss_list, val_loss_list, train_acc_list, val_acc_list = [], [], [], []\n",
        "    time_step = 0\n",
        "\n",
        "    for epoch in range(epochs):\n",
        "        epoch_loss = 0\n",
        "        y_preds = []\n",
        "\n",
        "        for batch_X, batch_y in zip(mini_batches_X,mini_batches_y):\n",
        "            time_step += 1\n",
        "            activations, h_states = forward_propagation(batch_X, weights, biases, number_hidden_layers, activation_function, output_function)\n",
        "            y_preds.append(h_states[-1])\n",
        "\n",
        "            # Compute loss\n",
        "            epoch_loss += cross_entropy(h_states[-1], batch_y) if loss_function == 'cross_entropy' else mean_squared_error(h_states[-1], batch_y)\n",
        "\n",
        "            # Backpropagation\n",
        "            del_W, del_b = backward_propagation(batch_y, batch_X, h_states[-1], activations, h_states, weights, number_hidden_layers, activation_function)\n",
        "\n",
        "            # Adam weight update\n",
        "            for i in range(len(weights)):\n",
        "                m_weights[i] = beta_1 * m_weights[i] + (1 - beta_1) * del_W[f'W{i+1}']\n",
        "                m_biases[i] = beta_1 * m_biases[i] + (1 - beta_1) * del_b[f'b{i+1}']\n",
        "\n",
        "                v_weights[i] = beta_2 * v_weights[i] + (1 - beta_2) * (del_W[f'W{i+1}'] ** 2)\n",
        "                v_biases[i] = beta_2 * v_biases[i] + (1 - beta_2) * (del_b[f'b{i+1}'] ** 2)\n",
        "\n",
        "                # Bias correction\n",
        "                m_hat_w, v_hat_w = m_weights[i] / (1 - beta_1 ** time_step), v_weights[i] / (1 - beta_2 ** time_step)\n",
        "                m_hat_b, v_hat_b = m_biases[i] / (1 - beta_1 ** time_step), v_biases[i] / (1 - beta_2 ** time_step)\n",
        "\n",
        "                weights[i] -= eta * m_hat_w / (np.sqrt(v_hat_w) + epsilon_)\n",
        "                biases[i] -= eta * m_hat_b / (np.sqrt(v_hat_b) + epsilon_)\n",
        "\n",
        "        # Compute loss & accuracy\n",
        "        train_loss = (epoch_loss / num_batches) + calculate_regularizing_term(trainy, weight_decay_const, number_hidden_layers, weights)\n",
        "        val_loss_value = val_loss(valX, valiy, weights, biases, number_hidden_layers, activation_function, output_function, loss_function)\n",
        "        val_loss_value += calculate_regularizing_term(valiy, weight_decay_const, number_hidden_layers, weights)\n",
        "\n",
        "        print(f\"Epoch {epoch+1}: Validation Loss = {val_loss_value:.4f}\")\n",
        "\n",
        "        # Store accuracy\n",
        "        train_acc_list.append(train_accuracy(mini_batches_y, y_preds, trainy))\n",
        "        val_acc_list.append(test_accuracy(valX, valy, weights, biases, number_hidden_layers, activation_function, output_function))\n",
        "\n",
        "        if wandb_flag:\n",
        "            wandb.log({\"loss\": train_loss, \"val_loss\": val_loss_value, \"accuracy\": train_acc_list[-1], \"val_accuracy\": val_acc_list[-1], \"epoch\": epoch+1})\n",
        "\n",
        "    return h_states[-1], weights, biases, [train_loss_list, val_loss_list, train_acc_list, val_acc_list]\n"
      ],
      "metadata": {
        "id": "9o9BAipvMx9p"
      },
      "execution_count": 19,
      "outputs": []
    },
    {
      "cell_type": "code",
      "source": [
        "def nadam(trainX, trainy, number_hidden_layers=1, hidden_layer_size=4, eta=0.1, initial_weights='random',\n",
        "          activation_function='sigmoid', epochs=1, output_function='softmax', mini_batch_size=4,\n",
        "          loss_function='cross_entropy', weight_decay_const=0, wandb_flag=False):\n",
        "\n",
        "    # Define network layers dynamically\n",
        "    layers = [{INPUT_KEY: input_layer_size, OUTPUT_KEY: hidden_layer_size, FUN_KEY: activation_function}]\n",
        "    layers.extend([{INPUT_KEY: hidden_layer_size, OUTPUT_KEY: hidden_layer_size, FUN_KEY: activation_function}\n",
        "                   for _ in range(number_hidden_layers - 1)])\n",
        "    layers.append({INPUT_KEY: hidden_layer_size, OUTPUT_KEY: output_layer_size, FUN_KEY: output_function})\n",
        "\n",
        "    # Initialize weights and biases\n",
        "    weights, biases = initialize_weights_and_biases(layers, number_hidden_layers, initial_weights)\n",
        "\n",
        "    # Determine batch processing details\n",
        "    num_samples = len(trainX)\n",
        "    num_batches = num_samples // mini_batch_size\n",
        "    mini_batches_X = np.array_split(trainX, num_batches)\n",
        "    mini_batches_y = np.array_split(trainy, num_batches)\n",
        "\n",
        "    # Initialize moving averages for Nadam\n",
        "    v_weights, v_biases = [np.zeros_like(w) for w in weights], [np.zeros_like(b) for b in biases]\n",
        "    m_weights, m_biases = [np.zeros_like(w) for w in weights], [np.zeros_like(b) for b in biases]\n",
        "\n",
        "    train_loss_list, val_loss_list, train_acc_list, val_acc_list = [], [], [], []\n",
        "    beta_1, beta_2, epsilon = 0.9, 0.999, 1e-3\n",
        "    t = 0  # Step counter\n",
        "\n",
        "    for epoch in range(epochs):\n",
        "        total_train_loss = 0\n",
        "        y_preds = []\n",
        "\n",
        "        for X_batch, y_batch in zip(mini_batches_X,mini_batches_y):\n",
        "            t += 1  # Increment time step\n",
        "\n",
        "            # Compute bias-corrected moving averages\n",
        "            v_hat_weights = [v / (1 - beta_2 ** t) for v in v_weights]\n",
        "            v_hat_biases = [v / (1 - beta_2 ** t) for v in v_biases]\n",
        "\n",
        "            m_hat_weights = [m / (1 - beta_1 ** t) for m in m_weights]\n",
        "            m_hat_biases = [m / (1 - beta_1 ** t) for m in m_biases]\n",
        "\n",
        "            # Compute \"lookahead\" weights & biases\n",
        "            lookahead_weights = [weights[i] - (m_hat_weights[i] / np.sqrt(v_hat_weights[i] + epsilon)) * eta\n",
        "                                 for i in range(len(weights))]\n",
        "            lookahead_biases = [biases[i] - (m_hat_biases[i] / np.sqrt(v_hat_biases[i] + epsilon)) * eta\n",
        "                                for i in range(len(biases))]\n",
        "\n",
        "            # Forward propagation\n",
        "            activations, outputs = forward_propagation(X_batch, lookahead_weights, lookahead_biases, number_hidden_layers, activation_function, output_function)\n",
        "            y_preds.append(outputs[-1])\n",
        "\n",
        "            # Compute loss\n",
        "            loss_func = cross_entropy if loss_function == 'cross_entropy' else mean_squared_error\n",
        "            total_train_loss += loss_func(outputs[-1], y_batch)\n",
        "\n",
        "            # Backpropagation\n",
        "            grad_W, grad_B = backward_propagation(y_batch, X_batch, outputs[-1], activations, outputs, lookahead_weights, number_hidden_layers, activation_function)\n",
        "\n",
        "            # Update moving averages & apply Nadam update rule\n",
        "            for i in range(len(weights)):\n",
        "                v_weights[i] = beta_2 * v_weights[i] + (1 - beta_2) * (grad_W[f'W{i+1}'] ** 2)\n",
        "                v_biases[i] = beta_2 * v_biases[i] + (1 - beta_2) * (grad_B[f'b{i+1}'] ** 2)\n",
        "\n",
        "                m_weights[i] = beta_1 * m_weights[i] + (1 - beta_1) * grad_W[f'W{i+1}']\n",
        "                m_biases[i] = beta_1 * m_biases[i] + (1 - beta_1) * grad_B[f'b{i+1}']\n",
        "\n",
        "                v_hat_w, v_hat_b = v_weights[i] / (1 - beta_2 ** t), v_biases[i] / (1 - beta_2 ** t)\n",
        "                m_hat_w, m_hat_b = m_weights[i] / (1 - beta_1 ** t), m_biases[i] / (1 - beta_1 ** t)\n",
        "\n",
        "                weights[i] -= (m_hat_w * eta) / np.sqrt(v_hat_w + epsilon)\n",
        "                biases[i] -= (m_hat_b * eta) / np.sqrt(v_hat_b + epsilon)\n",
        "\n",
        "        # Compute losses with regularization\n",
        "        reg_train = calculate_regularizing_term(trainy, weight_decay_const, number_hidden_layers, weights)\n",
        "        avg_train_loss = total_train_loss / num_batches + reg_train\n",
        "        val_loss_value = val_loss(valX, valiy, weights, biases, number_hidden_layers, activation_function, output_function, loss_function)\n",
        "        val_loss_value += calculate_regularizing_term(valiy, weight_decay_const, number_hidden_layers, weights)\n",
        "\n",
        "        print(f\"Epoch {epoch + 1}: Validation Loss = {val_loss_value:.4f}\")\n",
        "\n",
        "        # Compute accuracy\n",
        "        train_acc_list.append(train_accuracy(mini_batches_y, y_preds, trainy))\n",
        "        val_acc_list.append(test_accuracy(valX, valy, weights, biases, number_hidden_layers, activation_function, output_function))\n",
        "\n",
        "        # Store metrics\n",
        "        train_loss_list.append(avg_train_loss)\n",
        "        val_loss_list.append(val_loss_value)\n",
        "\n",
        "        if wandb_flag:\n",
        "            wandb.log({\n",
        "                \"loss\": avg_train_loss,\n",
        "                \"val_loss\": val_loss_value,\n",
        "                \"accuracy\": train_acc_list[-1],\n",
        "                \"val_accuracy\": val_acc_list[-1],\n",
        "                \"epoch\": epoch + 1\n",
        "            })\n",
        "\n",
        "    return outputs[-1], weights, biases, [train_loss_list, val_loss_list, train_acc_list, val_acc_list]\n"
      ],
      "metadata": {
        "id": "QpVBae0tM2YS"
      },
      "execution_count": 20,
      "outputs": []
    },
    {
      "cell_type": "code",
      "execution_count": 21,
      "metadata": {
        "colab": {
          "base_uri": "https://localhost:8080/"
        },
        "id": "60cJwHKDzWnS",
        "outputId": "84e347f9-c4cb-4684-923b-23a0576bd8cd"
      },
      "outputs": [
        {
          "output_type": "stream",
          "name": "stderr",
          "text": [
            "\u001b[34m\u001b[1mwandb\u001b[0m: Using wandb-core as the SDK backend.  Please refer to https://wandb.me/wandb-core for more information.\n"
          ]
        },
        {
          "output_type": "stream",
          "name": "stdout",
          "text": [
            "Create sweep with ID: 70m0cjz9\n",
            "Sweep URL: https://wandb.ai/3628-pavitrakhare-indian-institute-of-technology-madras/DA6401_ASS-practice/sweeps/70m0cjz9\n"
          ]
        }
      ],
      "source": [
        "def train(trainX, trainy, textX, testy, number_hidden_layers, hidden_layer_size, eta, init_type, activation_function,\n",
        "          epochs, mini_batch_size, loss_function, optimizer, output_function, weight_decay_const, wandb_flag=False):\n",
        "\n",
        "    wdc = weight_decay_const\n",
        "\n",
        "    optimizer_functions = {\n",
        "        'sgd': gradient_descent,\n",
        "        'momentum': momentum_based_gradient_descent,\n",
        "        'nag': nestrov_accelerated_gradient_descent,\n",
        "        'rmsprop': rmsprop,\n",
        "        'adam': adam,\n",
        "        'nadam': nadam\n",
        "    }\n",
        "\n",
        "    if optimizer not in optimizer_functions:\n",
        "        raise ValueError(f\"Invalid optimizer: {optimizer}. Choose from {list(optimizer_functions.keys())}.\")\n",
        "\n",
        "    hL, weights, biases, plot_list = optimizer_functions[optimizer](\n",
        "        trainX, trainy, number_hidden_layers, hidden_layer_size, eta, init_type, activation_function, epochs,\n",
        "        output_function, mini_batch_size, loss_function, wdc, wandb_flag\n",
        "    )\n",
        "\n",
        "    return [weights, biases, number_hidden_layers, activation_function, output_function]\n",
        "\n",
        "\n",
        "# Configuration for Bayesian Sweep Optimization\n",
        "sweep_config = {\n",
        "    \"name\": \"Hyperparameter Sweep\",\n",
        "    \"method\": \"bayes\",\n",
        "    \"metric\": {\n",
        "        \"name\": \"val_accuracy\",\n",
        "        \"goal\": \"maximize\"\n",
        "    },\n",
        "    \"parameters\": {\n",
        "        \"epochs\": {\"values\": [5, 10]},\n",
        "        \"init_method\": {\"values\": [\"random\", \"Xavier\"]},\n",
        "        \"hidden_layers\": {\"values\": [3, 4, 5]},\n",
        "        \"layer_size\": {\"values\": [32, 64, 128]},\n",
        "        \"activation\": {\"values\": [\"tanh\", \"sigmoid\", \"relu\"]},\n",
        "        \"learning_rate\": {\"values\": [0.001, 0.0001]},\n",
        "        \"weight_decay\": {\"values\": [0, 0.0005, 0.5]},\n",
        "        \"optimizer\": {\"values\": [\"sgd\", \"momentum\", \"nag\", \"rmsprop\", \"adam\", \"nadam\"]},\n",
        "        \"batch_size\": {\"values\": [16, 32, 64]}\n",
        "    }\n",
        "}\n",
        "\n",
        "# Initialize the sweep with W&B\n",
        "sweep_id = wandb.sweep(sweep_config, project=\"DA6401_ASS-practice\")\n"
      ]
    },
    {
      "cell_type": "code",
      "execution_count": 22,
      "metadata": {
        "id": "VmteGi74zgqT"
      },
      "outputs": [],
      "source": [
        "def train_data(config = None):\n",
        "  config_defaults = dict(\n",
        "          e=10,\n",
        "          nlh=2,\n",
        "          sz=128,\n",
        "          w_d=0,\n",
        "          lr=1e-3,\n",
        "          o=\"sgd\",\n",
        "          b=32,\n",
        "          a=\"sigmoid\",\n",
        "          w_i=\"Xavier\",\n",
        "          l=\"cross_entropy\",\n",
        "      )\n",
        "  wandb.init(project=\"DA6401_ASS-practice\",config = config_defaults)\n",
        "  config = wandb.config\n",
        "  wandb.run.name = 'hl_'+str(config.nlh)+'_sz_'+str(config.sz)+'_bs_'+str(config.b)+'_ac_'+config.a+'_w_i_'+config.w_i+'_lr_'+str(config.lr)+'_wd_'+str(config.w_d)\n",
        "  train(trainX=trainX,\n",
        "      trainy=trainy,\n",
        "      textX=testX,\n",
        "      testy=needed_y_test,\n",
        "      number_hidden_layers=config.nlh,\n",
        "      hidden_layer_size=config.sz,\n",
        "      eta=config.lr,\n",
        "      init_type=config.w_i,\n",
        "      activation_function=config.a,\n",
        "      epochs=config.e,\n",
        "      mini_batch_size=config.b,\n",
        "      loss_function=config.l,\n",
        "      optimizer=config.o,\n",
        "      output_function='softmax',\n",
        "      weight_decay_const=config.w_d,\n",
        "      wandb_flag=True)\n"
      ]
    },
    {
      "cell_type": "code",
      "execution_count": 23,
      "metadata": {
        "colab": {
          "base_uri": "https://localhost:8080/",
          "height": 1000
        },
        "id": "qcS0qoUt-vqm",
        "outputId": "e7f160f1-6305-43ab-fdda-d296238f2a83"
      },
      "outputs": [
        {
          "output_type": "stream",
          "name": "stderr",
          "text": [
            "\u001b[34m\u001b[1mwandb\u001b[0m: Agent Starting Run: yxak8e9a with config:\n",
            "\u001b[34m\u001b[1mwandb\u001b[0m: \tactivation: sigmoid\n",
            "\u001b[34m\u001b[1mwandb\u001b[0m: \tbatch_size: 32\n",
            "\u001b[34m\u001b[1mwandb\u001b[0m: \tepochs: 5\n",
            "\u001b[34m\u001b[1mwandb\u001b[0m: \thidden_layers: 3\n",
            "\u001b[34m\u001b[1mwandb\u001b[0m: \tinit_method: random\n",
            "\u001b[34m\u001b[1mwandb\u001b[0m: \tlayer_size: 64\n",
            "\u001b[34m\u001b[1mwandb\u001b[0m: \tlearning_rate: 0.0001\n",
            "\u001b[34m\u001b[1mwandb\u001b[0m: \toptimizer: adam\n",
            "\u001b[34m\u001b[1mwandb\u001b[0m: \tweight_decay: 0.5\n",
            "\u001b[34m\u001b[1mwandb\u001b[0m: Currently logged in as: \u001b[33m3628-pavitrakhare\u001b[0m (\u001b[33m3628-pavitrakhare-indian-institute-of-technology-madras\u001b[0m) to \u001b[32mhttps://api.wandb.ai\u001b[0m. Use \u001b[1m`wandb login --relogin`\u001b[0m to force relogin\n"
          ]
        },
        {
          "output_type": "display_data",
          "data": {
            "text/plain": [
              "<IPython.core.display.HTML object>"
            ],
            "text/html": [
              "Ignoring project 'DA6401_ASS-practice' when running a sweep."
            ]
          },
          "metadata": {}
        },
        {
          "output_type": "display_data",
          "data": {
            "text/plain": [
              "<IPython.core.display.HTML object>"
            ],
            "text/html": [
              "Tracking run with wandb version 0.19.8"
            ]
          },
          "metadata": {}
        },
        {
          "output_type": "display_data",
          "data": {
            "text/plain": [
              "<IPython.core.display.HTML object>"
            ],
            "text/html": [
              "Run data is saved locally in <code>/content/wandb/run-20250316_175112-yxak8e9a</code>"
            ]
          },
          "metadata": {}
        },
        {
          "output_type": "display_data",
          "data": {
            "text/plain": [
              "<IPython.core.display.HTML object>"
            ],
            "text/html": [
              "Syncing run <strong><a href='https://wandb.ai/3628-pavitrakhare-indian-institute-of-technology-madras/DA6401_ASS-practice/runs/yxak8e9a' target=\"_blank\">silvery-sweep-1</a></strong> to <a href='https://wandb.ai/3628-pavitrakhare-indian-institute-of-technology-madras/DA6401_ASS-practice' target=\"_blank\">Weights & Biases</a> (<a href='https://wandb.me/developer-guide' target=\"_blank\">docs</a>)<br>Sweep page: <a href='https://wandb.ai/3628-pavitrakhare-indian-institute-of-technology-madras/DA6401_ASS-practice/sweeps/70m0cjz9' target=\"_blank\">https://wandb.ai/3628-pavitrakhare-indian-institute-of-technology-madras/DA6401_ASS-practice/sweeps/70m0cjz9</a>"
            ]
          },
          "metadata": {}
        },
        {
          "output_type": "display_data",
          "data": {
            "text/plain": [
              "<IPython.core.display.HTML object>"
            ],
            "text/html": [
              " View project at <a href='https://wandb.ai/3628-pavitrakhare-indian-institute-of-technology-madras/DA6401_ASS-practice' target=\"_blank\">https://wandb.ai/3628-pavitrakhare-indian-institute-of-technology-madras/DA6401_ASS-practice</a>"
            ]
          },
          "metadata": {}
        },
        {
          "output_type": "display_data",
          "data": {
            "text/plain": [
              "<IPython.core.display.HTML object>"
            ],
            "text/html": [
              " View sweep at <a href='https://wandb.ai/3628-pavitrakhare-indian-institute-of-technology-madras/DA6401_ASS-practice/sweeps/70m0cjz9' target=\"_blank\">https://wandb.ai/3628-pavitrakhare-indian-institute-of-technology-madras/DA6401_ASS-practice/sweeps/70m0cjz9</a>"
            ]
          },
          "metadata": {}
        },
        {
          "output_type": "display_data",
          "data": {
            "text/plain": [
              "<IPython.core.display.HTML object>"
            ],
            "text/html": [
              " View run at <a href='https://wandb.ai/3628-pavitrakhare-indian-institute-of-technology-madras/DA6401_ASS-practice/runs/yxak8e9a' target=\"_blank\">https://wandb.ai/3628-pavitrakhare-indian-institute-of-technology-madras/DA6401_ASS-practice/runs/yxak8e9a</a>"
            ]
          },
          "metadata": {}
        },
        {
          "output_type": "stream",
          "name": "stdout",
          "text": [
            "epoch :  1  validation loss :  1.885298395831047\n",
            "epoch :  2  validation loss :  1.6361207986209625\n",
            "epoch :  3  validation loss :  1.441008077305503\n",
            "epoch :  4  validation loss :  1.2885156038003878\n",
            "epoch :  5  validation loss :  1.169253062348122\n",
            "epoch :  6  validation loss :  1.075444672747091\n",
            "epoch :  7  validation loss :  1.0011935545074977\n",
            "epoch :  8  validation loss :  0.9417327450319068\n",
            "epoch :  9  validation loss :  0.8933034931859113\n",
            "epoch :  10  validation loss :  0.8530714986523487\n"
          ]
        },
        {
          "output_type": "display_data",
          "data": {
            "text/plain": [
              "<IPython.core.display.HTML object>"
            ],
            "text/html": []
          },
          "metadata": {}
        },
        {
          "output_type": "display_data",
          "data": {
            "text/plain": [
              "<IPython.core.display.HTML object>"
            ],
            "text/html": [
              "<br>    <style><br>        .wandb-row {<br>            display: flex;<br>            flex-direction: row;<br>            flex-wrap: wrap;<br>            justify-content: flex-start;<br>            width: 100%;<br>        }<br>        .wandb-col {<br>            display: flex;<br>            flex-direction: column;<br>            flex-basis: 100%;<br>            flex: 1;<br>            padding: 10px;<br>        }<br>    </style><br><div class=\"wandb-row\"><div class=\"wandb-col\"><h3>Run history:</h3><br/><table class=\"wandb\"><tr><td>accuracy</td><td>▁▅▆▇▇▇▇███</td></tr><tr><td>epoch</td><td>▁▂▃▃▄▅▆▆▇█</td></tr><tr><td>loss</td><td>█▆▅▄▃▂▂▂▁▁</td></tr><tr><td>val_accuracy</td><td>▁▃▅▅▆▆▇▇██</td></tr><tr><td>val_loss</td><td>█▆▅▄▃▃▂▂▁▁</td></tr></table><br/></div><div class=\"wandb-col\"><h3>Run summary:</h3><br/><table class=\"wandb\"><tr><td>accuracy</td><td>0.7323</td></tr><tr><td>epoch</td><td>9</td></tr><tr><td>loss</td><td>0.87475</td></tr><tr><td>val_accuracy</td><td>0.73981</td></tr><tr><td>val_loss</td><td>0.85307</td></tr></table><br/></div></div>"
            ]
          },
          "metadata": {}
        },
        {
          "output_type": "display_data",
          "data": {
            "text/plain": [
              "<IPython.core.display.HTML object>"
            ],
            "text/html": [
              " View run <strong style=\"color:#cdcd00\">hl_2_sz_128_bs_32_ac_sigmoid_w_i_Xavier_lr_0.001_wd_0</strong> at: <a href='https://wandb.ai/3628-pavitrakhare-indian-institute-of-technology-madras/DA6401_ASS-practice/runs/yxak8e9a' target=\"_blank\">https://wandb.ai/3628-pavitrakhare-indian-institute-of-technology-madras/DA6401_ASS-practice/runs/yxak8e9a</a><br> View project at: <a href='https://wandb.ai/3628-pavitrakhare-indian-institute-of-technology-madras/DA6401_ASS-practice' target=\"_blank\">https://wandb.ai/3628-pavitrakhare-indian-institute-of-technology-madras/DA6401_ASS-practice</a><br>Synced 5 W&B file(s), 0 media file(s), 0 artifact file(s) and 0 other file(s)"
            ]
          },
          "metadata": {}
        },
        {
          "output_type": "display_data",
          "data": {
            "text/plain": [
              "<IPython.core.display.HTML object>"
            ],
            "text/html": [
              "Find logs at: <code>./wandb/run-20250316_175112-yxak8e9a/logs</code>"
            ]
          },
          "metadata": {}
        },
        {
          "output_type": "stream",
          "name": "stderr",
          "text": [
            "\u001b[34m\u001b[1mwandb\u001b[0m: Agent Starting Run: i3534uae with config:\n",
            "\u001b[34m\u001b[1mwandb\u001b[0m: \tactivation: relu\n",
            "\u001b[34m\u001b[1mwandb\u001b[0m: \tbatch_size: 16\n",
            "\u001b[34m\u001b[1mwandb\u001b[0m: \tepochs: 5\n",
            "\u001b[34m\u001b[1mwandb\u001b[0m: \thidden_layers: 4\n",
            "\u001b[34m\u001b[1mwandb\u001b[0m: \tinit_method: random\n",
            "\u001b[34m\u001b[1mwandb\u001b[0m: \tlayer_size: 64\n",
            "\u001b[34m\u001b[1mwandb\u001b[0m: \tlearning_rate: 0.0001\n",
            "\u001b[34m\u001b[1mwandb\u001b[0m: \toptimizer: adam\n",
            "\u001b[34m\u001b[1mwandb\u001b[0m: \tweight_decay: 0.0005\n"
          ]
        },
        {
          "output_type": "display_data",
          "data": {
            "text/plain": [
              "<IPython.core.display.HTML object>"
            ],
            "text/html": [
              "Ignoring project 'DA6401_ASS-practice' when running a sweep."
            ]
          },
          "metadata": {}
        },
        {
          "output_type": "display_data",
          "data": {
            "text/plain": [
              "<IPython.core.display.HTML object>"
            ],
            "text/html": [
              "Tracking run with wandb version 0.19.8"
            ]
          },
          "metadata": {}
        },
        {
          "output_type": "display_data",
          "data": {
            "text/plain": [
              "<IPython.core.display.HTML object>"
            ],
            "text/html": [
              "Run data is saved locally in <code>/content/wandb/run-20250316_175212-i3534uae</code>"
            ]
          },
          "metadata": {}
        },
        {
          "output_type": "display_data",
          "data": {
            "text/plain": [
              "<IPython.core.display.HTML object>"
            ],
            "text/html": [
              "Syncing run <strong><a href='https://wandb.ai/3628-pavitrakhare-indian-institute-of-technology-madras/DA6401_ASS-practice/runs/i3534uae' target=\"_blank\">swift-sweep-2</a></strong> to <a href='https://wandb.ai/3628-pavitrakhare-indian-institute-of-technology-madras/DA6401_ASS-practice' target=\"_blank\">Weights & Biases</a> (<a href='https://wandb.me/developer-guide' target=\"_blank\">docs</a>)<br>Sweep page: <a href='https://wandb.ai/3628-pavitrakhare-indian-institute-of-technology-madras/DA6401_ASS-practice/sweeps/70m0cjz9' target=\"_blank\">https://wandb.ai/3628-pavitrakhare-indian-institute-of-technology-madras/DA6401_ASS-practice/sweeps/70m0cjz9</a>"
            ]
          },
          "metadata": {}
        },
        {
          "output_type": "display_data",
          "data": {
            "text/plain": [
              "<IPython.core.display.HTML object>"
            ],
            "text/html": [
              " View project at <a href='https://wandb.ai/3628-pavitrakhare-indian-institute-of-technology-madras/DA6401_ASS-practice' target=\"_blank\">https://wandb.ai/3628-pavitrakhare-indian-institute-of-technology-madras/DA6401_ASS-practice</a>"
            ]
          },
          "metadata": {}
        },
        {
          "output_type": "display_data",
          "data": {
            "text/plain": [
              "<IPython.core.display.HTML object>"
            ],
            "text/html": [
              " View sweep at <a href='https://wandb.ai/3628-pavitrakhare-indian-institute-of-technology-madras/DA6401_ASS-practice/sweeps/70m0cjz9' target=\"_blank\">https://wandb.ai/3628-pavitrakhare-indian-institute-of-technology-madras/DA6401_ASS-practice/sweeps/70m0cjz9</a>"
            ]
          },
          "metadata": {}
        },
        {
          "output_type": "display_data",
          "data": {
            "text/plain": [
              "<IPython.core.display.HTML object>"
            ],
            "text/html": [
              " View run at <a href='https://wandb.ai/3628-pavitrakhare-indian-institute-of-technology-madras/DA6401_ASS-practice/runs/i3534uae' target=\"_blank\">https://wandb.ai/3628-pavitrakhare-indian-institute-of-technology-madras/DA6401_ASS-practice/runs/i3534uae</a>"
            ]
          },
          "metadata": {}
        },
        {
          "output_type": "stream",
          "name": "stdout",
          "text": [
            "epoch :  1  validation loss :  1.9146885109931946\n"
          ]
        },
        {
          "output_type": "stream",
          "name": "stderr",
          "text": [
            "\u001b[34m\u001b[1mwandb\u001b[0m: Ctrl + C detected. Stopping sweep.\n"
          ]
        },
        {
          "output_type": "display_data",
          "data": {
            "text/plain": [
              "<IPython.core.display.HTML object>"
            ],
            "text/html": []
          },
          "metadata": {}
        },
        {
          "output_type": "display_data",
          "data": {
            "text/plain": [
              "<IPython.core.display.HTML object>"
            ],
            "text/html": [
              "<br>    <style><br>        .wandb-row {<br>            display: flex;<br>            flex-direction: row;<br>            flex-wrap: wrap;<br>            justify-content: flex-start;<br>            width: 100%;<br>        }<br>        .wandb-col {<br>            display: flex;<br>            flex-direction: column;<br>            flex-basis: 100%;<br>            flex: 1;<br>            padding: 10px;<br>        }<br>    </style><br><div class=\"wandb-row\"><div class=\"wandb-col\"><h3>Run history:</h3><br/><table class=\"wandb\"><tr><td>accuracy</td><td>▁</td></tr><tr><td>epoch</td><td>▁</td></tr><tr><td>loss</td><td>▁</td></tr><tr><td>val_accuracy</td><td>▁</td></tr><tr><td>val_loss</td><td>▁</td></tr></table><br/></div><div class=\"wandb-col\"><h3>Run summary:</h3><br/><table class=\"wandb\"><tr><td>accuracy</td><td>0.51761</td></tr><tr><td>epoch</td><td>0</td></tr><tr><td>loss</td><td>2.08604</td></tr><tr><td>val_accuracy</td><td>0.65982</td></tr><tr><td>val_loss</td><td>1.91469</td></tr></table><br/></div></div>"
            ]
          },
          "metadata": {}
        },
        {
          "output_type": "display_data",
          "data": {
            "text/plain": [
              "<IPython.core.display.HTML object>"
            ],
            "text/html": [
              " View run <strong style=\"color:#cdcd00\">hl_2_sz_128_bs_32_ac_sigmoid_w_i_Xavier_lr_0.001_wd_0</strong> at: <a href='https://wandb.ai/3628-pavitrakhare-indian-institute-of-technology-madras/DA6401_ASS-practice/runs/i3534uae' target=\"_blank\">https://wandb.ai/3628-pavitrakhare-indian-institute-of-technology-madras/DA6401_ASS-practice/runs/i3534uae</a><br> View project at: <a href='https://wandb.ai/3628-pavitrakhare-indian-institute-of-technology-madras/DA6401_ASS-practice' target=\"_blank\">https://wandb.ai/3628-pavitrakhare-indian-institute-of-technology-madras/DA6401_ASS-practice</a><br>Synced 5 W&B file(s), 0 media file(s), 0 artifact file(s) and 0 other file(s)"
            ]
          },
          "metadata": {}
        },
        {
          "output_type": "display_data",
          "data": {
            "text/plain": [
              "<IPython.core.display.HTML object>"
            ],
            "text/html": [
              "Find logs at: <code>./wandb/run-20250316_175212-i3534uae/logs</code>"
            ]
          },
          "metadata": {}
        }
      ],
      "source": [
        "wandb.agent(sweep_id,train_data,count=250)\n",
        "wandb.finish()"
      ]
    },
    {
      "cell_type": "markdown",
      "metadata": {
        "id": "zW2zr0B0AgU4"
      },
      "source": [
        "#QUES 7"
      ]
    },
    {
      "cell_type": "code",
      "execution_count": 16,
      "metadata": {
        "colab": {
          "base_uri": "https://localhost:8080/",
          "height": 846
        },
        "id": "7jcuHEde0u_V",
        "outputId": "3d8650de-049b-48fc-f7ff-8e81d7779967"
      },
      "outputs": [
        {
          "output_type": "stream",
          "name": "stderr",
          "text": [
            "\u001b[34m\u001b[1mwandb\u001b[0m: Currently logged in as: \u001b[33m3628-pavitrakhare\u001b[0m (\u001b[33m3628-pavitrakhare-indian-institute-of-technology-madras\u001b[0m) to \u001b[32mhttps://api.wandb.ai\u001b[0m. Use \u001b[1m`wandb login --relogin`\u001b[0m to force relogin\n"
          ]
        },
        {
          "output_type": "display_data",
          "data": {
            "text/plain": [
              "<IPython.core.display.HTML object>"
            ],
            "text/html": [
              "Changes to your `wandb` environment variables will be ignored because your `wandb` session has already started. For more information on how to modify your settings with `wandb.init()` arguments, please refer to <a href='https://wandb.me/wandb-init' target=\"_blank\">the W&B docs</a>."
            ]
          },
          "metadata": {}
        },
        {
          "output_type": "display_data",
          "data": {
            "text/plain": [
              "<IPython.core.display.HTML object>"
            ],
            "text/html": [
              "Tracking run with wandb version 0.19.8"
            ]
          },
          "metadata": {}
        },
        {
          "output_type": "display_data",
          "data": {
            "text/plain": [
              "<IPython.core.display.HTML object>"
            ],
            "text/html": [
              "Run data is saved locally in <code>/content/wandb/run-20250315_183642-z5unaofi</code>"
            ]
          },
          "metadata": {}
        },
        {
          "output_type": "display_data",
          "data": {
            "text/plain": [
              "<IPython.core.display.HTML object>"
            ],
            "text/html": [
              "Syncing run <strong><a href='https://wandb.ai/3628-pavitrakhare-indian-institute-of-technology-madras/DA6401_ASS-practice/runs/z5unaofi' target=\"_blank\">golden-fog-222</a></strong> to <a href='https://wandb.ai/3628-pavitrakhare-indian-institute-of-technology-madras/DA6401_ASS-practice' target=\"_blank\">Weights & Biases</a> (<a href='https://wandb.me/developer-guide' target=\"_blank\">docs</a>)<br>"
            ]
          },
          "metadata": {}
        },
        {
          "output_type": "display_data",
          "data": {
            "text/plain": [
              "<IPython.core.display.HTML object>"
            ],
            "text/html": [
              " View project at <a href='https://wandb.ai/3628-pavitrakhare-indian-institute-of-technology-madras/DA6401_ASS-practice' target=\"_blank\">https://wandb.ai/3628-pavitrakhare-indian-institute-of-technology-madras/DA6401_ASS-practice</a>"
            ]
          },
          "metadata": {}
        },
        {
          "output_type": "display_data",
          "data": {
            "text/plain": [
              "<IPython.core.display.HTML object>"
            ],
            "text/html": [
              " View run at <a href='https://wandb.ai/3628-pavitrakhare-indian-institute-of-technology-madras/DA6401_ASS-practice/runs/z5unaofi' target=\"_blank\">https://wandb.ai/3628-pavitrakhare-indian-institute-of-technology-madras/DA6401_ASS-practice/runs/z5unaofi</a>"
            ]
          },
          "metadata": {}
        },
        {
          "output_type": "stream",
          "name": "stdout",
          "text": [
            "Epoch 1: Validation Loss = 0.4542\n",
            "Epoch 2: Validation Loss = 0.4137\n",
            "Epoch 3: Validation Loss = 0.3981\n",
            "Epoch 4: Validation Loss = 0.3941\n",
            "Epoch 5: Validation Loss = 0.3870\n",
            "Epoch 6: Validation Loss = 0.3849\n",
            "Epoch 7: Validation Loss = 0.3875\n",
            "Epoch 8: Validation Loss = 0.3900\n",
            "Epoch 9: Validation Loss = 0.3914\n",
            "Epoch 10: Validation Loss = 0.3954\n"
          ]
        },
        {
          "output_type": "stream",
          "name": "stderr",
          "text": [
            "\u001b[34m\u001b[1mwandb\u001b[0m: \u001b[33mWARNING\u001b[0m Calling wandb.run.save without any arguments is deprecated.Changes to attributes are automatically persisted.\n"
          ]
        },
        {
          "output_type": "display_data",
          "data": {
            "text/plain": [
              "<IPython.core.display.HTML object>"
            ],
            "text/html": []
          },
          "metadata": {}
        },
        {
          "output_type": "display_data",
          "data": {
            "text/plain": [
              "<IPython.core.display.HTML object>"
            ],
            "text/html": [
              "<br>    <style><br>        .wandb-row {<br>            display: flex;<br>            flex-direction: row;<br>            flex-wrap: wrap;<br>            justify-content: flex-start;<br>            width: 100%;<br>        }<br>        .wandb-col {<br>            display: flex;<br>            flex-direction: column;<br>            flex-basis: 100%;<br>            flex: 1;<br>            padding: 10px;<br>        }<br>    </style><br><div class=\"wandb-row\"><div class=\"wandb-col\"><h3>Run history:</h3><br/><table class=\"wandb\"><tr><td>accuracy</td><td>▁▄▅▆▆▇▇▇██</td></tr><tr><td>epoch</td><td>▁▂▃▃▄▅▆▆▇█</td></tr><tr><td>loss</td><td>█▅▄▃▃▂▂▂▁▁</td></tr><tr><td>val_accuracy</td><td>▁▃▅▅▆▆▇▇██</td></tr><tr><td>val_loss</td><td>█▄▂▂▁▁▁▂▂▂</td></tr></table><br/></div><div class=\"wandb-col\"><h3>Run summary:</h3><br/><table class=\"wandb\"><tr><td>accuracy</td><td>0.91384</td></tr><tr><td>epoch</td><td>10</td></tr><tr><td>loss</td><td>0.24339</td></tr><tr><td>val_accuracy</td><td>0.88519</td></tr><tr><td>val_loss</td><td>0.39542</td></tr></table><br/></div></div>"
            ]
          },
          "metadata": {}
        },
        {
          "output_type": "display_data",
          "data": {
            "text/plain": [
              "<IPython.core.display.HTML object>"
            ],
            "text/html": [
              " View run <strong style=\"color:#cdcd00\">Confusion Matrix</strong> at: <a href='https://wandb.ai/3628-pavitrakhare-indian-institute-of-technology-madras/DA6401_ASS-practice/runs/z5unaofi' target=\"_blank\">https://wandb.ai/3628-pavitrakhare-indian-institute-of-technology-madras/DA6401_ASS-practice/runs/z5unaofi</a><br> View project at: <a href='https://wandb.ai/3628-pavitrakhare-indian-institute-of-technology-madras/DA6401_ASS-practice' target=\"_blank\">https://wandb.ai/3628-pavitrakhare-indian-institute-of-technology-madras/DA6401_ASS-practice</a><br>Synced 5 W&B file(s), 1 media file(s), 2 artifact file(s) and 0 other file(s)"
            ]
          },
          "metadata": {}
        },
        {
          "output_type": "display_data",
          "data": {
            "text/plain": [
              "<IPython.core.display.HTML object>"
            ],
            "text/html": [
              "Find logs at: <code>./wandb/run-20250315_183642-z5unaofi/logs</code>"
            ]
          },
          "metadata": {}
        }
      ],
      "source": [
        "run = wandb.init(project=\"DA6401_ASS-practice\")\n",
        "run.name = 'Confusion Matrix'\n",
        "\n",
        "params = train(trainX=trainX,\n",
        "    trainy=trainy,\n",
        "    textX=testX,\n",
        "    testy=needed_y_test,\n",
        "    number_hidden_layers=3,\n",
        "    hidden_layer_size=128,\n",
        "    eta=0.001,\n",
        "    init_type=\"Xavier\",\n",
        "    activation_function=\"relu\",\n",
        "    epochs=10,\n",
        "    mini_batch_size=32,\n",
        "    loss_function=\"cross_entropy\",\n",
        "    optimizer=\"nadam\",\n",
        "    output_function='softmax',\n",
        "    weight_decay_const=0.5,\n",
        "    wandb_flag=True)\n",
        "a,h = forward_propagation(testX,params[0],params[1],params[2], params[3], params[4])\n",
        "hL = h[-1]\n",
        "y_pred = np.zeros(len(hL))\n",
        "i = 0\n",
        "while(i!=len(hL)):\n",
        "  y_pred[i] = np.argmax(hL[i])\n",
        "  i+=1\n",
        "y_pred\n",
        "\n",
        "class_names = ['T-shirt/top','Trouser','Pullover','Dress','Coat','Sandal','Shirt','Sneaker','Bag','Ankle boot']\n",
        "\n",
        "wandb.log({\"The Confusion Marix\": wandb.plot.confusion_matrix(preds = y_pred,y_true=test_Y,class_names=class_names)})\n",
        "wandb.save()\n",
        "wandb.finish()\n"
      ]
    },
    {
      "cell_type": "markdown",
      "source": [
        "#QUES 8"
      ],
      "metadata": {
        "id": "rvT7I6SXDZes"
      }
    },
    {
      "cell_type": "code",
      "execution_count": 24,
      "metadata": {
        "colab": {
          "base_uri": "https://localhost:8080/",
          "height": 878
        },
        "id": "HtyZx2-31HVy",
        "outputId": "5a327294-c46f-4aaa-d74d-18184e57a0db"
      },
      "outputs": [
        {
          "output_type": "display_data",
          "data": {
            "text/plain": [
              "<IPython.core.display.HTML object>"
            ],
            "text/html": [
              "Changes to your `wandb` environment variables will be ignored because your `wandb` session has already started. For more information on how to modify your settings with `wandb.init()` arguments, please refer to <a href='https://wandb.me/wandb-init' target=\"_blank\">the W&B docs</a>."
            ]
          },
          "metadata": {}
        },
        {
          "output_type": "display_data",
          "data": {
            "text/plain": [
              "<IPython.core.display.HTML object>"
            ],
            "text/html": [
              "Ignoring project 'sweep_CS24m031' when running a sweep."
            ]
          },
          "metadata": {}
        },
        {
          "output_type": "display_data",
          "data": {
            "text/plain": [
              "<IPython.core.display.HTML object>"
            ],
            "text/html": [
              "Tracking run with wandb version 0.19.8"
            ]
          },
          "metadata": {}
        },
        {
          "output_type": "display_data",
          "data": {
            "text/plain": [
              "<IPython.core.display.HTML object>"
            ],
            "text/html": [
              "Run data is saved locally in <code>/content/wandb/run-20250316_175236-i3534uae</code>"
            ]
          },
          "metadata": {}
        },
        {
          "output_type": "display_data",
          "data": {
            "text/plain": [
              "<IPython.core.display.HTML object>"
            ],
            "text/html": [
              "Syncing run <strong><a href='https://wandb.ai/3628-pavitrakhare-indian-institute-of-technology-madras/DA6401_ASS-practice/runs/i3534uae' target=\"_blank\">hl_2_sz_128_bs_32_ac_sigmoid_w_i_Xavier_lr_0.001_wd_0</a></strong> to <a href='https://wandb.ai/3628-pavitrakhare-indian-institute-of-technology-madras/DA6401_ASS-practice' target=\"_blank\">Weights & Biases</a> (<a href='https://wandb.me/developer-guide' target=\"_blank\">docs</a>)<br>Sweep page: <a href='https://wandb.ai/3628-pavitrakhare-indian-institute-of-technology-madras/DA6401_ASS-practice/sweeps/70m0cjz9' target=\"_blank\">https://wandb.ai/3628-pavitrakhare-indian-institute-of-technology-madras/DA6401_ASS-practice/sweeps/70m0cjz9</a>"
            ]
          },
          "metadata": {}
        },
        {
          "output_type": "display_data",
          "data": {
            "text/plain": [
              "<IPython.core.display.HTML object>"
            ],
            "text/html": [
              " View project at <a href='https://wandb.ai/3628-pavitrakhare-indian-institute-of-technology-madras/DA6401_ASS-practice' target=\"_blank\">https://wandb.ai/3628-pavitrakhare-indian-institute-of-technology-madras/DA6401_ASS-practice</a>"
            ]
          },
          "metadata": {}
        },
        {
          "output_type": "display_data",
          "data": {
            "text/plain": [
              "<IPython.core.display.HTML object>"
            ],
            "text/html": [
              " View sweep at <a href='https://wandb.ai/3628-pavitrakhare-indian-institute-of-technology-madras/DA6401_ASS-practice/sweeps/70m0cjz9' target=\"_blank\">https://wandb.ai/3628-pavitrakhare-indian-institute-of-technology-madras/DA6401_ASS-practice/sweeps/70m0cjz9</a>"
            ]
          },
          "metadata": {}
        },
        {
          "output_type": "display_data",
          "data": {
            "text/plain": [
              "<IPython.core.display.HTML object>"
            ],
            "text/html": [
              " View run at <a href='https://wandb.ai/3628-pavitrakhare-indian-institute-of-technology-madras/DA6401_ASS-practice/runs/i3534uae' target=\"_blank\">https://wandb.ai/3628-pavitrakhare-indian-institute-of-technology-madras/DA6401_ASS-practice/runs/i3534uae</a>"
            ]
          },
          "metadata": {}
        },
        {
          "output_type": "stream",
          "name": "stdout",
          "text": [
            "Epoch 1: Validation Loss = 0.0483\n",
            "Epoch 2: Validation Loss = 0.0503\n",
            "Epoch 3: Validation Loss = 0.0540\n",
            "Epoch 4: Validation Loss = 0.0584\n",
            "Epoch 5: Validation Loss = 0.0625\n",
            "Epoch 6: Validation Loss = 0.0671\n",
            "Epoch 7: Validation Loss = 0.0717\n",
            "Epoch 8: Validation Loss = 0.0763\n",
            "Epoch 9: Validation Loss = 0.0814\n",
            "Epoch 10: Validation Loss = 0.0863\n"
          ]
        },
        {
          "output_type": "stream",
          "name": "stderr",
          "text": [
            "\u001b[34m\u001b[1mwandb\u001b[0m: \u001b[33mWARNING\u001b[0m Calling wandb.run.save without any arguments is deprecated.Changes to attributes are automatically persisted.\n"
          ]
        },
        {
          "output_type": "stream",
          "name": "stdout",
          "text": [
            "Test accuracy on the model =  87.74038461538461 %\n"
          ]
        },
        {
          "output_type": "display_data",
          "data": {
            "text/plain": [
              "<IPython.core.display.HTML object>"
            ],
            "text/html": []
          },
          "metadata": {}
        },
        {
          "output_type": "display_data",
          "data": {
            "text/plain": [
              "<IPython.core.display.HTML object>"
            ],
            "text/html": [
              "<br>    <style><br>        .wandb-row {<br>            display: flex;<br>            flex-direction: row;<br>            flex-wrap: wrap;<br>            justify-content: flex-start;<br>            width: 100%;<br>        }<br>        .wandb-col {<br>            display: flex;<br>            flex-direction: column;<br>            flex-basis: 100%;<br>            flex: 1;<br>            padding: 10px;<br>        }<br>    </style><br><div class=\"wandb-row\"><div class=\"wandb-col\"><h3>Run history:</h3><br/><table class=\"wandb\"><tr><td>accuracy</td><td>▁▄▅▆▆▇▇▇██</td></tr><tr><td>epoch</td><td>▁▂▃▃▄▅▆▆▇█</td></tr><tr><td>loss</td><td>█▃▂▂▁▁▁▁▁▁</td></tr><tr><td>val_accuracy</td><td>▁▅▆▆▇▇████</td></tr><tr><td>val_loss</td><td>▁▁▂▃▄▄▅▆▇█</td></tr></table><br/></div><div class=\"wandb-col\"><h3>Run summary:</h3><br/><table class=\"wandb\"><tr><td>accuracy</td><td>0.9128</td></tr><tr><td>epoch</td><td>10</td></tr><tr><td>loss</td><td>0.02026</td></tr><tr><td>val_accuracy</td><td>0.88638</td></tr><tr><td>val_loss</td><td>0.08631</td></tr></table><br/></div></div>"
            ]
          },
          "metadata": {}
        },
        {
          "output_type": "display_data",
          "data": {
            "text/plain": [
              "<IPython.core.display.HTML object>"
            ],
            "text/html": [
              " View run <strong style=\"color:#cdcd00\">mean square error</strong> at: <a href='https://wandb.ai/3628-pavitrakhare-indian-institute-of-technology-madras/DA6401_ASS-practice/runs/i3534uae' target=\"_blank\">https://wandb.ai/3628-pavitrakhare-indian-institute-of-technology-madras/DA6401_ASS-practice/runs/i3534uae</a><br> View project at: <a href='https://wandb.ai/3628-pavitrakhare-indian-institute-of-technology-madras/DA6401_ASS-practice' target=\"_blank\">https://wandb.ai/3628-pavitrakhare-indian-institute-of-technology-madras/DA6401_ASS-practice</a><br>Synced 5 W&B file(s), 0 media file(s), 0 artifact file(s) and 0 other file(s)"
            ]
          },
          "metadata": {}
        },
        {
          "output_type": "display_data",
          "data": {
            "text/plain": [
              "<IPython.core.display.HTML object>"
            ],
            "text/html": [
              "Find logs at: <code>./wandb/run-20250316_175236-i3534uae/logs</code>"
            ]
          },
          "metadata": {}
        }
      ],
      "source": [
        "run = wandb.init(project=\"sweep_CS24m031\")\n",
        "run.name = 'mean square error'\n",
        "\n",
        "params = train(trainX=trainX,\n",
        "    trainy=trainy,\n",
        "    textX=testX,\n",
        "    testy=needed_y_test,\n",
        "    number_hidden_layers=3,\n",
        "    hidden_layer_size=128,\n",
        "    eta=0.001,\n",
        "    init_type=\"Xavier\",\n",
        "    activation_function=\"relu\",\n",
        "    epochs=10,\n",
        "    mini_batch_size=32,\n",
        "    loss_function=\"mean_squared_error\",\n",
        "    optimizer=\"nadam\",\n",
        "    output_function='softmax',\n",
        "    weight_decay_const=0.5,\n",
        "    wandb_flag=True)\n",
        "\n",
        "test_ac = test_accuracy(testX,needed_y_test,params[0],params[1],params[2],params[3],params[4])\n",
        "print(\"Test accuracy on the model = \", test_ac*100,'%')\n",
        "wandb.save()\n",
        "wandb.finish()\n",
        "\n"
      ]
    },
    {
      "cell_type": "code",
      "source": [],
      "metadata": {
        "id": "AgLTTRywERsS"
      },
      "execution_count": null,
      "outputs": []
    },
    {
      "cell_type": "code",
      "execution_count": 18,
      "metadata": {
        "colab": {
          "base_uri": "https://localhost:8080/",
          "height": 809
        },
        "id": "_UUWa51z7j9U",
        "outputId": "3da553f9-33db-477e-c4f3-fe29d4726449"
      },
      "outputs": [
        {
          "output_type": "display_data",
          "data": {
            "text/plain": [
              "<IPython.core.display.HTML object>"
            ],
            "text/html": [
              "Changes to your `wandb` environment variables will be ignored because your `wandb` session has already started. For more information on how to modify your settings with `wandb.init()` arguments, please refer to <a href='https://wandb.me/wandb-init' target=\"_blank\">the W&B docs</a>."
            ]
          },
          "metadata": {}
        },
        {
          "output_type": "display_data",
          "data": {
            "text/plain": [
              "<IPython.core.display.HTML object>"
            ],
            "text/html": [
              "Tracking run with wandb version 0.19.8"
            ]
          },
          "metadata": {}
        },
        {
          "output_type": "display_data",
          "data": {
            "text/plain": [
              "<IPython.core.display.HTML object>"
            ],
            "text/html": [
              "Run data is saved locally in <code>/content/wandb/run-20250315_184249-8izkk67f</code>"
            ]
          },
          "metadata": {}
        },
        {
          "output_type": "display_data",
          "data": {
            "text/plain": [
              "<IPython.core.display.HTML object>"
            ],
            "text/html": [
              "Syncing run <strong><a href='https://wandb.ai/3628-pavitrakhare-indian-institute-of-technology-madras/sweep_CS24m031/runs/8izkk67f' target=\"_blank\">comfy-haze-621</a></strong> to <a href='https://wandb.ai/3628-pavitrakhare-indian-institute-of-technology-madras/sweep_CS24m031' target=\"_blank\">Weights & Biases</a> (<a href='https://wandb.me/developer-guide' target=\"_blank\">docs</a>)<br>"
            ]
          },
          "metadata": {}
        },
        {
          "output_type": "display_data",
          "data": {
            "text/plain": [
              "<IPython.core.display.HTML object>"
            ],
            "text/html": [
              " View project at <a href='https://wandb.ai/3628-pavitrakhare-indian-institute-of-technology-madras/sweep_CS24m031' target=\"_blank\">https://wandb.ai/3628-pavitrakhare-indian-institute-of-technology-madras/sweep_CS24m031</a>"
            ]
          },
          "metadata": {}
        },
        {
          "output_type": "display_data",
          "data": {
            "text/plain": [
              "<IPython.core.display.HTML object>"
            ],
            "text/html": [
              " View run at <a href='https://wandb.ai/3628-pavitrakhare-indian-institute-of-technology-madras/sweep_CS24m031/runs/8izkk67f' target=\"_blank\">https://wandb.ai/3628-pavitrakhare-indian-institute-of-technology-madras/sweep_CS24m031/runs/8izkk67f</a>"
            ]
          },
          "metadata": {}
        },
        {
          "output_type": "stream",
          "name": "stdout",
          "text": [
            "Epoch 1: Validation Loss = 0.0483\n",
            "Epoch 2: Validation Loss = 0.0509\n",
            "Epoch 3: Validation Loss = 0.0544\n",
            "Epoch 4: Validation Loss = 0.0584\n",
            "Epoch 5: Validation Loss = 0.0627\n",
            "Epoch 6: Validation Loss = 0.0674\n",
            "Epoch 7: Validation Loss = 0.0723\n",
            "Epoch 8: Validation Loss = 0.0768\n",
            "Epoch 9: Validation Loss = 0.0817\n",
            "Epoch 10: Validation Loss = 0.0867\n",
            "Test accuracy on the model =  87.96073717948718 %\n"
          ]
        },
        {
          "output_type": "display_data",
          "data": {
            "text/plain": [
              "<IPython.core.display.HTML object>"
            ],
            "text/html": []
          },
          "metadata": {}
        },
        {
          "output_type": "display_data",
          "data": {
            "text/plain": [
              "<IPython.core.display.HTML object>"
            ],
            "text/html": [
              "<br>    <style><br>        .wandb-row {<br>            display: flex;<br>            flex-direction: row;<br>            flex-wrap: wrap;<br>            justify-content: flex-start;<br>            width: 100%;<br>        }<br>        .wandb-col {<br>            display: flex;<br>            flex-direction: column;<br>            flex-basis: 100%;<br>            flex: 1;<br>            padding: 10px;<br>        }<br>    </style><br><div class=\"wandb-row\"><div class=\"wandb-col\"><h3>Run history:</h3><br/><table class=\"wandb\"><tr><td>accuracy</td><td>▁▄▅▆▆▇▇███</td></tr><tr><td>epoch</td><td>▁▂▃▃▄▅▆▆▇█</td></tr><tr><td>loss</td><td>█▃▂▂▁▁▁▁▁▁</td></tr><tr><td>val_accuracy</td><td>▁▄▅▆▇▆▆▇██</td></tr><tr><td>val_loss</td><td>▁▁▂▃▄▄▅▆▇█</td></tr></table><br/></div><div class=\"wandb-col\"><h3>Run summary:</h3><br/><table class=\"wandb\"><tr><td>accuracy</td><td>0.91141</td></tr><tr><td>epoch</td><td>10</td></tr><tr><td>loss</td><td>0.02046</td></tr><tr><td>val_accuracy</td><td>0.88689</td></tr><tr><td>val_loss</td><td>0.08666</td></tr></table><br/></div></div>"
            ]
          },
          "metadata": {}
        },
        {
          "output_type": "display_data",
          "data": {
            "text/plain": [
              "<IPython.core.display.HTML object>"
            ],
            "text/html": [
              " View run <strong style=\"color:#cdcd00\">Cross Entropy</strong> at: <a href='https://wandb.ai/3628-pavitrakhare-indian-institute-of-technology-madras/sweep_CS24m031/runs/8izkk67f' target=\"_blank\">https://wandb.ai/3628-pavitrakhare-indian-institute-of-technology-madras/sweep_CS24m031/runs/8izkk67f</a><br> View project at: <a href='https://wandb.ai/3628-pavitrakhare-indian-institute-of-technology-madras/sweep_CS24m031' target=\"_blank\">https://wandb.ai/3628-pavitrakhare-indian-institute-of-technology-madras/sweep_CS24m031</a><br>Synced 5 W&B file(s), 0 media file(s), 0 artifact file(s) and 0 other file(s)"
            ]
          },
          "metadata": {}
        },
        {
          "output_type": "display_data",
          "data": {
            "text/plain": [
              "<IPython.core.display.HTML object>"
            ],
            "text/html": [
              "Find logs at: <code>./wandb/run-20250315_184249-8izkk67f/logs</code>"
            ]
          },
          "metadata": {}
        }
      ],
      "source": [
        "run = wandb.init(project=\"sweep_CS24m031\")\n",
        "run.name = 'Cross Entropy'\n",
        "\n",
        "params = train(trainX=trainX,\n",
        "    trainy=trainy,\n",
        "    textX=testX,\n",
        "    testy=needed_y_test,\n",
        "    number_hidden_layers=3,\n",
        "    hidden_layer_size=128,\n",
        "    eta=0.001,\n",
        "    init_type=\"Xavier\",\n",
        "    activation_function=\"relu\",\n",
        "    epochs=10,\n",
        "    mini_batch_size=32,\n",
        "    loss_function=\"mean_squared_error\",\n",
        "    optimizer=\"nadam\",\n",
        "    output_function='softmax',\n",
        "    weight_decay_const=0.5,\n",
        "    wandb_flag=True)\n",
        "\n",
        "test_ac = test_accuracy(testX,needed_y_test,params[0],params[1],params[2],params[3],params[4])\n",
        "print(\"Test accuracy on the model = \", test_ac*100,'%')\n",
        "wandb.save()\n",
        "wandb.finish()\n"
      ]
    },
    {
      "cell_type": "markdown",
      "source": [
        "#ques 10"
      ],
      "metadata": {
        "id": "pmy8VncWjHMS"
      }
    },
    {
      "cell_type": "code",
      "source": [
        "\n",
        "#CONFIGURATION 1\n",
        "run = wandb.init(project=\"DA6401_ASS-practice_ques10\")\n",
        "run.name = 'model1'\n",
        "\n",
        "params = train(trainX=trainX,\n",
        "    trainy=trainy,\n",
        "    textX=testX,\n",
        "    testy=needed_y_test,\n",
        "    number_hidden_layers=3,\n",
        "    hidden_layer_size=128,\n",
        "    eta=0.001,\n",
        "    init_type=\"Xavier\",\n",
        "    activation_function=\"relu\",\n",
        "    epochs=10,\n",
        "    mini_batch_size=32,\n",
        "    loss_function=\"cross_entropy\",\n",
        "    optimizer=\"nadam\",\n",
        "    output_function='softmax',\n",
        "    weight_decay_const=0.5,\n",
        "    wandb_flag=True)\n",
        "\n",
        "test_ac = test_accuracy(testX,needed_y_test,params[0],params[1],params[2],params[3],params[4])\n",
        "print(\"Test accuracy on the model = \", test_ac*100,'%')\n",
        "wandb.save()\n",
        "wandb.finish()"
      ],
      "metadata": {
        "colab": {
          "base_uri": "https://localhost:8080/",
          "height": 878
        },
        "id": "VpDl9xTaOfCb",
        "outputId": "0d32aab8-6edc-44c0-caa2-ab0afe788b07"
      },
      "execution_count": 23,
      "outputs": [
        {
          "output_type": "display_data",
          "data": {
            "text/plain": [
              "<IPython.core.display.HTML object>"
            ],
            "text/html": [
              "Changes to your `wandb` environment variables will be ignored because your `wandb` session has already started. For more information on how to modify your settings with `wandb.init()` arguments, please refer to <a href='https://wandb.me/wandb-init' target=\"_blank\">the W&B docs</a>."
            ]
          },
          "metadata": {}
        },
        {
          "output_type": "display_data",
          "data": {
            "text/plain": [
              "<IPython.core.display.HTML object>"
            ],
            "text/html": [
              "Ignoring project 'DA6401_ASS-practice_ques10' when running a sweep."
            ]
          },
          "metadata": {}
        },
        {
          "output_type": "display_data",
          "data": {
            "text/plain": [
              "<IPython.core.display.HTML object>"
            ],
            "text/html": [
              "Tracking run with wandb version 0.19.8"
            ]
          },
          "metadata": {}
        },
        {
          "output_type": "display_data",
          "data": {
            "text/plain": [
              "<IPython.core.display.HTML object>"
            ],
            "text/html": [
              "Run data is saved locally in <code>/content/wandb/run-20250314_200102-kybq2846</code>"
            ]
          },
          "metadata": {}
        },
        {
          "output_type": "display_data",
          "data": {
            "text/plain": [
              "<IPython.core.display.HTML object>"
            ],
            "text/html": [
              "Syncing run <strong><a href='https://wandb.ai/3628-pavitrakhare-indian-institute-of-technology-madras/DA6401_ASS-practice/runs/kybq2846' target=\"_blank\">hl_5_sz_128_bs_64_ac_relu_w_i_Xavier_lr_0.001_wd_0</a></strong> to <a href='https://wandb.ai/3628-pavitrakhare-indian-institute-of-technology-madras/DA6401_ASS-practice' target=\"_blank\">Weights & Biases</a> (<a href='https://wandb.me/developer-guide' target=\"_blank\">docs</a>)<br>Sweep page: <a href='https://wandb.ai/3628-pavitrakhare-indian-institute-of-technology-madras/DA6401_ASS-practice/sweeps/7fbr94tp' target=\"_blank\">https://wandb.ai/3628-pavitrakhare-indian-institute-of-technology-madras/DA6401_ASS-practice/sweeps/7fbr94tp</a>"
            ]
          },
          "metadata": {}
        },
        {
          "output_type": "display_data",
          "data": {
            "text/plain": [
              "<IPython.core.display.HTML object>"
            ],
            "text/html": [
              " View project at <a href='https://wandb.ai/3628-pavitrakhare-indian-institute-of-technology-madras/DA6401_ASS-practice' target=\"_blank\">https://wandb.ai/3628-pavitrakhare-indian-institute-of-technology-madras/DA6401_ASS-practice</a>"
            ]
          },
          "metadata": {}
        },
        {
          "output_type": "display_data",
          "data": {
            "text/plain": [
              "<IPython.core.display.HTML object>"
            ],
            "text/html": [
              " View sweep at <a href='https://wandb.ai/3628-pavitrakhare-indian-institute-of-technology-madras/DA6401_ASS-practice/sweeps/7fbr94tp' target=\"_blank\">https://wandb.ai/3628-pavitrakhare-indian-institute-of-technology-madras/DA6401_ASS-practice/sweeps/7fbr94tp</a>"
            ]
          },
          "metadata": {}
        },
        {
          "output_type": "display_data",
          "data": {
            "text/plain": [
              "<IPython.core.display.HTML object>"
            ],
            "text/html": [
              " View run at <a href='https://wandb.ai/3628-pavitrakhare-indian-institute-of-technology-madras/DA6401_ASS-practice/runs/kybq2846' target=\"_blank\">https://wandb.ai/3628-pavitrakhare-indian-institute-of-technology-madras/DA6401_ASS-practice/runs/kybq2846</a>"
            ]
          },
          "metadata": {}
        },
        {
          "output_type": "stream",
          "name": "stdout",
          "text": [
            "Epoch 1: Validation Loss = 0.1748\n",
            "Epoch 2: Validation Loss = 0.1405\n",
            "Epoch 3: Validation Loss = 0.1244\n",
            "Epoch 4: Validation Loss = 0.1225\n",
            "Epoch 5: Validation Loss = 0.1245\n",
            "Epoch 6: Validation Loss = 0.1342\n",
            "Epoch 7: Validation Loss = 0.1329\n",
            "Epoch 8: Validation Loss = 0.1399\n",
            "Epoch 9: Validation Loss = 0.1475\n",
            "Epoch 10: Validation Loss = 0.1586\n"
          ]
        },
        {
          "output_type": "stream",
          "name": "stderr",
          "text": [
            "\u001b[34m\u001b[1mwandb\u001b[0m: \u001b[33mWARNING\u001b[0m Calling wandb.run.save without any arguments is deprecated.Changes to attributes are automatically persisted.\n"
          ]
        },
        {
          "output_type": "stream",
          "name": "stdout",
          "text": [
            "Test accuracy on the model =  97.44591346153845 %\n"
          ]
        },
        {
          "output_type": "display_data",
          "data": {
            "text/plain": [
              "<IPython.core.display.HTML object>"
            ],
            "text/html": []
          },
          "metadata": {}
        },
        {
          "output_type": "display_data",
          "data": {
            "text/plain": [
              "<IPython.core.display.HTML object>"
            ],
            "text/html": [
              "<br>    <style><br>        .wandb-row {<br>            display: flex;<br>            flex-direction: row;<br>            flex-wrap: wrap;<br>            justify-content: flex-start;<br>            width: 100%;<br>        }<br>        .wandb-col {<br>            display: flex;<br>            flex-direction: column;<br>            flex-basis: 100%;<br>            flex: 1;<br>            padding: 10px;<br>        }<br>    </style><br><div class=\"wandb-row\"><div class=\"wandb-col\"><h3>Run history:</h3><br/><table class=\"wandb\"><tr><td>accuracy</td><td>▁▅▆▇▇█████</td></tr><tr><td>epoch</td><td>▁▂▃▃▄▅▆▆▇█</td></tr><tr><td>loss</td><td>█▄▃▂▂▁▁▁▁▁</td></tr><tr><td>val_accuracy</td><td>▁▅▆▇█▇▇█▇▇</td></tr><tr><td>val_loss</td><td>█▃▁▁▁▃▂▃▄▆</td></tr></table><br/></div><div class=\"wandb-col\"><h3>Run summary:</h3><br/><table class=\"wandb\"><tr><td>accuracy</td><td>0.99395</td></tr><tr><td>epoch</td><td>10</td></tr><tr><td>loss</td><td>0.02596</td></tr><tr><td>val_accuracy</td><td>0.97554</td></tr><tr><td>val_loss</td><td>0.15863</td></tr></table><br/></div></div>"
            ]
          },
          "metadata": {}
        },
        {
          "output_type": "display_data",
          "data": {
            "text/plain": [
              "<IPython.core.display.HTML object>"
            ],
            "text/html": [
              " View run <strong style=\"color:#cdcd00\">model1</strong> at: <a href='https://wandb.ai/3628-pavitrakhare-indian-institute-of-technology-madras/DA6401_ASS-practice/runs/kybq2846' target=\"_blank\">https://wandb.ai/3628-pavitrakhare-indian-institute-of-technology-madras/DA6401_ASS-practice/runs/kybq2846</a><br> View project at: <a href='https://wandb.ai/3628-pavitrakhare-indian-institute-of-technology-madras/DA6401_ASS-practice' target=\"_blank\">https://wandb.ai/3628-pavitrakhare-indian-institute-of-technology-madras/DA6401_ASS-practice</a><br>Synced 5 W&B file(s), 0 media file(s), 0 artifact file(s) and 0 other file(s)"
            ]
          },
          "metadata": {}
        },
        {
          "output_type": "display_data",
          "data": {
            "text/plain": [
              "<IPython.core.display.HTML object>"
            ],
            "text/html": [
              "Find logs at: <code>./wandb/run-20250314_200102-kybq2846/logs</code>"
            ]
          },
          "metadata": {}
        }
      ]
    },
    {
      "cell_type": "code",
      "source": [
        "#CONFIGURATION 2\n",
        "\n",
        "run = wandb.init(project=\"DA6401_ASS-practice_ques10\")\n",
        "run.name = 'model2'\n",
        "\n",
        "params = train(trainX=trainX,\n",
        "    trainy=trainy,\n",
        "    textX=testX,\n",
        "    testy=needed_y_test,\n",
        "    number_hidden_layers=3,\n",
        "    hidden_layer_size=128,\n",
        "    eta=0.001,\n",
        "    init_type=\"Xavier\",\n",
        "    activation_function=\"relu\",\n",
        "    epochs=10,\n",
        "    mini_batch_size=32,\n",
        "    loss_function=\"cross_entropy\",\n",
        "    optimizer=\"nag\",\n",
        "    output_function='softmax',\n",
        "    weight_decay_const=0.5,\n",
        "    wandb_flag=True)\n",
        "\n",
        "test_ac = test_accuracy(testX,needed_y_test,params[0],params[1],params[2],params[3],params[4])\n",
        "print(\"Test accuracy on the model = \", test_ac*100,'%')\n",
        "wandb.save()\n",
        "wandb.finish()"
      ],
      "metadata": {
        "colab": {
          "base_uri": "https://localhost:8080/",
          "height": 861
        },
        "id": "Kl6rJrKnRXRC",
        "outputId": "45839c5f-2ba3-4d4a-965c-5a1510c646c8"
      },
      "execution_count": 24,
      "outputs": [
        {
          "output_type": "display_data",
          "data": {
            "text/plain": [
              "<IPython.core.display.HTML object>"
            ],
            "text/html": [
              "Changes to your `wandb` environment variables will be ignored because your `wandb` session has already started. For more information on how to modify your settings with `wandb.init()` arguments, please refer to <a href='https://wandb.me/wandb-init' target=\"_blank\">the W&B docs</a>."
            ]
          },
          "metadata": {}
        },
        {
          "output_type": "display_data",
          "data": {
            "text/plain": [
              "<IPython.core.display.HTML object>"
            ],
            "text/html": [
              "Ignoring project 'DA6401_ASS-practice_ques10' when running a sweep."
            ]
          },
          "metadata": {}
        },
        {
          "output_type": "display_data",
          "data": {
            "text/plain": [
              "<IPython.core.display.HTML object>"
            ],
            "text/html": [
              "Tracking run with wandb version 0.19.8"
            ]
          },
          "metadata": {}
        },
        {
          "output_type": "display_data",
          "data": {
            "text/plain": [
              "<IPython.core.display.HTML object>"
            ],
            "text/html": [
              "Run data is saved locally in <code>/content/wandb/run-20250314_200816-kybq2846</code>"
            ]
          },
          "metadata": {}
        },
        {
          "output_type": "display_data",
          "data": {
            "text/plain": [
              "<IPython.core.display.HTML object>"
            ],
            "text/html": [
              "Syncing run <strong><a href='https://wandb.ai/3628-pavitrakhare-indian-institute-of-technology-madras/DA6401_ASS-practice/runs/kybq2846' target=\"_blank\">model1</a></strong> to <a href='https://wandb.ai/3628-pavitrakhare-indian-institute-of-technology-madras/DA6401_ASS-practice' target=\"_blank\">Weights & Biases</a> (<a href='https://wandb.me/developer-guide' target=\"_blank\">docs</a>)<br>Sweep page: <a href='https://wandb.ai/3628-pavitrakhare-indian-institute-of-technology-madras/DA6401_ASS-practice/sweeps/7fbr94tp' target=\"_blank\">https://wandb.ai/3628-pavitrakhare-indian-institute-of-technology-madras/DA6401_ASS-practice/sweeps/7fbr94tp</a>"
            ]
          },
          "metadata": {}
        },
        {
          "output_type": "display_data",
          "data": {
            "text/plain": [
              "<IPython.core.display.HTML object>"
            ],
            "text/html": [
              " View project at <a href='https://wandb.ai/3628-pavitrakhare-indian-institute-of-technology-madras/DA6401_ASS-practice' target=\"_blank\">https://wandb.ai/3628-pavitrakhare-indian-institute-of-technology-madras/DA6401_ASS-practice</a>"
            ]
          },
          "metadata": {}
        },
        {
          "output_type": "display_data",
          "data": {
            "text/plain": [
              "<IPython.core.display.HTML object>"
            ],
            "text/html": [
              " View sweep at <a href='https://wandb.ai/3628-pavitrakhare-indian-institute-of-technology-madras/DA6401_ASS-practice/sweeps/7fbr94tp' target=\"_blank\">https://wandb.ai/3628-pavitrakhare-indian-institute-of-technology-madras/DA6401_ASS-practice/sweeps/7fbr94tp</a>"
            ]
          },
          "metadata": {}
        },
        {
          "output_type": "display_data",
          "data": {
            "text/plain": [
              "<IPython.core.display.HTML object>"
            ],
            "text/html": [
              " View run at <a href='https://wandb.ai/3628-pavitrakhare-indian-institute-of-technology-madras/DA6401_ASS-practice/runs/kybq2846' target=\"_blank\">https://wandb.ai/3628-pavitrakhare-indian-institute-of-technology-madras/DA6401_ASS-practice/runs/kybq2846</a>"
            ]
          },
          "metadata": {}
        },
        {
          "output_type": "stream",
          "name": "stdout",
          "text": [
            "Epoch 1: Validation Loss = 0.1938\n",
            "Epoch 2: Validation Loss = 0.1502\n",
            "Epoch 3: Validation Loss = 0.1319\n",
            "Epoch 4: Validation Loss = 0.1244\n",
            "Epoch 5: Validation Loss = 0.1206\n",
            "Epoch 6: Validation Loss = 0.1179\n",
            "Epoch 7: Validation Loss = 0.1170\n",
            "Epoch 8: Validation Loss = 0.1181\n",
            "Epoch 9: Validation Loss = 0.1195\n",
            "Epoch 10: Validation Loss = 0.1240\n",
            "Test accuracy on the model =  97.68629807692307 %\n"
          ]
        },
        {
          "output_type": "display_data",
          "data": {
            "text/plain": [
              "<IPython.core.display.HTML object>"
            ],
            "text/html": []
          },
          "metadata": {}
        },
        {
          "output_type": "display_data",
          "data": {
            "text/plain": [
              "<IPython.core.display.HTML object>"
            ],
            "text/html": [
              "<br>    <style><br>        .wandb-row {<br>            display: flex;<br>            flex-direction: row;<br>            flex-wrap: wrap;<br>            justify-content: flex-start;<br>            width: 100%;<br>        }<br>        .wandb-col {<br>            display: flex;<br>            flex-direction: column;<br>            flex-basis: 100%;<br>            flex: 1;<br>            padding: 10px;<br>        }<br>    </style><br><div class=\"wandb-row\"><div class=\"wandb-col\"><h3>Run history:</h3><br/><table class=\"wandb\"><tr><td>accuracy</td><td>▁▅▆▆▇▇▇███</td></tr><tr><td>epoch</td><td>▁▂▃▃▄▅▆▆▇█</td></tr><tr><td>loss</td><td>█▄▃▂▂▂▁▁▁▁</td></tr><tr><td>val_accuracy</td><td>▁▄▅▆▇▇▇███</td></tr><tr><td>val_loss</td><td>█▄▂▂▁▁▁▁▁▂</td></tr></table><br/></div><div class=\"wandb-col\"><h3>Run summary:</h3><br/><table class=\"wandb\"><tr><td>accuracy</td><td>0.99395</td></tr><tr><td>epoch</td><td>10</td></tr><tr><td>loss</td><td>0.03178</td></tr><tr><td>val_accuracy</td><td>0.98166</td></tr><tr><td>val_loss</td><td>0.12398</td></tr></table><br/></div></div>"
            ]
          },
          "metadata": {}
        },
        {
          "output_type": "display_data",
          "data": {
            "text/plain": [
              "<IPython.core.display.HTML object>"
            ],
            "text/html": [
              " View run <strong style=\"color:#cdcd00\">model1</strong> at: <a href='https://wandb.ai/3628-pavitrakhare-indian-institute-of-technology-madras/DA6401_ASS-practice/runs/kybq2846' target=\"_blank\">https://wandb.ai/3628-pavitrakhare-indian-institute-of-technology-madras/DA6401_ASS-practice/runs/kybq2846</a><br> View project at: <a href='https://wandb.ai/3628-pavitrakhare-indian-institute-of-technology-madras/DA6401_ASS-practice' target=\"_blank\">https://wandb.ai/3628-pavitrakhare-indian-institute-of-technology-madras/DA6401_ASS-practice</a><br>Synced 5 W&B file(s), 0 media file(s), 0 artifact file(s) and 0 other file(s)"
            ]
          },
          "metadata": {}
        },
        {
          "output_type": "display_data",
          "data": {
            "text/plain": [
              "<IPython.core.display.HTML object>"
            ],
            "text/html": [
              "Find logs at: <code>./wandb/run-20250314_200816-kybq2846/logs</code>"
            ]
          },
          "metadata": {}
        }
      ]
    },
    {
      "cell_type": "code",
      "source": [
        "#CONFIGURATION 3\n",
        "\n",
        "run = wandb.init(project=\"DA6401_ASS-practice_ques10\")\n",
        "run.name = 'model1'\n",
        "\n",
        "params = train(trainX=trainX,\n",
        "    trainy=trainy,\n",
        "    textX=testX,\n",
        "    testy=needed_y_test,\n",
        "    number_hidden_layers=3,\n",
        "    hidden_layer_size=128,\n",
        "    eta=0.001,\n",
        "    init_type=\"Xavier\",\n",
        "    activation_function=\"relu\",\n",
        "    epochs=5,\n",
        "    mini_batch_size=32,\n",
        "    loss_function=\"cross_entropy\",\n",
        "    optimizer=\"adam\",\n",
        "    output_function='softmax',\n",
        "    weight_decay_const=0.5,\n",
        "    wandb_flag=True)\n",
        "\n",
        "test_ac = test_accuracy(testX,needed_y_test,params[0],params[1],params[2],params[3],params[4])\n",
        "print(\"Test accuracy on the model = \", test_ac*100,'%')\n",
        "wandb.save()\n",
        "wandb.finish()"
      ],
      "metadata": {
        "colab": {
          "base_uri": "https://localhost:8080/",
          "height": 632
        },
        "id": "QI7QPJcoGs0X",
        "outputId": "36a5eccc-4693-4b41-f045-ba3de66f2ed1"
      },
      "execution_count": 26,
      "outputs": [
        {
          "output_type": "display_data",
          "data": {
            "text/plain": [
              "<IPython.core.display.HTML object>"
            ],
            "text/html": [
              "Changes to your `wandb` environment variables will be ignored because your `wandb` session has already started. For more information on how to modify your settings with `wandb.init()` arguments, please refer to <a href='https://wandb.me/wandb-init' target=\"_blank\">the W&B docs</a>."
            ]
          },
          "metadata": {}
        },
        {
          "output_type": "stream",
          "name": "stdout",
          "text": [
            "Epoch 1: Validation Loss = 0.1454\n",
            "Epoch 2: Validation Loss = 0.1052\n",
            "Epoch 3: Validation Loss = 0.0937\n",
            "Epoch 4: Validation Loss = 0.0964\n",
            "Epoch 5: Validation Loss = 0.0855\n",
            "Test accuracy on the model =  97.48597756410257 %\n"
          ]
        },
        {
          "output_type": "display_data",
          "data": {
            "text/plain": [
              "<IPython.core.display.HTML object>"
            ],
            "text/html": []
          },
          "metadata": {}
        },
        {
          "output_type": "display_data",
          "data": {
            "text/plain": [
              "<IPython.core.display.HTML object>"
            ],
            "text/html": [
              "<br>    <style><br>        .wandb-row {<br>            display: flex;<br>            flex-direction: row;<br>            flex-wrap: wrap;<br>            justify-content: flex-start;<br>            width: 100%;<br>        }<br>        .wandb-col {<br>            display: flex;<br>            flex-direction: column;<br>            flex-basis: 100%;<br>            flex: 1;<br>            padding: 10px;<br>        }<br>    </style><br><div class=\"wandb-row\"><div class=\"wandb-col\"><h3>Run history:</h3><br/><table class=\"wandb\"><tr><td>accuracy</td><td>▁▆▁▆▇██</td></tr><tr><td>epoch</td><td>▁▃▁▃▅▆█</td></tr><tr><td>loss</td><td>█▃█▃▂▁▁</td></tr><tr><td>val_accuracy</td><td>▃▆▁▄▆▇█</td></tr><tr><td>val_loss</td><td>▆▂█▃▂▂▁</td></tr></table><br/></div><div class=\"wandb-col\"><h3>Run summary:</h3><br/><table class=\"wandb\"><tr><td>accuracy</td><td>0.98582</td></tr><tr><td>epoch</td><td>5</td></tr><tr><td>loss</td><td>0.04269</td></tr><tr><td>val_accuracy</td><td>0.97758</td></tr><tr><td>val_loss</td><td>0.08551</td></tr></table><br/></div></div>"
            ]
          },
          "metadata": {}
        },
        {
          "output_type": "display_data",
          "data": {
            "text/plain": [
              "<IPython.core.display.HTML object>"
            ],
            "text/html": [
              " View run <strong style=\"color:#cdcd00\">model1</strong> at: <a href='https://wandb.ai/3628-pavitrakhare-indian-institute-of-technology-madras/DA6401_ASS-practice_ques10/runs/5hlud9xg' target=\"_blank\">https://wandb.ai/3628-pavitrakhare-indian-institute-of-technology-madras/DA6401_ASS-practice_ques10/runs/5hlud9xg</a><br> View project at: <a href='https://wandb.ai/3628-pavitrakhare-indian-institute-of-technology-madras/DA6401_ASS-practice_ques10' target=\"_blank\">https://wandb.ai/3628-pavitrakhare-indian-institute-of-technology-madras/DA6401_ASS-practice_ques10</a><br>Synced 5 W&B file(s), 0 media file(s), 0 artifact file(s) and 0 other file(s)"
            ]
          },
          "metadata": {}
        },
        {
          "output_type": "display_data",
          "data": {
            "text/plain": [
              "<IPython.core.display.HTML object>"
            ],
            "text/html": [
              "Find logs at: <code>./wandb/run-20250315_050647-5hlud9xg/logs</code>"
            ]
          },
          "metadata": {}
        }
      ]
    },
    {
      "cell_type": "code",
      "source": [
        "import os\n",
        "import numpy as np\n",
        "from keras.datasets import fashion_mnist\n",
        "from keras.datasets import mnist\n",
        "from sklearn.model_selection import train_test_split\n",
        "import wandb\n",
        "import argparse\n",
        "\n",
        "def sigmoid(x):\n",
        "    \"\"\"Computes the sigmoid activation function.\"\"\"\n",
        "    return 1.0 / (1.0 + np.exp(-x))\n",
        "\n",
        "def tanh(x):\n",
        "    \"\"\"Computes the hyperbolic tangent (tanh) activation function.\"\"\"\n",
        "    return np.tanh(x)\n",
        "\n",
        "def relu(x):\n",
        "    \"\"\"Computes the ReLU (Rectified Linear Unit) activation function.\"\"\"\n",
        "    return np.maximum(0, x)\n",
        "\n",
        "def softmax(x):\n",
        "\n",
        "    x_shifted = x - np.max(x, axis=1, keepdims=True)  # Improve numerical stability\n",
        "    exp_x = np.exp(x_shifted)\n",
        "    return exp_x / np.sum(exp_x, axis=1, keepdims=True)\n",
        "\n",
        "def identity(x):\n",
        "    \"\"\"Computes the identity activation function (returns input as output).\"\"\"\n",
        "    return x\n",
        "\n",
        "def cross_entropy(y_hat, y):\n",
        "\n",
        "    epsilon = 1e-9  # Avoid log(0) errors\n",
        "    return -np.mean(np.sum(y * np.log(y_hat + epsilon), axis=1))\n",
        "\n",
        "def mean_squared_error(y_hat, y):\n",
        "\n",
        "    return np.mean((y - y_hat) ** 2)\n",
        "\n",
        "def activation_functions(x, fn_label=\"sigmoid\"):\n",
        "\n",
        "    activations = {\n",
        "        \"relu\": relu,\n",
        "        \"sigmoid\": sigmoid,\n",
        "        \"tanh\": tanh,\n",
        "        \"softmax\": softmax,\n",
        "        \"identity\": identity\n",
        "    }\n",
        "    return activations.get(fn_label, lambda x: \"error\")(x)\n",
        "\n",
        "def activation_derivative(x, fn_label=\"sigmoid\"):\n",
        "\n",
        "    derivatives = {\n",
        "        \"relu\": lambda x: np.where(x > 0, 1, 0),\n",
        "        \"tanh\": lambda x: 1.0 - np.tanh(x) ** 2,\n",
        "        \"sigmoid\": lambda x: sigmoid(x) * (1 - sigmoid(x)),\n",
        "        \"identity\": lambda x: np.ones_like(x)\n",
        "    }\n",
        "    return derivatives.get(fn_label, lambda x: \"error\")(x)\n",
        "\n",
        "\n",
        "\n",
        "def map_data_with_classes(labels):\n",
        "\n",
        "    num_samples = len(labels)\n",
        "    num_classes = max(labels) + 1\n",
        "    one_hot_matrix = np.zeros((num_samples, num_classes))\n",
        "\n",
        "    for idx, label in enumerate(labels):\n",
        "        one_hot_matrix[idx][label] = 1\n",
        "\n",
        "    return one_hot_matrix\n",
        "\n",
        "\n",
        "\n",
        "\n",
        "\n",
        "parser = argparse.ArgumentParser()\n",
        "parser.add_argument(\"-wp\",\"--wandb_project\",help=\"Project name used to track experiments in Weights & Biases dashboard\",default=\"DA6401_ass_1_run\")\n",
        "parser.add_argument(\"-we\",\"--wandb_entity\",help=\"Wandb Entity used to track experiments in the Weights & Biases dashboard.\",default=\"cs24m031\")\n",
        "parser.add_argument(\"-d\",\"--dataset\",help=\"choices: ['mnist', 'fashion_mnist']\",choices=['mnist', 'fashion_mnist'],default=\"fashion_mnist\")\n",
        "parser.add_argument(\"-e\",\"--epochs\",help=\"Number of epochs to train neural network.\",choices=['5','10'],default=10)\n",
        "parser.add_argument(\"-b\",\"--batch_size\",help=\"Batch size used to train neural network.\",choices=['16','32','64'],default=32)\n",
        "parser.add_argument(\"-l\",\"--loss\",help=\"choices: ['mean_squared_error', 'cross_entropy']\",choices=['cross_entropy','mean_squared_error'],default='cross_entropy')\n",
        "parser.add_argument(\"-o\",\"--optimizer\",help=\"choices: ['sgd', 'momentum', 'nag', 'rmsprop', 'adam', 'nadam']\",choices=['sgd','momentum','nag','rmsprop','adam','nadam'],default='nadam')\n",
        "parser.add_argument(\"-lr\",\"--learning_rate\",help=\"Learning rate used to optimize model parameters\",choices=['1e-3','1e-4'],default='1e-3')\n",
        "parser.add_argument(\"-m\",\"--momentum\",help=\"Momentum used by momentum and nag optimizers.\",choices=['0.5'],default=0.5)\n",
        "parser.add_argument(\"-beta\",\"--beta\",help=\"Beta used by rmsprop optimizer\",choices=['0.5'],default=0.5)\n",
        "parser.add_argument(\"-beta1\",\"--beta1\",help=\"Beta1 used by adam and nadam optimizers.\",choices=['0.5'],default=0.5)\n",
        "parser.add_argument(\"-beta2\",\"--beta2\",help=\"Beta2 used by adam and nadam optimizers.\",choices=['0.5'],default=0.5)\n",
        "parser.add_argument(\"-eps\",\"--epsilon\",help=\"Epsilon used by optimizers.\",choices=['0.000001'],default=0.001)\n",
        "parser.add_argument(\"-w_d\",\"--weight_decay\",help=\"Weight decay used by optimizers.\",choices=['0','0.0005','0.5'],default=0)\n",
        "parser.add_argument(\"-w_i\",\"--weight_init\",help=\"choices: ['random', 'Xavier']\",choices=['random','Xavier'],default='Xavier')\n",
        "parser.add_argument(\"-nhl\",\"--num_layers\",help=\"Number of hidden layers used in feedforward neural network.\",choices=['3','4','5'],default=3)\n",
        "parser.add_argument(\"-sz\",\"--hidden_size\",help=\"Number of hidden neurons in a feedforward layer.\",choices=['32','64','128'],default=128)\n",
        "parser.add_argument(\"-a\",\"--activation\",help=\"choices: ['identity', 'sigmoid', 'tanh', 'ReLU']\",choices=['identity','sigmoid','tanh','ReLU'],default='ReLU')\n",
        "args = parser.parse_args()\n",
        "\n",
        "\n",
        "m_beta = args.beta\n",
        "rmsprop_beta = 0.9\n",
        "beta_1 = args.beta1\n",
        "beta_2 = args.beta2\n",
        "epsilon_ = args.epsilon\n",
        "wdc = args.weight_decay\n",
        "\n",
        "INPUT_KEY = 'input_size'\n",
        "OUTPUT_KEY = 'output_size'\n",
        "FUN_KEY = \"function\"\n",
        "\n",
        "#load the data----------------------------\n",
        "\n",
        "if args.dataset == 'fashion_mnist':\n",
        "    (train_X,train_Y),(test_X,test_Y) = fashion_mnist.load_data()\n",
        "else:\n",
        "    (train_X,train_Y),(test_X,test_Y) = mnist.load_data()\n",
        "\n",
        "\n",
        "train_X, test_X = train_X / 255.0, test_X / 255.0\n",
        "\n",
        "needed_y_train, needed_y_test = train_Y, test_Y\n",
        "\n",
        "# Split dataset into training and validation sets\n",
        "trainX, val_X, trainy, valy = train_test_split(train_X, train_Y, test_size=0.1, random_state=40)\n",
        "\n",
        "# Reshape images into 1D feature vectors\n",
        "trainX = trainX.reshape(trainX.shape[0], -1)\n",
        "testX = test_X.reshape(test_X.shape[0], -1)\n",
        "valX = val_X.reshape(val_X.shape[0], -1)\n",
        "\n",
        "# Adjust dataset size to be multiples of 128\n",
        "batch_size = 128\n",
        "trainX, testX, valX = (arr[:(len(arr) // batch_size) * batch_size] for arr in [trainX, testX, valX])\n",
        "trainy, test_Y, valy = (arr[:(len(arr) // batch_size) * batch_size] for arr in [trainy, test_Y, valy])\n",
        "\n",
        "# Convert class labels into one-hot encoded format\n",
        "trainy = map_data_with_classes(trainy)\n",
        "testy = map_data_with_classes(test_Y)\n",
        "valiy = map_data_with_classes(valy)\n",
        "\n",
        "# Determine input and output layer sizes\n",
        "input_layer_size = trainX.shape[1]\n",
        "output_layer_size = trainy.shape[1]\n",
        "\n",
        "# function to initialize the weights and biases\n",
        "def initialize_weights_and_biases(layers,number_hidden_layers = 1,init_type='random'):\n",
        "\n",
        "  weights ,biases = [],[]\n",
        "  OUTPUT_KEY = \"output_size\"\n",
        "  INPUT_KEY = \"input_size\"\n",
        "  if(init_type == 'random'):\n",
        "    for i in range(number_hidden_layers+1):\n",
        "      weights.append(np.random.normal(0,0.5,(layers[i][OUTPUT_KEY],layers[i][INPUT_KEY])))\n",
        "      biases.append(np.random.normal(0,0.5,(layers[i][OUTPUT_KEY],1)))\n",
        "  else:\n",
        "    # Xaviar\n",
        "    for i in range(number_hidden_layers+1):\n",
        "      right_x = np.sqrt(6/(layers[i][OUTPUT_KEY] + layers[i][INPUT_KEY]))\n",
        "      left_x = -1 * right_x\n",
        "      weights.append(np.random.uniform(left_x, right_x, size=(layers[i][OUTPUT_KEY], layers[i][INPUT_KEY])))\n",
        "      biases.append(np.random.uniform(left_x, right_x, size=(layers[i][OUTPUT_KEY], 1)))\n",
        "  return weights,biases\n",
        "\n",
        "\n",
        "def train_accuracy(batch_testy, y_predicted, trainy):\n",
        "\n",
        "    correct_count = 0\n",
        "\n",
        "    for i in range(len(batch_testy)):\n",
        "        for j in range(len(batch_testy[i])):\n",
        "            actual_label = np.argmax(batch_testy[i][j])\n",
        "            predicted_label = np.argmax(y_predicted[i][j])\n",
        "\n",
        "            if predicted_label == actual_label:\n",
        "                correct_count += 1\n",
        "\n",
        "    return correct_count / len(trainy)\n",
        "\n",
        "# calculate validation and test accuracy\n",
        "def test_accuracy(testX, testy, weights, biases, number_hidden_layers, activation_function, output_function):\n",
        "\n",
        "    _, activations = forward_propagation(testX, weights, biases, number_hidden_layers, activation_function, output_function)\n",
        "    y_pred = activations[-1]  # Get final layer activations\n",
        "    y_predicted = np.argmax(y_pred, axis=1)  # Convert probabilities to class indices\n",
        "\n",
        "    # Convert testy to class indices if one-hot encoded\n",
        "    if testy.ndim > 1 and testy.shape[1] > 1:\n",
        "        testy = np.argmax(testy, axis=1)\n",
        "\n",
        "    # Ensure both lists are of the same length\n",
        "    min_len = min(len(y_predicted), len(testy))\n",
        "    return np.mean(y_predicted[:min_len] == testy[:min_len])\n",
        "\n",
        "# calculating regularizing term that is to be added to loss\n",
        "def calculate_regularizing_term(y, weight_decay_const, number_hidden_layers, weights):\n",
        "\n",
        "    total_weight_sum = sum(np.sum(weight ** 2) for weight in weights)\n",
        "    return (weight_decay_const / (2 * len(y))) * total_weight_sum\n",
        "\n",
        "# calculating validation loss\n",
        "def val_loss(valX, valy, weights, biases, number_hidden_layers, activation_function, output_function, loss_function):\n",
        "\n",
        "\n",
        "    # Perform forward propagation\n",
        "    _, h = forward_propagation(valX, weights, biases, number_hidden_layers, activation_function, output_function)\n",
        "\n",
        "    # Retrieve the predicted values\n",
        "    y_pred = h[-1]\n",
        "\n",
        "    # Compute loss based on the chosen function\n",
        "    if loss_function == 'cross_entropy':\n",
        "        error = cross_entropy(y_pred, valy)\n",
        "    elif loss_function == 'mean_squared_error':\n",
        "        error = mean_squared_error(y_pred, valy)\n",
        "    else:\n",
        "        raise ValueError(\"Invalid loss function. Choose 'cross_entropy' or 'mean_squared_error'.\")\n",
        "\n",
        "    return error\n",
        "\n",
        "\n",
        "\n",
        "def forward_propagation(input_x, W, B, hidden_layers, activ_label, op_label):\n",
        "\n",
        "\n",
        "    # Initialize lists for activations and hidden states\n",
        "    a, h = [], []\n",
        "\n",
        "    # Reshape input if necessary\n",
        "    input_x = input_x.reshape(len(input_x), -1)\n",
        "\n",
        "    # Compute activations for first hidden layer\n",
        "    first_activation = np.dot(W[0], input_x.T) + B[0]\n",
        "    a.append(first_activation)\n",
        "    h.append(activation_functions(first_activation, activ_label))\n",
        "\n",
        "    # Forward propagate through hidden layers\n",
        "    for i in range(1, hidden_layers):\n",
        "        layer_activation = np.dot(W[i], h[i-1]) + B[i]\n",
        "        a.append(layer_activation)\n",
        "        h.append(activation_functions(layer_activation, activ_label))\n",
        "\n",
        "    # Compute activations for the output layer\n",
        "    output_activation = np.dot(W[hidden_layers], h[-1]) + B[hidden_layers]\n",
        "    final_output = activation_functions(output_activation.T, op_label).T\n",
        "    a.append(output_activation)\n",
        "    h.append(final_output)\n",
        "\n",
        "    # Ensure all activations are transposed for consistency\n",
        "    a = [activation.T for activation in a]\n",
        "    h = [hidden.T for hidden in h]\n",
        "\n",
        "    return a, h\n",
        "\n",
        "def backward_propagation(batch_trainy, batch_trainX, y_hat, activations, hidden_states, weights, num_hidden_layers, derivative_function='sigmoid'):\n",
        "\n",
        "\n",
        "    weight_gradients, bias_gradients, activation_gradients, hidden_gradients = {}, {}, {}, {}\n",
        "\n",
        "    # Reshape batch_trainy to ensure correct dimensions\n",
        "    batch_trainy = batch_trainy.reshape(batch_trainy.shape[0], batch_trainy.shape[1])\n",
        "\n",
        "    epsilon = 1e-8  # Small value to prevent division errors\n",
        "    last_activation_key = f'a{num_hidden_layers + 1}'\n",
        "    last_hidden_key = f'h{num_hidden_layers + 1}'\n",
        "\n",
        "    activation_gradients[last_activation_key] = -(batch_trainy - y_hat)\n",
        "    hidden_gradients[last_hidden_key] = -(batch_trainy / (y_hat + epsilon))\n",
        "\n",
        "    num_samples = len(batch_trainX)\n",
        "\n",
        "    # Backpropagation from output layer to first hidden layer\n",
        "    for layer in range(num_hidden_layers + 1, 1, -1):\n",
        "        weight_key = f'W{layer}'\n",
        "        bias_key = f'b{layer}'\n",
        "        activation_key = f'a{layer}'\n",
        "        prev_activation_key = f'a{layer - 1}'\n",
        "        prev_hidden_key = f'h{layer - 1}'\n",
        "\n",
        "        # Compute weight gradient\n",
        "        weight_gradients[weight_key] = np.dot(activation_gradients[activation_key].T, hidden_states[layer - 2])\n",
        "\n",
        "        # Apply L2 regularization\n",
        "        weight_gradients[weight_key] += (wdc * weights[layer - 1])\n",
        "        weight_gradients[weight_key] /= num_samples\n",
        "\n",
        "        # Compute bias gradient\n",
        "        bias_gradients[bias_key] = activation_gradients[activation_key]\n",
        "\n",
        "        # Compute hidden gradients and activation gradients\n",
        "        hidden_gradients[prev_hidden_key] = np.dot(weights[layer - 1].T, activation_gradients[activation_key].T)\n",
        "        activation_gradients[prev_activation_key] = np.multiply(hidden_gradients[prev_hidden_key], activation_derivative(activations[layer - 2].T, derivative_function))\n",
        "        activation_gradients[prev_activation_key] = activation_gradients[prev_activation_key].T\n",
        "\n",
        "    # Compute gradients for the first layer (no hidden gradients needed)\n",
        "    weight_gradients['W1'] = np.dot(activation_gradients['a1'].T, batch_trainX)\n",
        "    bias_gradients['b1'] = activation_gradients['a1']\n",
        "\n",
        "    # Normalize biases across samples\n",
        "    for layer in range(1, len(bias_gradients) + 1):\n",
        "        bias_key = f'b{layer}'\n",
        "        bias_gradients[bias_key] = np.mean(bias_gradients[bias_key], axis=0).reshape(-1, 1)\n",
        "\n",
        "    return weight_gradients, bias_gradients\n",
        "\n",
        "def gradient_descent(trainX, trainy, number_hidden_layers = 1, hidden_layer_size = 4, eta = 0.1, initial_weights = 'random', activation_function = 'sigmoid', epochs = 1, output_function = 'softmax', mini_batch_size=4,loss_function = 'cross_entropy',weight_decay_const=0,wandb_flag=False):\n",
        "  layers = []\n",
        "  layers.append({INPUT_KEY : input_layer_size, OUTPUT_KEY : hidden_layer_size, FUN_KEY : activation_function})\n",
        "  for i in range(number_hidden_layers-1):\n",
        "    layers.append({INPUT_KEY : hidden_layer_size, OUTPUT_KEY : hidden_layer_size, FUN_KEY : activation_function})\n",
        "  layers.append({INPUT_KEY : hidden_layer_size, OUTPUT_KEY : output_layer_size, FUN_KEY : output_function})\n",
        "\n",
        "#initialize weights and biases\n",
        "  weights,biases = initialize_weights_and_biases(layers,number_hidden_layers,initial_weights)\n",
        "  x_val = len(trainX)\n",
        "  number_batches = x_val/mini_batch_size\n",
        "\n",
        "  mini_batch_trainX,mini_batch_trainy = np.array(np.array_split(trainX, number_batches)),np.array(np.array_split(trainy, number_batches))\n",
        "\n",
        "  train_loss_list,  val_loss_list,  train_acc_list,  val_acc_list = [],[],[],[]\n",
        "  h=None\n",
        "  for j in range(epochs):\n",
        "    tloss,vloss = 0,0\n",
        "    y_predicted = []\n",
        "    for k in range(len(mini_batch_trainX)):\n",
        "      a,h = forward_propagation(mini_batch_trainX[k],weights,biases,number_hidden_layers, activation_function, output_function)\n",
        "      y_predicted.append(h[-1])\n",
        "\n",
        "      if loss_function == 'cross_entropy':\n",
        "        tloss += cross_entropy(h[-1],mini_batch_trainy[k])\n",
        "      elif loss_function == 'mean_squared_error':\n",
        "        tloss += mean_squared_error( h[-1],mini_batch_trainy[k])\n",
        "      else:\n",
        "        print('wrong loss function')\n",
        "\n",
        "      del_W,del_b = backward_propagation(mini_batch_trainy[k],mini_batch_trainX[k],h[-1],a,h,weights,number_hidden_layers ,activation_function)\n",
        "\n",
        "      for i in range(len(weights)):\n",
        "        keyW = 'W'+str(i+1)\n",
        "        keyB = 'b'+str(i+1)\n",
        "        weights[i] -=  (del_W[keyW]*eta)\n",
        "        biases[i] -= (del_b[keyB]*eta)\n",
        "    reg_term_train = calculate_regularizing_term(trainy,weight_decay_const,number_hidden_layers,weights)\n",
        "    tr_loss = tloss/number_batches + reg_term_train\n",
        "    vloss = val_loss(valX,valiy,weights,biases,number_hidden_layers,activation_function,output_function,loss_function)\n",
        "    reg_term_val = calculate_regularizing_term(valiy,weight_decay_const,number_hidden_layers,weights)\n",
        "    vloss = vloss + reg_term_val\n",
        "    print(\"epoch : \",j+1,\" validation loss : \",vloss)\n",
        "\n",
        "    train_loss_list.append(tr_loss)\n",
        "    val_loss_list.append(vloss)\n",
        "    train_acc = train_accuracy(mini_batch_trainy,y_predicted,trainy)\n",
        "    train_acc_list.append(train_acc)\n",
        "    val_acc = test_accuracy(valX,valy,weights,biases,number_hidden_layers,activation_function,output_function)\n",
        "    val_acc_list.append(val_acc)\n",
        "\n",
        "    if wandb_flag == True:\n",
        "      wandb.log({\"loss\":tr_loss,\"val_loss\":vloss,\"accuracy\":train_acc,\"val_accuracy\":val_acc,\"epoch\":j})\n",
        "\n",
        "  plot_lists = [train_loss_list,val_loss_list,train_acc_list,val_acc_list]\n",
        "  return h[-1],weights,biases,plot_lists\n",
        "\n",
        "\n",
        "\n",
        "def momentum_based_gradient_descent(trainX, trainy, number_hidden_layers=1, hidden_layer_size=4, eta=0.1, initial_weights='random', activation_function='sigmoid', epochs=1, output_function='softmax', mini_batch_size=4, loss_function='cross_entropy', weight_decay_const=0, wandb_flag=False, m_beta=0.9):\n",
        "\n",
        "    # Define layer configurations\n",
        "    layers = []\n",
        "    input_layer = {'input_size': trainX.shape[1], 'output_size': hidden_layer_size, 'activation': activation_function}\n",
        "    layers.append(input_layer)\n",
        "\n",
        "    for _ in range(number_hidden_layers - 1):\n",
        "        hidden_layer = {'input_size': hidden_layer_size, 'output_size': hidden_layer_size, 'activation': activation_function}\n",
        "        layers.append(hidden_layer)\n",
        "\n",
        "    output_layer = {'input_size': hidden_layer_size, 'output_size': trainy.shape[1], 'activation': output_function}\n",
        "    layers.append(output_layer)\n",
        "\n",
        "    # Initialize weights and biases\n",
        "    weights, biases = initialize_weights_and_biases(layers,number_hidden_layers, initial_weights)\n",
        "\n",
        "    # Split data into mini-batches\n",
        "    num_batches = len(trainX) // mini_batch_size\n",
        "    mini_batches_X = np.array_split(trainX, num_batches)\n",
        "    mini_batches_y = np.array_split(trainy, num_batches)\n",
        "\n",
        "    # Initialize momentum terms\n",
        "    momentum_weights = [np.zeros_like(w) for w in weights]\n",
        "    momentum_biases = [np.zeros_like(b) for b in biases]\n",
        "\n",
        "    # Lists to store training and validation metrics\n",
        "    train_losses, val_losses, train_accuracies, val_accuracies = [], [], [], []\n",
        "\n",
        "    # Training loop\n",
        "    for epoch in range(epochs):\n",
        "        epoch_loss = 0\n",
        "        predictions = []\n",
        "\n",
        "        for batch_X, batch_y in zip(mini_batches_X, mini_batches_y):\n",
        "            # Forward propagation\n",
        "            activations, hidden_states = forward_propagation(batch_X, weights, biases, number_hidden_layers, activation_function, output_function)\n",
        "            predictions.append(hidden_states[-1])\n",
        "\n",
        "            # Compute loss\n",
        "            if loss_function == 'cross_entropy':\n",
        "                batch_loss = cross_entropy(hidden_states[-1], batch_y)\n",
        "            elif loss_function == 'mean_squared_error':\n",
        "                batch_loss = mean_squared_error(hidden_states[-1], batch_y)\n",
        "            else:\n",
        "                raise ValueError(\"Unsupported loss function\")\n",
        "\n",
        "            epoch_loss += batch_loss\n",
        "\n",
        "            # Backward propagation\n",
        "            grad_weights, grad_biases = backward_propagation(batch_y, batch_X, hidden_states[-1], activations, hidden_states, weights, number_hidden_layers, activation_function)\n",
        "\n",
        "            # Update weights and biases with momentum\n",
        "            for i in range(len(weights)):\n",
        "                # Access gradients using keys (e.g., 'W1', 'b1', 'W2', 'b2', etc.)\n",
        "                keyW = 'W' + str(i + 1)\n",
        "                keyB = 'b' + str(i + 1)\n",
        "\n",
        "                # Momentum update for weights\n",
        "                momentum_weights[i] = momentum_weights[i] * m_beta + grad_weights[keyW] * eta\n",
        "                weights[i] -= momentum_weights[i]\n",
        "\n",
        "                # Momentum update for biases\n",
        "                momentum_biases[i] = momentum_biases[i] * m_beta + grad_biases[keyB] * eta\n",
        "                biases[i] -= momentum_biases[i]\n",
        "\n",
        "        # Calculate training accuracy and loss\n",
        "        train_acc = train_accuracy(mini_batches_y,predictions,trainy)\n",
        "        reg_term_train = calculate_regularizing_term(trainy,weight_decay_const,number_hidden_layers ,weights)\n",
        "        avg_train_loss = epoch_loss / num_batches + reg_term_train\n",
        "\n",
        "        # Calculate validation accuracy and loss\n",
        "        val_acc = test_accuracy(valX, valiy, weights, biases, number_hidden_layers, activation_function, output_function)\n",
        "        val_loss_value = val_loss(valX, valiy, weights, biases, number_hidden_layers, activation_function, output_function, loss_function)\n",
        "        reg_term_val = calculate_regularizing_term(valiy,weight_decay_const ,number_hidden_layers, weights)\n",
        "        val_loss_value += reg_term_val\n",
        "\n",
        "        # Store metrics\n",
        "        train_losses.append(avg_train_loss)\n",
        "        val_losses.append(val_loss_value)\n",
        "        train_accuracies.append(train_acc)\n",
        "        val_accuracies.append(val_acc)\n",
        "\n",
        "        # Log metrics if wandb is enabled\n",
        "        if wandb_flag:\n",
        "            wandb.log({\n",
        "                \"loss\": avg_train_loss,\n",
        "                \"val_loss\": val_loss_value,\n",
        "                \"accuracy\": train_acc,\n",
        "                \"val_accuracy\": val_acc,\n",
        "                \"epoch\": epoch\n",
        "            })\n",
        "\n",
        "        print(f\"Epoch: {epoch + 1}, Validation Loss: {val_loss_value}\")\n",
        "\n",
        "    # Return final predictions, weights, biases, and metrics\n",
        "    return hidden_states[-1], weights, biases, [train_losses, val_losses, train_accuracies, val_accuracies]\n",
        "\n",
        "\n",
        "\n",
        "\n",
        "\n",
        "def nestrov_accelerated_gradient_descent(trainX, trainy, number_hidden_layers=1, hidden_layer_size=4, eta=0.1,\n",
        "                                         initial_weights='random', activation_function='sigmoid', epochs=1,\n",
        "                                         output_function='softmax', mini_batch_size=4, loss_function='cross_entropy',\n",
        "                                         weight_decay_const=0, wandb_flag=False):\n",
        "    \"\"\"\n",
        "    Implements Nesterov Accelerated Gradient Descent (NAG) for neural network optimization.\n",
        "    \"\"\"\n",
        "    # Define network layers dynamically\n",
        "    layers = [{INPUT_KEY: input_layer_size, OUTPUT_KEY: hidden_layer_size, FUN_KEY: activation_function}]\n",
        "    layers.extend([{INPUT_KEY: hidden_layer_size, OUTPUT_KEY: hidden_layer_size, FUN_KEY: activation_function}\n",
        "                   for _ in range(number_hidden_layers - 1)])\n",
        "    layers.append({INPUT_KEY: hidden_layer_size, OUTPUT_KEY: output_layer_size, FUN_KEY: output_function})\n",
        "\n",
        "    # Initialize weights and biases\n",
        "    weights, biases = initialize_weights_and_biases(layers, number_hidden_layers, initial_weights)\n",
        "\n",
        "    # Determine batch processing details\n",
        "    num_samples = len(trainX)\n",
        "    num_batches = num_samples // mini_batch_size\n",
        "    mini_batches_X = np.array_split(trainX, num_batches)\n",
        "    mini_batches_y = np.array_split(trainy, num_batches)\n",
        "\n",
        "    # Initialize past gradients for momentum update\n",
        "    momentum_weights = [np.zeros_like(w) for w in weights]\n",
        "    momentum_biases = [np.zeros_like(b) for b in biases]\n",
        "\n",
        "    # Lists to track training progress\n",
        "    loss_train, loss_val, acc_train, acc_val = [], [], [], []\n",
        "\n",
        "    for epoch in range(epochs):\n",
        "        total_loss = 0\n",
        "        y_predictions = []\n",
        "\n",
        "        for batch_X, batch_y in zip(mini_batches_X, mini_batches_y):\n",
        "            # Compute lookahead weights and biases\n",
        "            lookahead_W = [weights[i] - (m_beta * momentum_weights[i]) for i in range(len(weights))]\n",
        "            lookahead_B = [biases[i] - (m_beta * momentum_biases[i]) for i in range(len(biases))]\n",
        "\n",
        "            activations, h_states = forward_propagation(batch_X, lookahead_W, lookahead_B, number_hidden_layers, activation_function, output_function)\n",
        "            y_predictions.append(h_states[-1])\n",
        "\n",
        "            # Compute loss\n",
        "            total_loss += cross_entropy(h_states[-1], batch_y) if loss_function == 'cross_entropy' else mean_squared_error(h_states[-1], batch_y)\n",
        "\n",
        "            # Compute gradients\n",
        "            grad_W, grad_B = backward_propagation(batch_y, batch_X, h_states[-1], activations, h_states, lookahead_W, number_hidden_layers, activation_function)\n",
        "\n",
        "            # Apply Nesterov update\n",
        "            for i in range(len(weights)):\n",
        "                momentum_weights[i] = (m_beta * momentum_weights[i]) + (eta * grad_W[f'W{i+1}'])\n",
        "                momentum_biases[i] = (m_beta * momentum_biases[i]) + (eta * grad_B[f'b{i+1}'])\n",
        "\n",
        "                weights[i] -= momentum_weights[i]\n",
        "                biases[i] -= momentum_biases[i]\n",
        "\n",
        "        # Compute regularized loss\n",
        "        reg_term_train = calculate_regularizing_term(trainy, weight_decay_const, number_hidden_layers, weights)\n",
        "        avg_train_loss = (total_loss / num_batches) + reg_term_train\n",
        "\n",
        "        # Validation loss calculation\n",
        "        val_loss_value = val_loss(valX, valiy, weights, biases, number_hidden_layers, activation_function, output_function, loss_function)\n",
        "        val_loss_value += calculate_regularizing_term(valiy, weight_decay_const, number_hidden_layers, weights)\n",
        "\n",
        "        print(f\"Epoch {epoch + 1}: Validation Loss = {val_loss_value:.4f}\")\n",
        "\n",
        "        # Compute accuracy metrics\n",
        "        train_acc = train_accuracy(mini_batches_y, y_predictions, trainy)\n",
        "        val_acc = test_accuracy(valX, valy, weights, biases, number_hidden_layers, activation_function, output_function)\n",
        "\n",
        "        # Store metrics\n",
        "        loss_train.append(avg_train_loss)\n",
        "        loss_val.append(val_loss_value)\n",
        "        acc_train.append(train_acc)\n",
        "        acc_val.append(val_acc)\n",
        "\n",
        "        # Log metrics if W&B logging is enabled\n",
        "        if wandb_flag:\n",
        "            wandb.log({\"loss\": avg_train_loss, \"val_loss\": val_loss_value, \"accuracy\": train_acc, \"val_accuracy\": val_acc, \"epoch\": epoch + 1})\n",
        "\n",
        "    return h_states[-1], weights, biases, [loss_train, loss_val, acc_train, acc_val]\n",
        "\n",
        "\n",
        "def rmsprop(trainX, trainy, number_hidden_layers=1, hidden_layer_size=4, eta=0.1, initial_weights='random',\n",
        "            activation_function='sigmoid', epochs=1, output_function='softmax', mini_batch_size=4,\n",
        "            loss_function='cross_entropy', weight_decay_const=0, wandb_flag=False):\n",
        "\n",
        "    layers = [{INPUT_KEY: input_layer_size, OUTPUT_KEY: hidden_layer_size, FUN_KEY: activation_function}]\n",
        "    layers.extend([{INPUT_KEY: hidden_layer_size, OUTPUT_KEY: hidden_layer_size, FUN_KEY: activation_function}\n",
        "                   for _ in range(number_hidden_layers - 1)])\n",
        "    layers.append({INPUT_KEY: hidden_layer_size, OUTPUT_KEY: output_layer_size, FUN_KEY: output_function})\n",
        "\n",
        "    # Initialize weights and biases\n",
        "    weights, biases = initialize_weights_and_biases(layers, number_hidden_layers, initial_weights)\n",
        "\n",
        "    # Determine batch processing details\n",
        "    num_samples = len(trainX)\n",
        "    num_batches = num_samples // mini_batch_size\n",
        "    mini_batches_X = np.array_split(trainX, num_batches)\n",
        "    mini_batches_y = np.array_split(trainy, num_batches)\n",
        "\n",
        "    # RMSProp accumulators\n",
        "    v_weights = [np.zeros_like(w) for w in weights]\n",
        "    v_biases = [np.zeros_like(b) for b in biases]\n",
        "\n",
        "    train_loss_list, val_loss_list, train_acc_list, val_acc_list = [], [], [], []\n",
        "    for epoch in range(epochs):\n",
        "        epoch_loss = 0\n",
        "        y_preds = []\n",
        "\n",
        "        for batch_X, batch_y in zip(mini_batches_X, mini_batches_y):\n",
        "            activations, h_states = forward_propagation(batch_X, weights, biases, number_hidden_layers, activation_function, output_function)\n",
        "            y_preds.append(h_states[-1])\n",
        "\n",
        "            # Compute loss\n",
        "            epoch_loss += cross_entropy(h_states[-1], batch_y) if loss_function == 'cross_entropy' else mean_squared_error(h_states[-1], batch_y)\n",
        "\n",
        "            # Backpropagation\n",
        "            del_W, del_b = backward_propagation(batch_y, batch_X, h_states[-1], activations, h_states, weights, number_hidden_layers, activation_function)\n",
        "\n",
        "            # RMSProp weight update\n",
        "            for i in range(len(weights)):\n",
        "                v_weights[i] = rmsprop_beta * v_weights[i] + (1 - rmsprop_beta) * (del_W[f'W{i+1}'] ** 2)\n",
        "                v_biases[i] = rmsprop_beta * v_biases[i] + (1 - rmsprop_beta) * (del_b[f'b{i+1}'] ** 2)\n",
        "\n",
        "                weights[i] -= eta * del_W[f'W{i+1}'] / (np.sqrt(v_weights[i] + epsilon_))\n",
        "                biases[i] -= eta * del_b[f'b{i+1}'] / (np.sqrt(v_biases[i] + epsilon_))\n",
        "\n",
        "        # Compute loss & accuracy\n",
        "        train_loss = (epoch_loss / num_batches) + calculate_regularizing_term(trainy, weight_decay_const, number_hidden_layers, weights)\n",
        "        val_loss_value = val_loss(valX, valiy, weights, biases, number_hidden_layers, activation_function, output_function, loss_function)\n",
        "        val_loss_value += calculate_regularizing_term(valiy, weight_decay_const, number_hidden_layers, weights)\n",
        "\n",
        "        print(f\"Epoch {epoch+1}: Validation Loss = {val_loss_value:.4f}\")\n",
        "\n",
        "        # Accuracy Calculation\n",
        "        train_acc_list.append(train_accuracy(mini_batches_y, y_preds, trainy))\n",
        "        val_acc_list.append(test_accuracy(valX, valy, weights, biases, number_hidden_layers, activation_function, output_function))\n",
        "        train_loss_list.append(train_loss)\n",
        "        val_loss_list.append(val_loss_value)\n",
        "\n",
        "        if wandb_flag:\n",
        "            wandb.log({\"loss\": train_loss, \"val_loss\": val_loss_value, \"accuracy\": train_acc_list[-1], \"val_accuracy\": val_acc_list[-1], \"epoch\": epoch+1})\n",
        "\n",
        "    return h_states[-1], weights, biases, [train_loss_list, val_loss_list, train_acc_list, val_acc_list]\n",
        "\n",
        "def adam(trainX, trainy, number_hidden_layers=1, hidden_layer_size=4, eta=0.1, initial_weights='random',\n",
        "         activation_function='sigmoid', epochs=1, output_function='softmax', mini_batch_size=4,\n",
        "         loss_function='cross_entropy', weight_decay_const=0, wandb_flag=False):\n",
        "\n",
        "    layers = [{INPUT_KEY: input_layer_size, OUTPUT_KEY: hidden_layer_size, FUN_KEY: activation_function}]\n",
        "    layers.extend([{INPUT_KEY: hidden_layer_size, OUTPUT_KEY: hidden_layer_size, FUN_KEY: activation_function}\n",
        "                   for _ in range(number_hidden_layers - 1)])\n",
        "    layers.append({INPUT_KEY: hidden_layer_size, OUTPUT_KEY: output_layer_size, FUN_KEY: output_function})\n",
        "\n",
        "    # Initialize weights and biases\n",
        "    weights, biases = initialize_weights_and_biases(layers, number_hidden_layers, initial_weights)\n",
        "\n",
        "    # Determine batch processing details\n",
        "    num_samples = len(trainX)\n",
        "    num_batches = num_samples // mini_batch_size\n",
        "    mini_batches_X = np.array_split(trainX, num_batches)\n",
        "    mini_batches_y = np.array_split(trainy, num_batches)\n",
        "\n",
        "    # Adam accumulators\n",
        "    v_weights, v_biases = [np.zeros_like(w) for w in weights], [np.zeros_like(b) for b in biases]\n",
        "    m_weights, m_biases = [np.zeros_like(w) for w in weights], [np.zeros_like(b) for b in biases]\n",
        "\n",
        "    train_loss_list, val_loss_list, train_acc_list, val_acc_list = [], [], [], []\n",
        "    time_step = 0\n",
        "\n",
        "    for epoch in range(epochs):\n",
        "        epoch_loss = 0\n",
        "        y_preds = []\n",
        "\n",
        "        for batch_X, batch_y in zip(mini_batches_X,mini_batches_y):\n",
        "            time_step += 1\n",
        "            activations, h_states = forward_propagation(batch_X, weights, biases, number_hidden_layers, activation_function, output_function)\n",
        "            y_preds.append(h_states[-1])\n",
        "\n",
        "            # Compute loss\n",
        "            epoch_loss += cross_entropy(h_states[-1], batch_y) if loss_function == 'cross_entropy' else mean_squared_error(h_states[-1], batch_y)\n",
        "\n",
        "            # Backpropagation\n",
        "            del_W, del_b = backward_propagation(batch_y, batch_X, h_states[-1], activations, h_states, weights, number_hidden_layers, activation_function)\n",
        "\n",
        "            # Adam weight update\n",
        "            for i in range(len(weights)):\n",
        "                m_weights[i] = beta_1 * m_weights[i] + (1 - beta_1) * del_W[f'W{i+1}']\n",
        "                m_biases[i] = beta_1 * m_biases[i] + (1 - beta_1) * del_b[f'b{i+1}']\n",
        "\n",
        "                v_weights[i] = beta_2 * v_weights[i] + (1 - beta_2) * (del_W[f'W{i+1}'] ** 2)\n",
        "                v_biases[i] = beta_2 * v_biases[i] + (1 - beta_2) * (del_b[f'b{i+1}'] ** 2)\n",
        "\n",
        "                # Bias correction\n",
        "                m_hat_w, v_hat_w = m_weights[i] / (1 - beta_1 ** time_step), v_weights[i] / (1 - beta_2 ** time_step)\n",
        "                m_hat_b, v_hat_b = m_biases[i] / (1 - beta_1 ** time_step), v_biases[i] / (1 - beta_2 ** time_step)\n",
        "\n",
        "                weights[i] -= eta * m_hat_w / (np.sqrt(v_hat_w) + epsilon_)\n",
        "                biases[i] -= eta * m_hat_b / (np.sqrt(v_hat_b) + epsilon_)\n",
        "\n",
        "        # Compute loss & accuracy\n",
        "        train_loss = (epoch_loss / num_batches) + calculate_regularizing_term(trainy, weight_decay_const, number_hidden_layers, weights)\n",
        "        val_loss_value = val_loss(valX, valiy, weights, biases, number_hidden_layers, activation_function, output_function, loss_function)\n",
        "        val_loss_value += calculate_regularizing_term(valiy, weight_decay_const, number_hidden_layers, weights)\n",
        "\n",
        "        print(f\"Epoch {epoch+1}: Validation Loss = {val_loss_value:.4f}\")\n",
        "\n",
        "        # Store accuracy\n",
        "        train_acc_list.append(train_accuracy(mini_batches_y, y_preds, trainy))\n",
        "        val_acc_list.append(test_accuracy(valX, valy, weights, biases, number_hidden_layers, activation_function, output_function))\n",
        "\n",
        "        if wandb_flag:\n",
        "            wandb.log({\"loss\": train_loss, \"val_loss\": val_loss_value, \"accuracy\": train_acc_list[-1], \"val_accuracy\": val_acc_list[-1], \"epoch\": epoch+1})\n",
        "\n",
        "    return h_states[-1], weights, biases, [train_loss_list, val_loss_list, train_acc_list, val_acc_list]\n",
        "\n",
        "def nadam(trainX, trainy, number_hidden_layers=1, hidden_layer_size=4, eta=0.1, initial_weights='random',\n",
        "          activation_function='sigmoid', epochs=1, output_function='softmax', mini_batch_size=4,\n",
        "          loss_function='cross_entropy', weight_decay_const=0, wandb_flag=False):\n",
        "\n",
        "    # Define network layers dynamically\n",
        "    layers = [{INPUT_KEY: input_layer_size, OUTPUT_KEY: hidden_layer_size, FUN_KEY: activation_function}]\n",
        "    layers.extend([{INPUT_KEY: hidden_layer_size, OUTPUT_KEY: hidden_layer_size, FUN_KEY: activation_function}\n",
        "                   for _ in range(number_hidden_layers - 1)])\n",
        "    layers.append({INPUT_KEY: hidden_layer_size, OUTPUT_KEY: output_layer_size, FUN_KEY: output_function})\n",
        "\n",
        "    # Initialize weights and biases\n",
        "    weights, biases = initialize_weights_and_biases(layers, number_hidden_layers, initial_weights)\n",
        "\n",
        "    # Determine batch processing details\n",
        "    num_samples = len(trainX)\n",
        "    num_batches = num_samples // mini_batch_size\n",
        "    mini_batches_X = np.array_split(trainX, num_batches)\n",
        "    mini_batches_y = np.array_split(trainy, num_batches)\n",
        "\n",
        "    # Initialize moving averages for Nadam\n",
        "    v_weights, v_biases = [np.zeros_like(w) for w in weights], [np.zeros_like(b) for b in biases]\n",
        "    m_weights, m_biases = [np.zeros_like(w) for w in weights], [np.zeros_like(b) for b in biases]\n",
        "\n",
        "    train_loss_list, val_loss_list, train_acc_list, val_acc_list = [], [], [], []\n",
        "    beta_1, beta_2, epsilon = 0.9, 0.999, 1e-3\n",
        "    t = 0  # Step counter\n",
        "\n",
        "    for epoch in range(epochs):\n",
        "        total_train_loss = 0\n",
        "        y_preds = []\n",
        "\n",
        "        for X_batch, y_batch in zip(mini_batches_X,mini_batches_y):\n",
        "            t += 1  # Increment time step\n",
        "\n",
        "            # Compute bias-corrected moving averages\n",
        "            v_hat_weights = [v / (1 - beta_2 ** t) for v in v_weights]\n",
        "            v_hat_biases = [v / (1 - beta_2 ** t) for v in v_biases]\n",
        "\n",
        "            m_hat_weights = [m / (1 - beta_1 ** t) for m in m_weights]\n",
        "            m_hat_biases = [m / (1 - beta_1 ** t) for m in m_biases]\n",
        "\n",
        "            # Compute \"lookahead\" weights & biases\n",
        "            lookahead_weights = [weights[i] - (m_hat_weights[i] / np.sqrt(v_hat_weights[i] + epsilon)) * eta\n",
        "                                 for i in range(len(weights))]\n",
        "            lookahead_biases = [biases[i] - (m_hat_biases[i] / np.sqrt(v_hat_biases[i] + epsilon)) * eta\n",
        "                                for i in range(len(biases))]\n",
        "\n",
        "            # Forward propagation\n",
        "            activations, outputs = forward_propagation(X_batch, lookahead_weights, lookahead_biases, number_hidden_layers, activation_function, output_function)\n",
        "            y_preds.append(outputs[-1])\n",
        "\n",
        "            # Compute loss\n",
        "            loss_func = cross_entropy if loss_function == 'cross_entropy' else mean_squared_error\n",
        "            total_train_loss += loss_func(outputs[-1], y_batch)\n",
        "\n",
        "            # Backpropagation\n",
        "            grad_W, grad_B = backward_propagation(y_batch, X_batch, outputs[-1], activations, outputs, lookahead_weights, number_hidden_layers, activation_function)\n",
        "\n",
        "            # Update moving averages & apply Nadam update rule\n",
        "            for i in range(len(weights)):\n",
        "                v_weights[i] = beta_2 * v_weights[i] + (1 - beta_2) * (grad_W[f'W{i+1}'] ** 2)\n",
        "                v_biases[i] = beta_2 * v_biases[i] + (1 - beta_2) * (grad_B[f'b{i+1}'] ** 2)\n",
        "\n",
        "                m_weights[i] = beta_1 * m_weights[i] + (1 - beta_1) * grad_W[f'W{i+1}']\n",
        "                m_biases[i] = beta_1 * m_biases[i] + (1 - beta_1) * grad_B[f'b{i+1}']\n",
        "\n",
        "                v_hat_w, v_hat_b = v_weights[i] / (1 - beta_2 ** t), v_biases[i] / (1 - beta_2 ** t)\n",
        "                m_hat_w, m_hat_b = m_weights[i] / (1 - beta_1 ** t), m_biases[i] / (1 - beta_1 ** t)\n",
        "\n",
        "                weights[i] -= (m_hat_w * eta) / np.sqrt(v_hat_w + epsilon)\n",
        "                biases[i] -= (m_hat_b * eta) / np.sqrt(v_hat_b + epsilon)\n",
        "\n",
        "        # Compute losses with regularization\n",
        "        reg_train = calculate_regularizing_term(trainy, weight_decay_const, number_hidden_layers, weights)\n",
        "        avg_train_loss = total_train_loss / num_batches + reg_train\n",
        "        val_loss_value = val_loss(valX, valiy, weights, biases, number_hidden_layers, activation_function, output_function, loss_function)\n",
        "        val_loss_value += calculate_regularizing_term(valiy, weight_decay_const, number_hidden_layers, weights)\n",
        "\n",
        "        print(f\"Epoch {epoch + 1}: Validation Loss = {val_loss_value:.4f}\")\n",
        "\n",
        "        # Compute accuracy\n",
        "        train_acc_list.append(train_accuracy(mini_batches_y, y_preds, trainy))\n",
        "        val_acc_list.append(test_accuracy(valX, valy, weights, biases, number_hidden_layers, activation_function, output_function))\n",
        "\n",
        "        # Store metrics\n",
        "        train_loss_list.append(avg_train_loss)\n",
        "        val_loss_list.append(val_loss_value)\n",
        "\n",
        "        if wandb_flag:\n",
        "            wandb.log({\n",
        "                \"loss\": avg_train_loss,\n",
        "                \"val_loss\": val_loss_value,\n",
        "                \"accuracy\": train_acc_list[-1],\n",
        "                \"val_accuracy\": val_acc_list[-1],\n",
        "                \"epoch\": epoch + 1\n",
        "            })\n",
        "\n",
        "    return outputs[-1], weights, biases, [train_loss_list, val_loss_list, train_acc_list, val_acc_list]\n",
        "\n",
        "\n",
        "\n",
        "def train(trainX, trainy, textX, testy, number_hidden_layers, hidden_layer_size, eta, init_type, activation_function,\n",
        "          epochs, mini_batch_size, loss_function, optimizer, output_function, weight_decay_const, wandb_flag=False):\n",
        "\n",
        "    wdc = weight_decay_const\n",
        "\n",
        "    optimizer_functions = {\n",
        "        'sgd': gradient_descent,\n",
        "        'momentum': momentum_based_gradient_descent,\n",
        "        'nag': nestrov_accelerated_gradient_descent,\n",
        "        'rmsprop': rmsprop,\n",
        "        'adam': adam,\n",
        "        'nadam': nadam\n",
        "    }\n",
        "\n",
        "    if optimizer not in optimizer_functions:\n",
        "        raise ValueError(f\"Invalid optimizer: {optimizer}. Choose from {list(optimizer_functions.keys())}.\")\n",
        "\n",
        "    hL, weights, biases, plot_list = optimizer_functions[optimizer](\n",
        "        trainX, trainy, number_hidden_layers, hidden_layer_size, eta, init_type, activation_function, epochs,\n",
        "        output_function, mini_batch_size, loss_function, wdc, wandb_flag\n",
        "    )\n",
        "\n",
        "    return [weights, biases, number_hidden_layers, activation_function, output_function]\n",
        "\n",
        "if type(args.num_layers)==str:\n",
        "  args.num_layers = int(args.num_layers)\n",
        "if type(args.hidden_size)==str:\n",
        "  args.hidden_size = int(args.hidden_size)\n",
        "if type(args.learning_rate)==str:\n",
        "  args.learning_rate = float(args.learning_rate)\n",
        "if type(args.epochs)==str:\n",
        "  args.epochs = int(args.epochs)\n",
        "if type(args.batch_size)==str:\n",
        "  args.batch_size = int(args.batch_size)\n",
        "if type(args.weight_decay)==str:\n",
        "  args.weight_decay = int(args.weight_decay)\n",
        "\n",
        "run = wandb.init(project=args.wandb_project,entity=args.wandb_entity)\n",
        "params = train(trainX=trainX,\n",
        "    trainy=trainy,\n",
        "    textX=testX,\n",
        "    testy=needed_y_test,\n",
        "    number_hidden_layers=args.num_layers,\n",
        "    hidden_layer_size=args.hidden_size,\n",
        "    eta=args.learning_rate,\n",
        "    init_type=args.weight_init,\n",
        "    activation_function=args.activation,\n",
        "    epochs=args.epochs,\n",
        "    mini_batch_size=args.batch_size,\n",
        "    loss_function=args.loss,\n",
        "    optimizer=args.optimizer,\n",
        "    output_function='softmax',\n",
        "    weight_decay_const=args.weight_decay,\n",
        "    wandb_flag=True)\n",
        "\n",
        "test_ac = test_accuracy(testX,needed_y_test,params[0],params[1],params[2],params[3],params[4])\n",
        "\n",
        "print(\"Test accuracy on the model = \", test_ac*100,'%')\n",
        "wandb.save()\n",
        "wandb.finish()\n"
      ],
      "metadata": {
        "colab": {
          "base_uri": "https://localhost:8080/",
          "height": 233
        },
        "id": "R2lxpERVES-T",
        "outputId": "127bf23e-03b0-417a-b953-7a3b5c7f94f0"
      },
      "execution_count": 2,
      "outputs": [
        {
          "output_type": "stream",
          "name": "stderr",
          "text": [
            "usage: colab_kernel_launcher.py [-h] [-wp WANDB_PROJECT] [-we WANDB_ENTITY]\n",
            "                                [-d {mnist,fashion_mnist}] [-e {5,10}] [-b {16,32,64}]\n",
            "                                [-l {cross_entropy,mean_squared_error}]\n",
            "                                [-o {sgd,momentum,nag,rmsprop,adam,nadam}] [-lr {1e-3,1e-4}]\n",
            "                                [-m {0.5}] [-beta {0.5}] [-beta1 {0.5}] [-beta2 {0.5}]\n",
            "                                [-eps {0.000001}] [-w_d {0,0.0005,0.5}] [-w_i {random,Xavier}]\n",
            "                                [-nhl {3,4,5}] [-sz {32,64,128}] [-a {identity,sigmoid,tanh,ReLU}]\n",
            "colab_kernel_launcher.py: error: unrecognized arguments: -f /root/.local/share/jupyter/runtime/kernel-124d94a7-0e0f-4c94-9d09-3ae98f86a4b7.json\n"
          ]
        },
        {
          "output_type": "error",
          "ename": "SystemExit",
          "evalue": "2",
          "traceback": [
            "An exception has occurred, use %tb to see the full traceback.\n",
            "\u001b[0;31mSystemExit\u001b[0m\u001b[0;31m:\u001b[0m 2\n"
          ]
        }
      ]
    },
    {
      "cell_type": "code",
      "source": [],
      "metadata": {
        "id": "Ya2Bx8BNEThv"
      },
      "execution_count": null,
      "outputs": []
    }
  ],
  "metadata": {
    "colab": {
      "provenance": [],
      "include_colab_link": true
    },
    "kernelspec": {
      "display_name": "Python 3",
      "name": "python3"
    },
    "language_info": {
      "name": "python"
    }
  },
  "nbformat": 4,
  "nbformat_minor": 0
}